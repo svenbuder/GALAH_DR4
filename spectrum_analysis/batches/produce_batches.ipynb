{
 "cells": [
  {
   "cell_type": "code",
   "execution_count": 66,
   "id": "570d98a6",
   "metadata": {},
   "outputs": [],
   "source": [
    "# Preamble \n",
    "try:\n",
    "    %matplotlib inline\n",
    "    %config InlineBackend.figure_format='retina'\n",
    "except:\n",
    "    pass\n",
    "\n",
    "import numpy as np\n",
    "from astropy.table import Table, join, hstack, vstack\n",
    "from astropy.io import fits"
   ]
  },
  {
   "cell_type": "code",
   "execution_count": 67,
   "id": "7d2078a6",
   "metadata": {},
   "outputs": [],
   "source": [
    "irafdr60 = Table.read('../../auxiliary_information/dr6.0.fits')\n",
    "# We need the stars to have Gaia source_id\n",
    "irafdr60['gaia_id'][irafdr60['gaia_id'] == 'None'] = -1\n",
    "irafdr60['source_id'] = np.array([int(x) for x in irafdr60['gaia_id']])\n",
    "#irafdr60 = irafdr60[(np.where(irafdr60['source_id'] > 0)[0])]"
   ]
  },
  {
   "cell_type": "code",
   "execution_count": 68,
   "id": "a929fbcf",
   "metadata": {},
   "outputs": [],
   "source": [
    "dates = np.unique([str(x)[:6] for x in irafdr60['sobject_id']])"
   ]
  },
  {
   "cell_type": "code",
   "execution_count": 69,
   "id": "8cccbf24",
   "metadata": {
    "scrolled": false
   },
   "outputs": [
    {
     "name": "stdout",
     "output_type": "stream",
     "text": [
      "0\n"
     ]
    }
   ],
   "source": [
    "start = 543 # DONE!\n",
    "print(len(dates[start:]))\n",
    "for date in dates[start:]:\n",
    "    print('rsync -azu -P galah@galahobs.datacentral.org.au:/galah/obs/reductions/Iraf_6.0/'+date+'/spectra/com/com.tar.gz '+date+'_com.tar.gz')"
   ]
  },
  {
   "cell_type": "code",
   "execution_count": 70,
   "id": "9c615432",
   "metadata": {},
   "outputs": [],
   "source": [
    "galahdr3 = Table.read('../../../GALAH_DR3/catalogs/GALAH_DR3_main_allspec_v2.fits')\n",
    "galahdr3['source_id'] = galahdr3['dr3_source_id']\n",
    "# We need the stars to have Gaia source_id\n",
    "galahdr3 = galahdr3[(np.where(galahdr3['source_id'] > 0)[0])]"
   ]
  },
  {
   "cell_type": "code",
   "execution_count": 71,
   "id": "1328e602",
   "metadata": {},
   "outputs": [],
   "source": [
    "irafdr60_galahdr3 = join(irafdr60, galahdr3, keys='sobject_id')"
   ]
  },
  {
   "cell_type": "markdown",
   "id": "8463a299",
   "metadata": {},
   "source": [
    "# APOGEE Solar Twins with CNO"
   ]
  },
  {
   "cell_type": "code",
   "execution_count": null,
   "id": "95eafd3b",
   "metadata": {},
   "outputs": [],
   "source": [
    "acno = Table.read('apogeedr17_solar_twins_cno.fits')\n",
    "txt = [['#sobject_id','comment']]\n",
    "for s in acno['sobject_id']:\n",
    "    txt.append([str(s),'APOGEEDR17_CNO_solar_twin'])\n",
    "np.savetxt('apogeedr17_solar_twin_cno_stars',np.array(txt),fmt='%s')"
   ]
  },
  {
   "cell_type": "markdown",
   "id": "6205b73a",
   "metadata": {},
   "source": [
    "# Solar Twins"
   ]
  },
  {
   "cell_type": "code",
   "execution_count": 61,
   "id": "09ace058",
   "metadata": {},
   "outputs": [
    {
     "data": {
      "text/plain": [
       "14225"
      ]
     },
     "execution_count": 61,
     "metadata": {},
     "output_type": "execute_result"
    }
   ],
   "source": [
    "solar_twins_dr3 = (\n",
    "    (irafdr60_galahdr3['flag_sp'] == 0) &\n",
    "    (irafdr60_galahdr3['flag_fe_h'] == 0) &\n",
    "    (irafdr60_galahdr3['teff'] > 5750-125) &\n",
    "    (irafdr60_galahdr3['teff'] < 5750+125) &\n",
    "    (irafdr60_galahdr3['logg'] > 4.25) &\n",
    "    (irafdr60_galahdr3['fe_h'] > -0.125) &\n",
    "    (irafdr60_galahdr3['fe_h'] < 0.125)\n",
    ")\n",
    "len(irafdr60_galahdr3['sobject_id'][solar_twins_dr3])"
   ]
  },
  {
   "cell_type": "code",
   "execution_count": 70,
   "id": "915a2fb1",
   "metadata": {},
   "outputs": [],
   "source": [
    "entries = [['#sobject_id','batch']]"
   ]
  },
  {
   "cell_type": "code",
   "execution_count": 71,
   "id": "eded8f7d",
   "metadata": {},
   "outputs": [],
   "source": [
    "for sobject_id in irafdr60_galahdr3['sobject_id'][solar_twins_dr3]:\n",
    "    entries.append([sobject_id,'solar_twins'])"
   ]
  },
  {
   "cell_type": "code",
   "execution_count": 73,
   "id": "ec82587d",
   "metadata": {},
   "outputs": [],
   "source": [
    "np.savetxt('solar_twins_stars',np.array(entries),fmt='%s')"
   ]
  },
  {
   "cell_type": "markdown",
   "id": "279dc8fd",
   "metadata": {},
   "source": [
    "# Accuracy estimators:\n",
    "## VESTA, Gaia FGK Benchmark Stars, Bensby+2014 Stars, Nissen+Schuster2010"
   ]
  },
  {
   "cell_type": "code",
   "execution_count": 4,
   "id": "02b5ad2f",
   "metadata": {},
   "outputs": [
    {
     "name": "stdout",
     "output_type": "stream",
     "text": [
      "available:  28  not available:  18\n",
      "Unique dates:\n"
     ]
    },
    {
     "data": {
      "text/plain": [
       "array(['131119', '131216', '131220', '140111', '140114', '140209',\n",
       "       '140308', '140708', '140709', '140710', '140712', '140713',\n",
       "       '140806', '140807', '140808', '141101', '141102', '141231',\n",
       "       '150204', '150210', '150405', '170205', '171102'], dtype='<U6')"
      ]
     },
     "execution_count": 4,
     "metadata": {},
     "output_type": "execute_result"
    }
   ],
   "source": [
    "gbs = np.array([# VESTA\n",
    "\n",
    "# From Jofre et al. (2018) RNAAS, 2, 152\n",
    "[131216002601003,'mu Leo'],\n",
    "[131216003201003,'HD 84937'],\n",
    "[131220004401099,'ksi Hya'],\n",
    "[140209004701151,'eps Vir'],\n",
    "[140209005201151,'HD 122563'],\n",
    "[140308003401188,'18 Sco'],\n",
    "[140708003401078,'mu Ara'],\n",
    "[140708005801203,'bet Hyi'],\n",
    "[140708006401203,'tau Cet'],\n",
    "[140709001901194,'eta Boo'],\n",
    "[140709004401117,'gam Sge'],\n",
    "[140710000801284,'HD 107328'],\n",
    "[140710001701284,'ksi Hya'],\n",
    "[140710002501284,'18 Sco'],\n",
    "[140710003901284,'18 Sco'],\n",
    "[140710006601104,'alf Cet'],\n",
    "[140710007601032,'eps Eri'],\n",
    "[140710008301032,'del Eri'],\n",
    "[140710009001032,'HD 22879'],\n",
    "[140806005301134,'eps For'],\n",
    "[140808000901102,'HD 140283'],\n",
    "[141101003801339,'Procyon'],\n",
    "[141102003801353,'alf Tau'],\n",
    "[141102004001353,'HD 49933'],\n",
    "[141231005201176,'HD 84937'],\n",
    "[150204002101256,'mu Leo'],\n",
    "[150210005801171,'Arcturus'],\n",
    "[150210006401171,'eta Boo'],\n",
    "[150405000901378,'Sun'],\n",
    "# From Nissen & Schuster (2010) A&A, 511, 10\n",
    "[140111004101214, 'HD76932'],\n",
    "[170205005901355, 'HD121004'],\n",
    "[171102005001013, 'G112-43'],\n",
    "# From Bensby et al. (2014) A&A, 562, 71\n",
    "[140712005201149, 'HIP 117880'],\n",
    "[140114005001165, 'HIP 23555'],\n",
    "[140114004701165, 'HIP 23941'],\n",
    "[140114005301165, 'HIP 24829'],\n",
    "[131119001701221, 'HIP 30503'],\n",
    "[140712005601149, 'HIP 3142'],\n",
    "[140111004101214, 'HIP 44075'],\n",
    "[140114005801165, 'HIP 72673'],\n",
    "[140114006101165, 'HIP 75181'],\n",
    "[140807001701174, 'HIP 86796'],\n",
    "[140807002101174, 'HIP 87523'],\n",
    "[140807002501174, 'HIP 96124'],\n",
    "[140807003101174, 'HIP 96536'],\n",
    "[140713003901146, 'HIP 99240']\n",
    "])\n",
    "\n",
    "sobject_ids = [['#sobject_id','GBS/Bensby/Nissen']]\n",
    "available = 0\n",
    "not_available = 0\n",
    "\n",
    "for sobject_id,comment in gbs:\n",
    "    if int(sobject_id) in irafdr60['sobject_id']:\n",
    "        sobject_ids.append([sobject_id,comment.replace(' ','_')])\n",
    "        available += 1\n",
    "    else:\n",
    "        sobject_ids.append(['#'+sobject_id,comment.replace(' ','_')])\n",
    "        not_available += 1\n",
    "        \n",
    "print('available: ',available,' not available: ',not_available)\n",
    "np.savetxt('gaia_fgk_benchmark_stars',np.array(sobject_ids),fmt='%s')\n",
    "dates = np.unique([gbs[x,0][:6] for x in range(len(gbs))])\n",
    "print('Unique dates:')\n",
    "dates"
   ]
  },
  {
   "cell_type": "markdown",
   "id": "61ae2b0e",
   "metadata": {},
   "source": [
    "# Open Clusters"
   ]
  },
  {
   "cell_type": "code",
   "execution_count": 59,
   "id": "f55dffd7",
   "metadata": {},
   "outputs": [],
   "source": [
    "cantat_gaudin = Table.read('../../auxiliary_information/CantatGaudin_2020_AandA_640_1.fits')\n",
    "cantat_gaudin['source_id'] = cantat_gaudin['GaiaDR2']"
   ]
  },
  {
   "cell_type": "code",
   "execution_count": 60,
   "id": "ee32efa7",
   "metadata": {},
   "outputs": [],
   "source": [
    "oc_dr3 = join(galahdr3,cantat_gaudin,keys='source_id',join_type='inner')"
   ]
  },
  {
   "cell_type": "code",
   "execution_count": 61,
   "id": "8b8af4f7",
   "metadata": {},
   "outputs": [],
   "source": [
    "oc_dr60 = join(irafdr60,cantat_gaudin,keys='source_id',join_type='inner')"
   ]
  },
  {
   "cell_type": "code",
   "execution_count": 64,
   "id": "359326dd",
   "metadata": {
    "scrolled": false
   },
   "outputs": [
    {
     "name": "stdout",
     "output_type": "stream",
     "text": [
      "available:  4146  not available:  618\n",
      "Unique dates:\n"
     ]
    },
    {
     "data": {
      "text/plain": [
       "array(['131123', '131216', '131217', '131218', '140111', '140112',\n",
       "       '140113', '140118', '140207', '140208', '140209', '140210',\n",
       "       '140211', '140311', '140313', '140314', '140316', '140412',\n",
       "       '140413', '140608', '140611', '140713', '140805', '140806',\n",
       "       '140814', '140822', '140824', '141104', '141231', '150106',\n",
       "       '150109', '150330', '150830', '151008', '151009', '151109',\n",
       "       '151111', '151225', '151227', '151229', '151231', '160106',\n",
       "       '160107', '160108', '160109', '160110', '160111', '160113',\n",
       "       '160123', '160130', '160401', '160424', '160514', '160520',\n",
       "       '160522', '160529', '160530', '160608', '160811', '160812',\n",
       "       '160813', '160815', '160817', '160923', '161006', '161007',\n",
       "       '161011', '161104', '161106', '161107', '161109', '161118',\n",
       "       '161212', '161228', '161229', '170102', '170103', '170106',\n",
       "       '170108', '170109', '170115', '170117', '170118', '170119',\n",
       "       '170122', '170128', '170130', '170131', '170202', '170203',\n",
       "       '170205', '170206', '170217', '170219', '170220', '170407',\n",
       "       '170408', '170416', '170506', '170507', '170509', '170510',\n",
       "       '170511', '170513', '170515', '170516', '170517', '170604',\n",
       "       '170614', '170615', '170711', '170806', '170828', '170829',\n",
       "       '170830', '170912', '171027', '171029', '171031', '171102',\n",
       "       '171106', '171228', '171230', '180102', '180125', '180126',\n",
       "       '180129', '180131', '180625', '180628', '181225', '181226',\n",
       "       '190205', '190206', '190207', '190209', '190210', '190211',\n",
       "       '190212', '190223', '190224', '190225', '191107', '191109',\n",
       "       '191114', '191115', '191116', '200213', '200214', '200215',\n",
       "       '200216', '200511', '200512', '200513', '200514', '200515',\n",
       "       '200516', '200517', '200519', '200528', '200529', '200530',\n",
       "       '200531', '200708', '200712', '200714', '200803', '200831',\n",
       "       '200901', '200902', '200903', '200905', '200927', '201004',\n",
       "       '210113', '210115', '210117', '210122', '210124', '210125',\n",
       "       '210202', '210203', '210324', '210325', '210327', '210328',\n",
       "       '210329', '210330', '210401', '210402', '210403', '210404',\n",
       "       '210422', '210515', '210518', '210519', '210520', '210522',\n",
       "       '210523', '210531', '210602', '210605', '210706', '210715',\n",
       "       '210716', '210721', '210726', '210729', '210730', '210731',\n",
       "       '210916', '210922', '211113', '211213', '211214', '211216',\n",
       "       '211217', '211219', '220120', '220121', '220122', '220123',\n",
       "       '220125', '220214', '220215', '220216', '220217', '220219',\n",
       "       '220220'], dtype='<U6')"
      ]
     },
     "execution_count": 64,
     "metadata": {},
     "output_type": "execute_result"
    }
   ],
   "source": [
    "all_oc_sobject_ids = np.concatenate(([np.array(oc_dr3['sobject_id']),np.array(oc_dr60['sobject_id'])]))\n",
    "all_oc_cluster_names = np.concatenate(([np.array(oc_dr3['Cluster']),np.array(oc_dr60['Cluster'])]))\n",
    "unique_oc_sobject_ids, unique_indices = np.unique(all_oc_sobject_ids,return_index=True)\n",
    "clusters_unique = all_oc_cluster_names[unique_indices]\n",
    "\n",
    "sobject_ids = [['#sobject_id','cluster']]\n",
    "available = 0\n",
    "not_available = 0\n",
    "\n",
    "for (sobject_id,comment) in zip(unique_oc_sobject_ids,clusters_unique):\n",
    "    if int(sobject_id) in irafdr60['sobject_id']:\n",
    "        sobject_ids.append([str(sobject_id),comment])\n",
    "        available += 1\n",
    "    else:\n",
    "        sobject_ids.append(['#'+str(sobject_id),comment])\n",
    "        not_available += 1\n",
    "        \n",
    "print('available: ',available,' not available: ',not_available)\n",
    "np.savetxt('open_cluster_stars',sobject_ids,fmt='%s')\n",
    "dates = np.unique([str(unique_oc_sobject_ids[x])[:6] for x in range(len(unique_oc_sobject_ids))])\n",
    "print('Unique dates:')\n",
    "dates"
   ]
  },
  {
   "cell_type": "markdown",
   "id": "ada0f6ce",
   "metadata": {},
   "source": [
    "# Globular Clusters"
   ]
  },
  {
   "cell_type": "code",
   "execution_count": 65,
   "id": "ee95b6ff",
   "metadata": {},
   "outputs": [],
   "source": [
    "vasiliev_baumgardt = Table.read('../../auxiliary_information/VasilievBaumgardt_2021_MNRAS_505_5978_8GCs_70percent.fits')"
   ]
  },
  {
   "cell_type": "code",
   "execution_count": 66,
   "id": "6c848a16",
   "metadata": {},
   "outputs": [
    {
     "name": "stderr",
     "output_type": "stream",
     "text": [
      "WARNING: MergeConflictWarning: Cannot merge meta key 'TCOMM2' types <class 'str'> and <class 'str'>, choosing TCOMM2='Expression: \"NGC_104_47Tuc\"' [astropy.utils.metadata]\n"
     ]
    }
   ],
   "source": [
    "gc_dr3 = join(galahdr3,vasiliev_baumgardt,keys='source_id',join_type='inner')"
   ]
  },
  {
   "cell_type": "code",
   "execution_count": 67,
   "id": "fbd41a41",
   "metadata": {},
   "outputs": [],
   "source": [
    "gc_dr60 = join(irafdr60,vasiliev_baumgardt,keys='source_id',join_type='inner')"
   ]
  },
  {
   "cell_type": "code",
   "execution_count": 68,
   "id": "30dcda27",
   "metadata": {},
   "outputs": [
    {
     "name": "stdout",
     "output_type": "stream",
     "text": [
      "available:  2626  not available:  1591\n",
      "Unique dates:\n"
     ]
    },
    {
     "data": {
      "text/plain": [
       "array(['131123', '131216', '131217', '131218', '140111', '140112',\n",
       "       '140113', '140118', '140207', '140208', '140209', '140210',\n",
       "       '140211', '140311', '140313', '140314', '140316', '140412',\n",
       "       '140413', '140608', '140611', '140713', '140805', '140806',\n",
       "       '140814', '140822', '140824', '141104', '141231', '150106',\n",
       "       '150109', '150330', '150830', '151008', '151009', '151109',\n",
       "       '151111', '151225', '151227', '151229', '151231', '160106',\n",
       "       '160107', '160108', '160109', '160110', '160111', '160113',\n",
       "       '160123', '160130', '160401', '160424', '160514', '160520',\n",
       "       '160522', '160529', '160530', '160608', '160811', '160812',\n",
       "       '160813', '160815', '160817', '160923', '161006', '161007',\n",
       "       '161011', '161104', '161106', '161107', '161109', '161118',\n",
       "       '161212', '161228', '161229', '170102', '170103', '170106',\n",
       "       '170108', '170109', '170115', '170117', '170118', '170119',\n",
       "       '170122', '170128', '170130', '170131', '170202', '170203',\n",
       "       '170205', '170206', '170217', '170219', '170220', '170407',\n",
       "       '170408', '170416', '170506', '170507', '170509', '170510',\n",
       "       '170511', '170513', '170515', '170516', '170517', '170604',\n",
       "       '170614', '170615', '170711', '170806', '170828', '170829',\n",
       "       '170830', '170912', '171027', '171029', '171031', '171102',\n",
       "       '171106', '171228', '171230', '180102', '180125', '180126',\n",
       "       '180129', '180131', '180625', '180628', '181225', '181226',\n",
       "       '190205', '190206', '190207', '190209', '190210', '190211',\n",
       "       '190212', '190223', '190224', '190225', '191107', '191109',\n",
       "       '191114', '191115', '191116', '200213', '200214', '200215',\n",
       "       '200216', '200511', '200512', '200513', '200514', '200515',\n",
       "       '200516', '200517', '200519', '200528', '200529', '200530',\n",
       "       '200531', '200708', '200712', '200714', '200803', '200831',\n",
       "       '200901', '200902', '200903', '200905', '200927', '201004',\n",
       "       '210113', '210115', '210117', '210122', '210124', '210125',\n",
       "       '210202', '210203', '210324', '210325', '210327', '210328',\n",
       "       '210329', '210330', '210401', '210402', '210403', '210404',\n",
       "       '210422', '210515', '210518', '210519', '210520', '210522',\n",
       "       '210523', '210531', '210602', '210605', '210706', '210715',\n",
       "       '210716', '210721', '210726', '210729', '210730', '210731',\n",
       "       '210916', '210922', '211113', '211213', '211214', '211216',\n",
       "       '211217', '211219', '220120', '220121', '220122', '220123',\n",
       "       '220125', '220214', '220215', '220216', '220217', '220219',\n",
       "       '220220'], dtype='<U6')"
      ]
     },
     "execution_count": 68,
     "metadata": {},
     "output_type": "execute_result"
    }
   ],
   "source": [
    "all_gc_sobject_ids = np.concatenate(([np.array(gc_dr3['sobject_id']),np.array(gc_dr60['sobject_id'])]))\n",
    "all_gc_cluster_names = np.concatenate(([np.array(gc_dr3['cluster']),np.array(gc_dr60['cluster'])]))\n",
    "unique_gc_sobject_ids, unique_indices = np.unique(all_gc_sobject_ids,return_index=True)\n",
    "clusters_unique = all_gc_cluster_names[unique_indices]\n",
    "\n",
    "sobject_ids = [['#sobject_id','cluster']]\n",
    "available = 0\n",
    "not_available = 0\n",
    "\n",
    "for (sobject_id,comment) in zip(unique_gc_sobject_ids,clusters_unique):\n",
    "    if int(sobject_id) in irafdr60['sobject_id']:\n",
    "        sobject_ids.append([str(sobject_id),comment])\n",
    "        available += 1\n",
    "    else:\n",
    "        sobject_ids.append(['#'+str(sobject_id),comment])\n",
    "        not_available += 1\n",
    "        \n",
    "print('available: ',available,' not available: ',not_available)\n",
    "np.savetxt('globular_cluster_stars',sobject_ids,fmt='%s')\n",
    "dates = np.unique([str(unique_oc_sobject_ids[x])[:6] for x in range(len(unique_oc_sobject_ids))])\n",
    "print('Unique dates:')\n",
    "dates"
   ]
  },
  {
   "cell_type": "markdown",
   "id": "3123a565",
   "metadata": {},
   "source": [
    "# Asteroseismic Targets"
   ]
  },
  {
   "cell_type": "code",
   "execution_count": 69,
   "id": "faa1e6d7",
   "metadata": {},
   "outputs": [],
   "source": [
    "zinn = Table.read('../../auxiliary_information/Zinn_Table2_eDR3_xmatch.fits')"
   ]
  },
  {
   "cell_type": "code",
   "execution_count": 70,
   "id": "e3c5282b",
   "metadata": {},
   "outputs": [],
   "source": [
    "zinn_dr3 = join(galahdr3,zinn,keys='source_id',join_type='inner')"
   ]
  },
  {
   "cell_type": "code",
   "execution_count": 71,
   "id": "7b2ab53b",
   "metadata": {},
   "outputs": [],
   "source": [
    "zinn_dr60 = join(irafdr60,zinn,keys='source_id',join_type='inner')"
   ]
  },
  {
   "cell_type": "code",
   "execution_count": 72,
   "id": "fc770eda",
   "metadata": {},
   "outputs": [
    {
     "name": "stdout",
     "output_type": "stream",
     "text": [
      "available:  10464  not available:  951\n",
      "Unique dates:\n"
     ]
    },
    {
     "data": {
      "text/plain": [
       "array(['131123', '131216', '131217', '131218', '140111', '140112',\n",
       "       '140113', '140118', '140207', '140208', '140209', '140210',\n",
       "       '140211', '140311', '140313', '140314', '140316', '140412',\n",
       "       '140413', '140608', '140611', '140713', '140805', '140806',\n",
       "       '140814', '140822', '140824', '141104', '141231', '150106',\n",
       "       '150109', '150330', '150830', '151008', '151009', '151109',\n",
       "       '151111', '151225', '151227', '151229', '151231', '160106',\n",
       "       '160107', '160108', '160109', '160110', '160111', '160113',\n",
       "       '160123', '160130', '160401', '160424', '160514', '160520',\n",
       "       '160522', '160529', '160530', '160608', '160811', '160812',\n",
       "       '160813', '160815', '160817', '160923', '161006', '161007',\n",
       "       '161011', '161104', '161106', '161107', '161109', '161118',\n",
       "       '161212', '161228', '161229', '170102', '170103', '170106',\n",
       "       '170108', '170109', '170115', '170117', '170118', '170119',\n",
       "       '170122', '170128', '170130', '170131', '170202', '170203',\n",
       "       '170205', '170206', '170217', '170219', '170220', '170407',\n",
       "       '170408', '170416', '170506', '170507', '170509', '170510',\n",
       "       '170511', '170513', '170515', '170516', '170517', '170604',\n",
       "       '170614', '170615', '170711', '170806', '170828', '170829',\n",
       "       '170830', '170912', '171027', '171029', '171031', '171102',\n",
       "       '171106', '171228', '171230', '180102', '180125', '180126',\n",
       "       '180129', '180131', '180625', '180628', '181225', '181226',\n",
       "       '190205', '190206', '190207', '190209', '190210', '190211',\n",
       "       '190212', '190223', '190224', '190225', '191107', '191109',\n",
       "       '191114', '191115', '191116', '200213', '200214', '200215',\n",
       "       '200216', '200511', '200512', '200513', '200514', '200515',\n",
       "       '200516', '200517', '200519', '200528', '200529', '200530',\n",
       "       '200531', '200708', '200712', '200714', '200803', '200831',\n",
       "       '200901', '200902', '200903', '200905', '200927', '201004',\n",
       "       '210113', '210115', '210117', '210122', '210124', '210125',\n",
       "       '210202', '210203', '210324', '210325', '210327', '210328',\n",
       "       '210329', '210330', '210401', '210402', '210403', '210404',\n",
       "       '210422', '210515', '210518', '210519', '210520', '210522',\n",
       "       '210523', '210531', '210602', '210605', '210706', '210715',\n",
       "       '210716', '210721', '210726', '210729', '210730', '210731',\n",
       "       '210916', '210922', '211113', '211213', '211214', '211216',\n",
       "       '211217', '211219', '220120', '220121', '220122', '220123',\n",
       "       '220125', '220214', '220215', '220216', '220217', '220219',\n",
       "       '220220'], dtype='<U6')"
      ]
     },
     "execution_count": 72,
     "metadata": {},
     "output_type": "execute_result"
    }
   ],
   "source": [
    "all_sobject_ids = np.concatenate(([np.array(zinn_dr3['sobject_id']),np.array(zinn_dr60['sobject_id'])]))\n",
    "all_numax = np.concatenate(([np.array(zinn_dr3['numax_mean']),np.array(zinn_dr60['numax_mean'])]))\n",
    "unique_sobject_ids, unique_indices = np.unique(all_sobject_ids,return_index=True)\n",
    "numax_unique = all_numax[unique_indices]\n",
    "\n",
    "sobject_ids = [['#sobject_id','numax']]\n",
    "available = 0\n",
    "not_available = 0\n",
    "\n",
    "for (sobject_id,comment) in zip(unique_sobject_ids,numax_unique):\n",
    "    if int(sobject_id) in irafdr60['sobject_id']:\n",
    "        sobject_ids.append([str(sobject_id),comment])\n",
    "        available += 1\n",
    "    else:\n",
    "        sobject_ids.append(['#'+str(sobject_id),comment])\n",
    "        not_available += 1\n",
    "        \n",
    "print('available: ',available,' not available: ',not_available)\n",
    "np.savetxt('asteroseismic_stars',sobject_ids,fmt='%s')\n",
    "dates = np.unique([str(unique_oc_sobject_ids[x])[:6] for x in range(len(unique_oc_sobject_ids))])\n",
    "print('Unique dates:')\n",
    "dates"
   ]
  },
  {
   "cell_type": "markdown",
   "id": "9d764fd8",
   "metadata": {},
   "source": [
    "# APOGEE DR17"
   ]
  },
  {
   "cell_type": "code",
   "execution_count": 73,
   "id": "5906685b",
   "metadata": {},
   "outputs": [],
   "source": [
    "apogee = Table.read('../../../Surveys/APOGEE_DR17/APOGEE_DR17.fits')\n",
    "apogee['tmass_id'] = apogee['TMASS_ID']\n",
    "irafdr60['tmass_id'] = irafdr60['2mass']\n",
    "galahdr3['tmass_id'] = galahdr3['star_id']"
   ]
  },
  {
   "cell_type": "code",
   "execution_count": 74,
   "id": "d61be676",
   "metadata": {},
   "outputs": [
    {
     "name": "stderr",
     "output_type": "stream",
     "text": [
      "WARNING: MergeConflictWarning: Cannot merge meta key 'TCOMM3' types <class 'str'> and <class 'str'>, choosing TCOMM3='Expression: substring(APOGEE_ID,2,18)' [astropy.utils.metadata]\n"
     ]
    }
   ],
   "source": [
    "apo17_dr3 = join(galahdr3,apogee,keys='tmass_id',join_type='inner')"
   ]
  },
  {
   "cell_type": "code",
   "execution_count": 75,
   "id": "cc513c72",
   "metadata": {},
   "outputs": [],
   "source": [
    "apo17_dr60 = join(irafdr60,apogee,keys='tmass_id',join_type='inner')"
   ]
  },
  {
   "cell_type": "code",
   "execution_count": 77,
   "id": "090e4f2a",
   "metadata": {},
   "outputs": [
    {
     "name": "stdout",
     "output_type": "stream",
     "text": [
      "available:  70638  not available:  8458\n",
      "Unique dates:\n"
     ]
    },
    {
     "data": {
      "text/plain": [
       "array(['131123', '131216', '131217', '131218', '140111', '140112',\n",
       "       '140113', '140118', '140207', '140208', '140209', '140210',\n",
       "       '140211', '140311', '140313', '140314', '140316', '140412',\n",
       "       '140413', '140608', '140611', '140713', '140805', '140806',\n",
       "       '140814', '140822', '140824', '141104', '141231', '150106',\n",
       "       '150109', '150330', '150830', '151008', '151009', '151109',\n",
       "       '151111', '151225', '151227', '151229', '151231', '160106',\n",
       "       '160107', '160108', '160109', '160110', '160111', '160113',\n",
       "       '160123', '160130', '160401', '160424', '160514', '160520',\n",
       "       '160522', '160529', '160530', '160608', '160811', '160812',\n",
       "       '160813', '160815', '160817', '160923', '161006', '161007',\n",
       "       '161011', '161104', '161106', '161107', '161109', '161118',\n",
       "       '161212', '161228', '161229', '170102', '170103', '170106',\n",
       "       '170108', '170109', '170115', '170117', '170118', '170119',\n",
       "       '170122', '170128', '170130', '170131', '170202', '170203',\n",
       "       '170205', '170206', '170217', '170219', '170220', '170407',\n",
       "       '170408', '170416', '170506', '170507', '170509', '170510',\n",
       "       '170511', '170513', '170515', '170516', '170517', '170604',\n",
       "       '170614', '170615', '170711', '170806', '170828', '170829',\n",
       "       '170830', '170912', '171027', '171029', '171031', '171102',\n",
       "       '171106', '171228', '171230', '180102', '180125', '180126',\n",
       "       '180129', '180131', '180625', '180628', '181225', '181226',\n",
       "       '190205', '190206', '190207', '190209', '190210', '190211',\n",
       "       '190212', '190223', '190224', '190225', '191107', '191109',\n",
       "       '191114', '191115', '191116', '200213', '200214', '200215',\n",
       "       '200216', '200511', '200512', '200513', '200514', '200515',\n",
       "       '200516', '200517', '200519', '200528', '200529', '200530',\n",
       "       '200531', '200708', '200712', '200714', '200803', '200831',\n",
       "       '200901', '200902', '200903', '200905', '200927', '201004',\n",
       "       '210113', '210115', '210117', '210122', '210124', '210125',\n",
       "       '210202', '210203', '210324', '210325', '210327', '210328',\n",
       "       '210329', '210330', '210401', '210402', '210403', '210404',\n",
       "       '210422', '210515', '210518', '210519', '210520', '210522',\n",
       "       '210523', '210531', '210602', '210605', '210706', '210715',\n",
       "       '210716', '210721', '210726', '210729', '210730', '210731',\n",
       "       '210916', '210922', '211113', '211213', '211214', '211216',\n",
       "       '211217', '211219', '220120', '220121', '220122', '220123',\n",
       "       '220125', '220214', '220215', '220216', '220217', '220219',\n",
       "       '220220'], dtype='<U6')"
      ]
     },
     "execution_count": 77,
     "metadata": {},
     "output_type": "execute_result"
    }
   ],
   "source": [
    "all_sobject_ids = np.concatenate(([np.array(apo17_dr3['sobject_id']),np.array(apo17_dr60['sobject_id'])]))\n",
    "all_tmass_id = np.concatenate(([np.array(apo17_dr3['tmass_id']),np.array(apo17_dr60['tmass_id'])]))\n",
    "unique_sobject_ids, unique_indices = np.unique(all_sobject_ids,return_index=True)\n",
    "numax_unique = all_tmass_id[unique_indices]\n",
    "\n",
    "sobject_ids = [['#sobject_id','tmass_id']]\n",
    "available = 0\n",
    "not_available = 0\n",
    "\n",
    "for (sobject_id,comment) in zip(unique_sobject_ids,numax_unique):\n",
    "    if int(sobject_id) in irafdr60['sobject_id']:\n",
    "        sobject_ids.append([str(sobject_id),comment])\n",
    "        available += 1\n",
    "    else:\n",
    "        sobject_ids.append(['#'+str(sobject_id),comment])\n",
    "        not_available += 1\n",
    "\n",
    "print('available: ',available,' not available: ',not_available)\n",
    "np.savetxt('apogeedr17_stars',sobject_ids,fmt='%s')\n",
    "dates = np.unique([str(unique_oc_sobject_ids[x])[:6] for x in range(len(unique_oc_sobject_ids))])\n",
    "print('Unique dates:')\n",
    "dates"
   ]
  },
  {
   "cell_type": "markdown",
   "id": "1412832b",
   "metadata": {},
   "source": [
    "# Wide Binaries"
   ]
  },
  {
   "cell_type": "code",
   "execution_count": 78,
   "id": "6695d604",
   "metadata": {},
   "outputs": [
    {
     "name": "stdout",
     "output_type": "stream",
     "text": [
      "available:  321  not available:  46\n",
      "Unique dates:\n"
     ]
    },
    {
     "data": {
      "text/plain": [
       "array(['131123', '131216', '131217', '131218', '140111', '140112',\n",
       "       '140113', '140118', '140207', '140208', '140209', '140210',\n",
       "       '140211', '140311', '140313', '140314', '140316', '140412',\n",
       "       '140413', '140608', '140611', '140713', '140805', '140806',\n",
       "       '140814', '140822', '140824', '141104', '141231', '150106',\n",
       "       '150109', '150330', '150830', '151008', '151009', '151109',\n",
       "       '151111', '151225', '151227', '151229', '151231', '160106',\n",
       "       '160107', '160108', '160109', '160110', '160111', '160113',\n",
       "       '160123', '160130', '160401', '160424', '160514', '160520',\n",
       "       '160522', '160529', '160530', '160608', '160811', '160812',\n",
       "       '160813', '160815', '160817', '160923', '161006', '161007',\n",
       "       '161011', '161104', '161106', '161107', '161109', '161118',\n",
       "       '161212', '161228', '161229', '170102', '170103', '170106',\n",
       "       '170108', '170109', '170115', '170117', '170118', '170119',\n",
       "       '170122', '170128', '170130', '170131', '170202', '170203',\n",
       "       '170205', '170206', '170217', '170219', '170220', '170407',\n",
       "       '170408', '170416', '170506', '170507', '170509', '170510',\n",
       "       '170511', '170513', '170515', '170516', '170517', '170604',\n",
       "       '170614', '170615', '170711', '170806', '170828', '170829',\n",
       "       '170830', '170912', '171027', '171029', '171031', '171102',\n",
       "       '171106', '171228', '171230', '180102', '180125', '180126',\n",
       "       '180129', '180131', '180625', '180628', '181225', '181226',\n",
       "       '190205', '190206', '190207', '190209', '190210', '190211',\n",
       "       '190212', '190223', '190224', '190225', '191107', '191109',\n",
       "       '191114', '191115', '191116', '200213', '200214', '200215',\n",
       "       '200216', '200511', '200512', '200513', '200514', '200515',\n",
       "       '200516', '200517', '200519', '200528', '200529', '200530',\n",
       "       '200531', '200708', '200712', '200714', '200803', '200831',\n",
       "       '200901', '200902', '200903', '200905', '200927', '201004',\n",
       "       '210113', '210115', '210117', '210122', '210124', '210125',\n",
       "       '210202', '210203', '210324', '210325', '210327', '210328',\n",
       "       '210329', '210330', '210401', '210402', '210403', '210404',\n",
       "       '210422', '210515', '210518', '210519', '210520', '210522',\n",
       "       '210523', '210531', '210602', '210605', '210706', '210715',\n",
       "       '210716', '210721', '210726', '210729', '210730', '210731',\n",
       "       '210916', '210922', '211113', '211213', '211214', '211216',\n",
       "       '211217', '211219', '220120', '220121', '220122', '220123',\n",
       "       '220125', '220214', '220215', '220216', '220217', '220219',\n",
       "       '220220'], dtype='<U6')"
      ]
     },
     "execution_count": 78,
     "metadata": {},
     "output_type": "execute_result"
    }
   ],
   "source": [
    "wide_binaries = Table.read('../../auxiliary_information/GALAH_DR3_ElBadry_sobject_ids.fits')\n",
    "primary = np.concatenate(([np.array(wide_binaries['sobject_id_1']),np.array(wide_binaries['sobject_id_2'])]))\n",
    "secondary = np.concatenate(([np.array(wide_binaries['sobject_id_2']),np.array(wide_binaries['sobject_id_1'])]))\n",
    "\n",
    "unique_sobject_ids, unique_indices = np.unique(primary,return_index=True)\n",
    "secondary_unique = secondary[unique_indices]\n",
    "\n",
    "sobject_ids = [['#sobject_id','secondary']]\n",
    "available = 0\n",
    "not_available = 0\n",
    "\n",
    "for (sobject_id,comment) in zip(unique_sobject_ids,secondary_unique):\n",
    "    if int(sobject_id) in irafdr60['sobject_id']:\n",
    "        sobject_ids.append([str(sobject_id),comment])\n",
    "        available += 1\n",
    "    else:\n",
    "        sobject_ids.append(['#'+str(sobject_id),comment])\n",
    "        not_available += 1\n",
    "        \n",
    "print('available: ',available,' not available: ',not_available)\n",
    "np.savetxt('wide_binary_stars',sobject_ids,fmt='%s')\n",
    "dates = np.unique([str(unique_oc_sobject_ids[x])[:6] for x in range(len(unique_oc_sobject_ids))])\n",
    "print('Unique dates:')\n",
    "dates"
   ]
  }
 ],
 "metadata": {
  "kernelspec": {
   "display_name": "Python 3",
   "language": "python",
   "name": "python3"
  },
  "language_info": {
   "codemirror_mode": {
    "name": "ipython",
    "version": 3
   },
   "file_extension": ".py",
   "mimetype": "text/x-python",
   "name": "python",
   "nbconvert_exporter": "python",
   "pygments_lexer": "ipython3",
   "version": "3.7.4"
  }
 },
 "nbformat": 4,
 "nbformat_minor": 5
}
