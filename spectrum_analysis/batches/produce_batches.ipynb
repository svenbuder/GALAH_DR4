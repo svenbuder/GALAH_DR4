{
 "cells": [
  {
   "cell_type": "code",
   "execution_count": 2,
   "id": "c084fedb",
   "metadata": {},
   "outputs": [],
   "source": [
    "# Preamble \n",
    "try:\n",
    "    %matplotlib inline\n",
    "    %config InlineBackend.figure_format='retina'\n",
    "except:\n",
    "    pass\n",
    "\n",
    "import numpy as np\n",
    "from astropy.table import Table, join, hstack, vstack"
   ]
  },
  {
   "cell_type": "code",
   "execution_count": 50,
   "id": "8f41567d",
   "metadata": {},
   "outputs": [],
   "source": [
    "irafdr60 = Table.read('../../auxiliary_information/dr6.0.fits')\n",
    "# We need the stars to have Gaia source_id\n",
    "irafdr60 = irafdr60[(np.where(irafdr60['source_id'] > 0)[0])]"
   ]
  },
  {
   "cell_type": "code",
   "execution_count": 98,
   "id": "149f3539",
   "metadata": {},
   "outputs": [],
   "source": [
    "galahdr3 = Table.read('../../../GALAH_DR3/catalogs/GALAH_DR3_main_allspec_v2.fits')\n",
    "galahdr3['source_id'] = galahdr3['dr3_source_id']\n",
    "# We need the stars to have Gaia source_id\n",
    "galahdr3 = galahdr3[(np.where(galahdr3['source_id'] > 0)[0])]"
   ]
  },
  {
   "cell_type": "markdown",
   "id": "8b793771",
   "metadata": {},
   "source": [
    "# Accuracy estimators:\n",
    "## VESTA, Gaia FGK Benchmark Stars, Bensby+2014 Stars, Nissen+Schuster2010"
   ]
  },
  {
   "cell_type": "code",
   "execution_count": 113,
   "id": "1e02f3a5",
   "metadata": {},
   "outputs": [
    {
     "name": "stdout",
     "output_type": "stream",
     "text": [
      "available:  2  not available:  44\n",
      "Unique dates:\n"
     ]
    },
    {
     "data": {
      "text/plain": [
       "array(['131119', '131216', '131220', '140111', '140114', '140209',\n",
       "       '140308', '140708', '140709', '140710', '140712', '140713',\n",
       "       '140806', '140807', '140808', '141101', '141102', '141231',\n",
       "       '150204', '150210', '150405', '170205', '171102'], dtype='<U6')"
      ]
     },
     "execution_count": 113,
     "metadata": {},
     "output_type": "execute_result"
    }
   ],
   "source": [
    "gbs = np.array([# VESTA\n",
    "\n",
    "# From Jofre et al. (2018) RNAAS, 2, 152\n",
    "[131216002601003,'mu Leo'],\n",
    "[131216003201003,'HD 84937'],\n",
    "[131220004401099,'ksi Hya'],\n",
    "[140209004701151,'eps Vir'],\n",
    "[140209005201151,'HD 122563'],\n",
    "[140308003401188,'18 Sco'],\n",
    "[140708003401078,'mu Ara'],\n",
    "[140708005801203,'bet Hyi'],\n",
    "[140708006401203,'tau Cet'],\n",
    "[140709001901194,'eta Boo'],\n",
    "[140709004401117,'gam Sge'],\n",
    "[140710000801284,'HD 107328'],\n",
    "[140710001701284,'ksi Hya'],\n",
    "[140710002501284,'18 Sco'],\n",
    "[140710003901284,'18 Sco'],\n",
    "[140710006601104,'alf Cet'],\n",
    "[140710007601032,'eps Eri'],\n",
    "[140710008301032,'del Eri'],\n",
    "[140710009001032,'HD 22879'],\n",
    "[140806005301134,'eps For'],\n",
    "[140808000901102,'HD 140283'],\n",
    "[141101003801339,'Procyon'],\n",
    "[141102003801353,'alf Tau'],\n",
    "[141102004001353,'HD 49933'],\n",
    "[141231005201176,'HD 84937'],\n",
    "[150204002101256,'mu Leo'],\n",
    "[150210005801171,'Arcturus'],\n",
    "[150210006401171,'eta Boo'],\n",
    "[150405000901378,'Sun'],\n",
    "# From Nissen & Schuster (2010) A&A, 511, 10\n",
    "[140111004101214, 'HD76932'],\n",
    "[170205005901355, 'HD121004'],\n",
    "[171102005001013, 'G112-43'],\n",
    "# From Bensby et al. (2014) A&A, 562, 71\n",
    "[140712005201149, 'HIP 117880'],\n",
    "[140114005001165, 'HIP 23555'],\n",
    "[140114004701165, 'HIP 23941'],\n",
    "[140114005301165, 'HIP 24829'],\n",
    "[131119001701221, 'HIP 30503'],\n",
    "[140712005601149, 'HIP 3142'],\n",
    "[140111004101214, 'HIP 44075'],\n",
    "[140114005801165, 'HIP 72673'],\n",
    "[140114006101165, 'HIP 75181'],\n",
    "[140807001701174, 'HIP 86796'],\n",
    "[140807002101174, 'HIP 87523'],\n",
    "[140807002501174, 'HIP 96124'],\n",
    "[140807003101174, 'HIP 96536'],\n",
    "[140713003901146, 'HIP 99240']\n",
    "])\n",
    "\n",
    "sobject_ids = [['#sobject_id','GBS/Bensby/Nissen']]\n",
    "available = 0\n",
    "not_available = 0\n",
    "\n",
    "for sobject_id,comment in gbs:\n",
    "    if int(sobject_id) in irafdr60['sobject_id']:\n",
    "        sobject_ids.append([sobject_id,comment])\n",
    "        available += 1\n",
    "    else:\n",
    "        sobject_ids.append(['#'+sobject_id,comment])\n",
    "        not_available += 1\n",
    "        \n",
    "print('available: ',available,' not available: ',not_available)\n",
    "np.savetxt('gaia_fgk_benchmark_stars',np.array(sobject_ids),fmt='%s')\n",
    "dates = np.unique([gbs[x,0][:6] for x in range(len(gbs))])\n",
    "print('Unique dates:')\n",
    "dates"
   ]
  },
  {
   "cell_type": "markdown",
   "id": "a9e67299",
   "metadata": {},
   "source": [
    "# Open Clusters"
   ]
  },
  {
   "cell_type": "code",
   "execution_count": 69,
   "id": "52eafba4",
   "metadata": {},
   "outputs": [],
   "source": [
    "cantat_gaudin = Table.read('../../auxiliary_information/CantatGaudin_2020_AandA_640_1.fits')\n",
    "cantat_gaudin['source_id'] = cantat_gaudin['GaiaDR2']"
   ]
  },
  {
   "cell_type": "code",
   "execution_count": 119,
   "id": "de88791f",
   "metadata": {},
   "outputs": [],
   "source": [
    "oc_dr3 = join(galahdr3,cantat_gaudin,keys='source_id',join_type='inner')"
   ]
  },
  {
   "cell_type": "code",
   "execution_count": 120,
   "id": "52781fb8",
   "metadata": {},
   "outputs": [
    {
     "name": "stderr",
     "output_type": "stream",
     "text": [
      "WARNING: MergeConflictWarning: Cannot merge meta key 'EXTNAME' types <class 'str'> and <class 'str'>, choosing EXTNAME='Joined' [astropy.utils.metadata]\n",
      "WARNING: MergeConflictWarning: Cannot merge meta key 'DATE-HDU' types <class 'str'> and <class 'str'>, choosing DATE-HDU='2021-10-26T08:33:49' [astropy.utils.metadata]\n"
     ]
    }
   ],
   "source": [
    "oc_dr60 = join(irafdr60,cantat_gaudin,keys='source_id',join_type='inner')"
   ]
  },
  {
   "cell_type": "code",
   "execution_count": 140,
   "id": "6fdc2498",
   "metadata": {
    "scrolled": false
   },
   "outputs": [
    {
     "name": "stdout",
     "output_type": "stream",
     "text": [
      "available:  4146  not available:  618\n",
      "Unique dates:\n"
     ]
    },
    {
     "data": {
      "text/plain": [
       "array(['131119', '131216', '131220', '140111', '140114', '140209',\n",
       "       '140308', '140708', '140709', '140710', '140712', '140713',\n",
       "       '140806', '140807', '140808', '141101', '141102', '141231',\n",
       "       '150204', '150210', '150405', '170205', '171102'], dtype='<U6')"
      ]
     },
     "execution_count": 140,
     "metadata": {},
     "output_type": "execute_result"
    }
   ],
   "source": [
    "all_oc_sobject_ids = np.concatenate(([np.array(oc_dr3['sobject_id']),np.array(oc_dr60['sobject_id'])]))\n",
    "all_oc_cluster_names = np.concatenate(([np.array(oc_dr3['Cluster']),np.array(oc_dr60['Cluster'])]))\n",
    "unique_oc_sobject_ids, unique_indices = np.unique(all_oc_sobject_ids,return_index=True)\n",
    "clusters_unique = all_oc_cluster_names[unique_indices]\n",
    "\n",
    "sobject_ids = [['#sobject_id','cluster']]\n",
    "available = 0\n",
    "not_available = 0\n",
    "\n",
    "for (sobject_id,comment) in zip(unique_oc_sobject_ids,clusters_unique):\n",
    "    if int(sobject_id) in irafdr60['sobject_id']:\n",
    "        sobject_ids.append(str(sobject_id))\n",
    "        available += 1\n",
    "    else:\n",
    "        sobject_ids.append('#'+str(sobject_id))\n",
    "        not_available += 1\n",
    "        \n",
    "print('available: ',available,' not available: ',not_available)\n",
    "np.savetxt('open_cluster_stars',sobject_ids,fmt='%s')\n",
    "dates = np.unique([gbs[x,0][:6] for x in range(len(gbs))])\n",
    "print('Unique dates:')\n",
    "dates"
   ]
  },
  {
   "cell_type": "markdown",
   "id": "ab952916",
   "metadata": {},
   "source": [
    "# Globular Clusters"
   ]
  },
  {
   "cell_type": "code",
   "execution_count": 149,
   "id": "e975d877",
   "metadata": {},
   "outputs": [],
   "source": [
    "vasiliev_baumgardt = Table.read('../../auxiliary_information/VasilievBaumgardt_2021_MNRAS_505_5978_8GCs_70percent.fits')"
   ]
  },
  {
   "cell_type": "code",
   "execution_count": 150,
   "id": "e5a26c0a",
   "metadata": {},
   "outputs": [
    {
     "name": "stderr",
     "output_type": "stream",
     "text": [
      "WARNING: MergeConflictWarning: Cannot merge meta key 'TCOMM2' types <class 'str'> and <class 'str'>, choosing TCOMM2='Expression: \"NGC_104_47Tuc\"' [astropy.utils.metadata]\n"
     ]
    }
   ],
   "source": [
    "gc_dr3 = join(galahdr3,vasiliev_baumgardt,keys='source_id',join_type='inner')"
   ]
  },
  {
   "cell_type": "code",
   "execution_count": 151,
   "id": "3a1f6f9b",
   "metadata": {},
   "outputs": [
    {
     "name": "stderr",
     "output_type": "stream",
     "text": [
      "WARNING: MergeConflictWarning: Cannot merge meta key 'EXTNAME' types <class 'str'> and <class 'str'>, choosing EXTNAME='/Users/svenbuder/GALAH_DR4/auxiliary_information/VasilievBaumgard...' [astropy.utils.metadata]\n",
      "WARNING: MergeConflictWarning: Cannot merge meta key 'DATE-HDU' types <class 'str'> and <class 'str'>, choosing DATE-HDU='2021-10-26T09:01:54' [astropy.utils.metadata]\n"
     ]
    }
   ],
   "source": [
    "gc_dr60 = join(irafdr60,vasiliev_baumgardt,keys='source_id',join_type='inner')"
   ]
  },
  {
   "cell_type": "code",
   "execution_count": 153,
   "id": "4338914b",
   "metadata": {},
   "outputs": [
    {
     "name": "stdout",
     "output_type": "stream",
     "text": [
      "available:  2626  not available:  1591\n",
      "Unique dates:\n"
     ]
    },
    {
     "data": {
      "text/plain": [
       "array(['131119', '131216', '131220', '140111', '140114', '140209',\n",
       "       '140308', '140708', '140709', '140710', '140712', '140713',\n",
       "       '140806', '140807', '140808', '141101', '141102', '141231',\n",
       "       '150204', '150210', '150405', '170205', '171102'], dtype='<U6')"
      ]
     },
     "execution_count": 153,
     "metadata": {},
     "output_type": "execute_result"
    }
   ],
   "source": [
    "all_gc_sobject_ids = np.concatenate(([np.array(gc_dr3['sobject_id']),np.array(gc_dr60['sobject_id'])]))\n",
    "all_gc_cluster_names = np.concatenate(([np.array(gc_dr3['cluster']),np.array(gc_dr60['cluster'])]))\n",
    "unique_gc_sobject_ids, unique_indices = np.unique(all_gc_sobject_ids,return_index=True)\n",
    "clusters_unique = all_gc_cluster_names[unique_indices]\n",
    "\n",
    "sobject_ids = [['#sobject_id','cluster']]\n",
    "available = 0\n",
    "not_available = 0\n",
    "\n",
    "for (sobject_id,comment) in zip(unique_gc_sobject_ids,clusters_unique):\n",
    "    if int(sobject_id) in irafdr60['sobject_id']:\n",
    "        sobject_ids.append(str(sobject_id))\n",
    "        available += 1\n",
    "    else:\n",
    "        sobject_ids.append('#'+str(sobject_id))\n",
    "        not_available += 1\n",
    "        \n",
    "print('available: ',available,' not available: ',not_available)\n",
    "np.savetxt('globular_cluster_stars',sobject_ids,fmt='%s')\n",
    "dates = np.unique([gbs[x,0][:6] for x in range(len(gbs))])\n",
    "print('Unique dates:')\n",
    "dates"
   ]
  },
  {
   "cell_type": "markdown",
   "id": "55252a20",
   "metadata": {},
   "source": [
    "# Asteroseismic Targets"
   ]
  },
  {
   "cell_type": "code",
   "execution_count": 154,
   "id": "4efe1625",
   "metadata": {},
   "outputs": [],
   "source": [
    "zinn = Table.read('../../auxiliary_information/Zinn_Table2_eDR3_xmatch.fits')"
   ]
  },
  {
   "cell_type": "code",
   "execution_count": 155,
   "id": "6df4fae1",
   "metadata": {},
   "outputs": [],
   "source": [
    "zinn_dr3 = join(galahdr3,zinn,keys='source_id',join_type='inner')"
   ]
  },
  {
   "cell_type": "code",
   "execution_count": 156,
   "id": "2dd9e242",
   "metadata": {},
   "outputs": [
    {
     "name": "stderr",
     "output_type": "stream",
     "text": [
      "WARNING: MergeConflictWarning: Cannot merge meta key 'EXTNAME' types <class 'str'> and <class 'str'>, choosing EXTNAME='Joined' [astropy.utils.metadata]\n",
      "WARNING: MergeConflictWarning: Cannot merge meta key 'DATE-HDU' types <class 'str'> and <class 'str'>, choosing DATE-HDU='2021-10-22T11:56:15' [astropy.utils.metadata]\n"
     ]
    }
   ],
   "source": [
    "zinn_dr60 = join(irafdr60,zinn,keys='source_id',join_type='inner')"
   ]
  },
  {
   "cell_type": "code",
   "execution_count": 157,
   "id": "ec7c6ae6",
   "metadata": {},
   "outputs": [
    {
     "name": "stdout",
     "output_type": "stream",
     "text": [
      "available:  10464  not available:  951\n",
      "Unique dates:\n"
     ]
    },
    {
     "data": {
      "text/plain": [
       "array(['131119', '131216', '131220', '140111', '140114', '140209',\n",
       "       '140308', '140708', '140709', '140710', '140712', '140713',\n",
       "       '140806', '140807', '140808', '141101', '141102', '141231',\n",
       "       '150204', '150210', '150405', '170205', '171102'], dtype='<U6')"
      ]
     },
     "execution_count": 157,
     "metadata": {},
     "output_type": "execute_result"
    }
   ],
   "source": [
    "all_sobject_ids = np.concatenate(([np.array(zinn_dr3['sobject_id']),np.array(zinn_dr60['sobject_id'])]))\n",
    "all_numax = np.concatenate(([np.array(zinn_dr3['numax_mean']),np.array(zinn_dr60['numax_mean'])]))\n",
    "unique_sobject_ids, unique_indices = np.unique(all_sobject_ids,return_index=True)\n",
    "numax_unique = all_numax[unique_indices]\n",
    "\n",
    "sobject_ids = [['#sobject_id','numax']]\n",
    "available = 0\n",
    "not_available = 0\n",
    "\n",
    "for (sobject_id,comment) in zip(unique_sobject_ids,numax_unique):\n",
    "    if int(sobject_id) in irafdr60['sobject_id']:\n",
    "        sobject_ids.append(str(sobject_id))\n",
    "        available += 1\n",
    "    else:\n",
    "        sobject_ids.append('#'+str(sobject_id))\n",
    "        not_available += 1\n",
    "        \n",
    "print('available: ',available,' not available: ',not_available)\n",
    "np.savetxt('asteroseismic_stars',sobject_ids,fmt='%s')\n",
    "dates = np.unique([gbs[x,0][:6] for x in range(len(gbs))])\n",
    "print('Unique dates:')\n",
    "dates"
   ]
  }
 ],
 "metadata": {
  "kernelspec": {
   "display_name": "Python 3",
   "language": "python",
   "name": "python3"
  },
  "language_info": {
   "codemirror_mode": {
    "name": "ipython",
    "version": 3
   },
   "file_extension": ".py",
   "mimetype": "text/x-python",
   "name": "python",
   "nbconvert_exporter": "python",
   "pygments_lexer": "ipython3",
   "version": "3.7.4"
  }
 },
 "nbformat": 4,
 "nbformat_minor": 5
}
