{
 "cells": [
  {
   "cell_type": "code",
   "execution_count": 96,
   "id": "9f7d7b23",
   "metadata": {},
   "outputs": [],
   "source": [
    "import numpy as np\n",
    "import astropy.io.fits as pyfits\n",
    "import pickle"
   ]
  },
  {
   "cell_type": "code",
   "execution_count": 97,
   "id": "28d91f8c",
   "metadata": {},
   "outputs": [],
   "source": [
    "data,header = pyfits.getdata('../spectrum_post_processing/galah_dr4_allspec_not_validated.fits', header=True)"
   ]
  },
  {
   "cell_type": "code",
   "execution_count": 98,
   "id": "37f96fbe",
   "metadata": {},
   "outputs": [],
   "source": [
    "description = dict()\n",
    "# Major identifiers\n",
    "description['sobject_id'] = 'GALAH identifier'\n",
    "description['tmass_id'] = '2MASS identifier'\n",
    "description['gaiadr3_source_id'] = 'Gaia DR3 source_id'\n",
    "description['ra'] = 'propagated from Gaia DR3'\n",
    "description['dec'] = 'propagated from Gaia DR3'\n",
    "\n",
    "# Main spectroscopic results\n",
    "description['flag_sp'] = 'Major spectroscopic fitting quality bitmask flag'\n",
    "description['chi2_sp'] = 'Chi2 value of spectroscopic fitting'\n",
    "description['model_name'] = 'Neural network model used for creating synthetic spectra'\n",
    "description['teff'] = 'Spectroscopic effective temperature (used for fitting)'\n",
    "description['e_teff'] = 'Uncertainty teff'\n",
    "description['logg'] = 'Spectroscopic surface gravity (used for fitting)'\n",
    "description['e_logg'] = 'Uncertainty logg'\n",
    "description['fe_h'] = 'Abundance of Fe and all other elements not fitted in GALAH (Fe: 1D-NLTE)'\n",
    "description['e_fe_h'] = 'Uncertainty fe_h'\n",
    "description['flag_fe_h'] = 'Quality flag fe_h'\n",
    "description['vmic'] = 'Microturbulence velocity (fitted)'\n",
    "description['e_vmic'] = 'Uncertainty vmic'\n",
    "description['vsini'] = 'Broadening velocity (fitted sme.vsini with sme.vmac=0)'\n",
    "description['e_vsini'] = 'Uncertainty of vsini'\n",
    "\n",
    "# Elemental abundances\n",
    "for each in [\n",
    "    'Li',\n",
    "    'C',\n",
    "    'N',\n",
    "    'O',\n",
    "    'Na',\n",
    "    'Mg',\n",
    "    'Al',\n",
    "    'Si',\n",
    "    'K',\n",
    "    'Ca',\n",
    "    'Sc',\n",
    "    'Ti',\n",
    "    'V',\n",
    "    'Cr',\n",
    "    'Mn',\n",
    "    'Co',\n",
    "    'Ni',\n",
    "    'Cu',\n",
    "    'Zn',\n",
    "    'Rb',\n",
    "    'Sr',\n",
    "    'Y',\n",
    "    'Zr',\n",
    "    'Mo',\n",
    "    'Ru',\n",
    "    'Ba',\n",
    "    'La',\n",
    "    'Ce',\n",
    "    'Nd',\n",
    "    'Sm',\n",
    "    'Eu',\n",
    "]:\n",
    "    description[each.lower()+'_fe'] = 'Elemental abundance for ['+each+'/Fe]'\n",
    "    description['e_'+each.lower()+'_fe'] = 'Uncertainty '+each+'_fe'\n",
    "    description['flag_'+each.lower()+'_fe'] = 'Quality bitmask flag of '+each+'_fe'\n",
    "\n",
    "# Reduction information\n",
    "description['v_bary_eff'] = 'Barycentric velocity applied to reduced spectra'\n",
    "description['red_rv_ccd'] = 'Reduction pipeline best radial velocity for each CCD'\n",
    "description['red_e_rv_ccd'] = 'Reduction pipeline uncertainty of red_rv_ccd'\n",
    "description['red_rv_com'] = 'Reduction pipeline combined best radial velocity'\n",
    "description['red_e_rv_com'] = 'Reduction pipeline uncertainty of red_rv_com'\n",
    "description['red_teff'] = 'Reduction pipeline best teff'\n",
    "description['red_logg'] = 'Reduction pipeline best logg'\n",
    "description['red_fe_h'] = 'Reduction pipeline best fe_h'\n",
    "description['red_alpha_fe'] = 'Reduction pipeline best alpha_fe'\n",
    "description['red_vmic'] = 'Reduction pipeline best vmic'\n",
    "description['red_vbroad'] = 'Reduction pipeline best vbroad'\n",
    "description['red_flag'] = 'Reduction pipeline quality bitmask flag'\n",
    "\n",
    "# Additional parameters of post-processing for binarity, emission, interstellar residuals etc.\n",
    "description['sb2_rv_16'] = '16th perc. radial velocity of fit to syn-obs residuals'\n",
    "description['sb2_rv_50'] = '50th perc. radial velocity of fit to syn-obs residuals'\n",
    "description['sb2_rv_84'] = '84th perc. radial velocity of fit to syn-obs residuals'\n",
    "description['ew_h_beta'] = 'Equivalent Width of fit for syn-obs residuals at Hbeta core'\n",
    "description['ew_h_alpha'] = 'Equivalent Width of fit for syn-obs residuals at Halpha core'\n",
    "description['ew_k_is'] = 'Equivalent Width of fit for K7699 Interstellar Line'\n",
    "description['sigma_k_is'] = 'Sigma auf Gaussian fit for K7699 Interstellar Line'\n",
    "description['rv_k_is'] = 'Radial velocity of fit to syn-obs residuals around K7699 line'\n",
    "description['ew_dib5780'] = 'Equivalent Width of fit for 5780 Diffiuse Interstellar Band'\n",
    "description['sigma_dib5780'] = 'Sigma auf Gaussian fit for 5780 DIB'\n",
    "description['rv_dib5780'] = 'Radial velocity of fit to syn-obs residuals around 5780 DIB'\n",
    "description['ew_dib5797'] = 'Equivalent Width of fit for 5797 Diffiuse Interstellar Band'\n",
    "description['sigma_dib5797'] = 'Sigma auf Gaussian fit for 5797 DIB'\n",
    "description['rv_dib5797'] = 'Radial velocity of fit to syn-obs residuals around 5797 DIB'\n",
    "description['ew_dib6613'] = 'Equivalent Width of fit for 6613 Diffiuse Interstellar Band'\n",
    "description['sigma_dib6613'] = 'Sigma auf Gaussian fit for 6613 DIB'\n",
    "description['rv_dib6613'] = 'Radial velocity of fit to syn-obs residuals around 6613 DIB'\n",
    "\n",
    "description['snr'] = 'Average signal-to-noise ratio (per pixel) of each CCD'"
   ]
  },
  {
   "cell_type": "code",
   "execution_count": 99,
   "id": "8c4ad0d1",
   "metadata": {},
   "outputs": [],
   "source": [
    "units = dict()\n",
    "for each in description.keys():\n",
    "    units[each] = ''\n",
    "    if each in ['sobject_id','tmass_id','gaiadr3_source_id',\n",
    "                'flag_sp','chi2_sp','model_name',\n",
    "                'flag_fe_h',\n",
    "                'red_flag',\n",
    "                'snr'\n",
    "               ]:\n",
    "        pass\n",
    "    elif each in ['teff','e_teff','red_teff']:\n",
    "        units[each] = 'K'\n",
    "    elif each in ['logg','e_logg','red_logg']:\n",
    "        units[each] = 'log(cm.s**-2)'\n",
    "    elif each in [\n",
    "        'fe_h','e_fe_h','red_fe_h'\n",
    "        ]:\n",
    "        units[each] = 'dex'\n",
    "    elif each in ['vmic','e_vmic','vsini','e_vsini',\n",
    "                  'v_bary_eff',\n",
    "                  'red_rv_ccd','red_e_rv_ccd','red_rv_com','red_e_rv_com',\n",
    "                  'red_vmic','red_vbroad',\n",
    "                  'sb2_rv_16','sb2_rv_50','sb2_rv_84','rv_k_is','rv_dib5780','rv_dib5797','rv_dib6613'\n",
    "                 ]:\n",
    "        units[each] = 'km s-1'\n",
    "    elif each in ['ra','dec']:\n",
    "        units[each] = 'deg'\n",
    "    elif each[:6] == 'sigma_':\n",
    "        units[each] = ''\n",
    "    elif each[:3] == 'ew_':\n",
    "        units[each] = 'Angstroem'\n",
    "    elif each[-3:] == '_fe':\n",
    "        units[each] = 'dex'\n",
    "    else:\n",
    "        print(\"'\"+each+\"',\")"
   ]
  },
  {
   "cell_type": "code",
   "execution_count": 100,
   "id": "4e15a7ae",
   "metadata": {
    "scrolled": false
   },
   "outputs": [],
   "source": [
    "for each_index, each_key in enumerate(data.dtype.names):\n",
    "    try:\n",
    "        header['TTYPE'+str(each_index+1)] = each_key\n",
    "        header['TUNIT'+str(each_index+1)] = units[each_key]\n",
    "        header['TCOMM'+str(each_index+1)] = description[each_key]\n",
    "    except:\n",
    "        print(each_key)\n",
    "\n",
    "tbhdu = pyfits.BinTableHDU.from_columns(columns=data,header=header)\n",
    "tbhdu.writeto('galah_dr4_allspec_220713.fits')"
   ]
  },
  {
   "cell_type": "code",
   "execution_count": 101,
   "id": "16fffd2a",
   "metadata": {},
   "outputs": [],
   "source": [
    "schema = [\n",
    "    ['*Column Name* | *Units* | *Description* | *Data Type* | '],\n",
    "    [':--------------|:--------------|:------------|:----------|']\n",
    "]\n",
    "#star_id |  | 2MASS id   |char[16] | ]\n",
    "for each_key in data.dtype.names:\n",
    "    schema.append([each_key+' | '+str(units[each_key])+' | '+str(description[each_key])+' | '+str(data[each_key].dtype)+' | '])\n",
    "np.savetxt('schema_galah_dr4_allspec',np.array(schema),fmt='%s')"
   ]
  },
  {
   "cell_type": "code",
   "execution_count": 102,
   "id": "e3984385",
   "metadata": {},
   "outputs": [
    {
     "data": {
      "text/plain": [
       "[['*Bitmask* | *Description* | '],\n",
       " [':--------------|:--------------|'],\n",
       " ['0 | No flag rasied | '],\n",
       " ['1 | Emission in Halpha/Hbeta detected | '],\n",
       " ['2 | Broadening (vsini) warning | '],\n",
       " ['4 | Microturbulence (vmic) warning | '],\n",
       " ['8 | chi square unusually low/high by 3 sigma | '],\n",
       " ['16 | Double line splitting detected (SB2) | '],\n",
       " ['32 | Not all 4 CCDs available | '],\n",
       " ['64 | Extrapolating spectrum model | '],\n",
       " ['128 | No spectroscopic analysis results available | ']]"
      ]
     },
     "execution_count": 102,
     "metadata": {},
     "output_type": "execute_result"
    }
   ],
   "source": [
    "a_file = open(\"../spectrum_post_processing/final_flag_sp_dictionary.pkl\", \"rb\")\n",
    "flag_sp_dictionary = pickle.load(a_file)\n",
    "a_file.close()\n",
    "\n",
    "schema = [\n",
    "    ['*Bitmask* | *Description* | '],\n",
    "    [':--------------|:--------------|']\n",
    "]\n",
    "schema.append(['0 | No flag rasied | '])\n",
    "for key in flag_sp_dictionary.keys():\n",
    "    schema.append([str(flag_sp_dictionary[key][0])+' | '+str(flag_sp_dictionary[key][1])+' | '])\n",
    "np.savetxt('schema_galah_dr4_flag_sp',np.array(schema),fmt='%s')\n",
    "schema"
   ]
  },
  {
   "cell_type": "code",
   "execution_count": 103,
   "id": "45e268e8",
   "metadata": {},
   "outputs": [
    {
     "data": {
      "text/plain": [
       "[['*Bitmask* | *Description* | '],\n",
       " [':--------------|:--------------|'],\n",
       " ['0 | No flag rasied | '],\n",
       " ['1 | Upper limit | '],\n",
       " ['2 | No measurement available | ']]"
      ]
     },
     "execution_count": 103,
     "metadata": {},
     "output_type": "execute_result"
    }
   ],
   "source": [
    "schema = [\n",
    "    ['*Bitmask* | *Description* | '],\n",
    "    [':--------------|:--------------|']\n",
    "]\n",
    "schema.append(['0 | No flag rasied | '])\n",
    "schema.append(['1 | Upper limit | '])\n",
    "schema.append(['2 | No measurement available | '])\n",
    "np.savetxt('schema_galah_dr4_flag_x_fe',np.array(schema),fmt='%s')\n",
    "schema"
   ]
  },
  {
   "cell_type": "code",
   "execution_count": null,
   "id": "90692591",
   "metadata": {},
   "outputs": [],
   "source": []
  }
 ],
 "metadata": {
  "kernelspec": {
   "display_name": "Python 3 (ipykernel)",
   "language": "python",
   "name": "python3"
  },
  "language_info": {
   "codemirror_mode": {
    "name": "ipython",
    "version": 3
   },
   "file_extension": ".py",
   "mimetype": "text/x-python",
   "name": "python",
   "nbconvert_exporter": "python",
   "pygments_lexer": "ipython3",
   "version": "3.9.12"
  }
 },
 "nbformat": 4,
 "nbformat_minor": 5
}
