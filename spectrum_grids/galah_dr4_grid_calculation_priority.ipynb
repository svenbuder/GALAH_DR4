{
 "cells": [
  {
   "cell_type": "code",
   "execution_count": 1,
   "metadata": {},
   "outputs": [],
   "source": [
    "try:\n",
    "    %matplotlib inline\n",
    "    %config InlineBackend.figure_format='retina'\n",
    "except:\n",
    "    pass\n",
    "\n",
    "import numpy as np\n",
    "from astropy.table import Table\n",
    "import matplotlib.pyplot as plt"
   ]
  },
  {
   "cell_type": "code",
   "execution_count": 2,
   "metadata": {},
   "outputs": [],
   "source": [
    "dr3 = Table.read('../auxiliary_information/GALAH_DR3_main_allspec_v2_lite.fits')"
   ]
  },
  {
   "cell_type": "code",
   "execution_count": 3,
   "metadata": {},
   "outputs": [],
   "source": [
    "iraf60 = Table.read('../auxiliary_information/dr6.0.fits')"
   ]
  },
  {
   "cell_type": "code",
   "execution_count": 4,
   "metadata": {},
   "outputs": [],
   "source": [
    "grids = Table.read('galah_dr4_model_trainingset_gridpoints.fits')"
   ]
  },
  {
   "cell_type": "code",
   "execution_count": 44,
   "metadata": {},
   "outputs": [],
   "source": [
    "# nr_grid_entries_dr3 = []\n",
    "\n",
    "# for index in grids['index_subgrid']:\n",
    "    \n",
    "#     dr3_in_grid = (\n",
    "#         (dr3['teff'] >= grids['teff_low_subgrid'][index]) &\n",
    "#         (dr3['teff'] <= grids['teff_high_subgrid'][index]) &\n",
    "#         (dr3['logg'] >= grids['logg_low_subgrid'][index]) &\n",
    "#         (dr3['logg'] <= grids['logg_high_subgrid'][index]) &\n",
    "#         (dr3['fe_h'] >= grids['fe_h_low_subgrid'][index]) &\n",
    "#         (dr3['fe_h'] <= grids['fe_h_high_subgrid'][index])\n",
    "#     )\n",
    "#     nr_grid_entries_dr3.append(len(dr3['teff'][dr3_in_grid]))\n",
    "    \n",
    "# nr_grid_entries_iraf60 = []\n",
    "\n",
    "# for index in grids['index_subgrid']:\n",
    "    \n",
    "#     iraf60_in_grid = (\n",
    "#         (iraf60['teff_r'] >= grids['teff_low_subgrid'][index]) &\n",
    "#         (iraf60['teff_r'] <= grids['teff_high_subgrid'][index]) &\n",
    "#         (iraf60['logg_r'] >= grids['logg_low_subgrid'][index]) &\n",
    "#         (iraf60['logg_r'] <= grids['logg_high_subgrid'][index]) &\n",
    "#         (iraf60['fe_h_r'] >= grids['fe_h_low_subgrid'][index]) &\n",
    "#         (iraf60['fe_h_r'] <= grids['fe_h_high_subgrid'][index])\n",
    "#     )\n",
    "#     nr_grid_entries_iraf60.append(len(iraf60['teff_r'][iraf60_in_grid]))\n",
    "    \n",
    "# grid_entries = Table()\n",
    "# grid_entries['index_subgrid'] = grids['index_subgrid']\n",
    "# grid_entries['nr_dr3'] = np.array(nr_grid_entries_dr3)\n",
    "# grid_entries['nr_iraf60'] = np.array(nr_grid_entries_iraf60)\n",
    "# grid_entries['teff'] = grids['teff_subgrid'][grid_entries['index_subgrid']]\n",
    "# grid_entries['logg'] = grids['logg_subgrid'][grid_entries['index_subgrid']]\n",
    "# grid_entries['fe_h'] = grids['fe_h_subgrid'][grid_entries['index_subgrid']]\n",
    "# grid_entries.write('galah_dr4_grid_priorities.fits',overwrite=True)"
   ]
  },
  {
   "cell_type": "code",
   "execution_count": 46,
   "metadata": {},
   "outputs": [],
   "source": [
    "grid_entries = Table.read('galah_dr4_grid_priorities.fits')\n",
    "grid_entries2 = Table.read('galah_dr4_grid_priorities.fits')"
   ]
  },
  {
   "cell_type": "code",
   "execution_count": 55,
   "metadata": {},
   "outputs": [],
   "source": [
    "grids_done = [\n",
    "    1259, \n",
    "    1511,\n",
    "    1918,1919,1920,\n",
    "    1930,1931,1932,\n",
    "    2001,2002,2003,\n",
    "    2013,2014\n",
    "]"
   ]
  },
  {
   "cell_type": "code",
   "execution_count": 56,
   "metadata": {},
   "outputs": [
    {
     "data": {
      "text/html": [
       "<i>Table length=13</i>\n",
       "<table id=\"table140264264675088\" class=\"table-striped table-bordered table-condensed\">\n",
       "<thead><tr><th>index_subgrid</th><th>nr_dr3</th><th>nr_iraf60</th><th>teff</th><th>logg</th><th>fe_h</th></tr></thead>\n",
       "<thead><tr><th>int64</th><th>int64</th><th>int64</th><th>float32</th><th>float32</th><th>float32</th></tr></thead>\n",
       "<tr><td>1814</td><td>29</td><td>180</td><td>5500.0</td><td>3.5</td><td>-2.5</td></tr>\n",
       "<tr><td>1048</td><td>11</td><td>5</td><td>3900.0</td><td>3.0</td><td>-1.0</td></tr>\n",
       "<tr><td>536</td><td>2</td><td>2</td><td>3500.0</td><td>2.0</td><td>0.75</td></tr>\n",
       "<tr><td>537</td><td>2</td><td>2</td><td>3500.0</td><td>2.5</td><td>-3.0</td></tr>\n",
       "<tr><td>1107</td><td>2</td><td>13</td><td>4000.0</td><td>0.0</td><td>0.5</td></tr>\n",
       "<tr><td>2179</td><td>2</td><td>19</td><td>6750.0</td><td>2.0</td><td>0.5</td></tr>\n",
       "<tr><td>379</td><td>2</td><td>12</td><td>3400.0</td><td>1.0</td><td>-0.75</td></tr>\n",
       "<tr><td>124</td><td>2</td><td>2</td><td>3200.0</td><td>1.0</td><td>-2.0</td></tr>\n",
       "<tr><td>402</td><td>1</td><td>4</td><td>3400.0</td><td>2.0</td><td>-1.0</td></tr>\n",
       "<tr><td>2461</td><td>1</td><td>9</td><td>7750.0</td><td>3.0</td><td>0.5</td></tr>\n",
       "<tr><td>171</td><td>1</td><td>0</td><td>3200.0</td><td>3.0</td><td>-2.5</td></tr>\n",
       "<tr><td>385</td><td>1</td><td>1</td><td>3400.0</td><td>1.0</td><td>0.75</td></tr>\n",
       "<tr><td>331</td><td>1</td><td>0</td><td>3300.0</td><td>4.0</td><td>0.75</td></tr>\n",
       "</table>"
      ],
      "text/plain": [
       "<Table length=13>\n",
       "index_subgrid nr_dr3 nr_iraf60   teff    logg    fe_h \n",
       "    int64     int64    int64   float32 float32 float32\n",
       "------------- ------ --------- ------- ------- -------\n",
       "         1814     29       180  5500.0     3.5    -2.5\n",
       "         1048     11         5  3900.0     3.0    -1.0\n",
       "          536      2         2  3500.0     2.0    0.75\n",
       "          537      2         2  3500.0     2.5    -3.0\n",
       "         1107      2        13  4000.0     0.0     0.5\n",
       "         2179      2        19  6750.0     2.0     0.5\n",
       "          379      2        12  3400.0     1.0   -0.75\n",
       "          124      2         2  3200.0     1.0    -2.0\n",
       "          402      1         4  3400.0     2.0    -1.0\n",
       "         2461      1         9  7750.0     3.0     0.5\n",
       "          171      1         0  3200.0     3.0    -2.5\n",
       "          385      1         1  3400.0     1.0    0.75\n",
       "          331      1         0  3300.0     4.0    0.75"
      ]
     },
     "execution_count": 56,
     "metadata": {},
     "output_type": "execute_result"
    }
   ],
   "source": [
    "grid_entries[grids_done]"
   ]
  },
  {
   "cell_type": "code",
   "execution_count": 57,
   "metadata": {},
   "outputs": [],
   "source": [
    "grid_entries.sort(keys='nr_dr3', reverse=True)\n",
    "grid_entries2.sort(keys='nr_iraf60', reverse=True)"
   ]
  },
  {
   "cell_type": "code",
   "execution_count": 58,
   "metadata": {},
   "outputs": [],
   "source": [
    "not_yet_done = [grid_entries['index_subgrid'][x] not in grids_done for x in range(len(grid_entries))]\n",
    "not_yet_done2 = [grid_entries2['index_subgrid'][x] not in grids_done for x in range(len(grid_entries2))]"
   ]
  },
  {
   "cell_type": "code",
   "execution_count": 59,
   "metadata": {},
   "outputs": [
    {
     "data": {
      "text/html": [
       "<i>Table length=22</i>\n",
       "<table id=\"table140264266340880\" class=\"table-striped table-bordered table-condensed\">\n",
       "<thead><tr><th>index_subgrid</th><th>nr_dr3</th><th>nr_iraf60</th><th>teff</th><th>logg</th><th>fe_h</th></tr></thead>\n",
       "<thead><tr><th>int64</th><th>int64</th><th>int64</th><th>float32</th><th>float32</th><th>float32</th></tr></thead>\n",
       "<tr><td>2078</td><td>79998</td><td>77407</td><td>6250.0</td><td>4.0</td><td>-0.25</td></tr>\n",
       "<tr><td>1833</td><td>72302</td><td>111465</td><td>5500.0</td><td>4.0</td><td>0.0</td></tr>\n",
       "<tr><td>1499</td><td>72205</td><td>94129</td><td>4750.0</td><td>2.5</td><td>-0.25</td></tr>\n",
       "<tr><td>2079</td><td>71905</td><td>74673</td><td>6250.0</td><td>4.0</td><td>0.0</td></tr>\n",
       "<tr><td>1845</td><td>63995</td><td>85059</td><td>5500.0</td><td>4.5</td><td>0.0</td></tr>\n",
       "<tr><td>1832</td><td>60104</td><td>68836</td><td>5500.0</td><td>4.0</td><td>-0.25</td></tr>\n",
       "<tr><td>2090</td><td>54193</td><td>32701</td><td>6250.0</td><td>4.5</td><td>-0.25</td></tr>\n",
       "<tr><td>1844</td><td>50572</td><td>47060</td><td>5500.0</td><td>4.5</td><td>-0.25</td></tr>\n",
       "<tr><td>1500</td><td>50434</td><td>70867</td><td>4750.0</td><td>2.5</td><td>0.0</td></tr>\n",
       "<tr><td>2091</td><td>49546</td><td>37491</td><td>6250.0</td><td>4.5</td><td>0.0</td></tr>\n",
       "<tr><td>1487</td><td>49393</td><td>56698</td><td>4750.0</td><td>2.0</td><td>-0.25</td></tr>\n",
       "<tr><td>1393</td><td>48318</td><td>64910</td><td>4500.0</td><td>2.5</td><td>-0.25</td></tr>\n",
       "<tr><td>1498</td><td>47309</td><td>44956</td><td>4750.0</td><td>2.5</td><td>-0.5</td></tr>\n",
       "<tr><td>2000</td><td>47069</td><td>37260</td><td>6000.0</td><td>4.0</td><td>-0.5</td></tr>\n",
       "<tr><td>1834</td><td>46509</td><td>82293</td><td>5500.0</td><td>4.0</td><td>0.25</td></tr>\n",
       "<tr><td>1917</td><td>46028</td><td>36278</td><td>5750.0</td><td>4.0</td><td>-0.5</td></tr>\n",
       "<tr><td>1394</td><td>44904</td><td>49810</td><td>4500.0</td><td>2.5</td><td>0.0</td></tr>\n",
       "<tr><td>1846</td><td>42015</td><td>66880</td><td>5500.0</td><td>4.5</td><td>0.25</td></tr>\n",
       "<tr><td>1381</td><td>41802</td><td>63078</td><td>4500.0</td><td>2.0</td><td>-0.25</td></tr>\n",
       "<tr><td>2015</td><td>37945</td><td>50264</td><td>6000.0</td><td>4.5</td><td>0.25</td></tr>\n",
       "<tr><td>2151</td><td>37183</td><td>23544</td><td>6500.0</td><td>4.0</td><td>-0.25</td></tr>\n",
       "<tr><td>1929</td><td>35420</td><td>21637</td><td>5750.0</td><td>4.5</td><td>-0.5</td></tr>\n",
       "</table>"
      ],
      "text/plain": [
       "<Table length=22>\n",
       "index_subgrid nr_dr3 nr_iraf60   teff    logg    fe_h \n",
       "    int64     int64    int64   float32 float32 float32\n",
       "------------- ------ --------- ------- ------- -------\n",
       "         2078  79998     77407  6250.0     4.0   -0.25\n",
       "         1833  72302    111465  5500.0     4.0     0.0\n",
       "         1499  72205     94129  4750.0     2.5   -0.25\n",
       "         2079  71905     74673  6250.0     4.0     0.0\n",
       "         1845  63995     85059  5500.0     4.5     0.0\n",
       "         1832  60104     68836  5500.0     4.0   -0.25\n",
       "         2090  54193     32701  6250.0     4.5   -0.25\n",
       "         1844  50572     47060  5500.0     4.5   -0.25\n",
       "         1500  50434     70867  4750.0     2.5     0.0\n",
       "         2091  49546     37491  6250.0     4.5     0.0\n",
       "         1487  49393     56698  4750.0     2.0   -0.25\n",
       "         1393  48318     64910  4500.0     2.5   -0.25\n",
       "         1498  47309     44956  4750.0     2.5    -0.5\n",
       "         2000  47069     37260  6000.0     4.0    -0.5\n",
       "         1834  46509     82293  5500.0     4.0    0.25\n",
       "         1917  46028     36278  5750.0     4.0    -0.5\n",
       "         1394  44904     49810  4500.0     2.5     0.0\n",
       "         1846  42015     66880  5500.0     4.5    0.25\n",
       "         1381  41802     63078  4500.0     2.0   -0.25\n",
       "         2015  37945     50264  6000.0     4.5    0.25\n",
       "         2151  37183     23544  6500.0     4.0   -0.25\n",
       "         1929  35420     21637  5750.0     4.5    -0.5"
      ]
     },
     "execution_count": 59,
     "metadata": {},
     "output_type": "execute_result"
    }
   ],
   "source": [
    "grid_entries[not_yet_done][:22]"
   ]
  },
  {
   "cell_type": "code",
   "execution_count": 60,
   "metadata": {},
   "outputs": [
    {
     "data": {
      "text/html": [
       "<i>Table length=22</i>\n",
       "<table id=\"table140264266341200\" class=\"table-striped table-bordered table-condensed\">\n",
       "<thead><tr><th>index_subgrid</th><th>nr_dr3</th><th>nr_iraf60</th><th>teff</th><th>logg</th><th>fe_h</th></tr></thead>\n",
       "<thead><tr><th>int64</th><th>int64</th><th>int64</th><th>float32</th><th>float32</th><th>float32</th></tr></thead>\n",
       "<tr><td>1833</td><td>72302</td><td>111465</td><td>5500.0</td><td>4.0</td><td>0.0</td></tr>\n",
       "<tr><td>1499</td><td>72205</td><td>94129</td><td>4750.0</td><td>2.5</td><td>-0.25</td></tr>\n",
       "<tr><td>1845</td><td>63995</td><td>85059</td><td>5500.0</td><td>4.5</td><td>0.0</td></tr>\n",
       "<tr><td>1834</td><td>46509</td><td>82293</td><td>5500.0</td><td>4.0</td><td>0.25</td></tr>\n",
       "<tr><td>2078</td><td>79998</td><td>77407</td><td>6250.0</td><td>4.0</td><td>-0.25</td></tr>\n",
       "<tr><td>2079</td><td>71905</td><td>74673</td><td>6250.0</td><td>4.0</td><td>0.0</td></tr>\n",
       "<tr><td>1500</td><td>50434</td><td>70867</td><td>4750.0</td><td>2.5</td><td>0.0</td></tr>\n",
       "<tr><td>1832</td><td>60104</td><td>68836</td><td>5500.0</td><td>4.0</td><td>-0.25</td></tr>\n",
       "<tr><td>1846</td><td>42015</td><td>66880</td><td>5500.0</td><td>4.5</td><td>0.25</td></tr>\n",
       "<tr><td>1393</td><td>48318</td><td>64910</td><td>4500.0</td><td>2.5</td><td>-0.25</td></tr>\n",
       "<tr><td>1381</td><td>41802</td><td>63078</td><td>4500.0</td><td>2.0</td><td>-0.25</td></tr>\n",
       "<tr><td>1990</td><td>29773</td><td>60188</td><td>6000.0</td><td>3.5</td><td>0.0</td></tr>\n",
       "<tr><td>1989</td><td>30552</td><td>58072</td><td>6000.0</td><td>3.5</td><td>-0.25</td></tr>\n",
       "<tr><td>1487</td><td>49393</td><td>56698</td><td>4750.0</td><td>2.0</td><td>-0.25</td></tr>\n",
       "<tr><td>1738</td><td>33090</td><td>55694</td><td>5250.0</td><td>4.0</td><td>0.0</td></tr>\n",
       "<tr><td>1907</td><td>24637</td><td>54381</td><td>5750.0</td><td>3.5</td><td>0.0</td></tr>\n",
       "<tr><td>1512</td><td>33374</td><td>53921</td><td>4750.0</td><td>3.0</td><td>0.0</td></tr>\n",
       "<tr><td>1614</td><td>31412</td><td>51690</td><td>5000.0</td><td>3.0</td><td>-0.25</td></tr>\n",
       "<tr><td>2015</td><td>37945</td><td>50264</td><td>6000.0</td><td>4.5</td><td>0.25</td></tr>\n",
       "<tr><td>1394</td><td>44904</td><td>49810</td><td>4500.0</td><td>2.5</td><td>0.0</td></tr>\n",
       "<tr><td>1615</td><td>26005</td><td>49738</td><td>5000.0</td><td>3.0</td><td>0.0</td></tr>\n",
       "<tr><td>1844</td><td>50572</td><td>47060</td><td>5500.0</td><td>4.5</td><td>-0.25</td></tr>\n",
       "</table>"
      ],
      "text/plain": [
       "<Table length=22>\n",
       "index_subgrid nr_dr3 nr_iraf60   teff    logg    fe_h \n",
       "    int64     int64    int64   float32 float32 float32\n",
       "------------- ------ --------- ------- ------- -------\n",
       "         1833  72302    111465  5500.0     4.0     0.0\n",
       "         1499  72205     94129  4750.0     2.5   -0.25\n",
       "         1845  63995     85059  5500.0     4.5     0.0\n",
       "         1834  46509     82293  5500.0     4.0    0.25\n",
       "         2078  79998     77407  6250.0     4.0   -0.25\n",
       "         2079  71905     74673  6250.0     4.0     0.0\n",
       "         1500  50434     70867  4750.0     2.5     0.0\n",
       "         1832  60104     68836  5500.0     4.0   -0.25\n",
       "         1846  42015     66880  5500.0     4.5    0.25\n",
       "         1393  48318     64910  4500.0     2.5   -0.25\n",
       "         1381  41802     63078  4500.0     2.0   -0.25\n",
       "         1990  29773     60188  6000.0     3.5     0.0\n",
       "         1989  30552     58072  6000.0     3.5   -0.25\n",
       "         1487  49393     56698  4750.0     2.0   -0.25\n",
       "         1738  33090     55694  5250.0     4.0     0.0\n",
       "         1907  24637     54381  5750.0     3.5     0.0\n",
       "         1512  33374     53921  4750.0     3.0     0.0\n",
       "         1614  31412     51690  5000.0     3.0   -0.25\n",
       "         2015  37945     50264  6000.0     4.5    0.25\n",
       "         1394  44904     49810  4500.0     2.5     0.0\n",
       "         1615  26005     49738  5000.0     3.0     0.0\n",
       "         1844  50572     47060  5500.0     4.5   -0.25"
      ]
     },
     "execution_count": 60,
     "metadata": {},
     "output_type": "execute_result"
    }
   ],
   "source": [
    "grid_entries2[not_yet_done2][:22]"
   ]
  },
  {
   "cell_type": "code",
   "execution_count": 61,
   "metadata": {},
   "outputs": [
    {
     "data": {
      "text/plain": [
       "<matplotlib.collections.PathCollection at 0x7f91d1cbef50>"
      ]
     },
     "execution_count": 61,
     "metadata": {},
     "output_type": "execute_result"
    },
    {
     "data": {
      "image/png": "[encoded data removed]",
      "text/plain": [
       "<Figure size 432x288 with 1 Axes>"
      ]
     },
     "metadata": {
      "image/png": {
       "height": 248,
       "width": 394
      },
      "needs_background": "light"
     },
     "output_type": "display_data"
    }
   ],
   "source": [
    "plt.scatter(\n",
    "    grid_entries['index_subgrid'],\n",
    "    grid_entries['nr_dr3'],\n",
    "    s=1\n",
    ")"
   ]
  },
  {
   "cell_type": "code",
   "execution_count": 62,
   "metadata": {},
   "outputs": [
    {
     "data": {
      "text/plain": [
       "<matplotlib.collections.PathCollection at 0x7f91d1ddba90>"
      ]
     },
     "execution_count": 62,
     "metadata": {},
     "output_type": "execute_result"
    },
    {
     "data": {
      "image/png": "[encoded data removed]",
      "text/plain": [
       "<Figure size 432x288 with 1 Axes>"
      ]
     },
     "metadata": {
      "image/png": {
       "height": 248,
       "width": 394
      },
      "needs_background": "light"
     },
     "output_type": "display_data"
    }
   ],
   "source": [
    "plt.scatter(\n",
    "    grid_entries2['index_subgrid'],\n",
    "    grid_entries2['nr_iraf60'],\n",
    "    s=1\n",
    ")"
   ]
  },
  {
   "cell_type": "code",
   "execution_count": null,
   "metadata": {},
   "outputs": [],
   "source": []
  },
  {
   "cell_type": "code",
   "execution_count": null,
   "metadata": {},
   "outputs": [],
   "source": []
  }
 ],
 "metadata": {
  "kernelspec": {
   "display_name": "Python 3",
   "language": "python",
   "name": "python3"
  },
  "language_info": {
   "codemirror_mode": {
    "name": "ipython",
    "version": 3
   },
   "file_extension": ".py",
   "mimetype": "text/x-python",
   "name": "python",
   "nbconvert_exporter": "python",
   "pygments_lexer": "ipython3",
   "version": "3.7.4"
  }
 },
 "nbformat": 4,
 "nbformat_minor": 2
}
