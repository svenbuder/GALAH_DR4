{
 "cells": [
  {
   "cell_type": "code",
   "execution_count": 1,
   "metadata": {},
   "outputs": [],
   "source": [
    "try:\n",
    "    %matplotlib inline\n",
    "    %config InlineBackend.figure_format='retina'\n",
    "except:\n",
    "    pass\n",
    "\n",
    "import numpy as np\n",
    "from astropy.table import Table\n",
    "import matplotlib.pyplot as plt"
   ]
  },
  {
   "cell_type": "code",
   "execution_count": 2,
   "metadata": {},
   "outputs": [],
   "source": [
    "dr3 = Table.read('../auxiliary_information/GALAH_DR3_main_allspec_v2_lite.fits')"
   ]
  },
  {
   "cell_type": "code",
   "execution_count": 3,
   "metadata": {},
   "outputs": [],
   "source": [
    "iraf60 = Table.read('../auxiliary_information/dr6.0.fits')"
   ]
  },
  {
   "cell_type": "code",
   "execution_count": 4,
   "metadata": {},
   "outputs": [],
   "source": [
    "grids = Table.read('galah_dr4_model_trainingset_gridpoints.fits')"
   ]
  },
  {
   "cell_type": "code",
   "execution_count": 5,
   "metadata": {
    "code_folding": [
     2,
     16
    ]
   },
   "outputs": [],
   "source": [
    "# nr_grid_entries_dr3 = []\n",
    "\n",
    "# for index in grids['index_subgrid']:\n",
    "    \n",
    "#     dr3_in_grid = (\n",
    "#         (dr3['teff'] >= grids['teff_low_subgrid'][index]) &\n",
    "#         (dr3['teff'] <= grids['teff_high_subgrid'][index]) &\n",
    "#         (dr3['logg'] >= grids['logg_low_subgrid'][index]) &\n",
    "#         (dr3['logg'] <= grids['logg_high_subgrid'][index]) &\n",
    "#         (dr3['fe_h'] >= grids['fe_h_low_subgrid'][index]) &\n",
    "#         (dr3['fe_h'] <= grids['fe_h_high_subgrid'][index])\n",
    "#     )\n",
    "#     nr_grid_entries_dr3.append(len(dr3['teff'][dr3_in_grid]))\n",
    "    \n",
    "# nr_grid_entries_iraf60 = []\n",
    "\n",
    "# for index in grids['index_subgrid']:\n",
    "    \n",
    "#     iraf60_in_grid = (\n",
    "#         (iraf60['teff_r'] >= grids['teff_low_subgrid'][index]) &\n",
    "#         (iraf60['teff_r'] <= grids['teff_high_subgrid'][index]) &\n",
    "#         (iraf60['logg_r'] >= grids['logg_low_subgrid'][index]) &\n",
    "#         (iraf60['logg_r'] <= grids['logg_high_subgrid'][index]) &\n",
    "#         (iraf60['fe_h_r'] >= grids['fe_h_low_subgrid'][index]) &\n",
    "#         (iraf60['fe_h_r'] <= grids['fe_h_high_subgrid'][index])\n",
    "#     )\n",
    "#     nr_grid_entries_iraf60.append(len(iraf60['teff_r'][iraf60_in_grid]))\n",
    "    \n",
    "# grid_entries = Table()\n",
    "# grid_entries['index_subgrid'] = grids['index_subgrid']\n",
    "# grid_entries['nr_dr3'] = np.array(nr_grid_entries_dr3)\n",
    "# grid_entries['nr_iraf60'] = np.array(nr_grid_entries_iraf60)\n",
    "# grid_entries['teff'] = grids['teff_subgrid'][grid_entries['index_subgrid']]\n",
    "# grid_entries['logg'] = grids['logg_subgrid'][grid_entries['index_subgrid']]\n",
    "# grid_entries['fe_h'] = grids['fe_h_subgrid'][grid_entries['index_subgrid']]\n",
    "# grid_entries.write('galah_dr4_grid_priorities.fits',overwrite=True)"
   ]
  },
  {
   "cell_type": "code",
   "execution_count": 6,
   "metadata": {},
   "outputs": [],
   "source": [
    "grid_entries = Table.read('galah_dr4_grid_priorities.fits')\n",
    "grid_entries2 = Table.read('galah_dr4_grid_priorities.fits')"
   ]
  },
  {
   "cell_type": "code",
   "execution_count": 85,
   "metadata": {
    "code_folding": [
     2,
     7,
     12,
     17,
     22
    ]
   },
   "outputs": [
    {
     "name": "stdout",
     "output_type": "stream",
     "text": [
      "index_subgrid nr_dr3 nr_iraf60  teff  logg  fe_h\n",
      "------------- ------ --------- ------ ---- -----\n",
      "         1919 113607    194094 5750.0  4.0   0.0\n",
      "         1931  93180    140559 5750.0  4.5   0.0\n",
      "         2014  83595    114575 6000.0  4.5   0.0\n",
      "         1930  77702     90253 5750.0  4.5 -0.25\n",
      "         1845  63995     92742 5500.0  4.5   0.0\n",
      "         1932  55350     92919 5750.0  4.5  0.25\n"
     ]
    }
   ],
   "source": [
    "def print_7_grids(teff_mid = 5750, logg_mid = 4.5, fe_h_mid = 0.00):\n",
    "\n",
    "    grid_entry_1 = (\n",
    "        (grid_entries['teff'] == teff_mid) & \n",
    "        (grid_entries['logg'] == logg_mid) &\n",
    "        (grid_entries['fe_h'] == fe_h_mid)\n",
    "    )\n",
    "    grid_entry_2 = (\n",
    "        (grid_entries['teff'] == teff_mid - 250) & \n",
    "        (grid_entries['logg'] == logg_mid) &\n",
    "        (grid_entries['fe_h'] == fe_h_mid)\n",
    "    )\n",
    "    grid_entry_3 = (\n",
    "        (grid_entries['teff'] == teff_mid + 250) & \n",
    "        (grid_entries['logg'] == logg_mid) &\n",
    "        (grid_entries['fe_h'] == fe_h_mid)\n",
    "    )\n",
    "    grid_entry_4 = (\n",
    "        (grid_entries['teff'] == teff_mid) & \n",
    "        (grid_entries['logg'] == logg_mid - 0.5) &\n",
    "        (grid_entries['fe_h'] == fe_h_mid)\n",
    "    )\n",
    "    grid_entry_5 = (\n",
    "        (grid_entries['teff'] == teff_mid) & \n",
    "        (grid_entries['logg'] == logg_mid + 0.5) &\n",
    "        (grid_entries['fe_h'] == fe_h_mid)\n",
    "    )\n",
    "    grid_entry_6 = (\n",
    "                (grid_entries['index_subgrid'] == grid_entries['index_subgrid'][grid_entry_1]-1)\n",
    "    )\n",
    "    grid_entry_7 = (\n",
    "        (grid_entries['index_subgrid'] == grid_entries['index_subgrid'][grid_entry_1]+1)\n",
    "    )\n",
    "    print(grid_entries[\n",
    "        (grid_entry_1 | grid_entry_2 | grid_entry_3 | grid_entry_4 | grid_entry_5 | grid_entry_6 | grid_entry_7)\n",
    "    ])\n",
    "print_7_grids()"
   ]
  },
  {
   "cell_type": "code",
   "execution_count": 86,
   "metadata": {},
   "outputs": [
    {
     "data": {
      "text/plain": [
       "['index_subgrid',\n",
       " 'teff_subgrid',\n",
       " 'teff_low_subgrid',\n",
       " 'teff_high_subgrid',\n",
       " 'logg_subgrid',\n",
       " 'logg_low_subgrid',\n",
       " 'logg_high_subgrid',\n",
       " 'fe_h_subgrid',\n",
       " 'fe_h_low_subgrid',\n",
       " 'fe_h_high_subgrid',\n",
       " 'random_seed_subgrid']"
      ]
     },
     "execution_count": 86,
     "metadata": {},
     "output_type": "execute_result"
    }
   ],
   "source": [
    "grids.keys()"
   ]
  },
  {
   "cell_type": "code",
   "execution_count": 152,
   "metadata": {},
   "outputs": [
    {
     "name": "stdout",
     "output_type": "stream",
     "text": [
      "1137 1247 1257 1258 1259 1260 1271 1363 1364 1368 1381 1393 1469 1470 1481 1482 1487 1499 1500 1511 1585 1597 1738 1819 1820 1821 1822 1831 1832 1833 1834 1842 1843 1844 1845 1846 1905 1906 1907 1908 1913 1914 1915 1916 1917 1918 1919 1920 1921 1922 1923 1924 1925 1926 1927 1928 1929 1930 1931 1932 1933 1934 1935 1936 1937 1938 1939 1940 1985 1988 1989 1990 1991 1996 1997 1998 2000 2001 2002 2003 2009 2012 2013 2014 2015 2074 2078 2079 2090 2091 2342 2405 2417\n",
      "93\n"
     ]
    }
   ],
   "source": [
    "grids_done = [\n",
    "    1137,\n",
    "    1247,\n",
    "    1257,1258,1259,1260,\n",
    "    1271,\n",
    "    1363,1364,\n",
    "    1368,\n",
    "    1381,\n",
    "    1393,\n",
    "    1469,\n",
    "    1470,\n",
    "    1481,1482,\n",
    "    1487,\n",
    "    1499,\n",
    "    1500,\n",
    "    1511,\n",
    "    1585,\n",
    "    1597,\n",
    "    1738,\n",
    "    1819,\n",
    "    1820,1821,1822,\n",
    "    1831,1832,1833,1834,\n",
    "    1842,1843,1844,1845,1846,\n",
    "    1905,1906,1907,1908,\n",
    "    1913,1914,1915,1916,1917,1918,1919,\n",
    "    1920,1921,1922,1923,1924,1925,1926,1927,1928,1929,\n",
    "    1930,1931,1932,1933,1934,1935,1936,1937,1938,1939,\n",
    "    1940,\n",
    "    1985,\n",
    "    1988,1989,\n",
    "    1990,1991,\n",
    "    1996,1997,1998,\n",
    "    2000,\n",
    "    2001,2002,2003,\n",
    "    2009,\n",
    "    2012,2013,2014,2015,\n",
    "    2074,\n",
    "    2078,2079,\n",
    "    2090,2091,\n",
    "    2342,\n",
    "    2405,\n",
    "    2417,\n",
    "]\n",
    "grids_started = [\n",
    "    1261,\n",
    "    1380,\n",
    "    1382,\n",
    "    1394,\n",
    "    1486,\n",
    "    1488,\n",
    "    1498,\n",
    "    1512,\n",
    "    1601,1602,\n",
    "    1614,1615,\n",
    "    1626,1627,\n",
    "    1737,\n",
    "    1749,\n",
    "    1750,\n",
    "    2066,2067,\n",
    "    2077,\n",
    "    2151,2152,\n",
    "    2163\n",
    "]\n",
    "print(' '.join([str(x) for x in grids_done]))\n",
    "print(len(grids_done))"
   ]
  },
  {
   "cell_type": "code",
   "execution_count": 166,
   "metadata": {},
   "outputs": [],
   "source": [
    "grids_sme_to_train = [\n",
    "    1137,\n",
    "    1247,\n",
    "    1258,1259,1260,\n",
    "    1271,\n",
    "    1368,\n",
    "    1393,\n",
    "    1487,\n",
    "    1498,1499,\n",
    "    1500,\n",
    "    1511,\n",
    "    1602,\n",
    "    1832,1833,1834,\n",
    "    1844,1845,1846,\n",
    "    1907,1908,\n",
    "    1918,1919,\n",
    "    1920,1921,1922,1923,1924,1925,1926,1927,1928,1929,\n",
    "    1930,1931,1932,1933,1934,1935,1936,1937,1938,1939,\n",
    "    1996,1997,1998,\n",
    "    2000,2001,2002,2003,\n",
    "    2013,2014,2015,\n",
    "    2091\n",
    "]\n",
    "trained_6 = [\n",
    "    1259,1931\n",
    "]"
   ]
  },
  {
   "cell_type": "code",
   "execution_count": 167,
   "metadata": {
    "code_folding": [
     67
    ],
    "scrolled": false
   },
   "outputs": [
    {
     "name": "stderr",
     "output_type": "stream",
     "text": [
      "/Users/svenbuder/anaconda3/lib/python3.7/site-packages/ipykernel_launcher.py:100: DeprecationWarning: Calling np.sum(generator) is deprecated, and in the future will give a different result. Use np.sum(np.fromiter(generator)) or the python sum builtin instead.\n",
      "/Users/svenbuder/anaconda3/lib/python3.7/site-packages/ipykernel_launcher.py:101: DeprecationWarning: Calling np.sum(generator) is deprecated, and in the future will give a different result. Use np.sum(np.fromiter(generator)) or the python sum builtin instead.\n"
     ]
    },
    {
     "data": {
      "text/html": [
       "<i>Table length=21</i>\n",
       "<table id=\"table140281447450320\" class=\"table-striped table-bordered table-condensed\">\n",
       "<thead><tr><th>index_subgrid</th><th>trainingset_done</th><th>grids_trainingset</th><th>grids_calculated</th><th>next_conversion</th><th>next_calculation</th><th>grid_1</th><th>grid_2</th><th>grid_3</th><th>grid_4</th><th>grid_5</th><th>grid_6</th><th>grid_7</th><th>grid_1_calculated</th><th>grid_2_calculated</th><th>grid_3_calculated</th><th>grid_4_calculated</th><th>grid_5_calculated</th><th>grid_6_calculated</th><th>grid_7_calculated</th><th>grid_1_trainingset</th><th>grid_2_trainingset</th><th>grid_3_trainingset</th><th>grid_4_trainingset</th><th>grid_5_trainingset</th><th>grid_6_trainingset</th><th>grid_7_trainingset</th></tr></thead>\n",
       "<thead><tr><th>int64</th><th>int64</th><th>float64</th><th>float64</th><th>int64</th><th>int64</th><th>str15</th><th>str15</th><th>str15</th><th>str16</th><th>str15</th><th>str15</th><th>str15</th><th>float64</th><th>float64</th><th>float64</th><th>float64</th><th>float64</th><th>float64</th><th>float64</th><th>float64</th><th>float64</th><th>float64</th><th>float64</th><th>float64</th><th>float64</th><th>float64</th></tr></thead>\n",
       "<tr><td>1832</td><td>0</td><td>4.0</td><td>6.0</td><td>0</td><td>1737</td><td>5500_4.00_-0.25</td><td>5250_4.00_-0.25</td><td>5750_4.00_-0.25</td><td>5500_3.50_-0.25</td><td>5500_4.50_-0.25</td><td>5500_4.00_-0.50</td><td>5500_4.00_0.00</td><td>1.0</td><td>0.0</td><td>1.0</td><td>1.0</td><td>1.0</td><td>1.0</td><td>1.0</td><td>1.0</td><td>0.0</td><td>1.0</td><td>0.0</td><td>1.0</td><td>0.0</td><td>1.0</td></tr>\n",
       "<tr><td>1833</td><td>0</td><td>5.0</td><td>7.0</td><td>0</td><td>0</td><td>5500_4.00_0.00</td><td>5250_4.00_0.00</td><td>5750_4.00_0.00</td><td>5500_3.50_0.00</td><td>5500_4.50_0.00</td><td>5500_4.00_-0.25</td><td>5500_4.00_0.25</td><td>1.0</td><td>1.0</td><td>1.0</td><td>1.0</td><td>1.0</td><td>1.0</td><td>1.0</td><td>1.0</td><td>0.0</td><td>1.0</td><td>0.0</td><td>1.0</td><td>1.0</td><td>1.0</td></tr>\n",
       "<tr><td>1843</td><td>0</td><td>3.0</td><td>6.0</td><td>0</td><td>1748</td><td>5500_4.50_-0.50</td><td>5250_4.50_-0.50</td><td>5750_4.50_-0.50</td><td>5500_4.00_-0.50</td><td>5500_5.00_-0.50</td><td>5500_4.50_-0.75</td><td>5500_4.50_-0.25</td><td>1.0</td><td>0.0</td><td>1.0</td><td>1.0</td><td>1.0</td><td>1.0</td><td>1.0</td><td>0.0</td><td>0.0</td><td>1.0</td><td>0.0</td><td>1.0</td><td>0.0</td><td>1.0</td></tr>\n",
       "<tr><td>1844</td><td>0</td><td>5.0</td><td>6.0</td><td>0</td><td>1749</td><td>5500_4.50_-0.25</td><td>5250_4.50_-0.25</td><td>5750_4.50_-0.25</td><td>5500_4.00_-0.25</td><td>5500_5.00_-0.25</td><td>5500_4.50_-0.50</td><td>5500_4.50_0.00</td><td>1.0</td><td>0.0</td><td>1.0</td><td>1.0</td><td>1.0</td><td>1.0</td><td>1.0</td><td>1.0</td><td>0.0</td><td>1.0</td><td>1.0</td><td>1.0</td><td>0.0</td><td>1.0</td></tr>\n",
       "<tr><td>1845</td><td>0</td><td>6.0</td><td>6.0</td><td>1750</td><td>1750</td><td>5500_4.50_0.00</td><td>5250_4.50_0.00</td><td>5750_4.50_0.00</td><td>5500_4.00_0.00</td><td>5500_5.00_0.00</td><td>5500_4.50_-0.25</td><td>5500_4.50_0.25</td><td>1.0</td><td>0.0</td><td>1.0</td><td>1.0</td><td>1.0</td><td>1.0</td><td>1.0</td><td>1.0</td><td>0.0</td><td>1.0</td><td>1.0</td><td>1.0</td><td>1.0</td><td>1.0</td></tr>\n",
       "<tr><td>1906</td><td>0</td><td>2.0</td><td>6.0</td><td>0</td><td>1894</td><td>5750_3.50_-0.25</td><td>5500_3.50_-0.25</td><td>6000_3.50_-0.25</td><td>5750_3.00_-0.25</td><td>5750_4.00_-0.25</td><td>5750_3.50_-0.50</td><td>5750_3.50_0.00</td><td>1.0</td><td>1.0</td><td>1.0</td><td>0.0</td><td>1.0</td><td>1.0</td><td>1.0</td><td>0.0</td><td>0.0</td><td>0.0</td><td>0.0</td><td>1.0</td><td>0.0</td><td>1.0</td></tr>\n",
       "<tr><td>1907</td><td>0</td><td>3.0</td><td>6.0</td><td>0</td><td>1895</td><td>5750_3.50_0.00</td><td>5500_3.50_0.00</td><td>6000_3.50_0.00</td><td>5750_3.00_0.00</td><td>5750_4.00_0.00</td><td>5750_3.50_-0.25</td><td>5750_3.50_0.25</td><td>1.0</td><td>1.0</td><td>1.0</td><td>0.0</td><td>1.0</td><td>1.0</td><td>1.0</td><td>1.0</td><td>0.0</td><td>0.0</td><td>0.0</td><td>1.0</td><td>0.0</td><td>1.0</td></tr>\n",
       "<tr><td>1917</td><td>0</td><td>3.0</td><td>7.0</td><td>0</td><td>0</td><td>5750_4.00_-0.50</td><td>5500_4.00_-0.50</td><td>6000_4.00_-0.50</td><td>5750_3.50_-0.50</td><td>5750_4.50_-0.50</td><td>5750_4.00_-0.75</td><td>5750_4.00_-0.25</td><td>1.0</td><td>1.0</td><td>1.0</td><td>1.0</td><td>1.0</td><td>1.0</td><td>1.0</td><td>0.0</td><td>0.0</td><td>1.0</td><td>0.0</td><td>1.0</td><td>0.0</td><td>1.0</td></tr>\n",
       "<tr><td>1918</td><td>0</td><td>5.0</td><td>7.0</td><td>0</td><td>0</td><td>5750_4.00_-0.25</td><td>5500_4.00_-0.25</td><td>6000_4.00_-0.25</td><td>5750_3.50_-0.25</td><td>5750_4.50_-0.25</td><td>5750_4.00_-0.50</td><td>5750_4.00_0.00</td><td>1.0</td><td>1.0</td><td>1.0</td><td>1.0</td><td>1.0</td><td>1.0</td><td>1.0</td><td>1.0</td><td>1.0</td><td>1.0</td><td>0.0</td><td>1.0</td><td>0.0</td><td>1.0</td></tr>\n",
       "<tr><td>1919</td><td>0</td><td>7.0</td><td>7.0</td><td>0</td><td>0</td><td>5750_4.00_0.00</td><td>5500_4.00_0.00</td><td>6000_4.00_0.00</td><td>5750_3.50_0.00</td><td>5750_4.50_0.00</td><td>5750_4.00_-0.25</td><td>5750_4.00_0.25</td><td>1.0</td><td>1.0</td><td>1.0</td><td>1.0</td><td>1.0</td><td>1.0</td><td>1.0</td><td>1.0</td><td>1.0</td><td>1.0</td><td>1.0</td><td>1.0</td><td>1.0</td><td>1.0</td></tr>\n",
       "<tr><td>1920</td><td>0</td><td>7.0</td><td>7.0</td><td>0</td><td>0</td><td>5750_4.00_0.25</td><td>5500_4.00_0.25</td><td>6000_4.00_0.25</td><td>5750_3.50_0.25</td><td>5750_4.50_0.25</td><td>5750_4.00_0.00</td><td>5750_4.00_0.50</td><td>1.0</td><td>1.0</td><td>1.0</td><td>1.0</td><td>1.0</td><td>1.0</td><td>1.0</td><td>1.0</td><td>1.0</td><td>1.0</td><td>1.0</td><td>1.0</td><td>1.0</td><td>1.0</td></tr>\n",
       "<tr><td>1926</td><td>0</td><td>4.0</td><td>6.0</td><td>0</td><td>1840</td><td>5750_4.50_-1.50</td><td>5500_4.50_-1.50</td><td>6000_4.50_-1.50</td><td>5750_4.00_-1.50</td><td>5750_5.00_-1.50</td><td>5750_4.50_-2.00</td><td>5750_4.50_-1.00</td><td>1.0</td><td>0.0</td><td>1.0</td><td>1.0</td><td>1.0</td><td>1.0</td><td>1.0</td><td>1.0</td><td>0.0</td><td>0.0</td><td>0.0</td><td>1.0</td><td>1.0</td><td>1.0</td></tr>\n",
       "<tr><td>1928</td><td>0</td><td>4.0</td><td>6.0</td><td>0</td><td>2011</td><td>5750_4.50_-0.75</td><td>5500_4.50_-0.75</td><td>6000_4.50_-0.75</td><td>5750_4.00_-0.75</td><td>5750_5.00_-0.75</td><td>5750_4.50_-1.00</td><td>5750_4.50_-0.50</td><td>1.0</td><td>1.0</td><td>0.0</td><td>1.0</td><td>1.0</td><td>1.0</td><td>1.0</td><td>1.0</td><td>0.0</td><td>0.0</td><td>0.0</td><td>1.0</td><td>1.0</td><td>1.0</td></tr>\n",
       "<tr><td>1929</td><td>0</td><td>4.0</td><td>7.0</td><td>0</td><td>0</td><td>5750_4.50_-0.50</td><td>5500_4.50_-0.50</td><td>6000_4.50_-0.50</td><td>5750_4.00_-0.50</td><td>5750_5.00_-0.50</td><td>5750_4.50_-0.75</td><td>5750_4.50_-0.25</td><td>1.0</td><td>1.0</td><td>1.0</td><td>1.0</td><td>1.0</td><td>1.0</td><td>1.0</td><td>1.0</td><td>0.0</td><td>0.0</td><td>0.0</td><td>1.0</td><td>1.0</td><td>1.0</td></tr>\n",
       "<tr><td>1930</td><td>0</td><td>7.0</td><td>7.0</td><td>0</td><td>0</td><td>5750_4.50_-0.25</td><td>5500_4.50_-0.25</td><td>6000_4.50_-0.25</td><td>5750_4.00_-0.25</td><td>5750_5.00_-0.25</td><td>5750_4.50_-0.50</td><td>5750_4.50_0.00</td><td>1.0</td><td>1.0</td><td>1.0</td><td>1.0</td><td>1.0</td><td>1.0</td><td>1.0</td><td>1.0</td><td>1.0</td><td>1.0</td><td>1.0</td><td>1.0</td><td>1.0</td><td>1.0</td></tr>\n",
       "<tr><td>1932</td><td>0</td><td>7.0</td><td>7.0</td><td>0</td><td>0</td><td>5750_4.50_0.25</td><td>5500_4.50_0.25</td><td>6000_4.50_0.25</td><td>5750_4.00_0.25</td><td>5750_5.00_0.25</td><td>5750_4.50_0.00</td><td>5750_4.50_0.50</td><td>1.0</td><td>1.0</td><td>1.0</td><td>1.0</td><td>1.0</td><td>1.0</td><td>1.0</td><td>1.0</td><td>1.0</td><td>1.0</td><td>1.0</td><td>1.0</td><td>1.0</td><td>1.0</td></tr>\n",
       "<tr><td>1997</td><td>0</td><td>3.0</td><td>7.0</td><td>0</td><td>0</td><td>6000_4.00_-1.50</td><td>5750_4.00_-1.50</td><td>6250_4.00_-1.50</td><td>6000_3.50_-1.50</td><td>6000_4.50_-1.50</td><td>6000_4.00_-2.00</td><td>6000_4.00_-1.00</td><td>1.0</td><td>1.0</td><td>1.0</td><td>1.0</td><td>1.0</td><td>1.0</td><td>1.0</td><td>1.0</td><td>0.0</td><td>0.0</td><td>0.0</td><td>0.0</td><td>1.0</td><td>1.0</td></tr>\n",
       "<tr><td>2001</td><td>0</td><td>5.0</td><td>7.0</td><td>0</td><td>0</td><td>6000_4.00_-0.25</td><td>5750_4.00_-0.25</td><td>6250_4.00_-0.25</td><td>6000_3.50_-0.25</td><td>6000_4.50_-0.25</td><td>6000_4.00_-0.50</td><td>6000_4.00_0.00</td><td>1.0</td><td>1.0</td><td>1.0</td><td>1.0</td><td>1.0</td><td>1.0</td><td>1.0</td><td>1.0</td><td>1.0</td><td>0.0</td><td>0.0</td><td>1.0</td><td>1.0</td><td>1.0</td></tr>\n",
       "<tr><td>2002</td><td>0</td><td>5.0</td><td>7.0</td><td>0</td><td>0</td><td>6000_4.00_0.00</td><td>5750_4.00_0.00</td><td>6250_4.00_0.00</td><td>6000_3.50_0.00</td><td>6000_4.50_0.00</td><td>6000_4.00_-0.25</td><td>6000_4.00_0.25</td><td>1.0</td><td>1.0</td><td>1.0</td><td>1.0</td><td>1.0</td><td>1.0</td><td>1.0</td><td>1.0</td><td>1.0</td><td>0.0</td><td>0.0</td><td>1.0</td><td>1.0</td><td>1.0</td></tr>\n",
       "<tr><td>2013</td><td>0</td><td>5.0</td><td>7.0</td><td>0</td><td>0</td><td>6000_4.50_-0.25</td><td>5750_4.50_-0.25</td><td>6250_4.50_-0.25</td><td>6000_4.00_-0.25</td><td>6000_5.00_-0.25</td><td>6000_4.50_-0.50</td><td>6000_4.50_0.00</td><td>1.0</td><td>1.0</td><td>1.0</td><td>1.0</td><td>1.0</td><td>1.0</td><td>1.0</td><td>1.0</td><td>1.0</td><td>0.0</td><td>1.0</td><td>1.0</td><td>0.0</td><td>1.0</td></tr>\n",
       "<tr><td>2014</td><td>0</td><td>7.0</td><td>7.0</td><td>0</td><td>0</td><td>6000_4.50_0.00</td><td>5750_4.50_0.00</td><td>6250_4.50_0.00</td><td>6000_4.00_0.00</td><td>6000_5.00_0.00</td><td>6000_4.50_-0.25</td><td>6000_4.50_0.25</td><td>1.0</td><td>1.0</td><td>1.0</td><td>1.0</td><td>1.0</td><td>1.0</td><td>1.0</td><td>1.0</td><td>1.0</td><td>1.0</td><td>1.0</td><td>1.0</td><td>1.0</td><td>1.0</td></tr>\n",
       "</table>"
      ],
      "text/plain": [
       "<Table length=21>\n",
       "index_subgrid trainingset_done ... grid_6_trainingset grid_7_trainingset\n",
       "    int64          int64       ...      float64            float64      \n",
       "------------- ---------------- ... ------------------ ------------------\n",
       "         1832                0 ...                0.0                1.0\n",
       "         1833                0 ...                1.0                1.0\n",
       "         1843                0 ...                0.0                1.0\n",
       "         1844                0 ...                0.0                1.0\n",
       "         1845                0 ...                1.0                1.0\n",
       "         1906                0 ...                0.0                1.0\n",
       "         1907                0 ...                0.0                1.0\n",
       "         1917                0 ...                0.0                1.0\n",
       "         1918                0 ...                0.0                1.0\n",
       "         1919                0 ...                1.0                1.0\n",
       "         1920                0 ...                1.0                1.0\n",
       "         1926                0 ...                1.0                1.0\n",
       "         1928                0 ...                1.0                1.0\n",
       "         1929                0 ...                1.0                1.0\n",
       "         1930                0 ...                1.0                1.0\n",
       "         1932                0 ...                1.0                1.0\n",
       "         1997                0 ...                1.0                1.0\n",
       "         2001                0 ...                1.0                1.0\n",
       "         2002                0 ...                1.0                1.0\n",
       "         2013                0 ...                0.0                1.0\n",
       "         2014                0 ...                1.0                1.0"
      ]
     },
     "execution_count": 167,
     "metadata": {},
     "output_type": "execute_result"
    }
   ],
   "source": [
    "def get_progress():\n",
    "    progress_table = Table()\n",
    "    progress_table['index_subgrid'] = grids['index_subgrid']\n",
    "    # Let's get placeholders for the important progress indicators: nr grids calculated, nr grids converted into training_data, training_fully finished\n",
    "    progress_table['trainingset_done'] = np.zeros(len(grids['index_subgrid']),dtype=int)\n",
    "    progress_table['grids_trainingset'] = np.zeros(len(grids['index_subgrid']),dtype=int)\n",
    "    progress_table['grids_calculated'] = np.zeros(len(grids['index_subgrid']),dtype=int)\n",
    "    progress_table['next_conversion'] = np.zeros(len(grids['index_subgrid']),dtype=int)\n",
    "    progress_table['next_calculation'] = np.zeros(len(grids['index_subgrid']),dtype=int)\n",
    "    # Convert all 7 grids to their gridnames\n",
    "    progress_table['grid_1'] = np.array([str(int(grids['teff_subgrid'][x]))+'_'+\"{:.2f}\".format(grids['logg_subgrid'][x])+'_'+\"{:.2f}\".format(grids['fe_h_subgrid'][x]) for x in range(len(grids['index_subgrid']))])\n",
    "    progress_table['grid_2'] = np.array([str(int(grids['teff_low_subgrid'][x]))+'_'+\"{:.2f}\".format(grids['logg_subgrid'][x])+'_'+\"{:.2f}\".format(grids['fe_h_subgrid'][x]) for x in range(len(grids['index_subgrid']))])\n",
    "    progress_table['grid_3'] = np.array([str(int(grids['teff_high_subgrid'][x]))+'_'+\"{:.2f}\".format(grids['logg_subgrid'][x])+'_'+\"{:.2f}\".format(grids['fe_h_subgrid'][x]) for x in range(len(grids['index_subgrid']))])\n",
    "    progress_table['grid_4'] = np.array([str(int(grids['teff_subgrid'][x]))+'_'+\"{:.2f}\".format(grids['logg_low_subgrid'][x])+'_'+\"{:.2f}\".format(grids['fe_h_subgrid'][x]) for x in range(len(grids['index_subgrid']))])\n",
    "    progress_table['grid_5'] = np.array([str(int(grids['teff_subgrid'][x]))+'_'+\"{:.2f}\".format(grids['logg_high_subgrid'][x])+'_'+\"{:.2f}\".format(grids['fe_h_subgrid'][x]) for x in range(len(grids['index_subgrid']))])\n",
    "    progress_table['grid_6'] = np.array([str(int(grids['teff_subgrid'][x]))+'_'+\"{:.2f}\".format(grids['logg_subgrid'][x])+'_'+\"{:.2f}\".format(grids['fe_h_low_subgrid'][x]) for x in range(len(grids['index_subgrid']))])\n",
    "    progress_table['grid_7'] = np.array([str(int(grids['teff_subgrid'][x]))+'_'+\"{:.2f}\".format(grids['logg_subgrid'][x])+'_'+\"{:.2f}\".format(grids['fe_h_high_subgrid'][x]) for x in range(len(grids['index_subgrid']))])\n",
    "    # Now let's set zeros for the progress to initiate\n",
    "    progress_table['grid_1_calculated'] = np.zeros(len(grids['index_subgrid']))\n",
    "    progress_table['grid_2_calculated'] = np.zeros(len(grids['index_subgrid']))\n",
    "    progress_table['grid_3_calculated'] = np.zeros(len(grids['index_subgrid']))\n",
    "    progress_table['grid_4_calculated'] = np.zeros(len(grids['index_subgrid']))\n",
    "    progress_table['grid_5_calculated'] = np.zeros(len(grids['index_subgrid']))\n",
    "    progress_table['grid_6_calculated'] = np.zeros(len(grids['index_subgrid']))\n",
    "    progress_table['grid_7_calculated'] = np.zeros(len(grids['index_subgrid']))\n",
    "    # Let's see which ones we have already put into a training set\n",
    "    progress_table['grid_1_trainingset'] = np.zeros(len(grids['index_subgrid']))\n",
    "    progress_table['grid_2_trainingset'] = np.zeros(len(grids['index_subgrid']))\n",
    "    progress_table['grid_3_trainingset'] = np.zeros(len(grids['index_subgrid']))\n",
    "    progress_table['grid_4_trainingset'] = np.zeros(len(grids['index_subgrid']))\n",
    "    progress_table['grid_5_trainingset'] = np.zeros(len(grids['index_subgrid']))\n",
    "    progress_table['grid_6_trainingset'] = np.zeros(len(grids['index_subgrid']))\n",
    "    progress_table['grid_7_trainingset'] = np.zeros(len(grids['index_subgrid']))\n",
    "    # Some grids cannot be calculated, let's set their value to 1 already\n",
    "    # For example, we do not have grids with 5.0 logg for Teff > 4000\n",
    "    progress_table['grid_5_calculated'][np.where((grids['teff_subgrid'] > 4000) & (grids['logg_high_subgrid'] > 4.75))[0]] = 1\n",
    "    progress_table['grid_5_trainingset'][np.where((grids['teff_subgrid'] > 4000) & (grids['logg_high_subgrid'] > 4.75))[0]] = 1\n",
    "    # Then go through the list of the ones that we actually have calculated\n",
    "    for grid_done in grids_done:\n",
    "        that_grid = progress_table['grid_1'][grid_done]\n",
    "        try:\n",
    "            progress_table['grid_1_calculated'][np.where(progress_table['grid_1'] == that_grid)[0][0]] = 1\n",
    "        except:\n",
    "            pass\n",
    "        try:\n",
    "            progress_table['grid_2_calculated'][np.where(progress_table['grid_2'] == that_grid)[0][0]] = 1\n",
    "        except:\n",
    "            pass\n",
    "        try:\n",
    "            progress_table['grid_3_calculated'][np.where(progress_table['grid_3'] == that_grid)[0][0]] = 1\n",
    "        except:\n",
    "            pass\n",
    "        try:\n",
    "            progress_table['grid_4_calculated'][np.where(progress_table['grid_4'] == that_grid)[0][0]] = 1\n",
    "        except:\n",
    "            pass\n",
    "        try:\n",
    "            progress_table['grid_5_calculated'][np.where(progress_table['grid_5'] == that_grid)[0][0]] = 1\n",
    "        except:\n",
    "            pass\n",
    "        try:\n",
    "            progress_table['grid_6_calculated'][np.where(progress_table['grid_6'] == that_grid)[0][0]] = 1\n",
    "        except:\n",
    "            pass\n",
    "        try:\n",
    "            progress_table['grid_7_calculated'][np.where(progress_table['grid_7'] == that_grid)[0][0]] = 1\n",
    "        except:\n",
    "            pass\n",
    "    # Then go through the list of the ones that we actually have transformed into a training_data\n",
    "    for grid_done in grids_sme_to_train:\n",
    "        that_grid = progress_table['grid_1'][grid_done]\n",
    "        try:\n",
    "            progress_table['grid_1_trainingset'][np.where(progress_table['grid_1'] == that_grid)[0][0]] = 1\n",
    "        except:\n",
    "            pass\n",
    "        try:\n",
    "            progress_table['grid_2_trainingset'][np.where(progress_table['grid_2'] == that_grid)[0][0]] = 1\n",
    "        except:\n",
    "            pass\n",
    "        try:\n",
    "            progress_table['grid_3_trainingset'][np.where(progress_table['grid_3'] == that_grid)[0][0]] = 1\n",
    "        except:\n",
    "            pass\n",
    "        try:\n",
    "            progress_table['grid_4_trainingset'][np.where(progress_table['grid_4'] == that_grid)[0][0]] = 1\n",
    "        except:\n",
    "            pass\n",
    "        try:\n",
    "            progress_table['grid_5_trainingset'][np.where(progress_table['grid_5'] == that_grid)[0][0]] = 1\n",
    "        except:\n",
    "            pass\n",
    "        try:\n",
    "            progress_table['grid_6_trainingset'][np.where(progress_table['grid_6'] == that_grid)[0][0]] = 1\n",
    "        except:\n",
    "            pass\n",
    "        try:\n",
    "            progress_table['grid_7_trainingset'][np.where(progress_table['grid_7'] == that_grid)[0][0]] = 1\n",
    "        except:\n",
    "            pass\n",
    "    progress_table['grids_calculated'] = np.sum(progress_table['grid_'+str(n)+'_calculated'] for n in [1,2,3,4,5,6,7])\n",
    "    progress_table['grids_trainingset'] = np.sum(progress_table['grid_'+str(n)+'_trainingset'] for n in [1,2,3,4,5,6,7])\n",
    "    for index in trained_6:\n",
    "        progress_table['trainingset_done'][index] = 1\n",
    "    for index in range(len(progress_table['grids_trainingset'])):\n",
    "        if progress_table['grids_calculated'][index] == 6:\n",
    "            missing_grid = np.where(np.array([progress_table['grid_'+str(n)+'_calculated'][index] for n in [1,2,3,4,5,6,7]])==0)[0][0]\n",
    "            index_missing_grid = np.where(progress_table['grid_1'] == progress_table['grid_'+str(missing_grid+1)][index])[0][0]\n",
    "            progress_table['next_calculation'][index] = index_missing_grid\n",
    "    for index in range(len(progress_table['grids_trainingset'])):\n",
    "        if progress_table['grids_trainingset'][index] == 6:\n",
    "            missing_grid = np.where(np.array([progress_table['grid_'+str(n)+'_trainingset'][index] for n in [1,2,3,4,5,6,7]])==0)[0][0]\n",
    "            index_missing_grid = np.where(progress_table['grid_1'] == progress_table['grid_'+str(missing_grid+1)][index])[0][0]\n",
    "            progress_table['next_conversion'][index] = index_missing_grid\n",
    "    return(progress_table)\n",
    "progress_table = get_progress()\n",
    "progress_table[np.where((progress_table['grids_calculated'] >= 6) & (progress_table['trainingset_done'] != 1))[0]]"
   ]
  },
  {
   "cell_type": "code",
   "execution_count": 168,
   "metadata": {},
   "outputs": [],
   "source": [
    "#grid_entries[grids_done]"
   ]
  },
  {
   "cell_type": "code",
   "execution_count": 156,
   "metadata": {},
   "outputs": [],
   "source": [
    "grid_entries.sort(keys='nr_dr3', reverse=True)\n",
    "grid_entries2.sort(keys='nr_iraf60', reverse=True)"
   ]
  },
  {
   "cell_type": "code",
   "execution_count": 157,
   "metadata": {},
   "outputs": [],
   "source": [
    "not_yet_done = [grid_entries['index_subgrid'][x] not in grids_done for x in range(len(grid_entries))]\n",
    "not_yet_done2 = [grid_entries2['index_subgrid'][x] not in grids_done for x in range(len(grid_entries2))]"
   ]
  },
  {
   "cell_type": "code",
   "execution_count": 158,
   "metadata": {},
   "outputs": [
    {
     "data": {
      "text/html": [
       "<i>Table length=22</i>\n",
       "<table id=\"table140280622328272\" class=\"table-striped table-bordered table-condensed\">\n",
       "<thead><tr><th>index_subgrid</th><th>nr_dr3</th><th>nr_iraf60</th><th>teff</th><th>logg</th><th>fe_h</th></tr></thead>\n",
       "<thead><tr><th>int64</th><th>int64</th><th>int64</th><th>float32</th><th>float32</th><th>float32</th></tr></thead>\n",
       "<tr><td>1498</td><td>47309</td><td>49396</td><td>4750.0</td><td>2.5</td><td>-0.5</td></tr>\n",
       "<tr><td>1394</td><td>44904</td><td>54722</td><td>4500.0</td><td>2.5</td><td>0.0</td></tr>\n",
       "<tr><td>2151</td><td>37183</td><td>26713</td><td>6500.0</td><td>4.0</td><td>-0.25</td></tr>\n",
       "<tr><td>1602</td><td>34657</td><td>50360</td><td>5000.0</td><td>2.5</td><td>-0.25</td></tr>\n",
       "<tr><td>1382</td><td>34304</td><td>42671</td><td>4500.0</td><td>2.0</td><td>0.0</td></tr>\n",
       "<tr><td>1750</td><td>34198</td><td>49421</td><td>5250.0</td><td>4.5</td><td>0.0</td></tr>\n",
       "<tr><td>2077</td><td>33751</td><td>29094</td><td>6250.0</td><td>4.0</td><td>-0.5</td></tr>\n",
       "<tr><td>1486</td><td>33596</td><td>35462</td><td>4750.0</td><td>2.0</td><td>-0.5</td></tr>\n",
       "<tr><td>1512</td><td>33374</td><td>59755</td><td>4750.0</td><td>3.0</td><td>0.0</td></tr>\n",
       "<tr><td>1488</td><td>31934</td><td>40514</td><td>4750.0</td><td>2.0</td><td>0.0</td></tr>\n",
       "<tr><td>1614</td><td>31412</td><td>57923</td><td>5000.0</td><td>3.0</td><td>-0.25</td></tr>\n",
       "<tr><td>1601</td><td>31142</td><td>31038</td><td>5000.0</td><td>2.5</td><td>-0.5</td></tr>\n",
       "<tr><td>2152</td><td>29773</td><td>20053</td><td>6500.0</td><td>4.0</td><td>0.0</td></tr>\n",
       "<tr><td>1737</td><td>28129</td><td>38031</td><td>5250.0</td><td>4.0</td><td>-0.25</td></tr>\n",
       "<tr><td>2066</td><td>27170</td><td>51625</td><td>6250.0</td><td>3.5</td><td>-0.25</td></tr>\n",
       "<tr><td>1380</td><td>26840</td><td>43748</td><td>4500.0</td><td>2.0</td><td>-0.5</td></tr>\n",
       "<tr><td>1626</td><td>26614</td><td>32508</td><td>5000.0</td><td>3.5</td><td>-0.25</td></tr>\n",
       "<tr><td>1615</td><td>26005</td><td>55763</td><td>5000.0</td><td>3.0</td><td>0.0</td></tr>\n",
       "<tr><td>1627</td><td>25212</td><td>42376</td><td>5000.0</td><td>3.5</td><td>0.0</td></tr>\n",
       "<tr><td>1749</td><td>25035</td><td>26147</td><td>5250.0</td><td>4.5</td><td>-0.25</td></tr>\n",
       "<tr><td>2163</td><td>23937</td><td>4345</td><td>6500.0</td><td>4.5</td><td>-0.25</td></tr>\n",
       "<tr><td>2067</td><td>23611</td><td>43066</td><td>6250.0</td><td>3.5</td><td>0.0</td></tr>\n",
       "</table>"
      ],
      "text/plain": [
       "<Table length=22>\n",
       "index_subgrid nr_dr3 nr_iraf60   teff    logg    fe_h \n",
       "    int64     int64    int64   float32 float32 float32\n",
       "------------- ------ --------- ------- ------- -------\n",
       "         1498  47309     49396  4750.0     2.5    -0.5\n",
       "         1394  44904     54722  4500.0     2.5     0.0\n",
       "         2151  37183     26713  6500.0     4.0   -0.25\n",
       "         1602  34657     50360  5000.0     2.5   -0.25\n",
       "         1382  34304     42671  4500.0     2.0     0.0\n",
       "         1750  34198     49421  5250.0     4.5     0.0\n",
       "         2077  33751     29094  6250.0     4.0    -0.5\n",
       "         1486  33596     35462  4750.0     2.0    -0.5\n",
       "         1512  33374     59755  4750.0     3.0     0.0\n",
       "         1488  31934     40514  4750.0     2.0     0.0\n",
       "         1614  31412     57923  5000.0     3.0   -0.25\n",
       "         1601  31142     31038  5000.0     2.5    -0.5\n",
       "         2152  29773     20053  6500.0     4.0     0.0\n",
       "         1737  28129     38031  5250.0     4.0   -0.25\n",
       "         2066  27170     51625  6250.0     3.5   -0.25\n",
       "         1380  26840     43748  4500.0     2.0    -0.5\n",
       "         1626  26614     32508  5000.0     3.5   -0.25\n",
       "         1615  26005     55763  5000.0     3.0     0.0\n",
       "         1627  25212     42376  5000.0     3.5     0.0\n",
       "         1749  25035     26147  5250.0     4.5   -0.25\n",
       "         2163  23937      4345  6500.0     4.5   -0.25\n",
       "         2067  23611     43066  6250.0     3.5     0.0"
      ]
     },
     "execution_count": 158,
     "metadata": {},
     "output_type": "execute_result"
    }
   ],
   "source": [
    "grid_entries[not_yet_done][:22]"
   ]
  },
  {
   "cell_type": "code",
   "execution_count": 159,
   "metadata": {
    "scrolled": false
   },
   "outputs": [
    {
     "data": {
      "text/html": [
       "<i>Table length=22</i>\n",
       "<table id=\"table140281280705232\" class=\"table-striped table-bordered table-condensed\">\n",
       "<thead><tr><th>index_subgrid</th><th>nr_dr3</th><th>nr_iraf60</th><th>teff</th><th>logg</th><th>fe_h</th></tr></thead>\n",
       "<thead><tr><th>int64</th><th>int64</th><th>int64</th><th>float32</th><th>float32</th><th>float32</th></tr></thead>\n",
       "<tr><td>1512</td><td>33374</td><td>59755</td><td>4750.0</td><td>3.0</td><td>0.0</td></tr>\n",
       "<tr><td>1614</td><td>31412</td><td>57923</td><td>5000.0</td><td>3.0</td><td>-0.25</td></tr>\n",
       "<tr><td>1615</td><td>26005</td><td>55763</td><td>5000.0</td><td>3.0</td><td>0.0</td></tr>\n",
       "<tr><td>1394</td><td>44904</td><td>54722</td><td>4500.0</td><td>2.5</td><td>0.0</td></tr>\n",
       "<tr><td>2066</td><td>27170</td><td>51625</td><td>6250.0</td><td>3.5</td><td>-0.25</td></tr>\n",
       "<tr><td>1602</td><td>34657</td><td>50360</td><td>5000.0</td><td>2.5</td><td>-0.25</td></tr>\n",
       "<tr><td>1750</td><td>34198</td><td>49421</td><td>5250.0</td><td>4.5</td><td>0.0</td></tr>\n",
       "<tr><td>1498</td><td>47309</td><td>49396</td><td>4750.0</td><td>2.5</td><td>-0.5</td></tr>\n",
       "<tr><td>1380</td><td>26840</td><td>43748</td><td>4500.0</td><td>2.0</td><td>-0.5</td></tr>\n",
       "<tr><td>2067</td><td>23611</td><td>43066</td><td>6250.0</td><td>3.5</td><td>0.0</td></tr>\n",
       "<tr><td>1382</td><td>34304</td><td>42671</td><td>4500.0</td><td>2.0</td><td>0.0</td></tr>\n",
       "<tr><td>1627</td><td>25212</td><td>42376</td><td>5000.0</td><td>3.5</td><td>0.0</td></tr>\n",
       "<tr><td>1739</td><td>20123</td><td>41646</td><td>5250.0</td><td>4.0</td><td>0.25</td></tr>\n",
       "<tr><td>1488</td><td>31934</td><td>40514</td><td>4750.0</td><td>2.0</td><td>0.0</td></tr>\n",
       "<tr><td>1737</td><td>28129</td><td>38031</td><td>5250.0</td><td>4.0</td><td>-0.25</td></tr>\n",
       "<tr><td>1751</td><td>21995</td><td>36878</td><td>5250.0</td><td>4.5</td><td>0.25</td></tr>\n",
       "<tr><td>1603</td><td>17782</td><td>35899</td><td>5000.0</td><td>2.5</td><td>0.0</td></tr>\n",
       "<tr><td>1486</td><td>33596</td><td>35462</td><td>4750.0</td><td>2.0</td><td>-0.5</td></tr>\n",
       "<tr><td>1639</td><td>17967</td><td>34418</td><td>5000.0</td><td>4.0</td><td>0.0</td></tr>\n",
       "<tr><td>1726</td><td>16300</td><td>34161</td><td>5250.0</td><td>3.5</td><td>0.0</td></tr>\n",
       "<tr><td>1651</td><td>23224</td><td>33389</td><td>5000.0</td><td>4.5</td><td>0.0</td></tr>\n",
       "<tr><td>1626</td><td>26614</td><td>32508</td><td>5000.0</td><td>3.5</td><td>-0.25</td></tr>\n",
       "</table>"
      ],
      "text/plain": [
       "<Table length=22>\n",
       "index_subgrid nr_dr3 nr_iraf60   teff    logg    fe_h \n",
       "    int64     int64    int64   float32 float32 float32\n",
       "------------- ------ --------- ------- ------- -------\n",
       "         1512  33374     59755  4750.0     3.0     0.0\n",
       "         1614  31412     57923  5000.0     3.0   -0.25\n",
       "         1615  26005     55763  5000.0     3.0     0.0\n",
       "         1394  44904     54722  4500.0     2.5     0.0\n",
       "         2066  27170     51625  6250.0     3.5   -0.25\n",
       "         1602  34657     50360  5000.0     2.5   -0.25\n",
       "         1750  34198     49421  5250.0     4.5     0.0\n",
       "         1498  47309     49396  4750.0     2.5    -0.5\n",
       "         1380  26840     43748  4500.0     2.0    -0.5\n",
       "         2067  23611     43066  6250.0     3.5     0.0\n",
       "         1382  34304     42671  4500.0     2.0     0.0\n",
       "         1627  25212     42376  5000.0     3.5     0.0\n",
       "         1739  20123     41646  5250.0     4.0    0.25\n",
       "         1488  31934     40514  4750.0     2.0     0.0\n",
       "         1737  28129     38031  5250.0     4.0   -0.25\n",
       "         1751  21995     36878  5250.0     4.5    0.25\n",
       "         1603  17782     35899  5000.0     2.5     0.0\n",
       "         1486  33596     35462  4750.0     2.0    -0.5\n",
       "         1639  17967     34418  5000.0     4.0     0.0\n",
       "         1726  16300     34161  5250.0     3.5     0.0\n",
       "         1651  23224     33389  5000.0     4.5     0.0\n",
       "         1626  26614     32508  5000.0     3.5   -0.25"
      ]
     },
     "execution_count": 159,
     "metadata": {},
     "output_type": "execute_result"
    }
   ],
   "source": [
    "grid_entries2[not_yet_done2][:22]"
   ]
  },
  {
   "cell_type": "code",
   "execution_count": 160,
   "metadata": {},
   "outputs": [
    {
     "data": {
      "text/plain": [
       "<matplotlib.collections.PathCollection at 0x7f95d1b572d0>"
      ]
     },
     "execution_count": 160,
     "metadata": {},
     "output_type": "execute_result"
    },
    {
     "data": {
      "image/png": "[encoded data removed]",
      "text/plain": [
       "<Figure size 432x288 with 1 Axes>"
      ]
     },
     "metadata": {
      "image/png": {
       "height": 248,
       "width": 388
      },
      "needs_background": "light"
     },
     "output_type": "display_data"
    }
   ],
   "source": [
    "plt.scatter(\n",
    "    grid_entries['index_subgrid'][not_yet_done],\n",
    "    grid_entries['nr_dr3'][not_yet_done],\n",
    "    s=1\n",
    ")\n",
    "plt.scatter(\n",
    "    grid_entries2['index_subgrid'][not_yet_done2],\n",
    "    grid_entries2['nr_iraf60'][not_yet_done2],\n",
    "    s=1\n",
    ")"
   ]
  }
 ],
 "metadata": {
  "kernelspec": {
   "display_name": "Python 3",
   "language": "python",
   "name": "python3"
  },
  "language_info": {
   "codemirror_mode": {
    "name": "ipython",
    "version": 3
   },
   "file_extension": ".py",
   "mimetype": "text/x-python",
   "name": "python",
   "nbconvert_exporter": "python",
   "pygments_lexer": "ipython3",
   "version": "3.7.4"
  }
 },
 "nbformat": 4,
 "nbformat_minor": 2
}
