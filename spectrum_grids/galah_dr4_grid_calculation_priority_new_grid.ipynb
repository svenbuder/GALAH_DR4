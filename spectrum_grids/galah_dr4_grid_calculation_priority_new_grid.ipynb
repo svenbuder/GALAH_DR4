{
 "cells": [
  {
   "cell_type": "code",
   "execution_count": 7,
   "metadata": {},
   "outputs": [],
   "source": [
    "try:\n",
    "    %matplotlib inline\n",
    "    %config InlineBackend.figure_format='retina'\n",
    "except:\n",
    "    pass\n",
    "\n",
    "import numpy as np\n",
    "from astropy.table import Table\n",
    "import matplotlib.pyplot as plt\n",
    "from scipy.spatial import cKDTree"
   ]
  },
  {
   "cell_type": "code",
   "execution_count": 2,
   "metadata": {},
   "outputs": [],
   "source": [
    "initial_values = Table.read('../spectrum_analysis/galah_dr4_initial_parameters_220714_lite.fits')"
   ]
  },
  {
   "cell_type": "code",
   "execution_count": 3,
   "metadata": {},
   "outputs": [],
   "source": [
    "grids = Table.read('galah_dr4_model_trainingset_gridpoints.fits')"
   ]
  },
  {
   "cell_type": "code",
   "execution_count": 34,
   "metadata": {
    "scrolled": false
   },
   "outputs": [],
   "source": [
    "grids['model_name'] = np.array([str(int(grid['teff_subgrid']))+'_'+str(\"{:.2f}\".format(grid['logg_subgrid']))+'_'+str(\"{:.2f}\".format(grid['fe_h_subgrid'])) for grid in grids])"
   ]
  },
  {
   "cell_type": "code",
   "execution_count": 8,
   "metadata": {},
   "outputs": [],
   "source": [
    "grids = Table.read('../spectrum_grids/galah_dr4_model_trainingset_gridpoints.fits')\n",
    "grid_index_tree = cKDTree(np.c_[grids['teff_subgrid']/1000.,grids['logg_subgrid'],grids['fe_h_subgrid']])"
   ]
  },
  {
   "cell_type": "code",
   "execution_count": 24,
   "metadata": {},
   "outputs": [],
   "source": [
    "initial_values['grid_index'] = np.array([grid_index_tree.query([tgf[0]/1000.,tgf[1],tgf[2]]) for tgf in np.array([initial_values['teff'],initial_values['logg'],initial_values['fe_h']]).T])[:,1]"
   ]
  },
  {
   "cell_type": "code",
   "execution_count": 64,
   "metadata": {},
   "outputs": [],
   "source": [
    "indices = initial_values['grid_index']\n",
    "priority = Table()\n",
    "d,c = np.unique(indices, return_counts=True)\n",
    "priority['grid_index'] = np.array(d,dtype=int)\n",
    "priority['counts_dr4_init'] = np.array(c,dtype=int)\n",
    "priority.sort(keys='counts_dr4_init',reverse=True)"
   ]
  },
  {
   "cell_type": "code",
   "execution_count": 65,
   "metadata": {},
   "outputs": [],
   "source": [
    "grids_done = [\n",
    "    \n",
    "]"
   ]
  },
  {
   "cell_type": "code",
   "execution_count": 66,
   "metadata": {},
   "outputs": [],
   "source": [
    "grids_sme_to_train = []"
   ]
  },
  {
   "cell_type": "code",
   "execution_count": 67,
   "metadata": {},
   "outputs": [],
   "source": [
    "trained_6 = []"
   ]
  },
  {
   "cell_type": "code",
   "execution_count": 68,
   "metadata": {
    "scrolled": false
   },
   "outputs": [
    {
     "name": "stdout",
     "output_type": "stream",
     "text": [
      "import os\n",
      "ps = []\n",
      "for p in ps:\n",
      "    os.system('ipython galah_dr4_grid_interpolation_trainingset_creation.py '+str(p))\n",
      "os.system('ipython galah_dr4_grid_interpolation_recommend_labels.py '+str(p))\n"
     ]
    }
   ],
   "source": [
    "s = []\n",
    "for grid_p in grids_done:\n",
    "    if grid_p not in grids_sme_to_train:\n",
    "        print(str(grid_p)+',')\n",
    "        s.append(grid_p)\n",
    "print('import os')\n",
    "print('ps = ['+','.join([str(x) for x in s])+']')\n",
    "print('for p in ps:')\n",
    "print(\"    os.system('ipython galah_dr4_grid_interpolation_trainingset_creation.py '+str(p))\")\n",
    "print(\"os.system('ipython galah_dr4_grid_interpolation_recommend_labels.py '+str(p))\")"
   ]
  },
  {
   "cell_type": "code",
   "execution_count": 69,
   "metadata": {
    "code_folding": [
     0
    ],
    "scrolled": false
   },
   "outputs": [
    {
     "name": "stderr",
     "output_type": "stream",
     "text": [
      "/var/folders/vz/3qk7_1lx4vq905d6y0hspntr0000gs/T/ipykernel_30570/150773874.py:100: DeprecationWarning: Calling np.sum(generator) is deprecated, and in the future will give a different result. Use np.sum(np.fromiter(generator)) or the python sum builtin instead.\n",
      "  progress_table['grids_calculated'] = np.sum(progress_table['grid_'+str(n)+'_calculated'] for n in [1,2,3,4,5,6,7])\n",
      "/var/folders/vz/3qk7_1lx4vq905d6y0hspntr0000gs/T/ipykernel_30570/150773874.py:101: DeprecationWarning: Calling np.sum(generator) is deprecated, and in the future will give a different result. Use np.sum(np.fromiter(generator)) or the python sum builtin instead.\n",
      "  progress_table['grids_trainingset'] = np.sum(progress_table['grid_'+str(n)+'_trainingset'] for n in [1,2,3,4,5,6,7])\n"
     ]
    },
    {
     "data": {
      "text/html": [
       "<div><i>Table length=0</i>\n",
       "<table id=\"table4921909504\" class=\"table-striped table-bordered table-condensed\">\n",
       "<thead><tr><th>index_subgrid</th><th>trainingset_done</th><th>grids_trainingset</th><th>grids_calculated</th><th>next_conversion</th><th>next_calculation</th><th>grid_1</th><th>grid_2</th><th>grid_3</th><th>grid_4</th><th>grid_5</th><th>grid_6</th><th>grid_7</th><th>grid_1_calculated</th><th>grid_2_calculated</th><th>grid_3_calculated</th><th>grid_4_calculated</th><th>grid_5_calculated</th><th>grid_6_calculated</th><th>grid_7_calculated</th><th>grid_1_trainingset</th><th>grid_2_trainingset</th><th>grid_3_trainingset</th><th>grid_4_trainingset</th><th>grid_5_trainingset</th><th>grid_6_trainingset</th><th>grid_7_trainingset</th></tr></thead>\n",
       "<thead><tr><th>int64</th><th>int64</th><th>float64</th><th>float64</th><th>int64</th><th>int64</th><th>str15</th><th>str15</th><th>str15</th><th>str16</th><th>str15</th><th>str15</th><th>str15</th><th>float64</th><th>float64</th><th>float64</th><th>float64</th><th>float64</th><th>float64</th><th>float64</th><th>float64</th><th>float64</th><th>float64</th><th>float64</th><th>float64</th><th>float64</th><th>float64</th></tr></thead>\n",
       "</table></div>"
      ],
      "text/plain": [
       "<Table length=0>\n",
       "index_subgrid trainingset_done ... grid_6_trainingset grid_7_trainingset\n",
       "    int64          int64       ...      float64            float64      \n",
       "------------- ---------------- ... ------------------ ------------------"
      ]
     },
     "execution_count": 69,
     "metadata": {},
     "output_type": "execute_result"
    }
   ],
   "source": [
    "def get_progress():\n",
    "    progress_table = Table()\n",
    "    progress_table['index_subgrid'] = grids['index_subgrid']\n",
    "    # Let's get placeholders for the important progress indicators: nr grids calculated, nr grids converted into training_data, training_fully finished\n",
    "    progress_table['trainingset_done'] = np.zeros(len(grids['index_subgrid']),dtype=int)\n",
    "    progress_table['grids_trainingset'] = np.zeros(len(grids['index_subgrid']),dtype=int)\n",
    "    progress_table['grids_calculated'] = np.zeros(len(grids['index_subgrid']),dtype=int)\n",
    "    progress_table['next_conversion'] = np.zeros(len(grids['index_subgrid']),dtype=int)\n",
    "    progress_table['next_calculation'] = np.zeros(len(grids['index_subgrid']),dtype=int)\n",
    "    # Convert all 7 grids to their gridnames\n",
    "    progress_table['grid_1'] = np.array([str(int(grids['teff_subgrid'][x]))+'_'+\"{:.2f}\".format(grids['logg_subgrid'][x])+'_'+\"{:.2f}\".format(grids['fe_h_subgrid'][x]) for x in range(len(grids['index_subgrid']))])\n",
    "    progress_table['grid_2'] = np.array([str(int(grids['teff_low_subgrid'][x]))+'_'+\"{:.2f}\".format(grids['logg_subgrid'][x])+'_'+\"{:.2f}\".format(grids['fe_h_subgrid'][x]) for x in range(len(grids['index_subgrid']))])\n",
    "    progress_table['grid_3'] = np.array([str(int(grids['teff_high_subgrid'][x]))+'_'+\"{:.2f}\".format(grids['logg_subgrid'][x])+'_'+\"{:.2f}\".format(grids['fe_h_subgrid'][x]) for x in range(len(grids['index_subgrid']))])\n",
    "    progress_table['grid_4'] = np.array([str(int(grids['teff_subgrid'][x]))+'_'+\"{:.2f}\".format(grids['logg_low_subgrid'][x])+'_'+\"{:.2f}\".format(grids['fe_h_subgrid'][x]) for x in range(len(grids['index_subgrid']))])\n",
    "    progress_table['grid_5'] = np.array([str(int(grids['teff_subgrid'][x]))+'_'+\"{:.2f}\".format(grids['logg_high_subgrid'][x])+'_'+\"{:.2f}\".format(grids['fe_h_subgrid'][x]) for x in range(len(grids['index_subgrid']))])\n",
    "    progress_table['grid_6'] = np.array([str(int(grids['teff_subgrid'][x]))+'_'+\"{:.2f}\".format(grids['logg_subgrid'][x])+'_'+\"{:.2f}\".format(grids['fe_h_low_subgrid'][x]) for x in range(len(grids['index_subgrid']))])\n",
    "    progress_table['grid_7'] = np.array([str(int(grids['teff_subgrid'][x]))+'_'+\"{:.2f}\".format(grids['logg_subgrid'][x])+'_'+\"{:.2f}\".format(grids['fe_h_high_subgrid'][x]) for x in range(len(grids['index_subgrid']))])\n",
    "    # Now let's set zeros for the progress to initiate\n",
    "    progress_table['grid_1_calculated'] = np.zeros(len(grids['index_subgrid']))\n",
    "    progress_table['grid_2_calculated'] = np.zeros(len(grids['index_subgrid']))\n",
    "    progress_table['grid_3_calculated'] = np.zeros(len(grids['index_subgrid']))\n",
    "    progress_table['grid_4_calculated'] = np.zeros(len(grids['index_subgrid']))\n",
    "    progress_table['grid_5_calculated'] = np.zeros(len(grids['index_subgrid']))\n",
    "    progress_table['grid_6_calculated'] = np.zeros(len(grids['index_subgrid']))\n",
    "    progress_table['grid_7_calculated'] = np.zeros(len(grids['index_subgrid']))\n",
    "    # Let's see which ones we have already put into a training set\n",
    "    progress_table['grid_1_trainingset'] = np.zeros(len(grids['index_subgrid']))\n",
    "    progress_table['grid_2_trainingset'] = np.zeros(len(grids['index_subgrid']))\n",
    "    progress_table['grid_3_trainingset'] = np.zeros(len(grids['index_subgrid']))\n",
    "    progress_table['grid_4_trainingset'] = np.zeros(len(grids['index_subgrid']))\n",
    "    progress_table['grid_5_trainingset'] = np.zeros(len(grids['index_subgrid']))\n",
    "    progress_table['grid_6_trainingset'] = np.zeros(len(grids['index_subgrid']))\n",
    "    progress_table['grid_7_trainingset'] = np.zeros(len(grids['index_subgrid']))\n",
    "    # Some grids cannot be calculated, let's set their value to 1 already\n",
    "    # For example, we do not have grids with 5.0 logg for Teff > 4000\n",
    "    progress_table['grid_5_calculated'][np.where((grids['teff_subgrid'] > 4000) & (grids['logg_high_subgrid'] > 4.75))[0]] = 1\n",
    "    progress_table['grid_5_trainingset'][np.where((grids['teff_subgrid'] > 4000) & (grids['logg_high_subgrid'] > 4.75))[0]] = 1\n",
    "    # Then go through the list of the ones that we actually have calculated\n",
    "    for grid_done in grids_done:\n",
    "        that_grid = progress_table['grid_1'][grid_done]\n",
    "        try:\n",
    "            progress_table['grid_1_calculated'][np.where(progress_table['grid_1'] == that_grid)[0][0]] = 1\n",
    "        except:\n",
    "            pass\n",
    "        try:\n",
    "            progress_table['grid_2_calculated'][np.where(progress_table['grid_2'] == that_grid)[0][0]] = 1\n",
    "        except:\n",
    "            pass\n",
    "        try:\n",
    "            progress_table['grid_3_calculated'][np.where(progress_table['grid_3'] == that_grid)[0][0]] = 1\n",
    "        except:\n",
    "            pass\n",
    "        try:\n",
    "            progress_table['grid_4_calculated'][np.where(progress_table['grid_4'] == that_grid)[0][0]] = 1\n",
    "        except:\n",
    "            pass\n",
    "        try:\n",
    "            progress_table['grid_5_calculated'][np.where(progress_table['grid_5'] == that_grid)[0][0]] = 1\n",
    "        except:\n",
    "            pass\n",
    "        try:\n",
    "            progress_table['grid_6_calculated'][np.where(progress_table['grid_6'] == that_grid)[0][0]] = 1\n",
    "        except:\n",
    "            pass\n",
    "        try:\n",
    "            progress_table['grid_7_calculated'][np.where(progress_table['grid_7'] == that_grid)[0][0]] = 1\n",
    "        except:\n",
    "            pass\n",
    "    # Then go through the list of the ones that we actually have transformed into a training_data\n",
    "    for grid_done in grids_sme_to_train:\n",
    "        that_grid = progress_table['grid_1'][grid_done]\n",
    "        try:\n",
    "            progress_table['grid_1_trainingset'][np.where(progress_table['grid_1'] == that_grid)[0][0]] = 1\n",
    "        except:\n",
    "            pass\n",
    "        try:\n",
    "            progress_table['grid_2_trainingset'][np.where(progress_table['grid_2'] == that_grid)[0][0]] = 1\n",
    "        except:\n",
    "            pass\n",
    "        try:\n",
    "            progress_table['grid_3_trainingset'][np.where(progress_table['grid_3'] == that_grid)[0][0]] = 1\n",
    "        except:\n",
    "            pass\n",
    "        try:\n",
    "            progress_table['grid_4_trainingset'][np.where(progress_table['grid_4'] == that_grid)[0][0]] = 1\n",
    "        except:\n",
    "            pass\n",
    "        try:\n",
    "            progress_table['grid_5_trainingset'][np.where(progress_table['grid_5'] == that_grid)[0][0]] = 1\n",
    "        except:\n",
    "            pass\n",
    "        try:\n",
    "            progress_table['grid_6_trainingset'][np.where(progress_table['grid_6'] == that_grid)[0][0]] = 1\n",
    "        except:\n",
    "            pass\n",
    "        try:\n",
    "            progress_table['grid_7_trainingset'][np.where(progress_table['grid_7'] == that_grid)[0][0]] = 1\n",
    "        except:\n",
    "            pass\n",
    "    progress_table['grids_calculated'] = np.sum(progress_table['grid_'+str(n)+'_calculated'] for n in [1,2,3,4,5,6,7])\n",
    "    progress_table['grids_trainingset'] = np.sum(progress_table['grid_'+str(n)+'_trainingset'] for n in [1,2,3,4,5,6,7])\n",
    "    for index in trained_6:\n",
    "        progress_table['trainingset_done'][index] = 1\n",
    "    for index in range(len(progress_table['grids_trainingset'])):\n",
    "        if progress_table['grids_calculated'][index] == 6:\n",
    "            missing_grid = np.where(np.array([progress_table['grid_'+str(n)+'_calculated'][index] for n in [1,2,3,4,5,6,7]])==0)[0][0]\n",
    "            index_missing_grid = np.where(progress_table['grid_1'] == progress_table['grid_'+str(missing_grid+1)][index])[0]\n",
    "            if len(index_missing_grid) > 0:\n",
    "                index_missing_grid = index_missing_grid[0]\n",
    "            else:\n",
    "                index_missing_grid = -1\n",
    "            progress_table['next_calculation'][index] = index_missing_grid\n",
    "        if progress_table['grids_calculated'][index] == 5:\n",
    "            missing_grid = np.where(np.array([progress_table['grid_'+str(n)+'_calculated'][index] for n in [1,2,3,4,5,6,7]])==0)[0][0]\n",
    "            index_missing_grid = np.where(progress_table['grid_1'] == progress_table['grid_'+str(missing_grid+1)][index])[0]\n",
    "            if len(index_missing_grid) > 0:\n",
    "                index_missing_grid = index_missing_grid[0]\n",
    "            else:\n",
    "                index_missing_grid = -1\n",
    "            progress_table['next_calculation'][index] = index_missing_grid\n",
    "        if progress_table['grids_calculated'][index] == 4:\n",
    "            missing_grid = np.where(np.array([progress_table['grid_'+str(n)+'_calculated'][index] for n in [1,2,3,4,5,6,7]])==0)[0][0]\n",
    "            index_missing_grid = np.where(progress_table['grid_1'] == progress_table['grid_'+str(missing_grid+1)][index])[0]\n",
    "            if len(index_missing_grid) > 0:\n",
    "                index_missing_grid = index_missing_grid[0]\n",
    "            else:\n",
    "                index_missing_grid = -1\n",
    "            progress_table['next_calculation'][index] = index_missing_grid\n",
    "        if progress_table['grids_calculated'][index] == 3:\n",
    "            missing_grid = np.where(np.array([progress_table['grid_'+str(n)+'_calculated'][index] for n in [1,2,3,4,5,6,7]])==0)[0][0]\n",
    "            index_missing_grid = np.where(progress_table['grid_1'] == progress_table['grid_'+str(missing_grid+1)][index])[0]\n",
    "            if len(index_missing_grid) > 0:\n",
    "                index_missing_grid = index_missing_grid[0]\n",
    "            else:\n",
    "                index_missing_grid = -1\n",
    "            progress_table['next_calculation'][index] = index_missing_grid\n",
    "        if progress_table['grids_calculated'][index] == 2:\n",
    "            missing_grid = np.where(np.array([progress_table['grid_'+str(n)+'_calculated'][index] for n in [1,2,3,4,5,6,7]])==0)[0][0]\n",
    "            index_missing_grid = np.where(progress_table['grid_1'] == progress_table['grid_'+str(missing_grid+1)][index])[0]\n",
    "            if len(index_missing_grid) > 0:\n",
    "                index_missing_grid = index_missing_grid[0]\n",
    "            else:\n",
    "                index_missing_grid = -1\n",
    "            progress_table['next_calculation'][index] = index_missing_grid\n",
    "        if progress_table['grids_calculated'][index] == 1:\n",
    "            missing_grid = np.where(np.array([progress_table['grid_'+str(n)+'_calculated'][index] for n in [1,2,3,4,5,6,7]])==0)[0][0]\n",
    "            index_missing_grid = np.where(progress_table['grid_1'] == progress_table['grid_'+str(missing_grid+1)][index])[0]\n",
    "            if len(index_missing_grid) > 0:\n",
    "                index_missing_grid = index_missing_grid[0]\n",
    "            else:\n",
    "                index_missing_grid = -1\n",
    "            progress_table['next_calculation'][index] = index_missing_grid\n",
    "\n",
    "    for index in range(len(progress_table['grids_trainingset'])):\n",
    "        if progress_table['grids_trainingset'][index] == 6:\n",
    "            missing_grid = np.where(np.array([progress_table['grid_'+str(n)+'_trainingset'][index] for n in [1,2,3,4,5,6,7]])==0)[0][0]\n",
    "            index_missing_grid = np.where(progress_table['grid_1'] == progress_table['grid_'+str(missing_grid+1)][index])[0]\n",
    "            if len(index_missing_grid) > 0:\n",
    "                index_missing_grid = index_missing_grid[0]\n",
    "            else:\n",
    "                index_missing_grid = -1\n",
    "            progress_table['next_conversion'][index] = index_missing_grid\n",
    "        if progress_table['grids_trainingset'][index] == 5:\n",
    "            missing_grid = np.where(np.array([progress_table['grid_'+str(n)+'_trainingset'][index] for n in [1,2,3,4,5,6,7]])==0)[0][0]\n",
    "            index_missing_grid = np.where(progress_table['grid_1'] == progress_table['grid_'+str(missing_grid+1)][index])[0]\n",
    "            if len(index_missing_grid) > 0:\n",
    "                index_missing_grid = index_missing_grid[0]\n",
    "            else:\n",
    "                index_missing_grid = -1\n",
    "            progress_table['next_conversion'][index] = index_missing_grid\n",
    "        if progress_table['grids_trainingset'][index] == 4:\n",
    "            missing_grid = np.where(np.array([progress_table['grid_'+str(n)+'_trainingset'][index] for n in [1,2,3,4,5,6,7]])==0)[0][0]\n",
    "            index_missing_grid = np.where(progress_table['grid_1'] == progress_table['grid_'+str(missing_grid+1)][index])[0]\n",
    "            if len(index_missing_grid) > 0:\n",
    "                index_missing_grid = index_missing_grid[0]\n",
    "            else:\n",
    "                index_missing_grid = -1\n",
    "            progress_table['next_conversion'][index] = index_missing_grid\n",
    "\n",
    "    return(progress_table)\n",
    "progress_table = get_progress()\n",
    "x=90\n",
    "progress_table[np.where((progress_table['grids_calculated'] >= 6) & (progress_table['trainingset_done'] != 1))[0]][x:15+x]"
   ]
  },
  {
   "cell_type": "code",
   "execution_count": 70,
   "metadata": {},
   "outputs": [
    {
     "name": "stdout",
     "output_type": "stream",
     "text": [
      "0\n"
     ]
    },
    {
     "data": {
      "text/plain": [
       "array([], dtype=float64)"
      ]
     },
     "execution_count": 70,
     "metadata": {},
     "output_type": "execute_result"
    }
   ],
   "source": [
    "print(len(np.unique(list(progress_table['next_calculation'][np.where((progress_table['grids_calculated'] >= 6) & (progress_table['trainingset_done'] != 1))[0]]))))\n",
    "np.unique(list(progress_table['next_calculation'][np.where((progress_table['grids_calculated'] >= 6) & (progress_table['trainingset_done'] != 1))[0]]))"
   ]
  },
  {
   "cell_type": "code",
   "execution_count": 71,
   "metadata": {},
   "outputs": [
    {
     "data": {
      "text/html": [
       "<div><i>Table length=0</i>\n",
       "<table id=\"table4926128080\" class=\"table-striped table-bordered table-condensed\">\n",
       "<thead><tr><th>index_subgrid</th><th>trainingset_done</th><th>grids_trainingset</th><th>grids_calculated</th><th>next_conversion</th><th>next_calculation</th><th>grid_1</th><th>grid_2</th><th>grid_3</th><th>grid_4</th><th>grid_5</th><th>grid_6</th><th>grid_7</th><th>grid_1_calculated</th><th>grid_2_calculated</th><th>grid_3_calculated</th><th>grid_4_calculated</th><th>grid_5_calculated</th><th>grid_6_calculated</th><th>grid_7_calculated</th><th>grid_1_trainingset</th><th>grid_2_trainingset</th><th>grid_3_trainingset</th><th>grid_4_trainingset</th><th>grid_5_trainingset</th><th>grid_6_trainingset</th><th>grid_7_trainingset</th></tr></thead>\n",
       "<thead><tr><th>int64</th><th>int64</th><th>float64</th><th>float64</th><th>int64</th><th>int64</th><th>str15</th><th>str15</th><th>str15</th><th>str16</th><th>str15</th><th>str15</th><th>str15</th><th>float64</th><th>float64</th><th>float64</th><th>float64</th><th>float64</th><th>float64</th><th>float64</th><th>float64</th><th>float64</th><th>float64</th><th>float64</th><th>float64</th><th>float64</th><th>float64</th></tr></thead>\n",
       "</table></div>"
      ],
      "text/plain": [
       "<Table length=0>\n",
       "index_subgrid trainingset_done ... grid_6_trainingset grid_7_trainingset\n",
       "    int64          int64       ...      float64            float64      \n",
       "------------- ---------------- ... ------------------ ------------------"
      ]
     },
     "execution_count": 71,
     "metadata": {},
     "output_type": "execute_result"
    }
   ],
   "source": [
    "progress_table[np.where((progress_table['grids_calculated'] == 7) & (progress_table['trainingset_done'] != 1))[0]]"
   ]
  },
  {
   "cell_type": "code",
   "execution_count": 72,
   "metadata": {},
   "outputs": [
    {
     "name": "stdout",
     "output_type": "stream",
     "text": [
      "\n",
      "import os\n",
      "ps = []\n",
      "for p in ps:\n",
      "    os.system('ipython galah_dr4_thepayne_grid_interpolation_training_extra6.py '+str(p))\n",
      "import os\n",
      "ps = []\n",
      "for p in ps:\n",
      "    os.system('ipython galah_dr4_thepayne_grid_interpolation_training_extra6.py '+str(p))\n"
     ]
    }
   ],
   "source": [
    "todo = [str(x) for x in progress_table['index_subgrid'][np.where(((progress_table['next_conversion'] == -1) | (progress_table['next_conversion'] == 0)) & (progress_table['grids_calculated'] == 7) & (progress_table['trainingset_done'] != 1))[0]]]\n",
    "todo1 = todo[:int(len(todo)/2)]\n",
    "todo2 = todo[int(len(todo)/2):]\n",
    "\n",
    "print(','.join(todo))\n",
    "for t in [todo1,todo2]:\n",
    "    print('import os')\n",
    "    print('ps = ['+','.join(t)+']')\n",
    "    print('for p in ps:')\n",
    "    print(\"    os.system('ipython galah_dr4_thepayne_grid_interpolation_training_extra6.py '+str(p))\")\n"
   ]
  },
  {
   "cell_type": "code",
   "execution_count": 81,
   "metadata": {},
   "outputs": [
    {
     "data": {
      "text/html": [
       "<i>Row index=0</i>\n",
       "<table id=\"table4926139840\">\n",
       "<thead><tr><th>grid_index</th><th>counts_dr4_init</th></tr></thead>\n",
       "<thead><tr><th>int64</th><th>int64</th></tr></thead>\n",
       "<tr><td>2002</td><td>35638</td></tr>\n",
       "</table>"
      ],
      "text/plain": [
       "<Row index=0>\n",
       "grid_index counts_dr4_init\n",
       "  int64         int64     \n",
       "---------- ---------------\n",
       "      2002           35638"
      ]
     },
     "execution_count": 81,
     "metadata": {},
     "output_type": "execute_result"
    }
   ],
   "source": [
    "upcoming_priority = priority[[x not in trained_6 for x in priority['grid_index']]]\n",
    "upcoming_priority[0]"
   ]
  },
  {
   "cell_type": "code",
   "execution_count": null,
   "metadata": {},
   "outputs": [],
   "source": []
  }
 ],
 "metadata": {
  "kernelspec": {
   "display_name": "Python 3 (ipykernel)",
   "language": "python",
   "name": "python3"
  },
  "language_info": {
   "codemirror_mode": {
    "name": "ipython",
    "version": 3
   },
   "file_extension": ".py",
   "mimetype": "text/x-python",
   "name": "python",
   "nbconvert_exporter": "python",
   "pygments_lexer": "ipython3",
   "version": "3.9.12"
  }
 },
 "nbformat": 4,
 "nbformat_minor": 2
}
