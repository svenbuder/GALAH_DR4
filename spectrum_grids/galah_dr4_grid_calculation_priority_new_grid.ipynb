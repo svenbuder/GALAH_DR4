{
 "cells": [
  {
   "cell_type": "code",
   "execution_count": 161,
   "metadata": {},
   "outputs": [],
   "source": [
    "try:\n",
    "    %matplotlib inline\n",
    "    %config InlineBackend.figure_format='retina'\n",
    "except:\n",
    "    pass\n",
    "\n",
    "import numpy as np\n",
    "from astropy.table import Table, join\n",
    "import matplotlib.pyplot as plt\n",
    "from matplotlib.colors import LogNorm\n",
    "from scipy.spatial import cKDTree\n",
    "import os"
   ]
  },
  {
   "cell_type": "code",
   "execution_count": 2,
   "metadata": {},
   "outputs": [],
   "source": [
    "initial_values = Table.read('../spectrum_analysis/galah_dr4_initial_parameters_220714_lite.fits')"
   ]
  },
  {
   "cell_type": "code",
   "execution_count": 3,
   "metadata": {},
   "outputs": [],
   "source": [
    "grids = Table.read('galah_dr4_model_trainingset_gridpoints.fits')"
   ]
  },
  {
   "cell_type": "code",
   "execution_count": 4,
   "metadata": {
    "scrolled": false
   },
   "outputs": [],
   "source": [
    "grids['model_name'] = np.array([str(int(grid['teff_subgrid']))+'_'+str(\"{:.2f}\".format(grid['logg_subgrid']))+'_'+str(\"{:.2f}\".format(grid['fe_h_subgrid'])) for grid in grids])"
   ]
  },
  {
   "cell_type": "code",
   "execution_count": 5,
   "metadata": {},
   "outputs": [],
   "source": [
    "grid_index_tree = cKDTree(np.c_[grids['teff_subgrid']/1000.,grids['logg_subgrid'],grids['fe_h_subgrid']])"
   ]
  },
  {
   "cell_type": "code",
   "execution_count": 6,
   "metadata": {},
   "outputs": [],
   "source": [
    "initial_values['grid_index'] = np.array([grid_index_tree.query([tgf[0]/1000.,tgf[1],tgf[2]]) for tgf in np.array([initial_values['teff'],initial_values['logg'],initial_values['fe_h']]).T])[:,1]"
   ]
  },
  {
   "cell_type": "code",
   "execution_count": 7,
   "metadata": {},
   "outputs": [],
   "source": [
    "indices = initial_values['grid_index']\n",
    "priority = Table()\n",
    "d,c = np.unique(indices, return_counts=True)\n",
    "priority['index_subgrid'] = np.array(d,dtype=int)\n",
    "priority['counts_dr4_init'] = np.array(c,dtype=int)\n",
    "priority = join(priority, grids, keys='index_subgrid')\n",
    "priority.sort(keys='counts_dr4_init',reverse=True)"
   ]
  },
  {
   "cell_type": "code",
   "execution_count": 8,
   "metadata": {},
   "outputs": [],
   "source": [
    "def test_grid_index_computations(test_grid_index = 1931, print_all_points=False,):\n",
    "    if print_all_points:\n",
    "        print('Printing grid points not yet computed for '+str(grids['model_name'][test_grid_index])+':')\n",
    "\n",
    "    # Find upper and lower Teff points\n",
    "    test_grid_teff = int(grids['teff_subgrid'][test_grid_index])\n",
    "    if test_grid_teff <= 4000:\n",
    "        test_grid_teff_lower = test_grid_teff - 100\n",
    "    else:\n",
    "        test_grid_teff_lower = test_grid_teff - 250\n",
    "    if test_grid_teff <= 3900:\n",
    "        test_grid_teff_higher = test_grid_teff + 100\n",
    "    else:\n",
    "        test_grid_teff_higher = test_grid_teff + 250\n",
    "\n",
    "    # Find upper and lower logg points\n",
    "    test_grid_logg = grids['logg_subgrid'][test_grid_index]\n",
    "    test_grid_logg_lower = test_grid_logg - 0.5\n",
    "    test_grid_logg_higher = test_grid_logg + 0.5\n",
    "\n",
    "    # Find upper and lower fe_h points\n",
    "    test_grid_fe_h = grids['fe_h_subgrid'][test_grid_index]\n",
    "    if test_grid_fe_h <= -0.75:\n",
    "        test_grid_fe_h_lower = test_grid_fe_h - 0.5\n",
    "    else:\n",
    "        test_grid_fe_h_lower = test_grid_fe_h - 0.25\n",
    "    if test_grid_fe_h <= -1.5:\n",
    "        test_grid_fe_h_higher = test_grid_fe_h + 0.5\n",
    "    else:\n",
    "        test_grid_fe_h_higher = test_grid_fe_h + 0.25\n",
    "\n",
    "    for teff in [test_grid_teff_lower,test_grid_teff,test_grid_teff_higher]:\n",
    "        for logg in [test_grid_logg_lower,test_grid_logg,test_grid_logg_higher]:\n",
    "            for fe_h in [test_grid_fe_h_lower,test_grid_fe_h,test_grid_fe_h_higher]:\n",
    "                t = grids['index_subgrid'][grids['model_name'] == str(int(teff))+'_'+\"{:.2f}\".format(logg)+'_'+\"{:.2f}\".format(fe_h)]\n",
    "                if len(t) > 0:\n",
    "                    if t[0] not in grids_done:\n",
    "                        if t[0] not in grids_started:\n",
    "                            if print_all_points:\n",
    "                                print(t[0],str(int(teff))+'_'+\"{:.2f}\".format(logg)+'_'+\"{:.2f}\".format(fe_h))\n",
    "                            else:\n",
    "                                print(str(t[0])+',')\n",
    "                        else:\n",
    "                            if print_all_points:\n",
    "                                print(t[0],str(int(teff))+'_'+\"{:.2f}\".format(logg)+'_'+\"{:.2f}\".format(fe_h), 'already started')\n",
    "                    else:\n",
    "                        if print_all_points:\n",
    "                            print(t[0],str(int(teff))+'_'+\"{:.2f}\".format(logg)+'_'+\"{:.2f}\".format(fe_h), 'already done')\n",
    "                else:\n",
    "                    if print_all_points:\n",
    "                        print('Not in GRID :', str(int(teff))+'_'+\"{:.2f}\".format(logg)+'_'+\"{:.2f}\".format(fe_h))\n",
    "                    "
   ]
  },
  {
   "cell_type": "code",
   "execution_count": 9,
   "metadata": {},
   "outputs": [],
   "source": [
    "def test_grid_index_ready_for_training(test_grid_index = 1931, print_all_points=False,):\n",
    "    if print_all_points:\n",
    "        print('Printing grid points not yet computed for '+str(grids['model_name'][test_grid_index])+':')\n",
    "\n",
    "    # Find upper and lower Teff points\n",
    "    test_grid_teff = int(grids['teff_subgrid'][test_grid_index])\n",
    "    if test_grid_teff <= 4000:\n",
    "        test_grid_teff_lower = test_grid_teff - 100\n",
    "    else:\n",
    "        test_grid_teff_lower = test_grid_teff - 250\n",
    "    if test_grid_teff <= 3900:\n",
    "        test_grid_teff_higher = test_grid_teff + 100\n",
    "    else:\n",
    "        test_grid_teff_higher = test_grid_teff + 250\n",
    "\n",
    "    # Find upper and lower logg points\n",
    "    test_grid_logg = grids['logg_subgrid'][test_grid_index]\n",
    "    test_grid_logg_lower = test_grid_logg - 0.5\n",
    "    test_grid_logg_higher = test_grid_logg + 0.5\n",
    "\n",
    "    # Find upper and lower fe_h points\n",
    "    test_grid_fe_h = grids['fe_h_subgrid'][test_grid_index]\n",
    "    if test_grid_fe_h <= -0.75:\n",
    "        test_grid_fe_h_lower = test_grid_fe_h - 0.5\n",
    "    else:\n",
    "        test_grid_fe_h_lower = test_grid_fe_h - 0.25\n",
    "    if test_grid_fe_h <= -1.5:\n",
    "        test_grid_fe_h_higher = test_grid_fe_h + 0.5\n",
    "    else:\n",
    "        test_grid_fe_h_higher = test_grid_fe_h + 0.25\n",
    "\n",
    "    for teff in [test_grid_teff_lower,test_grid_teff,test_grid_teff_higher]:\n",
    "        for logg in [test_grid_logg_lower,test_grid_logg,test_grid_logg_higher]:\n",
    "            for fe_h in [test_grid_fe_h_lower,test_grid_fe_h,test_grid_fe_h_higher]:\n",
    "                t = grids['index_subgrid'][grids['model_name'] == str(int(teff))+'_'+\"{:.2f}\".format(logg)+'_'+\"{:.2f}\".format(fe_h)]\n",
    "                if len(t) > 0:\n",
    "                    if t[0] not in grids_converted_to_nn_input:\n",
    "                        print(t[0],str(int(teff))+'_'+\"{:.2f}\".format(logg)+'_'+\"{:.2f}\".format(fe_h),' not ready')\n",
    "                    else:\n",
    "                        print(t[0],str(int(teff))+'_'+\"{:.2f}\".format(logg)+'_'+\"{:.2f}\".format(fe_h),' done')\n",
    "                else:\n",
    "                    if print_all_points:\n",
    "                        print('Not in GRID :', str(int(teff))+'_'+\"{:.2f}\".format(logg)+'_'+\"{:.2f}\".format(fe_h))\n",
    "                    "
   ]
  },
  {
   "cell_type": "code",
   "execution_count": 165,
   "metadata": {},
   "outputs": [],
   "source": [
    "grids_started = [\n",
    "478, # for analysis of 131216001101084\n",
    "1245,\n",
    "1257,\n",
    "1269,\n",
    "1563,\n",
    "1609,\n",
    "1672,\n",
    "1673,\n",
    "1674,\n",
    "1685,\n",
    "1686,\n",
    "1698,\n",
    "1710,\n",
    "]"
   ]
  },
  {
   "cell_type": "code",
   "execution_count": 166,
   "metadata": {},
   "outputs": [
    {
     "name": "stdout",
     "output_type": "stream",
     "text": [
      "164 45920\n"
     ]
    }
   ],
   "source": [
    "grids_done = [\n",
    "    1242,1243,1244,\n",
    "    1254,1255,1256,\n",
    "    1266,1267,1268,\n",
    "    1351,1352,1353,1354,\n",
    "    1363,1364,1365,1366,\n",
    "    1375,1376,1377,1378,\n",
    "    1387,1388,1389,1390,\n",
    "    1457,1458,1459,\n",
    "    1460,\n",
    "    1469,\n",
    "    1470,1471,1472,\n",
    "    1481,1482,1483,1484,\n",
    "    1493,1494,1495,1496,\n",
    "    1506,1507,1508,\n",
    "    1560,1561,1562,\n",
    "    1572,1573,1574,1575,\n",
    "    1584,1585,1586,1587,\n",
    "    1596,1597,1598,1599,\n",
    "    1610,1611,\n",
    "    1684,\n",
    "    1695,1696,1697,\n",
    "    1707,1708,1709,\n",
    "    1719,1720,1721,\n",
    "    1724,1725,1726,1727,1728,\n",
    "    1736,1737,1738,1739,1740,   \n",
    "    1748,1749,\n",
    "    1750,1751,1752,\n",
    "    1790,1791,1792,\n",
    "    1802,1803,1804,\n",
    "    1814,1815,1816,\n",
    "    1819,\n",
    "    1820,1821,1822,1823,\n",
    "    1831,1832,1833,1834,1835,\n",
    "    1843,1844,1845,1846,1847,\n",
    "    1876,1877,1878,\n",
    "    1888,1889,\n",
    "    1890,\n",
    "    1900,1901,1902,\n",
    "    1905,1906,1907,1908,1909,\n",
    "    1917,1918,1919,\n",
    "    1920,1921,\n",
    "    1929,\n",
    "    1930,1931,1932,1933,\n",
    "    1988,1989,\n",
    "    1990,1991,1992,\n",
    "    2000,2001,2002,2003,2004,\n",
    "    2012,2013,2014,2015,2016,\n",
    "    2065,2066,2067,2068,2069,\n",
    "    2077,2078,2079,\n",
    "    2080,2081,\n",
    "    2089,\n",
    "    2090,2091,2092,2093,\n",
    "]\n",
    "print(len(grids_done),len(grids_done) * 280)"
   ]
  },
  {
   "cell_type": "code",
   "execution_count": 167,
   "metadata": {},
   "outputs": [
    {
     "data": {
      "image/png": "[encoded data removed]",
      "text/plain": [
       "<Figure size 432x288 with 2 Axes>"
      ]
     },
     "metadata": {
      "image/png": {
       "height": 252,
       "width": 358
      },
      "needs_background": "light"
     },
     "output_type": "display_data"
    },
    {
     "name": "stdout",
     "output_type": "stream",
     "text": [
      "[1482, 1803, 1364, 1470]\n"
     ]
    },
    {
     "data": {
      "text/html": [
       "<i>Table length=4</i>\n",
       "<table id=\"table140279281232432\" class=\"table-striped table-bordered table-condensed\">\n",
       "<thead><tr><th>index_subgrid</th><th>counts_dr4_init</th><th>teff_subgrid</th><th>teff_low_subgrid</th><th>teff_high_subgrid</th><th>logg_subgrid</th><th>logg_low_subgrid</th><th>logg_high_subgrid</th><th>fe_h_subgrid</th><th>fe_h_low_subgrid</th><th>fe_h_high_subgrid</th><th>random_seed_subgrid</th><th>model_name</th></tr></thead>\n",
       "<thead><tr><th>int64</th><th>int64</th><th>float32</th><th>float32</th><th>float32</th><th>float32</th><th>float32</th><th>float32</th><th>float32</th><th>float32</th><th>float32</th><th>int64</th><th>str15</th></tr></thead>\n",
       "<tr><td>1482</td><td>300</td><td>4750.0</td><td>4500.0</td><td>5000.0</td><td>2.0</td><td>1.5</td><td>2.5</td><td>-2.0</td><td>-2.5</td><td>-1.5</td><td>4570</td><td>4750_2.00_-2.00</td></tr>\n",
       "<tr><td>1803</td><td>234</td><td>5500.0</td><td>5250.0</td><td>5750.0</td><td>3.0</td><td>2.5</td><td>3.5</td><td>-2.0</td><td>-2.5</td><td>-1.5</td><td>5330</td><td>5500_3.00_-2.00</td></tr>\n",
       "<tr><td>1364</td><td>208</td><td>4500.0</td><td>4250.0</td><td>4750.0</td><td>1.5</td><td>1.0</td><td>2.0</td><td>-2.0</td><td>-2.5</td><td>-1.5</td><td>4315</td><td>4500_1.50_-2.00</td></tr>\n",
       "<tr><td>1470</td><td>202</td><td>4750.0</td><td>4500.0</td><td>5000.0</td><td>1.5</td><td>1.0</td><td>2.0</td><td>-2.0</td><td>-2.5</td><td>-1.5</td><td>4565</td><td>4750_1.50_-2.00</td></tr>\n",
       "</table>"
      ],
      "text/plain": [
       "<Table length=4>\n",
       "index_subgrid counts_dr4_init ... random_seed_subgrid    model_name  \n",
       "    int64          int64      ...        int64             str15     \n",
       "------------- --------------- ... ------------------- ---------------\n",
       "         1482             300 ...                4570 4750_2.00_-2.00\n",
       "         1803             234 ...                5330 5500_3.00_-2.00\n",
       "         1364             208 ...                4315 4500_1.50_-2.00\n",
       "         1470             202 ...                4565 4750_1.50_-2.00"
      ]
     },
     "execution_count": 167,
     "metadata": {},
     "output_type": "execute_result"
    }
   ],
   "source": [
    "selection = (priority['fe_h_subgrid'] <= -2) & (priority['counts_dr4_init'] > 200)\n",
    "# selection = (priority['fe_h_subgrid'] > - 2) & (priority['fe_h_subgrid'] <= -1.5) & (priority['counts_dr4_init'] > 200)\n",
    "# selection = (priority['fe_h_subgrid'] <= -0.75) & (priority['counts_dr4_init'] > 2800)\n",
    "\n",
    "\n",
    "f, ax = plt.subplots()\n",
    "s = ax.scatter(\n",
    "    priority['teff_subgrid'][selection],\n",
    "    priority['logg_subgrid'][selection],\n",
    "    c = priority['counts_dr4_init'][selection],\n",
    ")\n",
    "plt.colorbar(s, ax=ax)\n",
    "ax.set_xlim(ax.get_xlim()[::-1])\n",
    "ax.set_ylim(ax.get_ylim()[::-1])\n",
    "plt.show()\n",
    "plt.close()\n",
    "\n",
    "print(list(priority['index_subgrid'][selection]))\n",
    "\n",
    "priority[selection]"
   ]
  },
  {
   "cell_type": "code",
   "execution_count": 168,
   "metadata": {
    "scrolled": false
   },
   "outputs": [],
   "source": [
    "# ALREADY DONE\n",
    "selection = [\n",
    "    1364,1365,\n",
    "    1470,1471,\n",
    "    1482, 1483,\n",
    "    1598,\n",
    "    1803,\n",
    "    2002, 2001, 1919, 1918, 1931, 1920, 1845, 1930, 1833, 2014, 1844, 2003, 2013, 1932, 1832, 1834, 1846, 2015\n",
    "]\n",
    "selection = [1586,]# ] 1244, 1353, 1997, 2062, 1709, 2135\n",
    "\n",
    "for t in selection:\n",
    "    test_grid_index_computations(t)"
   ]
  },
  {
   "cell_type": "code",
   "execution_count": 169,
   "metadata": {},
   "outputs": [
    {
     "data": {
      "text/plain": [
       "(array([], dtype=float64), 0)"
      ]
     },
     "execution_count": 169,
     "metadata": {},
     "output_type": "execute_result"
    }
   ],
   "source": [
    "all_around = np.unique([\n",
    "])\n",
    "all_around,len(all_around)"
   ]
  },
  {
   "cell_type": "code",
   "execution_count": 171,
   "metadata": {},
   "outputs": [
    {
     "name": "stdout",
     "output_type": "stream",
     "text": [
      "132\n"
     ]
    }
   ],
   "source": [
    "grids_converted_to_nn_input = [\n",
    "    1242,1243,1244,\n",
    "    1254,1255,1256,\n",
    "    1266,1267,1268,    \n",
    "    1351,1352,1353,\n",
    "    1363,1364,1365,1366,\n",
    "    1375,1376,1377,1378,\n",
    "    1387,1388,1389,\n",
    "    1390,\n",
    "#     1457,\n",
    "    1458,1459,\n",
    "    1469,\n",
    "    1470,1471,1472,\n",
    "    1481,1482,1483,1484,\n",
    "    1493,1494,1495,1496,\n",
    "    1560,1561,1562,\n",
    "    1572,1573,1574,1575,\n",
    "    1584,1585,1586,1587,\n",
    "    1596,1597,1598,1599,\n",
    "    1695,1696,1697,\n",
    "    1707,\n",
    "#     1708,1709,1719,1720,1721,1790,1791,1792,1802,1803,\n",
    "    1724,1725,1726,1727,1728,\n",
    "    1736,1737,1738,1739,1740,\n",
    "    1748,1749,\n",
    "    1750,1751,1752,\n",
    "    1819,1820,1821,1822,1823,\n",
    "    1831,1832,1833,1834,1835,\n",
    "    1843,1844,1845,1846,1847,\n",
    "    1905,1906,1907,1908,1909,\n",
    "    1917,1918,1919,\n",
    "    1920,1921,\n",
    "    1929,1930,1931,1932,1933,\n",
    "    1988,1989,1990,1991,1992,\n",
    "    2000,2001,2002,2003,2004,\n",
    "    2012,2013,2014,2015,2016,\n",
    "    2065,2066,2067,2068,2069,\n",
    "    2077,2078,2079,\n",
    "    2080,2081,\n",
    "    2089,\n",
    "    2090,2091,2092,2093,\n",
    "]\n",
    "print(len(grids_converted_to_nn_input))"
   ]
  },
  {
   "cell_type": "code",
   "execution_count": 172,
   "metadata": {
    "scrolled": false
   },
   "outputs": [
    {
     "name": "stdout",
     "output_type": "stream",
     "text": [
      "1351 4500_1.00_-2.50  done\n",
      "1352 4500_1.00_-2.00  done\n",
      "1353 4500_1.00_-1.50  done\n",
      "1363 4500_1.50_-2.50  done\n",
      "1364 4500_1.50_-2.00  done\n",
      "1365 4500_1.50_-1.50  done\n",
      "1375 4500_2.00_-2.50  done\n",
      "1376 4500_2.00_-2.00  done\n",
      "1377 4500_2.00_-1.50  done\n",
      "1457 4750_1.00_-2.50  not ready\n",
      "1458 4750_1.00_-2.00  done\n",
      "1459 4750_1.00_-1.50  done\n",
      "1469 4750_1.50_-2.50  done\n",
      "1470 4750_1.50_-2.00  done\n",
      "1471 4750_1.50_-1.50  done\n",
      "1481 4750_2.00_-2.50  done\n",
      "1482 4750_2.00_-2.00  done\n",
      "1483 4750_2.00_-1.50  done\n",
      "1560 5000_1.00_-2.50  done\n",
      "1561 5000_1.00_-2.00  done\n",
      "1562 5000_1.00_-1.50  done\n",
      "1572 5000_1.50_-2.50  done\n",
      "1573 5000_1.50_-2.00  done\n",
      "1574 5000_1.50_-1.50  done\n",
      "1584 5000_2.00_-2.50  done\n",
      "1585 5000_2.00_-2.00  done\n",
      "1586 5000_2.00_-1.50  done\n"
     ]
    }
   ],
   "source": [
    "for s in [1470]:\n",
    "    test_grid_index_ready_for_training(test_grid_index = s)\n",
    "    # ready: \n",
    "    # 1482\n",
    "    # 1832,1833,1834,\n",
    "    # 1844,1845,1846,\n",
    "    # 1918,1919,1920,\n",
    "    # 1930,1931,1932,\n",
    "    # 2001,2002,2003,\n",
    "    # 2013,2014,2015\n",
    "\n",
    "    # not ready: 1364 - missing 1457 which is running\n",
    "    # not ready: 1470, missing 1457-1559, 1560-1562"
   ]
  },
  {
   "cell_type": "code",
   "execution_count": 173,
   "metadata": {},
   "outputs": [
    {
     "name": "stdout",
     "output_type": "stream",
     "text": [
      "Updating galah_dr4_model_trainingset_gridpoints_trained.fits!\n",
      "Updated\n"
     ]
    }
   ],
   "source": [
    "trained_3x3x3 = [\n",
    "    1482, # Training with 10002 spectra (89%), Testing with 1112 spectra (10%), 9663.655 validation loss = 9652.573,\n",
    "    # could do 1832,1833,1834,\n",
    "    # could do 1844,1845,1846,\n",
    "    # could do 1918,1919,1920,\n",
    "    # could do 1930,\n",
    "    1931,\n",
    "    # could do 1932,\n",
    "    2001, # Training with 12441 spectra (89%), Testing with 1383 spectra (10%), 9266.918 validation loss = 9256.894, 21.200 validation loss = 21.490\n",
    "    2002,\n",
    "    2003, # Training with 11946 spectra (89%), Testing with 1328 spectra (10%), 9006.185 validation loss = 8993.563,\n",
    "    2013, # Training with 9369 spectra (90%), Testing with 1041 spectra (10%), 9359.681 validation loss = 9390.210\n",
    "# CURRENT GRID\n",
    "#     2014, # Training with 9301 spectra (89%), Testing with 1034 spectra (10%), 9220.544 validation loss = 9255.023\n",
    "    # could do 2015,\n",
    "]\n",
    "\n",
    "print('Updating galah_dr4_model_trainingset_gridpoints_trained.fits!')\n",
    "os.system('ipython galah_dr4_model_trainingset_gridpoints_test_training.py');\n",
    "print('Updated')"
   ]
  },
  {
   "cell_type": "code",
   "execution_count": 174,
   "metadata": {
    "scrolled": false
   },
   "outputs": [
    {
     "name": "stdout",
     "output_type": "stream",
     "text": [
      "1354,\n",
      "1457,\n",
      "1460,\n",
      "1506,\n",
      "1507,\n",
      "1508,\n",
      "1610,\n",
      "1611,\n",
      "1684,\n",
      "1708,\n",
      "1709,\n",
      "1719,\n",
      "1720,\n",
      "1721,\n",
      "1790,\n",
      "1791,\n",
      "1792,\n",
      "1802,\n",
      "1803,\n",
      "1804,\n",
      "1814,\n",
      "1815,\n",
      "1816,\n",
      "1876,\n",
      "1877,\n",
      "1878,\n",
      "1888,\n",
      "1889,\n",
      "1890,\n",
      "1900,\n",
      "1901,\n",
      "1902,\n",
      "32\n",
      "import os\n",
      "ps = [1354,1457,1460,1506,1507,1508,1610,1611,1684,1708,1709,1719,1720,1721,1790,1791,1792,1802,1803,1804,1814,1815,1816,1876,1877,1878,1888,1889,1890,1900,1901,1902]\n",
      "for p in ps:\n",
      "    os.system('ipython galah_dr4_grid_interpolation_trainingset_creation.py '+str(p))\n"
     ]
    }
   ],
   "source": [
    "s = []\n",
    "for grid_p in grids_done:\n",
    "    if grid_p not in grids_converted_to_nn_input:\n",
    "        print(str(grid_p)+',')\n",
    "        s.append(grid_p)\n",
    "print(len(s))\n",
    "print('import os')\n",
    "print('ps = ['+','.join([str(x) for x in s])+']')\n",
    "print('for p in ps:')\n",
    "print(\"    os.system('ipython galah_dr4_grid_interpolation_trainingset_creation.py '+str(p))\")"
   ]
  },
  {
   "cell_type": "code",
   "execution_count": 175,
   "metadata": {},
   "outputs": [],
   "source": [
    "# Currently converting\n",
    "# t1: 1708,1709,1719,1720,1721,1790,1791,1792,1802,1803\n",
    "# t2: 1804,1814,1815,1816,1876,1877,1878,1888,1889,1890,1900,1901,1902"
   ]
  },
  {
   "cell_type": "code",
   "execution_count": 176,
   "metadata": {},
   "outputs": [
    {
     "name": "stdout",
     "output_type": "stream",
     "text": [
      "55\n"
     ]
    },
    {
     "data": {
      "text/plain": [
       "array([   0, 1133, 1340, 1341, 1362, 1374, 1447, 1473, 1480, 1485, 1497,\n",
       "       1609, 1638, 1639, 1640, 1650, 1651, 1652, 1672, 1673, 1684, 1685,\n",
       "       1710, 1779, 1801, 1805, 1808, 1809, 1810, 1827, 1830, 1836, 1842,\n",
       "       1848, 1894, 1895, 1896, 1916, 1922, 1928, 1934, 1972, 1977, 1978,\n",
       "       1979, 1999, 2005, 2011, 2017, 2151, 2152, 2153, 2163, 2164, 2165])"
      ]
     },
     "execution_count": 176,
     "metadata": {},
     "output_type": "execute_result"
    }
   ],
   "source": [
    "print(len(np.unique(list(progress_table['next_calculation'][np.where((progress_table['grids_calculated'] >= 6) & (progress_table['trainingset_done'] != 1))[0]]))))\n",
    "np.unique(list(progress_table['next_calculation'][np.where((progress_table['grids_calculated'] >= 6) & (progress_table['trainingset_done'] != 1))[0]]))"
   ]
  },
  {
   "cell_type": "code",
   "execution_count": 177,
   "metadata": {},
   "outputs": [
    {
     "data": {
      "text/html": [
       "<i>Table length=24</i>\n",
       "<table id=\"table140279282027920\" class=\"table-striped table-bordered table-condensed\">\n",
       "<thead><tr><th>index_subgrid</th><th>trainingset_done</th><th>grids_trainingset</th><th>grids_calculated</th><th>next_conversion</th><th>next_calculation</th><th>grid_1</th><th>grid_2</th><th>grid_3</th><th>grid_4</th><th>grid_5</th><th>grid_6</th><th>grid_7</th><th>grid_1_calculated</th><th>grid_2_calculated</th><th>grid_3_calculated</th><th>grid_4_calculated</th><th>grid_5_calculated</th><th>grid_6_calculated</th><th>grid_7_calculated</th><th>grid_1_trainingset</th><th>grid_2_trainingset</th><th>grid_3_trainingset</th><th>grid_4_trainingset</th><th>grid_5_trainingset</th><th>grid_6_trainingset</th><th>grid_7_trainingset</th></tr></thead>\n",
       "<thead><tr><th>int64</th><th>int64</th><th>float64</th><th>float64</th><th>int64</th><th>int64</th><th>str15</th><th>str15</th><th>str15</th><th>str16</th><th>str15</th><th>str15</th><th>str15</th><th>float64</th><th>float64</th><th>float64</th><th>float64</th><th>float64</th><th>float64</th><th>float64</th><th>float64</th><th>float64</th><th>float64</th><th>float64</th><th>float64</th><th>float64</th><th>float64</th></tr></thead>\n",
       "<tr><td>1364</td><td>0</td><td>7.0</td><td>7.0</td><td>0</td><td>0</td><td>4500_1.50_-2.00</td><td>4250_1.50_-2.00</td><td>4750_1.50_-2.00</td><td>4500_1.00_-2.00</td><td>4500_2.00_-2.00</td><td>4500_1.50_-2.50</td><td>4500_1.50_-1.50</td><td>1.0</td><td>1.0</td><td>1.0</td><td>1.0</td><td>1.0</td><td>1.0</td><td>1.0</td><td>1.0</td><td>1.0</td><td>1.0</td><td>1.0</td><td>1.0</td><td>1.0</td><td>1.0</td></tr>\n",
       "<tr><td>1365</td><td>0</td><td>7.0</td><td>7.0</td><td>0</td><td>0</td><td>4500_1.50_-1.50</td><td>4250_1.50_-1.50</td><td>4750_1.50_-1.50</td><td>4500_1.00_-1.50</td><td>4500_2.00_-1.50</td><td>4500_1.50_-2.00</td><td>4500_1.50_-1.00</td><td>1.0</td><td>1.0</td><td>1.0</td><td>1.0</td><td>1.0</td><td>1.0</td><td>1.0</td><td>1.0</td><td>1.0</td><td>1.0</td><td>1.0</td><td>1.0</td><td>1.0</td><td>1.0</td></tr>\n",
       "<tr><td>1376</td><td>0</td><td>7.0</td><td>7.0</td><td>0</td><td>0</td><td>4500_2.00_-2.00</td><td>4250_2.00_-2.00</td><td>4750_2.00_-2.00</td><td>4500_1.50_-2.00</td><td>4500_2.50_-2.00</td><td>4500_2.00_-2.50</td><td>4500_2.00_-1.50</td><td>1.0</td><td>1.0</td><td>1.0</td><td>1.0</td><td>1.0</td><td>1.0</td><td>1.0</td><td>1.0</td><td>1.0</td><td>1.0</td><td>1.0</td><td>1.0</td><td>1.0</td><td>1.0</td></tr>\n",
       "<tr><td>1377</td><td>0</td><td>7.0</td><td>7.0</td><td>0</td><td>0</td><td>4500_2.00_-1.50</td><td>4250_2.00_-1.50</td><td>4750_2.00_-1.50</td><td>4500_1.50_-1.50</td><td>4500_2.50_-1.50</td><td>4500_2.00_-2.00</td><td>4500_2.00_-1.00</td><td>1.0</td><td>1.0</td><td>1.0</td><td>1.0</td><td>1.0</td><td>1.0</td><td>1.0</td><td>1.0</td><td>1.0</td><td>1.0</td><td>1.0</td><td>1.0</td><td>1.0</td><td>1.0</td></tr>\n",
       "<tr><td>1470</td><td>0</td><td>7.0</td><td>7.0</td><td>0</td><td>0</td><td>4750_1.50_-2.00</td><td>4500_1.50_-2.00</td><td>5000_1.50_-2.00</td><td>4750_1.00_-2.00</td><td>4750_2.00_-2.00</td><td>4750_1.50_-2.50</td><td>4750_1.50_-1.50</td><td>1.0</td><td>1.0</td><td>1.0</td><td>1.0</td><td>1.0</td><td>1.0</td><td>1.0</td><td>1.0</td><td>1.0</td><td>1.0</td><td>1.0</td><td>1.0</td><td>1.0</td><td>1.0</td></tr>\n",
       "<tr><td>1471</td><td>0</td><td>7.0</td><td>7.0</td><td>0</td><td>0</td><td>4750_1.50_-1.50</td><td>4500_1.50_-1.50</td><td>5000_1.50_-1.50</td><td>4750_1.00_-1.50</td><td>4750_2.00_-1.50</td><td>4750_1.50_-2.00</td><td>4750_1.50_-1.00</td><td>1.0</td><td>1.0</td><td>1.0</td><td>1.0</td><td>1.0</td><td>1.0</td><td>1.0</td><td>1.0</td><td>1.0</td><td>1.0</td><td>1.0</td><td>1.0</td><td>1.0</td><td>1.0</td></tr>\n",
       "<tr><td>1483</td><td>0</td><td>7.0</td><td>7.0</td><td>0</td><td>0</td><td>4750_2.00_-1.50</td><td>4500_2.00_-1.50</td><td>5000_2.00_-1.50</td><td>4750_1.50_-1.50</td><td>4750_2.50_-1.50</td><td>4750_2.00_-2.00</td><td>4750_2.00_-1.00</td><td>1.0</td><td>1.0</td><td>1.0</td><td>1.0</td><td>1.0</td><td>1.0</td><td>1.0</td><td>1.0</td><td>1.0</td><td>1.0</td><td>1.0</td><td>1.0</td><td>1.0</td><td>1.0</td></tr>\n",
       "<tr><td>1494</td><td>0</td><td>6.0</td><td>7.0</td><td>1506</td><td>0</td><td>4750_2.50_-2.00</td><td>4500_2.50_-2.00</td><td>5000_2.50_-2.00</td><td>4750_2.00_-2.00</td><td>4750_3.00_-2.00</td><td>4750_2.50_-2.50</td><td>4750_2.50_-1.50</td><td>1.0</td><td>1.0</td><td>1.0</td><td>1.0</td><td>1.0</td><td>1.0</td><td>1.0</td><td>1.0</td><td>1.0</td><td>1.0</td><td>1.0</td><td>0.0</td><td>1.0</td><td>1.0</td></tr>\n",
       "<tr><td>1495</td><td>0</td><td>6.0</td><td>7.0</td><td>1507</td><td>0</td><td>4750_2.50_-1.50</td><td>4500_2.50_-1.50</td><td>5000_2.50_-1.50</td><td>4750_2.00_-1.50</td><td>4750_3.00_-1.50</td><td>4750_2.50_-2.00</td><td>4750_2.50_-1.00</td><td>1.0</td><td>1.0</td><td>1.0</td><td>1.0</td><td>1.0</td><td>1.0</td><td>1.0</td><td>1.0</td><td>1.0</td><td>1.0</td><td>1.0</td><td>0.0</td><td>1.0</td><td>1.0</td></tr>\n",
       "<tr><td>1598</td><td>0</td><td>6.0</td><td>7.0</td><td>1610</td><td>0</td><td>5000_2.50_-1.50</td><td>4750_2.50_-1.50</td><td>5250_2.50_-1.50</td><td>5000_2.00_-1.50</td><td>5000_3.00_-1.50</td><td>5000_2.50_-2.00</td><td>5000_2.50_-1.00</td><td>1.0</td><td>1.0</td><td>1.0</td><td>1.0</td><td>1.0</td><td>1.0</td><td>1.0</td><td>1.0</td><td>1.0</td><td>1.0</td><td>1.0</td><td>0.0</td><td>1.0</td><td>1.0</td></tr>\n",
       "<tr><td>...</td><td>...</td><td>...</td><td>...</td><td>...</td><td>...</td><td>...</td><td>...</td><td>...</td><td>...</td><td>...</td><td>...</td><td>...</td><td>...</td><td>...</td><td>...</td><td>...</td><td>...</td><td>...</td><td>...</td><td>...</td><td>...</td><td>...</td><td>...</td><td>...</td><td>...</td><td>...</td></tr>\n",
       "<tr><td>1844</td><td>0</td><td>7.0</td><td>7.0</td><td>0</td><td>0</td><td>5500_4.50_-0.25</td><td>5250_4.50_-0.25</td><td>5750_4.50_-0.25</td><td>5500_4.00_-0.25</td><td>5500_5.00_-0.25</td><td>5500_4.50_-0.50</td><td>5500_4.50_0.00</td><td>1.0</td><td>1.0</td><td>1.0</td><td>1.0</td><td>1.0</td><td>1.0</td><td>1.0</td><td>1.0</td><td>1.0</td><td>1.0</td><td>1.0</td><td>1.0</td><td>1.0</td><td>1.0</td></tr>\n",
       "<tr><td>1845</td><td>0</td><td>7.0</td><td>7.0</td><td>0</td><td>0</td><td>5500_4.50_0.00</td><td>5250_4.50_0.00</td><td>5750_4.50_0.00</td><td>5500_4.00_0.00</td><td>5500_5.00_0.00</td><td>5500_4.50_-0.25</td><td>5500_4.50_0.25</td><td>1.0</td><td>1.0</td><td>1.0</td><td>1.0</td><td>1.0</td><td>1.0</td><td>1.0</td><td>1.0</td><td>1.0</td><td>1.0</td><td>1.0</td><td>1.0</td><td>1.0</td><td>1.0</td></tr>\n",
       "<tr><td>1846</td><td>0</td><td>7.0</td><td>7.0</td><td>0</td><td>0</td><td>5500_4.50_0.25</td><td>5250_4.50_0.25</td><td>5750_4.50_0.25</td><td>5500_4.00_0.25</td><td>5500_5.00_0.25</td><td>5500_4.50_0.00</td><td>5500_4.50_0.50</td><td>1.0</td><td>1.0</td><td>1.0</td><td>1.0</td><td>1.0</td><td>1.0</td><td>1.0</td><td>1.0</td><td>1.0</td><td>1.0</td><td>1.0</td><td>1.0</td><td>1.0</td><td>1.0</td></tr>\n",
       "<tr><td>1918</td><td>0</td><td>7.0</td><td>7.0</td><td>0</td><td>0</td><td>5750_4.00_-0.25</td><td>5500_4.00_-0.25</td><td>6000_4.00_-0.25</td><td>5750_3.50_-0.25</td><td>5750_4.50_-0.25</td><td>5750_4.00_-0.50</td><td>5750_4.00_0.00</td><td>1.0</td><td>1.0</td><td>1.0</td><td>1.0</td><td>1.0</td><td>1.0</td><td>1.0</td><td>1.0</td><td>1.0</td><td>1.0</td><td>1.0</td><td>1.0</td><td>1.0</td><td>1.0</td></tr>\n",
       "<tr><td>1919</td><td>0</td><td>7.0</td><td>7.0</td><td>0</td><td>0</td><td>5750_4.00_0.00</td><td>5500_4.00_0.00</td><td>6000_4.00_0.00</td><td>5750_3.50_0.00</td><td>5750_4.50_0.00</td><td>5750_4.00_-0.25</td><td>5750_4.00_0.25</td><td>1.0</td><td>1.0</td><td>1.0</td><td>1.0</td><td>1.0</td><td>1.0</td><td>1.0</td><td>1.0</td><td>1.0</td><td>1.0</td><td>1.0</td><td>1.0</td><td>1.0</td><td>1.0</td></tr>\n",
       "<tr><td>1920</td><td>0</td><td>7.0</td><td>7.0</td><td>0</td><td>0</td><td>5750_4.00_0.25</td><td>5500_4.00_0.25</td><td>6000_4.00_0.25</td><td>5750_3.50_0.25</td><td>5750_4.50_0.25</td><td>5750_4.00_0.00</td><td>5750_4.00_0.50</td><td>1.0</td><td>1.0</td><td>1.0</td><td>1.0</td><td>1.0</td><td>1.0</td><td>1.0</td><td>1.0</td><td>1.0</td><td>1.0</td><td>1.0</td><td>1.0</td><td>1.0</td><td>1.0</td></tr>\n",
       "<tr><td>1930</td><td>0</td><td>7.0</td><td>7.0</td><td>0</td><td>0</td><td>5750_4.50_-0.25</td><td>5500_4.50_-0.25</td><td>6000_4.50_-0.25</td><td>5750_4.00_-0.25</td><td>5750_5.00_-0.25</td><td>5750_4.50_-0.50</td><td>5750_4.50_0.00</td><td>1.0</td><td>1.0</td><td>1.0</td><td>1.0</td><td>1.0</td><td>1.0</td><td>1.0</td><td>1.0</td><td>1.0</td><td>1.0</td><td>1.0</td><td>1.0</td><td>1.0</td><td>1.0</td></tr>\n",
       "<tr><td>1932</td><td>0</td><td>7.0</td><td>7.0</td><td>0</td><td>0</td><td>5750_4.50_0.25</td><td>5500_4.50_0.25</td><td>6000_4.50_0.25</td><td>5750_4.00_0.25</td><td>5750_5.00_0.25</td><td>5750_4.50_0.00</td><td>5750_4.50_0.50</td><td>1.0</td><td>1.0</td><td>1.0</td><td>1.0</td><td>1.0</td><td>1.0</td><td>1.0</td><td>1.0</td><td>1.0</td><td>1.0</td><td>1.0</td><td>1.0</td><td>1.0</td><td>1.0</td></tr>\n",
       "<tr><td>2014</td><td>0</td><td>7.0</td><td>7.0</td><td>0</td><td>0</td><td>6000_4.50_0.00</td><td>5750_4.50_0.00</td><td>6250_4.50_0.00</td><td>6000_4.00_0.00</td><td>6000_5.00_0.00</td><td>6000_4.50_-0.25</td><td>6000_4.50_0.25</td><td>1.0</td><td>1.0</td><td>1.0</td><td>1.0</td><td>1.0</td><td>1.0</td><td>1.0</td><td>1.0</td><td>1.0</td><td>1.0</td><td>1.0</td><td>1.0</td><td>1.0</td><td>1.0</td></tr>\n",
       "<tr><td>2015</td><td>0</td><td>7.0</td><td>7.0</td><td>0</td><td>0</td><td>6000_4.50_0.25</td><td>5750_4.50_0.25</td><td>6250_4.50_0.25</td><td>6000_4.00_0.25</td><td>6000_5.00_0.25</td><td>6000_4.50_0.00</td><td>6000_4.50_0.50</td><td>1.0</td><td>1.0</td><td>1.0</td><td>1.0</td><td>1.0</td><td>1.0</td><td>1.0</td><td>1.0</td><td>1.0</td><td>1.0</td><td>1.0</td><td>1.0</td><td>1.0</td><td>1.0</td></tr>\n",
       "</table>"
      ],
      "text/plain": [
       "<Table length=24>\n",
       "index_subgrid trainingset_done ... grid_6_trainingset grid_7_trainingset\n",
       "    int64          int64       ...      float64            float64      \n",
       "------------- ---------------- ... ------------------ ------------------\n",
       "         1364                0 ...                1.0                1.0\n",
       "         1365                0 ...                1.0                1.0\n",
       "         1376                0 ...                1.0                1.0\n",
       "         1377                0 ...                1.0                1.0\n",
       "         1470                0 ...                1.0                1.0\n",
       "         1471                0 ...                1.0                1.0\n",
       "         1483                0 ...                1.0                1.0\n",
       "         1494                0 ...                1.0                1.0\n",
       "         1495                0 ...                1.0                1.0\n",
       "         1598                0 ...                1.0                1.0\n",
       "          ...              ... ...                ...                ...\n",
       "         1844                0 ...                1.0                1.0\n",
       "         1845                0 ...                1.0                1.0\n",
       "         1846                0 ...                1.0                1.0\n",
       "         1918                0 ...                1.0                1.0\n",
       "         1919                0 ...                1.0                1.0\n",
       "         1920                0 ...                1.0                1.0\n",
       "         1930                0 ...                1.0                1.0\n",
       "         1932                0 ...                1.0                1.0\n",
       "         2014                0 ...                1.0                1.0\n",
       "         2015                0 ...                1.0                1.0"
      ]
     },
     "execution_count": 177,
     "metadata": {},
     "output_type": "execute_result"
    }
   ],
   "source": [
    "progress_table[np.where((progress_table['grids_calculated'] == 7) & (progress_table['trainingset_done'] != 1))[0]]"
   ]
  },
  {
   "cell_type": "code",
   "execution_count": 178,
   "metadata": {},
   "outputs": [
    {
     "data": {
      "text/html": [
       "<i>Row index=0</i>\n",
       "<table id=\"table140279282027968\">\n",
       "<thead><tr><th>index_subgrid</th><th>counts_dr4_init</th><th>teff_subgrid</th><th>teff_low_subgrid</th><th>teff_high_subgrid</th><th>logg_subgrid</th><th>logg_low_subgrid</th><th>logg_high_subgrid</th><th>fe_h_subgrid</th><th>fe_h_low_subgrid</th><th>fe_h_high_subgrid</th><th>random_seed_subgrid</th><th>model_name</th></tr></thead>\n",
       "<thead><tr><th>int64</th><th>int64</th><th>float32</th><th>float32</th><th>float32</th><th>float32</th><th>float32</th><th>float32</th><th>float32</th><th>float32</th><th>float32</th><th>int64</th><th>str15</th></tr></thead>\n",
       "<tr><td>1499</td><td>30238</td><td>4750.0</td><td>4500.0</td><td>5000.0</td><td>2.5</td><td>2.0</td><td>3.0</td><td>-0.25</td><td>-0.5</td><td>0.0</td><td>4750</td><td>4750_2.50_-0.25</td></tr>\n",
       "</table>"
      ],
      "text/plain": [
       "<Row index=0>\n",
       "index_subgrid counts_dr4_init teff_subgrid teff_low_subgrid teff_high_subgrid logg_subgrid logg_low_subgrid logg_high_subgrid fe_h_subgrid fe_h_low_subgrid fe_h_high_subgrid random_seed_subgrid    model_name  \n",
       "    int64          int64        float32        float32           float32        float32        float32           float32        float32        float32           float32             int64             str15     \n",
       "------------- --------------- ------------ ---------------- ----------------- ------------ ---------------- ----------------- ------------ ---------------- ----------------- ------------------- ---------------\n",
       "         1499           30238       4750.0           4500.0            5000.0          2.5              2.0               3.0        -0.25             -0.5               0.0                4750 4750_2.50_-0.25"
      ]
     },
     "execution_count": 178,
     "metadata": {},
     "output_type": "execute_result"
    }
   ],
   "source": [
    "upcoming_priority = priority[[x not in trained_3x3x3 for x in priority['index_subgrid']]]\n",
    "upcoming_priority[0]"
   ]
  },
  {
   "cell_type": "code",
   "execution_count": 179,
   "metadata": {},
   "outputs": [
    {
     "data": {
      "image/png": "[encoded data removed]",
      "text/plain": [
       "<Figure size 432x288 with 2 Axes>"
      ]
     },
     "metadata": {
      "image/png": {
       "height": 280,
       "width": 416
      },
      "needs_background": "light"
     },
     "output_type": "display_data"
    },
    {
     "name": "stdout",
     "output_type": "stream",
     "text": [
      "[2002, 2001, 1919, 1918, 1931, 1920, 1845, 1930, 1833, 2014, 1844, 2003, 2013, 1932, 1832, 1834, 1846, 2015]\n"
     ]
    },
    {
     "data": {
      "text/html": [
       "<i>Table length=18</i>\n",
       "<table id=\"table140279295282240\" class=\"table-striped table-bordered table-condensed\">\n",
       "<thead><tr><th>index_subgrid</th><th>counts_dr4_init</th><th>teff_subgrid</th><th>teff_low_subgrid</th><th>teff_high_subgrid</th><th>logg_subgrid</th><th>logg_low_subgrid</th><th>logg_high_subgrid</th><th>fe_h_subgrid</th><th>fe_h_low_subgrid</th><th>fe_h_high_subgrid</th><th>random_seed_subgrid</th><th>model_name</th></tr></thead>\n",
       "<thead><tr><th>int64</th><th>int64</th><th>float32</th><th>float32</th><th>float32</th><th>float32</th><th>float32</th><th>float32</th><th>float32</th><th>float32</th><th>float32</th><th>int64</th><th>str15</th></tr></thead>\n",
       "<tr><td>2002</td><td>35637</td><td>6000.0</td><td>5750.0</td><td>6250.0</td><td>4.0</td><td>3.5</td><td>4.5</td><td>0.0</td><td>-0.25</td><td>0.25</td><td>6040</td><td>6000_4.00_0.00</td></tr>\n",
       "<tr><td>2001</td><td>29806</td><td>6000.0</td><td>5750.0</td><td>6250.0</td><td>4.0</td><td>3.5</td><td>4.5</td><td>-0.25</td><td>-0.5</td><td>0.0</td><td>6015</td><td>6000_4.00_-0.25</td></tr>\n",
       "<tr><td>1919</td><td>28433</td><td>5750.0</td><td>5500.0</td><td>6000.0</td><td>4.0</td><td>3.5</td><td>4.5</td><td>0.0</td><td>-0.25</td><td>0.25</td><td>5790</td><td>5750_4.00_0.00</td></tr>\n",
       "<tr><td>1918</td><td>20179</td><td>5750.0</td><td>5500.0</td><td>6000.0</td><td>4.0</td><td>3.5</td><td>4.5</td><td>-0.25</td><td>-0.5</td><td>0.0</td><td>5765</td><td>5750_4.00_-0.25</td></tr>\n",
       "<tr><td>1931</td><td>17142</td><td>5750.0</td><td>5500.0</td><td>6000.0</td><td>4.5</td><td>4.0</td><td>5.0</td><td>0.0</td><td>-0.25</td><td>0.25</td><td>5795</td><td>5750_4.50_0.00</td></tr>\n",
       "<tr><td>1920</td><td>16039</td><td>5750.0</td><td>5500.0</td><td>6000.0</td><td>4.0</td><td>3.5</td><td>4.5</td><td>0.25</td><td>0.0</td><td>0.5</td><td>5815</td><td>5750_4.00_0.25</td></tr>\n",
       "<tr><td>1845</td><td>15012</td><td>5500.0</td><td>5250.0</td><td>5750.0</td><td>4.5</td><td>4.0</td><td>5.0</td><td>0.0</td><td>-0.25</td><td>0.25</td><td>5545</td><td>5500_4.50_0.00</td></tr>\n",
       "<tr><td>1930</td><td>13000</td><td>5750.0</td><td>5500.0</td><td>6000.0</td><td>4.5</td><td>4.0</td><td>5.0</td><td>-0.25</td><td>-0.5</td><td>0.0</td><td>5770</td><td>5750_4.50_-0.25</td></tr>\n",
       "<tr><td>1833</td><td>11056</td><td>5500.0</td><td>5250.0</td><td>5750.0</td><td>4.0</td><td>3.5</td><td>4.5</td><td>0.0</td><td>-0.25</td><td>0.25</td><td>5540</td><td>5500_4.00_0.00</td></tr>\n",
       "<tr><td>2014</td><td>10642</td><td>6000.0</td><td>5750.0</td><td>6250.0</td><td>4.5</td><td>4.0</td><td>5.0</td><td>0.0</td><td>-0.25</td><td>0.25</td><td>6045</td><td>6000_4.50_0.00</td></tr>\n",
       "<tr><td>1844</td><td>10527</td><td>5500.0</td><td>5250.0</td><td>5750.0</td><td>4.5</td><td>4.0</td><td>5.0</td><td>-0.25</td><td>-0.5</td><td>0.0</td><td>5520</td><td>5500_4.50_-0.25</td></tr>\n",
       "<tr><td>2003</td><td>9877</td><td>6000.0</td><td>5750.0</td><td>6250.0</td><td>4.0</td><td>3.5</td><td>4.5</td><td>0.25</td><td>0.0</td><td>0.5</td><td>6065</td><td>6000_4.00_0.25</td></tr>\n",
       "<tr><td>2013</td><td>8508</td><td>6000.0</td><td>5750.0</td><td>6250.0</td><td>4.5</td><td>4.0</td><td>5.0</td><td>-0.25</td><td>-0.5</td><td>0.0</td><td>6020</td><td>6000_4.50_-0.25</td></tr>\n",
       "<tr><td>1932</td><td>8439</td><td>5750.0</td><td>5500.0</td><td>6000.0</td><td>4.5</td><td>4.0</td><td>5.0</td><td>0.25</td><td>0.0</td><td>0.5</td><td>5820</td><td>5750_4.50_0.25</td></tr>\n",
       "<tr><td>1832</td><td>8138</td><td>5500.0</td><td>5250.0</td><td>5750.0</td><td>4.0</td><td>3.5</td><td>4.5</td><td>-0.25</td><td>-0.5</td><td>0.0</td><td>5515</td><td>5500_4.00_-0.25</td></tr>\n",
       "<tr><td>1834</td><td>7507</td><td>5500.0</td><td>5250.0</td><td>5750.0</td><td>4.0</td><td>3.5</td><td>4.5</td><td>0.25</td><td>0.0</td><td>0.5</td><td>5565</td><td>5500_4.00_0.25</td></tr>\n",
       "<tr><td>1846</td><td>7479</td><td>5500.0</td><td>5250.0</td><td>5750.0</td><td>4.5</td><td>4.0</td><td>5.0</td><td>0.25</td><td>0.0</td><td>0.5</td><td>5570</td><td>5500_4.50_0.25</td></tr>\n",
       "<tr><td>2015</td><td>3738</td><td>6000.0</td><td>5750.0</td><td>6250.0</td><td>4.5</td><td>4.0</td><td>5.0</td><td>0.25</td><td>0.0</td><td>0.5</td><td>6070</td><td>6000_4.50_0.25</td></tr>\n",
       "</table>"
      ],
      "text/plain": [
       "<Table length=18>\n",
       "index_subgrid counts_dr4_init ... random_seed_subgrid    model_name  \n",
       "    int64          int64      ...        int64             str15     \n",
       "------------- --------------- ... ------------------- ---------------\n",
       "         2002           35637 ...                6040  6000_4.00_0.00\n",
       "         2001           29806 ...                6015 6000_4.00_-0.25\n",
       "         1919           28433 ...                5790  5750_4.00_0.00\n",
       "         1918           20179 ...                5765 5750_4.00_-0.25\n",
       "         1931           17142 ...                5795  5750_4.50_0.00\n",
       "         1920           16039 ...                5815  5750_4.00_0.25\n",
       "         1845           15012 ...                5545  5500_4.50_0.00\n",
       "         1930           13000 ...                5770 5750_4.50_-0.25\n",
       "         1833           11056 ...                5540  5500_4.00_0.00\n",
       "         2014           10642 ...                6045  6000_4.50_0.00\n",
       "         1844           10527 ...                5520 5500_4.50_-0.25\n",
       "         2003            9877 ...                6065  6000_4.00_0.25\n",
       "         2013            8508 ...                6020 6000_4.50_-0.25\n",
       "         1932            8439 ...                5820  5750_4.50_0.25\n",
       "         1832            8138 ...                5515 5500_4.00_-0.25\n",
       "         1834            7507 ...                5565  5500_4.00_0.25\n",
       "         1846            7479 ...                5570  5500_4.50_0.25\n",
       "         2015            3738 ...                6070  6000_4.50_0.25"
      ]
     },
     "execution_count": 179,
     "metadata": {},
     "output_type": "execute_result"
    }
   ],
   "source": [
    "# selection = (priority['counts_dr4_init'] > 10000)# & (priority['fe_h_subgrid'] < -0.5)\n",
    "selection = (\n",
    "    (priority['teff_subgrid'] >= 5500) &\n",
    "    (priority['teff_subgrid'] <= 6000) &\n",
    "    (priority['logg_subgrid'] >= 4.0) &\n",
    "    (priority['logg_subgrid'] <= 5.0) &\n",
    "    (priority['fe_h_subgrid'] >= -0.25) &\n",
    "    (priority['fe_h_subgrid'] <= 0.25)\n",
    ")\n",
    "\n",
    "f, ax = plt.subplots()\n",
    "s = ax.scatter(\n",
    "    priority['teff_subgrid'][selection] + np.abs(100*priority['fe_h_subgrid'][selection]),\n",
    "    priority['logg_subgrid'][selection] + 0.1*priority['fe_h_subgrid'][selection],\n",
    "    c = priority['counts_dr4_init'][selection],\n",
    "    s = 10,\n",
    "    norm=LogNorm()\n",
    ")\n",
    "ax.set_xlim(8200,2800)\n",
    "ax.set_ylim(5.5,-0.5)\n",
    "plt.colorbar(s, ax=ax)\n",
    "plt.tight_layout()\n",
    "plt.show()\n",
    "plt.close()\n",
    "print(list(priority['index_subgrid'][selection]))\n",
    "priority[selection]"
   ]
  },
  {
   "cell_type": "code",
   "execution_count": null,
   "metadata": {},
   "outputs": [],
   "source": []
  }
 ],
 "metadata": {
  "kernelspec": {
   "display_name": "Python 3",
   "language": "python",
   "name": "python3"
  },
  "language_info": {
   "codemirror_mode": {
    "name": "ipython",
    "version": 3
   },
   "file_extension": ".py",
   "mimetype": "text/x-python",
   "name": "python",
   "nbconvert_exporter": "python",
   "pygments_lexer": "ipython3",
   "version": "3.8.2"
  }
 },
 "nbformat": 4,
 "nbformat_minor": 2
}
