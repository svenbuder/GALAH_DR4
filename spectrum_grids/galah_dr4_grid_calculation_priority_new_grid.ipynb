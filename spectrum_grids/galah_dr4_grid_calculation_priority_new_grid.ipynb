{
 "cells": [
  {
   "cell_type": "code",
   "execution_count": 2,
   "metadata": {},
   "outputs": [],
   "source": [
    "try:\n",
    "    %matplotlib inline\n",
    "    %config InlineBackend.figure_format='retina'\n",
    "except:\n",
    "    pass\n",
    "\n",
    "import numpy as np\n",
    "from astropy.table import Table, join\n",
    "import matplotlib.pyplot as plt\n",
    "from matplotlib.colors import LogNorm\n",
    "from scipy.spatial import cKDTree\n",
    "import os"
   ]
  },
  {
   "cell_type": "code",
   "execution_count": 3,
   "metadata": {},
   "outputs": [],
   "source": [
    "initial_values = Table.read('../spectrum_analysis/galah_dr4_initial_parameters_220714_lite.fits')"
   ]
  },
  {
   "cell_type": "code",
   "execution_count": 4,
   "metadata": {},
   "outputs": [],
   "source": [
    "grids = Table.read('galah_dr4_model_trainingset_gridpoints.fits')"
   ]
  },
  {
   "cell_type": "code",
   "execution_count": 5,
   "metadata": {
    "scrolled": false
   },
   "outputs": [],
   "source": [
    "grids['model_name'] = np.array([str(int(grid['teff_subgrid']))+'_'+str(\"{:.2f}\".format(grid['logg_subgrid']))+'_'+str(\"{:.2f}\".format(grid['fe_h_subgrid'])) for grid in grids])"
   ]
  },
  {
   "cell_type": "code",
   "execution_count": 6,
   "metadata": {},
   "outputs": [],
   "source": [
    "grid_index_tree = cKDTree(np.c_[grids['teff_subgrid']/1000.,grids['logg_subgrid'],grids['fe_h_subgrid']])"
   ]
  },
  {
   "cell_type": "code",
   "execution_count": 7,
   "metadata": {},
   "outputs": [],
   "source": [
    "initial_values['grid_index'] = np.array([grid_index_tree.query([tgf[0]/1000.,tgf[1],tgf[2]]) for tgf in np.array([initial_values['teff'],initial_values['logg'],initial_values['fe_h']]).T])[:,1]"
   ]
  },
  {
   "cell_type": "code",
   "execution_count": 8,
   "metadata": {},
   "outputs": [],
   "source": [
    "indices = initial_values['grid_index']\n",
    "priority = Table()\n",
    "d,c = np.unique(indices, return_counts=True)\n",
    "priority['index_subgrid'] = np.array(d,dtype=int)\n",
    "priority['counts_dr4_init'] = np.array(c,dtype=int)\n",
    "priority = join(priority, grids, keys='index_subgrid')\n",
    "priority.sort(keys='counts_dr4_init',reverse=True)"
   ]
  },
  {
   "cell_type": "code",
   "execution_count": 9,
   "metadata": {},
   "outputs": [],
   "source": [
    "def test_grid_index_computations(test_grid_index = 1931, print_all_points=False,):\n",
    "    if print_all_points:\n",
    "        print('Printing grid points not yet computed for '+str(grids['model_name'][test_grid_index])+':')\n",
    "\n",
    "    # Find upper and lower Teff points\n",
    "    test_grid_teff = int(grids['teff_subgrid'][test_grid_index])\n",
    "    if test_grid_teff <= 4000:\n",
    "        test_grid_teff_lower = test_grid_teff - 100\n",
    "    else:\n",
    "        test_grid_teff_lower = test_grid_teff - 250\n",
    "    if test_grid_teff <= 3900:\n",
    "        test_grid_teff_higher = test_grid_teff + 100\n",
    "    else:\n",
    "        test_grid_teff_higher = test_grid_teff + 250\n",
    "\n",
    "    # Find upper and lower logg points\n",
    "    test_grid_logg = grids['logg_subgrid'][test_grid_index]\n",
    "    test_grid_logg_lower = test_grid_logg - 0.5\n",
    "    test_grid_logg_higher = test_grid_logg + 0.5\n",
    "\n",
    "    # Find upper and lower fe_h points\n",
    "    test_grid_fe_h = grids['fe_h_subgrid'][test_grid_index]\n",
    "    if test_grid_fe_h <= -0.75:\n",
    "        test_grid_fe_h_lower = test_grid_fe_h - 0.5\n",
    "    else:\n",
    "        test_grid_fe_h_lower = test_grid_fe_h - 0.25\n",
    "    if test_grid_fe_h <= -1.5:\n",
    "        test_grid_fe_h_higher = test_grid_fe_h + 0.5\n",
    "    else:\n",
    "        test_grid_fe_h_higher = test_grid_fe_h + 0.25\n",
    "\n",
    "    for teff in [test_grid_teff_lower,test_grid_teff,test_grid_teff_higher]:\n",
    "        for logg in [test_grid_logg_lower,test_grid_logg,test_grid_logg_higher]:\n",
    "            for fe_h in [test_grid_fe_h_lower,test_grid_fe_h,test_grid_fe_h_higher]:\n",
    "                t = grids['index_subgrid'][grids['model_name'] == str(int(teff))+'_'+\"{:.2f}\".format(logg)+'_'+\"{:.2f}\".format(fe_h)]\n",
    "                if len(t) > 0:\n",
    "                    if t[0] not in grids_done:\n",
    "                        if t[0] not in grids_started:\n",
    "                            if print_all_points:\n",
    "                                print(t[0],str(int(teff))+'_'+\"{:.2f}\".format(logg)+'_'+\"{:.2f}\".format(fe_h))\n",
    "                            else:\n",
    "                                print(str(t[0])+',')\n",
    "                        else:\n",
    "                            if print_all_points:\n",
    "                                print(t[0],str(int(teff))+'_'+\"{:.2f}\".format(logg)+'_'+\"{:.2f}\".format(fe_h), 'already started')\n",
    "                    else:\n",
    "                        if print_all_points:\n",
    "                            print(t[0],str(int(teff))+'_'+\"{:.2f}\".format(logg)+'_'+\"{:.2f}\".format(fe_h), 'already done')\n",
    "                else:\n",
    "                    if print_all_points:\n",
    "                        print('Not in GRID :', str(int(teff))+'_'+\"{:.2f}\".format(logg)+'_'+\"{:.2f}\".format(fe_h))\n",
    "                    "
   ]
  },
  {
   "cell_type": "code",
   "execution_count": 10,
   "metadata": {},
   "outputs": [],
   "source": [
    "def test_grid_index_ready_for_training(test_grid_index = 1931, print_all_points=False,):\n",
    "    if print_all_points:\n",
    "        print('Printing grid points not yet computed for '+str(grids['model_name'][test_grid_index])+':')\n",
    "\n",
    "    # Find upper and lower Teff points\n",
    "    test_grid_teff = int(grids['teff_subgrid'][test_grid_index])\n",
    "    if test_grid_teff <= 4000:\n",
    "        test_grid_teff_lower = test_grid_teff - 100\n",
    "    else:\n",
    "        test_grid_teff_lower = test_grid_teff - 250\n",
    "    if test_grid_teff <= 3900:\n",
    "        test_grid_teff_higher = test_grid_teff + 100\n",
    "    else:\n",
    "        test_grid_teff_higher = test_grid_teff + 250\n",
    "\n",
    "    # Find upper and lower logg points\n",
    "    test_grid_logg = grids['logg_subgrid'][test_grid_index]\n",
    "    test_grid_logg_lower = test_grid_logg - 0.5\n",
    "    test_grid_logg_higher = test_grid_logg + 0.5\n",
    "\n",
    "    # Find upper and lower fe_h points\n",
    "    test_grid_fe_h = grids['fe_h_subgrid'][test_grid_index]\n",
    "    if test_grid_fe_h <= -0.75:\n",
    "        test_grid_fe_h_lower = test_grid_fe_h - 0.5\n",
    "    else:\n",
    "        test_grid_fe_h_lower = test_grid_fe_h - 0.25\n",
    "    if test_grid_fe_h <= -1.5:\n",
    "        test_grid_fe_h_higher = test_grid_fe_h + 0.5\n",
    "    else:\n",
    "        test_grid_fe_h_higher = test_grid_fe_h + 0.25\n",
    "\n",
    "    for teff in [test_grid_teff_lower,test_grid_teff,test_grid_teff_higher]:\n",
    "        for logg in [test_grid_logg_lower,test_grid_logg,test_grid_logg_higher]:\n",
    "            for fe_h in [test_grid_fe_h_lower,test_grid_fe_h,test_grid_fe_h_higher]:\n",
    "                t = grids['index_subgrid'][grids['model_name'] == str(int(teff))+'_'+\"{:.2f}\".format(logg)+'_'+\"{:.2f}\".format(fe_h)]\n",
    "                if len(t) > 0:\n",
    "                    if t[0] not in grids_converted_to_nn_input:\n",
    "                        print(t[0],str(int(teff))+'_'+\"{:.2f}\".format(logg)+'_'+\"{:.2f}\".format(fe_h),' not ready')\n",
    "                    else:\n",
    "                        print(t[0],str(int(teff))+'_'+\"{:.2f}\".format(logg)+'_'+\"{:.2f}\".format(fe_h),' done')\n",
    "                else:\n",
    "                    if print_all_points:\n",
    "                        print('Not in GRID :', str(int(teff))+'_'+\"{:.2f}\".format(logg)+'_'+\"{:.2f}\".format(fe_h))\n",
    "                    "
   ]
  },
  {
   "cell_type": "code",
   "execution_count": 30,
   "metadata": {},
   "outputs": [],
   "source": [
    "grids_started = [\n",
    "478, # for analysis of 131216001101084\n",
    "1110,\n",
    "1111,\n",
    "1121,\n",
    "1122,\n",
    "1123,\n",
    "1133,\n",
    "1134,\n",
    "1135,\n",
    "1232,\n",
    "1233,\n",
    "# 1246,\n",
    "# 1258,\n",
    "# 1270,\n",
    "1340,\n",
    "1341,\n",
    "1342,\n",
    "# 1355,\n",
    "# 1367,\n",
    "# 1379,\n",
    "1446,\n",
    "1447,\n",
    "1448,\n",
    "# 1461,\n",
    "# 1473,\n",
    "# 1485,\n",
    "1552,\n",
    "1609,\n",
    "1685,\n",
    "]"
   ]
  },
  {
   "cell_type": "code",
   "execution_count": 31,
   "metadata": {},
   "outputs": [
    {
     "name": "stdout",
     "output_type": "stream",
     "text": [
      "176 49280\n"
     ]
    }
   ],
   "source": [
    "grids_done = [\n",
    "    1109,\n",
    "    1231,\n",
    "    1242,1243,1244,1245,\n",
    "    1254,1255,1256,1257,\n",
    "    1266,1267,1268,1269,\n",
    "    1351,1352,1353,1354,\n",
    "    1363,1364,1365,1366,\n",
    "    1375,1376,1377,1378,\n",
    "    1387,1388,1389,1390,\n",
    "    1457,1458,1459,\n",
    "    1460,\n",
    "    1469,\n",
    "    1470,1471,1472,\n",
    "    1481,1482,1483,1484,\n",
    "    1493,1494,1495,1496,\n",
    "    1506,1507,1508,\n",
    "    1560,1561,1562,1563,\n",
    "    1572,1573,1574,1575,\n",
    "    1584,1585,1586,1587,\n",
    "    1596,1597,1598,1599,\n",
    "    1610,1611,\n",
    "    1672,1673,1674,\n",
    "    1684,\n",
    "    1686,\n",
    "    1695,1696,1697,1698,\n",
    "    1707,1708,1709,1710,\n",
    "    1719,1720,1721,\n",
    "    1724,1725,1726,1727,1728,\n",
    "    1736,1737,1738,1739,1740,   \n",
    "    1748,1749,\n",
    "    1750,1751,1752,\n",
    "    1790,1791,1792,\n",
    "    1802,1803,1804,\n",
    "    1814,1815,1816,\n",
    "    1819,\n",
    "    1820,1821,1822,1823,\n",
    "    1831,1832,1833,1834,1835,\n",
    "    1843,1844,1845,1846,1847,\n",
    "    1876,1877,1878,\n",
    "    1888,1889,\n",
    "    1890,\n",
    "    1900,1901,1902,\n",
    "    1905,1906,1907,1908,1909,\n",
    "    1917,1918,1919,\n",
    "    1920,1921,\n",
    "    1929,\n",
    "    1930,1931,1932,1933,\n",
    "    1988,1989,\n",
    "    1990,1991,1992,\n",
    "    2000,2001,2002,2003,2004,\n",
    "    2012,2013,2014,2015,2016,\n",
    "    2065,2066,2067,2068,2069,\n",
    "    2077,2078,2079,\n",
    "    2080,2081,\n",
    "    2089,\n",
    "    2090,2091,2092,2093,\n",
    "]\n",
    "print(len(grids_done),len(grids_done) * 280)"
   ]
  },
  {
   "cell_type": "code",
   "execution_count": 32,
   "metadata": {},
   "outputs": [
    {
     "data": {
      "image/png": "[encoded data removed]",
      "text/plain": [
       "<Figure size 432x288 with 2 Axes>"
      ]
     },
     "metadata": {
      "image/png": {
       "height": 248,
       "width": 358
      },
      "needs_background": "light"
     },
     "output_type": "display_data"
    },
    {
     "name": "stdout",
     "output_type": "stream",
     "text": [
      "[1483, 1365, 1598, 1471, 1586, 1244, 1353, 1997, 1709]\n"
     ]
    },
    {
     "data": {
      "text/html": [
       "<i>Table length=9</i>\n",
       "<table id=\"table139656820627968\" class=\"table-striped table-bordered table-condensed\">\n",
       "<thead><tr><th>index_subgrid</th><th>counts_dr4_init</th><th>teff_subgrid</th><th>teff_low_subgrid</th><th>teff_high_subgrid</th><th>logg_subgrid</th><th>logg_low_subgrid</th><th>logg_high_subgrid</th><th>fe_h_subgrid</th><th>fe_h_low_subgrid</th><th>fe_h_high_subgrid</th><th>random_seed_subgrid</th><th>model_name</th></tr></thead>\n",
       "<thead><tr><th>int64</th><th>int64</th><th>float32</th><th>float32</th><th>float32</th><th>float32</th><th>float32</th><th>float32</th><th>float32</th><th>float32</th><th>float32</th><th>int64</th><th>str15</th></tr></thead>\n",
       "<tr><td>1483</td><td>622</td><td>4750.0</td><td>4500.0</td><td>5000.0</td><td>2.0</td><td>1.5</td><td>2.5</td><td>-1.5</td><td>-2.0</td><td>-1.0</td><td>4620</td><td>4750_2.00_-1.50</td></tr>\n",
       "<tr><td>1365</td><td>541</td><td>4500.0</td><td>4250.0</td><td>4750.0</td><td>1.5</td><td>1.0</td><td>2.0</td><td>-1.5</td><td>-2.0</td><td>-1.0</td><td>4365</td><td>4500_1.50_-1.50</td></tr>\n",
       "<tr><td>1598</td><td>406</td><td>5000.0</td><td>4750.0</td><td>5250.0</td><td>2.5</td><td>2.0</td><td>3.0</td><td>-1.5</td><td>-2.0</td><td>-1.0</td><td>4875</td><td>5000_2.50_-1.50</td></tr>\n",
       "<tr><td>1471</td><td>360</td><td>4750.0</td><td>4500.0</td><td>5000.0</td><td>1.5</td><td>1.0</td><td>2.0</td><td>-1.5</td><td>-2.0</td><td>-1.0</td><td>4615</td><td>4750_1.50_-1.50</td></tr>\n",
       "<tr><td>1586</td><td>321</td><td>5000.0</td><td>4750.0</td><td>5250.0</td><td>2.0</td><td>1.5</td><td>2.5</td><td>-1.5</td><td>-2.0</td><td>-1.0</td><td>4870</td><td>5000_2.00_-1.50</td></tr>\n",
       "<tr><td>1244</td><td>290</td><td>4250.0</td><td>4000.0</td><td>4500.0</td><td>1.0</td><td>0.5</td><td>1.5</td><td>-1.5</td><td>-2.0</td><td>-1.0</td><td>4110</td><td>4250_1.00_-1.50</td></tr>\n",
       "<tr><td>1353</td><td>260</td><td>4500.0</td><td>4250.0</td><td>4750.0</td><td>1.0</td><td>0.5</td><td>1.5</td><td>-1.5</td><td>-2.0</td><td>-1.0</td><td>4360</td><td>4500_1.00_-1.50</td></tr>\n",
       "<tr><td>1997</td><td>243</td><td>6000.0</td><td>5750.0</td><td>6250.0</td><td>4.0</td><td>3.5</td><td>4.5</td><td>-1.5</td><td>-2.0</td><td>-1.0</td><td>5890</td><td>6000_4.00_-1.50</td></tr>\n",
       "<tr><td>1709</td><td>210</td><td>5250.0</td><td>5000.0</td><td>5500.0</td><td>3.0</td><td>2.5</td><td>3.5</td><td>-1.5</td><td>-2.0</td><td>-1.0</td><td>5130</td><td>5250_3.00_-1.50</td></tr>\n",
       "</table>"
      ],
      "text/plain": [
       "<Table length=9>\n",
       "index_subgrid counts_dr4_init ... random_seed_subgrid    model_name  \n",
       "    int64          int64      ...        int64             str15     \n",
       "------------- --------------- ... ------------------- ---------------\n",
       "         1483             622 ...                4620 4750_2.00_-1.50\n",
       "         1365             541 ...                4365 4500_1.50_-1.50\n",
       "         1598             406 ...                4875 5000_2.50_-1.50\n",
       "         1471             360 ...                4615 4750_1.50_-1.50\n",
       "         1586             321 ...                4870 5000_2.00_-1.50\n",
       "         1244             290 ...                4110 4250_1.00_-1.50\n",
       "         1353             260 ...                4360 4500_1.00_-1.50\n",
       "         1997             243 ...                5890 6000_4.00_-1.50\n",
       "         1709             210 ...                5130 5250_3.00_-1.50"
      ]
     },
     "execution_count": 32,
     "metadata": {},
     "output_type": "execute_result"
    }
   ],
   "source": [
    "selection = (priority['fe_h_subgrid'] <= -2) & (priority['counts_dr4_init'] > 200)\n",
    "selection = (priority['fe_h_subgrid'] > -2) & (priority['fe_h_subgrid'] <= -1.5) & (priority['counts_dr4_init'] > 200) & (priority['teff_subgrid'] <= 6000)\n",
    "# selection = (priority['fe_h_subgrid'] <= -0.75) & (priority['counts_dr4_init'] > 2800)\n",
    "\n",
    "\n",
    "f, ax = plt.subplots()\n",
    "s = ax.scatter(\n",
    "    priority['teff_subgrid'][selection],\n",
    "    priority['logg_subgrid'][selection],\n",
    "    c = priority['counts_dr4_init'][selection],\n",
    ")\n",
    "plt.colorbar(s, ax=ax)\n",
    "ax.set_xlim(ax.get_xlim()[::-1])\n",
    "ax.set_ylim(ax.get_ylim()[::-1])\n",
    "plt.show()\n",
    "plt.close()\n",
    "\n",
    "print(list(priority['index_subgrid'][selection]))\n",
    "\n",
    "priority[selection]"
   ]
  },
  {
   "cell_type": "code",
   "execution_count": 33,
   "metadata": {
    "scrolled": false
   },
   "outputs": [
    {
     "name": "stdout",
     "output_type": "stream",
     "text": [
      "1246,\n",
      "1258,\n",
      "1270,\n",
      "1355,\n",
      "1367,\n",
      "1379,\n",
      "1461,\n",
      "1473,\n",
      "1485,\n"
     ]
    }
   ],
   "source": [
    "# ALREADY DONE\n",
    "selection = [\n",
    "    1244,\n",
    "    1341,\n",
    "    1353,\n",
    "    1364,1365,1366,\n",
    "    1458,\n",
    "    1470,1471,\n",
    "    1482,1483,\n",
    "    1586,\n",
    "    1598,\n",
    "#     1709, # <= new\n",
    "    1803,\n",
    "    1832,1833,1834,\n",
    "    1844,1845,1846,\n",
    "    1918,1919,1920,\n",
    "    1930,1931,1932,\n",
    "#     1997, # <= new\n",
    "    2001,2002,2003,\n",
    "    2013,2014,2015,\n",
    "]\n",
    "# selection = []\n",
    "\n",
    "for t in selection:\n",
    "    test_grid_index_computations(t)"
   ]
  },
  {
   "cell_type": "code",
   "execution_count": 58,
   "metadata": {},
   "outputs": [
    {
     "name": "stdout",
     "output_type": "stream",
     "text": [
      "174\n"
     ]
    }
   ],
   "source": [
    "grids_converted_to_nn_input = [\n",
    "    1109,\n",
    "    1231,\n",
    "    1242,1243,1244,1245,\n",
    "    1254,1255,1256,1257,\n",
    "    1266,1267,1268,1269,\n",
    "    1351,1352,1353,1354,\n",
    "    1363,1364,1365,1366,\n",
    "    1375,1376,1377,1378,\n",
    "    1387,1388,1389,\n",
    "    1390,\n",
    "    1457,1458,1459,\n",
    "    1460,\n",
    "    1469,\n",
    "    1470,1471,1472,\n",
    "    1481,1482,1483,1484,\n",
    "    1493,1494,1495,1496,\n",
    "    1506,1507,1508,\n",
    "    1560,1561,1562,1563,\n",
    "    1572,1573,1574,1575,\n",
    "    1584,1585,1586,1587,\n",
    "    1596,1597,1598,1599,\n",
    "    1610,1611,\n",
    "    1695,1696,1697,\n",
    "    1672,\n",
    "    1684,\n",
    "    1686,\n",
    "    1698,\n",
    "    1707,1708,1709,\n",
    "    1710,\n",
    "    1719,1720,1721,\n",
    "    1724,1725,1726,1727,1728,\n",
    "    1736,1737,1738,1739,1740,\n",
    "    1748,1749,\n",
    "    1750,1751,1752,\n",
    "    1790,1791,1792,\n",
    "    1802,1803,1804,\n",
    "    1814,1815,1816,\n",
    "    1819,1820,1821,1822,1823,\n",
    "    1831,1832,1833,1834,1835,\n",
    "    1843,1844,1845,1846,1847,\n",
    "    1876,1877,1878,\n",
    "    1888,1889,\n",
    "    1890,\n",
    "    1900,1901,1902,\n",
    "    1905,1906,1907,1908,1909,\n",
    "    1917,1918,1919,\n",
    "    1920,1921,\n",
    "    1929,1930,1931,1932,1933,\n",
    "    1988,1989,1990,1991,1992,\n",
    "    2000,2001,2002,2003,2004,\n",
    "    2012,2013,2014,2015,2016,\n",
    "    2065,2066,2067,2068,2069,\n",
    "    2077,2078,2079,\n",
    "    2080,2081,\n",
    "    2089,\n",
    "    2090,2091,2092,2093,\n",
    "]\n",
    "print(len(grids_converted_to_nn_input))"
   ]
  },
  {
   "cell_type": "code",
   "execution_count": 82,
   "metadata": {
    "scrolled": false
   },
   "outputs": [
    {
     "name": "stdout",
     "output_type": "stream",
     "text": [
      "1470 4750_1.50_-2.00  done\n",
      "1471 4750_1.50_-1.50  done\n",
      "1472 4750_1.50_-1.00  done\n",
      "1482 4750_2.00_-2.00  done\n",
      "1483 4750_2.00_-1.50  done\n",
      "1484 4750_2.00_-1.00  done\n",
      "1494 4750_2.50_-2.00  done\n",
      "1495 4750_2.50_-1.50  done\n",
      "1496 4750_2.50_-1.00  done\n",
      "1573 5000_1.50_-2.00  done\n",
      "1574 5000_1.50_-1.50  done\n",
      "1575 5000_1.50_-1.00  done\n",
      "1585 5000_2.00_-2.00  done\n",
      "1586 5000_2.00_-1.50  done\n",
      "1587 5000_2.00_-1.00  done\n",
      "1597 5000_2.50_-2.00  done\n",
      "1598 5000_2.50_-1.50  done\n",
      "1599 5000_2.50_-1.00  done\n",
      "1672 5250_1.50_-2.00  done\n",
      "1673 5250_1.50_-1.50  not ready\n",
      "1674 5250_1.50_-1.00  not ready\n",
      "1684 5250_2.00_-2.00  done\n",
      "1685 5250_2.00_-1.50  not ready\n",
      "1686 5250_2.00_-1.00  done\n",
      "1696 5250_2.50_-2.00  done\n",
      "1697 5250_2.50_-1.50  done\n",
      "1698 5250_2.50_-1.00  done\n"
     ]
    }
   ],
   "source": [
    "for s in [1586]: # 1341,1353,1366,1458,1586\n",
    "    test_grid_index_ready_for_training(test_grid_index = s)\n",
    "    # ready:\n",
    "    # 1364,1365,\n",
    "    # 1470,1471,\n",
    "    # 1482,1483,\n",
    "    # 1832,1833,1834,\n",
    "    # 1844,1845,1846,\n",
    "    # 1918,1919,1920,\n",
    "    # 1930,1931,1932,\n",
    "    # 2001,2002,2003,\n",
    "    # 2013,2014,2015\n",
    "    \n",
    "    # not yet ready: 1458 because of 1340,1341,1446,1447,1552\n",
    "    # not yet ready: 1586 because of 1672,1673,1674,1684,1685,1686,1698"
   ]
  },
  {
   "cell_type": "code",
   "execution_count": 88,
   "metadata": {},
   "outputs": [
    {
     "name": "stdout",
     "output_type": "stream",
     "text": [
      "Updating galah_dr4_model_trainingset_gridpoints_trained.fits!\n",
      "Updated\n"
     ]
    }
   ],
   "source": [
    "trained_3x3x3 = [\n",
    "    # 1353 NOT READY, PRIORITY 1\n",
    "    1364, # Training with 9423 spectra (90%), Testing with 1047 spectra (10%), 9559.972 validation loss = 9560.110, 22.216 validation loss = 23.934\n",
    "#### NEXT ####\n",
    "    # could do 1365\n",
    "    1470, # Training with 9915 spectra (89%), Testing with 1102 spectra (10%), 9699.579 validation loss = 9660.728\n",
    "#### NEXT ####\n",
    "    # could do 1471\n",
    "    1482, # Training with 10002 spectra (89%), Testing with 1112 spectra (10%), 9663.655 validation loss = 9652.573,\n",
    "    1483, # Training with 10544 spectra (89%), Testing with 1172 spectra (10%), 9465.517 validation loss = 9439.481, 25.909 validation loss = 26.766\n",
    "# CURRENT GRIDS IN LOOP WITH TRAIN2\n",
    "    # 1832,1833,1834,\n",
    "# CURRENT GRIDS IN LOOP WITH TRAIN\n",
    "    # 1844,1845,1846,\n",
    "    1918,\n",
    "    1919,\n",
    "    1920, # Training with 10884 spectra (89%), Testing with 1210 spectra (10%), 8908.265 validation loss = 8927.847\n",
    "    1930, # Training with 8631 spectra (90%), Testing with 959 spectra (10%), 9365.203 validation loss = 9314.398\n",
    "    1931,\n",
    "    1932, # Training with 8355 spectra (89%), Testing with 929 spectra (10%), 8988.107 validation loss = 8910.192, 35.799 validation loss = 39.891\n",
    "    2001, # Training with 12441 spectra (89%), Testing with 1383 spectra (10%), 9266.918 validation loss = 9256.894, 21.200 validation loss = 21.490\n",
    "    2002,\n",
    "    2003, # Training with 11946 spectra (89%), Testing with 1328 spectra (10%), 9006.185 validation loss = 8993.563,\n",
    "    2013, # Training with 9369 spectra (90%), Testing with 1041 spectra (10%), 9359.681 validation loss = 9390.210\n",
    "    2014, # Training with 9301 spectra (89%), Testing with 1034 spectra (10%), 9220.544 validation loss = 9255.023\n",
    "#### NEXT ####\n",
    "    # could do 2015,\n",
    "]\n",
    "\n",
    "# Currently running:\n",
    "# Train1: 1844,1845,1846,\n",
    "# Train2: 1832,1833,1834,\n",
    "\n",
    "print('Updating galah_dr4_model_trainingset_gridpoints_trained.fits!')\n",
    "os.system('ipython galah_dr4_model_trainingset_gridpoints_test_training.py');\n",
    "print('Updated')"
   ]
  },
  {
   "cell_type": "code",
   "execution_count": 89,
   "metadata": {},
   "outputs": [
    {
     "data": {
      "text/html": [
       "<i>Row index=1366</i>\n",
       "<table id=\"table139656820747232\">\n",
       "<thead><tr><th>index_subgrid</th><th>teff_subgrid</th><th>logg_subgrid</th><th>fe_h_subgrid</th></tr></thead>\n",
       "<thead><tr><th>int64</th><th>float32</th><th>float32</th><th>float32</th></tr></thead>\n",
       "<tr><td>1366</td><td>4500.0</td><td>1.5</td><td>-1.0</td></tr>\n",
       "</table>"
      ],
      "text/plain": [
       "<Row index=1366>\n",
       "index_subgrid teff_subgrid logg_subgrid fe_h_subgrid\n",
       "    int64       float32      float32      float32   \n",
       "------------- ------------ ------------ ------------\n",
       "         1366       4500.0          1.5         -1.0"
      ]
     },
     "execution_count": 89,
     "metadata": {},
     "output_type": "execute_result"
    }
   ],
   "source": [
    "grids[1366][['index_subgrid','teff_subgrid','logg_subgrid','fe_h_subgrid']]\n",
    "# 4500_1.50_-1.00 == 1366\n",
    "# 4500_1.00_-1.50 == 1353\n",
    "# 4500_0.50_-1.50 == 1341\n",
    "# 4500_1.00_-1.50 == 1353"
   ]
  },
  {
   "cell_type": "code",
   "execution_count": 90,
   "metadata": {
    "scrolled": false
   },
   "outputs": [
    {
     "name": "stdout",
     "output_type": "stream",
     "text": [
      "1673,\n",
      "1674,\n",
      "2\n",
      "import os\n",
      "ps = [1673,1674]\n",
      "for p in ps:\n",
      "    os.system('ipython galah_dr4_grid_interpolation_trainingset_creation.py '+str(p))\n"
     ]
    }
   ],
   "source": [
    "s = []\n",
    "for grid_p in grids_done:\n",
    "    if grid_p not in grids_converted_to_nn_input:\n",
    "        print(str(grid_p)+',')\n",
    "        s.append(grid_p)\n",
    "print(len(s))\n",
    "print('import os')\n",
    "print('ps = ['+','.join([str(x) for x in s])+']')\n",
    "print('for p in ps:')\n",
    "print(\"    os.system('ipython galah_dr4_grid_interpolation_trainingset_creation.py '+str(p))\")"
   ]
  },
  {
   "cell_type": "code",
   "execution_count": 91,
   "metadata": {},
   "outputs": [],
   "source": [
    "# Currently converting\n",
    "# t1: \n",
    "# t2: 1673,1674"
   ]
  },
  {
   "cell_type": "code",
   "execution_count": 92,
   "metadata": {},
   "outputs": [
    {
     "name": "stdout",
     "output_type": "stream",
     "text": [
      "[1365, 1598, 1471, 1586, 1244, 1353, 1997, 1803, 2062, 1709, 2135]\n"
     ]
    },
    {
     "data": {
      "text/html": [
       "<i>Table length=11</i>\n",
       "<table id=\"table139656820747760\" class=\"table-striped table-bordered table-condensed\">\n",
       "<thead><tr><th>index_subgrid</th><th>counts_dr4_init</th><th>teff_subgrid</th><th>teff_low_subgrid</th><th>teff_high_subgrid</th><th>logg_subgrid</th><th>logg_low_subgrid</th><th>logg_high_subgrid</th><th>fe_h_subgrid</th><th>fe_h_low_subgrid</th><th>fe_h_high_subgrid</th><th>random_seed_subgrid</th><th>model_name</th></tr></thead>\n",
       "<thead><tr><th>int64</th><th>int64</th><th>float32</th><th>float32</th><th>float32</th><th>float32</th><th>float32</th><th>float32</th><th>float32</th><th>float32</th><th>float32</th><th>int64</th><th>str15</th></tr></thead>\n",
       "<tr><td>1365</td><td>541</td><td>4500.0</td><td>4250.0</td><td>4750.0</td><td>1.5</td><td>1.0</td><td>2.0</td><td>-1.5</td><td>-2.0</td><td>-1.0</td><td>4365</td><td>4500_1.50_-1.50</td></tr>\n",
       "<tr><td>1598</td><td>406</td><td>5000.0</td><td>4750.0</td><td>5250.0</td><td>2.5</td><td>2.0</td><td>3.0</td><td>-1.5</td><td>-2.0</td><td>-1.0</td><td>4875</td><td>5000_2.50_-1.50</td></tr>\n",
       "<tr><td>1471</td><td>360</td><td>4750.0</td><td>4500.0</td><td>5000.0</td><td>1.5</td><td>1.0</td><td>2.0</td><td>-1.5</td><td>-2.0</td><td>-1.0</td><td>4615</td><td>4750_1.50_-1.50</td></tr>\n",
       "<tr><td>1586</td><td>321</td><td>5000.0</td><td>4750.0</td><td>5250.0</td><td>2.0</td><td>1.5</td><td>2.5</td><td>-1.5</td><td>-2.0</td><td>-1.0</td><td>4870</td><td>5000_2.00_-1.50</td></tr>\n",
       "<tr><td>1244</td><td>290</td><td>4250.0</td><td>4000.0</td><td>4500.0</td><td>1.0</td><td>0.5</td><td>1.5</td><td>-1.5</td><td>-2.0</td><td>-1.0</td><td>4110</td><td>4250_1.00_-1.50</td></tr>\n",
       "<tr><td>1353</td><td>260</td><td>4500.0</td><td>4250.0</td><td>4750.0</td><td>1.0</td><td>0.5</td><td>1.5</td><td>-1.5</td><td>-2.0</td><td>-1.0</td><td>4360</td><td>4500_1.00_-1.50</td></tr>\n",
       "<tr><td>1997</td><td>243</td><td>6000.0</td><td>5750.0</td><td>6250.0</td><td>4.0</td><td>3.5</td><td>4.5</td><td>-1.5</td><td>-2.0</td><td>-1.0</td><td>5890</td><td>6000_4.00_-1.50</td></tr>\n",
       "<tr><td>1803</td><td>234</td><td>5500.0</td><td>5250.0</td><td>5750.0</td><td>3.0</td><td>2.5</td><td>3.5</td><td>-2.0</td><td>-2.5</td><td>-1.5</td><td>5330</td><td>5500_3.00_-2.00</td></tr>\n",
       "<tr><td>2062</td><td>216</td><td>6250.0</td><td>6000.0</td><td>6500.0</td><td>3.5</td><td>3.0</td><td>4.0</td><td>-1.5</td><td>-2.0</td><td>-1.0</td><td>6135</td><td>6250_3.50_-1.50</td></tr>\n",
       "<tr><td>1709</td><td>210</td><td>5250.0</td><td>5000.0</td><td>5500.0</td><td>3.0</td><td>2.5</td><td>3.5</td><td>-1.5</td><td>-2.0</td><td>-1.0</td><td>5130</td><td>5250_3.00_-1.50</td></tr>\n",
       "<tr><td>2135</td><td>201</td><td>6500.0</td><td>6250.0</td><td>6750.0</td><td>3.5</td><td>3.0</td><td>4.0</td><td>-1.5</td><td>-2.0</td><td>-1.0</td><td>6385</td><td>6500_3.50_-1.50</td></tr>\n",
       "</table>"
      ],
      "text/plain": [
       "<Table length=11>\n",
       "index_subgrid counts_dr4_init ... random_seed_subgrid    model_name  \n",
       "    int64          int64      ...        int64             str15     \n",
       "------------- --------------- ... ------------------- ---------------\n",
       "         1365             541 ...                4365 4500_1.50_-1.50\n",
       "         1598             406 ...                4875 5000_2.50_-1.50\n",
       "         1471             360 ...                4615 4750_1.50_-1.50\n",
       "         1586             321 ...                4870 5000_2.00_-1.50\n",
       "         1244             290 ...                4110 4250_1.00_-1.50\n",
       "         1353             260 ...                4360 4500_1.00_-1.50\n",
       "         1997             243 ...                5890 6000_4.00_-1.50\n",
       "         1803             234 ...                5330 5500_3.00_-2.00\n",
       "         2062             216 ...                6135 6250_3.50_-1.50\n",
       "         1709             210 ...                5130 5250_3.00_-1.50\n",
       "         2135             201 ...                6385 6500_3.50_-1.50"
      ]
     },
     "execution_count": 92,
     "metadata": {},
     "output_type": "execute_result"
    }
   ],
   "source": [
    "upcoming_priority = priority[[x not in trained_3x3x3 for x in priority['index_subgrid']]]\n",
    "print(list(upcoming_priority['index_subgrid'][(upcoming_priority['counts_dr4_init'] > 200) & (upcoming_priority['fe_h_subgrid'] <= -1.5)]))\n",
    "upcoming_priority[(upcoming_priority['counts_dr4_init'] > 200) & (upcoming_priority['fe_h_subgrid'] <= -1.5)]"
   ]
  },
  {
   "cell_type": "code",
   "execution_count": 93,
   "metadata": {},
   "outputs": [],
   "source": [
    "# # selection = (priority['counts_dr4_init'] > 10000)# & (priority['fe_h_subgrid'] < -0.5)\n",
    "# selection = (\n",
    "#     (priority['teff_subgrid'] >= 5500) &\n",
    "#     (priority['teff_subgrid'] <= 6000) &\n",
    "#     (priority['logg_subgrid'] >= 4.0) &\n",
    "#     (priority['logg_subgrid'] <= 5.0) &\n",
    "#     (priority['fe_h_subgrid'] >= -0.25) &\n",
    "#     (priority['fe_h_subgrid'] <= 0.25)\n",
    "# )\n",
    "\n",
    "# f, ax = plt.subplots()\n",
    "# s = ax.scatter(\n",
    "#     priority['teff_subgrid'][selection] + np.abs(100*priority['fe_h_subgrid'][selection]),\n",
    "#     priority['logg_subgrid'][selection] + 0.1*priority['fe_h_subgrid'][selection],\n",
    "#     c = priority['counts_dr4_init'][selection],\n",
    "#     s = 10,\n",
    "#     norm=LogNorm()\n",
    "# )\n",
    "# ax.set_xlim(8200,2800)\n",
    "# ax.set_ylim(5.5,-0.5)\n",
    "# plt.colorbar(s, ax=ax)\n",
    "# plt.tight_layout()\n",
    "# plt.show()\n",
    "# plt.close()\n",
    "# print(list(priority['index_subgrid'][selection]))\n",
    "# priority[selection]"
   ]
  }
 ],
 "metadata": {
  "kernelspec": {
   "display_name": "Python 3",
   "language": "python",
   "name": "python3"
  },
  "language_info": {
   "codemirror_mode": {
    "name": "ipython",
    "version": 3
   },
   "file_extension": ".py",
   "mimetype": "text/x-python",
   "name": "python",
   "nbconvert_exporter": "python",
   "pygments_lexer": "ipython3",
   "version": "3.8.2"
  }
 },
 "nbformat": 4,
 "nbformat_minor": 2
}
