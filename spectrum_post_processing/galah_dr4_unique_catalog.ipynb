{
 "cells": [
  {
   "cell_type": "code",
   "execution_count": 1,
   "id": "cardiovascular-nowhere",
   "metadata": {},
   "outputs": [],
   "source": [
    "# Preamble \n",
    "try:\n",
    "    %matplotlib inline\n",
    "    %config InlineBackend.figure_format='retina'\n",
    "except:\n",
    "    pass\n",
    "\n",
    "import numpy as np\n",
    "import pandas as pd\n",
    "from astropy.table import Table, join\n",
    "import astropy.units as u\n",
    "import matplotlib.pyplot as plt\n",
    "from matplotlib.colors import LogNorm"
   ]
  },
  {
   "cell_type": "code",
   "execution_count": 7,
   "id": "trained-james",
   "metadata": {},
   "outputs": [],
   "source": [
    "unique_catalog = Table.read('../observations/dr6.0_230101_unique_ids.fits')\n",
    "unique_catalog = unique_catalog[:10]"
   ]
  },
  {
   "cell_type": "code",
   "execution_count": 8,
   "id": "marked-ozone",
   "metadata": {},
   "outputs": [],
   "source": [
    "for key in ['teff','logg','fe_h','vmic','vsini','a_li']:\n",
    "    unique_catalog[key] = np.ones(len(unique_catalog['sobject_id']),dtype=np.float32); unique_catalog[key][:] = np.NaN\n",
    "    unique_catalog['e_'+key] = np.ones(len(unique_catalog['sobject_id']),dtype=np.float32); unique_catalog['e_'+key][:] = np.NaN\n",
    "    unique_catalog['c_'+key] = np.ones(len(unique_catalog['sobject_id']),dtype=np.float32); unique_catalog['c_'+key][:] = np.NaN\n",
    "    \n",
    "for key in ['mass','age','a_ks','lbol','vsini','a_li']:\n",
    "    unique_catalog[key] = np.ones(len(unique_catalog['sobject_id']),dtype=np.float32); unique_catalog[key][:] = np.NaN\n",
    "\n",
    "for element in [\n",
    "        'Li','C','N','O',\n",
    "        'Na','Mg','Al','Si',\n",
    "        'K','Ca','Sc','Ti','V','Cr','Mn','Co','Ni','Cu','Zn',\n",
    "        'Rb','Sr','Y','Zr','Mo','Ru',\n",
    "        'Ba','La','Ce','Nd','Sm','Eu'\n",
    "    ]:\n",
    "    if element == 'Li':\n",
    "        key = 'a_li'\n",
    "        unique_catalog[key] = np.ones(len(unique_catalog['sobject_id']),dtype=np.float32); unique_catalog[key][:] = np.NaN\n",
    "        unique_catalog['e_'+key] = np.ones(len(unique_catalog['sobject_id']),dtype=np.float32); unique_catalog['e_'+key][:] = np.NaN\n",
    "        unique_catalog['c_'+key] = np.ones(len(unique_catalog['sobject_id']),dtype=np.float32); unique_catalog['c_'+key][:] = np.NaN\n",
    "        unique_catalog['flag_'+key] = np.ones(len(unique_catalog['sobject_id']),dtype=np.int32); unique_catalog['flag_'+key][:] = np.NaN\n",
    "    else:\n",
    "        unique_catalog[element.lower()+'_fe'] = np.ones(len(unique_catalog['sobject_id']),dtype=np.float32); unique_catalog[element.lower()+'_fe'][:] = np.NaN\n",
    "        unique_catalog['e_'+element.lower()+'_fe'] = np.ones(len(unique_catalog['sobject_id']),dtype=np.float32); unique_catalog['e_'+element.lower()+'_fe'][:] = np.NaN\n",
    "        unique_catalog['c_'+element.lower()+'_fe'] = np.ones(len(unique_catalog['sobject_id']),dtype=np.float32); unique_catalog['c_'+element.lower()+'_fe'][:] = np.NaN\n",
    "        unique_catalog['flag_'+element.lower()+'_fe'] = np.ones(len(unique_catalog['sobject_id']),dtype=np.int32); unique_catalog['flag_'+element.lower()+'_fe'][:] = np.NaN\n"
   ]
  },
  {
   "cell_type": "code",
   "execution_count": 15,
   "id": "convertible-emission",
   "metadata": {},
   "outputs": [
    {
     "name": "stdout",
     "output_type": "stream",
     "text": [
      "140713004601361 could not be read in\n",
      "140708007101175 could not be read in\n",
      "161118002501226 could not be read in\n",
      "200801005101085 could not be read in\n",
      "200801005101373 could not be read in\n"
     ]
    }
   ],
   "source": [
    "for entry_index, sobject_id in enumerate(unique_catalog['sobject_id'][:10]):\n",
    "    \n",
    "    try:\n",
    "        plxcom = Table.read('../analysis_products/'+str(sobject_id)[:6]+'/'+str(sobject_id)+'/'+str(sobject_id)+'_plxcom_fit_results.fits')[0]\n",
    "\n",
    "        for key in ['teff','logg','fe_h','vmic','vsini']:\n",
    "            unique_catalog[key][entry_index] = plxcom[key]\n",
    "            unique_catalog['c_'+key][entry_index] = plxcom['cov_e_'+key]\n",
    "\n",
    "        unique_catalog['a_li'][entry_index] = plxcom['li_fe'] + plxcom['fe_h'] + 1.05\n",
    "        unique_catalog['c_a_li'][entry_index] = plxcom['cov_e_li_fe']\n",
    "        unique_catalog['flag_a_li'][entry_index] = plxcom['flag_li_fe']\n",
    "\n",
    "        for element in [\n",
    "            'C','N','O',\n",
    "            'Na','Mg','Al','Si',\n",
    "            'K','Ca','Sc','Ti','V','Cr','Mn','Co','Ni','Cu','Zn',\n",
    "            'Rb','Sr','Y','Zr','Mo','Ru',\n",
    "            'Ba','La','Ce','Nd','Sm','Eu'\n",
    "        ]:\n",
    "            unique_catalog[element.lower()+'_fe'][entry_index] = plxcom[element.lower()+'_fe']\n",
    "            unique_catalog['c_'+element.lower()+'_fe'][entry_index] = plxcom['cov_e_'+element.lower()+'_fe']\n",
    "            unique_catalog['flag_'+element.lower()+'_fe'][entry_index] = plxcom['flag_'+element.lower()+'_fe']\n",
    "\n",
    "    except:\n",
    "        print(str(sobject_id)+' could not be read in')"
   ]
  },
  {
   "cell_type": "code",
   "execution_count": 16,
   "id": "serial-television",
   "metadata": {},
   "outputs": [
    {
     "data": {
      "text/plain": [
       "odict_keys(['sobject_id', 'tmass_id', 'fit_global_rv', 'gaia_edr3_source_id', 'flag_sp_fit', 'rv_gauss', 'e_rv_gauss', 'teff', 'cov_e_teff', 'logg', 'cov_e_logg', 'flag_logg', 'fe_h', 'cov_e_fe_h', 'flag_fe_h', 'vmic', 'cov_e_vmic', 'vsini', 'cov_e_vsini', 'li_fe', 'cov_e_li_fe', 'flag_li_fe', 'c_fe', 'cov_e_c_fe', 'flag_c_fe', 'n_fe', 'cov_e_n_fe', 'flag_n_fe', 'o_fe', 'cov_e_o_fe', 'flag_o_fe', 'na_fe', 'cov_e_na_fe', 'flag_na_fe', 'mg_fe', 'cov_e_mg_fe', 'flag_mg_fe', 'al_fe', 'cov_e_al_fe', 'flag_al_fe', 'si_fe', 'cov_e_si_fe', 'flag_si_fe', 'k_fe', 'cov_e_k_fe', 'flag_k_fe', 'ca_fe', 'cov_e_ca_fe', 'flag_ca_fe', 'sc_fe', 'cov_e_sc_fe', 'flag_sc_fe', 'ti_fe', 'cov_e_ti_fe', 'flag_ti_fe', 'v_fe', 'cov_e_v_fe', 'flag_v_fe', 'cr_fe', 'cov_e_cr_fe', 'flag_cr_fe', 'mn_fe', 'cov_e_mn_fe', 'flag_mn_fe', 'co_fe', 'cov_e_co_fe', 'flag_co_fe', 'ni_fe', 'cov_e_ni_fe', 'flag_ni_fe', 'cu_fe', 'cov_e_cu_fe', 'flag_cu_fe', 'zn_fe', 'cov_e_zn_fe', 'flag_zn_fe', 'rb_fe', 'cov_e_rb_fe', 'flag_rb_fe', 'sr_fe', 'cov_e_sr_fe', 'flag_sr_fe', 'y_fe', 'cov_e_y_fe', 'flag_y_fe', 'zr_fe', 'cov_e_zr_fe', 'flag_zr_fe', 'mo_fe', 'cov_e_mo_fe', 'flag_mo_fe', 'ru_fe', 'cov_e_ru_fe', 'flag_ru_fe', 'ba_fe', 'cov_e_ba_fe', 'flag_ba_fe', 'la_fe', 'cov_e_la_fe', 'flag_la_fe', 'ce_fe', 'cov_e_ce_fe', 'flag_ce_fe', 'nd_fe', 'cov_e_nd_fe', 'flag_nd_fe', 'sm_fe', 'cov_e_sm_fe', 'flag_sm_fe', 'eu_fe', 'cov_e_eu_fe', 'flag_eu_fe', 'mass', 'age', 'bc_ks', 'a_ks', 'lbol', 'model_name', 'closest_model', 'comp_time'])"
      ]
     },
     "execution_count": 16,
     "metadata": {},
     "output_type": "execute_result"
    }
   ],
   "source": [
    "plxcom.keys()"
   ]
  },
  {
   "cell_type": "code",
   "execution_count": 17,
   "id": "covered-forestry",
   "metadata": {},
   "outputs": [
    {
     "data": {
      "text/html": [
       "<i>Table masked=True length=10</i>\n",
       "<table id=\"table140087666508320\" class=\"table-striped table-bordered table-condensed\">\n",
       "<thead><tr><th>sobject_id</th><th>tmass_id</th><th>teff</th><th>e_teff</th><th>c_teff</th><th>logg</th><th>e_logg</th><th>c_logg</th><th>fe_h</th><th>e_fe_h</th><th>c_fe_h</th><th>vmic</th><th>e_vmic</th><th>c_vmic</th><th>vsini</th><th>e_vsini</th><th>c_vsini</th><th>a_li</th><th>e_a_li</th><th>c_a_li</th><th>mass</th><th>age</th><th>a_ks</th><th>lbol</th><th>flag_a_li</th><th>c_fe</th><th>e_c_fe</th><th>c_c_fe</th><th>flag_c_fe</th><th>n_fe</th><th>e_n_fe</th><th>c_n_fe</th><th>flag_n_fe</th><th>o_fe</th><th>e_o_fe</th><th>c_o_fe</th><th>flag_o_fe</th><th>na_fe</th><th>e_na_fe</th><th>c_na_fe</th><th>flag_na_fe</th><th>mg_fe</th><th>e_mg_fe</th><th>c_mg_fe</th><th>flag_mg_fe</th><th>al_fe</th><th>e_al_fe</th><th>c_al_fe</th><th>flag_al_fe</th><th>si_fe</th><th>e_si_fe</th><th>c_si_fe</th><th>flag_si_fe</th><th>k_fe</th><th>e_k_fe</th><th>c_k_fe</th><th>flag_k_fe</th><th>ca_fe</th><th>e_ca_fe</th><th>c_ca_fe</th><th>flag_ca_fe</th><th>sc_fe</th><th>e_sc_fe</th><th>c_sc_fe</th><th>flag_sc_fe</th><th>ti_fe</th><th>e_ti_fe</th><th>c_ti_fe</th><th>flag_ti_fe</th><th>v_fe</th><th>e_v_fe</th><th>c_v_fe</th><th>flag_v_fe</th><th>cr_fe</th><th>e_cr_fe</th><th>c_cr_fe</th><th>flag_cr_fe</th><th>mn_fe</th><th>e_mn_fe</th><th>c_mn_fe</th><th>flag_mn_fe</th><th>co_fe</th><th>e_co_fe</th><th>c_co_fe</th><th>flag_co_fe</th><th>ni_fe</th><th>e_ni_fe</th><th>c_ni_fe</th><th>flag_ni_fe</th><th>cu_fe</th><th>e_cu_fe</th><th>c_cu_fe</th><th>flag_cu_fe</th><th>zn_fe</th><th>e_zn_fe</th><th>c_zn_fe</th><th>flag_zn_fe</th><th>rb_fe</th><th>e_rb_fe</th><th>c_rb_fe</th><th>flag_rb_fe</th><th>sr_fe</th><th>e_sr_fe</th><th>c_sr_fe</th><th>flag_sr_fe</th><th>y_fe</th><th>e_y_fe</th><th>c_y_fe</th><th>flag_y_fe</th><th>zr_fe</th><th>e_zr_fe</th><th>c_zr_fe</th><th>flag_zr_fe</th><th>mo_fe</th><th>e_mo_fe</th><th>c_mo_fe</th><th>flag_mo_fe</th><th>ru_fe</th><th>e_ru_fe</th><th>c_ru_fe</th><th>flag_ru_fe</th><th>ba_fe</th><th>e_ba_fe</th><th>c_ba_fe</th><th>flag_ba_fe</th><th>la_fe</th><th>e_la_fe</th><th>c_la_fe</th><th>flag_la_fe</th><th>ce_fe</th><th>e_ce_fe</th><th>c_ce_fe</th><th>flag_ce_fe</th><th>nd_fe</th><th>e_nd_fe</th><th>c_nd_fe</th><th>flag_nd_fe</th><th>sm_fe</th><th>e_sm_fe</th><th>c_sm_fe</th><th>flag_sm_fe</th><th>eu_fe</th><th>e_eu_fe</th><th>c_eu_fe</th><th>flag_eu_fe</th></tr></thead>\n",
       "<thead><tr><th>int64</th><th>bytes16</th><th>float32</th><th>float32</th><th>float32</th><th>float32</th><th>float32</th><th>float32</th><th>float32</th><th>float32</th><th>float32</th><th>float32</th><th>float32</th><th>float32</th><th>float32</th><th>float32</th><th>float32</th><th>float32</th><th>float32</th><th>float32</th><th>float32</th><th>float32</th><th>float32</th><th>float32</th><th>int32</th><th>float32</th><th>float32</th><th>float32</th><th>int32</th><th>float32</th><th>float32</th><th>float32</th><th>int32</th><th>float32</th><th>float32</th><th>float32</th><th>int32</th><th>float32</th><th>float32</th><th>float32</th><th>int32</th><th>float32</th><th>float32</th><th>float32</th><th>int32</th><th>float32</th><th>float32</th><th>float32</th><th>int32</th><th>float32</th><th>float32</th><th>float32</th><th>int32</th><th>float32</th><th>float32</th><th>float32</th><th>int32</th><th>float32</th><th>float32</th><th>float32</th><th>int32</th><th>float32</th><th>float32</th><th>float32</th><th>int32</th><th>float32</th><th>float32</th><th>float32</th><th>int32</th><th>float32</th><th>float32</th><th>float32</th><th>int32</th><th>float32</th><th>float32</th><th>float32</th><th>int32</th><th>float32</th><th>float32</th><th>float32</th><th>int32</th><th>float32</th><th>float32</th><th>float32</th><th>int32</th><th>float32</th><th>float32</th><th>float32</th><th>int32</th><th>float32</th><th>float32</th><th>float32</th><th>int32</th><th>float32</th><th>float32</th><th>float32</th><th>int32</th><th>float32</th><th>float32</th><th>float32</th><th>int32</th><th>float32</th><th>float32</th><th>float32</th><th>int32</th><th>float32</th><th>float32</th><th>float32</th><th>int32</th><th>float32</th><th>float32</th><th>float32</th><th>int32</th><th>float32</th><th>float32</th><th>float32</th><th>int32</th><th>float32</th><th>float32</th><th>float32</th><th>int32</th><th>float32</th><th>float32</th><th>float32</th><th>int32</th><th>float32</th><th>float32</th><th>float32</th><th>int32</th><th>float32</th><th>float32</th><th>float32</th><th>int32</th><th>float32</th><th>float32</th><th>float32</th><th>int32</th><th>float32</th><th>float32</th><th>float32</th><th>int32</th><th>float32</th><th>float32</th><th>float32</th><th>int32</th></tr></thead>\n",
       "<tr><td>210115002201239</td><td>VESTA</td><td>5725.561</td><td>nan</td><td>0.6377968</td><td>4.396168</td><td>nan</td><td>nan</td><td>-0.059661966</td><td>nan</td><td>0.00046678894</td><td>1.0758249</td><td>nan</td><td>0.0018635732</td><td>5.3963733</td><td>nan</td><td>0.0050045126</td><td>1.0389992</td><td>nan</td><td>0.0051907804</td><td>nan</td><td>nan</td><td>nan</td><td>nan</td><td>0</td><td>-0.07079793</td><td>nan</td><td>0.0015857235</td><td>0</td><td>0.6386031</td><td>nan</td><td>0.0025839105</td><td>0</td><td>0.047160298</td><td>nan</td><td>0.0077116783</td><td>0</td><td>0.22876352</td><td>nan</td><td>0.0012988601</td><td>0</td><td>0.16945228</td><td>nan</td><td>0.0012095909</td><td>0</td><td>0.22621015</td><td>nan</td><td>0.0048229657</td><td>0</td><td>0.041867502</td><td>nan</td><td>0.000824087</td><td>0</td><td>-0.002153837</td><td>nan</td><td>0.007867369</td><td>0</td><td>0.061946288</td><td>nan</td><td>0.0017899307</td><td>0</td><td>-0.034142617</td><td>nan</td><td>0.0015885915</td><td>0</td><td>-0.008258258</td><td>nan</td><td>0.00082993635</td><td>0</td><td>-0.14816622</td><td>nan</td><td>0.0012916593</td><td>0</td><td>-0.0127285905</td><td>nan</td><td>0.00070908567</td><td>0</td><td>0.116343245</td><td>nan</td><td>0.0009330857</td><td>0</td><td>-0.15431936</td><td>nan</td><td>0.0014369353</td><td>0</td><td>0.019070541</td><td>nan</td><td>0.00060213543</td><td>0</td><td>-0.20210466</td><td>nan</td><td>0.0022424676</td><td>0</td><td>-0.08240951</td><td>nan</td><td>0.0024965552</td><td>0</td><td>nan</td><td>nan</td><td>nan</td><td>2</td><td>nan</td><td>nan</td><td>nan</td><td>2</td><td>-0.06956926</td><td>nan</td><td>0.0020700495</td><td>0</td><td>-0.61175346</td><td>nan</td><td>0.0067781033</td><td>0</td><td>nan</td><td>nan</td><td>nan</td><td>2</td><td>nan</td><td>nan</td><td>nan</td><td>2</td><td>-0.08370772</td><td>nan</td><td>0.0031137676</td><td>0</td><td>-0.11053351</td><td>nan</td><td>0.0059815254</td><td>0</td><td>-0.5499474</td><td>nan</td><td>0.00880125</td><td>0</td><td>-0.17891766</td><td>nan</td><td>0.004629796</td><td>0</td><td>nan</td><td>nan</td><td>nan</td><td>2</td><td>nan</td><td>nan</td><td>nan</td><td>2</td></tr>\n",
       "<tr><td>200801005101309</td><td>23595997-5257480</td><td>5383.9023</td><td>nan</td><td>12.203986</td><td>4.3834167</td><td>nan</td><td>nan</td><td>-0.17612119</td><td>nan</td><td>0.009764233</td><td>0.950512</td><td>nan</td><td>0.033511113</td><td>3.7582157</td><td>nan</td><td>0.13846545</td><td>1.0645416</td><td>nan</td><td>0.043570243</td><td>nan</td><td>nan</td><td>nan</td><td>nan</td><td>1</td><td>0.052377667</td><td>nan</td><td>0.01722928</td><td>0</td><td>0.4197086</td><td>nan</td><td>0.017455898</td><td>1</td><td>-0.010051473</td><td>nan</td><td>0.055448465</td><td>0</td><td>0.30110088</td><td>nan</td><td>0.023147486</td><td>0</td><td>0.21605234</td><td>nan</td><td>0.022451576</td><td>0</td><td>0.56576675</td><td>nan</td><td>0.05569358</td><td>0</td><td>0.0715694</td><td>nan</td><td>0.012981883</td><td>0</td><td>0.42000067</td><td>nan</td><td>0.049133126</td><td>0</td><td>0.1453411</td><td>nan</td><td>0.014824788</td><td>0</td><td>-0.015064961</td><td>nan</td><td>0.029138904</td><td>0</td><td>-0.010275482</td><td>nan</td><td>0.013856177</td><td>0</td><td>0.0017050822</td><td>nan</td><td>0.014459226</td><td>0</td><td>-0.015698062</td><td>nan</td><td>0.013668521</td><td>0</td><td>0.148594</td><td>nan</td><td>0.0145574855</td><td>0</td><td>-0.022155799</td><td>nan</td><td>0.017456539</td><td>0</td><td>0.041242685</td><td>nan</td><td>0.011247798</td><td>0</td><td>-0.18097009</td><td>nan</td><td>0.03703647</td><td>0</td><td>0.052489463</td><td>nan</td><td>0.050403085</td><td>0</td><td>nan</td><td>nan</td><td>nan</td><td>2</td><td>nan</td><td>nan</td><td>nan</td><td>2</td><td>-0.050904352</td><td>nan</td><td>0.042599145</td><td>0</td><td>-0.88414574</td><td>nan</td><td>0.1404792</td><td>1</td><td>nan</td><td>nan</td><td>nan</td><td>2</td><td>nan</td><td>nan</td><td>nan</td><td>2</td><td>0.00856589</td><td>nan</td><td>0.043450084</td><td>0</td><td>0.2142956</td><td>nan</td><td>0.19359316</td><td>1</td><td>-0.84700245</td><td>nan</td><td>0.21171615</td><td>1</td><td>0.31794778</td><td>nan</td><td>0.029829927</td><td>0</td><td>nan</td><td>nan</td><td>nan</td><td>2</td><td>nan</td><td>nan</td><td>nan</td><td>2</td></tr>\n",
       "<tr><td>170910004101274</td><td>00000011+0522500</td><td>4332.174</td><td>nan</td><td>6.519759</td><td>4.5867677</td><td>nan</td><td>nan</td><td>-0.66870606</td><td>nan</td><td>0.009661145</td><td>0.97775155</td><td>nan</td><td>0.02706053</td><td>5.42733</td><td>nan</td><td>0.0765304</td><td>-0.095571354</td><td>nan</td><td>0.038456045</td><td>nan</td><td>nan</td><td>nan</td><td>nan</td><td>0</td><td>-0.10157978</td><td>nan</td><td>0.024133775</td><td>0</td><td>-1.0829536</td><td>nan</td><td>0.061445784</td><td>1</td><td>-0.26470178</td><td>nan</td><td>0.031215943</td><td>0</td><td>0.12279944</td><td>nan</td><td>0.01285073</td><td>0</td><td>0.15386024</td><td>nan</td><td>0.008670461</td><td>0</td><td>0.12428183</td><td>nan</td><td>0.021472003</td><td>0</td><td>0.23741312</td><td>nan</td><td>0.016656574</td><td>0</td><td>0.13162926</td><td>nan</td><td>0.014583043</td><td>0</td><td>0.1696077</td><td>nan</td><td>0.009948621</td><td>0</td><td>-0.046664525</td><td>nan</td><td>0.016022068</td><td>0</td><td>0.048460677</td><td>nan</td><td>0.009738173</td><td>0</td><td>0.08722949</td><td>nan</td><td>0.0149130775</td><td>0</td><td>-0.035959836</td><td>nan</td><td>0.011973855</td><td>0</td><td>0.23934022</td><td>nan</td><td>0.016268129</td><td>0</td><td>-0.116077766</td><td>nan</td><td>0.01821508</td><td>0</td><td>-0.040335074</td><td>nan</td><td>0.009964063</td><td>0</td><td>-0.31950253</td><td>nan</td><td>0.027658168</td><td>0</td><td>0.18122706</td><td>nan</td><td>0.04652051</td><td>0</td><td>-0.81411195</td><td>nan</td><td>0.071468845</td><td>1</td><td>0.27022076</td><td>nan</td><td>0.07245515</td><td>1</td><td>-0.20080131</td><td>nan</td><td>0.034614712</td><td>0</td><td>-0.23128517</td><td>nan</td><td>0.0383497</td><td>0</td><td>nan</td><td>nan</td><td>nan</td><td>2</td><td>-0.95031625</td><td>nan</td><td>0.06879969</td><td>1</td><td>0.09287304</td><td>nan</td><td>0.020508664</td><td>0</td><td>0.19063304</td><td>nan</td><td>0.063991435</td><td>0</td><td>-0.088148765</td><td>nan</td><td>0.09776213</td><td>1</td><td>0.3286354</td><td>nan</td><td>0.04697482</td><td>0</td><td>0.7437044</td><td>nan</td><td>0.080804974</td><td>0</td><td>nan</td><td>nan</td><td>nan</td><td>2</td></tr>\n",
       "<tr><td>161116001701016</td><td>00000024-5742487</td><td>5560.065</td><td>nan</td><td>10.1056185</td><td>4.270065</td><td>nan</td><td>nan</td><td>-0.71808326</td><td>nan</td><td>0.00798872</td><td>0.945198</td><td>nan</td><td>0.043505806</td><td>4.622323</td><td>nan</td><td>0.13775875</td><td>1.1954774</td><td>nan</td><td>0.049613107</td><td>nan</td><td>nan</td><td>nan</td><td>nan</td><td>1</td><td>0.21728383</td><td>nan</td><td>0.027217403</td><td>1</td><td>-0.13780303</td><td>nan</td><td>0.21772341</td><td>1</td><td>0.6516974</td><td>nan</td><td>0.032737073</td><td>0</td><td>0.28592008</td><td>nan</td><td>0.018699626</td><td>0</td><td>0.34330827</td><td>nan</td><td>0.016038029</td><td>0</td><td>0.081453525</td><td>nan</td><td>0.07286876</td><td>0</td><td>0.2313284</td><td>nan</td><td>0.016853934</td><td>0</td><td>0.22686578</td><td>nan</td><td>0.030008713</td><td>0</td><td>0.27728617</td><td>nan</td><td>0.015166442</td><td>0</td><td>0.11693746</td><td>nan</td><td>0.023317475</td><td>0</td><td>0.17187113</td><td>nan</td><td>0.012674306</td><td>0</td><td>0.062741555</td><td>nan</td><td>0.014506607</td><td>0</td><td>-0.030422682</td><td>nan</td><td>0.011761382</td><td>0</td><td>-0.10108782</td><td>nan</td><td>0.015013332</td><td>0</td><td>0.0017268634</td><td>nan</td><td>0.026178017</td><td>0</td><td>-0.01996652</td><td>nan</td><td>0.013768323</td><td>0</td><td>-0.2870243</td><td>nan</td><td>0.038535953</td><td>0</td><td>0.013961011</td><td>nan</td><td>0.041303806</td><td>0</td><td>nan</td><td>nan</td><td>nan</td><td>2</td><td>nan</td><td>nan</td><td>nan</td><td>2</td><td>-0.25980183</td><td>nan</td><td>0.032046434</td><td>0</td><td>-0.5561574</td><td>nan</td><td>0.23916015</td><td>1</td><td>nan</td><td>nan</td><td>nan</td><td>2</td><td>nan</td><td>nan</td><td>nan</td><td>2</td><td>0.055393558</td><td>nan</td><td>0.034352805</td><td>0</td><td>-0.5733482</td><td>nan</td><td>0.15330437</td><td>1</td><td>nan</td><td>nan</td><td>nan</td><td>2</td><td>0.45781985</td><td>nan</td><td>0.026427507</td><td>1</td><td>nan</td><td>nan</td><td>nan</td><td>2</td><td>nan</td><td>nan</td><td>nan</td><td>2</td></tr>\n",
       "<tr><td>161116001701360</td><td>00000023-5709445</td><td>4886.5977</td><td>nan</td><td>12.232078</td><td>4.459813</td><td>nan</td><td>nan</td><td>-1.0936042</td><td>nan</td><td>0.009569079</td><td>0.9385356</td><td>nan</td><td>0.036212645</td><td>6.5692177</td><td>nan</td><td>0.12680766</td><td>0.43501145</td><td>nan</td><td>0.04960774</td><td>nan</td><td>nan</td><td>nan</td><td>nan</td><td>1</td><td>0.18782255</td><td>nan</td><td>0.03885717</td><td>1</td><td>-0.9630296</td><td>nan</td><td>0.17457391</td><td>1</td><td>0.39032456</td><td>nan</td><td>0.08308591</td><td>0</td><td>0.27912658</td><td>nan</td><td>0.016750485</td><td>0</td><td>0.57429916</td><td>nan</td><td>0.014208238</td><td>0</td><td>0.2593688</td><td>nan</td><td>0.054209586</td><td>0</td><td>0.3010811</td><td>nan</td><td>0.025892513</td><td>0</td><td>0.40455654</td><td>nan</td><td>0.028809186</td><td>0</td><td>0.3769669</td><td>nan</td><td>0.017699203</td><td>0</td><td>0.043232165</td><td>nan</td><td>0.030143037</td><td>0</td><td>0.25726983</td><td>nan</td><td>0.012027804</td><td>0</td><td>0.0971059</td><td>nan</td><td>0.022704948</td><td>0</td><td>0.00852373</td><td>nan</td><td>0.012461506</td><td>0</td><td>-0.18013632</td><td>nan</td><td>0.016335258</td><td>0</td><td>-0.27442363</td><td>nan</td><td>0.035690945</td><td>0</td><td>-0.070859425</td><td>nan</td><td>0.013510978</td><td>0</td><td>-0.32095152</td><td>nan</td><td>0.032334317</td><td>0</td><td>0.16837183</td><td>nan</td><td>0.042871322</td><td>0</td><td>nan</td><td>nan</td><td>nan</td><td>2</td><td>nan</td><td>nan</td><td>nan</td><td>2</td><td>0.09851882</td><td>nan</td><td>0.03773268</td><td>0</td><td>-0.36376414</td><td>nan</td><td>0.12162828</td><td>1</td><td>nan</td><td>nan</td><td>nan</td><td>2</td><td>nan</td><td>nan</td><td>nan</td><td>2</td><td>-0.0045849513</td><td>nan</td><td>0.03383538</td><td>0</td><td>-0.10290949</td><td>nan</td><td>0.13183135</td><td>1</td><td>nan</td><td>nan</td><td>nan</td><td>2</td><td>-0.0648669</td><td>nan</td><td>0.09868963</td><td>0</td><td>nan</td><td>nan</td><td>nan</td><td>2</td><td>nan</td><td>nan</td><td>nan</td><td>2</td></tr>\n",
       "<tr><td>140713004601361</td><td>00000025-7541166</td><td>nan</td><td>nan</td><td>nan</td><td>nan</td><td>nan</td><td>nan</td><td>nan</td><td>nan</td><td>nan</td><td>nan</td><td>nan</td><td>nan</td><td>nan</td><td>nan</td><td>nan</td><td>nan</td><td>nan</td><td>nan</td><td>nan</td><td>nan</td><td>nan</td><td>nan</td><td>-2147483648</td><td>nan</td><td>nan</td><td>nan</td><td>-2147483648</td><td>nan</td><td>nan</td><td>nan</td><td>-2147483648</td><td>nan</td><td>nan</td><td>nan</td><td>-2147483648</td><td>nan</td><td>nan</td><td>nan</td><td>-2147483648</td><td>nan</td><td>nan</td><td>nan</td><td>-2147483648</td><td>nan</td><td>nan</td><td>nan</td><td>-2147483648</td><td>nan</td><td>nan</td><td>nan</td><td>-2147483648</td><td>nan</td><td>nan</td><td>nan</td><td>-2147483648</td><td>nan</td><td>nan</td><td>nan</td><td>-2147483648</td><td>nan</td><td>nan</td><td>nan</td><td>-2147483648</td><td>nan</td><td>nan</td><td>nan</td><td>-2147483648</td><td>nan</td><td>nan</td><td>nan</td><td>-2147483648</td><td>nan</td><td>nan</td><td>nan</td><td>-2147483648</td><td>nan</td><td>nan</td><td>nan</td><td>-2147483648</td><td>nan</td><td>nan</td><td>nan</td><td>-2147483648</td><td>nan</td><td>nan</td><td>nan</td><td>-2147483648</td><td>nan</td><td>nan</td><td>nan</td><td>-2147483648</td><td>nan</td><td>nan</td><td>nan</td><td>-2147483648</td><td>nan</td><td>nan</td><td>nan</td><td>-2147483648</td><td>nan</td><td>nan</td><td>nan</td><td>-2147483648</td><td>nan</td><td>nan</td><td>nan</td><td>-2147483648</td><td>nan</td><td>nan</td><td>nan</td><td>-2147483648</td><td>nan</td><td>nan</td><td>nan</td><td>-2147483648</td><td>nan</td><td>nan</td><td>nan</td><td>-2147483648</td><td>nan</td><td>nan</td><td>nan</td><td>-2147483648</td><td>nan</td><td>nan</td><td>nan</td><td>-2147483648</td><td>nan</td><td>nan</td><td>nan</td><td>-2147483648</td><td>nan</td><td>nan</td><td>nan</td><td>-2147483648</td><td>nan</td><td>nan</td><td>nan</td><td>-2147483648</td><td>nan</td><td>nan</td><td>nan</td><td>-2147483648</td></tr>\n",
       "<tr><td>140708007101175</td><td>00000038-7756270</td><td>nan</td><td>nan</td><td>nan</td><td>nan</td><td>nan</td><td>nan</td><td>nan</td><td>nan</td><td>nan</td><td>nan</td><td>nan</td><td>nan</td><td>nan</td><td>nan</td><td>nan</td><td>nan</td><td>nan</td><td>nan</td><td>nan</td><td>nan</td><td>nan</td><td>nan</td><td>-2147483648</td><td>nan</td><td>nan</td><td>nan</td><td>-2147483648</td><td>nan</td><td>nan</td><td>nan</td><td>-2147483648</td><td>nan</td><td>nan</td><td>nan</td><td>-2147483648</td><td>nan</td><td>nan</td><td>nan</td><td>-2147483648</td><td>nan</td><td>nan</td><td>nan</td><td>-2147483648</td><td>nan</td><td>nan</td><td>nan</td><td>-2147483648</td><td>nan</td><td>nan</td><td>nan</td><td>-2147483648</td><td>nan</td><td>nan</td><td>nan</td><td>-2147483648</td><td>nan</td><td>nan</td><td>nan</td><td>-2147483648</td><td>nan</td><td>nan</td><td>nan</td><td>-2147483648</td><td>nan</td><td>nan</td><td>nan</td><td>-2147483648</td><td>nan</td><td>nan</td><td>nan</td><td>-2147483648</td><td>nan</td><td>nan</td><td>nan</td><td>-2147483648</td><td>nan</td><td>nan</td><td>nan</td><td>-2147483648</td><td>nan</td><td>nan</td><td>nan</td><td>-2147483648</td><td>nan</td><td>nan</td><td>nan</td><td>-2147483648</td><td>nan</td><td>nan</td><td>nan</td><td>-2147483648</td><td>nan</td><td>nan</td><td>nan</td><td>-2147483648</td><td>nan</td><td>nan</td><td>nan</td><td>-2147483648</td><td>nan</td><td>nan</td><td>nan</td><td>-2147483648</td><td>nan</td><td>nan</td><td>nan</td><td>-2147483648</td><td>nan</td><td>nan</td><td>nan</td><td>-2147483648</td><td>nan</td><td>nan</td><td>nan</td><td>-2147483648</td><td>nan</td><td>nan</td><td>nan</td><td>-2147483648</td><td>nan</td><td>nan</td><td>nan</td><td>-2147483648</td><td>nan</td><td>nan</td><td>nan</td><td>-2147483648</td><td>nan</td><td>nan</td><td>nan</td><td>-2147483648</td><td>nan</td><td>nan</td><td>nan</td><td>-2147483648</td><td>nan</td><td>nan</td><td>nan</td><td>-2147483648</td><td>nan</td><td>nan</td><td>nan</td><td>-2147483648</td></tr>\n",
       "<tr><td>161118002501226</td><td>00000040-5114382</td><td>nan</td><td>nan</td><td>nan</td><td>nan</td><td>nan</td><td>nan</td><td>nan</td><td>nan</td><td>nan</td><td>nan</td><td>nan</td><td>nan</td><td>nan</td><td>nan</td><td>nan</td><td>nan</td><td>nan</td><td>nan</td><td>nan</td><td>nan</td><td>nan</td><td>nan</td><td>-2147483648</td><td>nan</td><td>nan</td><td>nan</td><td>-2147483648</td><td>nan</td><td>nan</td><td>nan</td><td>-2147483648</td><td>nan</td><td>nan</td><td>nan</td><td>-2147483648</td><td>nan</td><td>nan</td><td>nan</td><td>-2147483648</td><td>nan</td><td>nan</td><td>nan</td><td>-2147483648</td><td>nan</td><td>nan</td><td>nan</td><td>-2147483648</td><td>nan</td><td>nan</td><td>nan</td><td>-2147483648</td><td>nan</td><td>nan</td><td>nan</td><td>-2147483648</td><td>nan</td><td>nan</td><td>nan</td><td>-2147483648</td><td>nan</td><td>nan</td><td>nan</td><td>-2147483648</td><td>nan</td><td>nan</td><td>nan</td><td>-2147483648</td><td>nan</td><td>nan</td><td>nan</td><td>-2147483648</td><td>nan</td><td>nan</td><td>nan</td><td>-2147483648</td><td>nan</td><td>nan</td><td>nan</td><td>-2147483648</td><td>nan</td><td>nan</td><td>nan</td><td>-2147483648</td><td>nan</td><td>nan</td><td>nan</td><td>-2147483648</td><td>nan</td><td>nan</td><td>nan</td><td>-2147483648</td><td>nan</td><td>nan</td><td>nan</td><td>-2147483648</td><td>nan</td><td>nan</td><td>nan</td><td>-2147483648</td><td>nan</td><td>nan</td><td>nan</td><td>-2147483648</td><td>nan</td><td>nan</td><td>nan</td><td>-2147483648</td><td>nan</td><td>nan</td><td>nan</td><td>-2147483648</td><td>nan</td><td>nan</td><td>nan</td><td>-2147483648</td><td>nan</td><td>nan</td><td>nan</td><td>-2147483648</td><td>nan</td><td>nan</td><td>nan</td><td>-2147483648</td><td>nan</td><td>nan</td><td>nan</td><td>-2147483648</td><td>nan</td><td>nan</td><td>nan</td><td>-2147483648</td><td>nan</td><td>nan</td><td>nan</td><td>-2147483648</td><td>nan</td><td>nan</td><td>nan</td><td>-2147483648</td><td>nan</td><td>nan</td><td>nan</td><td>-2147483648</td></tr>\n",
       "<tr><td>200801005101085</td><td>00000048-5347212</td><td>nan</td><td>nan</td><td>nan</td><td>nan</td><td>nan</td><td>nan</td><td>nan</td><td>nan</td><td>nan</td><td>nan</td><td>nan</td><td>nan</td><td>nan</td><td>nan</td><td>nan</td><td>nan</td><td>nan</td><td>nan</td><td>nan</td><td>nan</td><td>nan</td><td>nan</td><td>-2147483648</td><td>nan</td><td>nan</td><td>nan</td><td>-2147483648</td><td>nan</td><td>nan</td><td>nan</td><td>-2147483648</td><td>nan</td><td>nan</td><td>nan</td><td>-2147483648</td><td>nan</td><td>nan</td><td>nan</td><td>-2147483648</td><td>nan</td><td>nan</td><td>nan</td><td>-2147483648</td><td>nan</td><td>nan</td><td>nan</td><td>-2147483648</td><td>nan</td><td>nan</td><td>nan</td><td>-2147483648</td><td>nan</td><td>nan</td><td>nan</td><td>-2147483648</td><td>nan</td><td>nan</td><td>nan</td><td>-2147483648</td><td>nan</td><td>nan</td><td>nan</td><td>-2147483648</td><td>nan</td><td>nan</td><td>nan</td><td>-2147483648</td><td>nan</td><td>nan</td><td>nan</td><td>-2147483648</td><td>nan</td><td>nan</td><td>nan</td><td>-2147483648</td><td>nan</td><td>nan</td><td>nan</td><td>-2147483648</td><td>nan</td><td>nan</td><td>nan</td><td>-2147483648</td><td>nan</td><td>nan</td><td>nan</td><td>-2147483648</td><td>nan</td><td>nan</td><td>nan</td><td>-2147483648</td><td>nan</td><td>nan</td><td>nan</td><td>-2147483648</td><td>nan</td><td>nan</td><td>nan</td><td>-2147483648</td><td>nan</td><td>nan</td><td>nan</td><td>-2147483648</td><td>nan</td><td>nan</td><td>nan</td><td>-2147483648</td><td>nan</td><td>nan</td><td>nan</td><td>-2147483648</td><td>nan</td><td>nan</td><td>nan</td><td>-2147483648</td><td>nan</td><td>nan</td><td>nan</td><td>-2147483648</td><td>nan</td><td>nan</td><td>nan</td><td>-2147483648</td><td>nan</td><td>nan</td><td>nan</td><td>-2147483648</td><td>nan</td><td>nan</td><td>nan</td><td>-2147483648</td><td>nan</td><td>nan</td><td>nan</td><td>-2147483648</td><td>nan</td><td>nan</td><td>nan</td><td>-2147483648</td><td>nan</td><td>nan</td><td>nan</td><td>-2147483648</td></tr>\n",
       "<tr><td>200801005101373</td><td>00000094-5328185</td><td>nan</td><td>nan</td><td>nan</td><td>nan</td><td>nan</td><td>nan</td><td>nan</td><td>nan</td><td>nan</td><td>nan</td><td>nan</td><td>nan</td><td>nan</td><td>nan</td><td>nan</td><td>nan</td><td>nan</td><td>nan</td><td>nan</td><td>nan</td><td>nan</td><td>nan</td><td>-2147483648</td><td>nan</td><td>nan</td><td>nan</td><td>-2147483648</td><td>nan</td><td>nan</td><td>nan</td><td>-2147483648</td><td>nan</td><td>nan</td><td>nan</td><td>-2147483648</td><td>nan</td><td>nan</td><td>nan</td><td>-2147483648</td><td>nan</td><td>nan</td><td>nan</td><td>-2147483648</td><td>nan</td><td>nan</td><td>nan</td><td>-2147483648</td><td>nan</td><td>nan</td><td>nan</td><td>-2147483648</td><td>nan</td><td>nan</td><td>nan</td><td>-2147483648</td><td>nan</td><td>nan</td><td>nan</td><td>-2147483648</td><td>nan</td><td>nan</td><td>nan</td><td>-2147483648</td><td>nan</td><td>nan</td><td>nan</td><td>-2147483648</td><td>nan</td><td>nan</td><td>nan</td><td>-2147483648</td><td>nan</td><td>nan</td><td>nan</td><td>-2147483648</td><td>nan</td><td>nan</td><td>nan</td><td>-2147483648</td><td>nan</td><td>nan</td><td>nan</td><td>-2147483648</td><td>nan</td><td>nan</td><td>nan</td><td>-2147483648</td><td>nan</td><td>nan</td><td>nan</td><td>-2147483648</td><td>nan</td><td>nan</td><td>nan</td><td>-2147483648</td><td>nan</td><td>nan</td><td>nan</td><td>-2147483648</td><td>nan</td><td>nan</td><td>nan</td><td>-2147483648</td><td>nan</td><td>nan</td><td>nan</td><td>-2147483648</td><td>nan</td><td>nan</td><td>nan</td><td>-2147483648</td><td>nan</td><td>nan</td><td>nan</td><td>-2147483648</td><td>nan</td><td>nan</td><td>nan</td><td>-2147483648</td><td>nan</td><td>nan</td><td>nan</td><td>-2147483648</td><td>nan</td><td>nan</td><td>nan</td><td>-2147483648</td><td>nan</td><td>nan</td><td>nan</td><td>-2147483648</td><td>nan</td><td>nan</td><td>nan</td><td>-2147483648</td><td>nan</td><td>nan</td><td>nan</td><td>-2147483648</td><td>nan</td><td>nan</td><td>nan</td><td>-2147483648</td></tr>\n",
       "</table>"
      ],
      "text/plain": [
       "<Table masked=True length=10>\n",
       "   sobject_id       tmass_id        teff   ... e_eu_fe c_eu_fe  flag_eu_fe\n",
       "     int64          bytes16       float32  ... float32 float32    int32   \n",
       "--------------- ---------------- --------- ... ------- ------- -----------\n",
       "210115002201239            VESTA  5725.561 ...     nan     nan           2\n",
       "200801005101309 23595997-5257480 5383.9023 ...     nan     nan           2\n",
       "170910004101274 00000011+0522500  4332.174 ...     nan     nan           2\n",
       "161116001701016 00000024-5742487  5560.065 ...     nan     nan           2\n",
       "161116001701360 00000023-5709445 4886.5977 ...     nan     nan           2\n",
       "140713004601361 00000025-7541166       nan ...     nan     nan -2147483648\n",
       "140708007101175 00000038-7756270       nan ...     nan     nan -2147483648\n",
       "161118002501226 00000040-5114382       nan ...     nan     nan -2147483648\n",
       "200801005101085 00000048-5347212       nan ...     nan     nan -2147483648\n",
       "200801005101373 00000094-5328185       nan ...     nan     nan -2147483648"
      ]
     },
     "execution_count": 17,
     "metadata": {},
     "output_type": "execute_result"
    }
   ],
   "source": [
    "unique_catalog"
   ]
  },
  {
   "cell_type": "code",
   "execution_count": null,
   "id": "precise-ireland",
   "metadata": {},
   "outputs": [],
   "source": []
  }
 ],
 "metadata": {
  "kernelspec": {
   "display_name": "Python 3",
   "language": "python",
   "name": "python3"
  },
  "language_info": {
   "codemirror_mode": {
    "name": "ipython",
    "version": 3
   },
   "file_extension": ".py",
   "mimetype": "text/x-python",
   "name": "python",
   "nbconvert_exporter": "python",
   "pygments_lexer": "ipython3",
   "version": "3.8.2"
  }
 },
 "nbformat": 4,
 "nbformat_minor": 5
}
