{
 "cells": [
  {
   "cell_type": "code",
   "execution_count": 30,
   "id": "c54869da",
   "metadata": {},
   "outputs": [
    {
     "name": "stdout",
     "output_type": "stream",
     "text": [
      "'160327',\n",
      "'160419',\n",
      "'200903',\n",
      "'211114',\n",
      "rsync -azu -P galah@galahobs.datacentral.org.au:/galah/obs/reductions/Iraf_6.0/160327/spectra/com/com.tar.gz 160327_com.tar.gz\n",
      "rsync -azu -P galah@galahobs.datacentral.org.au:/galah/obs/reductions/Iraf_6.0/160419/spectra/com/com.tar.gz 160419_com.tar.gz\n",
      "rsync -azu -P galah@galahobs.datacentral.org.au:/galah/obs/reductions/Iraf_6.0/200903/spectra/com/com.tar.gz 200903_com.tar.gz\n",
      "rsync -azu -P galah@galahobs.datacentral.org.au:/galah/obs/reductions/Iraf_6.0/211114/spectra/com/com.tar.gz 211114_com.tar.gz\n",
      "done\n"
     ]
    }
   ],
   "source": [
    "done_220407 = [\n",
    "    '131216','131217','131220',\n",
    "    '140111','140112','140113','140114','140115','140116','140117',\n",
    "    '140209',\n",
    "    '140303','140304','140305','140307','140308','140314','140315','140316',\n",
    "    '140708','140709','140710','140713',\n",
    "    '140806','140807','140808','140811',\n",
    "    '140823','140824',\n",
    "    '141102',\n",
    "    '141202','141231',\n",
    "    '150109',\n",
    "    '150204','150210',\n",
    "    '150405',\n",
    "    '150824',\n",
    "    '150901',\n",
    "    '160106','160107',\n",
    "    '160327',\n",
    "    '160401',\n",
    "    '160923',\n",
    "    '170102',\n",
    "    '170205',\n",
    "    '170506',\n",
    "    '170828','170829','170830',\n",
    "    '171102'\n",
    "]\n",
    "\n",
    "not_available = [\n",
    "    '131118', # not available yet\n",
    "    '131119', # not available yet\n",
    "    '131123', # not available yet\n",
    "    '131218', # not available yet\n",
    "    '131120', # not available yet\n",
    "    '140712', # not available yet\n",
    "    '141101', # not available yet\n",
    "    '151224', # not available yet\n",
    "]\n",
    "\n",
    "dates = [\n",
    "'160419',\n",
    "'200903',\n",
    "'211114',\n",
    "]\n",
    "for date in dates:\n",
    "    if (date not in done_220407) & (date not in not_available):\n",
    "        print(\"'\"+date+\"',\")\n",
    "for date in dates:\n",
    "    if (date not in done_220407) & (date not in not_available):\n",
    "        print('rsync -azu -P galah@galahobs.datacentral.org.au:/galah/obs/reductions/Iraf_6.0/'+date+'/spectra/com/com.tar.gz '+date+'_com.tar.gz')\n",
    "print('done')"
   ]
  },
  {
   "cell_type": "code",
   "execution_count": null,
   "id": "8dec7621",
   "metadata": {},
   "outputs": [],
   "source": []
  },
  {
   "cell_type": "code",
   "execution_count": null,
   "id": "8225e3f1",
   "metadata": {},
   "outputs": [],
   "source": []
  }
 ],
 "metadata": {
  "kernelspec": {
   "display_name": "Python 3",
   "language": "python",
   "name": "python3"
  },
  "language_info": {
   "codemirror_mode": {
    "name": "ipython",
    "version": 3
   },
   "file_extension": ".py",
   "mimetype": "text/x-python",
   "name": "python",
   "nbconvert_exporter": "python",
   "pygments_lexer": "ipython3",
   "version": "3.7.4"
  }
 },
 "nbformat": 4,
 "nbformat_minor": 5
}
