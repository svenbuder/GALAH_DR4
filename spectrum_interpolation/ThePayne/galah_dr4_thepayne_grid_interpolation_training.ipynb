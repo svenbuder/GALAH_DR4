{
 "cells": [
  {
   "cell_type": "code",
   "execution_count": 2,
   "id": "6fc1c787",
   "metadata": {},
   "outputs": [],
   "source": [
    "# Compatibility with Python 3\n",
    "from __future__ import (absolute_import, division, print_function)\n",
    "\n",
    "try:\n",
    "    %matplotlib inline\n",
    "    %config InlineBackend.figure_format='retina'\n",
    "except:\n",
    "    pass\n",
    "\n",
    "# Basic Tools\n",
    "import numpy as np\n",
    "from astropy.table import Table\n",
    "import pickle\n",
    "import time\n",
    "import matplotlib.pyplot as plt\n",
    "import scipy.optimize as op\n",
    "import sys\n",
    "import time\n",
    "\n",
    "# The Payne, see https://github.com/tingyuansen/The_Payne for more details\n",
    "from The_Payne import training\n",
    "from The_Payne import utils"
   ]
  },
  {
   "cell_type": "code",
   "execution_count": 15,
   "id": "8938dbca",
   "metadata": {},
   "outputs": [
    {
     "data": {
      "text/plain": [
       "\"\\nChanges that need to be made to training.py in The_Payne if no CUDA is available\\n\\nif torch.cuda.is_available():\\n    dtype = torch.cuda.FloatTensor\\n    torch.set_default_tensor_type('torch.cuda.FloatTensor')\\nelse:\\n    dtype = torch.FloatTensor\\n    torch.set_default_tensor_type('torch.FloatTensor')\\n    \\nif torch.cuda.is_available():\\n    model.cuda()\\n        \\nif torch.cuda.is_available():\\n    perm = perm.cuda()\\n\""
      ]
     },
     "execution_count": 15,
     "metadata": {},
     "output_type": "execute_result"
    }
   ],
   "source": [
    "# That's how we would do it:\n",
    "# training_labels, training_spectra, validation_labels, validation_spectra = utils.load_training_data()\n",
    "\"\"\"\n",
    "Changes that need to be made to training.py in The_Payne if no CUDA is available\n",
    "\n",
    "if torch.cuda.is_available():\n",
    "    dtype = torch.cuda.FloatTensor\n",
    "    torch.set_default_tensor_type('torch.cuda.FloatTensor')\n",
    "else:\n",
    "    dtype = torch.FloatTensor\n",
    "    torch.set_default_tensor_type('torch.FloatTensor')\n",
    "    \n",
    "if torch.cuda.is_available():\n",
    "    model.cuda()\n",
    "        \n",
    "if torch.cuda.is_available():\n",
    "    perm = perm.cuda()\n",
    "\"\"\"\n",
    "# That's how we do it:"
   ]
  },
  {
   "cell_type": "code",
   "execution_count": 3,
   "id": "11e98660",
   "metadata": {},
   "outputs": [
    {
     "name": "stdout",
     "output_type": "stream",
     "text": [
      "Using default grid index  1259\n"
     ]
    }
   ],
   "source": [
    "# choose one grid_index\n",
    "try:\n",
    "    grid_index = int(sys.argv[1])\n",
    "    print('Using Grid index ',grid_index)\n",
    "except:\n",
    "    grid_index = 1931\n",
    "    grid_index = 1259\n",
    "    print('Using default grid index ',grid_index)"
   ]
  },
  {
   "cell_type": "code",
   "execution_count": 82,
   "id": "b0d7fad8",
   "metadata": {},
   "outputs": [
    {
     "name": "stdout",
     "output_type": "stream",
     "text": [
      "Succesfully read in all information needed for grid index 1259 corresponding to 4250_1.50_-0.50\n"
     ]
    }
   ],
   "source": [
    "try:\n",
    "    grids = Table.read('../../spectrum_grids/galah_dr4_model_trainingset_gridpoints.fits')\n",
    "    teff_logg_feh_name = str(int(grids['teff_subgrid'][grid_index]))+'_'+\"{:.2f}\".format(grids['logg_subgrid'][grid_index])+'_'+\"{:.2f}\".format(grids['fe_h_subgrid'][grid_index])\n",
    "\n",
    "    training_set = Table.read('../training_input/'+teff_logg_feh_name+'/galah_dr4_trainingset_'+teff_logg_feh_name+'_incl_vsini.fits')\n",
    "    masks = Table.read('../training_input/'+teff_logg_feh_name+'/'+teff_logg_feh_name+'_masks.fits')\n",
    "\n",
    "    wavelength_file = '../training_input/galah_dr4_3dbin_wavelength_array.pickle'\n",
    "    flux_ivar_file = '../training_input/'+teff_logg_feh_name+'/galah_dr4_trainingset_'+teff_logg_feh_name+'_incl_vsini_flux_ivar.pickle'\n",
    "\n",
    "    flux_ivar_file_opener = open(flux_ivar_file,'rb')\n",
    "    training_set_flux = pickle.load(flux_ivar_file_opener)\n",
    "    flux_ivar_file_opener.close()\n",
    "    wavelength_file_opener = open(wavelength_file,'rb')\n",
    "    wavelength_array = pickle.load(wavelength_file_opener)\n",
    "    wavelength_file_opener.close()\n",
    "\n",
    "    print('Succesfully read in all information needed for grid index '+str(grid_index)+' corresponding to '+teff_logg_feh_name)\n",
    "\n",
    "except:\n",
    "    raise ValueError('There are only '+str(len(grids))+' entries within the grid')"
   ]
  },
  {
   "cell_type": "code",
   "execution_count": 83,
   "id": "35d2ce35",
   "metadata": {},
   "outputs": [
    {
     "name": "stdout",
     "output_type": "stream",
     "text": [
      "Labels to be fitted:  36\n",
      "('teff', 'logg', 'fe_h', 'vmic', 'vsini', 'li_fe', 'c_fe', 'n_fe', 'o_fe', 'na_fe', 'mg_fe', 'al_fe', 'si_fe', 'k_fe', 'ca_fe', 'sc_fe', 'ti_fe', 'v_fe', 'cr_fe', 'mn_fe', 'co_fe', 'ni_fe', 'cu_fe', 'zn_fe', 'rb_fe', 'sr_fe', 'y_fe', 'zr_fe', 'mo_fe', 'ru_fe', 'ba_fe', 'la_fe', 'ce_fe', 'nd_fe', 'sm_fe', 'eu_fe')\n"
     ]
    }
   ],
   "source": [
    "labels = tuple(training_set.keys()[2:-1])\n",
    "\n",
    "print('Labels to be fitted: ',len(labels))\n",
    "print(labels)\n",
    "\n",
    "training_labels = np.array([training_set[label] for label in labels]).T"
   ]
  },
  {
   "cell_type": "code",
   "execution_count": 84,
   "id": "e3c251db",
   "metadata": {},
   "outputs": [
    {
     "name": "stdout",
     "output_type": "stream",
     "text": [
      "Will create The Payne model to be stored at \n",
      "models/galah_dr4_thepayne_model_4250_1.50_-0.50_36labels.model\n"
     ]
    }
   ],
   "source": [
    "model_file = 'galah_dr4_thepayne_model_'+teff_logg_feh_name+'_'+str(len(labels))+'labels'\n",
    "\n",
    "print('Will create The Payne model to be stored at ')\n",
    "print('models/'+model_file+'.model')"
   ]
  },
  {
   "cell_type": "code",
   "execution_count": 86,
   "id": "a689f033",
   "metadata": {},
   "outputs": [],
   "source": [
    "from sklearn.model_selection import train_test_split\n",
    "\n",
    "train, test = train_test_split(np.arange(np.shape(training_set_flux)[0]), test_size=0.2)"
   ]
  },
  {
   "cell_type": "code",
   "execution_count": null,
   "id": "736881af",
   "metadata": {},
   "outputs": [
    {
     "name": "stderr",
     "output_type": "stream",
     "text": [
      "/Users/svenbuder/anaconda3/lib/python3.7/site-packages/The_Payne-1.1-py3.7.egg/The_Payne/radam.py:48: UserWarning: This overload of addcmul_ is deprecated:\n",
      "\taddcmul_(Number value, Tensor tensor1, Tensor tensor2)\n",
      "Consider using one of the following signatures instead:\n",
      "\taddcmul_(Tensor tensor1, Tensor tensor2, *, Number value) (Triggered internally at  /Users/distiller/project/conda/conda-bld/pytorch_1640812107944/work/torch/csrc/utils/python_arg_parser.cpp:1050.)\n",
      "  exp_avg_sq.mul_(beta2).addcmul_(1 - beta2, grad, grad)\n"
     ]
    },
    {
     "name": "stdout",
     "output_type": "stream",
     "text": [
      "iter 0: training loss = 8777.473 validation loss = 8659.254\n"
     ]
    }
   ],
   "source": [
    "training.neural_net(\n",
    "    training_labels = training_labels[train,:], \n",
    "    training_spectra = training_set_flux[train,:],\n",
    "    validation_labels = training_labels[test,:], \n",
    "    validation_spectra = training_set_flux[test,:],\n",
    "    num_neurons=300,\n",
    "    learning_rate=1e-4,\n",
    "    num_steps=1e4,\n",
    "    batch_size=np.min([256,np.int(np.shape(training_labels)[1]/2.)]), \n",
    "    num_pixel=np.shape(training_set_flux[0])[0],\n",
    "    training_loss_name = 'models/'+model_file+'_loss.npz',\n",
    "    payne_model_name = 'models/'+model_file+'.npz'\n",
    "    )"
   ]
  }
 ],
 "metadata": {
  "kernelspec": {
   "display_name": "Python 3",
   "language": "python",
   "name": "python3"
  },
  "language_info": {
   "codemirror_mode": {
    "name": "ipython",
    "version": 3
   },
   "file_extension": ".py",
   "mimetype": "text/x-python",
   "name": "python",
   "nbconvert_exporter": "python",
   "pygments_lexer": "ipython3",
   "version": "3.7.4"
  }
 },
 "nbformat": 4,
 "nbformat_minor": 5
}
