{
 "cells": [
  {
   "cell_type": "code",
   "execution_count": 1,
   "id": "38b9c842",
   "metadata": {},
   "outputs": [],
   "source": [
    "# Compatibility with Python 3\n",
    "from __future__ import (absolute_import, division, print_function)\n",
    "\n",
    "try:\n",
    "    %matplotlib inline\n",
    "    %config InlineBackend.figure_format='retina'\n",
    "except:\n",
    "    pass\n",
    "\n",
    "# Basic Tools\n",
    "import numpy as np\n",
    "from astropy.table import Table\n",
    "import pickle\n",
    "import time\n",
    "import matplotlib.pyplot as plt\n",
    "import scipy.optimize as op\n",
    "import sys\n",
    "import time\n",
    "\n",
    "# The Payne, see https://github.com/tingyuansen/The_Payne for more details\n",
    "from The_Payne import training\n",
    "from The_Payne import utils\n",
    "from The_Payne import spectral_model"
   ]
  },
  {
   "cell_type": "code",
   "execution_count": 2,
   "id": "3b567d6b",
   "metadata": {},
   "outputs": [
    {
     "data": {
      "text/plain": [
       "\"\\nChanges that need to be made to training.py in The_Payne if no CUDA is available\\n\\nif torch.cuda.is_available():\\n    dtype = torch.cuda.FloatTensor\\n    torch.set_default_tensor_type('torch.cuda.FloatTensor')\\nelse:\\n    dtype = torch.FloatTensor\\n    torch.set_default_tensor_type('torch.FloatTensor')\\n    \\nif torch.cuda.is_available():\\n    model.cuda()\\n        \\nif torch.cuda.is_available():\\n    perm = perm.cuda()\\n\""
      ]
     },
     "execution_count": 2,
     "metadata": {},
     "output_type": "execute_result"
    }
   ],
   "source": [
    "# That's how we would do it:\n",
    "# training_labels, training_spectra, validation_labels, validation_spectra = utils.load_training_data()\n",
    "\"\"\"\n",
    "Changes that need to be made to training.py in The_Payne if no CUDA is available\n",
    "\n",
    "if torch.cuda.is_available():\n",
    "    dtype = torch.cuda.FloatTensor\n",
    "    torch.set_default_tensor_type('torch.cuda.FloatTensor')\n",
    "else:\n",
    "    dtype = torch.FloatTensor\n",
    "    torch.set_default_tensor_type('torch.FloatTensor')\n",
    "    \n",
    "if torch.cuda.is_available():\n",
    "    model.cuda()\n",
    "        \n",
    "if torch.cuda.is_available():\n",
    "    perm = perm.cuda()\n",
    "\"\"\"\n",
    "# That's how we do it:"
   ]
  },
  {
   "cell_type": "code",
   "execution_count": 5,
   "id": "e745323a",
   "metadata": {},
   "outputs": [
    {
     "name": "stdout",
     "output_type": "stream",
     "text": [
      "Using default grid index  1931\n"
     ]
    }
   ],
   "source": [
    "# choose one grid_index\n",
    "try:\n",
    "    grid_index = int(sys.argv[1])\n",
    "    print('Using Grid index ',grid_index)\n",
    "except:\n",
    "    grid_index = 1931\n",
    "    #grid_index = 1259\n",
    "    print('Using default grid index ',grid_index)"
   ]
  },
  {
   "cell_type": "code",
   "execution_count": 6,
   "id": "d5177d29",
   "metadata": {},
   "outputs": [
    {
     "name": "stdout",
     "output_type": "stream",
     "text": [
      "Succesfully read in all information needed for grid index 1931 corresponding to 5750_4.50_0.00\n"
     ]
    }
   ],
   "source": [
    "try:\n",
    "    grids = Table.read('../../spectrum_grids/galah_dr4_model_trainingset_gridpoints.fits')\n",
    "    teff_logg_feh_name = str(int(grids['teff_subgrid'][grid_index]))+'_'+\"{:.2f}\".format(grids['logg_subgrid'][grid_index])+'_'+\"{:.2f}\".format(grids['fe_h_subgrid'][grid_index])\n",
    "\n",
    "    training_set = Table.read('../training_input/'+teff_logg_feh_name+'/galah_dr4_trainingset_'+teff_logg_feh_name+'_incl_vsini.fits')\n",
    "    masks = Table.read('../training_input/'+teff_logg_feh_name+'/'+teff_logg_feh_name+'_masks.fits')\n",
    "\n",
    "    wavelength_file = '../training_input/galah_dr4_3dbin_wavelength_array.pickle'\n",
    "    flux_ivar_file = '../training_input/'+teff_logg_feh_name+'/galah_dr4_trainingset_'+teff_logg_feh_name+'_incl_vsini_flux_ivar.pickle'\n",
    "\n",
    "    flux_ivar_file_opener = open(flux_ivar_file,'rb')\n",
    "    training_set_flux = pickle.load(flux_ivar_file_opener)\n",
    "    flux_ivar_file_opener.close()\n",
    "    wavelength_file_opener = open(wavelength_file,'rb')\n",
    "    wavelength_array = pickle.load(wavelength_file_opener)\n",
    "    wavelength_file_opener.close()\n",
    "\n",
    "    print('Succesfully read in all information needed for grid index '+str(grid_index)+' corresponding to '+teff_logg_feh_name)\n",
    "\n",
    "except:\n",
    "    raise ValueError('There are only '+str(len(grids))+' entries within the grid')"
   ]
  },
  {
   "cell_type": "code",
   "execution_count": 7,
   "id": "f9ca00c1",
   "metadata": {},
   "outputs": [
    {
     "name": "stdout",
     "output_type": "stream",
     "text": [
      "Labels to be fitted:  36\n",
      "('teff', 'logg', 'fe_h', 'vmic', 'vsini', 'li_fe', 'c_fe', 'n_fe', 'o_fe', 'na_fe', 'mg_fe', 'al_fe', 'si_fe', 'k_fe', 'ca_fe', 'sc_fe', 'ti_fe', 'v_fe', 'cr_fe', 'mn_fe', 'co_fe', 'ni_fe', 'cu_fe', 'zn_fe', 'rb_fe', 'sr_fe', 'y_fe', 'zr_fe', 'mo_fe', 'ru_fe', 'ba_fe', 'la_fe', 'ce_fe', 'nd_fe', 'sm_fe', 'eu_fe')\n"
     ]
    }
   ],
   "source": [
    "labels = tuple(training_set.keys()[2:-1])\n",
    "\n",
    "print('Labels to be fitted: ',len(labels))\n",
    "print(labels)\n",
    "\n",
    "training_labels = np.array([training_set[label] for label in labels]).T"
   ]
  },
  {
   "cell_type": "code",
   "execution_count": 8,
   "id": "e10566b6",
   "metadata": {},
   "outputs": [
    {
     "name": "stdout",
     "output_type": "stream",
     "text": [
      "Will create The Payne model to be stored at \n",
      "models/galah_dr4_thepayne_model_5750_4.50_0.00_36labels.model\n"
     ]
    }
   ],
   "source": [
    "model_file = 'galah_dr4_thepayne_model_'+teff_logg_feh_name+'_'+str(len(labels))+'labels'\n",
    "\n",
    "print('Will create The Payne model to be stored at ')\n",
    "print('models/'+model_file+'.model')"
   ]
  },
  {
   "cell_type": "code",
   "execution_count": 9,
   "id": "38ab13a6",
   "metadata": {},
   "outputs": [],
   "source": [
    "from sklearn.model_selection import train_test_split\n",
    "\n",
    "# We will split the data set into 90% training set and 10% validation set\n",
    "# To allow to reproduce that, we will use a reproducable random_state computed from teff/logg/fe_h\n",
    "train, test = train_test_split(np.arange(np.shape(training_set_flux)[0]), test_size=0.1, random_state=int(grids['teff_subgrid'][grid_index])+int(10*grids['logg_subgrid'][grid_index])+int(100*grids['fe_h_subgrid'][grid_index]))"
   ]
  },
  {
   "cell_type": "code",
   "execution_count": null,
   "id": "ed9bdd48",
   "metadata": {},
   "outputs": [
    {
     "name": "stdout",
     "output_type": "stream",
     "text": [
      "iter 0: training loss = 8658.089 validation loss = 8782.117\n",
      "iter 100: training loss = 627.962 validation loss = 599.448\n",
      "iter 200: training loss = 363.227 validation loss = 395.462\n",
      "iter 300: training loss = 240.085 validation loss = 266.870\n",
      "iter 400: training loss = 174.661 validation loss = 195.797\n",
      "iter 500: training loss = 131.180 validation loss = 165.311\n",
      "iter 600: training loss = 119.414 validation loss = 150.426\n",
      "iter 700: training loss = 122.087 validation loss = 139.917\n",
      "iter 800: training loss = 104.188 validation loss = 133.998\n",
      "iter 900: training loss = 109.723 validation loss = 126.625\n",
      "iter 1000: training loss = 95.203 validation loss = 123.533\n",
      "iter 1100: training loss = 93.757 validation loss = 119.507\n",
      "iter 1200: training loss = 80.799 validation loss = 120.945\n",
      "iter 1300: training loss = 86.031 validation loss = 115.377\n",
      "iter 1400: training loss = 86.082 validation loss = 111.628\n",
      "iter 1500: training loss = 82.479 validation loss = 116.250\n",
      "iter 1600: training loss = 82.874 validation loss = 109.524\n",
      "iter 1700: training loss = 82.058 validation loss = 110.236\n",
      "iter 1800: training loss = 76.932 validation loss = 109.502\n",
      "iter 1900: training loss = 73.517 validation loss = 108.228\n",
      "iter 2000: training loss = 76.482 validation loss = 106.946\n",
      "iter 2100: training loss = 74.274 validation loss = 104.054\n",
      "iter 2200: training loss = 81.385 validation loss = 105.226\n",
      "iter 2300: training loss = 72.547 validation loss = 104.556\n",
      "iter 2400: training loss = 72.930 validation loss = 101.075\n",
      "iter 2500: training loss = 77.447 validation loss = 102.413\n",
      "iter 2600: training loss = 76.583 validation loss = 102.817\n",
      "iter 2700: training loss = 71.209 validation loss = 99.100\n",
      "iter 2800: training loss = 68.364 validation loss = 102.774\n",
      "iter 2900: training loss = 72.558 validation loss = 98.167\n",
      "iter 3000: training loss = 70.724 validation loss = 101.890\n",
      "iter 3100: training loss = 65.072 validation loss = 96.189\n",
      "iter 3200: training loss = 66.802 validation loss = 99.896\n",
      "iter 3300: training loss = 63.996 validation loss = 97.492\n",
      "iter 3400: training loss = 71.768 validation loss = 95.452\n",
      "iter 3500: training loss = 65.482 validation loss = 97.221\n",
      "iter 3600: training loss = 64.833 validation loss = 94.238\n",
      "iter 3700: training loss = 65.997 validation loss = 94.995\n",
      "iter 3800: training loss = 68.821 validation loss = 94.350\n"
     ]
    }
   ],
   "source": [
    "training.neural_net(\n",
    "    training_labels = training_labels[train,:], \n",
    "    training_spectra = training_set_flux[train,:],\n",
    "    validation_labels = training_labels[test,:], \n",
    "    validation_spectra = training_set_flux[test,:],\n",
    "    num_neurons=300,\n",
    "    learning_rate=1e-4,\n",
    "    num_steps=1e4,\n",
    "    batch_size=128,#np.min([256,np.int(np.shape(training_labels)[1]/2.)]), \n",
    "    num_pixel=np.shape(training_set_flux[0])[0],\n",
    "    training_loss_name = 'models/'+model_file+'_loss.npz',\n",
    "    payne_model_name = 'models/'+model_file+'.npz'\n",
    "    )"
   ]
  },
  {
   "cell_type": "code",
   "execution_count": 12,
   "id": "4a776dff",
   "metadata": {},
   "outputs": [
    {
     "data": {
      "text/plain": [
       "Text(0, 0.5, 'Loss')"
      ]
     },
     "execution_count": 12,
     "metadata": {},
     "output_type": "execute_result"
    },
    {
     "data": {
      "image/png": "[encoded data removed]",
      "text/plain": [
       "<Figure size 1008x288 with 1 Axes>"
      ]
     },
     "metadata": {
      "image/png": {
       "height": 272,
       "width": 844
      },
      "needs_background": "light"
     },
     "output_type": "display_data"
    }
   ],
   "source": [
    "tmp = np.load('loss_functions/'+model_file+'_loss.npz') # the output array also stores the training and validation loss\n",
    "training_loss = tmp[\"training_loss\"]\n",
    "validation_loss = tmp[\"validation_loss\"]\n",
    "\n",
    "plt.figure(figsize=(14, 4))\n",
    "plt.plot(np.arange(training_loss.size)*100, training_loss, 'k', lw=0.5, label = 'Training set')\n",
    "plt.plot(np.arange(training_loss.size)*100, validation_loss, 'r', lw=0.5, label = 'Validation set')\n",
    "plt.legend(loc = 'best', frameon = False, fontsize= 18)\n",
    "plt.yscale('log')\n",
    "#plt.ylim([5,100])\n",
    "plt.xlabel(\"Step\", size=20)\n",
    "plt.ylabel(\"Loss\", size=20)"
   ]
  },
  {
   "cell_type": "code",
   "execution_count": 13,
   "id": "d3d5d97d",
   "metadata": {},
   "outputs": [],
   "source": [
    "tmp = np.load('models/'+model_file+'.npz')\n",
    "w_array_0 = tmp[\"w_array_0\"]\n",
    "w_array_1 = tmp[\"w_array_1\"]\n",
    "w_array_2 = tmp[\"w_array_2\"]\n",
    "b_array_0 = tmp[\"b_array_0\"]\n",
    "b_array_1 = tmp[\"b_array_1\"]\n",
    "b_array_2 = tmp[\"b_array_2\"]\n",
    "x_min = tmp[\"x_min\"]\n",
    "x_max = tmp[\"x_max\"]\n",
    "tmp.close()\n",
    "NN_coeffs = (w_array_0, w_array_1, w_array_2, b_array_0, b_array_1, b_array_2, x_min, x_max)"
   ]
  },
  {
   "cell_type": "markdown",
   "id": "0e499a2e",
   "metadata": {},
   "source": [
    "# For validation purposes, we can recreate some training spectra"
   ]
  },
  {
   "cell_type": "code",
   "execution_count": 16,
   "id": "1d578b2a",
   "metadata": {
    "code_folding": [
     0
    ]
   },
   "outputs": [],
   "source": [
    "plot_validation = False"
   ]
  },
  {
   "cell_type": "code",
   "execution_count": 18,
   "id": "353fdf65",
   "metadata": {
    "code_folding": [
     0,
     27
    ]
   },
   "outputs": [],
   "source": [
    "def load_dr3_lines(mode_dr3_path = '../../spectrum_analysis/spectrum_masks/important_lines'):\n",
    "    \"\"\"\n",
    "    \n",
    "    \"\"\"\n",
    "    important_lines = [\n",
    "        [4861.3230,r'H$_\\beta$',r'H$_\\beta$'],\n",
    "        [6562.7970,r'H$_\\alpha$',r'H$_\\alpha$']\n",
    "    ]\n",
    "    \n",
    "    important_molecules = [\n",
    "        [4710,4740,'Mol. C2','Mol. C2'],\n",
    "        [7594,7695,'Mol. O2 (tell.)','Mol. O2 (tell.)']\n",
    "        ]\n",
    "\n",
    "    print('Trying to read in list of elements run as part of DR3')\n",
    "    line, wave = np.loadtxt(mode_dr3_path,usecols=(0,1),unpack=True,dtype=str, comments=';')\n",
    "\n",
    "    for each_index in range(len(line)):\n",
    "        if line[each_index] != 'Sp':\n",
    "            if len(line[each_index]) < 5:\n",
    "                important_lines.append([float(wave[each_index]), line[each_index], line[each_index]])\n",
    "            else:\n",
    "                important_lines.append([float(wave[each_index]), line[each_index][:-4], line[each_index]])\n",
    "    print('Success')\n",
    "        \n",
    "    return(important_lines,important_molecules)\n",
    "\n",
    "def plot_spectrum(wave,flux,flux_uncertainty,title_text):\n",
    "    \"\"\"\n",
    "    Let's plot a spectrum, that is, flux over wavelenth\n",
    "    \n",
    "    We will plot 12 different subplot ranges (3 for each CCD) to allow better assessment of the results\n",
    "    \n",
    "    INPUT:\n",
    "    wave : 1D-array with N pixels\n",
    "    flux : 1D-array with N pixels or (M,N)-array with N pixels for M spectra (e.g. M = 2 for observed and synthetic spectrum)\n",
    "    \"\"\"\n",
    "    \n",
    "    # Let's define the wavelength beginnings and ends for each suplot\n",
    "    subplot_wavelengths = np.array([\n",
    "        [4700,4775],\n",
    "        [4770,4850],\n",
    "        [4840,4900],\n",
    "        [5600,5730],\n",
    "        [5720,5805],\n",
    "        [5795,6000],\n",
    "        [6400,6600],\n",
    "        [6590,6670],\n",
    "        [6660,6739],\n",
    "        [7600,7720],\n",
    "        [7710,7820],\n",
    "        [7810,7900]\n",
    "    ])\n",
    "    \n",
    "    # How many subplots will we need?\n",
    "    nr_subplots = np.shape(subplot_wavelengths)[0]\n",
    "    \n",
    "    f, gs = plt.subplots(nr_subplots,1,figsize=(8.3,11.7),sharey=True)\n",
    "    \n",
    "    try:\n",
    "        # test if several spectra fed into flux\n",
    "        dummy = np.shape(flux)[1] == len(wave)\n",
    "        flux_array_indices = np.shape(flux)[0]\n",
    "        flux = np.array(flux)\n",
    "    except:\n",
    "        flux_array_indices = 1\n",
    "\n",
    "    # Let's loop over the subplots\n",
    "    for subplot in range(nr_subplots):\n",
    "        \n",
    "        # Which part of the observed/model spectrum is in our subplot wavelength range?\n",
    "        in_subplot_wavelength_range = (wave > subplot_wavelengths[subplot,0]) & (wave < subplot_wavelengths[subplot,1])\n",
    "\n",
    "        ax = gs[subplot]\n",
    "        \n",
    "        # if only 1 spectrum\n",
    "        if flux_array_indices == 1:\n",
    "            ax.plot(wave[in_subplot_wavelength_range],flux[in_subplot_wavelength_range],lw=0.5);\n",
    "        else:\n",
    "            for index in range(flux_array_indices):\n",
    "                if index == 0:\n",
    "                    ax.plot(wave[in_subplot_wavelength_range],flux[0,in_subplot_wavelength_range],lw=0.5,c='k',label='data');\n",
    "                    ax.plot(wave[in_subplot_wavelength_range],1.05 + flux_uncertainty[in_subplot_wavelength_range],lw=0.5,c='C3',label='scatter');\n",
    "                if index == 1:\n",
    "                    ax.plot(wave[in_subplot_wavelength_range],flux[index,in_subplot_wavelength_range],lw=0.5,c='C0',label='model (initial)');\n",
    "                    ax.plot(wave[in_subplot_wavelength_range],1.05 + np.abs(flux[0,in_subplot_wavelength_range]-flux[index,in_subplot_wavelength_range]),lw=0.5,c='C4',label='residuals');\n",
    "            if subplot == nr_subplots-1:\n",
    "                ax.legend(ncol=2,loc='lower right',fontsize=6)\n",
    "                \n",
    "        maski = 0\n",
    "        for (mask_beginning, mask_end) in zip(masks['mask_begin'],masks['mask_end']):\n",
    "            if (mask_beginning > wave[in_subplot_wavelength_range][0]) & (mask_end < wave[in_subplot_wavelength_range][-1]):\n",
    "                if maski == 0:\n",
    "                    ax.axvspan(mask_beginning,mask_end,color='C0',alpha=0.1,label='Mask')\n",
    "                    maski += 1\n",
    "                else:\n",
    "                    ax.axvspan(mask_beginning,mask_end,color='C0',alpha=0.1)\n",
    "        each_index = 0 \n",
    "        for each_element in important_lines:\n",
    "            if (each_element[0] > subplot_wavelengths[subplot,0]) & (each_element[0] < subplot_wavelengths[subplot,1]):\n",
    "            \n",
    "                offset = -0.05+0.1*(each_index%3)\n",
    "                each_index+=1\n",
    "                ax.axvline(each_element[0],lw=0.2,ls='dashed',c='r')\n",
    "                if each_element[1] in ['Li','C','O']:\n",
    "                    ax.text(each_element[0],offset,each_element[1],fontsize=10,ha='center',color='pink')\n",
    "                elif each_element[1] in ['Mg','Si','Ca','Ti','Ti2']:\n",
    "                    ax.text(each_element[0],offset,each_element[1],fontsize=10,ha='center',color='b')\n",
    "                elif each_element[1] in ['Na','Al','K']:\n",
    "                    ax.text(each_element[0],offset,each_element[1],fontsize=10,ha='center',color='orange')\n",
    "                elif each_element[1] in ['Sc','V', 'Cr','Mn', 'Fe', 'Co', 'Ni', 'Cu', 'Zn']:\n",
    "                    ax.text(each_element[0],offset,each_element[1],fontsize=10,ha='center',color='brown')\n",
    "                elif each_element[1] in ['Rb', 'Sr', 'Y', 'Zr', 'Ba', 'La', 'Ce','Mo','Ru', 'Nd', 'Sm','Eu']:\n",
    "                    ax.text(each_element[0],offset,each_element[1],fontsize=10,ha='center',color='purple')\n",
    "        ax.set_ylim(-0.1,1.2)\n",
    "        if subplot == 11:\n",
    "            ax.set_xlabel(r'Wavelength / $\\mathrm{\\AA}$')\n",
    "        ax.axhline(1.05,lw=0.5,color='k')\n",
    "        ax.set_ylabel('Flux / norm.')\n",
    "    f.suptitle(title_text)\n",
    "    plt.tight_layout(h_pad=0)\n",
    "    \n",
    "    return f\n",
    "\n",
    "def plot_validation_spectra(index):\n",
    "    \n",
    "    default_labels = (training_labels[index]-x_min)/(x_max-x_min) - 0.5\n",
    "\n",
    "    default_model = spectral_model.get_spectrum_from_neural_net(scaled_labels = default_labels, NN_coeffs = NN_coeffs)\n",
    "\n",
    "    f = plot_spectrum(\n",
    "        wavelength_array,\n",
    "        [training_set_flux[index],default_model],\n",
    "        np.zeros(len(default_model)),\n",
    "        str(index)+': '+\n",
    "        'Teff='+str(int(np.round(training_labels[index,0])))+'K, '+\n",
    "        'logg='+str(np.round(training_labels[index,1],decimals=2))+', '+\n",
    "        '[Fe/H]='+str(np.round(training_labels[index,2],decimals=2))+', '+\n",
    "        'vmic='+str(np.round(training_labels[index,3],decimals=2))+'km/s, '+\n",
    "        'vsini='+str(np.round(training_labels[index,4],decimals=1))+'km/s'\n",
    "    )\n",
    "    f.savefig('validation_spectra_one/ThePayne_Spectrum_Grid'+str(grid_index)+'_'+str(index)+'.pdf',bbox_inches='tight')\n",
    "    plt.close()"
   ]
  },
  {
   "cell_type": "code",
   "execution_count": 19,
   "id": "4437133e",
   "metadata": {
    "scrolled": false
   },
   "outputs": [
    {
     "name": "stdout",
     "output_type": "stream",
     "text": [
      "Trying to read in list of elements run as part of DR3\n",
      "Success\n"
     ]
    }
   ],
   "source": [
    "if plot_validation:\n",
    "    \n",
    "    # Load some important lines\n",
    "    important_lines, important_molecules = load_dr3_lines()\n",
    "\n",
    "    # Load Spectrum masks\n",
    "    masks = Table.read('../../spectrum_analysis/spectrum_masks/solar_spectrum_mask.fits')\n",
    "\n",
    "    for index in range(37):\n",
    "        plot_validation_spectra(index)\n",
    "\n",
    "    for index in np.arange(50,1700,50):\n",
    "        plot_validation_spectra(index)"
   ]
  }
 ],
 "metadata": {
  "kernelspec": {
   "display_name": "Python 3",
   "language": "python",
   "name": "python3"
  },
  "language_info": {
   "codemirror_mode": {
    "name": "ipython",
    "version": 3
   },
   "file_extension": ".py",
   "mimetype": "text/x-python",
   "name": "python",
   "nbconvert_exporter": "python",
   "pygments_lexer": "ipython3",
   "version": "3.7.4"
  }
 },
 "nbformat": 4,
 "nbformat_minor": 5
}
