{
 "cells": [
  {
   "cell_type": "markdown",
   "metadata": {},
   "source": [
    "# galah_dr4_grid_interpolation_recommend_labels"
   ]
  },
  {
   "cell_type": "code",
   "execution_count": 4,
   "metadata": {},
   "outputs": [],
   "source": [
    "try:\n",
    "    %matplotlib inline\n",
    "    %config InlineBackend.figure_format='retina'\n",
    "except:\n",
    "    pass\n",
    "\n",
    "import numpy as np\n",
    "import os\n",
    "import pickle\n",
    "from astropy.table import Table\n",
    "from scipy.io import readsav\n",
    "from scipy.ndimage.filters import convolve\n",
    "import matplotlib.pyplot as plt\n",
    "from pathlib import Path\n",
    "import sys\n",
    "import time"
   ]
  },
  {
   "cell_type": "code",
   "execution_count": 5,
   "metadata": {},
   "outputs": [],
   "source": [
    "# Read in all available grids\n",
    "grids = Table.read('../spectrum_grids/galah_dr4_model_trainingset_gridpoints.fits')"
   ]
  },
  {
   "cell_type": "code",
   "execution_count": 27,
   "metadata": {},
   "outputs": [
    {
     "name": "stdout",
     "output_type": "stream",
     "text": [
      "Using default grid index  2016\n",
      "Could not recommend labels\n"
     ]
    }
   ],
   "source": [
    "# choose one grid_index\n",
    "try:\n",
    "    grid_index = int(sys.argv[1])\n",
    "    print('Using Grid index ',grid_index)\n",
    "except:\n",
    "    grid_index = 2016\n",
    "        \n",
    "    print('Using default grid index ',grid_index)\n",
    "\n",
    "try:\n",
    "    grids = Table.read('../spectrum_grids/galah_dr4_model_trainingset_gridpoints.fits')\n",
    "    teff_logg_feh_name = str(int(grids['teff_subgrid'][grid_index]))+'_'+\"{:.2f}\".format(grids['logg_subgrid'][grid_index])+'_'+\"{:.2f}\".format(grids['fe_h_subgrid'][grid_index])\n",
    "    gradient_spectra_up = Table.read('gradient_spectra/'+teff_logg_feh_name+'/'+teff_logg_feh_name+'_gradient_spectra_up.fits')\n",
    "    gradient_spectra_down = Table.read('gradient_spectra/'+teff_logg_feh_name+'/'+teff_logg_feh_name+'_gradient_spectra_down.fits')\n",
    "\n",
    "        # We will definitely always fit the stellar parameters\n",
    "    labels = ['teff','logg','fe_h','vmic','vsini']\n",
    "\n",
    "    # Now let's loop over all the possible elements to figure out, \n",
    "    # which ones we can actually fit for this Teff/logg/[Fe/H] range\n",
    "    # For the others, we simply assume the GALAH+ DR3 or initial value\n",
    "    possible_elements = [\n",
    "        'Li','C','N','O','Na','Mg','Al','Si','K','Ca','Sc','Ti','V','Cr','Mn','Co','Ni','Cu','Zn',\n",
    "        'Rb','Sr','Y','Zr','Mo','Ru','Ba','La','Ce','Nd','Sm','Eu'\n",
    "    ]\n",
    "\n",
    "    spectrum_flux_change_threshold_max = 0.07\n",
    "    spectrum_flux_change_threshold_min = 0.005\n",
    "    percentage_threshold = 25\n",
    "\n",
    "    print(\n",
    "        'Element,',\n",
    "        'dFlux,',\n",
    "        '> '+str(spectrum_flux_change_threshold_max)+'?',\n",
    "        '(dFlux > '+str(spectrum_flux_change_threshold_min)+')/%',\n",
    "        '> '+str(percentage_threshold)+'%?'\n",
    "    )\n",
    "\n",
    "    # For the test, we will only rely on the main GALAH wavelength range from deSilva et al. (2015)\n",
    "    # This will avoid for example the strong Na doublet that is almost always outside of our reach\n",
    "    in_main_galah_wavelength_range = (\n",
    "        ((gradient_spectra_up['wave'] > 4713) & (gradient_spectra_up['wave'] < 4903)) |\n",
    "        ((gradient_spectra_up['wave'] > 5648) & (gradient_spectra_up['wave'] < 5873)) |\n",
    "        ((gradient_spectra_up['wave'] > 6478) & (gradient_spectra_up['wave'] < 6737)) |\n",
    "        ((gradient_spectra_up['wave'] > 7585) & (gradient_spectra_up['wave'] < 7887))\n",
    "    )\n",
    "\n",
    "    for label in possible_elements:\n",
    "\n",
    "        # We will apply 2 tests\n",
    "        # Test 1: Does the spectrum at any pixel change more than a certain threshold *spectrum_flux_change_threshold_max*\n",
    "\n",
    "        maximum_flux_change = np.round(\n",
    "            np.max(\n",
    "                np.abs(\n",
    "                    gradient_spectra_up[label.lower()+'_fe'][in_main_galah_wavelength_range] -\n",
    "                    gradient_spectra_down[label.lower()+'_fe'][in_main_galah_wavelength_range]\n",
    "                )\n",
    "            ),decimals=3)\n",
    "        test1 = spectrum_flux_change_threshold_max <= maximum_flux_change\n",
    "\n",
    "        # Test 2: At how many pixels does the spectrum actually change more than the minimum threshold *spectrum_flux_change_threshold_min*\n",
    "        percentage_above_threshold = np.round(100*len(np.where(np.max([np.abs(gradient_spectra_up[label.lower()+'_fe'][in_main_galah_wavelength_range]),np.abs(gradient_spectra_down[label.lower()+'_fe'][in_main_galah_wavelength_range])],axis=0) >= spectrum_flux_change_threshold_min)[0])/len(gradient_spectra_up['wave'][in_main_galah_wavelength_range]))\n",
    "        test2 = percentage_above_threshold >= percentage_threshold\n",
    "\n",
    "        print(\n",
    "            (test1 | test2),\n",
    "            label,\n",
    "            maximum_flux_change,\n",
    "            test1,\n",
    "            percentage_above_threshold,\n",
    "            test2\n",
    "        )\n",
    "        if (test1 | test2):\n",
    "            labels.append(label.lower()+'_fe')\n",
    "    np.savetxt('gradient_spectra/'+teff_logg_feh_name+'/recommended_fit_labels_'+teff_logg_feh_name+'.txt',np.array(labels),fmt='%s')\n",
    "    print('Recommended labels:')\n",
    "    print(labels)\n",
    "    \n",
    "except:\n",
    "    print('Could not recommend labels')"
   ]
  },
  {
   "cell_type": "code",
   "execution_count": null,
   "metadata": {},
   "outputs": [],
   "source": []
  }
 ],
 "metadata": {
  "kernelspec": {
   "display_name": "Python 3",
   "language": "python",
   "name": "python3"
  },
  "language_info": {
   "codemirror_mode": {
    "name": "ipython",
    "version": 3
   },
   "file_extension": ".py",
   "mimetype": "text/x-python",
   "name": "python",
   "nbconvert_exporter": "python",
   "pygments_lexer": "ipython3",
   "version": "3.7.4"
  }
 },
 "nbformat": 4,
 "nbformat_minor": 2
}
