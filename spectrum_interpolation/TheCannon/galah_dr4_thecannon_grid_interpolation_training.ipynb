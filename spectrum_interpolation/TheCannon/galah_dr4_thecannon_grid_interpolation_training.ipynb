{
 "cells": [
  {
   "cell_type": "markdown",
   "metadata": {},
   "source": [
    "# This is the part of the code, where we train The Cannon"
   ]
  },
  {
   "cell_type": "code",
   "execution_count": 91,
   "metadata": {},
   "outputs": [],
   "source": [
    "# Compatibility with Python 3\n",
    "from __future__ import (absolute_import, division, print_function)\n",
    "\n",
    "try:\n",
    "    %matplotlib inline\n",
    "    %config InlineBackend.figure_format='retina'\n",
    "except:\n",
    "    pass\n",
    "\n",
    "# Basic Tools\n",
    "import numpy as np\n",
    "from astropy.table import Table\n",
    "import pickle\n",
    "import matplotlib.pyplot as plt\n",
    "\n",
    "# The Cannon\n",
    "import thecannon as tc # see https://github.com/andycasey/AnniesLasso for more details"
   ]
  },
  {
   "cell_type": "markdown",
   "metadata": {},
   "source": [
    "What do we have to do for the training?\n",
    "Let's follow the description from https://annieslasso.readthedocs.io/en/latest/guide.html"
   ]
  },
  {
   "cell_type": "code",
   "execution_count": 92,
   "metadata": {},
   "outputs": [],
   "source": [
    "# choose one grid_index\n",
    "grid_index = 1931"
   ]
  },
  {
   "cell_type": "code",
   "execution_count": 93,
   "metadata": {},
   "outputs": [
    {
     "name": "stdout",
     "output_type": "stream",
     "text": [
      "Succesfully read in all information needed for grid index 1931 corresponding to 5750_4.50_0.00\n"
     ]
    }
   ],
   "source": [
    "try:\n",
    "    grids = Table.read('../../spectrum_grids/galah_dr4_model_trainingset_gridpoints.fits')\n",
    "    teff_logg_feh_name = str(int(grids['teff_subgrid'][grid_index]))+'_'+\"{:.2f}\".format(grids['logg_subgrid'][grid_index])+'_'+\"{:.2f}\".format(grids['fe_h_subgrid'][grid_index])\n",
    "\n",
    "    training_set = Table.read('training_input/5750_4.50_0.00/galah_dr4_cannon_trainingset_5750_4.50_0.00_incl_vsini.fits')\n",
    "    masks = Table.read('training_input/5750_4.50_0.00/5750_4.50_0.00_masks.fits')\n",
    "\n",
    "    wavelength_file = 'training_input/galah_dr4_3dbin_thecannon_wavelength_array.pickle'\n",
    "    flux_ivar_file = 'training_input/5750_4.50_0.00/galah_dr4_cannon_trainingset_5750_4.50_0.00_incl_vsini_flux_ivar.pickle'\n",
    "\n",
    "    flux_ivar_file_opener = open(flux_ivar_file,'rb')\n",
    "    training_set_flux,training_set_ivar = pickle.load(flux_ivar_file_opener)\n",
    "    flux_ivar_file_opener.close()\n",
    "    wavelength_file_opener = open(wavelength_file,'rb')\n",
    "    wavelength_array = pickle.load(wavelength_file_opener)\n",
    "    wavelength_file_opener.close()\n",
    "\n",
    "    print('Succesfully read in all information needed for grid index '+str(grid_index)+' corresponding to '+teff_logg_feh_name)\n",
    "\n",
    "except:\n",
    "    raise ValueError('There are only '+str(len(grids))+' entries within the grid')"
   ]
  },
  {
   "cell_type": "code",
   "execution_count": 94,
   "metadata": {},
   "outputs": [
    {
     "name": "stdout",
     "output_type": "stream",
     "text": [
      "Labels to be fitted:\n",
      "('teff', 'logg', 'fe_h', 'vmic', 'vsini', 'li_fe', 'c_fe', 'n_fe', 'o_fe', 'na_fe', 'mg_fe', 'al_fe', 'si_fe', 'k_fe', 'ca_fe', 'sc_fe', 'ti_fe', 'v_fe', 'cr_fe', 'mn_fe', 'co_fe', 'ni_fe', 'cu_fe', 'zn_fe', 'rb_fe', 'sr_fe', 'y_fe', 'zr_fe', 'mo_fe', 'ru_fe', 'ba_fe', 'la_fe', 'ce_fe', 'nd_fe', 'sm_fe', 'eu_fe')\n"
     ]
    }
   ],
   "source": [
    "labels = tuple(training_set.keys()[2:-1])\n",
    "print('Labels to be fitted:')\n",
    "print(labels)"
   ]
  },
  {
   "cell_type": "code",
   "execution_count": 95,
   "metadata": {},
   "outputs": [
    {
     "name": "stdout",
     "output_type": "stream",
     "text": [
      "Model already exists\n"
     ]
    }
   ],
   "source": [
    "order = 2\n",
    "\n",
    "model_file = 'galah_dr4_thecannon_model_'+teff_logg_feh_name+'_order'+str(order)+'_'+str(len(labels))+'labels'\n",
    "\n",
    "try:\n",
    "    model = tc.CannonModel.read('models/'+model_file+'.model')\n",
    "    print('Model already exists')\n",
    "except:    \n",
    "    print('Will create The Cannon model to be stored at ')\n",
    "    print('models/'+model_file+'.model')"
   ]
  },
  {
   "cell_type": "code",
   "execution_count": 96,
   "metadata": {},
   "outputs": [],
   "source": [
    "labels = tuple(['teff','logg','fe_h','vmic','vsini','li_fe','c_fe','n_fe','o_fe'])"
   ]
  },
  {
   "cell_type": "code",
   "execution_count": 97,
   "metadata": {},
   "outputs": [],
   "source": [
    "# Convert training set labels into The Cannon readible format\n",
    "training_set_labels = Table()\n",
    "for label in labels:\n",
    "    training_set_labels[label] = training_set[label]"
   ]
  },
  {
   "cell_type": "code",
   "execution_count": 98,
   "metadata": {},
   "outputs": [],
   "source": [
    "model = tc.CannonModel(\n",
    "    training_set_labels, training_set_flux, training_set_ivar,\n",
    "    vectorizer=tc.vectorizer.PolynomialVectorizer(labels, order),dispersion=wavelength_array)"
   ]
  },
  {
   "cell_type": "code",
   "execution_count": 99,
   "metadata": {},
   "outputs": [],
   "source": [
    "# Apply censoring\n",
    "for label in enumerate(labels):\n",
    "    if label[1] not in ['vsini']:\n",
    "        model.censors[label[1]] = masks[label[1]]"
   ]
  },
  {
   "cell_type": "code",
   "execution_count": null,
   "metadata": {
    "scrolled": true
   },
   "outputs": [
    {
     "name": "stderr",
     "output_type": "stream",
     "text": [
      "2021-11-06 13:19:03,969 [INFO] Training 9-label CannonModel with 1680 stars and 64224 pixels/star\n",
      "2021-11-06 13:19:03,999 [DEBUG] Couldn't get screen size. Progressbar may look odd.\n"
     ]
    },
    {
     "name": "stdout",
     "output_type": "stream",
     "text": [
      "\r",
      "[                                                                                                    ]   0% (1/64224)                          "
     ]
    },
    {
     "name": "stderr",
     "output_type": "stream",
     "text": [
      "2021-11-06 13:19:04,041 [WARNING] Optimization warning (l_bfgs_b): b'ABNORMAL_TERMINATION_IN_LNSRCH'\n"
     ]
    },
    {
     "name": "stdout",
     "output_type": "stream",
     "text": [
      "[                                                                                                    ]   0% (37/64224)                          "
     ]
    },
    {
     "name": "stderr",
     "output_type": "stream",
     "text": [
      "2021-11-06 13:19:04,295 [WARNING] Optimization warning (l_bfgs_b): b'ABNORMAL_TERMINATION_IN_LNSRCH'\n"
     ]
    },
    {
     "name": "stdout",
     "output_type": "stream",
     "text": [
      "[                                                                                                    ]   0% (41/64224)                          "
     ]
    },
    {
     "name": "stderr",
     "output_type": "stream",
     "text": [
      "2021-11-06 13:19:04,350 [WARNING] Optimization warning (l_bfgs_b): b'ABNORMAL_TERMINATION_IN_LNSRCH'\n"
     ]
    },
    {
     "name": "stdout",
     "output_type": "stream",
     "text": [
      "[                                                                                                    ]   0% (44/64224)                          "
     ]
    },
    {
     "name": "stderr",
     "output_type": "stream",
     "text": [
      "2021-11-06 13:19:04,433 [WARNING] Optimization warning (l_bfgs_b): b'ABNORMAL_TERMINATION_IN_LNSRCH'\n"
     ]
    },
    {
     "name": "stdout",
     "output_type": "stream",
     "text": [
      "[                                                                                                    ]   0% (52/64224)                          "
     ]
    },
    {
     "name": "stderr",
     "output_type": "stream",
     "text": [
      "2021-11-06 13:19:04,648 [WARNING] Optimization warning (l_bfgs_b): b'ABNORMAL_TERMINATION_IN_LNSRCH'\n"
     ]
    },
    {
     "name": "stdout",
     "output_type": "stream",
     "text": [
      "[                                                                                                    ]   0% (76/64224)                          "
     ]
    },
    {
     "name": "stderr",
     "output_type": "stream",
     "text": [
      "2021-11-06 13:19:05,193 [WARNING] Optimization warning (l_bfgs_b): b'ABNORMAL_TERMINATION_IN_LNSRCH'\n"
     ]
    },
    {
     "name": "stdout",
     "output_type": "stream",
     "text": [
      "[                                                                                                    ]   0% (92/64224)                          "
     ]
    },
    {
     "name": "stderr",
     "output_type": "stream",
     "text": [
      "2021-11-06 13:19:05,610 [WARNING] Optimization warning (l_bfgs_b): b'ABNORMAL_TERMINATION_IN_LNSRCH'\n"
     ]
    },
    {
     "name": "stdout",
     "output_type": "stream",
     "text": [
      "[                                                                                                    ]   0% (109/64224)                          "
     ]
    },
    {
     "name": "stderr",
     "output_type": "stream",
     "text": [
      "2021-11-06 13:19:06,044 [WARNING] Optimization warning (l_bfgs_b): b'ABNORMAL_TERMINATION_IN_LNSRCH'\n"
     ]
    },
    {
     "name": "stdout",
     "output_type": "stream",
     "text": [
      "[                                                                                                    ]   0% (129/64224)                          "
     ]
    },
    {
     "name": "stderr",
     "output_type": "stream",
     "text": [
      "2021-11-06 13:19:06,494 [WARNING] Optimization warning (l_bfgs_b): b'ABNORMAL_TERMINATION_IN_LNSRCH'\n"
     ]
    },
    {
     "name": "stdout",
     "output_type": "stream",
     "text": [
      "[                                                                                                    ]   0% (134/64224)                          "
     ]
    },
    {
     "name": "stderr",
     "output_type": "stream",
     "text": [
      "2021-11-06 13:19:06,640 [WARNING] Optimization warning (l_bfgs_b): b'ABNORMAL_TERMINATION_IN_LNSRCH'\n"
     ]
    },
    {
     "name": "stdout",
     "output_type": "stream",
     "text": [
      "[                                                                                                    ]   0% (184/64224)                          "
     ]
    },
    {
     "name": "stderr",
     "output_type": "stream",
     "text": [
      "2021-11-06 13:19:07,515 [WARNING] Optimization warning (l_bfgs_b): b'ABNORMAL_TERMINATION_IN_LNSRCH'\n"
     ]
    },
    {
     "name": "stdout",
     "output_type": "stream",
     "text": [
      "[                                                                                                    ]   0% (189/64224)                          "
     ]
    },
    {
     "name": "stderr",
     "output_type": "stream",
     "text": [
      "2021-11-06 13:19:07,704 [WARNING] Optimization warning (l_bfgs_b): b'ABNORMAL_TERMINATION_IN_LNSRCH'\n"
     ]
    },
    {
     "name": "stdout",
     "output_type": "stream",
     "text": [
      "[                                                                                                    ]   0% (202/64224)                          "
     ]
    },
    {
     "name": "stderr",
     "output_type": "stream",
     "text": [
      "2021-11-06 13:19:08,004 [WARNING] Optimization warning (l_bfgs_b): b'ABNORMAL_TERMINATION_IN_LNSRCH'\n"
     ]
    },
    {
     "name": "stdout",
     "output_type": "stream",
     "text": [
      "[                                                                                                    ]   0% (207/64224)                          "
     ]
    },
    {
     "name": "stderr",
     "output_type": "stream",
     "text": [
      "2021-11-06 13:19:08,177 [WARNING] Optimization warning (l_bfgs_b): b'ABNORMAL_TERMINATION_IN_LNSRCH'\n"
     ]
    },
    {
     "name": "stdout",
     "output_type": "stream",
     "text": [
      "[                                                                                                    ]   0% (230/64224)                          "
     ]
    },
    {
     "name": "stderr",
     "output_type": "stream",
     "text": [
      "2021-11-06 13:19:08,738 [WARNING] Optimization warning (l_bfgs_b): b'ABNORMAL_TERMINATION_IN_LNSRCH'\n"
     ]
    },
    {
     "name": "stdout",
     "output_type": "stream",
     "text": [
      "[                                                                                                    ]   0% (270/64224)                          "
     ]
    },
    {
     "name": "stderr",
     "output_type": "stream",
     "text": [
      "2021-11-06 13:19:09,505 [WARNING] Optimization warning (l_bfgs_b): b'ABNORMAL_TERMINATION_IN_LNSRCH'\n"
     ]
    },
    {
     "name": "stdout",
     "output_type": "stream",
     "text": [
      "[                                                                                                    ]   0% (275/64224)                          "
     ]
    },
    {
     "name": "stderr",
     "output_type": "stream",
     "text": [
      "2021-11-06 13:19:09,696 [WARNING] Optimization warning (l_bfgs_b): b'ABNORMAL_TERMINATION_IN_LNSRCH'\n"
     ]
    },
    {
     "name": "stdout",
     "output_type": "stream",
     "text": [
      "[                                                                                                    ]   0% (319/64224)                          "
     ]
    },
    {
     "name": "stderr",
     "output_type": "stream",
     "text": [
      "2021-11-06 13:19:10,601 [WARNING] Optimization warning (l_bfgs_b): b'ABNORMAL_TERMINATION_IN_LNSRCH'\n"
     ]
    },
    {
     "name": "stdout",
     "output_type": "stream",
     "text": [
      "[                                                                                                    ]   1% (336/64224)                          "
     ]
    },
    {
     "name": "stderr",
     "output_type": "stream",
     "text": [
      "2021-11-06 13:19:11,030 [WARNING] Optimization warning (l_bfgs_b): b'ABNORMAL_TERMINATION_IN_LNSRCH'\n"
     ]
    },
    {
     "name": "stdout",
     "output_type": "stream",
     "text": [
      "[                                                                                                    ]   1% (380/64224)                          "
     ]
    },
    {
     "name": "stderr",
     "output_type": "stream",
     "text": [
      "2021-11-06 13:19:11,985 [WARNING] Optimization warning (l_bfgs_b): b'ABNORMAL_TERMINATION_IN_LNSRCH'\n"
     ]
    },
    {
     "name": "stdout",
     "output_type": "stream",
     "text": [
      "[                                                                                                    ]   1% (452/64224)                          "
     ]
    },
    {
     "name": "stderr",
     "output_type": "stream",
     "text": [
      "2021-11-06 13:19:13,438 [WARNING] Optimization warning (l_bfgs_b): b'ABNORMAL_TERMINATION_IN_LNSRCH'\n"
     ]
    },
    {
     "name": "stdout",
     "output_type": "stream",
     "text": [
      "[                                                                                                    ]   1% (468/64224)                          "
     ]
    },
    {
     "name": "stderr",
     "output_type": "stream",
     "text": [
      "2021-11-06 13:19:13,812 [WARNING] Optimization warning (l_bfgs_b): b'ABNORMAL_TERMINATION_IN_LNSRCH'\n"
     ]
    },
    {
     "name": "stdout",
     "output_type": "stream",
     "text": [
      "[                                                                                                    ]   1% (483/64224)                          "
     ]
    },
    {
     "name": "stderr",
     "output_type": "stream",
     "text": [
      "2021-11-06 13:19:14,209 [WARNING] Optimization warning (l_bfgs_b): b'ABNORMAL_TERMINATION_IN_LNSRCH'\n"
     ]
    },
    {
     "name": "stdout",
     "output_type": "stream",
     "text": [
      "[                                                                                                    ]   1% (487/64224)                          "
     ]
    },
    {
     "name": "stderr",
     "output_type": "stream",
     "text": [
      "2021-11-06 13:19:14,380 [WARNING] Optimization warning (l_bfgs_b): b'ABNORMAL_TERMINATION_IN_LNSRCH'\n"
     ]
    },
    {
     "name": "stdout",
     "output_type": "stream",
     "text": [
      "[                                                                                                    ]   1% (581/64224)                          "
     ]
    },
    {
     "name": "stderr",
     "output_type": "stream",
     "text": [
      "2021-11-06 13:19:16,225 [WARNING] Optimization warning (l_bfgs_b): b'ABNORMAL_TERMINATION_IN_LNSRCH'\n"
     ]
    },
    {
     "name": "stdout",
     "output_type": "stream",
     "text": [
      "[                                                                                                    ]   1% (590/64224)                          "
     ]
    },
    {
     "name": "stderr",
     "output_type": "stream",
     "text": [
      "2021-11-06 13:19:16,489 [WARNING] Optimization warning (l_bfgs_b): b'ABNORMAL_TERMINATION_IN_LNSRCH'\n"
     ]
    },
    {
     "name": "stdout",
     "output_type": "stream",
     "text": [
      "[                                                                                                    ]   1% (592/64224)                          "
     ]
    },
    {
     "name": "stderr",
     "output_type": "stream",
     "text": [
      "2021-11-06 13:19:16,664 [WARNING] Optimization warning (l_bfgs_b): b'ABNORMAL_TERMINATION_IN_LNSRCH'\n"
     ]
    },
    {
     "name": "stdout",
     "output_type": "stream",
     "text": [
      "[                                                                                                    ]   1% (605/64224)                          "
     ]
    },
    {
     "name": "stderr",
     "output_type": "stream",
     "text": [
      "2021-11-06 13:19:16,987 [WARNING] Optimization warning (l_bfgs_b): b'ABNORMAL_TERMINATION_IN_LNSRCH'\n"
     ]
    },
    {
     "name": "stdout",
     "output_type": "stream",
     "text": [
      "[                                                                                                    ]   1% (618/64224)                          "
     ]
    },
    {
     "name": "stderr",
     "output_type": "stream",
     "text": [
      "2021-11-06 13:19:17,309 [WARNING] Optimization warning (l_bfgs_b): b'ABNORMAL_TERMINATION_IN_LNSRCH'\n"
     ]
    },
    {
     "name": "stdout",
     "output_type": "stream",
     "text": [
      "[                                                                                                    ]   1% (634/64224)                          "
     ]
    },
    {
     "name": "stderr",
     "output_type": "stream",
     "text": [
      "2021-11-06 13:19:17,699 [WARNING] Optimization warning (l_bfgs_b): b'ABNORMAL_TERMINATION_IN_LNSRCH'\n"
     ]
    },
    {
     "name": "stdout",
     "output_type": "stream",
     "text": [
      "[=                                                                                                   ]   1% (664/64224)                          "
     ]
    },
    {
     "name": "stderr",
     "output_type": "stream",
     "text": [
      "2021-11-06 13:19:18,313 [WARNING] Optimization warning (l_bfgs_b): b'ABNORMAL_TERMINATION_IN_LNSRCH'\n"
     ]
    },
    {
     "name": "stdout",
     "output_type": "stream",
     "text": [
      "[=                                                                                                   ]   1% (692/64224)                          "
     ]
    },
    {
     "name": "stderr",
     "output_type": "stream",
     "text": [
      "2021-11-06 13:19:18,917 [WARNING] Optimization warning (l_bfgs_b): b'ABNORMAL_TERMINATION_IN_LNSRCH'\n"
     ]
    },
    {
     "name": "stdout",
     "output_type": "stream",
     "text": [
      "[=                                                                                                   ]   1% (703/64224)                          "
     ]
    },
    {
     "name": "stderr",
     "output_type": "stream",
     "text": [
      "2021-11-06 13:19:19,224 [WARNING] Optimization warning (l_bfgs_b): b'ABNORMAL_TERMINATION_IN_LNSRCH'\n"
     ]
    },
    {
     "name": "stdout",
     "output_type": "stream",
     "text": [
      "[=                                                                                                   ]   1% (725/64224)                          "
     ]
    },
    {
     "name": "stderr",
     "output_type": "stream",
     "text": [
      "2021-11-06 13:19:19,726 [WARNING] Optimization warning (l_bfgs_b): b'ABNORMAL_TERMINATION_IN_LNSRCH'\n"
     ]
    },
    {
     "name": "stdout",
     "output_type": "stream",
     "text": [
      "[=                                                                                                   ]   1% (751/64224)                          "
     ]
    },
    {
     "name": "stderr",
     "output_type": "stream",
     "text": [
      "2021-11-06 13:19:20,301 [WARNING] Optimization warning (l_bfgs_b): b'ABNORMAL_TERMINATION_IN_LNSRCH'\n"
     ]
    },
    {
     "name": "stdout",
     "output_type": "stream",
     "text": [
      "\r",
      "[=                                                                                                   ]   1% (752/64224)                          "
     ]
    },
    {
     "name": "stderr",
     "output_type": "stream",
     "text": [
      "2021-11-06 13:19:20,404 [WARNING] Optimization warning (l_bfgs_b): b'ABNORMAL_TERMINATION_IN_LNSRCH'\n"
     ]
    },
    {
     "name": "stdout",
     "output_type": "stream",
     "text": [
      "[=                                                                                                   ]   1% (760/64224)                          "
     ]
    },
    {
     "name": "stderr",
     "output_type": "stream",
     "text": [
      "2021-11-06 13:19:20,656 [WARNING] Optimization warning (l_bfgs_b): b'ABNORMAL_TERMINATION_IN_LNSRCH'\n"
     ]
    },
    {
     "name": "stdout",
     "output_type": "stream",
     "text": [
      "[=                                                                                                   ]   1% (788/64224)                          "
     ]
    },
    {
     "name": "stderr",
     "output_type": "stream",
     "text": [
      "2021-11-06 13:19:21,278 [WARNING] Optimization warning (l_bfgs_b): b'ABNORMAL_TERMINATION_IN_LNSRCH'\n"
     ]
    },
    {
     "name": "stdout",
     "output_type": "stream",
     "text": [
      "[=                                                                                                   ]   1% (793/64224)                          "
     ]
    },
    {
     "name": "stderr",
     "output_type": "stream",
     "text": [
      "2021-11-06 13:19:21,520 [WARNING] Optimization warning (l_bfgs_b): b'ABNORMAL_TERMINATION_IN_LNSRCH'\n"
     ]
    },
    {
     "name": "stdout",
     "output_type": "stream",
     "text": [
      "[=                                                                                                   ]   1% (814/64224)                          "
     ]
    },
    {
     "name": "stderr",
     "output_type": "stream",
     "text": [
      "2021-11-06 13:19:22,013 [WARNING] Optimization warning (l_bfgs_b): b'ABNORMAL_TERMINATION_IN_LNSRCH'\n"
     ]
    },
    {
     "name": "stdout",
     "output_type": "stream",
     "text": [
      "[=                                                                                                   ]   1% (860/64224)                          "
     ]
    },
    {
     "name": "stderr",
     "output_type": "stream",
     "text": [
      "2021-11-06 13:19:22,918 [WARNING] Optimization warning (l_bfgs_b): b'ABNORMAL_TERMINATION_IN_LNSRCH'\n"
     ]
    },
    {
     "name": "stdout",
     "output_type": "stream",
     "text": [
      "[=                                                                                                   ]   1% (914/64224)                          "
     ]
    },
    {
     "name": "stderr",
     "output_type": "stream",
     "text": [
      "2021-11-06 13:19:24,102 [WARNING] Optimization warning (l_bfgs_b): b'ABNORMAL_TERMINATION_IN_LNSRCH'\n"
     ]
    },
    {
     "name": "stdout",
     "output_type": "stream",
     "text": [
      "[=                                                                                                   ]   1% (954/64224)                          "
     ]
    },
    {
     "name": "stderr",
     "output_type": "stream",
     "text": [
      "2021-11-06 13:19:24,942 [WARNING] Optimization warning (l_bfgs_b): b'ABNORMAL_TERMINATION_IN_LNSRCH'\n"
     ]
    },
    {
     "name": "stdout",
     "output_type": "stream",
     "text": [
      "[=                                                                                                   ]   2% (997/64224)                          "
     ]
    },
    {
     "name": "stderr",
     "output_type": "stream",
     "text": [
      "2021-11-06 13:19:25,905 [WARNING] Optimization warning (l_bfgs_b): b'ABNORMAL_TERMINATION_IN_LNSRCH'\n"
     ]
    },
    {
     "name": "stdout",
     "output_type": "stream",
     "text": [
      "[=                                                                                                   ]   2% (1014/64224)                          "
     ]
    },
    {
     "name": "stderr",
     "output_type": "stream",
     "text": [
      "2021-11-06 13:19:26,310 [WARNING] Optimization warning (l_bfgs_b): b'ABNORMAL_TERMINATION_IN_LNSRCH'\n"
     ]
    },
    {
     "name": "stdout",
     "output_type": "stream",
     "text": [
      "\r",
      "[=                                                                                                   ]   2% (1015/64224)                          "
     ]
    },
    {
     "name": "stderr",
     "output_type": "stream",
     "text": [
      "2021-11-06 13:19:26,468 [WARNING] Optimization warning (l_bfgs_b): b'ABNORMAL_TERMINATION_IN_LNSRCH'\n"
     ]
    },
    {
     "name": "stdout",
     "output_type": "stream",
     "text": [
      "[=                                                                                                   ]   2% (1017/64224)                          "
     ]
    },
    {
     "name": "stderr",
     "output_type": "stream",
     "text": [
      "2021-11-06 13:19:26,652 [WARNING] Optimization warning (l_bfgs_b): b'ABNORMAL_TERMINATION_IN_LNSRCH'\n"
     ]
    },
    {
     "name": "stdout",
     "output_type": "stream",
     "text": [
      "[=                                                                                                   ]   2% (1020/64224)                          "
     ]
    },
    {
     "name": "stderr",
     "output_type": "stream",
     "text": [
      "2021-11-06 13:19:26,905 [WARNING] Optimization warning (l_bfgs_b): b'ABNORMAL_TERMINATION_IN_LNSRCH'\n"
     ]
    },
    {
     "name": "stdout",
     "output_type": "stream",
     "text": [
      "[=                                                                                                   ]   2% (1050/64224)                          "
     ]
    },
    {
     "name": "stderr",
     "output_type": "stream",
     "text": [
      "2021-11-06 13:19:27,680 [WARNING] Optimization warning (l_bfgs_b): b'ABNORMAL_TERMINATION_IN_LNSRCH'\n"
     ]
    },
    {
     "name": "stdout",
     "output_type": "stream",
     "text": [
      "[=                                                                                                   ]   2% (1126/64224)                          "
     ]
    },
    {
     "name": "stderr",
     "output_type": "stream",
     "text": [
      "2021-11-06 13:19:29,247 [WARNING] Optimization warning (l_bfgs_b): b'ABNORMAL_TERMINATION_IN_LNSRCH'\n"
     ]
    },
    {
     "name": "stdout",
     "output_type": "stream",
     "text": [
      "[=                                                                                                   ]   2% (1169/64224)                          "
     ]
    },
    {
     "name": "stderr",
     "output_type": "stream",
     "text": [
      "2021-11-06 13:19:30,192 [WARNING] Optimization warning (l_bfgs_b): b'ABNORMAL_TERMINATION_IN_LNSRCH'\n"
     ]
    },
    {
     "name": "stdout",
     "output_type": "stream",
     "text": [
      "[=                                                                                                   ]   2% (1223/64224)                          "
     ]
    },
    {
     "name": "stderr",
     "output_type": "stream",
     "text": [
      "2021-11-06 13:19:31,261 [WARNING] Optimization warning (l_bfgs_b): b'ABNORMAL_TERMINATION_IN_LNSRCH'\n"
     ]
    },
    {
     "name": "stdout",
     "output_type": "stream",
     "text": [
      "[=                                                                                                   ]   2% (1237/64224)                          "
     ]
    },
    {
     "name": "stderr",
     "output_type": "stream",
     "text": [
      "2021-11-06 13:19:31,667 [WARNING] Optimization warning (l_bfgs_b): b'ABNORMAL_TERMINATION_IN_LNSRCH'\n"
     ]
    },
    {
     "name": "stdout",
     "output_type": "stream",
     "text": [
      "[==                                                                                                  ]   2% (1287/64224)                          "
     ]
    },
    {
     "name": "stderr",
     "output_type": "stream",
     "text": [
      "2021-11-06 13:19:32,703 [WARNING] Optimization warning (l_bfgs_b): b'ABNORMAL_TERMINATION_IN_LNSRCH'\n"
     ]
    },
    {
     "name": "stdout",
     "output_type": "stream",
     "text": [
      "[==                                                                                                  ]   2% (1293/64224)                          "
     ]
    },
    {
     "name": "stderr",
     "output_type": "stream",
     "text": [
      "2021-11-06 13:19:32,969 [WARNING] Optimization warning (l_bfgs_b): b'ABNORMAL_TERMINATION_IN_LNSRCH'\n"
     ]
    },
    {
     "name": "stdout",
     "output_type": "stream",
     "text": [
      "[==                                                                                                  ]   2% (1304/64224)                          "
     ]
    },
    {
     "name": "stderr",
     "output_type": "stream",
     "text": [
      "2021-11-06 13:19:33,359 [WARNING] Optimization warning (l_bfgs_b): b'ABNORMAL_TERMINATION_IN_LNSRCH'\n"
     ]
    },
    {
     "name": "stdout",
     "output_type": "stream",
     "text": [
      "[==                                                                                                  ]   2% (1346/64224)                          "
     ]
    },
    {
     "name": "stderr",
     "output_type": "stream",
     "text": [
      "2021-11-06 13:19:34,385 [WARNING] Optimization warning (l_bfgs_b): b'ABNORMAL_TERMINATION_IN_LNSRCH'\n"
     ]
    },
    {
     "name": "stdout",
     "output_type": "stream",
     "text": [
      "[==                                                                                                  ]   2% (1377/64224)                          "
     ]
    },
    {
     "name": "stderr",
     "output_type": "stream",
     "text": [
      "2021-11-06 13:19:35,084 [WARNING] Optimization warning (l_bfgs_b): b'ABNORMAL_TERMINATION_IN_LNSRCH'\n"
     ]
    },
    {
     "name": "stdout",
     "output_type": "stream",
     "text": [
      "[==                                                                                                  ]   2% (1413/64224)                          "
     ]
    },
    {
     "name": "stderr",
     "output_type": "stream",
     "text": [
      "2021-11-06 13:19:35,855 [WARNING] Optimization warning (l_bfgs_b): b'ABNORMAL_TERMINATION_IN_LNSRCH'\n"
     ]
    },
    {
     "name": "stdout",
     "output_type": "stream",
     "text": [
      "[==                                                                                                  ]   2% (1416/64224)                          "
     ]
    },
    {
     "name": "stderr",
     "output_type": "stream",
     "text": [
      "2021-11-06 13:19:36,002 [WARNING] Optimization warning (l_bfgs_b): b'ABNORMAL_TERMINATION_IN_LNSRCH'\n"
     ]
    },
    {
     "name": "stdout",
     "output_type": "stream",
     "text": [
      "[==                                                                                                  ]   2% (1453/64224)                          "
     ]
    },
    {
     "name": "stderr",
     "output_type": "stream",
     "text": [
      "2021-11-06 13:19:36,751 [WARNING] Optimization warning (l_bfgs_b): b'ABNORMAL_TERMINATION_IN_LNSRCH'\n"
     ]
    },
    {
     "name": "stdout",
     "output_type": "stream",
     "text": [
      "[==                                                                                                  ]   2% (1508/64224)                          "
     ]
    },
    {
     "name": "stderr",
     "output_type": "stream",
     "text": [
      "2021-11-06 13:19:38,072 [WARNING] Optimization warning (l_bfgs_b): b'ABNORMAL_TERMINATION_IN_LNSRCH'\n"
     ]
    },
    {
     "name": "stdout",
     "output_type": "stream",
     "text": [
      "[==                                                                                                  ]   2% (1510/64224)                          "
     ]
    },
    {
     "name": "stderr",
     "output_type": "stream",
     "text": [
      "2021-11-06 13:19:38,235 [WARNING] Optimization warning (l_bfgs_b): b'ABNORMAL_TERMINATION_IN_LNSRCH'\n"
     ]
    },
    {
     "name": "stdout",
     "output_type": "stream",
     "text": [
      "[==                                                                                                  ]   2% (1519/64224)                          "
     ]
    },
    {
     "name": "stderr",
     "output_type": "stream",
     "text": [
      "2021-11-06 13:19:38,478 [WARNING] Optimization warning (l_bfgs_b): b'ABNORMAL_TERMINATION_IN_LNSRCH'\n"
     ]
    },
    {
     "name": "stdout",
     "output_type": "stream",
     "text": [
      "[==                                                                                                  ]   2% (1535/64224)                          "
     ]
    },
    {
     "name": "stderr",
     "output_type": "stream",
     "text": [
      "2021-11-06 13:19:38,801 [WARNING] Optimization warning (l_bfgs_b): b'ABNORMAL_TERMINATION_IN_LNSRCH'\n"
     ]
    },
    {
     "name": "stdout",
     "output_type": "stream",
     "text": [
      "[==                                                                                                  ]   2% (1546/64224)                          "
     ]
    },
    {
     "name": "stderr",
     "output_type": "stream",
     "text": [
      "2021-11-06 13:19:39,127 [WARNING] Optimization warning (l_bfgs_b): b'ABNORMAL_TERMINATION_IN_LNSRCH'\n"
     ]
    },
    {
     "name": "stdout",
     "output_type": "stream",
     "text": [
      "[==                                                                                                  ]   2% (1576/64224)                          "
     ]
    },
    {
     "name": "stderr",
     "output_type": "stream",
     "text": [
      "2021-11-06 13:19:39,864 [WARNING] Optimization warning (l_bfgs_b): b'ABNORMAL_TERMINATION_IN_LNSRCH'\n"
     ]
    },
    {
     "name": "stdout",
     "output_type": "stream",
     "text": [
      "[==                                                                                                  ]   3% (1637/64224)                          "
     ]
    },
    {
     "name": "stderr",
     "output_type": "stream",
     "text": [
      "2021-11-06 13:19:41,322 [WARNING] Optimization warning (l_bfgs_b): b'ABNORMAL_TERMINATION_IN_LNSRCH'\n"
     ]
    },
    {
     "name": "stdout",
     "output_type": "stream",
     "text": [
      "[==                                                                                                  ]   3% (1646/64224)                          "
     ]
    },
    {
     "name": "stderr",
     "output_type": "stream",
     "text": [
      "2021-11-06 13:19:41,552 [WARNING] Optimization warning (l_bfgs_b): b'ABNORMAL_TERMINATION_IN_LNSRCH'\n"
     ]
    },
    {
     "name": "stdout",
     "output_type": "stream",
     "text": [
      "\r",
      "[==                                                                                                  ]   3% (1647/64224)                          "
     ]
    },
    {
     "name": "stderr",
     "output_type": "stream",
     "text": [
      "2021-11-06 13:19:41,710 [WARNING] Optimization warning (l_bfgs_b): b'ABNORMAL_TERMINATION_IN_LNSRCH'\n"
     ]
    },
    {
     "name": "stdout",
     "output_type": "stream",
     "text": [
      "[==                                                                                                  ]   3% (1827/64224)                          "
     ]
    },
    {
     "name": "stderr",
     "output_type": "stream",
     "text": [
      "2021-11-06 13:19:45,732 [WARNING] Optimization warning (l_bfgs_b): b'ABNORMAL_TERMINATION_IN_LNSRCH'\n"
     ]
    },
    {
     "name": "stdout",
     "output_type": "stream",
     "text": [
      "[==                                                                                                  ]   3% (1910/64224)                          "
     ]
    },
    {
     "name": "stderr",
     "output_type": "stream",
     "text": [
      "2021-11-06 13:19:47,799 [WARNING] Optimization warning (l_bfgs_b): b'ABNORMAL_TERMINATION_IN_LNSRCH'\n"
     ]
    },
    {
     "name": "stdout",
     "output_type": "stream",
     "text": [
      "[===                                                                                                 ]   3% (1941/64224)                          "
     ]
    },
    {
     "name": "stderr",
     "output_type": "stream",
     "text": [
      "2021-11-06 13:19:48,587 [WARNING] Optimization warning (l_bfgs_b): b'ABNORMAL_TERMINATION_IN_LNSRCH'\n"
     ]
    },
    {
     "name": "stdout",
     "output_type": "stream",
     "text": [
      "[===                                                                                                 ]   3% (2066/64224)                          "
     ]
    },
    {
     "name": "stderr",
     "output_type": "stream",
     "text": [
      "2021-11-06 13:19:51,124 [WARNING] Optimization warning (l_bfgs_b): b'ABNORMAL_TERMINATION_IN_LNSRCH'\n"
     ]
    },
    {
     "name": "stdout",
     "output_type": "stream",
     "text": [
      "[===                                                                                                 ]   3% (2069/64224)                          "
     ]
    },
    {
     "name": "stderr",
     "output_type": "stream",
     "text": [
      "2021-11-06 13:19:51,302 [WARNING] Optimization warning (l_bfgs_b): b'ABNORMAL_TERMINATION_IN_LNSRCH'\n"
     ]
    },
    {
     "name": "stdout",
     "output_type": "stream",
     "text": [
      "[===                                                                                                 ]   3% (2111/64224)                          "
     ]
    },
    {
     "name": "stderr",
     "output_type": "stream",
     "text": [
      "2021-11-06 13:19:52,333 [WARNING] Optimization warning (l_bfgs_b): b'ABNORMAL_TERMINATION_IN_LNSRCH'\n"
     ]
    },
    {
     "name": "stdout",
     "output_type": "stream",
     "text": [
      "[===                                                                                                 ]   3% (2189/64224)                          "
     ]
    },
    {
     "name": "stderr",
     "output_type": "stream",
     "text": [
      "2021-11-06 13:19:54,103 [WARNING] Optimization warning (l_bfgs_b): b'ABNORMAL_TERMINATION_IN_LNSRCH'\n"
     ]
    },
    {
     "name": "stdout",
     "output_type": "stream",
     "text": [
      "\r",
      "[===                                                                                                 ]   3% (2190/64224)                          "
     ]
    },
    {
     "name": "stderr",
     "output_type": "stream",
     "text": [
      "2021-11-06 13:19:54,258 [WARNING] Optimization warning (l_bfgs_b): b'ABNORMAL_TERMINATION_IN_LNSRCH'\n"
     ]
    },
    {
     "name": "stdout",
     "output_type": "stream",
     "text": [
      "[===                                                                                                 ]   3% (2210/64224)                          "
     ]
    },
    {
     "name": "stderr",
     "output_type": "stream",
     "text": [
      "2021-11-06 13:19:54,706 [WARNING] Optimization warning (l_bfgs_b): b'ABNORMAL_TERMINATION_IN_LNSRCH'\n"
     ]
    },
    {
     "name": "stdout",
     "output_type": "stream",
     "text": [
      "[===                                                                                                 ]   4% (2266/64224)                          "
     ]
    },
    {
     "name": "stderr",
     "output_type": "stream",
     "text": [
      "2021-11-06 13:19:55,903 [WARNING] Optimization warning (l_bfgs_b): b'ABNORMAL_TERMINATION_IN_LNSRCH'\n"
     ]
    },
    {
     "name": "stdout",
     "output_type": "stream",
     "text": [
      "[===                                                                                                 ]   4% (2303/64224)                          "
     ]
    },
    {
     "name": "stderr",
     "output_type": "stream",
     "text": [
      "2021-11-06 13:19:56,734 [WARNING] Optimization warning (l_bfgs_b): b'ABNORMAL_TERMINATION_IN_LNSRCH'\n"
     ]
    },
    {
     "name": "stdout",
     "output_type": "stream",
     "text": [
      "[===                                                                                                 ]   4% (2379/64224)                          "
     ]
    },
    {
     "name": "stderr",
     "output_type": "stream",
     "text": [
      "2021-11-06 13:19:58,532 [WARNING] Optimization warning (l_bfgs_b): b'ABNORMAL_TERMINATION_IN_LNSRCH'\n"
     ]
    },
    {
     "name": "stdout",
     "output_type": "stream",
     "text": [
      "[===                                                                                                 ]   4% (2403/64224)                          "
     ]
    },
    {
     "name": "stderr",
     "output_type": "stream",
     "text": [
      "2021-11-06 13:19:59,118 [WARNING] Optimization warning (l_bfgs_b): b'ABNORMAL_TERMINATION_IN_LNSRCH'\n"
     ]
    },
    {
     "name": "stdout",
     "output_type": "stream",
     "text": [
      "[===                                                                                                 ]   4% (2414/64224)                          "
     ]
    },
    {
     "name": "stderr",
     "output_type": "stream",
     "text": [
      "2021-11-06 13:19:59,474 [WARNING] Optimization warning (l_bfgs_b): b'ABNORMAL_TERMINATION_IN_LNSRCH'\n"
     ]
    },
    {
     "name": "stdout",
     "output_type": "stream",
     "text": [
      "[===                                                                                                 ]   4% (2422/64224)                          "
     ]
    },
    {
     "name": "stderr",
     "output_type": "stream",
     "text": [
      "2021-11-06 13:19:59,732 [WARNING] Optimization warning (l_bfgs_b): b'ABNORMAL_TERMINATION_IN_LNSRCH'\n"
     ]
    },
    {
     "name": "stdout",
     "output_type": "stream",
     "text": [
      "[===                                                                                                 ]   4% (2455/64224)                          "
     ]
    },
    {
     "name": "stderr",
     "output_type": "stream",
     "text": [
      "2021-11-06 13:20:00,481 [WARNING] Optimization warning (l_bfgs_b): b'ABNORMAL_TERMINATION_IN_LNSRCH'\n"
     ]
    },
    {
     "name": "stdout",
     "output_type": "stream",
     "text": [
      "[===                                                                                                 ]   4% (2476/64224)                          "
     ]
    },
    {
     "name": "stderr",
     "output_type": "stream",
     "text": [
      "2021-11-06 13:20:00,919 [WARNING] Optimization warning (l_bfgs_b): b'ABNORMAL_TERMINATION_IN_LNSRCH'\n"
     ]
    },
    {
     "name": "stdout",
     "output_type": "stream",
     "text": [
      "[===                                                                                                 ]   4% (2484/64224)                          "
     ]
    },
    {
     "name": "stderr",
     "output_type": "stream",
     "text": [
      "2021-11-06 13:20:01,092 [WARNING] Optimization warning (l_bfgs_b): b'ABNORMAL_TERMINATION_IN_LNSRCH'\n"
     ]
    },
    {
     "name": "stdout",
     "output_type": "stream",
     "text": [
      "[===                                                                                                 ]   4% (2498/64224)                          "
     ]
    },
    {
     "name": "stderr",
     "output_type": "stream",
     "text": [
      "2021-11-06 13:20:01,404 [WARNING] Optimization warning (l_bfgs_b): b'ABNORMAL_TERMINATION_IN_LNSRCH'\n"
     ]
    },
    {
     "name": "stdout",
     "output_type": "stream",
     "text": [
      "[===                                                                                                 ]   4% (2550/64224)                          "
     ]
    },
    {
     "name": "stderr",
     "output_type": "stream",
     "text": [
      "2021-11-06 13:20:02,357 [WARNING] Optimization warning (l_bfgs_b): b'ABNORMAL_TERMINATION_IN_LNSRCH'\n"
     ]
    },
    {
     "name": "stdout",
     "output_type": "stream",
     "text": [
      "[====                                                                                                ]   4% (2580/64224)                          "
     ]
    },
    {
     "name": "stderr",
     "output_type": "stream",
     "text": [
      "2021-11-06 13:20:02,957 [WARNING] Optimization warning (l_bfgs_b): b'ABNORMAL_TERMINATION_IN_LNSRCH'\n"
     ]
    },
    {
     "name": "stdout",
     "output_type": "stream",
     "text": [
      "[====                                                                                                ]   4% (2647/64224)                          "
     ]
    },
    {
     "name": "stderr",
     "output_type": "stream",
     "text": [
      "2021-11-06 13:20:04,285 [WARNING] Optimization warning (l_bfgs_b): b'ABNORMAL_TERMINATION_IN_LNSRCH'\n"
     ]
    },
    {
     "name": "stdout",
     "output_type": "stream",
     "text": [
      "[====                                                                                                ]   4% (2670/64224)                          "
     ]
    },
    {
     "name": "stderr",
     "output_type": "stream",
     "text": [
      "2021-11-06 13:20:04,827 [WARNING] Optimization warning (l_bfgs_b): b'ABNORMAL_TERMINATION_IN_LNSRCH'\n"
     ]
    },
    {
     "name": "stdout",
     "output_type": "stream",
     "text": [
      "[====                                                                                                ]   4% (2772/64224)                          "
     ]
    },
    {
     "name": "stderr",
     "output_type": "stream",
     "text": [
      "2021-11-06 13:20:06,746 [WARNING] Optimization warning (l_bfgs_b): b'ABNORMAL_TERMINATION_IN_LNSRCH'\n"
     ]
    },
    {
     "name": "stdout",
     "output_type": "stream",
     "text": [
      "[====                                                                                                ]   4% (2801/64224)                          "
     ]
    },
    {
     "name": "stderr",
     "output_type": "stream",
     "text": [
      "2021-11-06 13:20:07,309 [WARNING] Optimization warning (l_bfgs_b): b'ABNORMAL_TERMINATION_IN_LNSRCH'\n"
     ]
    },
    {
     "name": "stdout",
     "output_type": "stream",
     "text": [
      "[====                                                                                                ]   4% (2812/64224)                          "
     ]
    },
    {
     "name": "stderr",
     "output_type": "stream",
     "text": [
      "2021-11-06 13:20:07,605 [WARNING] Optimization warning (l_bfgs_b): b'ABNORMAL_TERMINATION_IN_LNSRCH'\n"
     ]
    },
    {
     "name": "stdout",
     "output_type": "stream",
     "text": [
      "[====                                                                                                ]   4% (2815/64224)                          "
     ]
    },
    {
     "name": "stderr",
     "output_type": "stream",
     "text": [
      "2021-11-06 13:20:07,714 [WARNING] Optimization warning (l_bfgs_b): b'ABNORMAL_TERMINATION_IN_LNSRCH'\n"
     ]
    },
    {
     "name": "stdout",
     "output_type": "stream",
     "text": [
      "\r",
      "[====                                                                                                ]   4% (2816/64224)                          "
     ]
    },
    {
     "name": "stderr",
     "output_type": "stream",
     "text": [
      "2021-11-06 13:20:07,815 [WARNING] Optimization warning (l_bfgs_b): b'ABNORMAL_TERMINATION_IN_LNSRCH'\n"
     ]
    },
    {
     "name": "stdout",
     "output_type": "stream",
     "text": [
      "\r",
      "[====                                                                                                ]   4% (2817/64224)                          "
     ]
    },
    {
     "name": "stderr",
     "output_type": "stream",
     "text": [
      "2021-11-06 13:20:07,939 [WARNING] Optimization warning (l_bfgs_b): b'ABNORMAL_TERMINATION_IN_LNSRCH'\n"
     ]
    },
    {
     "name": "stdout",
     "output_type": "stream",
     "text": [
      "[====                                                                                                ]   4% (2837/64224)                          "
     ]
    },
    {
     "name": "stderr",
     "output_type": "stream",
     "text": [
      "2021-11-06 13:20:08,370 [WARNING] Optimization warning (l_bfgs_b): b'ABNORMAL_TERMINATION_IN_LNSRCH'\n"
     ]
    },
    {
     "name": "stdout",
     "output_type": "stream",
     "text": [
      "[====                                                                                                ]   4% (2886/64224)                          "
     ]
    },
    {
     "name": "stderr",
     "output_type": "stream",
     "text": [
      "2021-11-06 13:20:09,428 [WARNING] Optimization warning (l_bfgs_b): b'ABNORMAL_TERMINATION_IN_LNSRCH'\n"
     ]
    },
    {
     "name": "stdout",
     "output_type": "stream",
     "text": [
      "[====                                                                                                ]   5% (2893/64224)                          "
     ]
    },
    {
     "name": "stderr",
     "output_type": "stream",
     "text": [
      "2021-11-06 13:20:09,642 [WARNING] Optimization warning (l_bfgs_b): b'ABNORMAL_TERMINATION_IN_LNSRCH'\n"
     ]
    },
    {
     "name": "stdout",
     "output_type": "stream",
     "text": [
      "[====                                                                                                ]   5% (2905/64224)                          "
     ]
    },
    {
     "name": "stderr",
     "output_type": "stream",
     "text": [
      "2021-11-06 13:20:09,942 [WARNING] Optimization warning (l_bfgs_b): b'ABNORMAL_TERMINATION_IN_LNSRCH'\n"
     ]
    },
    {
     "name": "stdout",
     "output_type": "stream",
     "text": [
      "[====                                                                                                ]   5% (2971/64224)                          "
     ]
    },
    {
     "name": "stderr",
     "output_type": "stream",
     "text": [
      "2021-11-06 13:20:11,286 [WARNING] Optimization warning (l_bfgs_b): b'ABNORMAL_TERMINATION_IN_LNSRCH'\n"
     ]
    },
    {
     "name": "stdout",
     "output_type": "stream",
     "text": [
      "[====                                                                                                ]   5% (3030/64224)                          "
     ]
    },
    {
     "name": "stderr",
     "output_type": "stream",
     "text": [
      "2021-11-06 13:20:12,367 [WARNING] Optimization warning (l_bfgs_b): b'ABNORMAL_TERMINATION_IN_LNSRCH'\n"
     ]
    },
    {
     "name": "stdout",
     "output_type": "stream",
     "text": [
      "[====                                                                                                ]   5% (3044/64224)                          "
     ]
    },
    {
     "name": "stderr",
     "output_type": "stream",
     "text": [
      "2021-11-06 13:20:12,643 [WARNING] Optimization warning (l_bfgs_b): b'ABNORMAL_TERMINATION_IN_LNSRCH'\n"
     ]
    },
    {
     "name": "stdout",
     "output_type": "stream",
     "text": [
      "[====                                                                                                ]   5% (3047/64224)                          "
     ]
    },
    {
     "name": "stderr",
     "output_type": "stream",
     "text": [
      "2021-11-06 13:20:12,742 [WARNING] Optimization warning (l_bfgs_b): b'ABNORMAL_TERMINATION_IN_LNSRCH'\n"
     ]
    },
    {
     "name": "stdout",
     "output_type": "stream",
     "text": [
      "[====                                                                                                ]   5% (3052/64224)                          "
     ]
    },
    {
     "name": "stderr",
     "output_type": "stream",
     "text": [
      "2021-11-06 13:20:12,890 [WARNING] Optimization warning (l_bfgs_b): b'ABNORMAL_TERMINATION_IN_LNSRCH'\n"
     ]
    },
    {
     "name": "stdout",
     "output_type": "stream",
     "text": [
      "[====                                                                                                ]   5% (3054/64224)                          "
     ]
    },
    {
     "name": "stderr",
     "output_type": "stream",
     "text": [
      "2021-11-06 13:20:13,006 [WARNING] Optimization warning (l_bfgs_b): b'ABNORMAL_TERMINATION_IN_LNSRCH'\n"
     ]
    },
    {
     "name": "stdout",
     "output_type": "stream",
     "text": [
      "[====                                                                                                ]   5% (3060/64224)                          "
     ]
    },
    {
     "name": "stderr",
     "output_type": "stream",
     "text": [
      "2021-11-06 13:20:13,169 [WARNING] Optimization warning (l_bfgs_b): b'ABNORMAL_TERMINATION_IN_LNSRCH'\n"
     ]
    },
    {
     "name": "stdout",
     "output_type": "stream",
     "text": [
      "[====                                                                                                ]   5% (3063/64224)                          "
     ]
    },
    {
     "name": "stderr",
     "output_type": "stream",
     "text": [
      "2021-11-06 13:20:13,297 [WARNING] Optimization warning (l_bfgs_b): b'ABNORMAL_TERMINATION_IN_LNSRCH'\n"
     ]
    },
    {
     "name": "stdout",
     "output_type": "stream",
     "text": [
      "[====                                                                                                ]   5% (3100/64224)                          "
     ]
    },
    {
     "name": "stderr",
     "output_type": "stream",
     "text": [
      "2021-11-06 13:20:14,116 [WARNING] Optimization warning (l_bfgs_b): b'ABNORMAL_TERMINATION_IN_LNSRCH'\n"
     ]
    },
    {
     "name": "stdout",
     "output_type": "stream",
     "text": [
      "[====                                                                                                ]   5% (3112/64224)                          "
     ]
    },
    {
     "name": "stderr",
     "output_type": "stream",
     "text": [
      "2021-11-06 13:20:14,437 [WARNING] Optimization warning (l_bfgs_b): b'ABNORMAL_TERMINATION_IN_LNSRCH'\n"
     ]
    },
    {
     "name": "stdout",
     "output_type": "stream",
     "text": [
      "[====                                                                                                ]   5% (3127/64224)                          "
     ]
    },
    {
     "name": "stderr",
     "output_type": "stream",
     "text": [
      "2021-11-06 13:20:14,928 [WARNING] Optimization warning (l_bfgs_b): b'ABNORMAL_TERMINATION_IN_LNSRCH'\n"
     ]
    },
    {
     "name": "stdout",
     "output_type": "stream",
     "text": [
      "[====                                                                                                ]   5% (3199/64224)                          "
     ]
    },
    {
     "name": "stderr",
     "output_type": "stream",
     "text": [
      "2021-11-06 13:20:16,442 [WARNING] Optimization warning (l_bfgs_b): b'ABNORMAL_TERMINATION_IN_LNSRCH'\n"
     ]
    },
    {
     "name": "stdout",
     "output_type": "stream",
     "text": [
      "[=====                                                                                               ]   5% (3211/64224)                          "
     ]
    },
    {
     "name": "stderr",
     "output_type": "stream",
     "text": [
      "2021-11-06 13:20:16,703 [WARNING] Optimization warning (l_bfgs_b): b'ABNORMAL_TERMINATION_IN_LNSRCH'\n"
     ]
    },
    {
     "name": "stdout",
     "output_type": "stream",
     "text": [
      "[=====                                                                                               ]   5% (3253/64224; ~23m until finished)"
     ]
    },
    {
     "name": "stderr",
     "output_type": "stream",
     "text": [
      "2021-11-06 13:20:17,685 [WARNING] Optimization warning (l_bfgs_b): b'ABNORMAL_TERMINATION_IN_LNSRCH'\n"
     ]
    },
    {
     "name": "stdout",
     "output_type": "stream",
     "text": [
      "[=====                                                                                               ]   5% (3279/64224; ~23m until finished)"
     ]
    },
    {
     "name": "stderr",
     "output_type": "stream",
     "text": [
      "2021-11-06 13:20:18,242 [WARNING] Optimization warning (l_bfgs_b): b'ABNORMAL_TERMINATION_IN_LNSRCH'\n"
     ]
    },
    {
     "name": "stdout",
     "output_type": "stream",
     "text": [
      "[=====                                                                                               ]   5% (3314/64224; ~23m until finished)"
     ]
    },
    {
     "name": "stderr",
     "output_type": "stream",
     "text": [
      "2021-11-06 13:20:18,889 [WARNING] Optimization warning (l_bfgs_b): b'ABNORMAL_TERMINATION_IN_LNSRCH'\n"
     ]
    },
    {
     "name": "stdout",
     "output_type": "stream",
     "text": [
      "[=====                                                                                               ]   5% (3470/64224; ~23m until finished)"
     ]
    },
    {
     "name": "stderr",
     "output_type": "stream",
     "text": [
      "2021-11-06 13:20:22,188 [WARNING] Optimization warning (l_bfgs_b): b'ABNORMAL_TERMINATION_IN_LNSRCH'\n"
     ]
    },
    {
     "name": "stdout",
     "output_type": "stream",
     "text": [
      "[=====                                                                                               ]   5% (3516/64224; ~23m until finished)"
     ]
    },
    {
     "name": "stderr",
     "output_type": "stream",
     "text": [
      "2021-11-06 13:20:23,463 [WARNING] Optimization warning (l_bfgs_b): b'ABNORMAL_TERMINATION_IN_LNSRCH'\n"
     ]
    },
    {
     "name": "stdout",
     "output_type": "stream",
     "text": [
      "[=====                                                                                               ]   5% (3522/64224; ~23m until finished)"
     ]
    },
    {
     "name": "stderr",
     "output_type": "stream",
     "text": [
      "2021-11-06 13:20:23,734 [WARNING] Optimization warning (l_bfgs_b): b'ABNORMAL_TERMINATION_IN_LNSRCH'\n"
     ]
    },
    {
     "name": "stdout",
     "output_type": "stream",
     "text": [
      "[=====                                                                                               ]   6% (3547/64224; ~23m until finished)"
     ]
    },
    {
     "name": "stderr",
     "output_type": "stream",
     "text": [
      "2021-11-06 13:20:24,332 [WARNING] Optimization warning (l_bfgs_b): b'ABNORMAL_TERMINATION_IN_LNSRCH'\n"
     ]
    },
    {
     "name": "stdout",
     "output_type": "stream",
     "text": [
      "[=====                                                                                               ]   6% (3690/64224; ~23m until finished)"
     ]
    },
    {
     "name": "stderr",
     "output_type": "stream",
     "text": [
      "2021-11-06 13:20:27,368 [WARNING] Optimization warning (l_bfgs_b): b'ABNORMAL_TERMINATION_IN_LNSRCH'\n"
     ]
    },
    {
     "name": "stdout",
     "output_type": "stream",
     "text": [
      "[=====                                                                                               ]   6% (3727/64224; ~23m until finished)"
     ]
    },
    {
     "name": "stderr",
     "output_type": "stream",
     "text": [
      "2021-11-06 13:20:28,295 [WARNING] Optimization warning (l_bfgs_b): b'ABNORMAL_TERMINATION_IN_LNSRCH'\n"
     ]
    },
    {
     "name": "stdout",
     "output_type": "stream",
     "text": [
      "[=====                                                                                               ]   6% (3763/64224; ~23m until finished)"
     ]
    },
    {
     "name": "stderr",
     "output_type": "stream",
     "text": [
      "2021-11-06 13:20:29,361 [WARNING] Optimization warning (l_bfgs_b): b'ABNORMAL_TERMINATION_IN_LNSRCH'\n"
     ]
    },
    {
     "name": "stdout",
     "output_type": "stream",
     "text": [
      "[=====                                                                                               ]   6% (3781/64224; ~23m until finished)"
     ]
    },
    {
     "name": "stderr",
     "output_type": "stream",
     "text": [
      "2021-11-06 13:20:29,875 [WARNING] Optimization warning (l_bfgs_b): b'ABNORMAL_TERMINATION_IN_LNSRCH'\n"
     ]
    },
    {
     "name": "stdout",
     "output_type": "stream",
     "text": [
      "[=====                                                                                               ]   6% (3783/64224; ~23m until finished)"
     ]
    },
    {
     "name": "stderr",
     "output_type": "stream",
     "text": [
      "2021-11-06 13:20:29,983 [WARNING] Optimization warning (l_bfgs_b): b'ABNORMAL_TERMINATION_IN_LNSRCH'\n"
     ]
    },
    {
     "name": "stdout",
     "output_type": "stream",
     "text": [
      "[=====                                                                                               ]   6% (3826/64224; ~23m until finished)"
     ]
    },
    {
     "name": "stderr",
     "output_type": "stream",
     "text": [
      "2021-11-06 13:20:31,049 [WARNING] Optimization warning (l_bfgs_b): b'ABNORMAL_TERMINATION_IN_LNSRCH'\n"
     ]
    },
    {
     "name": "stdout",
     "output_type": "stream",
     "text": [
      "[=====                                                                                               ]   6% (3830/64224; ~23m until finished)"
     ]
    },
    {
     "name": "stderr",
     "output_type": "stream",
     "text": [
      "2021-11-06 13:20:31,318 [WARNING] Optimization warning (l_bfgs_b): b'ABNORMAL_TERMINATION_IN_LNSRCH'\n"
     ]
    },
    {
     "name": "stdout",
     "output_type": "stream",
     "text": [
      "[======                                                                                              ]   6% (3930/64224; ~23m until finished)"
     ]
    },
    {
     "name": "stderr",
     "output_type": "stream",
     "text": [
      "2021-11-06 13:20:33,532 [WARNING] Optimization warning (l_bfgs_b): b'ABNORMAL_TERMINATION_IN_LNSRCH'\n"
     ]
    },
    {
     "name": "stdout",
     "output_type": "stream",
     "text": [
      "[======                                                                                              ]   6% (3947/64224; ~23m until finished)"
     ]
    },
    {
     "name": "stderr",
     "output_type": "stream",
     "text": [
      "2021-11-06 13:20:34,002 [WARNING] Optimization warning (l_bfgs_b): b'ABNORMAL_TERMINATION_IN_LNSRCH'\n"
     ]
    },
    {
     "name": "stdout",
     "output_type": "stream",
     "text": [
      "[======                                                                                              ]   6% (3953/64224; ~23m until finished)"
     ]
    },
    {
     "name": "stderr",
     "output_type": "stream",
     "text": [
      "2021-11-06 13:20:34,271 [WARNING] Optimization warning (l_bfgs_b): b'ABNORMAL_TERMINATION_IN_LNSRCH'\n"
     ]
    },
    {
     "name": "stdout",
     "output_type": "stream",
     "text": [
      "[======                                                                                              ]   6% (3955/64224; ~23m until finished)"
     ]
    },
    {
     "name": "stderr",
     "output_type": "stream",
     "text": [
      "2021-11-06 13:20:34,433 [WARNING] Optimization warning (l_bfgs_b): b'ABNORMAL_TERMINATION_IN_LNSRCH'\n"
     ]
    },
    {
     "name": "stdout",
     "output_type": "stream",
     "text": [
      "[======                                                                                              ]   6% (4024/64224; ~23m until finished)"
     ]
    },
    {
     "name": "stderr",
     "output_type": "stream",
     "text": [
      "2021-11-06 13:20:36,010 [WARNING] Optimization warning (l_bfgs_b): b'ABNORMAL_TERMINATION_IN_LNSRCH'\n"
     ]
    },
    {
     "name": "stdout",
     "output_type": "stream",
     "text": [
      "[======                                                                                              ]   6% (4039/64224; ~23m until finished)"
     ]
    },
    {
     "name": "stderr",
     "output_type": "stream",
     "text": [
      "2021-11-06 13:20:36,537 [WARNING] Optimization warning (l_bfgs_b): b'ABNORMAL_TERMINATION_IN_LNSRCH'\n"
     ]
    },
    {
     "name": "stdout",
     "output_type": "stream",
     "text": [
      "[======                                                                                              ]   6% (4046/64224; ~23m until finished)"
     ]
    },
    {
     "name": "stderr",
     "output_type": "stream",
     "text": [
      "2021-11-06 13:20:36,799 [WARNING] Optimization warning (l_bfgs_b): b'ABNORMAL_TERMINATION_IN_LNSRCH'\n"
     ]
    },
    {
     "name": "stdout",
     "output_type": "stream",
     "text": [
      "[======                                                                                              ]   6% (4065/64224; ~23m until finished)"
     ]
    },
    {
     "name": "stderr",
     "output_type": "stream",
     "text": [
      "2021-11-06 13:20:37,284 [WARNING] Optimization warning (l_bfgs_b): b'ABNORMAL_TERMINATION_IN_LNSRCH'\n"
     ]
    },
    {
     "name": "stdout",
     "output_type": "stream",
     "text": [
      "[======                                                                                              ]   6% (4071/64224; ~23m until finished)"
     ]
    },
    {
     "name": "stderr",
     "output_type": "stream",
     "text": [
      "2021-11-06 13:20:37,534 [WARNING] Optimization warning (l_bfgs_b): b'ABNORMAL_TERMINATION_IN_LNSRCH'\n"
     ]
    },
    {
     "name": "stdout",
     "output_type": "stream",
     "text": [
      "[======                                                                                              ]   6% (4101/64224; ~23m until finished)"
     ]
    },
    {
     "name": "stderr",
     "output_type": "stream",
     "text": [
      "2021-11-06 13:20:38,364 [WARNING] Optimization warning (l_bfgs_b): b'ABNORMAL_TERMINATION_IN_LNSRCH'\n"
     ]
    },
    {
     "name": "stdout",
     "output_type": "stream",
     "text": [
      "[======                                                                                              ]   6% (4131/64224; ~23m until finished)"
     ]
    },
    {
     "name": "stderr",
     "output_type": "stream",
     "text": [
      "2021-11-06 13:20:39,049 [WARNING] Optimization warning (l_bfgs_b): b'ABNORMAL_TERMINATION_IN_LNSRCH'\n"
     ]
    },
    {
     "name": "stdout",
     "output_type": "stream",
     "text": [
      "[======                                                                                              ]   6% (4133/64224; ~23m until finished)"
     ]
    },
    {
     "name": "stderr",
     "output_type": "stream",
     "text": [
      "2021-11-06 13:20:39,177 [WARNING] Optimization warning (l_bfgs_b): b'ABNORMAL_TERMINATION_IN_LNSRCH'\n"
     ]
    },
    {
     "name": "stdout",
     "output_type": "stream",
     "text": [
      "[======                                                                                              ]   6% (4136/64224; ~23m until finished)"
     ]
    },
    {
     "name": "stderr",
     "output_type": "stream",
     "text": [
      "2021-11-06 13:20:39,294 [WARNING] Optimization warning (l_bfgs_b): b'ABNORMAL_TERMINATION_IN_LNSRCH'\n"
     ]
    },
    {
     "name": "stdout",
     "output_type": "stream",
     "text": [
      "[======                                                                                              ]   6% (4138/64224; ~23m until finished)"
     ]
    },
    {
     "name": "stderr",
     "output_type": "stream",
     "text": [
      "2021-11-06 13:20:39,420 [WARNING] Optimization warning (l_bfgs_b): b'ABNORMAL_TERMINATION_IN_LNSRCH'\n"
     ]
    },
    {
     "name": "stdout",
     "output_type": "stream",
     "text": [
      "[======                                                                                              ]   6% (4143/64224; ~23m until finished)"
     ]
    },
    {
     "name": "stderr",
     "output_type": "stream",
     "text": [
      "2021-11-06 13:20:39,565 [WARNING] Optimization warning (l_bfgs_b): b'ABNORMAL_TERMINATION_IN_LNSRCH'\n"
     ]
    },
    {
     "name": "stdout",
     "output_type": "stream",
     "text": [
      "\r",
      "[======                                                                                              ]   6% (4144/64224; ~23m until finished)"
     ]
    },
    {
     "name": "stderr",
     "output_type": "stream",
     "text": [
      "2021-11-06 13:20:39,714 [WARNING] Optimization warning (l_bfgs_b): b'ABNORMAL_TERMINATION_IN_LNSRCH'\n"
     ]
    },
    {
     "name": "stdout",
     "output_type": "stream",
     "text": [
      "[======                                                                                              ]   7% (4212/64224; ~23m until finished)"
     ]
    },
    {
     "name": "stderr",
     "output_type": "stream",
     "text": [
      "2021-11-06 13:20:41,352 [WARNING] Optimization warning (l_bfgs_b): b'ABNORMAL_TERMINATION_IN_LNSRCH'\n"
     ]
    },
    {
     "name": "stdout",
     "output_type": "stream",
     "text": [
      "[======                                                                                              ]   7% (4214/64224; ~23m until finished)"
     ]
    },
    {
     "name": "stderr",
     "output_type": "stream",
     "text": [
      "2021-11-06 13:20:41,465 [WARNING] Optimization warning (l_bfgs_b): b'ABNORMAL_TERMINATION_IN_LNSRCH'\n"
     ]
    },
    {
     "name": "stdout",
     "output_type": "stream",
     "text": [
      "\r",
      "[======                                                                                              ]   7% (4215/64224; ~23m until finished)"
     ]
    },
    {
     "name": "stderr",
     "output_type": "stream",
     "text": [
      "2021-11-06 13:20:41,606 [WARNING] Optimization warning (l_bfgs_b): b'ABNORMAL_TERMINATION_IN_LNSRCH'\n"
     ]
    },
    {
     "name": "stdout",
     "output_type": "stream",
     "text": [
      "[======                                                                                              ]   7% (4223/64224; ~23m until finished)"
     ]
    },
    {
     "name": "stderr",
     "output_type": "stream",
     "text": [
      "2021-11-06 13:20:41,915 [WARNING] Optimization warning (l_bfgs_b): b'ABNORMAL_TERMINATION_IN_LNSRCH'\n"
     ]
    },
    {
     "name": "stdout",
     "output_type": "stream",
     "text": [
      "\r",
      "[======                                                                                              ]   7% (4224/64224; ~23m until finished)"
     ]
    },
    {
     "name": "stderr",
     "output_type": "stream",
     "text": [
      "2021-11-06 13:20:42,050 [WARNING] Optimization warning (l_bfgs_b): b'ABNORMAL_TERMINATION_IN_LNSRCH'\n"
     ]
    },
    {
     "name": "stdout",
     "output_type": "stream",
     "text": [
      "[======                                                                                              ]   7% (4226/64224; ~23m until finished)"
     ]
    },
    {
     "name": "stderr",
     "output_type": "stream",
     "text": [
      "2021-11-06 13:20:42,215 [WARNING] Optimization warning (l_bfgs_b): b'ABNORMAL_TERMINATION_IN_LNSRCH'\n"
     ]
    },
    {
     "name": "stdout",
     "output_type": "stream",
     "text": [
      "[======                                                                                              ]   7% (4255/64224; ~23m until finished)"
     ]
    },
    {
     "name": "stderr",
     "output_type": "stream",
     "text": [
      "2021-11-06 13:20:43,072 [WARNING] Optimization warning (l_bfgs_b): b'ABNORMAL_TERMINATION_IN_LNSRCH'\n"
     ]
    },
    {
     "name": "stdout",
     "output_type": "stream",
     "text": [
      "[======                                                                                              ]   7% (4268/64224; ~23m until finished)"
     ]
    },
    {
     "name": "stderr",
     "output_type": "stream",
     "text": [
      "2021-11-06 13:20:43,600 [WARNING] Optimization warning (l_bfgs_b): b'ABNORMAL_TERMINATION_IN_LNSRCH'\n"
     ]
    },
    {
     "name": "stdout",
     "output_type": "stream",
     "text": [
      "[======                                                                                              ]   7% (4277/64224; ~23m until finished)"
     ]
    },
    {
     "name": "stderr",
     "output_type": "stream",
     "text": [
      "2021-11-06 13:20:43,900 [WARNING] Optimization warning (l_bfgs_b): b'ABNORMAL_TERMINATION_IN_LNSRCH'\n"
     ]
    },
    {
     "name": "stdout",
     "output_type": "stream",
     "text": [
      "[======                                                                                              ]   7% (4286/64224; ~23m until finished)"
     ]
    },
    {
     "name": "stderr",
     "output_type": "stream",
     "text": [
      "2021-11-06 13:20:44,261 [WARNING] Optimization warning (l_bfgs_b): b'ABNORMAL_TERMINATION_IN_LNSRCH'\n"
     ]
    },
    {
     "name": "stdout",
     "output_type": "stream",
     "text": [
      "[======                                                                                              ]   7% (4339/64224; ~23m until finished)"
     ]
    },
    {
     "name": "stderr",
     "output_type": "stream",
     "text": [
      "2021-11-06 13:20:45,516 [WARNING] Optimization warning (l_bfgs_b): b'ABNORMAL_TERMINATION_IN_LNSRCH'\n"
     ]
    },
    {
     "name": "stdout",
     "output_type": "stream",
     "text": [
      "[======                                                                                              ]   7% (4343/64224; ~23m until finished)"
     ]
    },
    {
     "name": "stderr",
     "output_type": "stream",
     "text": [
      "2021-11-06 13:20:45,750 [WARNING] Optimization warning (l_bfgs_b): b'ABNORMAL_TERMINATION_IN_LNSRCH'\n"
     ]
    },
    {
     "name": "stdout",
     "output_type": "stream",
     "text": [
      "\r",
      "[======                                                                                              ]   7% (4344/64224; ~23m until finished)"
     ]
    },
    {
     "name": "stderr",
     "output_type": "stream",
     "text": [
      "2021-11-06 13:20:45,860 [WARNING] Optimization warning (l_bfgs_b): b'ABNORMAL_TERMINATION_IN_LNSRCH'\n"
     ]
    },
    {
     "name": "stdout",
     "output_type": "stream",
     "text": [
      "[======                                                                                              ]   7% (4354/64224; ~23m until finished)"
     ]
    },
    {
     "name": "stderr",
     "output_type": "stream",
     "text": [
      "2021-11-06 13:20:46,186 [WARNING] Optimization warning (l_bfgs_b): b'ABNORMAL_TERMINATION_IN_LNSRCH'\n"
     ]
    },
    {
     "name": "stdout",
     "output_type": "stream",
     "text": [
      "[======                                                                                              ]   7% (4356/64224; ~23m until finished)"
     ]
    },
    {
     "name": "stderr",
     "output_type": "stream",
     "text": [
      "2021-11-06 13:20:46,316 [WARNING] Optimization warning (l_bfgs_b): b'ABNORMAL_TERMINATION_IN_LNSRCH'\n"
     ]
    },
    {
     "name": "stdout",
     "output_type": "stream",
     "text": [
      "[======                                                                                              ]   7% (4370/64224; ~23m until finished)"
     ]
    },
    {
     "name": "stderr",
     "output_type": "stream",
     "text": [
      "2021-11-06 13:20:46,736 [WARNING] Optimization warning (l_bfgs_b): b'ABNORMAL_TERMINATION_IN_LNSRCH'\n"
     ]
    },
    {
     "name": "stdout",
     "output_type": "stream",
     "text": [
      "[======                                                                                              ]   7% (4384/64224; ~23m until finished)"
     ]
    },
    {
     "name": "stderr",
     "output_type": "stream",
     "text": [
      "2021-11-06 13:20:47,163 [WARNING] Optimization warning (l_bfgs_b): b'ABNORMAL_TERMINATION_IN_LNSRCH'\n"
     ]
    },
    {
     "name": "stdout",
     "output_type": "stream",
     "text": [
      "[======                                                                                              ]   7% (4397/64224; ~23m until finished)"
     ]
    },
    {
     "name": "stderr",
     "output_type": "stream",
     "text": [
      "2021-11-06 13:20:47,583 [WARNING] Optimization warning (l_bfgs_b): b'ABNORMAL_TERMINATION_IN_LNSRCH'\n"
     ]
    },
    {
     "name": "stdout",
     "output_type": "stream",
     "text": [
      "[======                                                                                              ]   7% (4401/64224; ~24m until finished)"
     ]
    },
    {
     "name": "stderr",
     "output_type": "stream",
     "text": [
      "2021-11-06 13:20:47,800 [WARNING] Optimization warning (l_bfgs_b): b'ABNORMAL_TERMINATION_IN_LNSRCH'\n"
     ]
    },
    {
     "name": "stdout",
     "output_type": "stream",
     "text": [
      "[======                                                                                              ]   7% (4436/64224; ~24m until finished)"
     ]
    },
    {
     "name": "stderr",
     "output_type": "stream",
     "text": [
      "2021-11-06 13:20:48,716 [WARNING] Optimization warning (l_bfgs_b): b'ABNORMAL_TERMINATION_IN_LNSRCH'\n"
     ]
    },
    {
     "name": "stdout",
     "output_type": "stream",
     "text": [
      "[======                                                                                              ]   7% (4446/64224; ~24m until finished)"
     ]
    },
    {
     "name": "stderr",
     "output_type": "stream",
     "text": [
      "2021-11-06 13:20:49,028 [WARNING] Optimization warning (l_bfgs_b): b'ABNORMAL_TERMINATION_IN_LNSRCH'\n"
     ]
    },
    {
     "name": "stdout",
     "output_type": "stream",
     "text": [
      "\r",
      "[======                                                                                              ]   7% (4447/64224; ~24m until finished)"
     ]
    },
    {
     "name": "stderr",
     "output_type": "stream",
     "text": [
      "2021-11-06 13:20:49,138 [WARNING] Optimization warning (l_bfgs_b): b'ABNORMAL_TERMINATION_IN_LNSRCH'\n"
     ]
    },
    {
     "name": "stdout",
     "output_type": "stream",
     "text": [
      "[======                                                                                              ]   7% (4450/64224; ~24m until finished)"
     ]
    },
    {
     "name": "stderr",
     "output_type": "stream",
     "text": [
      "2021-11-06 13:20:49,292 [WARNING] Optimization warning (l_bfgs_b): b'ABNORMAL_TERMINATION_IN_LNSRCH'\n"
     ]
    },
    {
     "name": "stdout",
     "output_type": "stream",
     "text": [
      "[======                                                                                              ]   7% (4464/64224; ~24m until finished)"
     ]
    },
    {
     "name": "stderr",
     "output_type": "stream",
     "text": [
      "2021-11-06 13:20:49,714 [WARNING] Optimization warning (l_bfgs_b): b'ABNORMAL_TERMINATION_IN_LNSRCH'\n"
     ]
    },
    {
     "name": "stdout",
     "output_type": "stream",
     "text": [
      "[======                                                                                              ]   7% (4468/64224; ~24m until finished)"
     ]
    },
    {
     "name": "stderr",
     "output_type": "stream",
     "text": [
      "2021-11-06 13:20:49,891 [WARNING] Optimization warning (l_bfgs_b): b'ABNORMAL_TERMINATION_IN_LNSRCH'\n"
     ]
    },
    {
     "name": "stdout",
     "output_type": "stream",
     "text": [
      "[======                                                                                              ]   7% (4480/64224; ~24m until finished)"
     ]
    },
    {
     "name": "stderr",
     "output_type": "stream",
     "text": [
      "2021-11-06 13:20:50,230 [WARNING] Optimization warning (l_bfgs_b): b'ABNORMAL_TERMINATION_IN_LNSRCH'\n"
     ]
    },
    {
     "name": "stdout",
     "output_type": "stream",
     "text": [
      "[======                                                                                              ]   7% (4490/64224; ~24m until finished)"
     ]
    },
    {
     "name": "stderr",
     "output_type": "stream",
     "text": [
      "2021-11-06 13:20:50,529 [WARNING] Optimization warning (l_bfgs_b): b'ABNORMAL_TERMINATION_IN_LNSRCH'\n"
     ]
    },
    {
     "name": "stdout",
     "output_type": "stream",
     "text": [
      "\r",
      "[======                                                                                              ]   7% (4491/64224; ~24m until finished)"
     ]
    },
    {
     "name": "stderr",
     "output_type": "stream",
     "text": [
      "2021-11-06 13:20:50,651 [WARNING] Optimization warning (l_bfgs_b): b'ABNORMAL_TERMINATION_IN_LNSRCH'\n"
     ]
    },
    {
     "name": "stdout",
     "output_type": "stream",
     "text": [
      "[=======                                                                                             ]   7% (4501/64224; ~24m until finished)"
     ]
    },
    {
     "name": "stderr",
     "output_type": "stream",
     "text": [
      "2021-11-06 13:20:50,947 [WARNING] Optimization warning (l_bfgs_b): b'ABNORMAL_TERMINATION_IN_LNSRCH'\n"
     ]
    },
    {
     "name": "stdout",
     "output_type": "stream",
     "text": [
      "[=======                                                                                             ]   7% (4520/64224; ~24m until finished)"
     ]
    },
    {
     "name": "stderr",
     "output_type": "stream",
     "text": [
      "2021-11-06 13:20:51,547 [WARNING] Optimization warning (l_bfgs_b): b'ABNORMAL_TERMINATION_IN_LNSRCH'\n"
     ]
    },
    {
     "name": "stdout",
     "output_type": "stream",
     "text": [
      "[=======                                                                                             ]   7% (4522/64224; ~24m until finished)"
     ]
    },
    {
     "name": "stderr",
     "output_type": "stream",
     "text": [
      "2021-11-06 13:20:51,715 [WARNING] Optimization warning (l_bfgs_b): b'ABNORMAL_TERMINATION_IN_LNSRCH'\n"
     ]
    },
    {
     "name": "stdout",
     "output_type": "stream",
     "text": [
      "[=======                                                                                             ]   7% (4555/64224; ~24m until finished)"
     ]
    },
    {
     "name": "stderr",
     "output_type": "stream",
     "text": [
      "2021-11-06 13:20:52,633 [WARNING] Optimization warning (l_bfgs_b): b'ABNORMAL_TERMINATION_IN_LNSRCH'\n"
     ]
    },
    {
     "name": "stdout",
     "output_type": "stream",
     "text": [
      "[=======                                                                                             ]   7% (4585/64224; ~24m until finished)"
     ]
    },
    {
     "name": "stderr",
     "output_type": "stream",
     "text": [
      "2021-11-06 13:20:53,355 [WARNING] Optimization warning (l_bfgs_b): b'ABNORMAL_TERMINATION_IN_LNSRCH'\n"
     ]
    },
    {
     "name": "stdout",
     "output_type": "stream",
     "text": [
      "[=======                                                                                             ]   7% (4599/64224; ~24m until finished)"
     ]
    },
    {
     "name": "stderr",
     "output_type": "stream",
     "text": [
      "2021-11-06 13:20:53,887 [WARNING] Optimization warning (l_bfgs_b): b'ABNORMAL_TERMINATION_IN_LNSRCH'\n"
     ]
    },
    {
     "name": "stdout",
     "output_type": "stream",
     "text": [
      "[=======                                                                                             ]   7% (4664/64224; ~24m until finished)"
     ]
    },
    {
     "name": "stderr",
     "output_type": "stream",
     "text": [
      "2021-11-06 13:20:55,471 [WARNING] Optimization warning (l_bfgs_b): b'ABNORMAL_TERMINATION_IN_LNSRCH'\n"
     ]
    },
    {
     "name": "stdout",
     "output_type": "stream",
     "text": [
      "[=======                                                                                             ]   7% (4667/64224; ~24m until finished)"
     ]
    },
    {
     "name": "stderr",
     "output_type": "stream",
     "text": [
      "2021-11-06 13:20:55,606 [WARNING] Optimization warning (l_bfgs_b): b'ABNORMAL_TERMINATION_IN_LNSRCH'\n"
     ]
    },
    {
     "name": "stdout",
     "output_type": "stream",
     "text": [
      "\r",
      "[=======                                                                                             ]   7% (4668/64224; ~24m until finished)"
     ]
    },
    {
     "name": "stderr",
     "output_type": "stream",
     "text": [
      "2021-11-06 13:20:55,697 [WARNING] Optimization warning (l_bfgs_b): b'ABNORMAL_TERMINATION_IN_LNSRCH'\n"
     ]
    },
    {
     "name": "stdout",
     "output_type": "stream",
     "text": [
      "[=======                                                                                             ]   7% (4675/64224; ~24m until finished)"
     ]
    },
    {
     "name": "stderr",
     "output_type": "stream",
     "text": [
      "2021-11-06 13:20:55,922 [WARNING] Optimization warning (l_bfgs_b): b'ABNORMAL_TERMINATION_IN_LNSRCH'\n"
     ]
    },
    {
     "name": "stdout",
     "output_type": "stream",
     "text": [
      "\r",
      "[=======                                                                                             ]   7% (4676/64224; ~24m until finished)"
     ]
    },
    {
     "name": "stderr",
     "output_type": "stream",
     "text": [
      "2021-11-06 13:20:56,054 [WARNING] Optimization warning (l_bfgs_b): b'ABNORMAL_TERMINATION_IN_LNSRCH'\n"
     ]
    },
    {
     "name": "stdout",
     "output_type": "stream",
     "text": [
      "[=======                                                                                             ]   7% (4711/64224; ~24m until finished)"
     ]
    },
    {
     "name": "stderr",
     "output_type": "stream",
     "text": [
      "2021-11-06 13:20:56,794 [WARNING] Optimization warning (l_bfgs_b): b'ABNORMAL_TERMINATION_IN_LNSRCH'\n"
     ]
    },
    {
     "name": "stdout",
     "output_type": "stream",
     "text": [
      "[=======                                                                                             ]   7% (4750/64224; ~24m until finished)"
     ]
    },
    {
     "name": "stderr",
     "output_type": "stream",
     "text": [
      "2021-11-06 13:20:57,582 [WARNING] Optimization warning (l_bfgs_b): b'ABNORMAL_TERMINATION_IN_LNSRCH'\n"
     ]
    },
    {
     "name": "stdout",
     "output_type": "stream",
     "text": [
      "[=======                                                                                             ]   7% (4757/64224; ~24m until finished)"
     ]
    },
    {
     "name": "stderr",
     "output_type": "stream",
     "text": [
      "2021-11-06 13:20:57,848 [WARNING] Optimization warning (l_bfgs_b): b'ABNORMAL_TERMINATION_IN_LNSRCH'\n"
     ]
    },
    {
     "name": "stdout",
     "output_type": "stream",
     "text": [
      "\r",
      "[=======                                                                                             ]   7% (4758/64224; ~24m until finished)"
     ]
    },
    {
     "name": "stderr",
     "output_type": "stream",
     "text": [
      "2021-11-06 13:20:57,971 [WARNING] Optimization warning (l_bfgs_b): b'ABNORMAL_TERMINATION_IN_LNSRCH'\n"
     ]
    },
    {
     "name": "stdout",
     "output_type": "stream",
     "text": [
      "[=======                                                                                             ]   7% (4762/64224; ~24m until finished)"
     ]
    },
    {
     "name": "stderr",
     "output_type": "stream",
     "text": [
      "2021-11-06 13:20:58,141 [WARNING] Optimization warning (l_bfgs_b): b'ABNORMAL_TERMINATION_IN_LNSRCH'\n"
     ]
    },
    {
     "name": "stdout",
     "output_type": "stream",
     "text": [
      "[=======                                                                                             ]   7% (4764/64224; ~24m until finished)"
     ]
    },
    {
     "name": "stderr",
     "output_type": "stream",
     "text": [
      "2021-11-06 13:20:58,248 [WARNING] Optimization warning (l_bfgs_b): b'ABNORMAL_TERMINATION_IN_LNSRCH'\n"
     ]
    },
    {
     "name": "stdout",
     "output_type": "stream",
     "text": [
      "[=======                                                                                             ]   7% (4784/64224; ~24m until finished)"
     ]
    },
    {
     "name": "stderr",
     "output_type": "stream",
     "text": [
      "2021-11-06 13:20:58,623 [WARNING] Optimization warning (l_bfgs_b): b'ABNORMAL_TERMINATION_IN_LNSRCH'\n"
     ]
    },
    {
     "name": "stdout",
     "output_type": "stream",
     "text": [
      "[=======                                                                                             ]   7% (4786/64224; ~24m until finished)"
     ]
    },
    {
     "name": "stderr",
     "output_type": "stream",
     "text": [
      "2021-11-06 13:20:58,732 [WARNING] Optimization warning (l_bfgs_b): b'ABNORMAL_TERMINATION_IN_LNSRCH'\n"
     ]
    },
    {
     "name": "stdout",
     "output_type": "stream",
     "text": [
      "[=======                                                                                             ]   7% (4802/64224; ~24m until finished)"
     ]
    },
    {
     "name": "stderr",
     "output_type": "stream",
     "text": [
      "2021-11-06 13:20:59,048 [WARNING] Optimization warning (l_bfgs_b): b'ABNORMAL_TERMINATION_IN_LNSRCH'\n"
     ]
    },
    {
     "name": "stdout",
     "output_type": "stream",
     "text": [
      "[=======                                                                                             ]   7% (4808/64224; ~24m until finished)"
     ]
    },
    {
     "name": "stderr",
     "output_type": "stream",
     "text": [
      "2021-11-06 13:20:59,194 [WARNING] Optimization warning (l_bfgs_b): b'ABNORMAL_TERMINATION_IN_LNSRCH'\n"
     ]
    },
    {
     "name": "stdout",
     "output_type": "stream",
     "text": [
      "[=======                                                                                             ]   8% (4826/64224; ~24m until finished)"
     ]
    },
    {
     "name": "stderr",
     "output_type": "stream",
     "text": [
      "2021-11-06 13:20:59,560 [WARNING] Optimization warning (l_bfgs_b): b'ABNORMAL_TERMINATION_IN_LNSRCH'\n"
     ]
    },
    {
     "name": "stdout",
     "output_type": "stream",
     "text": [
      "[=======                                                                                             ]   8% (4879/64224; ~24m until finished)"
     ]
    },
    {
     "name": "stderr",
     "output_type": "stream",
     "text": [
      "2021-11-06 13:21:00,673 [WARNING] Optimization warning (l_bfgs_b): b'ABNORMAL_TERMINATION_IN_LNSRCH'\n"
     ]
    },
    {
     "name": "stdout",
     "output_type": "stream",
     "text": [
      "[=======                                                                                             ]   8% (4888/64224; ~24m until finished)"
     ]
    },
    {
     "name": "stderr",
     "output_type": "stream",
     "text": [
      "2021-11-06 13:21:00,914 [WARNING] Optimization warning (l_bfgs_b): b'ABNORMAL_TERMINATION_IN_LNSRCH'\n"
     ]
    },
    {
     "name": "stdout",
     "output_type": "stream",
     "text": [
      "[=======                                                                                             ]   8% (4896/64224; ~24m until finished)"
     ]
    },
    {
     "name": "stderr",
     "output_type": "stream",
     "text": [
      "2021-11-06 13:21:01,132 [WARNING] Optimization warning (l_bfgs_b): b'ABNORMAL_TERMINATION_IN_LNSRCH'\n"
     ]
    },
    {
     "name": "stdout",
     "output_type": "stream",
     "text": [
      "[=======                                                                                             ]   8% (4899/64224; ~24m until finished)"
     ]
    },
    {
     "name": "stderr",
     "output_type": "stream",
     "text": [
      "2021-11-06 13:21:01,235 [WARNING] Optimization warning (l_bfgs_b): b'ABNORMAL_TERMINATION_IN_LNSRCH'\n"
     ]
    },
    {
     "name": "stdout",
     "output_type": "stream",
     "text": [
      "[=======                                                                                             ]   8% (4903/64224; ~24m until finished)"
     ]
    },
    {
     "name": "stderr",
     "output_type": "stream",
     "text": [
      "2021-11-06 13:21:01,349 [WARNING] Optimization warning (l_bfgs_b): b'ABNORMAL_TERMINATION_IN_LNSRCH'\n"
     ]
    },
    {
     "name": "stdout",
     "output_type": "stream",
     "text": [
      "\r",
      "[=======                                                                                             ]   8% (4904/64224; ~24m until finished)"
     ]
    },
    {
     "name": "stderr",
     "output_type": "stream",
     "text": [
      "2021-11-06 13:21:01,400 [WARNING] Optimization warning (l_bfgs_b): b'ABNORMAL_TERMINATION_IN_LNSRCH'\n"
     ]
    },
    {
     "name": "stdout",
     "output_type": "stream",
     "text": [
      "[=======                                                                                             ]   8% (4909/64224; ~24m until finished)"
     ]
    },
    {
     "name": "stderr",
     "output_type": "stream",
     "text": [
      "2021-11-06 13:21:01,507 [WARNING] Optimization warning (l_bfgs_b): b'ABNORMAL_TERMINATION_IN_LNSRCH'\n"
     ]
    },
    {
     "name": "stdout",
     "output_type": "stream",
     "text": [
      "[=======                                                                                             ]   8% (4919/64224; ~24m until finished)"
     ]
    },
    {
     "name": "stderr",
     "output_type": "stream",
     "text": [
      "2021-11-06 13:21:01,703 [WARNING] Optimization warning (l_bfgs_b): b'ABNORMAL_TERMINATION_IN_LNSRCH'\n"
     ]
    },
    {
     "name": "stdout",
     "output_type": "stream",
     "text": [
      "[=======                                                                                             ]   8% (4924/64224; ~24m until finished)"
     ]
    },
    {
     "name": "stderr",
     "output_type": "stream",
     "text": [
      "2021-11-06 13:21:01,847 [WARNING] Optimization warning (l_bfgs_b): b'ABNORMAL_TERMINATION_IN_LNSRCH'\n"
     ]
    },
    {
     "name": "stdout",
     "output_type": "stream",
     "text": [
      "[=======                                                                                             ]   8% (4936/64224; ~24m until finished)"
     ]
    },
    {
     "name": "stderr",
     "output_type": "stream",
     "text": [
      "2021-11-06 13:21:02,126 [WARNING] Optimization warning (l_bfgs_b): b'ABNORMAL_TERMINATION_IN_LNSRCH'\n"
     ]
    },
    {
     "name": "stdout",
     "output_type": "stream",
     "text": [
      "[=======                                                                                             ]   8% (4943/64224; ~24m until finished)"
     ]
    },
    {
     "name": "stderr",
     "output_type": "stream",
     "text": [
      "2021-11-06 13:21:02,345 [WARNING] Optimization warning (l_bfgs_b): b'ABNORMAL_TERMINATION_IN_LNSRCH'\n"
     ]
    },
    {
     "name": "stdout",
     "output_type": "stream",
     "text": [
      "[=======                                                                                             ]   8% (4953/64224; ~24m until finished)"
     ]
    },
    {
     "name": "stderr",
     "output_type": "stream",
     "text": [
      "2021-11-06 13:21:02,596 [WARNING] Optimization warning (l_bfgs_b): b'ABNORMAL_TERMINATION_IN_LNSRCH'\n"
     ]
    },
    {
     "name": "stdout",
     "output_type": "stream",
     "text": [
      "[=======                                                                                             ]   8% (4964/64224; ~24m until finished)"
     ]
    },
    {
     "name": "stderr",
     "output_type": "stream",
     "text": [
      "2021-11-06 13:21:02,819 [WARNING] Optimization warning (l_bfgs_b): b'ABNORMAL_TERMINATION_IN_LNSRCH'\n"
     ]
    },
    {
     "name": "stdout",
     "output_type": "stream",
     "text": [
      "[=======                                                                                             ]   8% (4995/64224; ~24m until finished)"
     ]
    },
    {
     "name": "stderr",
     "output_type": "stream",
     "text": [
      "2021-11-06 13:21:03,449 [WARNING] Optimization warning (l_bfgs_b): b'ABNORMAL_TERMINATION_IN_LNSRCH'\n"
     ]
    },
    {
     "name": "stdout",
     "output_type": "stream",
     "text": [
      "[=======                                                                                             ]   8% (5020/64224; ~24m until finished)"
     ]
    },
    {
     "name": "stderr",
     "output_type": "stream",
     "text": [
      "2021-11-06 13:21:04,011 [WARNING] Optimization warning (l_bfgs_b): b'ABNORMAL_TERMINATION_IN_LNSRCH'\n"
     ]
    },
    {
     "name": "stdout",
     "output_type": "stream",
     "text": [
      "[=======                                                                                             ]   8% (5042/64224; ~24m until finished)"
     ]
    },
    {
     "name": "stderr",
     "output_type": "stream",
     "text": [
      "2021-11-06 13:21:04,529 [WARNING] Optimization warning (l_bfgs_b): b'ABNORMAL_TERMINATION_IN_LNSRCH'\n"
     ]
    },
    {
     "name": "stdout",
     "output_type": "stream",
     "text": [
      "[=======                                                                                             ]   8% (5046/64224; ~24m until finished)"
     ]
    },
    {
     "name": "stderr",
     "output_type": "stream",
     "text": [
      "2021-11-06 13:21:04,721 [WARNING] Optimization warning (l_bfgs_b): b'ABNORMAL_TERMINATION_IN_LNSRCH'\n"
     ]
    },
    {
     "name": "stdout",
     "output_type": "stream",
     "text": [
      "[=======                                                                                             ]   8% (5058/64224; ~24m until finished)"
     ]
    },
    {
     "name": "stderr",
     "output_type": "stream",
     "text": [
      "2021-11-06 13:21:05,043 [WARNING] Optimization warning (l_bfgs_b): b'ABNORMAL_TERMINATION_IN_LNSRCH'\n"
     ]
    },
    {
     "name": "stdout",
     "output_type": "stream",
     "text": [
      "[=======                                                                                             ]   8% (5068/64224; ~24m until finished)"
     ]
    },
    {
     "name": "stderr",
     "output_type": "stream",
     "text": [
      "2021-11-06 13:21:05,302 [WARNING] Optimization warning (l_bfgs_b): b'ABNORMAL_TERMINATION_IN_LNSRCH'\n"
     ]
    },
    {
     "name": "stdout",
     "output_type": "stream",
     "text": [
      "[=======                                                                                             ]   8% (5084/64224; ~24m until finished)"
     ]
    },
    {
     "name": "stderr",
     "output_type": "stream",
     "text": [
      "2021-11-06 13:21:05,643 [WARNING] Optimization warning (l_bfgs_b): b'ABNORMAL_TERMINATION_IN_LNSRCH'\n"
     ]
    },
    {
     "name": "stdout",
     "output_type": "stream",
     "text": [
      "[=======                                                                                             ]   8% (5086/64224; ~24m until finished)"
     ]
    },
    {
     "name": "stderr",
     "output_type": "stream",
     "text": [
      "2021-11-06 13:21:05,758 [WARNING] Optimization warning (l_bfgs_b): b'ABNORMAL_TERMINATION_IN_LNSRCH'\n"
     ]
    },
    {
     "name": "stdout",
     "output_type": "stream",
     "text": [
      "[=======                                                                                             ]   8% (5105/64224; ~24m until finished)"
     ]
    },
    {
     "name": "stderr",
     "output_type": "stream",
     "text": [
      "2021-11-06 13:21:06,118 [WARNING] Optimization warning (l_bfgs_b): b'ABNORMAL_TERMINATION_IN_LNSRCH'\n"
     ]
    },
    {
     "name": "stdout",
     "output_type": "stream",
     "text": [
      "[=======                                                                                             ]   8% (5121/64224; ~24m until finished)"
     ]
    },
    {
     "name": "stderr",
     "output_type": "stream",
     "text": [
      "2021-11-06 13:21:06,510 [WARNING] Optimization warning (l_bfgs_b): b'ABNORMAL_TERMINATION_IN_LNSRCH'\n"
     ]
    },
    {
     "name": "stdout",
     "output_type": "stream",
     "text": [
      "[========                                                                                            ]   8% (5193/64224; ~23m until finished)"
     ]
    },
    {
     "name": "stderr",
     "output_type": "stream",
     "text": [
      "2021-11-06 13:21:08,051 [WARNING] Optimization warning (l_bfgs_b): b'ABNORMAL_TERMINATION_IN_LNSRCH'\n"
     ]
    },
    {
     "name": "stdout",
     "output_type": "stream",
     "text": [
      "[========                                                                                            ]   8% (5216/64224; ~23m until finished)"
     ]
    },
    {
     "name": "stderr",
     "output_type": "stream",
     "text": [
      "2021-11-06 13:21:08,599 [WARNING] Optimization warning (l_bfgs_b): b'ABNORMAL_TERMINATION_IN_LNSRCH'\n"
     ]
    },
    {
     "name": "stdout",
     "output_type": "stream",
     "text": [
      "[========                                                                                            ]   8% (5229/64224; ~23m until finished)"
     ]
    },
    {
     "name": "stderr",
     "output_type": "stream",
     "text": [
      "2021-11-06 13:21:08,906 [WARNING] Optimization warning (l_bfgs_b): b'ABNORMAL_TERMINATION_IN_LNSRCH'\n"
     ]
    },
    {
     "name": "stdout",
     "output_type": "stream",
     "text": [
      "[========                                                                                            ]   8% (5246/64224; ~23m until finished)"
     ]
    },
    {
     "name": "stderr",
     "output_type": "stream",
     "text": [
      "2021-11-06 13:21:09,259 [WARNING] Optimization warning (l_bfgs_b): b'ABNORMAL_TERMINATION_IN_LNSRCH'\n"
     ]
    },
    {
     "name": "stdout",
     "output_type": "stream",
     "text": [
      "[========                                                                                            ]   8% (5273/64224; ~23m until finished)"
     ]
    },
    {
     "name": "stderr",
     "output_type": "stream",
     "text": [
      "2021-11-06 13:21:09,911 [WARNING] Optimization warning (l_bfgs_b): b'ABNORMAL_TERMINATION_IN_LNSRCH'\n"
     ]
    },
    {
     "name": "stdout",
     "output_type": "stream",
     "text": [
      "[========                                                                                            ]   8% (5306/64224; ~23m until finished)"
     ]
    },
    {
     "name": "stderr",
     "output_type": "stream",
     "text": [
      "2021-11-06 13:21:10,699 [WARNING] Optimization warning (l_bfgs_b): b'ABNORMAL_TERMINATION_IN_LNSRCH'\n"
     ]
    },
    {
     "name": "stdout",
     "output_type": "stream",
     "text": [
      "[========                                                                                            ]   8% (5368/64224; ~23m until finished)"
     ]
    },
    {
     "name": "stderr",
     "output_type": "stream",
     "text": [
      "2021-11-06 13:21:11,944 [WARNING] Optimization warning (l_bfgs_b): b'ABNORMAL_TERMINATION_IN_LNSRCH'\n"
     ]
    },
    {
     "name": "stdout",
     "output_type": "stream",
     "text": [
      "[========                                                                                            ]   8% (5425/64224; ~23m until finished)"
     ]
    },
    {
     "name": "stderr",
     "output_type": "stream",
     "text": [
      "2021-11-06 13:21:13,176 [WARNING] Optimization warning (l_bfgs_b): b'ABNORMAL_TERMINATION_IN_LNSRCH'\n"
     ]
    },
    {
     "name": "stdout",
     "output_type": "stream",
     "text": [
      "\r",
      "[========                                                                                            ]   8% (5426/64224; ~23m until finished)"
     ]
    },
    {
     "name": "stderr",
     "output_type": "stream",
     "text": [
      "2021-11-06 13:21:13,282 [WARNING] Optimization warning (l_bfgs_b): b'ABNORMAL_TERMINATION_IN_LNSRCH'\n"
     ]
    },
    {
     "name": "stdout",
     "output_type": "stream",
     "text": [
      "[========                                                                                            ]   8% (5431/64224; ~23m until finished)"
     ]
    },
    {
     "name": "stderr",
     "output_type": "stream",
     "text": [
      "2021-11-06 13:21:13,454 [WARNING] Optimization warning (l_bfgs_b): b'ABNORMAL_TERMINATION_IN_LNSRCH'\n"
     ]
    },
    {
     "name": "stdout",
     "output_type": "stream",
     "text": [
      "[========                                                                                            ]   8% (5433/64224; ~23m until finished)"
     ]
    },
    {
     "name": "stderr",
     "output_type": "stream",
     "text": [
      "2021-11-06 13:21:13,582 [WARNING] Optimization warning (l_bfgs_b): b'ABNORMAL_TERMINATION_IN_LNSRCH'\n"
     ]
    },
    {
     "name": "stdout",
     "output_type": "stream",
     "text": [
      "[========                                                                                            ]   9% (5504/64224; ~23m until finished)"
     ]
    },
    {
     "name": "stderr",
     "output_type": "stream",
     "text": [
      "2021-11-06 13:21:15,075 [WARNING] Optimization warning (l_bfgs_b): b'ABNORMAL_TERMINATION_IN_LNSRCH'\n"
     ]
    },
    {
     "name": "stdout",
     "output_type": "stream",
     "text": [
      "[========                                                                                            ]   9% (5520/64224; ~23m until finished)"
     ]
    },
    {
     "name": "stderr",
     "output_type": "stream",
     "text": [
      "2021-11-06 13:21:15,441 [WARNING] Optimization warning (l_bfgs_b): b'ABNORMAL_TERMINATION_IN_LNSRCH'\n"
     ]
    },
    {
     "name": "stdout",
     "output_type": "stream",
     "text": [
      "\r",
      "[========                                                                                            ]   9% (5521/64224; ~23m until finished)"
     ]
    },
    {
     "name": "stderr",
     "output_type": "stream",
     "text": [
      "2021-11-06 13:21:15,546 [WARNING] Optimization warning (l_bfgs_b): b'ABNORMAL_TERMINATION_IN_LNSRCH'\n"
     ]
    },
    {
     "name": "stdout",
     "output_type": "stream",
     "text": [
      "\r",
      "[========                                                                                            ]   9% (5522/64224; ~23m until finished)"
     ]
    },
    {
     "name": "stderr",
     "output_type": "stream",
     "text": [
      "2021-11-06 13:21:15,637 [WARNING] Optimization warning (l_bfgs_b): b'ABNORMAL_TERMINATION_IN_LNSRCH'\n"
     ]
    },
    {
     "name": "stdout",
     "output_type": "stream",
     "text": [
      "[========                                                                                            ]   9% (5525/64224; ~23m until finished)"
     ]
    },
    {
     "name": "stderr",
     "output_type": "stream",
     "text": [
      "2021-11-06 13:21:15,794 [WARNING] Optimization warning (l_bfgs_b): b'ABNORMAL_TERMINATION_IN_LNSRCH'\n"
     ]
    },
    {
     "name": "stdout",
     "output_type": "stream",
     "text": [
      "[========                                                                                            ]   9% (5532/64224; ~23m until finished)"
     ]
    },
    {
     "name": "stderr",
     "output_type": "stream",
     "text": [
      "2021-11-06 13:21:16,086 [WARNING] Optimization warning (l_bfgs_b): b'ABNORMAL_TERMINATION_IN_LNSRCH'\n"
     ]
    },
    {
     "name": "stdout",
     "output_type": "stream",
     "text": [
      "[========                                                                                            ]   9% (5547/64224; ~23m until finished)"
     ]
    },
    {
     "name": "stderr",
     "output_type": "stream",
     "text": [
      "2021-11-06 13:21:16,352 [WARNING] Optimization warning (l_bfgs_b): b'ABNORMAL_TERMINATION_IN_LNSRCH'\n"
     ]
    },
    {
     "name": "stdout",
     "output_type": "stream",
     "text": [
      "[========                                                                                            ]   9% (5637/64224; ~23m until finished)"
     ]
    },
    {
     "name": "stderr",
     "output_type": "stream",
     "text": [
      "2021-11-06 13:21:18,145 [WARNING] Optimization warning (l_bfgs_b): b'ABNORMAL_TERMINATION_IN_LNSRCH'\n"
     ]
    },
    {
     "name": "stdout",
     "output_type": "stream",
     "text": [
      "[========                                                                                            ]   9% (5639/64224; ~23m until finished)"
     ]
    },
    {
     "name": "stderr",
     "output_type": "stream",
     "text": [
      "2021-11-06 13:21:18,291 [WARNING] Optimization warning (l_bfgs_b): b'ABNORMAL_TERMINATION_IN_LNSRCH'\n"
     ]
    },
    {
     "name": "stdout",
     "output_type": "stream",
     "text": [
      "[========                                                                                            ]   9% (5643/64224; ~23m until finished)"
     ]
    },
    {
     "name": "stderr",
     "output_type": "stream",
     "text": [
      "2021-11-06 13:21:18,543 [WARNING] Optimization warning (l_bfgs_b): b'ABNORMAL_TERMINATION_IN_LNSRCH'\n"
     ]
    },
    {
     "name": "stdout",
     "output_type": "stream",
     "text": [
      "[========                                                                                            ]   9% (5660/64224; ~23m until finished)"
     ]
    },
    {
     "name": "stderr",
     "output_type": "stream",
     "text": [
      "2021-11-06 13:21:18,973 [WARNING] Optimization warning (l_bfgs_b): b'ABNORMAL_TERMINATION_IN_LNSRCH'\n"
     ]
    },
    {
     "name": "stdout",
     "output_type": "stream",
     "text": [
      "[========                                                                                            ]   9% (5712/64224; ~23m until finished)"
     ]
    },
    {
     "name": "stderr",
     "output_type": "stream",
     "text": [
      "2021-11-06 13:21:20,175 [WARNING] Optimization warning (l_bfgs_b): b'ABNORMAL_TERMINATION_IN_LNSRCH'\n"
     ]
    },
    {
     "name": "stdout",
     "output_type": "stream",
     "text": [
      "\r",
      "[========                                                                                            ]   9% (5713/64224; ~23m until finished)"
     ]
    },
    {
     "name": "stderr",
     "output_type": "stream",
     "text": [
      "2021-11-06 13:21:20,315 [WARNING] Optimization warning (l_bfgs_b): b'ABNORMAL_TERMINATION_IN_LNSRCH'\n"
     ]
    },
    {
     "name": "stdout",
     "output_type": "stream",
     "text": [
      "[========                                                                                            ]   9% (5719/64224; ~23m until finished)"
     ]
    },
    {
     "name": "stderr",
     "output_type": "stream",
     "text": [
      "2021-11-06 13:21:20,524 [WARNING] Optimization warning (l_bfgs_b): b'ABNORMAL_TERMINATION_IN_LNSRCH'\n"
     ]
    },
    {
     "name": "stdout",
     "output_type": "stream",
     "text": [
      "[========                                                                                            ]   9% (5723/64224; ~23m until finished)"
     ]
    },
    {
     "name": "stderr",
     "output_type": "stream",
     "text": [
      "2021-11-06 13:21:20,669 [WARNING] Optimization warning (l_bfgs_b): b'ABNORMAL_TERMINATION_IN_LNSRCH'\n"
     ]
    },
    {
     "name": "stdout",
     "output_type": "stream",
     "text": [
      "[========                                                                                            ]   9% (5735/64224; ~23m until finished)"
     ]
    },
    {
     "name": "stderr",
     "output_type": "stream",
     "text": [
      "2021-11-06 13:21:20,882 [WARNING] Optimization warning (l_bfgs_b): b'ABNORMAL_TERMINATION_IN_LNSRCH'\n"
     ]
    },
    {
     "name": "stdout",
     "output_type": "stream",
     "text": [
      "\r",
      "[========                                                                                            ]   9% (5736/64224; ~23m until finished)"
     ]
    },
    {
     "name": "stderr",
     "output_type": "stream",
     "text": [
      "2021-11-06 13:21:21,013 [WARNING] Optimization warning (l_bfgs_b): b'ABNORMAL_TERMINATION_IN_LNSRCH'\n"
     ]
    },
    {
     "name": "stdout",
     "output_type": "stream",
     "text": [
      "\r",
      "[========                                                                                            ]   9% (5737/64224; ~23m until finished)"
     ]
    },
    {
     "name": "stderr",
     "output_type": "stream",
     "text": [
      "2021-11-06 13:21:21,092 [WARNING] Optimization warning (l_bfgs_b): b'ABNORMAL_TERMINATION_IN_LNSRCH'\n"
     ]
    },
    {
     "name": "stdout",
     "output_type": "stream",
     "text": [
      "[========                                                                                            ]   9% (5740/64224; ~23m until finished)"
     ]
    },
    {
     "name": "stderr",
     "output_type": "stream",
     "text": [
      "2021-11-06 13:21:21,197 [WARNING] Optimization warning (l_bfgs_b): b'ABNORMAL_TERMINATION_IN_LNSRCH'\n"
     ]
    },
    {
     "name": "stdout",
     "output_type": "stream",
     "text": [
      "[========                                                                                            ]   9% (5752/64224; ~23m until finished)"
     ]
    },
    {
     "name": "stderr",
     "output_type": "stream",
     "text": [
      "2021-11-06 13:21:21,567 [WARNING] Optimization warning (l_bfgs_b): b'ABNORMAL_TERMINATION_IN_LNSRCH'\n"
     ]
    },
    {
     "name": "stdout",
     "output_type": "stream",
     "text": [
      "[========                                                                                            ]   9% (5757/64224; ~23m until finished)"
     ]
    },
    {
     "name": "stderr",
     "output_type": "stream",
     "text": [
      "2021-11-06 13:21:21,810 [WARNING] Optimization warning (l_bfgs_b): b'ABNORMAL_TERMINATION_IN_LNSRCH'\n"
     ]
    },
    {
     "name": "stdout",
     "output_type": "stream",
     "text": [
      "[=========                                                                                           ]   9% (5780/64224; ~23m until finished)"
     ]
    },
    {
     "name": "stderr",
     "output_type": "stream",
     "text": [
      "2021-11-06 13:21:22,386 [WARNING] Optimization warning (l_bfgs_b): b'ABNORMAL_TERMINATION_IN_LNSRCH'\n"
     ]
    },
    {
     "name": "stdout",
     "output_type": "stream",
     "text": [
      "[=========                                                                                           ]   9% (5782/64224; ~23m until finished)"
     ]
    },
    {
     "name": "stderr",
     "output_type": "stream",
     "text": [
      "2021-11-06 13:21:22,537 [WARNING] Optimization warning (l_bfgs_b): b'ABNORMAL_TERMINATION_IN_LNSRCH'\n"
     ]
    },
    {
     "name": "stdout",
     "output_type": "stream",
     "text": [
      "[=========                                                                                           ]   9% (5806/64224; ~23m until finished)"
     ]
    },
    {
     "name": "stderr",
     "output_type": "stream",
     "text": [
      "2021-11-06 13:21:23,167 [WARNING] Optimization warning (l_bfgs_b): b'ABNORMAL_TERMINATION_IN_LNSRCH'\n"
     ]
    },
    {
     "name": "stdout",
     "output_type": "stream",
     "text": [
      "[=========                                                                                           ]   9% (5825/64224; ~23m until finished)"
     ]
    },
    {
     "name": "stderr",
     "output_type": "stream",
     "text": [
      "2021-11-06 13:21:23,688 [WARNING] Optimization warning (l_bfgs_b): b'ABNORMAL_TERMINATION_IN_LNSRCH'\n"
     ]
    },
    {
     "name": "stdout",
     "output_type": "stream",
     "text": [
      "[=========                                                                                           ]   9% (5827/64224; ~23m until finished)"
     ]
    },
    {
     "name": "stderr",
     "output_type": "stream",
     "text": [
      "2021-11-06 13:21:23,824 [WARNING] Optimization warning (l_bfgs_b): b'ABNORMAL_TERMINATION_IN_LNSRCH'\n"
     ]
    },
    {
     "name": "stdout",
     "output_type": "stream",
     "text": [
      "[=========                                                                                           ]   9% (5843/64224; ~23m until finished)"
     ]
    },
    {
     "name": "stderr",
     "output_type": "stream",
     "text": [
      "2021-11-06 13:21:24,194 [WARNING] Optimization warning (l_bfgs_b): b'ABNORMAL_TERMINATION_IN_LNSRCH'\n"
     ]
    },
    {
     "name": "stdout",
     "output_type": "stream",
     "text": [
      "[=========                                                                                           ]   9% (5846/64224; ~23m until finished)"
     ]
    },
    {
     "name": "stderr",
     "output_type": "stream",
     "text": [
      "2021-11-06 13:21:24,395 [WARNING] Optimization warning (l_bfgs_b): b'ABNORMAL_TERMINATION_IN_LNSRCH'\n"
     ]
    },
    {
     "name": "stdout",
     "output_type": "stream",
     "text": [
      "[=========                                                                                           ]   9% (5852/64224; ~23m until finished)"
     ]
    },
    {
     "name": "stderr",
     "output_type": "stream",
     "text": [
      "2021-11-06 13:21:24,616 [WARNING] Optimization warning (l_bfgs_b): b'ABNORMAL_TERMINATION_IN_LNSRCH'\n"
     ]
    },
    {
     "name": "stdout",
     "output_type": "stream",
     "text": [
      "[=========                                                                                           ]   9% (5867/64224; ~23m until finished)"
     ]
    },
    {
     "name": "stderr",
     "output_type": "stream",
     "text": [
      "2021-11-06 13:21:24,971 [WARNING] Optimization warning (l_bfgs_b): b'ABNORMAL_TERMINATION_IN_LNSRCH'\n"
     ]
    },
    {
     "name": "stdout",
     "output_type": "stream",
     "text": [
      "[=========                                                                                           ]   9% (5937/64224; ~23m until finished)"
     ]
    },
    {
     "name": "stderr",
     "output_type": "stream",
     "text": [
      "2021-11-06 13:21:26,616 [WARNING] Optimization warning (l_bfgs_b): b'ABNORMAL_TERMINATION_IN_LNSRCH'\n"
     ]
    },
    {
     "name": "stdout",
     "output_type": "stream",
     "text": [
      "[=========                                                                                           ]   9% (5960/64224; ~23m until finished)"
     ]
    },
    {
     "name": "stderr",
     "output_type": "stream",
     "text": [
      "2021-11-06 13:21:27,242 [WARNING] Optimization warning (l_bfgs_b): b'ABNORMAL_TERMINATION_IN_LNSRCH'\n"
     ]
    },
    {
     "name": "stdout",
     "output_type": "stream",
     "text": [
      "\r",
      "[=========                                                                                           ]   9% (5961/64224; ~23m until finished)"
     ]
    },
    {
     "name": "stderr",
     "output_type": "stream",
     "text": [
      "2021-11-06 13:21:27,377 [WARNING] Optimization warning (l_bfgs_b): b'ABNORMAL_TERMINATION_IN_LNSRCH'\n"
     ]
    },
    {
     "name": "stdout",
     "output_type": "stream",
     "text": [
      "[=========                                                                                           ]   9% (5967/64224; ~23m until finished)"
     ]
    },
    {
     "name": "stderr",
     "output_type": "stream",
     "text": [
      "2021-11-06 13:21:27,665 [WARNING] Optimization warning (l_bfgs_b): b'ABNORMAL_TERMINATION_IN_LNSRCH'\n"
     ]
    },
    {
     "name": "stdout",
     "output_type": "stream",
     "text": [
      "[=========                                                                                           ]   9% (5996/64224; ~23m until finished)"
     ]
    },
    {
     "name": "stderr",
     "output_type": "stream",
     "text": [
      "2021-11-06 13:21:28,223 [WARNING] Optimization warning (l_bfgs_b): b'ABNORMAL_TERMINATION_IN_LNSRCH'\n"
     ]
    },
    {
     "name": "stdout",
     "output_type": "stream",
     "text": [
      "[=========                                                                                           ]   9% (5999/64224; ~23m until finished)"
     ]
    },
    {
     "name": "stderr",
     "output_type": "stream",
     "text": [
      "2021-11-06 13:21:28,332 [WARNING] Optimization warning (l_bfgs_b): b'ABNORMAL_TERMINATION_IN_LNSRCH'\n"
     ]
    },
    {
     "name": "stdout",
     "output_type": "stream",
     "text": [
      "[=========                                                                                           ]   9% (6017/64224; ~23m until finished)"
     ]
    },
    {
     "name": "stderr",
     "output_type": "stream",
     "text": [
      "2021-11-06 13:21:28,700 [WARNING] Optimization warning (l_bfgs_b): b'ABNORMAL_TERMINATION_IN_LNSRCH'\n"
     ]
    },
    {
     "name": "stdout",
     "output_type": "stream",
     "text": [
      "[=========                                                                                           ]   9% (6052/64224; ~23m until finished)"
     ]
    },
    {
     "name": "stderr",
     "output_type": "stream",
     "text": [
      "2021-11-06 13:21:29,484 [WARNING] Optimization warning (l_bfgs_b): b'ABNORMAL_TERMINATION_IN_LNSRCH'\n"
     ]
    },
    {
     "name": "stdout",
     "output_type": "stream",
     "text": [
      "[=========                                                                                           ]   9% (6055/64224; ~23m until finished)"
     ]
    },
    {
     "name": "stderr",
     "output_type": "stream",
     "text": [
      "2021-11-06 13:21:29,631 [WARNING] Optimization warning (l_bfgs_b): b'ABNORMAL_TERMINATION_IN_LNSRCH'\n"
     ]
    },
    {
     "name": "stdout",
     "output_type": "stream",
     "text": [
      "[=========                                                                                           ]  10% (6107/64224; ~23m until finished)"
     ]
    },
    {
     "name": "stderr",
     "output_type": "stream",
     "text": [
      "2021-11-06 13:21:30,714 [WARNING] Optimization warning (l_bfgs_b): b'ABNORMAL_TERMINATION_IN_LNSRCH'\n"
     ]
    },
    {
     "name": "stdout",
     "output_type": "stream",
     "text": [
      "[=========                                                                                           ]  10% (6111/64224; ~23m until finished)"
     ]
    },
    {
     "name": "stderr",
     "output_type": "stream",
     "text": [
      "2021-11-06 13:21:30,846 [WARNING] Optimization warning (l_bfgs_b): b'ABNORMAL_TERMINATION_IN_LNSRCH'\n"
     ]
    },
    {
     "name": "stdout",
     "output_type": "stream",
     "text": [
      "[=========                                                                                           ]  10% (6114/64224; ~23m until finished)"
     ]
    },
    {
     "name": "stderr",
     "output_type": "stream",
     "text": [
      "2021-11-06 13:21:30,980 [WARNING] Optimization warning (l_bfgs_b): b'ABNORMAL_TERMINATION_IN_LNSRCH'\n"
     ]
    },
    {
     "name": "stdout",
     "output_type": "stream",
     "text": [
      "[=========                                                                                           ]  10% (6120/64224; ~23m until finished)"
     ]
    },
    {
     "name": "stderr",
     "output_type": "stream",
     "text": [
      "2021-11-06 13:21:31,161 [WARNING] Optimization warning (l_bfgs_b): b'ABNORMAL_TERMINATION_IN_LNSRCH'\n"
     ]
    },
    {
     "name": "stdout",
     "output_type": "stream",
     "text": [
      "[=========                                                                                           ]  10% (6132/64224; ~23m until finished)"
     ]
    },
    {
     "name": "stderr",
     "output_type": "stream",
     "text": [
      "2021-11-06 13:21:31,399 [WARNING] Optimization warning (l_bfgs_b): b'ABNORMAL_TERMINATION_IN_LNSRCH'\n"
     ]
    },
    {
     "name": "stdout",
     "output_type": "stream",
     "text": [
      "[=========                                                                                           ]  10% (6134/64224; ~23m until finished)"
     ]
    },
    {
     "name": "stderr",
     "output_type": "stream",
     "text": [
      "2021-11-06 13:21:31,501 [WARNING] Optimization warning (l_bfgs_b): b'ABNORMAL_TERMINATION_IN_LNSRCH'\n"
     ]
    },
    {
     "name": "stdout",
     "output_type": "stream",
     "text": [
      "[=========                                                                                           ]  10% (6148/64224; ~23m until finished)"
     ]
    },
    {
     "name": "stderr",
     "output_type": "stream",
     "text": [
      "2021-11-06 13:21:31,812 [WARNING] Optimization warning (l_bfgs_b): b'ABNORMAL_TERMINATION_IN_LNSRCH'\n"
     ]
    },
    {
     "name": "stdout",
     "output_type": "stream",
     "text": [
      "[=========                                                                                           ]  10% (6150/64224; ~23m until finished)"
     ]
    },
    {
     "name": "stderr",
     "output_type": "stream",
     "text": [
      "2021-11-06 13:21:31,954 [WARNING] Optimization warning (l_bfgs_b): b'ABNORMAL_TERMINATION_IN_LNSRCH'\n"
     ]
    },
    {
     "name": "stdout",
     "output_type": "stream",
     "text": [
      "[=========                                                                                           ]  10% (6157/64224; ~23m until finished)"
     ]
    },
    {
     "name": "stderr",
     "output_type": "stream",
     "text": [
      "2021-11-06 13:21:32,197 [WARNING] Optimization warning (l_bfgs_b): b'ABNORMAL_TERMINATION_IN_LNSRCH'\n"
     ]
    },
    {
     "name": "stdout",
     "output_type": "stream",
     "text": [
      "[=========                                                                                           ]  10% (6175/64224; ~23m until finished)"
     ]
    },
    {
     "name": "stderr",
     "output_type": "stream",
     "text": [
      "2021-11-06 13:21:32,613 [WARNING] Optimization warning (l_bfgs_b): b'ABNORMAL_TERMINATION_IN_LNSRCH'\n"
     ]
    },
    {
     "name": "stdout",
     "output_type": "stream",
     "text": [
      "[=========                                                                                           ]  10% (6186/64224; ~23m until finished)"
     ]
    },
    {
     "name": "stderr",
     "output_type": "stream",
     "text": [
      "2021-11-06 13:21:32,866 [WARNING] Optimization warning (l_bfgs_b): b'ABNORMAL_TERMINATION_IN_LNSRCH'\n"
     ]
    },
    {
     "name": "stdout",
     "output_type": "stream",
     "text": [
      "[=========                                                                                           ]  10% (6261/64224; ~23m until finished)"
     ]
    },
    {
     "name": "stderr",
     "output_type": "stream",
     "text": [
      "2021-11-06 13:21:34,533 [WARNING] Optimization warning (l_bfgs_b): b'ABNORMAL_TERMINATION_IN_LNSRCH'\n"
     ]
    },
    {
     "name": "stdout",
     "output_type": "stream",
     "text": [
      "[=========                                                                                           ]  10% (6266/64224; ~23m until finished)"
     ]
    },
    {
     "name": "stderr",
     "output_type": "stream",
     "text": [
      "2021-11-06 13:21:34,782 [WARNING] Optimization warning (l_bfgs_b): b'ABNORMAL_TERMINATION_IN_LNSRCH'\n"
     ]
    },
    {
     "name": "stdout",
     "output_type": "stream",
     "text": [
      "[=========                                                                                           ]  10% (6276/64224; ~23m until finished)"
     ]
    },
    {
     "name": "stderr",
     "output_type": "stream",
     "text": [
      "2021-11-06 13:21:35,134 [WARNING] Optimization warning (l_bfgs_b): b'ABNORMAL_TERMINATION_IN_LNSRCH'\n"
     ]
    },
    {
     "name": "stdout",
     "output_type": "stream",
     "text": [
      "[=========                                                                                           ]  10% (6283/64224; ~23m until finished)"
     ]
    },
    {
     "name": "stderr",
     "output_type": "stream",
     "text": [
      "2021-11-06 13:21:35,418 [WARNING] Optimization warning (l_bfgs_b): b'ABNORMAL_TERMINATION_IN_LNSRCH'\n"
     ]
    },
    {
     "name": "stdout",
     "output_type": "stream",
     "text": [
      "[=========                                                                                           ]  10% (6292/64224; ~23m until finished)"
     ]
    },
    {
     "name": "stderr",
     "output_type": "stream",
     "text": [
      "2021-11-06 13:21:35,753 [WARNING] Optimization warning (l_bfgs_b): b'ABNORMAL_TERMINATION_IN_LNSRCH'\n"
     ]
    },
    {
     "name": "stdout",
     "output_type": "stream",
     "text": [
      "[=========                                                                                           ]  10% (6318/64224; ~23m until finished)"
     ]
    },
    {
     "name": "stderr",
     "output_type": "stream",
     "text": [
      "2021-11-06 13:21:36,441 [WARNING] Optimization warning (l_bfgs_b): b'ABNORMAL_TERMINATION_IN_LNSRCH'\n"
     ]
    },
    {
     "name": "stdout",
     "output_type": "stream",
     "text": [
      "[=========                                                                                           ]  10% (6323/64224; ~23m until finished)"
     ]
    },
    {
     "name": "stderr",
     "output_type": "stream",
     "text": [
      "2021-11-06 13:21:36,700 [WARNING] Optimization warning (l_bfgs_b): b'ABNORMAL_TERMINATION_IN_LNSRCH'\n"
     ]
    },
    {
     "name": "stdout",
     "output_type": "stream",
     "text": [
      "[=========                                                                                           ]  10% (6355/64224; ~23m until finished)"
     ]
    },
    {
     "name": "stderr",
     "output_type": "stream",
     "text": [
      "2021-11-06 13:21:37,633 [WARNING] Optimization warning (l_bfgs_b): b'ABNORMAL_TERMINATION_IN_LNSRCH'\n"
     ]
    },
    {
     "name": "stdout",
     "output_type": "stream",
     "text": [
      "[=========                                                                                           ]  10% (6364/64224; ~23m until finished)"
     ]
    },
    {
     "name": "stderr",
     "output_type": "stream",
     "text": [
      "2021-11-06 13:21:37,976 [WARNING] Optimization warning (l_bfgs_b): b'ABNORMAL_TERMINATION_IN_LNSRCH'\n"
     ]
    },
    {
     "name": "stdout",
     "output_type": "stream",
     "text": [
      "[=========                                                                                           ]  10% (6411/64224; ~23m until finished)"
     ]
    },
    {
     "name": "stderr",
     "output_type": "stream",
     "text": [
      "2021-11-06 13:21:39,040 [WARNING] Optimization warning (l_bfgs_b): b'ABNORMAL_TERMINATION_IN_LNSRCH'\n"
     ]
    },
    {
     "name": "stdout",
     "output_type": "stream",
     "text": [
      "[=========                                                                                           ]  10% (6417/64224; ~23m until finished)"
     ]
    },
    {
     "name": "stderr",
     "output_type": "stream",
     "text": [
      "2021-11-06 13:21:39,254 [WARNING] Optimization warning (l_bfgs_b): b'ABNORMAL_TERMINATION_IN_LNSRCH'\n"
     ]
    },
    {
     "name": "stdout",
     "output_type": "stream",
     "text": [
      "[==========                                                                                          ]  10% (6427/64224; ~23m until finished)"
     ]
    },
    {
     "name": "stderr",
     "output_type": "stream",
     "text": [
      "2021-11-06 13:21:39,534 [WARNING] Optimization warning (l_bfgs_b): b'ABNORMAL_TERMINATION_IN_LNSRCH'\n"
     ]
    },
    {
     "name": "stdout",
     "output_type": "stream",
     "text": [
      "[==========                                                                                          ]  10% (6436/64224; ~23m until finished)"
     ]
    },
    {
     "name": "stderr",
     "output_type": "stream",
     "text": [
      "2021-11-06 13:21:39,804 [WARNING] Optimization warning (l_bfgs_b): b'ABNORMAL_TERMINATION_IN_LNSRCH'\n"
     ]
    },
    {
     "name": "stdout",
     "output_type": "stream",
     "text": [
      "\r",
      "[==========                                                                                          ]  10% (6437/64224; ~23m until finished)"
     ]
    },
    {
     "name": "stderr",
     "output_type": "stream",
     "text": [
      "2021-11-06 13:21:39,878 [WARNING] Optimization warning (l_bfgs_b): b'ABNORMAL_TERMINATION_IN_LNSRCH'\n"
     ]
    },
    {
     "name": "stdout",
     "output_type": "stream",
     "text": [
      "[==========                                                                                          ]  10% (6439/64224; ~23m until finished)"
     ]
    },
    {
     "name": "stderr",
     "output_type": "stream",
     "text": [
      "2021-11-06 13:21:39,985 [WARNING] Optimization warning (l_bfgs_b): b'ABNORMAL_TERMINATION_IN_LNSRCH'\n"
     ]
    },
    {
     "name": "stdout",
     "output_type": "stream",
     "text": [
      "\r",
      "[==========                                                                                          ]  10% (6440/64224; ~23m until finished)"
     ]
    },
    {
     "name": "stderr",
     "output_type": "stream",
     "text": [
      "2021-11-06 13:21:40,071 [WARNING] Optimization warning (l_bfgs_b): b'ABNORMAL_TERMINATION_IN_LNSRCH'\n"
     ]
    },
    {
     "name": "stdout",
     "output_type": "stream",
     "text": [
      "[==========                                                                                          ]  10% (6451/64224; ~23m until finished)"
     ]
    },
    {
     "name": "stderr",
     "output_type": "stream",
     "text": [
      "2021-11-06 13:21:40,367 [WARNING] Optimization warning (l_bfgs_b): b'ABNORMAL_TERMINATION_IN_LNSRCH'\n"
     ]
    },
    {
     "name": "stdout",
     "output_type": "stream",
     "text": [
      "[==========                                                                                          ]  10% (6457/64224; ~23m until finished)"
     ]
    },
    {
     "name": "stderr",
     "output_type": "stream",
     "text": [
      "2021-11-06 13:21:40,525 [WARNING] Optimization warning (l_bfgs_b): b'ABNORMAL_TERMINATION_IN_LNSRCH'\n"
     ]
    },
    {
     "name": "stdout",
     "output_type": "stream",
     "text": [
      "[==========                                                                                          ]  10% (6460/64224; ~23m until finished)"
     ]
    },
    {
     "name": "stderr",
     "output_type": "stream",
     "text": [
      "2021-11-06 13:21:40,624 [WARNING] Optimization warning (l_bfgs_b): b'ABNORMAL_TERMINATION_IN_LNSRCH'\n"
     ]
    },
    {
     "name": "stdout",
     "output_type": "stream",
     "text": [
      "[==========                                                                                          ]  10% (6463/64224; ~23m until finished)"
     ]
    },
    {
     "name": "stderr",
     "output_type": "stream",
     "text": [
      "2021-11-06 13:21:40,710 [WARNING] Optimization warning (l_bfgs_b): b'ABNORMAL_TERMINATION_IN_LNSRCH'\n"
     ]
    },
    {
     "name": "stdout",
     "output_type": "stream",
     "text": [
      "[==========                                                                                          ]  10% (6504/64224; ~23m until finished)"
     ]
    },
    {
     "name": "stderr",
     "output_type": "stream",
     "text": [
      "2021-11-06 13:21:41,505 [WARNING] Optimization warning (l_bfgs_b): b'ABNORMAL_TERMINATION_IN_LNSRCH'\n"
     ]
    },
    {
     "name": "stdout",
     "output_type": "stream",
     "text": [
      "[==========                                                                                          ]  10% (6526/64224; ~23m until finished)"
     ]
    },
    {
     "name": "stderr",
     "output_type": "stream",
     "text": [
      "2021-11-06 13:21:42,028 [WARNING] Optimization warning (l_bfgs_b): b'ABNORMAL_TERMINATION_IN_LNSRCH'\n"
     ]
    },
    {
     "name": "stdout",
     "output_type": "stream",
     "text": [
      "[==========                                                                                          ]  10% (6538/64224; ~23m until finished)"
     ]
    },
    {
     "name": "stderr",
     "output_type": "stream",
     "text": [
      "2021-11-06 13:21:42,475 [WARNING] Optimization warning (l_bfgs_b): b'ABNORMAL_TERMINATION_IN_LNSRCH'\n"
     ]
    },
    {
     "name": "stdout",
     "output_type": "stream",
     "text": [
      "[==========                                                                                          ]  10% (6598/64224; ~23m until finished)"
     ]
    },
    {
     "name": "stderr",
     "output_type": "stream",
     "text": [
      "2021-11-06 13:21:44,056 [WARNING] Optimization warning (l_bfgs_b): b'ABNORMAL_TERMINATION_IN_LNSRCH'\n"
     ]
    },
    {
     "name": "stdout",
     "output_type": "stream",
     "text": [
      "[==========                                                                                          ]  10% (6607/64224; ~23m until finished)"
     ]
    },
    {
     "name": "stderr",
     "output_type": "stream",
     "text": [
      "2021-11-06 13:21:44,316 [WARNING] Optimization warning (l_bfgs_b): b'ABNORMAL_TERMINATION_IN_LNSRCH'\n"
     ]
    },
    {
     "name": "stdout",
     "output_type": "stream",
     "text": [
      "[==========                                                                                          ]  10% (6609/64224; ~23m until finished)"
     ]
    },
    {
     "name": "stderr",
     "output_type": "stream",
     "text": [
      "2021-11-06 13:21:44,392 [WARNING] Optimization warning (l_bfgs_b): b'ABNORMAL_TERMINATION_IN_LNSRCH'\n"
     ]
    },
    {
     "name": "stdout",
     "output_type": "stream",
     "text": [
      "\r",
      "[==========                                                                                          ]  10% (6610/64224; ~23m until finished)"
     ]
    },
    {
     "name": "stderr",
     "output_type": "stream",
     "text": [
      "2021-11-06 13:21:44,449 [WARNING] Optimization warning (l_bfgs_b): b'ABNORMAL_TERMINATION_IN_LNSRCH'\n"
     ]
    },
    {
     "name": "stdout",
     "output_type": "stream",
     "text": [
      "[==========                                                                                          ]  10% (6613/64224; ~23m until finished)"
     ]
    },
    {
     "name": "stderr",
     "output_type": "stream",
     "text": [
      "2021-11-06 13:21:44,545 [WARNING] Optimization warning (l_bfgs_b): b'ABNORMAL_TERMINATION_IN_LNSRCH'\n"
     ]
    },
    {
     "name": "stdout",
     "output_type": "stream",
     "text": [
      "[==========                                                                                          ]  10% (6616/64224; ~23m until finished)"
     ]
    },
    {
     "name": "stderr",
     "output_type": "stream",
     "text": [
      "2021-11-06 13:21:44,633 [WARNING] Optimization warning (l_bfgs_b): b'ABNORMAL_TERMINATION_IN_LNSRCH'\n"
     ]
    },
    {
     "name": "stdout",
     "output_type": "stream",
     "text": [
      "[==========                                                                                          ]  10% (6620/64224; ~23m until finished)"
     ]
    },
    {
     "name": "stderr",
     "output_type": "stream",
     "text": [
      "2021-11-06 13:21:44,733 [WARNING] Optimization warning (l_bfgs_b): b'ABNORMAL_TERMINATION_IN_LNSRCH'\n"
     ]
    },
    {
     "name": "stdout",
     "output_type": "stream",
     "text": [
      "\r",
      "[==========                                                                                          ]  10% (6621/64224; ~23m until finished)"
     ]
    },
    {
     "name": "stderr",
     "output_type": "stream",
     "text": [
      "2021-11-06 13:21:44,797 [WARNING] Optimization warning (l_bfgs_b): b'ABNORMAL_TERMINATION_IN_LNSRCH'\n"
     ]
    },
    {
     "name": "stdout",
     "output_type": "stream",
     "text": [
      "[==========                                                                                          ]  10% (6623/64224; ~23m until finished)"
     ]
    },
    {
     "name": "stderr",
     "output_type": "stream",
     "text": [
      "2021-11-06 13:21:44,883 [WARNING] Optimization warning (l_bfgs_b): b'ABNORMAL_TERMINATION_IN_LNSRCH'\n"
     ]
    },
    {
     "name": "stdout",
     "output_type": "stream",
     "text": [
      "[==========                                                                                          ]  10% (6630/64224; ~23m until finished)"
     ]
    },
    {
     "name": "stderr",
     "output_type": "stream",
     "text": [
      "2021-11-06 13:21:45,053 [WARNING] Optimization warning (l_bfgs_b): b'ABNORMAL_TERMINATION_IN_LNSRCH'\n"
     ]
    },
    {
     "name": "stdout",
     "output_type": "stream",
     "text": [
      "[==========                                                                                          ]  10% (6635/64224; ~23m until finished)"
     ]
    },
    {
     "name": "stderr",
     "output_type": "stream",
     "text": [
      "2021-11-06 13:21:45,217 [WARNING] Optimization warning (l_bfgs_b): b'ABNORMAL_TERMINATION_IN_LNSRCH'\n"
     ]
    },
    {
     "name": "stdout",
     "output_type": "stream",
     "text": [
      "[==========                                                                                          ]  10% (6637/64224; ~23m until finished)"
     ]
    },
    {
     "name": "stderr",
     "output_type": "stream",
     "text": [
      "2021-11-06 13:21:45,366 [WARNING] Optimization warning (l_bfgs_b): b'ABNORMAL_TERMINATION_IN_LNSRCH'\n"
     ]
    },
    {
     "name": "stdout",
     "output_type": "stream",
     "text": [
      "\r",
      "[==========                                                                                          ]  10% (6638/64224; ~23m until finished)"
     ]
    },
    {
     "name": "stderr",
     "output_type": "stream",
     "text": [
      "2021-11-06 13:21:45,479 [WARNING] Optimization warning (l_bfgs_b): b'ABNORMAL_TERMINATION_IN_LNSRCH'\n"
     ]
    },
    {
     "name": "stdout",
     "output_type": "stream",
     "text": [
      "\r",
      "[==========                                                                                          ]  10% (6639/64224; ~23m until finished)"
     ]
    },
    {
     "name": "stderr",
     "output_type": "stream",
     "text": [
      "2021-11-06 13:21:45,585 [WARNING] Optimization warning (l_bfgs_b): b'ABNORMAL_TERMINATION_IN_LNSRCH'\n"
     ]
    },
    {
     "name": "stdout",
     "output_type": "stream",
     "text": [
      "[==========                                                                                          ]  10% (6666/64224; ~23m until finished)"
     ]
    },
    {
     "name": "stderr",
     "output_type": "stream",
     "text": [
      "2021-11-06 13:21:46,325 [WARNING] Optimization warning (l_bfgs_b): b'ABNORMAL_TERMINATION_IN_LNSRCH'\n"
     ]
    },
    {
     "name": "stdout",
     "output_type": "stream",
     "text": [
      "[==========                                                                                          ]  10% (6670/64224; ~23m until finished)"
     ]
    },
    {
     "name": "stderr",
     "output_type": "stream",
     "text": [
      "2021-11-06 13:21:46,558 [WARNING] Optimization warning (l_bfgs_b): b'ABNORMAL_TERMINATION_IN_LNSRCH'\n"
     ]
    },
    {
     "name": "stdout",
     "output_type": "stream",
     "text": [
      "[==========                                                                                          ]  10% (6703/64224; ~23m until finished)"
     ]
    },
    {
     "name": "stderr",
     "output_type": "stream",
     "text": [
      "2021-11-06 13:21:47,522 [WARNING] Optimization warning (l_bfgs_b): b'ABNORMAL_TERMINATION_IN_LNSRCH'\n"
     ]
    },
    {
     "name": "stdout",
     "output_type": "stream",
     "text": [
      "[==========                                                                                          ]  10% (6708/64224; ~23m until finished)"
     ]
    },
    {
     "name": "stderr",
     "output_type": "stream",
     "text": [
      "2021-11-06 13:21:47,730 [WARNING] Optimization warning (l_bfgs_b): b'ABNORMAL_TERMINATION_IN_LNSRCH'\n"
     ]
    },
    {
     "name": "stdout",
     "output_type": "stream",
     "text": [
      "\r",
      "[==========                                                                                          ]  10% (6709/64224; ~23m until finished)"
     ]
    },
    {
     "name": "stderr",
     "output_type": "stream",
     "text": [
      "2021-11-06 13:21:47,871 [WARNING] Optimization warning (l_bfgs_b): b'ABNORMAL_TERMINATION_IN_LNSRCH'\n"
     ]
    },
    {
     "name": "stdout",
     "output_type": "stream",
     "text": [
      "[==========                                                                                          ]  10% (6727/64224; ~23m until finished)"
     ]
    },
    {
     "name": "stderr",
     "output_type": "stream",
     "text": [
      "2021-11-06 13:21:48,371 [WARNING] Optimization warning (l_bfgs_b): b'ABNORMAL_TERMINATION_IN_LNSRCH'\n"
     ]
    },
    {
     "name": "stdout",
     "output_type": "stream",
     "text": [
      "[==========                                                                                          ]  10% (6733/64224; ~23m until finished)"
     ]
    },
    {
     "name": "stderr",
     "output_type": "stream",
     "text": [
      "2021-11-06 13:21:48,596 [WARNING] Optimization warning (l_bfgs_b): b'ABNORMAL_TERMINATION_IN_LNSRCH'\n"
     ]
    },
    {
     "name": "stdout",
     "output_type": "stream",
     "text": [
      "[==========                                                                                          ]  11% (6746/64224; ~23m until finished)"
     ]
    },
    {
     "name": "stderr",
     "output_type": "stream",
     "text": [
      "2021-11-06 13:21:49,049 [WARNING] Optimization warning (l_bfgs_b): b'ABNORMAL_TERMINATION_IN_LNSRCH'\n"
     ]
    },
    {
     "name": "stdout",
     "output_type": "stream",
     "text": [
      "[==========                                                                                          ]  11% (6758/64224; ~23m until finished)"
     ]
    },
    {
     "name": "stderr",
     "output_type": "stream",
     "text": [
      "2021-11-06 13:21:49,512 [WARNING] Optimization warning (l_bfgs_b): b'ABNORMAL_TERMINATION_IN_LNSRCH'\n"
     ]
    },
    {
     "name": "stdout",
     "output_type": "stream",
     "text": [
      "[==========                                                                                          ]  11% (6780/64224; ~23m until finished)"
     ]
    },
    {
     "name": "stderr",
     "output_type": "stream",
     "text": [
      "2021-11-06 13:21:50,225 [WARNING] Optimization warning (l_bfgs_b): b'ABNORMAL_TERMINATION_IN_LNSRCH'\n"
     ]
    },
    {
     "name": "stdout",
     "output_type": "stream",
     "text": [
      "[==========                                                                                          ]  11% (6790/64224; ~23m until finished)"
     ]
    },
    {
     "name": "stderr",
     "output_type": "stream",
     "text": [
      "2021-11-06 13:21:50,600 [WARNING] Optimization warning (l_bfgs_b): b'ABNORMAL_TERMINATION_IN_LNSRCH'\n"
     ]
    },
    {
     "name": "stdout",
     "output_type": "stream",
     "text": [
      "[==========                                                                                          ]  11% (6816/64224; ~24m until finished)"
     ]
    },
    {
     "name": "stderr",
     "output_type": "stream",
     "text": [
      "2021-11-06 13:21:51,462 [WARNING] Optimization warning (l_bfgs_b): b'ABNORMAL_TERMINATION_IN_LNSRCH'\n"
     ]
    },
    {
     "name": "stdout",
     "output_type": "stream",
     "text": [
      "[==========                                                                                          ]  11% (6825/64224; ~24m until finished)"
     ]
    },
    {
     "name": "stderr",
     "output_type": "stream",
     "text": [
      "2021-11-06 13:21:51,763 [WARNING] Optimization warning (l_bfgs_b): b'ABNORMAL_TERMINATION_IN_LNSRCH'\n"
     ]
    },
    {
     "name": "stdout",
     "output_type": "stream",
     "text": [
      "[==========                                                                                          ]  11% (6827/64224; ~24m until finished)"
     ]
    },
    {
     "name": "stderr",
     "output_type": "stream",
     "text": [
      "2021-11-06 13:21:51,978 [WARNING] Optimization warning (l_bfgs_b): b'ABNORMAL_TERMINATION_IN_LNSRCH'\n"
     ]
    },
    {
     "name": "stdout",
     "output_type": "stream",
     "text": [
      "[==========                                                                                          ]  11% (6835/64224; ~24m until finished)"
     ]
    },
    {
     "name": "stderr",
     "output_type": "stream",
     "text": [
      "2021-11-06 13:21:52,231 [WARNING] Optimization warning (l_bfgs_b): b'ABNORMAL_TERMINATION_IN_LNSRCH'\n"
     ]
    },
    {
     "name": "stdout",
     "output_type": "stream",
     "text": [
      "[==========                                                                                          ]  11% (6847/64224; ~24m until finished)"
     ]
    },
    {
     "name": "stderr",
     "output_type": "stream",
     "text": [
      "2021-11-06 13:21:52,586 [WARNING] Optimization warning (l_bfgs_b): b'ABNORMAL_TERMINATION_IN_LNSRCH'\n"
     ]
    },
    {
     "name": "stdout",
     "output_type": "stream",
     "text": [
      "[==========                                                                                          ]  11% (6851/64224; ~24m until finished)"
     ]
    },
    {
     "name": "stderr",
     "output_type": "stream",
     "text": [
      "2021-11-06 13:21:52,764 [WARNING] Optimization warning (l_bfgs_b): b'ABNORMAL_TERMINATION_IN_LNSRCH'\n"
     ]
    },
    {
     "name": "stdout",
     "output_type": "stream",
     "text": [
      "\r",
      "[==========                                                                                          ]  11% (6852/64224; ~24m until finished)"
     ]
    },
    {
     "name": "stderr",
     "output_type": "stream",
     "text": [
      "2021-11-06 13:21:52,874 [WARNING] Optimization warning (l_bfgs_b): b'ABNORMAL_TERMINATION_IN_LNSRCH'\n"
     ]
    },
    {
     "name": "stdout",
     "output_type": "stream",
     "text": [
      "[==========                                                                                          ]  11% (6855/64224; ~24m until finished)"
     ]
    },
    {
     "name": "stderr",
     "output_type": "stream",
     "text": [
      "2021-11-06 13:21:53,050 [WARNING] Optimization warning (l_bfgs_b): b'ABNORMAL_TERMINATION_IN_LNSRCH'\n"
     ]
    },
    {
     "name": "stdout",
     "output_type": "stream",
     "text": [
      "[==========                                                                                          ]  11% (6866/64224; ~24m until finished)"
     ]
    },
    {
     "name": "stderr",
     "output_type": "stream",
     "text": [
      "2021-11-06 13:21:53,317 [WARNING] Optimization warning (l_bfgs_b): b'ABNORMAL_TERMINATION_IN_LNSRCH'\n"
     ]
    },
    {
     "name": "stdout",
     "output_type": "stream",
     "text": [
      "\r",
      "[==========                                                                                          ]  11% (6867/64224; ~24m until finished)"
     ]
    },
    {
     "name": "stderr",
     "output_type": "stream",
     "text": [
      "2021-11-06 13:21:53,433 [WARNING] Optimization warning (l_bfgs_b): b'ABNORMAL_TERMINATION_IN_LNSRCH'\n"
     ]
    },
    {
     "name": "stdout",
     "output_type": "stream",
     "text": [
      "[==========                                                                                          ]  11% (6881/64224; ~24m until finished)"
     ]
    },
    {
     "name": "stderr",
     "output_type": "stream",
     "text": [
      "2021-11-06 13:21:53,802 [WARNING] Optimization warning (l_bfgs_b): b'ABNORMAL_TERMINATION_IN_LNSRCH'\n"
     ]
    },
    {
     "name": "stdout",
     "output_type": "stream",
     "text": [
      "[==========                                                                                          ]  11% (6924/64224; ~24m until finished)"
     ]
    },
    {
     "name": "stderr",
     "output_type": "stream",
     "text": [
      "2021-11-06 13:21:54,899 [WARNING] Optimization warning (l_bfgs_b): b'ABNORMAL_TERMINATION_IN_LNSRCH'\n"
     ]
    },
    {
     "name": "stdout",
     "output_type": "stream",
     "text": [
      "[==========                                                                                          ]  11% (6931/64224; ~24m until finished)"
     ]
    },
    {
     "name": "stderr",
     "output_type": "stream",
     "text": [
      "2021-11-06 13:21:55,184 [WARNING] Optimization warning (l_bfgs_b): b'ABNORMAL_TERMINATION_IN_LNSRCH'\n"
     ]
    },
    {
     "name": "stdout",
     "output_type": "stream",
     "text": [
      "[==========                                                                                          ]  11% (6934/64224; ~24m until finished)"
     ]
    },
    {
     "name": "stderr",
     "output_type": "stream",
     "text": [
      "2021-11-06 13:21:55,449 [WARNING] Optimization warning (l_bfgs_b): b'ABNORMAL_TERMINATION_IN_LNSRCH'\n"
     ]
    },
    {
     "name": "stdout",
     "output_type": "stream",
     "text": [
      "[==========                                                                                          ]  11% (6936/64224; ~24m until finished)"
     ]
    },
    {
     "name": "stderr",
     "output_type": "stream",
     "text": [
      "2021-11-06 13:21:55,652 [WARNING] Optimization warning (l_bfgs_b): b'ABNORMAL_TERMINATION_IN_LNSRCH'\n"
     ]
    },
    {
     "name": "stdout",
     "output_type": "stream",
     "text": [
      "[==========                                                                                          ]  11% (6942/64224; ~24m until finished)"
     ]
    },
    {
     "name": "stderr",
     "output_type": "stream",
     "text": [
      "2021-11-06 13:21:55,932 [WARNING] Optimization warning (l_bfgs_b): b'ABNORMAL_TERMINATION_IN_LNSRCH'\n"
     ]
    },
    {
     "name": "stdout",
     "output_type": "stream",
     "text": [
      "[==========                                                                                          ]  11% (6944/64224; ~24m until finished)"
     ]
    },
    {
     "name": "stderr",
     "output_type": "stream",
     "text": [
      "2021-11-06 13:21:56,072 [WARNING] Optimization warning (l_bfgs_b): b'ABNORMAL_TERMINATION_IN_LNSRCH'\n"
     ]
    },
    {
     "name": "stdout",
     "output_type": "stream",
     "text": [
      "[==========                                                                                          ]  11% (6998/64224; ~24m until finished)"
     ]
    },
    {
     "name": "stderr",
     "output_type": "stream",
     "text": [
      "2021-11-06 13:21:57,487 [WARNING] Optimization warning (l_bfgs_b): b'ABNORMAL_TERMINATION_IN_LNSRCH'\n"
     ]
    },
    {
     "name": "stdout",
     "output_type": "stream",
     "text": [
      "[==========                                                                                          ]  11% (7037/64224; ~24m until finished)"
     ]
    },
    {
     "name": "stderr",
     "output_type": "stream",
     "text": [
      "2021-11-06 13:21:58,605 [WARNING] Optimization warning (l_bfgs_b): b'ABNORMAL_TERMINATION_IN_LNSRCH'\n"
     ]
    },
    {
     "name": "stdout",
     "output_type": "stream",
     "text": [
      "[==========                                                                                          ]  11% (7044/64224; ~24m until finished)"
     ]
    },
    {
     "name": "stderr",
     "output_type": "stream",
     "text": [
      "2021-11-06 13:21:58,854 [WARNING] Optimization warning (l_bfgs_b): b'ABNORMAL_TERMINATION_IN_LNSRCH'\n"
     ]
    },
    {
     "name": "stdout",
     "output_type": "stream",
     "text": [
      "[==========                                                                                          ]  11% (7049/64224; ~24m until finished)"
     ]
    },
    {
     "name": "stderr",
     "output_type": "stream",
     "text": [
      "2021-11-06 13:21:59,146 [WARNING] Optimization warning (l_bfgs_b): b'ABNORMAL_TERMINATION_IN_LNSRCH'\n"
     ]
    },
    {
     "name": "stdout",
     "output_type": "stream",
     "text": [
      "[==========                                                                                          ]  11% (7060/64224; ~24m until finished)"
     ]
    },
    {
     "name": "stderr",
     "output_type": "stream",
     "text": [
      "2021-11-06 13:21:59,438 [WARNING] Optimization warning (l_bfgs_b): b'ABNORMAL_TERMINATION_IN_LNSRCH'\n"
     ]
    },
    {
     "name": "stdout",
     "output_type": "stream",
     "text": [
      "[===========                                                                                         ]  11% (7098/64224; ~24m until finished)"
     ]
    },
    {
     "name": "stderr",
     "output_type": "stream",
     "text": [
      "2021-11-06 13:22:00,400 [WARNING] Optimization warning (l_bfgs_b): b'ABNORMAL_TERMINATION_IN_LNSRCH'\n"
     ]
    },
    {
     "name": "stdout",
     "output_type": "stream",
     "text": [
      "[===========                                                                                         ]  11% (7128/64224; ~24m until finished)"
     ]
    },
    {
     "name": "stderr",
     "output_type": "stream",
     "text": [
      "2021-11-06 13:22:01,115 [WARNING] Optimization warning (l_bfgs_b): b'ABNORMAL_TERMINATION_IN_LNSRCH'\n"
     ]
    },
    {
     "name": "stdout",
     "output_type": "stream",
     "text": [
      "[===========                                                                                         ]  11% (7130/64224; ~24m until finished)"
     ]
    },
    {
     "name": "stderr",
     "output_type": "stream",
     "text": [
      "2021-11-06 13:22:01,231 [WARNING] Optimization warning (l_bfgs_b): b'ABNORMAL_TERMINATION_IN_LNSRCH'\n"
     ]
    },
    {
     "name": "stdout",
     "output_type": "stream",
     "text": [
      "[===========                                                                                         ]  11% (7135/64224; ~24m until finished)"
     ]
    },
    {
     "name": "stderr",
     "output_type": "stream",
     "text": [
      "2021-11-06 13:22:01,454 [WARNING] Optimization warning (l_bfgs_b): b'ABNORMAL_TERMINATION_IN_LNSRCH'\n"
     ]
    },
    {
     "name": "stdout",
     "output_type": "stream",
     "text": [
      "[===========                                                                                         ]  11% (7140/64224; ~24m until finished)"
     ]
    },
    {
     "name": "stderr",
     "output_type": "stream",
     "text": [
      "2021-11-06 13:22:01,654 [WARNING] Optimization warning (l_bfgs_b): b'ABNORMAL_TERMINATION_IN_LNSRCH'\n"
     ]
    },
    {
     "name": "stdout",
     "output_type": "stream",
     "text": [
      "[===========                                                                                         ]  11% (7145/64224; ~24m until finished)"
     ]
    },
    {
     "name": "stderr",
     "output_type": "stream",
     "text": [
      "2021-11-06 13:22:01,872 [WARNING] Optimization warning (l_bfgs_b): b'ABNORMAL_TERMINATION_IN_LNSRCH'\n"
     ]
    },
    {
     "name": "stdout",
     "output_type": "stream",
     "text": [
      "[===========                                                                                         ]  11% (7148/64224; ~24m until finished)"
     ]
    },
    {
     "name": "stderr",
     "output_type": "stream",
     "text": [
      "2021-11-06 13:22:02,024 [WARNING] Optimization warning (l_bfgs_b): b'ABNORMAL_TERMINATION_IN_LNSRCH'\n"
     ]
    },
    {
     "name": "stdout",
     "output_type": "stream",
     "text": [
      "[===========                                                                                         ]  11% (7164/64224; ~24m until finished)"
     ]
    },
    {
     "name": "stderr",
     "output_type": "stream",
     "text": [
      "2021-11-06 13:22:02,475 [WARNING] Optimization warning (l_bfgs_b): b'ABNORMAL_TERMINATION_IN_LNSRCH'\n"
     ]
    },
    {
     "name": "stdout",
     "output_type": "stream",
     "text": [
      "[===========                                                                                         ]  11% (7166/64224; ~24m until finished)"
     ]
    },
    {
     "name": "stderr",
     "output_type": "stream",
     "text": [
      "2021-11-06 13:22:02,632 [WARNING] Optimization warning (l_bfgs_b): b'ABNORMAL_TERMINATION_IN_LNSRCH'\n"
     ]
    },
    {
     "name": "stdout",
     "output_type": "stream",
     "text": [
      "[===========                                                                                         ]  11% (7207/64224; ~24m until finished)"
     ]
    },
    {
     "name": "stderr",
     "output_type": "stream",
     "text": [
      "2021-11-06 13:22:03,817 [WARNING] Optimization warning (l_bfgs_b): b'ABNORMAL_TERMINATION_IN_LNSRCH'\n"
     ]
    },
    {
     "name": "stdout",
     "output_type": "stream",
     "text": [
      "[===========                                                                                         ]  11% (7235/64224; ~24m until finished)"
     ]
    },
    {
     "name": "stderr",
     "output_type": "stream",
     "text": [
      "2021-11-06 13:22:04,697 [WARNING] Optimization warning (l_bfgs_b): b'ABNORMAL_TERMINATION_IN_LNSRCH'\n"
     ]
    },
    {
     "name": "stdout",
     "output_type": "stream",
     "text": [
      "[===========                                                                                         ]  11% (7249/64224; ~24m until finished)"
     ]
    },
    {
     "name": "stderr",
     "output_type": "stream",
     "text": [
      "2021-11-06 13:22:05,107 [WARNING] Optimization warning (l_bfgs_b): b'ABNORMAL_TERMINATION_IN_LNSRCH'\n"
     ]
    },
    {
     "name": "stdout",
     "output_type": "stream",
     "text": [
      "[===========                                                                                         ]  11% (7253/64224; ~24m until finished)"
     ]
    },
    {
     "name": "stderr",
     "output_type": "stream",
     "text": [
      "2021-11-06 13:22:05,361 [WARNING] Optimization warning (l_bfgs_b): b'ABNORMAL_TERMINATION_IN_LNSRCH'\n"
     ]
    },
    {
     "name": "stdout",
     "output_type": "stream",
     "text": [
      "[===========                                                                                         ]  11% (7279/64224; ~24m until finished)"
     ]
    },
    {
     "name": "stderr",
     "output_type": "stream",
     "text": [
      "2021-11-06 13:22:06,191 [WARNING] Optimization warning (l_bfgs_b): b'ABNORMAL_TERMINATION_IN_LNSRCH'\n"
     ]
    },
    {
     "name": "stdout",
     "output_type": "stream",
     "text": [
      "[===========                                                                                         ]  11% (7290/64224; ~24m until finished)"
     ]
    },
    {
     "name": "stderr",
     "output_type": "stream",
     "text": [
      "2021-11-06 13:22:06,598 [WARNING] Optimization warning (l_bfgs_b): b'ABNORMAL_TERMINATION_IN_LNSRCH'\n"
     ]
    },
    {
     "name": "stdout",
     "output_type": "stream",
     "text": [
      "[===========                                                                                         ]  11% (7292/64224; ~24m until finished)"
     ]
    },
    {
     "name": "stderr",
     "output_type": "stream",
     "text": [
      "2021-11-06 13:22:06,751 [WARNING] Optimization warning (l_bfgs_b): b'ABNORMAL_TERMINATION_IN_LNSRCH'\n"
     ]
    },
    {
     "name": "stdout",
     "output_type": "stream",
     "text": [
      "[===========                                                                                         ]  11% (7321/64224; ~24m until finished)"
     ]
    },
    {
     "name": "stderr",
     "output_type": "stream",
     "text": [
      "2021-11-06 13:22:07,721 [WARNING] Optimization warning (l_bfgs_b): b'ABNORMAL_TERMINATION_IN_LNSRCH'\n"
     ]
    },
    {
     "name": "stdout",
     "output_type": "stream",
     "text": [
      "\r",
      "[===========                                                                                         ]  11% (7322/64224; ~24m until finished)"
     ]
    },
    {
     "name": "stderr",
     "output_type": "stream",
     "text": [
      "2021-11-06 13:22:07,852 [WARNING] Optimization warning (l_bfgs_b): b'ABNORMAL_TERMINATION_IN_LNSRCH'\n"
     ]
    },
    {
     "name": "stdout",
     "output_type": "stream",
     "text": [
      "\r",
      "[===========                                                                                         ]  11% (7323/64224; ~24m until finished)"
     ]
    },
    {
     "name": "stderr",
     "output_type": "stream",
     "text": [
      "2021-11-06 13:22:08,002 [WARNING] Optimization warning (l_bfgs_b): b'ABNORMAL_TERMINATION_IN_LNSRCH'\n"
     ]
    },
    {
     "name": "stdout",
     "output_type": "stream",
     "text": [
      "[===========                                                                                         ]  11% (7326/64224; ~24m until finished)"
     ]
    },
    {
     "name": "stderr",
     "output_type": "stream",
     "text": [
      "2021-11-06 13:22:08,191 [WARNING] Optimization warning (l_bfgs_b): b'ABNORMAL_TERMINATION_IN_LNSRCH'\n"
     ]
    },
    {
     "name": "stdout",
     "output_type": "stream",
     "text": [
      "[===========                                                                                         ]  11% (7332/64224; ~24m until finished)"
     ]
    },
    {
     "name": "stderr",
     "output_type": "stream",
     "text": [
      "2021-11-06 13:22:08,504 [WARNING] Optimization warning (l_bfgs_b): b'ABNORMAL_TERMINATION_IN_LNSRCH'\n"
     ]
    },
    {
     "name": "stdout",
     "output_type": "stream",
     "text": [
      "\r",
      "[===========                                                                                         ]  11% (7333/64224; ~24m until finished)"
     ]
    },
    {
     "name": "stderr",
     "output_type": "stream",
     "text": [
      "2021-11-06 13:22:08,632 [WARNING] Optimization warning (l_bfgs_b): b'ABNORMAL_TERMINATION_IN_LNSRCH'\n"
     ]
    },
    {
     "name": "stdout",
     "output_type": "stream",
     "text": [
      "\r",
      "[===========                                                                                         ]  11% (7334/64224; ~24m until finished)"
     ]
    },
    {
     "name": "stderr",
     "output_type": "stream",
     "text": [
      "2021-11-06 13:22:08,809 [WARNING] Optimization warning (l_bfgs_b): b'ABNORMAL_TERMINATION_IN_LNSRCH'\n"
     ]
    },
    {
     "name": "stdout",
     "output_type": "stream",
     "text": [
      "[===========                                                                                         ]  11% (7338/64224; ~24m until finished)"
     ]
    },
    {
     "name": "stderr",
     "output_type": "stream",
     "text": [
      "2021-11-06 13:22:09,021 [WARNING] Optimization warning (l_bfgs_b): b'ABNORMAL_TERMINATION_IN_LNSRCH'\n"
     ]
    },
    {
     "name": "stdout",
     "output_type": "stream",
     "text": [
      "\r",
      "[===========                                                                                         ]  11% (7339/64224; ~24m until finished)"
     ]
    },
    {
     "name": "stderr",
     "output_type": "stream",
     "text": [
      "2021-11-06 13:22:09,159 [WARNING] Optimization warning (l_bfgs_b): b'ABNORMAL_TERMINATION_IN_LNSRCH'\n"
     ]
    },
    {
     "name": "stdout",
     "output_type": "stream",
     "text": [
      "[===========                                                                                         ]  11% (7346/64224; ~24m until finished)"
     ]
    },
    {
     "name": "stderr",
     "output_type": "stream",
     "text": [
      "2021-11-06 13:22:09,470 [WARNING] Optimization warning (l_bfgs_b): b'ABNORMAL_TERMINATION_IN_LNSRCH'\n"
     ]
    },
    {
     "name": "stdout",
     "output_type": "stream",
     "text": [
      "[===========                                                                                         ]  11% (7348/64224; ~24m until finished)"
     ]
    },
    {
     "name": "stderr",
     "output_type": "stream",
     "text": [
      "2021-11-06 13:22:09,687 [WARNING] Optimization warning (l_bfgs_b): b'ABNORMAL_TERMINATION_IN_LNSRCH'\n"
     ]
    },
    {
     "name": "stdout",
     "output_type": "stream",
     "text": [
      "[===========                                                                                         ]  11% (7351/64224; ~24m until finished)"
     ]
    },
    {
     "name": "stderr",
     "output_type": "stream",
     "text": [
      "2021-11-06 13:22:09,922 [WARNING] Optimization warning (l_bfgs_b): b'ABNORMAL_TERMINATION_IN_LNSRCH'\n"
     ]
    },
    {
     "name": "stdout",
     "output_type": "stream",
     "text": [
      "[===========                                                                                         ]  11% (7372/64224; ~24m until finished)"
     ]
    },
    {
     "name": "stderr",
     "output_type": "stream",
     "text": [
      "2021-11-06 13:22:10,558 [WARNING] Optimization warning (l_bfgs_b): b'ABNORMAL_TERMINATION_IN_LNSRCH'\n"
     ]
    },
    {
     "name": "stdout",
     "output_type": "stream",
     "text": [
      "[===========                                                                                         ]  12% (7429/64224; ~24m until finished)"
     ]
    },
    {
     "name": "stderr",
     "output_type": "stream",
     "text": [
      "2021-11-06 13:22:12,178 [WARNING] Optimization warning (l_bfgs_b): b'ABNORMAL_TERMINATION_IN_LNSRCH'\n"
     ]
    },
    {
     "name": "stdout",
     "output_type": "stream",
     "text": [
      "[===========                                                                                         ]  12% (7432/64224; ~24m until finished)"
     ]
    },
    {
     "name": "stderr",
     "output_type": "stream",
     "text": [
      "2021-11-06 13:22:12,370 [WARNING] Optimization warning (l_bfgs_b): b'ABNORMAL_TERMINATION_IN_LNSRCH'\n"
     ]
    },
    {
     "name": "stdout",
     "output_type": "stream",
     "text": [
      "[===========                                                                                         ]  12% (7448/64224; ~24m until finished)"
     ]
    },
    {
     "name": "stderr",
     "output_type": "stream",
     "text": [
      "2021-11-06 13:22:12,912 [WARNING] Optimization warning (l_bfgs_b): b'ABNORMAL_TERMINATION_IN_LNSRCH'\n"
     ]
    },
    {
     "name": "stdout",
     "output_type": "stream",
     "text": [
      "[===========                                                                                         ]  12% (7452/64224; ~24m until finished)"
     ]
    },
    {
     "name": "stderr",
     "output_type": "stream",
     "text": [
      "2021-11-06 13:22:13,242 [WARNING] Optimization warning (l_bfgs_b): b'ABNORMAL_TERMINATION_IN_LNSRCH'\n"
     ]
    },
    {
     "name": "stdout",
     "output_type": "stream",
     "text": [
      "[===========                                                                                         ]  12% (7468/64224; ~24m until finished)"
     ]
    },
    {
     "name": "stderr",
     "output_type": "stream",
     "text": [
      "2021-11-06 13:22:13,846 [WARNING] Optimization warning (l_bfgs_b): b'ABNORMAL_TERMINATION_IN_LNSRCH'\n"
     ]
    },
    {
     "name": "stdout",
     "output_type": "stream",
     "text": [
      "[===========                                                                                         ]  12% (7473/64224; ~24m until finished)"
     ]
    },
    {
     "name": "stderr",
     "output_type": "stream",
     "text": [
      "2021-11-06 13:22:14,226 [WARNING] Optimization warning (l_bfgs_b): b'ABNORMAL_TERMINATION_IN_LNSRCH'\n"
     ]
    },
    {
     "name": "stdout",
     "output_type": "stream",
     "text": [
      "[===========                                                                                         ]  12% (7478/64224; ~24m until finished)"
     ]
    },
    {
     "name": "stderr",
     "output_type": "stream",
     "text": [
      "2021-11-06 13:22:14,526 [WARNING] Optimization warning (l_bfgs_b): b'ABNORMAL_TERMINATION_IN_LNSRCH'\n"
     ]
    },
    {
     "name": "stdout",
     "output_type": "stream",
     "text": [
      "[===========                                                                                         ]  12% (7483/64224; ~24m until finished)"
     ]
    },
    {
     "name": "stderr",
     "output_type": "stream",
     "text": [
      "2021-11-06 13:22:14,806 [WARNING] Optimization warning (l_bfgs_b): b'ABNORMAL_TERMINATION_IN_LNSRCH'\n"
     ]
    },
    {
     "name": "stdout",
     "output_type": "stream",
     "text": [
      "\r",
      "[===========                                                                                         ]  12% (7484/64224; ~24m until finished)"
     ]
    },
    {
     "name": "stderr",
     "output_type": "stream",
     "text": [
      "2021-11-06 13:22:15,016 [WARNING] Optimization warning (l_bfgs_b): b'ABNORMAL_TERMINATION_IN_LNSRCH'\n"
     ]
    },
    {
     "name": "stdout",
     "output_type": "stream",
     "text": [
      "[===========                                                                                         ]  12% (7486/64224; ~24m until finished)"
     ]
    },
    {
     "name": "stderr",
     "output_type": "stream",
     "text": [
      "2021-11-06 13:22:15,192 [WARNING] Optimization warning (l_bfgs_b): b'ABNORMAL_TERMINATION_IN_LNSRCH'\n"
     ]
    },
    {
     "name": "stdout",
     "output_type": "stream",
     "text": [
      "[===========                                                                                         ]  12% (7509/64224; ~24m until finished)"
     ]
    },
    {
     "name": "stderr",
     "output_type": "stream",
     "text": [
      "2021-11-06 13:22:15,892 [WARNING] Optimization warning (l_bfgs_b): b'ABNORMAL_TERMINATION_IN_LNSRCH'\n"
     ]
    },
    {
     "name": "stdout",
     "output_type": "stream",
     "text": [
      "[===========                                                                                         ]  12% (7511/64224; ~24m until finished)"
     ]
    },
    {
     "name": "stderr",
     "output_type": "stream",
     "text": [
      "2021-11-06 13:22:16,060 [WARNING] Optimization warning (l_bfgs_b): b'ABNORMAL_TERMINATION_IN_LNSRCH'\n"
     ]
    },
    {
     "name": "stdout",
     "output_type": "stream",
     "text": [
      "[===========                                                                                         ]  12% (7518/64224; ~24m until finished)"
     ]
    },
    {
     "name": "stderr",
     "output_type": "stream",
     "text": [
      "2021-11-06 13:22:16,397 [WARNING] Optimization warning (l_bfgs_b): b'ABNORMAL_TERMINATION_IN_LNSRCH'\n"
     ]
    },
    {
     "name": "stdout",
     "output_type": "stream",
     "text": [
      "[===========                                                                                         ]  12% (7543/64224; ~24m until finished)"
     ]
    },
    {
     "name": "stderr",
     "output_type": "stream",
     "text": [
      "2021-11-06 13:22:17,249 [WARNING] Optimization warning (l_bfgs_b): b'ABNORMAL_TERMINATION_IN_LNSRCH'\n"
     ]
    },
    {
     "name": "stdout",
     "output_type": "stream",
     "text": [
      "[===========                                                                                         ]  12% (7557/64224; ~24m until finished)"
     ]
    },
    {
     "name": "stderr",
     "output_type": "stream",
     "text": [
      "2021-11-06 13:22:17,700 [WARNING] Optimization warning (l_bfgs_b): b'ABNORMAL_TERMINATION_IN_LNSRCH'\n"
     ]
    },
    {
     "name": "stdout",
     "output_type": "stream",
     "text": [
      "[===========                                                                                         ]  12% (7565/64224; ~24m until finished)"
     ]
    },
    {
     "name": "stderr",
     "output_type": "stream",
     "text": [
      "2021-11-06 13:22:18,004 [WARNING] Optimization warning (l_bfgs_b): b'ABNORMAL_TERMINATION_IN_LNSRCH'\n"
     ]
    },
    {
     "name": "stdout",
     "output_type": "stream",
     "text": [
      "[===========                                                                                         ]  12% (7570/64224; ~24m until finished)"
     ]
    },
    {
     "name": "stderr",
     "output_type": "stream",
     "text": [
      "2021-11-06 13:22:18,266 [WARNING] Optimization warning (l_bfgs_b): b'ABNORMAL_TERMINATION_IN_LNSRCH'\n"
     ]
    },
    {
     "name": "stdout",
     "output_type": "stream",
     "text": [
      "[===========                                                                                         ]  12% (7630/64224; ~24m until finished)"
     ]
    },
    {
     "name": "stderr",
     "output_type": "stream",
     "text": [
      "2021-11-06 13:22:20,082 [WARNING] Optimization warning (l_bfgs_b): b'ABNORMAL_TERMINATION_IN_LNSRCH'\n"
     ]
    },
    {
     "name": "stdout",
     "output_type": "stream",
     "text": [
      "[===========                                                                                         ]  12% (7649/64224; ~24m until finished)"
     ]
    },
    {
     "name": "stderr",
     "output_type": "stream",
     "text": [
      "2021-11-06 13:22:20,778 [WARNING] Optimization warning (l_bfgs_b): b'ABNORMAL_TERMINATION_IN_LNSRCH'\n"
     ]
    },
    {
     "name": "stdout",
     "output_type": "stream",
     "text": [
      "[===========                                                                                         ]  12% (7651/64224; ~24m until finished)"
     ]
    },
    {
     "name": "stderr",
     "output_type": "stream",
     "text": [
      "2021-11-06 13:22:20,902 [WARNING] Optimization warning (l_bfgs_b): b'ABNORMAL_TERMINATION_IN_LNSRCH'\n"
     ]
    },
    {
     "name": "stdout",
     "output_type": "stream",
     "text": [
      "[===========                                                                                         ]  12% (7668/64224; ~24m until finished)"
     ]
    },
    {
     "name": "stderr",
     "output_type": "stream",
     "text": [
      "2021-11-06 13:22:21,305 [WARNING] Optimization warning (l_bfgs_b): b'ABNORMAL_TERMINATION_IN_LNSRCH'\n"
     ]
    },
    {
     "name": "stdout",
     "output_type": "stream",
     "text": [
      "[===========                                                                                         ]  12% (7681/64224; ~24m until finished)"
     ]
    },
    {
     "name": "stderr",
     "output_type": "stream",
     "text": [
      "2021-11-06 13:22:21,625 [WARNING] Optimization warning (l_bfgs_b): b'ABNORMAL_TERMINATION_IN_LNSRCH'\n"
     ]
    },
    {
     "name": "stdout",
     "output_type": "stream",
     "text": [
      "[===========                                                                                         ]  12% (7683/64224; ~24m until finished)"
     ]
    },
    {
     "name": "stderr",
     "output_type": "stream",
     "text": [
      "2021-11-06 13:22:21,785 [WARNING] Optimization warning (l_bfgs_b): b'ABNORMAL_TERMINATION_IN_LNSRCH'\n"
     ]
    },
    {
     "name": "stdout",
     "output_type": "stream",
     "text": [
      "[===========                                                                                         ]  12% (7700/64224; ~24m until finished)"
     ]
    },
    {
     "name": "stderr",
     "output_type": "stream",
     "text": [
      "2021-11-06 13:22:22,355 [WARNING] Optimization warning (l_bfgs_b): b'ABNORMAL_TERMINATION_IN_LNSRCH'\n"
     ]
    },
    {
     "name": "stdout",
     "output_type": "stream",
     "text": [
      "[============                                                                                        ]  12% (7706/64224; ~24m until finished)"
     ]
    },
    {
     "name": "stderr",
     "output_type": "stream",
     "text": [
      "2021-11-06 13:22:22,604 [WARNING] Optimization warning (l_bfgs_b): b'ABNORMAL_TERMINATION_IN_LNSRCH'\n"
     ]
    },
    {
     "name": "stdout",
     "output_type": "stream",
     "text": [
      "[============                                                                                        ]  12% (7711/64224; ~24m until finished)"
     ]
    },
    {
     "name": "stderr",
     "output_type": "stream",
     "text": [
      "2021-11-06 13:22:22,830 [WARNING] Optimization warning (l_bfgs_b): b'ABNORMAL_TERMINATION_IN_LNSRCH'\n"
     ]
    },
    {
     "name": "stdout",
     "output_type": "stream",
     "text": [
      "[============                                                                                        ]  12% (7716/64224; ~24m until finished)"
     ]
    },
    {
     "name": "stderr",
     "output_type": "stream",
     "text": [
      "2021-11-06 13:22:23,137 [WARNING] Optimization warning (l_bfgs_b): b'ABNORMAL_TERMINATION_IN_LNSRCH'\n"
     ]
    },
    {
     "name": "stdout",
     "output_type": "stream",
     "text": [
      "[============                                                                                        ]  12% (7724/64224; ~24m until finished)"
     ]
    },
    {
     "name": "stderr",
     "output_type": "stream",
     "text": [
      "2021-11-06 13:22:23,367 [WARNING] Optimization warning (l_bfgs_b): b'ABNORMAL_TERMINATION_IN_LNSRCH'\n"
     ]
    },
    {
     "name": "stdout",
     "output_type": "stream",
     "text": [
      "[============                                                                                        ]  12% (7726/64224; ~24m until finished)"
     ]
    },
    {
     "name": "stderr",
     "output_type": "stream",
     "text": [
      "2021-11-06 13:22:23,468 [WARNING] Optimization warning (l_bfgs_b): b'ABNORMAL_TERMINATION_IN_LNSRCH'\n"
     ]
    },
    {
     "name": "stdout",
     "output_type": "stream",
     "text": [
      "\r",
      "[============                                                                                        ]  12% (7727/64224; ~24m until finished)"
     ]
    },
    {
     "name": "stderr",
     "output_type": "stream",
     "text": [
      "2021-11-06 13:22:23,581 [WARNING] Optimization warning (l_bfgs_b): b'ABNORMAL_TERMINATION_IN_LNSRCH'\n"
     ]
    },
    {
     "name": "stdout",
     "output_type": "stream",
     "text": [
      "[============                                                                                        ]  12% (7729/64224; ~24m until finished)"
     ]
    },
    {
     "name": "stderr",
     "output_type": "stream",
     "text": [
      "2021-11-06 13:22:23,736 [WARNING] Optimization warning (l_bfgs_b): b'ABNORMAL_TERMINATION_IN_LNSRCH'\n"
     ]
    },
    {
     "name": "stdout",
     "output_type": "stream",
     "text": [
      "[============                                                                                        ]  12% (7734/64224; ~24m until finished)"
     ]
    },
    {
     "name": "stderr",
     "output_type": "stream",
     "text": [
      "2021-11-06 13:22:23,924 [WARNING] Optimization warning (l_bfgs_b): b'ABNORMAL_TERMINATION_IN_LNSRCH'\n"
     ]
    },
    {
     "name": "stdout",
     "output_type": "stream",
     "text": [
      "[============                                                                                        ]  12% (7759/64224; ~24m until finished)"
     ]
    },
    {
     "name": "stderr",
     "output_type": "stream",
     "text": [
      "2021-11-06 13:22:24,501 [WARNING] Optimization warning (l_bfgs_b): b'ABNORMAL_TERMINATION_IN_LNSRCH'\n"
     ]
    },
    {
     "name": "stdout",
     "output_type": "stream",
     "text": [
      "\r",
      "[============                                                                                        ]  12% (7760/64224; ~24m until finished)"
     ]
    },
    {
     "name": "stderr",
     "output_type": "stream",
     "text": [
      "2021-11-06 13:22:24,624 [WARNING] Optimization warning (l_bfgs_b): b'ABNORMAL_TERMINATION_IN_LNSRCH'\n"
     ]
    },
    {
     "name": "stdout",
     "output_type": "stream",
     "text": [
      "\r",
      "[============                                                                                        ]  12% (7761/64224; ~24m until finished)"
     ]
    },
    {
     "name": "stderr",
     "output_type": "stream",
     "text": [
      "2021-11-06 13:22:24,707 [WARNING] Optimization warning (l_bfgs_b): b'ABNORMAL_TERMINATION_IN_LNSRCH'\n"
     ]
    },
    {
     "name": "stdout",
     "output_type": "stream",
     "text": [
      "\r",
      "[============                                                                                        ]  12% (7762/64224; ~24m until finished)"
     ]
    },
    {
     "name": "stderr",
     "output_type": "stream",
     "text": [
      "2021-11-06 13:22:24,800 [WARNING] Optimization warning (l_bfgs_b): b'ABNORMAL_TERMINATION_IN_LNSRCH'\n"
     ]
    },
    {
     "name": "stdout",
     "output_type": "stream",
     "text": [
      "[============                                                                                        ]  12% (7774/64224; ~24m until finished)"
     ]
    },
    {
     "name": "stderr",
     "output_type": "stream",
     "text": [
      "2021-11-06 13:22:25,236 [WARNING] Optimization warning (l_bfgs_b): b'ABNORMAL_TERMINATION_IN_LNSRCH'\n"
     ]
    },
    {
     "name": "stdout",
     "output_type": "stream",
     "text": [
      "[============                                                                                        ]  12% (7784/64224; ~24m until finished)"
     ]
    },
    {
     "name": "stderr",
     "output_type": "stream",
     "text": [
      "2021-11-06 13:22:25,547 [WARNING] Optimization warning (l_bfgs_b): b'ABNORMAL_TERMINATION_IN_LNSRCH'\n"
     ]
    },
    {
     "name": "stdout",
     "output_type": "stream",
     "text": [
      "[============                                                                                        ]  12% (7788/64224; ~24m until finished)"
     ]
    },
    {
     "name": "stderr",
     "output_type": "stream",
     "text": [
      "2021-11-06 13:22:25,732 [WARNING] Optimization warning (l_bfgs_b): b'ABNORMAL_TERMINATION_IN_LNSRCH'\n"
     ]
    },
    {
     "name": "stdout",
     "output_type": "stream",
     "text": [
      "[============                                                                                        ]  12% (7854/64224; ~24m until finished)"
     ]
    },
    {
     "name": "stderr",
     "output_type": "stream",
     "text": [
      "2021-11-06 13:22:27,165 [WARNING] Optimization warning (l_bfgs_b): b'ABNORMAL_TERMINATION_IN_LNSRCH'\n"
     ]
    },
    {
     "name": "stdout",
     "output_type": "stream",
     "text": [
      "[============                                                                                        ]  12% (7866/64224; ~24m until finished)"
     ]
    },
    {
     "name": "stderr",
     "output_type": "stream",
     "text": [
      "2021-11-06 13:22:27,429 [WARNING] Optimization warning (l_bfgs_b): b'ABNORMAL_TERMINATION_IN_LNSRCH'\n"
     ]
    },
    {
     "name": "stdout",
     "output_type": "stream",
     "text": [
      "[============                                                                                        ]  12% (7908/64224; ~24m until finished)"
     ]
    },
    {
     "name": "stderr",
     "output_type": "stream",
     "text": [
      "2021-11-06 13:22:28,268 [WARNING] Optimization warning (l_bfgs_b): b'ABNORMAL_TERMINATION_IN_LNSRCH'\n"
     ]
    },
    {
     "name": "stdout",
     "output_type": "stream",
     "text": [
      "[============                                                                                        ]  12% (7917/64224; ~24m until finished)"
     ]
    },
    {
     "name": "stderr",
     "output_type": "stream",
     "text": [
      "2021-11-06 13:22:28,521 [WARNING] Optimization warning (l_bfgs_b): b'ABNORMAL_TERMINATION_IN_LNSRCH'\n"
     ]
    },
    {
     "name": "stdout",
     "output_type": "stream",
     "text": [
      "[============                                                                                        ]  12% (7922/64224; ~24m until finished)"
     ]
    },
    {
     "name": "stderr",
     "output_type": "stream",
     "text": [
      "2021-11-06 13:22:28,736 [WARNING] Optimization warning (l_bfgs_b): b'ABNORMAL_TERMINATION_IN_LNSRCH'\n"
     ]
    },
    {
     "name": "stdout",
     "output_type": "stream",
     "text": [
      "[============                                                                                        ]  12% (7926/64224; ~24m until finished)"
     ]
    },
    {
     "name": "stderr",
     "output_type": "stream",
     "text": [
      "2021-11-06 13:22:28,888 [WARNING] Optimization warning (l_bfgs_b): b'ABNORMAL_TERMINATION_IN_LNSRCH'\n"
     ]
    },
    {
     "name": "stdout",
     "output_type": "stream",
     "text": [
      "[============                                                                                        ]  12% (7938/64224; ~24m until finished)"
     ]
    },
    {
     "name": "stderr",
     "output_type": "stream",
     "text": [
      "2021-11-06 13:22:29,102 [WARNING] Optimization warning (l_bfgs_b): b'ABNORMAL_TERMINATION_IN_LNSRCH'\n"
     ]
    },
    {
     "name": "stdout",
     "output_type": "stream",
     "text": [
      "\r",
      "[============                                                                                        ]  12% (7939/64224; ~24m until finished)"
     ]
    },
    {
     "name": "stderr",
     "output_type": "stream",
     "text": [
      "2021-11-06 13:22:29,182 [WARNING] Optimization warning (l_bfgs_b): b'ABNORMAL_TERMINATION_IN_LNSRCH'\n"
     ]
    },
    {
     "name": "stdout",
     "output_type": "stream",
     "text": [
      "[============                                                                                        ]  12% (7942/64224; ~24m until finished)"
     ]
    },
    {
     "name": "stderr",
     "output_type": "stream",
     "text": [
      "2021-11-06 13:22:29,306 [WARNING] Optimization warning (l_bfgs_b): b'ABNORMAL_TERMINATION_IN_LNSRCH'\n"
     ]
    },
    {
     "name": "stdout",
     "output_type": "stream",
     "text": [
      "[============                                                                                        ]  12% (7955/64224; ~24m until finished)"
     ]
    },
    {
     "name": "stderr",
     "output_type": "stream",
     "text": [
      "2021-11-06 13:22:29,587 [WARNING] Optimization warning (l_bfgs_b): b'ABNORMAL_TERMINATION_IN_LNSRCH'\n"
     ]
    },
    {
     "name": "stdout",
     "output_type": "stream",
     "text": [
      "\r",
      "[============                                                                                        ]  12% (7956/64224; ~24m until finished)"
     ]
    },
    {
     "name": "stderr",
     "output_type": "stream",
     "text": [
      "2021-11-06 13:22:29,708 [WARNING] Optimization warning (l_bfgs_b): b'ABNORMAL_TERMINATION_IN_LNSRCH'\n"
     ]
    },
    {
     "name": "stdout",
     "output_type": "stream",
     "text": [
      "[============                                                                                        ]  12% (7979/64224; ~24m until finished)"
     ]
    },
    {
     "name": "stderr",
     "output_type": "stream",
     "text": [
      "2021-11-06 13:22:30,305 [WARNING] Optimization warning (l_bfgs_b): b'ABNORMAL_TERMINATION_IN_LNSRCH'\n"
     ]
    },
    {
     "name": "stdout",
     "output_type": "stream",
     "text": [
      "[============                                                                                        ]  12% (8022/64224; ~24m until finished)"
     ]
    },
    {
     "name": "stderr",
     "output_type": "stream",
     "text": [
      "2021-11-06 13:22:31,411 [WARNING] Optimization warning (l_bfgs_b): b'ABNORMAL_TERMINATION_IN_LNSRCH'\n"
     ]
    },
    {
     "name": "stdout",
     "output_type": "stream",
     "text": [
      "\r",
      "[============                                                                                        ]  12% (8023/64224; ~24m until finished)"
     ]
    },
    {
     "name": "stderr",
     "output_type": "stream",
     "text": [
      "2021-11-06 13:22:31,498 [WARNING] Optimization warning (l_bfgs_b): b'ABNORMAL_TERMINATION_IN_LNSRCH'\n"
     ]
    },
    {
     "name": "stdout",
     "output_type": "stream",
     "text": [
      "[============                                                                                        ]  12% (8027/64224; ~24m until finished)"
     ]
    },
    {
     "name": "stderr",
     "output_type": "stream",
     "text": [
      "2021-11-06 13:22:31,710 [WARNING] Optimization warning (l_bfgs_b): b'ABNORMAL_TERMINATION_IN_LNSRCH'\n"
     ]
    },
    {
     "name": "stdout",
     "output_type": "stream",
     "text": [
      "[============                                                                                        ]  13% (8047/64224; ~24m until finished)"
     ]
    },
    {
     "name": "stderr",
     "output_type": "stream",
     "text": [
      "2021-11-06 13:22:32,243 [WARNING] Optimization warning (l_bfgs_b): b'ABNORMAL_TERMINATION_IN_LNSRCH'\n"
     ]
    },
    {
     "name": "stdout",
     "output_type": "stream",
     "text": [
      "[============                                                                                        ]  13% (8099/64224; ~24m until finished)"
     ]
    },
    {
     "name": "stderr",
     "output_type": "stream",
     "text": [
      "2021-11-06 13:22:33,472 [WARNING] Optimization warning (l_bfgs_b): b'ABNORMAL_TERMINATION_IN_LNSRCH'\n"
     ]
    },
    {
     "name": "stdout",
     "output_type": "stream",
     "text": [
      "\r",
      "[============                                                                                        ]  13% (8100/64224; ~24m until finished)"
     ]
    },
    {
     "name": "stderr",
     "output_type": "stream",
     "text": [
      "2021-11-06 13:22:33,581 [WARNING] Optimization warning (l_bfgs_b): b'ABNORMAL_TERMINATION_IN_LNSRCH'\n"
     ]
    },
    {
     "name": "stdout",
     "output_type": "stream",
     "text": [
      "[============                                                                                        ]  13% (8103/64224; ~24m until finished)"
     ]
    },
    {
     "name": "stderr",
     "output_type": "stream",
     "text": [
      "2021-11-06 13:22:33,712 [WARNING] Optimization warning (l_bfgs_b): b'ABNORMAL_TERMINATION_IN_LNSRCH'\n"
     ]
    },
    {
     "name": "stdout",
     "output_type": "stream",
     "text": [
      "[============                                                                                        ]  13% (8116/64224; ~24m until finished)"
     ]
    },
    {
     "name": "stderr",
     "output_type": "stream",
     "text": [
      "2021-11-06 13:22:34,141 [WARNING] Optimization warning (l_bfgs_b): b'ABNORMAL_TERMINATION_IN_LNSRCH'\n"
     ]
    },
    {
     "name": "stdout",
     "output_type": "stream",
     "text": [
      "[============                                                                                        ]  13% (8120/64224; ~24m until finished)"
     ]
    },
    {
     "name": "stderr",
     "output_type": "stream",
     "text": [
      "2021-11-06 13:22:34,303 [WARNING] Optimization warning (l_bfgs_b): b'ABNORMAL_TERMINATION_IN_LNSRCH'\n"
     ]
    },
    {
     "name": "stdout",
     "output_type": "stream",
     "text": [
      "[============                                                                                        ]  13% (8122/64224; ~24m until finished)"
     ]
    },
    {
     "name": "stderr",
     "output_type": "stream",
     "text": [
      "2021-11-06 13:22:34,422 [WARNING] Optimization warning (l_bfgs_b): b'ABNORMAL_TERMINATION_IN_LNSRCH'\n"
     ]
    },
    {
     "name": "stdout",
     "output_type": "stream",
     "text": [
      "[============                                                                                        ]  13% (8154/64224; ~24m until finished)"
     ]
    },
    {
     "name": "stderr",
     "output_type": "stream",
     "text": [
      "2021-11-06 13:22:35,246 [WARNING] Optimization warning (l_bfgs_b): b'ABNORMAL_TERMINATION_IN_LNSRCH'\n"
     ]
    },
    {
     "name": "stdout",
     "output_type": "stream",
     "text": [
      "[============                                                                                        ]  13% (8161/64224; ~24m until finished)"
     ]
    },
    {
     "name": "stderr",
     "output_type": "stream",
     "text": [
      "2021-11-06 13:22:35,556 [WARNING] Optimization warning (l_bfgs_b): b'ABNORMAL_TERMINATION_IN_LNSRCH'\n"
     ]
    },
    {
     "name": "stdout",
     "output_type": "stream",
     "text": [
      "[============                                                                                        ]  13% (8164/64224; ~24m until finished)"
     ]
    },
    {
     "name": "stderr",
     "output_type": "stream",
     "text": [
      "2021-11-06 13:22:35,806 [WARNING] Optimization warning (l_bfgs_b): b'ABNORMAL_TERMINATION_IN_LNSRCH'\n"
     ]
    },
    {
     "name": "stdout",
     "output_type": "stream",
     "text": [
      "[============                                                                                        ]  13% (8168/64224; ~24m until finished)"
     ]
    },
    {
     "name": "stderr",
     "output_type": "stream",
     "text": [
      "2021-11-06 13:22:35,979 [WARNING] Optimization warning (l_bfgs_b): b'ABNORMAL_TERMINATION_IN_LNSRCH'\n"
     ]
    },
    {
     "name": "stdout",
     "output_type": "stream",
     "text": [
      "[============                                                                                        ]  13% (8170/64224; ~24m until finished)"
     ]
    },
    {
     "name": "stderr",
     "output_type": "stream",
     "text": [
      "2021-11-06 13:22:36,106 [WARNING] Optimization warning (l_bfgs_b): b'ABNORMAL_TERMINATION_IN_LNSRCH'\n"
     ]
    },
    {
     "name": "stdout",
     "output_type": "stream",
     "text": [
      "\r",
      "[============                                                                                        ]  13% (8171/64224; ~24m until finished)"
     ]
    },
    {
     "name": "stderr",
     "output_type": "stream",
     "text": [
      "2021-11-06 13:22:36,205 [WARNING] Optimization warning (l_bfgs_b): b'ABNORMAL_TERMINATION_IN_LNSRCH'\n"
     ]
    },
    {
     "name": "stdout",
     "output_type": "stream",
     "text": [
      "[============                                                                                        ]  13% (8173/64224; ~24m until finished)"
     ]
    },
    {
     "name": "stderr",
     "output_type": "stream",
     "text": [
      "2021-11-06 13:22:36,379 [WARNING] Optimization warning (l_bfgs_b): b'ABNORMAL_TERMINATION_IN_LNSRCH'\n"
     ]
    },
    {
     "name": "stdout",
     "output_type": "stream",
     "text": [
      "[============                                                                                        ]  13% (8180/64224; ~24m until finished)"
     ]
    },
    {
     "name": "stderr",
     "output_type": "stream",
     "text": [
      "2021-11-06 13:22:36,611 [WARNING] Optimization warning (l_bfgs_b): b'ABNORMAL_TERMINATION_IN_LNSRCH'\n"
     ]
    },
    {
     "name": "stdout",
     "output_type": "stream",
     "text": [
      "[============                                                                                        ]  13% (8190/64224; ~24m until finished)"
     ]
    },
    {
     "name": "stderr",
     "output_type": "stream",
     "text": [
      "2021-11-06 13:22:36,911 [WARNING] Optimization warning (l_bfgs_b): b'ABNORMAL_TERMINATION_IN_LNSRCH'\n"
     ]
    },
    {
     "name": "stdout",
     "output_type": "stream",
     "text": [
      "[============                                                                                        ]  13% (8200/64224; ~24m until finished)"
     ]
    },
    {
     "name": "stderr",
     "output_type": "stream",
     "text": [
      "2021-11-06 13:22:37,201 [WARNING] Optimization warning (l_bfgs_b): b'ABNORMAL_TERMINATION_IN_LNSRCH'\n"
     ]
    },
    {
     "name": "stdout",
     "output_type": "stream",
     "text": [
      "[============                                                                                        ]  13% (8214/64224; ~24m until finished)"
     ]
    },
    {
     "name": "stderr",
     "output_type": "stream",
     "text": [
      "2021-11-06 13:22:37,534 [WARNING] Optimization warning (l_bfgs_b): b'ABNORMAL_TERMINATION_IN_LNSRCH'\n"
     ]
    },
    {
     "name": "stdout",
     "output_type": "stream",
     "text": [
      "[============                                                                                        ]  13% (8219/64224; ~24m until finished)"
     ]
    },
    {
     "name": "stderr",
     "output_type": "stream",
     "text": [
      "2021-11-06 13:22:37,713 [WARNING] Optimization warning (l_bfgs_b): b'ABNORMAL_TERMINATION_IN_LNSRCH'\n"
     ]
    },
    {
     "name": "stdout",
     "output_type": "stream",
     "text": [
      "[============                                                                                        ]  13% (8227/64224; ~24m until finished)"
     ]
    },
    {
     "name": "stderr",
     "output_type": "stream",
     "text": [
      "2021-11-06 13:22:37,939 [WARNING] Optimization warning (l_bfgs_b): b'ABNORMAL_TERMINATION_IN_LNSRCH'\n"
     ]
    },
    {
     "name": "stdout",
     "output_type": "stream",
     "text": [
      "[============                                                                                        ]  13% (8245/64224; ~24m until finished)"
     ]
    },
    {
     "name": "stderr",
     "output_type": "stream",
     "text": [
      "2021-11-06 13:22:38,323 [WARNING] Optimization warning (l_bfgs_b): b'ABNORMAL_TERMINATION_IN_LNSRCH'\n"
     ]
    },
    {
     "name": "stdout",
     "output_type": "stream",
     "text": [
      "[============                                                                                        ]  13% (8293/64224; ~24m until finished)"
     ]
    },
    {
     "name": "stderr",
     "output_type": "stream",
     "text": [
      "2021-11-06 13:22:39,630 [WARNING] Optimization warning (l_bfgs_b): b'ABNORMAL_TERMINATION_IN_LNSRCH'\n"
     ]
    },
    {
     "name": "stdout",
     "output_type": "stream",
     "text": [
      "[============                                                                                        ]  13% (8300/64224; ~24m until finished)"
     ]
    },
    {
     "name": "stderr",
     "output_type": "stream",
     "text": [
      "2021-11-06 13:22:39,894 [WARNING] Optimization warning (l_bfgs_b): b'ABNORMAL_TERMINATION_IN_LNSRCH'\n"
     ]
    },
    {
     "name": "stdout",
     "output_type": "stream",
     "text": [
      "[============                                                                                        ]  13% (8302/64224; ~24m until finished)"
     ]
    },
    {
     "name": "stderr",
     "output_type": "stream",
     "text": [
      "2021-11-06 13:22:40,038 [WARNING] Optimization warning (l_bfgs_b): b'ABNORMAL_TERMINATION_IN_LNSRCH'\n"
     ]
    },
    {
     "name": "stdout",
     "output_type": "stream",
     "text": [
      "[============                                                                                        ]  13% (8304/64224; ~24m until finished)"
     ]
    },
    {
     "name": "stderr",
     "output_type": "stream",
     "text": [
      "2021-11-06 13:22:40,123 [WARNING] Optimization warning (l_bfgs_b): b'ABNORMAL_TERMINATION_IN_LNSRCH'\n"
     ]
    },
    {
     "name": "stdout",
     "output_type": "stream",
     "text": [
      "[============                                                                                        ]  13% (8307/64224; ~24m until finished)"
     ]
    },
    {
     "name": "stderr",
     "output_type": "stream",
     "text": [
      "2021-11-06 13:22:40,214 [WARNING] Optimization warning (l_bfgs_b): b'ABNORMAL_TERMINATION_IN_LNSRCH'\n"
     ]
    },
    {
     "name": "stdout",
     "output_type": "stream",
     "text": [
      "\r",
      "[============                                                                                        ]  13% (8308/64224; ~24m until finished)"
     ]
    },
    {
     "name": "stderr",
     "output_type": "stream",
     "text": [
      "2021-11-06 13:22:40,268 [WARNING] Optimization warning (l_bfgs_b): b'ABNORMAL_TERMINATION_IN_LNSRCH'\n"
     ]
    },
    {
     "name": "stdout",
     "output_type": "stream",
     "text": [
      "[============                                                                                        ]  13% (8310/64224; ~24m until finished)"
     ]
    },
    {
     "name": "stderr",
     "output_type": "stream",
     "text": [
      "2021-11-06 13:22:40,340 [WARNING] Optimization warning (l_bfgs_b): b'ABNORMAL_TERMINATION_IN_LNSRCH'\n"
     ]
    },
    {
     "name": "stdout",
     "output_type": "stream",
     "text": [
      "[============                                                                                        ]  13% (8329/64224; ~24m until finished)"
     ]
    },
    {
     "name": "stderr",
     "output_type": "stream",
     "text": [
      "2021-11-06 13:22:40,667 [WARNING] Optimization warning (l_bfgs_b): b'ABNORMAL_TERMINATION_IN_LNSRCH'\n"
     ]
    },
    {
     "name": "stdout",
     "output_type": "stream",
     "text": [
      "[=============                                                                                       ]  13% (8349/64224; ~24m until finished)"
     ]
    },
    {
     "name": "stderr",
     "output_type": "stream",
     "text": [
      "2021-11-06 13:22:41,126 [WARNING] Optimization warning (l_bfgs_b): b'ABNORMAL_TERMINATION_IN_LNSRCH'\n"
     ]
    },
    {
     "name": "stdout",
     "output_type": "stream",
     "text": [
      "[=============                                                                                       ]  13% (8352/64224; ~24m until finished)"
     ]
    },
    {
     "name": "stderr",
     "output_type": "stream",
     "text": [
      "2021-11-06 13:22:41,277 [WARNING] Optimization warning (l_bfgs_b): b'ABNORMAL_TERMINATION_IN_LNSRCH'\n"
     ]
    },
    {
     "name": "stdout",
     "output_type": "stream",
     "text": [
      "\r",
      "[=============                                                                                       ]  13% (8353/64224; ~24m until finished)"
     ]
    },
    {
     "name": "stderr",
     "output_type": "stream",
     "text": [
      "2021-11-06 13:22:41,385 [WARNING] Optimization warning (l_bfgs_b): b'ABNORMAL_TERMINATION_IN_LNSRCH'\n"
     ]
    },
    {
     "name": "stdout",
     "output_type": "stream",
     "text": [
      "[=============                                                                                       ]  13% (8378/64224; ~24m until finished)"
     ]
    },
    {
     "name": "stderr",
     "output_type": "stream",
     "text": [
      "2021-11-06 13:22:42,094 [WARNING] Optimization warning (l_bfgs_b): b'ABNORMAL_TERMINATION_IN_LNSRCH'\n"
     ]
    },
    {
     "name": "stdout",
     "output_type": "stream",
     "text": [
      "[=============                                                                                       ]  13% (8382/64224; ~24m until finished)"
     ]
    },
    {
     "name": "stderr",
     "output_type": "stream",
     "text": [
      "2021-11-06 13:22:42,248 [WARNING] Optimization warning (l_bfgs_b): b'ABNORMAL_TERMINATION_IN_LNSRCH'\n"
     ]
    },
    {
     "name": "stdout",
     "output_type": "stream",
     "text": [
      "[=============                                                                                       ]  13% (8390/64224; ~24m until finished)"
     ]
    },
    {
     "name": "stderr",
     "output_type": "stream",
     "text": [
      "2021-11-06 13:22:42,569 [WARNING] Optimization warning (l_bfgs_b): b'ABNORMAL_TERMINATION_IN_LNSRCH'\n"
     ]
    },
    {
     "name": "stdout",
     "output_type": "stream",
     "text": [
      "[=============                                                                                       ]  13% (8440/64224; ~24m until finished)"
     ]
    },
    {
     "name": "stderr",
     "output_type": "stream",
     "text": [
      "2021-11-06 13:22:43,899 [WARNING] Optimization warning (l_bfgs_b): b'ABNORMAL_TERMINATION_IN_LNSRCH'\n"
     ]
    },
    {
     "name": "stdout",
     "output_type": "stream",
     "text": [
      "[=============                                                                                       ]  13% (8469/64224; ~24m until finished)"
     ]
    },
    {
     "name": "stderr",
     "output_type": "stream",
     "text": [
      "2021-11-06 13:22:44,420 [WARNING] Optimization warning (l_bfgs_b): b'ABNORMAL_TERMINATION_IN_LNSRCH'\n"
     ]
    },
    {
     "name": "stdout",
     "output_type": "stream",
     "text": [
      "[=============                                                                                       ]  13% (8479/64224; ~24m until finished)"
     ]
    },
    {
     "name": "stderr",
     "output_type": "stream",
     "text": [
      "2021-11-06 13:22:44,654 [WARNING] Optimization warning (l_bfgs_b): b'ABNORMAL_TERMINATION_IN_LNSRCH'\n"
     ]
    },
    {
     "name": "stdout",
     "output_type": "stream",
     "text": [
      "[=============                                                                                       ]  13% (8532/64224; ~24m until finished)"
     ]
    },
    {
     "name": "stderr",
     "output_type": "stream",
     "text": [
      "2021-11-06 13:22:45,881 [WARNING] Optimization warning (l_bfgs_b): b'ABNORMAL_TERMINATION_IN_LNSRCH'\n"
     ]
    },
    {
     "name": "stdout",
     "output_type": "stream",
     "text": [
      "[=============                                                                                       ]  13% (8573/64224; ~24m until finished)"
     ]
    },
    {
     "name": "stderr",
     "output_type": "stream",
     "text": [
      "2021-11-06 13:22:46,970 [WARNING] Optimization warning (l_bfgs_b): b'ABNORMAL_TERMINATION_IN_LNSRCH'\n"
     ]
    },
    {
     "name": "stdout",
     "output_type": "stream",
     "text": [
      "[=============                                                                                       ]  13% (8604/64224; ~24m until finished)"
     ]
    },
    {
     "name": "stderr",
     "output_type": "stream",
     "text": [
      "2021-11-06 13:22:47,715 [WARNING] Optimization warning (l_bfgs_b): b'ABNORMAL_TERMINATION_IN_LNSRCH'\n"
     ]
    },
    {
     "name": "stdout",
     "output_type": "stream",
     "text": [
      "[=============                                                                                       ]  13% (8643/64224; ~24m until finished)"
     ]
    },
    {
     "name": "stderr",
     "output_type": "stream",
     "text": [
      "2021-11-06 13:22:48,797 [WARNING] Optimization warning (l_bfgs_b): b'ABNORMAL_TERMINATION_IN_LNSRCH'\n"
     ]
    },
    {
     "name": "stdout",
     "output_type": "stream",
     "text": [
      "[=============                                                                                       ]  14% (8685/64224; ~24m until finished)"
     ]
    },
    {
     "name": "stderr",
     "output_type": "stream",
     "text": [
      "2021-11-06 13:22:50,000 [WARNING] Optimization warning (l_bfgs_b): b'ABNORMAL_TERMINATION_IN_LNSRCH'\n"
     ]
    },
    {
     "name": "stdout",
     "output_type": "stream",
     "text": [
      "[=============                                                                                       ]  14% (8692/64224; ~24m until finished)"
     ]
    },
    {
     "name": "stderr",
     "output_type": "stream",
     "text": [
      "2021-11-06 13:22:50,231 [WARNING] Optimization warning (l_bfgs_b): b'ABNORMAL_TERMINATION_IN_LNSRCH'\n"
     ]
    },
    {
     "name": "stdout",
     "output_type": "stream",
     "text": [
      "\r",
      "[=============                                                                                       ]  14% (8693/64224; ~24m until finished)"
     ]
    },
    {
     "name": "stderr",
     "output_type": "stream",
     "text": [
      "2021-11-06 13:22:50,319 [WARNING] Optimization warning (l_bfgs_b): b'ABNORMAL_TERMINATION_IN_LNSRCH'\n"
     ]
    },
    {
     "name": "stdout",
     "output_type": "stream",
     "text": [
      "[=============                                                                                       ]  14% (8699/64224; ~24m until finished)"
     ]
    },
    {
     "name": "stderr",
     "output_type": "stream",
     "text": [
      "2021-11-06 13:22:50,544 [WARNING] Optimization warning (l_bfgs_b): b'ABNORMAL_TERMINATION_IN_LNSRCH'\n"
     ]
    },
    {
     "name": "stdout",
     "output_type": "stream",
     "text": [
      "\r",
      "[=============                                                                                       ]  14% (8700/64224; ~24m until finished)"
     ]
    },
    {
     "name": "stderr",
     "output_type": "stream",
     "text": [
      "2021-11-06 13:22:50,647 [WARNING] Optimization warning (l_bfgs_b): b'ABNORMAL_TERMINATION_IN_LNSRCH'\n"
     ]
    },
    {
     "name": "stdout",
     "output_type": "stream",
     "text": [
      "\r",
      "[=============                                                                                       ]  14% (8701/64224; ~24m until finished)"
     ]
    },
    {
     "name": "stderr",
     "output_type": "stream",
     "text": [
      "2021-11-06 13:22:50,738 [WARNING] Optimization warning (l_bfgs_b): b'ABNORMAL_TERMINATION_IN_LNSRCH'\n"
     ]
    },
    {
     "name": "stdout",
     "output_type": "stream",
     "text": [
      "\r",
      "[=============                                                                                       ]  14% (8702/64224; ~24m until finished)"
     ]
    },
    {
     "name": "stderr",
     "output_type": "stream",
     "text": [
      "2021-11-06 13:22:50,842 [WARNING] Optimization warning (l_bfgs_b): b'ABNORMAL_TERMINATION_IN_LNSRCH'\n"
     ]
    },
    {
     "name": "stdout",
     "output_type": "stream",
     "text": [
      "\r",
      "[=============                                                                                       ]  14% (8703/64224; ~24m until finished)"
     ]
    },
    {
     "name": "stderr",
     "output_type": "stream",
     "text": [
      "2021-11-06 13:22:50,949 [WARNING] Optimization warning (l_bfgs_b): b'ABNORMAL_TERMINATION_IN_LNSRCH'\n"
     ]
    },
    {
     "name": "stdout",
     "output_type": "stream",
     "text": [
      "[=============                                                                                       ]  14% (8709/64224; ~24m until finished)"
     ]
    },
    {
     "name": "stderr",
     "output_type": "stream",
     "text": [
      "2021-11-06 13:22:51,173 [WARNING] Optimization warning (l_bfgs_b): b'ABNORMAL_TERMINATION_IN_LNSRCH'\n"
     ]
    },
    {
     "name": "stdout",
     "output_type": "stream",
     "text": [
      "[=============                                                                                       ]  14% (8720/64224; ~24m until finished)"
     ]
    },
    {
     "name": "stderr",
     "output_type": "stream",
     "text": [
      "2021-11-06 13:22:51,489 [WARNING] Optimization warning (l_bfgs_b): b'ABNORMAL_TERMINATION_IN_LNSRCH'\n"
     ]
    },
    {
     "name": "stdout",
     "output_type": "stream",
     "text": [
      "[=============                                                                                       ]  14% (8727/64224; ~24m until finished)"
     ]
    },
    {
     "name": "stderr",
     "output_type": "stream",
     "text": [
      "2021-11-06 13:22:51,741 [WARNING] Optimization warning (l_bfgs_b): b'ABNORMAL_TERMINATION_IN_LNSRCH'\n"
     ]
    },
    {
     "name": "stdout",
     "output_type": "stream",
     "text": [
      "[=============                                                                                       ]  14% (8732/64224; ~24m until finished)"
     ]
    },
    {
     "name": "stderr",
     "output_type": "stream",
     "text": [
      "2021-11-06 13:22:51,950 [WARNING] Optimization warning (l_bfgs_b): b'ABNORMAL_TERMINATION_IN_LNSRCH'\n"
     ]
    },
    {
     "name": "stdout",
     "output_type": "stream",
     "text": [
      "[=============                                                                                       ]  14% (8734/64224; ~24m until finished)"
     ]
    },
    {
     "name": "stderr",
     "output_type": "stream",
     "text": [
      "2021-11-06 13:22:52,087 [WARNING] Optimization warning (l_bfgs_b): b'ABNORMAL_TERMINATION_IN_LNSRCH'\n"
     ]
    },
    {
     "name": "stdout",
     "output_type": "stream",
     "text": [
      "[=============                                                                                       ]  14% (8796/64224; ~24m until finished)"
     ]
    },
    {
     "name": "stderr",
     "output_type": "stream",
     "text": [
      "2021-11-06 13:22:53,720 [WARNING] Optimization warning (l_bfgs_b): b'ABNORMAL_TERMINATION_IN_LNSRCH'\n"
     ]
    },
    {
     "name": "stdout",
     "output_type": "stream",
     "text": [
      "[=============                                                                                       ]  14% (8804/64224; ~24m until finished)"
     ]
    },
    {
     "name": "stderr",
     "output_type": "stream",
     "text": [
      "2021-11-06 13:22:53,983 [WARNING] Optimization warning (l_bfgs_b): b'ABNORMAL_TERMINATION_IN_LNSRCH'\n"
     ]
    },
    {
     "name": "stdout",
     "output_type": "stream",
     "text": [
      "[=============                                                                                       ]  14% (8825/64224; ~24m until finished)"
     ]
    },
    {
     "name": "stderr",
     "output_type": "stream",
     "text": [
      "2021-11-06 13:22:54,483 [WARNING] Optimization warning (l_bfgs_b): b'ABNORMAL_TERMINATION_IN_LNSRCH'\n"
     ]
    },
    {
     "name": "stdout",
     "output_type": "stream",
     "text": [
      "[=============                                                                                       ]  14% (8827/64224; ~24m until finished)"
     ]
    },
    {
     "name": "stderr",
     "output_type": "stream",
     "text": [
      "2021-11-06 13:22:54,628 [WARNING] Optimization warning (l_bfgs_b): b'ABNORMAL_TERMINATION_IN_LNSRCH'\n"
     ]
    },
    {
     "name": "stdout",
     "output_type": "stream",
     "text": [
      "[=============                                                                                       ]  14% (8833/64224; ~24m until finished)"
     ]
    },
    {
     "name": "stderr",
     "output_type": "stream",
     "text": [
      "2021-11-06 13:22:54,855 [WARNING] Optimization warning (l_bfgs_b): b'ABNORMAL_TERMINATION_IN_LNSRCH'\n"
     ]
    },
    {
     "name": "stdout",
     "output_type": "stream",
     "text": [
      "[=============                                                                                       ]  14% (8856/64224; ~24m until finished)"
     ]
    },
    {
     "name": "stderr",
     "output_type": "stream",
     "text": [
      "2021-11-06 13:22:55,429 [WARNING] Optimization warning (l_bfgs_b): b'ABNORMAL_TERMINATION_IN_LNSRCH'\n"
     ]
    },
    {
     "name": "stdout",
     "output_type": "stream",
     "text": [
      "[=============                                                                                       ]  14% (8868/64224; ~24m until finished)"
     ]
    },
    {
     "name": "stderr",
     "output_type": "stream",
     "text": [
      "2021-11-06 13:22:55,808 [WARNING] Optimization warning (l_bfgs_b): b'ABNORMAL_TERMINATION_IN_LNSRCH'\n"
     ]
    },
    {
     "name": "stdout",
     "output_type": "stream",
     "text": [
      "[=============                                                                                       ]  14% (8889/64224; ~24m until finished)"
     ]
    },
    {
     "name": "stderr",
     "output_type": "stream",
     "text": [
      "2021-11-06 13:22:56,422 [WARNING] Optimization warning (l_bfgs_b): b'ABNORMAL_TERMINATION_IN_LNSRCH'\n"
     ]
    },
    {
     "name": "stdout",
     "output_type": "stream",
     "text": [
      "\r",
      "[=============                                                                                       ]  14% (8890/64224; ~24m until finished)"
     ]
    },
    {
     "name": "stderr",
     "output_type": "stream",
     "text": [
      "2021-11-06 13:22:56,564 [WARNING] Optimization warning (l_bfgs_b): b'ABNORMAL_TERMINATION_IN_LNSRCH'\n"
     ]
    },
    {
     "name": "stdout",
     "output_type": "stream",
     "text": [
      "[=============                                                                                       ]  14% (8892/64224; ~24m until finished)"
     ]
    },
    {
     "name": "stderr",
     "output_type": "stream",
     "text": [
      "2021-11-06 13:22:56,668 [WARNING] Optimization warning (l_bfgs_b): b'ABNORMAL_TERMINATION_IN_LNSRCH'\n"
     ]
    },
    {
     "name": "stdout",
     "output_type": "stream",
     "text": [
      "[=============                                                                                       ]  14% (8917/64224; ~24m until finished)"
     ]
    },
    {
     "name": "stderr",
     "output_type": "stream",
     "text": [
      "2021-11-06 13:22:57,466 [WARNING] Optimization warning (l_bfgs_b): b'ABNORMAL_TERMINATION_IN_LNSRCH'\n"
     ]
    },
    {
     "name": "stdout",
     "output_type": "stream",
     "text": [
      "[=============                                                                                       ]  14% (8973/64224; ~24m until finished)"
     ]
    },
    {
     "name": "stderr",
     "output_type": "stream",
     "text": [
      "2021-11-06 13:22:58,846 [WARNING] Optimization warning (l_bfgs_b): b'ABNORMAL_TERMINATION_IN_LNSRCH'\n"
     ]
    },
    {
     "name": "stdout",
     "output_type": "stream",
     "text": [
      "[=============                                                                                       ]  14% (8986/64224; ~24m until finished)"
     ]
    },
    {
     "name": "stderr",
     "output_type": "stream",
     "text": [
      "2021-11-06 13:22:59,206 [WARNING] Optimization warning (l_bfgs_b): b'ABNORMAL_TERMINATION_IN_LNSRCH'\n"
     ]
    },
    {
     "name": "stdout",
     "output_type": "stream",
     "text": [
      "[==============                                                                                      ]  14% (8990/64224; ~24m until finished)"
     ]
    },
    {
     "name": "stderr",
     "output_type": "stream",
     "text": [
      "2021-11-06 13:22:59,358 [WARNING] Optimization warning (l_bfgs_b): b'ABNORMAL_TERMINATION_IN_LNSRCH'\n"
     ]
    },
    {
     "name": "stdout",
     "output_type": "stream",
     "text": [
      "[==============                                                                                      ]  14% (9012/64224; ~24m until finished)"
     ]
    },
    {
     "name": "stderr",
     "output_type": "stream",
     "text": [
      "2021-11-06 13:22:59,972 [WARNING] Optimization warning (l_bfgs_b): b'ABNORMAL_TERMINATION_IN_LNSRCH'\n"
     ]
    },
    {
     "name": "stdout",
     "output_type": "stream",
     "text": [
      "[==============                                                                                      ]  14% (9032/64224; ~24m until finished)"
     ]
    },
    {
     "name": "stderr",
     "output_type": "stream",
     "text": [
      "2021-11-06 13:23:00,497 [WARNING] Optimization warning (l_bfgs_b): b'ABNORMAL_TERMINATION_IN_LNSRCH'\n"
     ]
    },
    {
     "name": "stdout",
     "output_type": "stream",
     "text": [
      "[==============                                                                                      ]  14% (9034/64224; ~24m until finished)"
     ]
    },
    {
     "name": "stderr",
     "output_type": "stream",
     "text": [
      "2021-11-06 13:23:00,635 [WARNING] Optimization warning (l_bfgs_b): b'ABNORMAL_TERMINATION_IN_LNSRCH'\n"
     ]
    },
    {
     "name": "stdout",
     "output_type": "stream",
     "text": [
      "[==============                                                                                      ]  14% (9042/64224; ~24m until finished)"
     ]
    },
    {
     "name": "stderr",
     "output_type": "stream",
     "text": [
      "2021-11-06 13:23:00,977 [WARNING] Optimization warning (l_bfgs_b): b'ABNORMAL_TERMINATION_IN_LNSRCH'\n"
     ]
    },
    {
     "name": "stdout",
     "output_type": "stream",
     "text": [
      "[==============                                                                                      ]  14% (9075/64224; ~24m until finished)"
     ]
    },
    {
     "name": "stderr",
     "output_type": "stream",
     "text": [
      "2021-11-06 13:23:01,823 [WARNING] Optimization warning (l_bfgs_b): b'ABNORMAL_TERMINATION_IN_LNSRCH'\n"
     ]
    },
    {
     "name": "stdout",
     "output_type": "stream",
     "text": [
      "[==============                                                                                      ]  14% (9085/64224; ~24m until finished)"
     ]
    },
    {
     "name": "stderr",
     "output_type": "stream",
     "text": [
      "2021-11-06 13:23:02,121 [WARNING] Optimization warning (l_bfgs_b): b'ABNORMAL_TERMINATION_IN_LNSRCH'\n"
     ]
    },
    {
     "name": "stdout",
     "output_type": "stream",
     "text": [
      "[==============                                                                                      ]  14% (9111/64224; ~24m until finished)"
     ]
    },
    {
     "name": "stderr",
     "output_type": "stream",
     "text": [
      "2021-11-06 13:23:02,805 [WARNING] Optimization warning (l_bfgs_b): b'ABNORMAL_TERMINATION_IN_LNSRCH'\n"
     ]
    },
    {
     "name": "stdout",
     "output_type": "stream",
     "text": [
      "[==============                                                                                      ]  14% (9124/64224; ~24m until finished)"
     ]
    },
    {
     "name": "stderr",
     "output_type": "stream",
     "text": [
      "2021-11-06 13:23:03,119 [WARNING] Optimization warning (l_bfgs_b): b'ABNORMAL_TERMINATION_IN_LNSRCH'\n"
     ]
    },
    {
     "name": "stdout",
     "output_type": "stream",
     "text": [
      "[==============                                                                                      ]  14% (9135/64224; ~24m until finished)"
     ]
    },
    {
     "name": "stderr",
     "output_type": "stream",
     "text": [
      "2021-11-06 13:23:03,370 [WARNING] Optimization warning (l_bfgs_b): b'ABNORMAL_TERMINATION_IN_LNSRCH'\n"
     ]
    },
    {
     "name": "stdout",
     "output_type": "stream",
     "text": [
      "[==============                                                                                      ]  14% (9140/64224; ~24m until finished)"
     ]
    },
    {
     "name": "stderr",
     "output_type": "stream",
     "text": [
      "2021-11-06 13:23:03,518 [WARNING] Optimization warning (l_bfgs_b): b'ABNORMAL_TERMINATION_IN_LNSRCH'\n"
     ]
    },
    {
     "name": "stdout",
     "output_type": "stream",
     "text": [
      "[==============                                                                                      ]  14% (9142/64224; ~24m until finished)"
     ]
    },
    {
     "name": "stderr",
     "output_type": "stream",
     "text": [
      "2021-11-06 13:23:03,644 [WARNING] Optimization warning (l_bfgs_b): b'ABNORMAL_TERMINATION_IN_LNSRCH'\n"
     ]
    },
    {
     "name": "stdout",
     "output_type": "stream",
     "text": [
      "[==============                                                                                      ]  14% (9147/64224; ~24m until finished)"
     ]
    },
    {
     "name": "stderr",
     "output_type": "stream",
     "text": [
      "2021-11-06 13:23:03,807 [WARNING] Optimization warning (l_bfgs_b): b'ABNORMAL_TERMINATION_IN_LNSRCH'\n"
     ]
    },
    {
     "name": "stdout",
     "output_type": "stream",
     "text": [
      "[==============                                                                                      ]  14% (9152/64224; ~24m until finished)"
     ]
    },
    {
     "name": "stderr",
     "output_type": "stream",
     "text": [
      "2021-11-06 13:23:03,962 [WARNING] Optimization warning (l_bfgs_b): b'ABNORMAL_TERMINATION_IN_LNSRCH'\n"
     ]
    },
    {
     "name": "stdout",
     "output_type": "stream",
     "text": [
      "[==============                                                                                      ]  14% (9159/64224; ~24m until finished)"
     ]
    },
    {
     "name": "stderr",
     "output_type": "stream",
     "text": [
      "2021-11-06 13:23:04,158 [WARNING] Optimization warning (l_bfgs_b): b'ABNORMAL_TERMINATION_IN_LNSRCH'\n"
     ]
    },
    {
     "name": "stdout",
     "output_type": "stream",
     "text": [
      "[==============                                                                                      ]  14% (9170/64224; ~24m until finished)"
     ]
    },
    {
     "name": "stderr",
     "output_type": "stream",
     "text": [
      "2021-11-06 13:23:04,421 [WARNING] Optimization warning (l_bfgs_b): b'ABNORMAL_TERMINATION_IN_LNSRCH'\n"
     ]
    },
    {
     "name": "stdout",
     "output_type": "stream",
     "text": [
      "\r",
      "[==============                                                                                      ]  14% (9171/64224; ~24m until finished)"
     ]
    },
    {
     "name": "stderr",
     "output_type": "stream",
     "text": [
      "2021-11-06 13:23:04,473 [WARNING] Optimization warning (l_bfgs_b): b'ABNORMAL_TERMINATION_IN_LNSRCH'\n"
     ]
    },
    {
     "name": "stdout",
     "output_type": "stream",
     "text": [
      "[==============                                                                                      ]  14% (9180/64224; ~24m until finished)"
     ]
    },
    {
     "name": "stderr",
     "output_type": "stream",
     "text": [
      "2021-11-06 13:23:04,648 [WARNING] Optimization warning (l_bfgs_b): b'ABNORMAL_TERMINATION_IN_LNSRCH'\n"
     ]
    },
    {
     "name": "stdout",
     "output_type": "stream",
     "text": [
      "[==============                                                                                      ]  14% (9195/64224; ~24m until finished)"
     ]
    },
    {
     "name": "stderr",
     "output_type": "stream",
     "text": [
      "2021-11-06 13:23:04,902 [WARNING] Optimization warning (l_bfgs_b): b'ABNORMAL_TERMINATION_IN_LNSRCH'\n"
     ]
    },
    {
     "name": "stdout",
     "output_type": "stream",
     "text": [
      "[==============                                                                                      ]  14% (9197/64224; ~24m until finished)"
     ]
    },
    {
     "name": "stderr",
     "output_type": "stream",
     "text": [
      "2021-11-06 13:23:05,010 [WARNING] Optimization warning (l_bfgs_b): b'ABNORMAL_TERMINATION_IN_LNSRCH'\n"
     ]
    },
    {
     "name": "stdout",
     "output_type": "stream",
     "text": [
      "[==============                                                                                      ]  14% (9213/64224; ~24m until finished)"
     ]
    },
    {
     "name": "stderr",
     "output_type": "stream",
     "text": [
      "2021-11-06 13:23:05,396 [WARNING] Optimization warning (l_bfgs_b): b'ABNORMAL_TERMINATION_IN_LNSRCH'\n"
     ]
    },
    {
     "name": "stdout",
     "output_type": "stream",
     "text": [
      "[==============                                                                                      ]  14% (9215/64224; ~24m until finished)"
     ]
    },
    {
     "name": "stderr",
     "output_type": "stream",
     "text": [
      "2021-11-06 13:23:05,553 [WARNING] Optimization warning (l_bfgs_b): b'ABNORMAL_TERMINATION_IN_LNSRCH'\n"
     ]
    },
    {
     "name": "stdout",
     "output_type": "stream",
     "text": [
      "[==============                                                                                      ]  14% (9235/64224; ~24m until finished)"
     ]
    },
    {
     "name": "stderr",
     "output_type": "stream",
     "text": [
      "2021-11-06 13:23:06,043 [WARNING] Optimization warning (l_bfgs_b): b'ABNORMAL_TERMINATION_IN_LNSRCH'\n"
     ]
    },
    {
     "name": "stdout",
     "output_type": "stream",
     "text": [
      "[==============                                                                                      ]  14% (9248/64224; ~24m until finished)"
     ]
    },
    {
     "name": "stderr",
     "output_type": "stream",
     "text": [
      "2021-11-06 13:23:06,410 [WARNING] Optimization warning (l_bfgs_b): b'ABNORMAL_TERMINATION_IN_LNSRCH'\n"
     ]
    },
    {
     "name": "stdout",
     "output_type": "stream",
     "text": [
      "[==============                                                                                      ]  14% (9260/64224; ~24m until finished)"
     ]
    },
    {
     "name": "stderr",
     "output_type": "stream",
     "text": [
      "2021-11-06 13:23:06,657 [WARNING] Optimization warning (l_bfgs_b): b'ABNORMAL_TERMINATION_IN_LNSRCH'\n"
     ]
    },
    {
     "name": "stdout",
     "output_type": "stream",
     "text": [
      "[==============                                                                                      ]  14% (9264/64224; ~24m until finished)"
     ]
    },
    {
     "name": "stderr",
     "output_type": "stream",
     "text": [
      "2021-11-06 13:23:06,773 [WARNING] Optimization warning (l_bfgs_b): b'ABNORMAL_TERMINATION_IN_LNSRCH'\n"
     ]
    },
    {
     "name": "stdout",
     "output_type": "stream",
     "text": [
      "[==============                                                                                      ]  14% (9268/64224; ~24m until finished)"
     ]
    },
    {
     "name": "stderr",
     "output_type": "stream",
     "text": [
      "2021-11-06 13:23:06,874 [WARNING] Optimization warning (l_bfgs_b): b'ABNORMAL_TERMINATION_IN_LNSRCH'\n"
     ]
    },
    {
     "name": "stdout",
     "output_type": "stream",
     "text": [
      "[==============                                                                                      ]  14% (9275/64224; ~24m until finished)"
     ]
    },
    {
     "name": "stderr",
     "output_type": "stream",
     "text": [
      "2021-11-06 13:23:07,033 [WARNING] Optimization warning (l_bfgs_b): b'ABNORMAL_TERMINATION_IN_LNSRCH'\n"
     ]
    },
    {
     "name": "stdout",
     "output_type": "stream",
     "text": [
      "[==============                                                                                      ]  14% (9284/64224; ~24m until finished)"
     ]
    },
    {
     "name": "stderr",
     "output_type": "stream",
     "text": [
      "2021-11-06 13:23:07,191 [WARNING] Optimization warning (l_bfgs_b): b'ABNORMAL_TERMINATION_IN_LNSRCH'\n"
     ]
    },
    {
     "name": "stdout",
     "output_type": "stream",
     "text": [
      "[==============                                                                                      ]  15% (9331/64224; ~24m until finished)"
     ]
    },
    {
     "name": "stderr",
     "output_type": "stream",
     "text": [
      "2021-11-06 13:23:08,032 [WARNING] Optimization warning (l_bfgs_b): b'ABNORMAL_TERMINATION_IN_LNSRCH'\n"
     ]
    },
    {
     "name": "stdout",
     "output_type": "stream",
     "text": [
      "[==============                                                                                      ]  15% (9348/64224; ~24m until finished)"
     ]
    },
    {
     "name": "stderr",
     "output_type": "stream",
     "text": [
      "2021-11-06 13:23:08,372 [WARNING] Optimization warning (l_bfgs_b): b'ABNORMAL_TERMINATION_IN_LNSRCH'\n"
     ]
    },
    {
     "name": "stdout",
     "output_type": "stream",
     "text": [
      "[==============                                                                                      ]  15% (9355/64224; ~24m until finished)"
     ]
    },
    {
     "name": "stderr",
     "output_type": "stream",
     "text": [
      "2021-11-06 13:23:08,515 [WARNING] Optimization warning (l_bfgs_b): b'ABNORMAL_TERMINATION_IN_LNSRCH'\n"
     ]
    },
    {
     "name": "stdout",
     "output_type": "stream",
     "text": [
      "[==============                                                                                      ]  15% (9359/64224; ~24m until finished)"
     ]
    },
    {
     "name": "stderr",
     "output_type": "stream",
     "text": [
      "2021-11-06 13:23:08,633 [WARNING] Optimization warning (l_bfgs_b): b'ABNORMAL_TERMINATION_IN_LNSRCH'\n"
     ]
    },
    {
     "name": "stdout",
     "output_type": "stream",
     "text": [
      "[==============                                                                                      ]  15% (9362/64224; ~24m until finished)"
     ]
    },
    {
     "name": "stderr",
     "output_type": "stream",
     "text": [
      "2021-11-06 13:23:08,735 [WARNING] Optimization warning (l_bfgs_b): b'ABNORMAL_TERMINATION_IN_LNSRCH'\n"
     ]
    },
    {
     "name": "stdout",
     "output_type": "stream",
     "text": [
      "[==============                                                                                      ]  15% (9364/64224; ~24m until finished)"
     ]
    },
    {
     "name": "stderr",
     "output_type": "stream",
     "text": [
      "2021-11-06 13:23:08,836 [WARNING] Optimization warning (l_bfgs_b): b'ABNORMAL_TERMINATION_IN_LNSRCH'\n"
     ]
    },
    {
     "name": "stdout",
     "output_type": "stream",
     "text": [
      "[==============                                                                                      ]  15% (9407/64224; ~24m until finished)"
     ]
    },
    {
     "name": "stderr",
     "output_type": "stream",
     "text": [
      "2021-11-06 13:23:09,705 [WARNING] Optimization warning (l_bfgs_b): b'ABNORMAL_TERMINATION_IN_LNSRCH'\n"
     ]
    },
    {
     "name": "stdout",
     "output_type": "stream",
     "text": [
      "[==============                                                                                      ]  15% (9429/64224; ~24m until finished)"
     ]
    },
    {
     "name": "stderr",
     "output_type": "stream",
     "text": [
      "2021-11-06 13:23:10,241 [WARNING] Optimization warning (l_bfgs_b): b'ABNORMAL_TERMINATION_IN_LNSRCH'\n"
     ]
    },
    {
     "name": "stdout",
     "output_type": "stream",
     "text": [
      "[==============                                                                                      ]  15% (9446/64224; ~24m until finished)"
     ]
    },
    {
     "name": "stderr",
     "output_type": "stream",
     "text": [
      "2021-11-06 13:23:10,703 [WARNING] Optimization warning (l_bfgs_b): b'ABNORMAL_TERMINATION_IN_LNSRCH'\n"
     ]
    },
    {
     "name": "stdout",
     "output_type": "stream",
     "text": [
      "[==============                                                                                      ]  15% (9455/64224; ~24m until finished)"
     ]
    },
    {
     "name": "stderr",
     "output_type": "stream",
     "text": [
      "2021-11-06 13:23:10,991 [WARNING] Optimization warning (l_bfgs_b): b'ABNORMAL_TERMINATION_IN_LNSRCH'\n"
     ]
    },
    {
     "name": "stdout",
     "output_type": "stream",
     "text": [
      "[==============                                                                                      ]  15% (9465/64224; ~24m until finished)"
     ]
    },
    {
     "name": "stderr",
     "output_type": "stream",
     "text": [
      "2021-11-06 13:23:11,279 [WARNING] Optimization warning (l_bfgs_b): b'ABNORMAL_TERMINATION_IN_LNSRCH'\n"
     ]
    },
    {
     "name": "stdout",
     "output_type": "stream",
     "text": [
      "[==============                                                                                      ]  15% (9470/64224; ~24m until finished)"
     ]
    },
    {
     "name": "stderr",
     "output_type": "stream",
     "text": [
      "2021-11-06 13:23:11,440 [WARNING] Optimization warning (l_bfgs_b): b'ABNORMAL_TERMINATION_IN_LNSRCH'\n"
     ]
    },
    {
     "name": "stdout",
     "output_type": "stream",
     "text": [
      "\r",
      "[==============                                                                                      ]  15% (9471/64224; ~24m until finished)"
     ]
    },
    {
     "name": "stderr",
     "output_type": "stream",
     "text": [
      "2021-11-06 13:23:11,538 [WARNING] Optimization warning (l_bfgs_b): b'ABNORMAL_TERMINATION_IN_LNSRCH'\n"
     ]
    },
    {
     "name": "stdout",
     "output_type": "stream",
     "text": [
      "[==============                                                                                      ]  15% (9488/64224; ~24m until finished)"
     ]
    },
    {
     "name": "stderr",
     "output_type": "stream",
     "text": [
      "2021-11-06 13:23:11,877 [WARNING] Optimization warning (l_bfgs_b): b'ABNORMAL_TERMINATION_IN_LNSRCH'\n"
     ]
    },
    {
     "name": "stdout",
     "output_type": "stream",
     "text": [
      "[==============                                                                                      ]  15% (9492/64224; ~24m until finished)"
     ]
    },
    {
     "name": "stderr",
     "output_type": "stream",
     "text": [
      "2021-11-06 13:23:12,048 [WARNING] Optimization warning (l_bfgs_b): b'ABNORMAL_TERMINATION_IN_LNSRCH'\n"
     ]
    },
    {
     "name": "stdout",
     "output_type": "stream",
     "text": [
      "[==============                                                                                      ]  15% (9510/64224; ~24m until finished)"
     ]
    },
    {
     "name": "stderr",
     "output_type": "stream",
     "text": [
      "2021-11-06 13:23:12,511 [WARNING] Optimization warning (l_bfgs_b): b'ABNORMAL_TERMINATION_IN_LNSRCH'\n"
     ]
    },
    {
     "name": "stdout",
     "output_type": "stream",
     "text": [
      "[==============                                                                                      ]  15% (9525/64224; ~24m until finished)"
     ]
    },
    {
     "name": "stderr",
     "output_type": "stream",
     "text": [
      "2021-11-06 13:23:12,896 [WARNING] Optimization warning (l_bfgs_b): b'ABNORMAL_TERMINATION_IN_LNSRCH'\n"
     ]
    },
    {
     "name": "stdout",
     "output_type": "stream",
     "text": [
      "[==============                                                                                      ]  15% (9534/64224; ~24m until finished)"
     ]
    },
    {
     "name": "stderr",
     "output_type": "stream",
     "text": [
      "2021-11-06 13:23:13,180 [WARNING] Optimization warning (l_bfgs_b): b'ABNORMAL_TERMINATION_IN_LNSRCH'\n"
     ]
    },
    {
     "name": "stdout",
     "output_type": "stream",
     "text": [
      "[==============                                                                                      ]  15% (9536/64224; ~24m until finished)"
     ]
    },
    {
     "name": "stderr",
     "output_type": "stream",
     "text": [
      "2021-11-06 13:23:13,321 [WARNING] Optimization warning (l_bfgs_b): b'ABNORMAL_TERMINATION_IN_LNSRCH'\n"
     ]
    },
    {
     "name": "stdout",
     "output_type": "stream",
     "text": [
      "[==============                                                                                      ]  15% (9542/64224; ~24m until finished)"
     ]
    },
    {
     "name": "stderr",
     "output_type": "stream",
     "text": [
      "2021-11-06 13:23:13,522 [WARNING] Optimization warning (l_bfgs_b): b'ABNORMAL_TERMINATION_IN_LNSRCH'\n"
     ]
    },
    {
     "name": "stdout",
     "output_type": "stream",
     "text": [
      "[==============                                                                                      ]  15% (9545/64224; ~24m until finished)"
     ]
    },
    {
     "name": "stderr",
     "output_type": "stream",
     "text": [
      "2021-11-06 13:23:13,690 [WARNING] Optimization warning (l_bfgs_b): b'ABNORMAL_TERMINATION_IN_LNSRCH'\n"
     ]
    },
    {
     "name": "stdout",
     "output_type": "stream",
     "text": [
      "[==============                                                                                      ]  15% (9549/64224; ~24m until finished)"
     ]
    },
    {
     "name": "stderr",
     "output_type": "stream",
     "text": [
      "2021-11-06 13:23:13,835 [WARNING] Optimization warning (l_bfgs_b): b'ABNORMAL_TERMINATION_IN_LNSRCH'\n"
     ]
    },
    {
     "name": "stdout",
     "output_type": "stream",
     "text": [
      "[==============                                                                                      ]  15% (9552/64224; ~24m until finished)"
     ]
    },
    {
     "name": "stderr",
     "output_type": "stream",
     "text": [
      "2021-11-06 13:23:13,994 [WARNING] Optimization warning (l_bfgs_b): b'ABNORMAL_TERMINATION_IN_LNSRCH'\n"
     ]
    },
    {
     "name": "stdout",
     "output_type": "stream",
     "text": [
      "[==============                                                                                      ]  15% (9579/64224; ~24m until finished)"
     ]
    },
    {
     "name": "stderr",
     "output_type": "stream",
     "text": [
      "2021-11-06 13:23:14,589 [WARNING] Optimization warning (l_bfgs_b): b'ABNORMAL_TERMINATION_IN_LNSRCH'\n"
     ]
    },
    {
     "name": "stdout",
     "output_type": "stream",
     "text": [
      "[===============                                                                                     ]  15% (9653/64224; ~24m until finished)"
     ]
    },
    {
     "name": "stderr",
     "output_type": "stream",
     "text": [
      "2021-11-06 13:23:16,199 [WARNING] Optimization warning (l_bfgs_b): b'ABNORMAL_TERMINATION_IN_LNSRCH'\n"
     ]
    },
    {
     "name": "stdout",
     "output_type": "stream",
     "text": [
      "[===============                                                                                     ]  15% (9664/64224; ~24m until finished)"
     ]
    },
    {
     "name": "stderr",
     "output_type": "stream",
     "text": [
      "2021-11-06 13:23:16,441 [WARNING] Optimization warning (l_bfgs_b): b'ABNORMAL_TERMINATION_IN_LNSRCH'\n"
     ]
    },
    {
     "name": "stdout",
     "output_type": "stream",
     "text": [
      "[===============                                                                                     ]  15% (9670/64224; ~24m until finished)"
     ]
    },
    {
     "name": "stderr",
     "output_type": "stream",
     "text": [
      "2021-11-06 13:23:16,596 [WARNING] Optimization warning (l_bfgs_b): b'ABNORMAL_TERMINATION_IN_LNSRCH'\n"
     ]
    },
    {
     "name": "stdout",
     "output_type": "stream",
     "text": [
      "[===============                                                                                     ]  15% (9675/64224; ~24m until finished)"
     ]
    },
    {
     "name": "stderr",
     "output_type": "stream",
     "text": [
      "2021-11-06 13:23:16,742 [WARNING] Optimization warning (l_bfgs_b): b'ABNORMAL_TERMINATION_IN_LNSRCH'\n"
     ]
    },
    {
     "name": "stdout",
     "output_type": "stream",
     "text": [
      "[===============                                                                                     ]  15% (9683/64224; ~24m until finished)"
     ]
    },
    {
     "name": "stderr",
     "output_type": "stream",
     "text": [
      "2021-11-06 13:23:16,931 [WARNING] Optimization warning (l_bfgs_b): b'ABNORMAL_TERMINATION_IN_LNSRCH'\n"
     ]
    },
    {
     "name": "stdout",
     "output_type": "stream",
     "text": [
      "[===============                                                                                     ]  15% (9689/64224; ~24m until finished)"
     ]
    },
    {
     "name": "stderr",
     "output_type": "stream",
     "text": [
      "2021-11-06 13:23:17,059 [WARNING] Optimization warning (l_bfgs_b): b'ABNORMAL_TERMINATION_IN_LNSRCH'\n"
     ]
    },
    {
     "name": "stdout",
     "output_type": "stream",
     "text": [
      "[===============                                                                                     ]  15% (9697/64224; ~24m until finished)"
     ]
    },
    {
     "name": "stderr",
     "output_type": "stream",
     "text": [
      "2021-11-06 13:23:17,228 [WARNING] Optimization warning (l_bfgs_b): b'ABNORMAL_TERMINATION_IN_LNSRCH'\n"
     ]
    },
    {
     "name": "stdout",
     "output_type": "stream",
     "text": [
      "[===============                                                                                     ]  15% (9710/64224; ~24m until finished)"
     ]
    },
    {
     "name": "stderr",
     "output_type": "stream",
     "text": [
      "2021-11-06 13:23:17,597 [WARNING] Optimization warning (l_bfgs_b): b'ABNORMAL_TERMINATION_IN_LNSRCH'\n"
     ]
    },
    {
     "name": "stdout",
     "output_type": "stream",
     "text": [
      "[===============                                                                                     ]  15% (9739/64224; ~24m until finished)"
     ]
    },
    {
     "name": "stderr",
     "output_type": "stream",
     "text": [
      "2021-11-06 13:23:18,215 [WARNING] Optimization warning (l_bfgs_b): b'ABNORMAL_TERMINATION_IN_LNSRCH'\n"
     ]
    },
    {
     "name": "stdout",
     "output_type": "stream",
     "text": [
      "[===============                                                                                     ]  15% (9743/64224; ~24m until finished)"
     ]
    },
    {
     "name": "stderr",
     "output_type": "stream",
     "text": [
      "2021-11-06 13:23:18,339 [WARNING] Optimization warning (l_bfgs_b): b'ABNORMAL_TERMINATION_IN_LNSRCH'\n"
     ]
    },
    {
     "name": "stdout",
     "output_type": "stream",
     "text": [
      "[===============                                                                                     ]  15% (9747/64224; ~24m until finished)"
     ]
    },
    {
     "name": "stderr",
     "output_type": "stream",
     "text": [
      "2021-11-06 13:23:18,448 [WARNING] Optimization warning (l_bfgs_b): b'ABNORMAL_TERMINATION_IN_LNSRCH'\n"
     ]
    },
    {
     "name": "stdout",
     "output_type": "stream",
     "text": [
      "[===============                                                                                     ]  15% (9757/64224; ~24m until finished)"
     ]
    },
    {
     "name": "stderr",
     "output_type": "stream",
     "text": [
      "2021-11-06 13:23:18,673 [WARNING] Optimization warning (l_bfgs_b): b'ABNORMAL_TERMINATION_IN_LNSRCH'\n"
     ]
    },
    {
     "name": "stdout",
     "output_type": "stream",
     "text": [
      "\r",
      "[===============                                                                                     ]  15% (9758/64224; ~24m until finished)"
     ]
    },
    {
     "name": "stderr",
     "output_type": "stream",
     "text": [
      "2021-11-06 13:23:18,732 [WARNING] Optimization warning (l_bfgs_b): b'ABNORMAL_TERMINATION_IN_LNSRCH'\n"
     ]
    },
    {
     "name": "stdout",
     "output_type": "stream",
     "text": [
      "[===============                                                                                     ]  15% (9761/64224; ~24m until finished)"
     ]
    },
    {
     "name": "stderr",
     "output_type": "stream",
     "text": [
      "2021-11-06 13:23:18,838 [WARNING] Optimization warning (l_bfgs_b): b'ABNORMAL_TERMINATION_IN_LNSRCH'\n"
     ]
    },
    {
     "name": "stdout",
     "output_type": "stream",
     "text": [
      "[===============                                                                                     ]  15% (9765/64224; ~24m until finished)"
     ]
    },
    {
     "name": "stderr",
     "output_type": "stream",
     "text": [
      "2021-11-06 13:23:18,969 [WARNING] Optimization warning (l_bfgs_b): b'ABNORMAL_TERMINATION_IN_LNSRCH'\n"
     ]
    },
    {
     "name": "stdout",
     "output_type": "stream",
     "text": [
      "\r",
      "[===============                                                                                     ]  15% (9766/64224; ~24m until finished)"
     ]
    },
    {
     "name": "stderr",
     "output_type": "stream",
     "text": [
      "2021-11-06 13:23:19,076 [WARNING] Optimization warning (l_bfgs_b): b'ABNORMAL_TERMINATION_IN_LNSRCH'\n"
     ]
    },
    {
     "name": "stdout",
     "output_type": "stream",
     "text": [
      "[===============                                                                                     ]  15% (9800/64224; ~24m until finished)"
     ]
    },
    {
     "name": "stderr",
     "output_type": "stream",
     "text": [
      "2021-11-06 13:23:19,731 [WARNING] Optimization warning (l_bfgs_b): b'ABNORMAL_TERMINATION_IN_LNSRCH'\n"
     ]
    },
    {
     "name": "stdout",
     "output_type": "stream",
     "text": [
      "[===============                                                                                     ]  15% (9803/64224; ~24m until finished)"
     ]
    },
    {
     "name": "stderr",
     "output_type": "stream",
     "text": [
      "2021-11-06 13:23:19,836 [WARNING] Optimization warning (l_bfgs_b): b'ABNORMAL_TERMINATION_IN_LNSRCH'\n"
     ]
    },
    {
     "name": "stdout",
     "output_type": "stream",
     "text": [
      "[===============                                                                                     ]  15% (9811/64224; ~24m until finished)"
     ]
    },
    {
     "name": "stderr",
     "output_type": "stream",
     "text": [
      "2021-11-06 13:23:20,059 [WARNING] Optimization warning (l_bfgs_b): b'ABNORMAL_TERMINATION_IN_LNSRCH'\n"
     ]
    },
    {
     "name": "stdout",
     "output_type": "stream",
     "text": [
      "[===============                                                                                     ]  15% (9815/64224; ~24m until finished)"
     ]
    },
    {
     "name": "stderr",
     "output_type": "stream",
     "text": [
      "2021-11-06 13:23:20,202 [WARNING] Optimization warning (l_bfgs_b): b'ABNORMAL_TERMINATION_IN_LNSRCH'\n"
     ]
    },
    {
     "name": "stdout",
     "output_type": "stream",
     "text": [
      "[===============                                                                                     ]  15% (9817/64224; ~24m until finished)"
     ]
    },
    {
     "name": "stderr",
     "output_type": "stream",
     "text": [
      "2021-11-06 13:23:20,319 [WARNING] Optimization warning (l_bfgs_b): b'ABNORMAL_TERMINATION_IN_LNSRCH'\n"
     ]
    },
    {
     "name": "stdout",
     "output_type": "stream",
     "text": [
      "[===============                                                                                     ]  15% (9819/64224; ~24m until finished)"
     ]
    },
    {
     "name": "stderr",
     "output_type": "stream",
     "text": [
      "2021-11-06 13:23:20,431 [WARNING] Optimization warning (l_bfgs_b): b'ABNORMAL_TERMINATION_IN_LNSRCH'\n"
     ]
    },
    {
     "name": "stdout",
     "output_type": "stream",
     "text": [
      "[===============                                                                                     ]  15% (9821/64224; ~24m until finished)"
     ]
    },
    {
     "name": "stderr",
     "output_type": "stream",
     "text": [
      "2021-11-06 13:23:20,567 [WARNING] Optimization warning (l_bfgs_b): b'ABNORMAL_TERMINATION_IN_LNSRCH'\n"
     ]
    },
    {
     "name": "stdout",
     "output_type": "stream",
     "text": [
      "[===============                                                                                     ]  15% (9829/64224; ~24m until finished)"
     ]
    },
    {
     "name": "stderr",
     "output_type": "stream",
     "text": [
      "2021-11-06 13:23:20,817 [WARNING] Optimization warning (l_bfgs_b): b'ABNORMAL_TERMINATION_IN_LNSRCH'\n"
     ]
    },
    {
     "name": "stdout",
     "output_type": "stream",
     "text": [
      "[===============                                                                                     ]  15% (9863/64224; ~24m until finished)"
     ]
    },
    {
     "name": "stderr",
     "output_type": "stream",
     "text": [
      "2021-11-06 13:23:21,626 [WARNING] Optimization warning (l_bfgs_b): b'ABNORMAL_TERMINATION_IN_LNSRCH'\n"
     ]
    },
    {
     "name": "stdout",
     "output_type": "stream",
     "text": [
      "[===============                                                                                     ]  15% (9869/64224; ~24m until finished)"
     ]
    },
    {
     "name": "stderr",
     "output_type": "stream",
     "text": [
      "2021-11-06 13:23:21,806 [WARNING] Optimization warning (l_bfgs_b): b'ABNORMAL_TERMINATION_IN_LNSRCH'\n"
     ]
    },
    {
     "name": "stdout",
     "output_type": "stream",
     "text": [
      "[===============                                                                                     ]  15% (9881/64224; ~24m until finished)"
     ]
    },
    {
     "name": "stderr",
     "output_type": "stream",
     "text": [
      "2021-11-06 13:23:22,067 [WARNING] Optimization warning (l_bfgs_b): b'ABNORMAL_TERMINATION_IN_LNSRCH'\n"
     ]
    },
    {
     "name": "stdout",
     "output_type": "stream",
     "text": [
      "[===============                                                                                     ]  15% (9888/64224; ~24m until finished)"
     ]
    },
    {
     "name": "stderr",
     "output_type": "stream",
     "text": [
      "2021-11-06 13:23:22,255 [WARNING] Optimization warning (l_bfgs_b): b'ABNORMAL_TERMINATION_IN_LNSRCH'\n"
     ]
    },
    {
     "name": "stdout",
     "output_type": "stream",
     "text": [
      "[===============                                                                                     ]  15% (9909/64224; ~24m until finished)"
     ]
    },
    {
     "name": "stderr",
     "output_type": "stream",
     "text": [
      "2021-11-06 13:23:22,664 [WARNING] Optimization warning (l_bfgs_b): b'ABNORMAL_TERMINATION_IN_LNSRCH'\n"
     ]
    },
    {
     "name": "stdout",
     "output_type": "stream",
     "text": [
      "[===============                                                                                     ]  16% (9985/64224; ~24m until finished)"
     ]
    },
    {
     "name": "stderr",
     "output_type": "stream",
     "text": [
      "2021-11-06 13:23:24,369 [WARNING] Optimization warning (l_bfgs_b): b'ABNORMAL_TERMINATION_IN_LNSRCH'\n"
     ]
    },
    {
     "name": "stdout",
     "output_type": "stream",
     "text": [
      "[===============                                                                                     ]  16% (10002/64224; ~24m until finished)"
     ]
    },
    {
     "name": "stderr",
     "output_type": "stream",
     "text": [
      "2021-11-06 13:23:24,768 [WARNING] Optimization warning (l_bfgs_b): b'ABNORMAL_TERMINATION_IN_LNSRCH'\n"
     ]
    },
    {
     "name": "stdout",
     "output_type": "stream",
     "text": [
      "[===============                                                                                     ]  16% (10010/64224; ~24m until finished)"
     ]
    },
    {
     "name": "stderr",
     "output_type": "stream",
     "text": [
      "2021-11-06 13:23:25,000 [WARNING] Optimization warning (l_bfgs_b): b'ABNORMAL_TERMINATION_IN_LNSRCH'\n"
     ]
    },
    {
     "name": "stdout",
     "output_type": "stream",
     "text": [
      "\r",
      "[===============                                                                                     ]  16% (10011/64224; ~24m until finished)"
     ]
    },
    {
     "name": "stderr",
     "output_type": "stream",
     "text": [
      "2021-11-06 13:23:25,076 [WARNING] Optimization warning (l_bfgs_b): b'ABNORMAL_TERMINATION_IN_LNSRCH'\n"
     ]
    },
    {
     "name": "stdout",
     "output_type": "stream",
     "text": [
      "[===============                                                                                     ]  16% (10015/64224; ~24m until finished)"
     ]
    },
    {
     "name": "stderr",
     "output_type": "stream",
     "text": [
      "2021-11-06 13:23:25,230 [WARNING] Optimization warning (l_bfgs_b): b'ABNORMAL_TERMINATION_IN_LNSRCH'\n"
     ]
    },
    {
     "name": "stdout",
     "output_type": "stream",
     "text": [
      "\r",
      "[===============                                                                                     ]  16% (10016/64224; ~24m until finished)"
     ]
    },
    {
     "name": "stderr",
     "output_type": "stream",
     "text": [
      "2021-11-06 13:23:25,306 [WARNING] Optimization warning (l_bfgs_b): b'ABNORMAL_TERMINATION_IN_LNSRCH'\n"
     ]
    },
    {
     "name": "stdout",
     "output_type": "stream",
     "text": [
      "[===============                                                                                     ]  16% (10018/64224; ~24m until finished)"
     ]
    },
    {
     "name": "stderr",
     "output_type": "stream",
     "text": [
      "2021-11-06 13:23:25,394 [WARNING] Optimization warning (l_bfgs_b): b'ABNORMAL_TERMINATION_IN_LNSRCH'\n"
     ]
    },
    {
     "name": "stdout",
     "output_type": "stream",
     "text": [
      "[===============                                                                                     ]  16% (10021/64224; ~24m until finished)"
     ]
    },
    {
     "name": "stderr",
     "output_type": "stream",
     "text": [
      "2021-11-06 13:23:25,522 [WARNING] Optimization warning (l_bfgs_b): b'ABNORMAL_TERMINATION_IN_LNSRCH'\n"
     ]
    },
    {
     "name": "stdout",
     "output_type": "stream",
     "text": [
      "\r",
      "[===============                                                                                     ]  16% (10022/64224; ~24m until finished)"
     ]
    },
    {
     "name": "stderr",
     "output_type": "stream",
     "text": [
      "2021-11-06 13:23:25,617 [WARNING] Optimization warning (l_bfgs_b): b'ABNORMAL_TERMINATION_IN_LNSRCH'\n"
     ]
    },
    {
     "name": "stdout",
     "output_type": "stream",
     "text": [
      "\r",
      "[===============                                                                                     ]  16% (10023/64224; ~24m until finished)"
     ]
    },
    {
     "name": "stderr",
     "output_type": "stream",
     "text": [
      "2021-11-06 13:23:25,704 [WARNING] Optimization warning (l_bfgs_b): b'ABNORMAL_TERMINATION_IN_LNSRCH'\n"
     ]
    },
    {
     "name": "stdout",
     "output_type": "stream",
     "text": [
      "[===============                                                                                     ]  16% (10029/64224; ~24m until finished)"
     ]
    },
    {
     "name": "stderr",
     "output_type": "stream",
     "text": [
      "2021-11-06 13:23:25,897 [WARNING] Optimization warning (l_bfgs_b): b'ABNORMAL_TERMINATION_IN_LNSRCH'\n"
     ]
    },
    {
     "name": "stdout",
     "output_type": "stream",
     "text": [
      "[===============                                                                                     ]  16% (10031/64224; ~24m until finished)"
     ]
    },
    {
     "name": "stderr",
     "output_type": "stream",
     "text": [
      "2021-11-06 13:23:26,071 [WARNING] Optimization warning (l_bfgs_b): b'ABNORMAL_TERMINATION_IN_LNSRCH'\n"
     ]
    },
    {
     "name": "stdout",
     "output_type": "stream",
     "text": [
      "[===============                                                                                     ]  16% (10037/64224; ~24m until finished)"
     ]
    },
    {
     "name": "stderr",
     "output_type": "stream",
     "text": [
      "2021-11-06 13:23:26,214 [WARNING] Optimization warning (l_bfgs_b): b'ABNORMAL_TERMINATION_IN_LNSRCH'\n"
     ]
    },
    {
     "name": "stdout",
     "output_type": "stream",
     "text": [
      "[===============                                                                                     ]  16% (10043/64224; ~24m until finished)"
     ]
    },
    {
     "name": "stderr",
     "output_type": "stream",
     "text": [
      "2021-11-06 13:23:26,368 [WARNING] Optimization warning (l_bfgs_b): b'ABNORMAL_TERMINATION_IN_LNSRCH'\n"
     ]
    },
    {
     "name": "stdout",
     "output_type": "stream",
     "text": [
      "[===============                                                                                     ]  16% (10048/64224; ~24m until finished)"
     ]
    },
    {
     "name": "stderr",
     "output_type": "stream",
     "text": [
      "2021-11-06 13:23:26,533 [WARNING] Optimization warning (l_bfgs_b): b'ABNORMAL_TERMINATION_IN_LNSRCH'\n"
     ]
    },
    {
     "name": "stdout",
     "output_type": "stream",
     "text": [
      "[===============                                                                                     ]  16% (10054/64224; ~24m until finished)"
     ]
    },
    {
     "name": "stderr",
     "output_type": "stream",
     "text": [
      "2021-11-06 13:23:26,716 [WARNING] Optimization warning (l_bfgs_b): b'ABNORMAL_TERMINATION_IN_LNSRCH'\n"
     ]
    },
    {
     "name": "stdout",
     "output_type": "stream",
     "text": [
      "[===============                                                                                     ]  16% (10143/64224; ~24m until finished)"
     ]
    },
    {
     "name": "stderr",
     "output_type": "stream",
     "text": [
      "2021-11-06 13:23:28,667 [WARNING] Optimization warning (l_bfgs_b): b'ABNORMAL_TERMINATION_IN_LNSRCH'\n"
     ]
    },
    {
     "name": "stdout",
     "output_type": "stream",
     "text": [
      "[===============                                                                                     ]  16% (10176/64224; ~24m until finished)"
     ]
    },
    {
     "name": "stderr",
     "output_type": "stream",
     "text": [
      "2021-11-06 13:23:29,571 [WARNING] Optimization warning (l_bfgs_b): b'ABNORMAL_TERMINATION_IN_LNSRCH'\n"
     ]
    },
    {
     "name": "stdout",
     "output_type": "stream",
     "text": [
      "[===============                                                                                     ]  16% (10192/64224; ~24m until finished)"
     ]
    },
    {
     "name": "stderr",
     "output_type": "stream",
     "text": [
      "2021-11-06 13:23:29,991 [WARNING] Optimization warning (l_bfgs_b): b'ABNORMAL_TERMINATION_IN_LNSRCH'\n"
     ]
    },
    {
     "name": "stdout",
     "output_type": "stream",
     "text": [
      "[===============                                                                                     ]  16% (10201/64224; ~24m until finished)"
     ]
    },
    {
     "name": "stderr",
     "output_type": "stream",
     "text": [
      "2021-11-06 13:23:30,291 [WARNING] Optimization warning (l_bfgs_b): b'ABNORMAL_TERMINATION_IN_LNSRCH'\n"
     ]
    },
    {
     "name": "stdout",
     "output_type": "stream",
     "text": [
      "[===============                                                                                     ]  16% (10204/64224; ~24m until finished)"
     ]
    },
    {
     "name": "stderr",
     "output_type": "stream",
     "text": [
      "2021-11-06 13:23:30,426 [WARNING] Optimization warning (l_bfgs_b): b'ABNORMAL_TERMINATION_IN_LNSRCH'\n"
     ]
    },
    {
     "name": "stdout",
     "output_type": "stream",
     "text": [
      "[===============                                                                                     ]  16% (10217/64224; ~24m until finished)"
     ]
    },
    {
     "name": "stderr",
     "output_type": "stream",
     "text": [
      "2021-11-06 13:23:30,798 [WARNING] Optimization warning (l_bfgs_b): b'ABNORMAL_TERMINATION_IN_LNSRCH'\n"
     ]
    },
    {
     "name": "stdout",
     "output_type": "stream",
     "text": [
      "\r",
      "[===============                                                                                     ]  16% (10218/64224; ~24m until finished)"
     ]
    },
    {
     "name": "stderr",
     "output_type": "stream",
     "text": [
      "2021-11-06 13:23:30,888 [WARNING] Optimization warning (l_bfgs_b): b'ABNORMAL_TERMINATION_IN_LNSRCH'\n"
     ]
    },
    {
     "name": "stdout",
     "output_type": "stream",
     "text": [
      "[===============                                                                                     ]  16% (10221/64224; ~24m until finished)"
     ]
    },
    {
     "name": "stderr",
     "output_type": "stream",
     "text": [
      "2021-11-06 13:23:30,989 [WARNING] Optimization warning (l_bfgs_b): b'ABNORMAL_TERMINATION_IN_LNSRCH'\n"
     ]
    },
    {
     "name": "stdout",
     "output_type": "stream",
     "text": [
      "[===============                                                                                     ]  16% (10224/64224; ~24m until finished)"
     ]
    },
    {
     "name": "stderr",
     "output_type": "stream",
     "text": [
      "2021-11-06 13:23:31,089 [WARNING] Optimization warning (l_bfgs_b): b'ABNORMAL_TERMINATION_IN_LNSRCH'\n"
     ]
    },
    {
     "name": "stdout",
     "output_type": "stream",
     "text": [
      "\r",
      "[===============                                                                                     ]  16% (10225/64224; ~24m until finished)"
     ]
    },
    {
     "name": "stderr",
     "output_type": "stream",
     "text": [
      "2021-11-06 13:23:31,169 [WARNING] Optimization warning (l_bfgs_b): b'ABNORMAL_TERMINATION_IN_LNSRCH'\n"
     ]
    },
    {
     "name": "stdout",
     "output_type": "stream",
     "text": [
      "[===============                                                                                     ]  16% (10247/64224; ~23m until finished)"
     ]
    },
    {
     "name": "stderr",
     "output_type": "stream",
     "text": [
      "2021-11-06 13:23:31,602 [WARNING] Optimization warning (l_bfgs_b): b'ABNORMAL_TERMINATION_IN_LNSRCH'\n"
     ]
    },
    {
     "name": "stdout",
     "output_type": "stream",
     "text": [
      "[===============                                                                                     ]  16% (10249/64224; ~23m until finished)"
     ]
    },
    {
     "name": "stderr",
     "output_type": "stream",
     "text": [
      "2021-11-06 13:23:31,706 [WARNING] Optimization warning (l_bfgs_b): b'ABNORMAL_TERMINATION_IN_LNSRCH'\n"
     ]
    },
    {
     "name": "stdout",
     "output_type": "stream",
     "text": [
      "[===============                                                                                     ]  16% (10251/64224; ~23m until finished)"
     ]
    },
    {
     "name": "stderr",
     "output_type": "stream",
     "text": [
      "2021-11-06 13:23:31,812 [WARNING] Optimization warning (l_bfgs_b): b'ABNORMAL_TERMINATION_IN_LNSRCH'\n"
     ]
    },
    {
     "name": "stdout",
     "output_type": "stream",
     "text": [
      "\r",
      "[===============                                                                                     ]  16% (10252/64224; ~24m until finished)"
     ]
    },
    {
     "name": "stderr",
     "output_type": "stream",
     "text": [
      "2021-11-06 13:23:31,893 [WARNING] Optimization warning (l_bfgs_b): b'ABNORMAL_TERMINATION_IN_LNSRCH'\n"
     ]
    },
    {
     "name": "stdout",
     "output_type": "stream",
     "text": [
      "[===============                                                                                     ]  16% (10258/64224; ~24m until finished)"
     ]
    },
    {
     "name": "stderr",
     "output_type": "stream",
     "text": [
      "2021-11-06 13:23:32,096 [WARNING] Optimization warning (l_bfgs_b): b'ABNORMAL_TERMINATION_IN_LNSRCH'\n"
     ]
    },
    {
     "name": "stdout",
     "output_type": "stream",
     "text": [
      "[===============                                                                                     ]  16% (10263/64224; ~24m until finished)"
     ]
    },
    {
     "name": "stderr",
     "output_type": "stream",
     "text": [
      "2021-11-06 13:23:32,240 [WARNING] Optimization warning (l_bfgs_b): b'ABNORMAL_TERMINATION_IN_LNSRCH'\n"
     ]
    },
    {
     "name": "stdout",
     "output_type": "stream",
     "text": [
      "[===============                                                                                     ]  16% (10266/64224; ~24m until finished)"
     ]
    },
    {
     "name": "stderr",
     "output_type": "stream",
     "text": [
      "2021-11-06 13:23:32,396 [WARNING] Optimization warning (l_bfgs_b): b'ABNORMAL_TERMINATION_IN_LNSRCH'\n"
     ]
    },
    {
     "name": "stdout",
     "output_type": "stream",
     "text": [
      "[===============                                                                                     ]  16% (10270/64224; ~24m until finished)"
     ]
    },
    {
     "name": "stderr",
     "output_type": "stream",
     "text": [
      "2021-11-06 13:23:32,529 [WARNING] Optimization warning (l_bfgs_b): b'ABNORMAL_TERMINATION_IN_LNSRCH'\n"
     ]
    },
    {
     "name": "stdout",
     "output_type": "stream",
     "text": [
      "[================                                                                                    ]  16% (10275/64224; ~24m until finished)"
     ]
    },
    {
     "name": "stderr",
     "output_type": "stream",
     "text": [
      "2021-11-06 13:23:32,739 [WARNING] Optimization warning (l_bfgs_b): b'ABNORMAL_TERMINATION_IN_LNSRCH'\n"
     ]
    },
    {
     "name": "stdout",
     "output_type": "stream",
     "text": [
      "[================                                                                                    ]  16% (10277/64224; ~24m until finished)"
     ]
    },
    {
     "name": "stderr",
     "output_type": "stream",
     "text": [
      "2021-11-06 13:23:32,896 [WARNING] Optimization warning (l_bfgs_b): b'ABNORMAL_TERMINATION_IN_LNSRCH'\n"
     ]
    },
    {
     "name": "stdout",
     "output_type": "stream",
     "text": [
      "[================                                                                                    ]  16% (10282/64224; ~24m until finished)"
     ]
    },
    {
     "name": "stderr",
     "output_type": "stream",
     "text": [
      "2021-11-06 13:23:33,226 [WARNING] Optimization warning (l_bfgs_b): b'ABNORMAL_TERMINATION_IN_LNSRCH'\n"
     ]
    },
    {
     "name": "stdout",
     "output_type": "stream",
     "text": [
      "\r",
      "[================                                                                                    ]  16% (10283/64224; ~24m until finished)"
     ]
    },
    {
     "name": "stderr",
     "output_type": "stream",
     "text": [
      "2021-11-06 13:23:33,359 [WARNING] Optimization warning (l_bfgs_b): b'ABNORMAL_TERMINATION_IN_LNSRCH'\n"
     ]
    },
    {
     "name": "stdout",
     "output_type": "stream",
     "text": [
      "[================                                                                                    ]  16% (10303/64224; ~24m until finished)"
     ]
    },
    {
     "name": "stderr",
     "output_type": "stream",
     "text": [
      "2021-11-06 13:23:33,905 [WARNING] Optimization warning (l_bfgs_b): b'ABNORMAL_TERMINATION_IN_LNSRCH'\n"
     ]
    },
    {
     "name": "stdout",
     "output_type": "stream",
     "text": [
      "[================                                                                                    ]  16% (10305/64224; ~24m until finished)"
     ]
    },
    {
     "name": "stderr",
     "output_type": "stream",
     "text": [
      "2021-11-06 13:23:34,066 [WARNING] Optimization warning (l_bfgs_b): b'ABNORMAL_TERMINATION_IN_LNSRCH'\n"
     ]
    },
    {
     "name": "stdout",
     "output_type": "stream",
     "text": [
      "[================                                                                                    ]  16% (10320/64224; ~24m until finished)"
     ]
    },
    {
     "name": "stderr",
     "output_type": "stream",
     "text": [
      "2021-11-06 13:23:34,568 [WARNING] Optimization warning (l_bfgs_b): b'ABNORMAL_TERMINATION_IN_LNSRCH'\n"
     ]
    },
    {
     "name": "stdout",
     "output_type": "stream",
     "text": [
      "[================                                                                                    ]  16% (10330/64224; ~24m until finished)"
     ]
    },
    {
     "name": "stderr",
     "output_type": "stream",
     "text": [
      "2021-11-06 13:23:34,836 [WARNING] Optimization warning (l_bfgs_b): b'ABNORMAL_TERMINATION_IN_LNSRCH'\n"
     ]
    },
    {
     "name": "stdout",
     "output_type": "stream",
     "text": [
      "[================                                                                                    ]  16% (10337/64224; ~24m until finished)"
     ]
    },
    {
     "name": "stderr",
     "output_type": "stream",
     "text": [
      "2021-11-06 13:23:34,998 [WARNING] Optimization warning (l_bfgs_b): b'ABNORMAL_TERMINATION_IN_LNSRCH'\n"
     ]
    },
    {
     "name": "stdout",
     "output_type": "stream",
     "text": [
      "[================                                                                                    ]  16% (10351/64224; ~24m until finished)"
     ]
    },
    {
     "name": "stderr",
     "output_type": "stream",
     "text": [
      "2021-11-06 13:23:35,324 [WARNING] Optimization warning (l_bfgs_b): b'ABNORMAL_TERMINATION_IN_LNSRCH'\n"
     ]
    },
    {
     "name": "stdout",
     "output_type": "stream",
     "text": [
      "[================                                                                                    ]  16% (10356/64224; ~24m until finished)"
     ]
    },
    {
     "name": "stderr",
     "output_type": "stream",
     "text": [
      "2021-11-06 13:23:35,494 [WARNING] Optimization warning (l_bfgs_b): b'ABNORMAL_TERMINATION_IN_LNSRCH'\n"
     ]
    },
    {
     "name": "stdout",
     "output_type": "stream",
     "text": [
      "[================                                                                                    ]  16% (10376/64224; ~24m until finished)"
     ]
    },
    {
     "name": "stderr",
     "output_type": "stream",
     "text": [
      "2021-11-06 13:23:36,017 [WARNING] Optimization warning (l_bfgs_b): b'ABNORMAL_TERMINATION_IN_LNSRCH'\n"
     ]
    },
    {
     "name": "stdout",
     "output_type": "stream",
     "text": [
      "[================                                                                                    ]  16% (10416/64224; ~24m until finished)"
     ]
    },
    {
     "name": "stderr",
     "output_type": "stream",
     "text": [
      "2021-11-06 13:23:36,980 [WARNING] Optimization warning (l_bfgs_b): b'ABNORMAL_TERMINATION_IN_LNSRCH'\n"
     ]
    },
    {
     "name": "stdout",
     "output_type": "stream",
     "text": [
      "[================                                                                                    ]  16% (10434/64224; ~23m until finished)"
     ]
    },
    {
     "name": "stderr",
     "output_type": "stream",
     "text": [
      "2021-11-06 13:23:37,457 [WARNING] Optimization warning (l_bfgs_b): b'ABNORMAL_TERMINATION_IN_LNSRCH'\n"
     ]
    },
    {
     "name": "stdout",
     "output_type": "stream",
     "text": [
      "[================                                                                                    ]  16% (10462/64224; ~23m until finished)"
     ]
    },
    {
     "name": "stderr",
     "output_type": "stream",
     "text": [
      "2021-11-06 13:23:38,199 [WARNING] Optimization warning (l_bfgs_b): b'ABNORMAL_TERMINATION_IN_LNSRCH'\n"
     ]
    },
    {
     "name": "stdout",
     "output_type": "stream",
     "text": [
      "[================                                                                                    ]  16% (10465/64224; ~23m until finished)"
     ]
    },
    {
     "name": "stderr",
     "output_type": "stream",
     "text": [
      "2021-11-06 13:23:38,405 [WARNING] Optimization warning (l_bfgs_b): b'ABNORMAL_TERMINATION_IN_LNSRCH'\n"
     ]
    },
    {
     "name": "stdout",
     "output_type": "stream",
     "text": [
      "[================                                                                                    ]  16% (10468/64224; ~23m until finished)"
     ]
    },
    {
     "name": "stderr",
     "output_type": "stream",
     "text": [
      "2021-11-06 13:23:38,544 [WARNING] Optimization warning (l_bfgs_b): b'ABNORMAL_TERMINATION_IN_LNSRCH'\n"
     ]
    },
    {
     "name": "stdout",
     "output_type": "stream",
     "text": [
      "[================                                                                                    ]  16% (10508/64224; ~23m until finished)"
     ]
    },
    {
     "name": "stderr",
     "output_type": "stream",
     "text": [
      "2021-11-06 13:23:39,409 [WARNING] Optimization warning (l_bfgs_b): b'ABNORMAL_TERMINATION_IN_LNSRCH'\n"
     ]
    },
    {
     "name": "stdout",
     "output_type": "stream",
     "text": [
      "[================                                                                                    ]  16% (10524/64224; ~23m until finished)"
     ]
    },
    {
     "name": "stderr",
     "output_type": "stream",
     "text": [
      "2021-11-06 13:23:39,937 [WARNING] Optimization warning (l_bfgs_b): b'ABNORMAL_TERMINATION_IN_LNSRCH'\n"
     ]
    },
    {
     "name": "stdout",
     "output_type": "stream",
     "text": [
      "[================                                                                                    ]  16% (10541/64224; ~23m until finished)"
     ]
    },
    {
     "name": "stderr",
     "output_type": "stream",
     "text": [
      "2021-11-06 13:23:40,437 [WARNING] Optimization warning (l_bfgs_b): b'ABNORMAL_TERMINATION_IN_LNSRCH'\n"
     ]
    },
    {
     "name": "stdout",
     "output_type": "stream",
     "text": [
      "\r",
      "[================                                                                                    ]  16% (10542/64224; ~23m until finished)"
     ]
    },
    {
     "name": "stderr",
     "output_type": "stream",
     "text": [
      "2021-11-06 13:23:40,564 [WARNING] Optimization warning (l_bfgs_b): b'ABNORMAL_TERMINATION_IN_LNSRCH'\n"
     ]
    },
    {
     "name": "stdout",
     "output_type": "stream",
     "text": [
      "[================                                                                                    ]  16% (10572/64224; ~23m until finished)"
     ]
    },
    {
     "name": "stderr",
     "output_type": "stream",
     "text": [
      "2021-11-06 13:23:41,490 [WARNING] Optimization warning (l_bfgs_b): b'ABNORMAL_TERMINATION_IN_LNSRCH'\n"
     ]
    },
    {
     "name": "stdout",
     "output_type": "stream",
     "text": [
      "[================                                                                                    ]  16% (10575/64224; ~23m until finished)"
     ]
    },
    {
     "name": "stderr",
     "output_type": "stream",
     "text": [
      "2021-11-06 13:23:41,698 [WARNING] Optimization warning (l_bfgs_b): b'ABNORMAL_TERMINATION_IN_LNSRCH'\n"
     ]
    },
    {
     "name": "stdout",
     "output_type": "stream",
     "text": [
      "[================                                                                                    ]  17% (10603/64224; ~23m until finished)"
     ]
    },
    {
     "name": "stderr",
     "output_type": "stream",
     "text": [
      "2021-11-06 13:23:42,410 [WARNING] Optimization warning (l_bfgs_b): b'ABNORMAL_TERMINATION_IN_LNSRCH'\n"
     ]
    },
    {
     "name": "stdout",
     "output_type": "stream",
     "text": [
      "[================                                                                                    ]  17% (10605/64224; ~23m until finished)"
     ]
    },
    {
     "name": "stderr",
     "output_type": "stream",
     "text": [
      "2021-11-06 13:23:42,577 [WARNING] Optimization warning (l_bfgs_b): b'ABNORMAL_TERMINATION_IN_LNSRCH'\n"
     ]
    },
    {
     "name": "stdout",
     "output_type": "stream",
     "text": [
      "[================                                                                                    ]  17% (10628/64224; ~23m until finished)"
     ]
    },
    {
     "name": "stderr",
     "output_type": "stream",
     "text": [
      "2021-11-06 13:23:43,242 [WARNING] Optimization warning (l_bfgs_b): b'ABNORMAL_TERMINATION_IN_LNSRCH'\n"
     ]
    },
    {
     "name": "stdout",
     "output_type": "stream",
     "text": [
      "[================                                                                                    ]  17% (10653/64224; ~23m until finished)"
     ]
    },
    {
     "name": "stderr",
     "output_type": "stream",
     "text": [
      "2021-11-06 13:23:43,897 [WARNING] Optimization warning (l_bfgs_b): b'ABNORMAL_TERMINATION_IN_LNSRCH'\n"
     ]
    },
    {
     "name": "stdout",
     "output_type": "stream",
     "text": [
      "[================                                                                                    ]  17% (10678/64224; ~23m until finished)"
     ]
    },
    {
     "name": "stderr",
     "output_type": "stream",
     "text": [
      "2021-11-06 13:23:44,599 [WARNING] Optimization warning (l_bfgs_b): b'ABNORMAL_TERMINATION_IN_LNSRCH'\n"
     ]
    },
    {
     "name": "stdout",
     "output_type": "stream",
     "text": [
      "[================                                                                                    ]  17% (10691/64224; ~23m until finished)"
     ]
    },
    {
     "name": "stderr",
     "output_type": "stream",
     "text": [
      "2021-11-06 13:23:45,008 [WARNING] Optimization warning (l_bfgs_b): b'ABNORMAL_TERMINATION_IN_LNSRCH'\n"
     ]
    },
    {
     "name": "stdout",
     "output_type": "stream",
     "text": [
      "[================                                                                                    ]  17% (10716/64224; ~23m until finished)"
     ]
    },
    {
     "name": "stderr",
     "output_type": "stream",
     "text": [
      "2021-11-06 13:23:45,702 [WARNING] Optimization warning (l_bfgs_b): b'ABNORMAL_TERMINATION_IN_LNSRCH'\n"
     ]
    },
    {
     "name": "stdout",
     "output_type": "stream",
     "text": [
      "[================                                                                                    ]  17% (10721/64224; ~23m until finished)"
     ]
    },
    {
     "name": "stderr",
     "output_type": "stream",
     "text": [
      "2021-11-06 13:23:46,003 [WARNING] Optimization warning (l_bfgs_b): b'ABNORMAL_TERMINATION_IN_LNSRCH'\n"
     ]
    },
    {
     "name": "stdout",
     "output_type": "stream",
     "text": [
      "[================                                                                                    ]  17% (10723/64224; ~23m until finished)"
     ]
    },
    {
     "name": "stderr",
     "output_type": "stream",
     "text": [
      "2021-11-06 13:23:46,143 [WARNING] Optimization warning (l_bfgs_b): b'ABNORMAL_TERMINATION_IN_LNSRCH'\n"
     ]
    },
    {
     "name": "stdout",
     "output_type": "stream",
     "text": [
      "[================                                                                                    ]  17% (10725/64224; ~23m until finished)"
     ]
    },
    {
     "name": "stderr",
     "output_type": "stream",
     "text": [
      "2021-11-06 13:23:46,258 [WARNING] Optimization warning (l_bfgs_b): b'ABNORMAL_TERMINATION_IN_LNSRCH'\n"
     ]
    },
    {
     "name": "stdout",
     "output_type": "stream",
     "text": [
      "[================                                                                                    ]  17% (10731/64224; ~23m until finished)"
     ]
    },
    {
     "name": "stderr",
     "output_type": "stream",
     "text": [
      "2021-11-06 13:23:46,456 [WARNING] Optimization warning (l_bfgs_b): b'ABNORMAL_TERMINATION_IN_LNSRCH'\n"
     ]
    },
    {
     "name": "stdout",
     "output_type": "stream",
     "text": [
      "[================                                                                                    ]  17% (10734/64224; ~23m until finished)"
     ]
    },
    {
     "name": "stderr",
     "output_type": "stream",
     "text": [
      "2021-11-06 13:23:46,636 [WARNING] Optimization warning (l_bfgs_b): b'ABNORMAL_TERMINATION_IN_LNSRCH'\n"
     ]
    },
    {
     "name": "stdout",
     "output_type": "stream",
     "text": [
      "[================                                                                                    ]  17% (10741/64224; ~23m until finished)"
     ]
    },
    {
     "name": "stderr",
     "output_type": "stream",
     "text": [
      "2021-11-06 13:23:46,854 [WARNING] Optimization warning (l_bfgs_b): b'ABNORMAL_TERMINATION_IN_LNSRCH'\n"
     ]
    },
    {
     "name": "stdout",
     "output_type": "stream",
     "text": [
      "[================                                                                                    ]  17% (10746/64224; ~23m until finished)"
     ]
    },
    {
     "name": "stderr",
     "output_type": "stream",
     "text": [
      "2021-11-06 13:23:47,110 [WARNING] Optimization warning (l_bfgs_b): b'ABNORMAL_TERMINATION_IN_LNSRCH'\n"
     ]
    },
    {
     "name": "stdout",
     "output_type": "stream",
     "text": [
      "[================                                                                                    ]  17% (10752/64224; ~23m until finished)"
     ]
    },
    {
     "name": "stderr",
     "output_type": "stream",
     "text": [
      "2021-11-06 13:23:47,361 [WARNING] Optimization warning (l_bfgs_b): b'ABNORMAL_TERMINATION_IN_LNSRCH'\n"
     ]
    },
    {
     "name": "stdout",
     "output_type": "stream",
     "text": [
      "[================                                                                                    ]  17% (10787/64224; ~23m until finished)"
     ]
    },
    {
     "name": "stderr",
     "output_type": "stream",
     "text": [
      "2021-11-06 13:23:48,222 [WARNING] Optimization warning (l_bfgs_b): b'ABNORMAL_TERMINATION_IN_LNSRCH'\n"
     ]
    },
    {
     "name": "stdout",
     "output_type": "stream",
     "text": [
      "[================                                                                                    ]  17% (10797/64224; ~23m until finished)"
     ]
    },
    {
     "name": "stderr",
     "output_type": "stream",
     "text": [
      "2021-11-06 13:23:48,526 [WARNING] Optimization warning (l_bfgs_b): b'ABNORMAL_TERMINATION_IN_LNSRCH'\n"
     ]
    },
    {
     "name": "stdout",
     "output_type": "stream",
     "text": [
      "[================                                                                                    ]  17% (10802/64224; ~23m until finished)"
     ]
    },
    {
     "name": "stderr",
     "output_type": "stream",
     "text": [
      "2021-11-06 13:23:48,697 [WARNING] Optimization warning (l_bfgs_b): b'ABNORMAL_TERMINATION_IN_LNSRCH'\n"
     ]
    },
    {
     "name": "stdout",
     "output_type": "stream",
     "text": [
      "\r",
      "[================                                                                                    ]  17% (10803/64224; ~23m until finished)"
     ]
    },
    {
     "name": "stderr",
     "output_type": "stream",
     "text": [
      "2021-11-06 13:23:48,829 [WARNING] Optimization warning (l_bfgs_b): b'ABNORMAL_TERMINATION_IN_LNSRCH'\n"
     ]
    },
    {
     "name": "stdout",
     "output_type": "stream",
     "text": [
      "[================                                                                                    ]  17% (10806/64224; ~23m until finished)"
     ]
    },
    {
     "name": "stderr",
     "output_type": "stream",
     "text": [
      "2021-11-06 13:23:48,976 [WARNING] Optimization warning (l_bfgs_b): b'ABNORMAL_TERMINATION_IN_LNSRCH'\n"
     ]
    },
    {
     "name": "stdout",
     "output_type": "stream",
     "text": [
      "\r",
      "[================                                                                                    ]  17% (10807/64224; ~23m until finished)"
     ]
    },
    {
     "name": "stderr",
     "output_type": "stream",
     "text": [
      "2021-11-06 13:23:49,088 [WARNING] Optimization warning (l_bfgs_b): b'ABNORMAL_TERMINATION_IN_LNSRCH'\n"
     ]
    },
    {
     "name": "stdout",
     "output_type": "stream",
     "text": [
      "[================                                                                                    ]  17% (10830/64224; ~23m until finished)"
     ]
    },
    {
     "name": "stderr",
     "output_type": "stream",
     "text": [
      "2021-11-06 13:23:49,707 [WARNING] Optimization warning (l_bfgs_b): b'ABNORMAL_TERMINATION_IN_LNSRCH'\n"
     ]
    },
    {
     "name": "stdout",
     "output_type": "stream",
     "text": [
      "[================                                                                                    ]  17% (10848/64224; ~23m until finished)"
     ]
    },
    {
     "name": "stderr",
     "output_type": "stream",
     "text": [
      "2021-11-06 13:23:50,270 [WARNING] Optimization warning (l_bfgs_b): b'ABNORMAL_TERMINATION_IN_LNSRCH'\n"
     ]
    },
    {
     "name": "stdout",
     "output_type": "stream",
     "text": [
      "[================                                                                                    ]  17% (10850/64224; ~23m until finished)"
     ]
    },
    {
     "name": "stderr",
     "output_type": "stream",
     "text": [
      "2021-11-06 13:23:50,449 [WARNING] Optimization warning (l_bfgs_b): b'ABNORMAL_TERMINATION_IN_LNSRCH'\n"
     ]
    },
    {
     "name": "stdout",
     "output_type": "stream",
     "text": [
      "[================                                                                                    ]  17% (10864/64224; ~23m until finished)"
     ]
    },
    {
     "name": "stderr",
     "output_type": "stream",
     "text": [
      "2021-11-06 13:23:51,035 [WARNING] Optimization warning (l_bfgs_b): b'ABNORMAL_TERMINATION_IN_LNSRCH'\n"
     ]
    },
    {
     "name": "stdout",
     "output_type": "stream",
     "text": [
      "[================                                                                                    ]  17% (10881/64224; ~23m until finished)"
     ]
    },
    {
     "name": "stderr",
     "output_type": "stream",
     "text": [
      "2021-11-06 13:23:51,615 [WARNING] Optimization warning (l_bfgs_b): b'ABNORMAL_TERMINATION_IN_LNSRCH'\n"
     ]
    },
    {
     "name": "stdout",
     "output_type": "stream",
     "text": [
      "[================                                                                                    ]  17% (10888/64224; ~24m until finished)"
     ]
    },
    {
     "name": "stderr",
     "output_type": "stream",
     "text": [
      "2021-11-06 13:23:51,974 [WARNING] Optimization warning (l_bfgs_b): b'ABNORMAL_TERMINATION_IN_LNSRCH'\n"
     ]
    },
    {
     "name": "stdout",
     "output_type": "stream",
     "text": [
      "\r",
      "[================                                                                                    ]  17% (10889/64224; ~24m until finished)"
     ]
    },
    {
     "name": "stderr",
     "output_type": "stream",
     "text": [
      "2021-11-06 13:23:52,123 [WARNING] Optimization warning (l_bfgs_b): b'ABNORMAL_TERMINATION_IN_LNSRCH'\n"
     ]
    },
    {
     "name": "stdout",
     "output_type": "stream",
     "text": [
      "[================                                                                                    ]  17% (10892/64224; ~24m until finished)"
     ]
    },
    {
     "name": "stderr",
     "output_type": "stream",
     "text": [
      "2021-11-06 13:23:52,288 [WARNING] Optimization warning (l_bfgs_b): b'ABNORMAL_TERMINATION_IN_LNSRCH'\n"
     ]
    },
    {
     "name": "stdout",
     "output_type": "stream",
     "text": [
      "[================                                                                                    ]  17% (10902/64224; ~24m until finished)"
     ]
    },
    {
     "name": "stderr",
     "output_type": "stream",
     "text": [
      "2021-11-06 13:23:52,622 [WARNING] Optimization warning (l_bfgs_b): b'ABNORMAL_TERMINATION_IN_LNSRCH'\n"
     ]
    },
    {
     "name": "stdout",
     "output_type": "stream",
     "text": [
      "[=================                                                                                   ]  17% (10921/64224; ~24m until finished)"
     ]
    },
    {
     "name": "stderr",
     "output_type": "stream",
     "text": [
      "2021-11-06 13:23:53,199 [WARNING] Optimization warning (l_bfgs_b): b'ABNORMAL_TERMINATION_IN_LNSRCH'\n"
     ]
    },
    {
     "name": "stdout",
     "output_type": "stream",
     "text": [
      "[=================                                                                                   ]  17% (10932/64224; ~24m until finished)"
     ]
    },
    {
     "name": "stderr",
     "output_type": "stream",
     "text": [
      "2021-11-06 13:23:53,589 [WARNING] Optimization warning (l_bfgs_b): b'ABNORMAL_TERMINATION_IN_LNSRCH'\n"
     ]
    },
    {
     "name": "stdout",
     "output_type": "stream",
     "text": [
      "[=================                                                                                   ]  17% (10948/64224; ~24m until finished)"
     ]
    },
    {
     "name": "stderr",
     "output_type": "stream",
     "text": [
      "2021-11-06 13:23:54,160 [WARNING] Optimization warning (l_bfgs_b): b'ABNORMAL_TERMINATION_IN_LNSRCH'\n"
     ]
    },
    {
     "name": "stdout",
     "output_type": "stream",
     "text": [
      "\r",
      "[=================                                                                                   ]  17% (10949/64224; ~24m until finished)"
     ]
    },
    {
     "name": "stderr",
     "output_type": "stream",
     "text": [
      "2021-11-06 13:23:54,383 [WARNING] Optimization warning (l_bfgs_b): b'ABNORMAL_TERMINATION_IN_LNSRCH'\n"
     ]
    },
    {
     "name": "stdout",
     "output_type": "stream",
     "text": [
      "[=================                                                                                   ]  17% (10957/64224; ~24m until finished)"
     ]
    },
    {
     "name": "stderr",
     "output_type": "stream",
     "text": [
      "2021-11-06 13:23:54,723 [WARNING] Optimization warning (l_bfgs_b): b'ABNORMAL_TERMINATION_IN_LNSRCH'\n"
     ]
    },
    {
     "name": "stdout",
     "output_type": "stream",
     "text": [
      "\r",
      "[=================                                                                                   ]  17% (10958/64224; ~24m until finished)"
     ]
    },
    {
     "name": "stderr",
     "output_type": "stream",
     "text": [
      "2021-11-06 13:23:54,816 [WARNING] Optimization warning (l_bfgs_b): b'ABNORMAL_TERMINATION_IN_LNSRCH'\n"
     ]
    },
    {
     "name": "stdout",
     "output_type": "stream",
     "text": [
      "[=================                                                                                   ]  17% (10992/64224; ~24m until finished)"
     ]
    },
    {
     "name": "stderr",
     "output_type": "stream",
     "text": [
      "2021-11-06 13:23:55,569 [WARNING] Optimization warning (l_bfgs_b): b'ABNORMAL_TERMINATION_IN_LNSRCH'\n"
     ]
    },
    {
     "name": "stdout",
     "output_type": "stream",
     "text": [
      "[=================                                                                                   ]  17% (11024/64224; ~24m until finished)"
     ]
    },
    {
     "name": "stderr",
     "output_type": "stream",
     "text": [
      "2021-11-06 13:23:56,360 [WARNING] Optimization warning (l_bfgs_b): b'ABNORMAL_TERMINATION_IN_LNSRCH'\n"
     ]
    },
    {
     "name": "stdout",
     "output_type": "stream",
     "text": [
      "[=================                                                                                   ]  17% (11040/64224; ~24m until finished)"
     ]
    },
    {
     "name": "stderr",
     "output_type": "stream",
     "text": [
      "2021-11-06 13:23:56,891 [WARNING] Optimization warning (l_bfgs_b): b'ABNORMAL_TERMINATION_IN_LNSRCH'\n"
     ]
    },
    {
     "name": "stdout",
     "output_type": "stream",
     "text": [
      "[=================                                                                                   ]  17% (11043/64224; ~24m until finished)"
     ]
    },
    {
     "name": "stderr",
     "output_type": "stream",
     "text": [
      "2021-11-06 13:23:57,080 [WARNING] Optimization warning (l_bfgs_b): b'ABNORMAL_TERMINATION_IN_LNSRCH'\n"
     ]
    },
    {
     "name": "stdout",
     "output_type": "stream",
     "text": [
      "[=================                                                                                   ]  17% (11077/64224; ~24m until finished)"
     ]
    },
    {
     "name": "stderr",
     "output_type": "stream",
     "text": [
      "2021-11-06 13:23:58,178 [WARNING] Optimization warning (l_bfgs_b): b'ABNORMAL_TERMINATION_IN_LNSRCH'\n"
     ]
    },
    {
     "name": "stdout",
     "output_type": "stream",
     "text": [
      "[=================                                                                                   ]  17% (11090/64224; ~24m until finished)"
     ]
    },
    {
     "name": "stderr",
     "output_type": "stream",
     "text": [
      "2021-11-06 13:23:58,568 [WARNING] Optimization warning (l_bfgs_b): b'ABNORMAL_TERMINATION_IN_LNSRCH'\n"
     ]
    },
    {
     "name": "stdout",
     "output_type": "stream",
     "text": [
      "[=================                                                                                   ]  17% (11103/64224; ~24m until finished)"
     ]
    },
    {
     "name": "stderr",
     "output_type": "stream",
     "text": [
      "2021-11-06 13:23:58,909 [WARNING] Optimization warning (l_bfgs_b): b'ABNORMAL_TERMINATION_IN_LNSRCH'\n"
     ]
    },
    {
     "name": "stdout",
     "output_type": "stream",
     "text": [
      "[=================                                                                                   ]  17% (11140/64224; ~23m until finished)"
     ]
    },
    {
     "name": "stderr",
     "output_type": "stream",
     "text": [
      "2021-11-06 13:23:59,910 [WARNING] Optimization warning (l_bfgs_b): b'ABNORMAL_TERMINATION_IN_LNSRCH'\n"
     ]
    },
    {
     "name": "stdout",
     "output_type": "stream",
     "text": [
      "[=================                                                                                   ]  17% (11142/64224; ~24m until finished)"
     ]
    },
    {
     "name": "stderr",
     "output_type": "stream",
     "text": [
      "2021-11-06 13:24:00,049 [WARNING] Optimization warning (l_bfgs_b): b'ABNORMAL_TERMINATION_IN_LNSRCH'\n"
     ]
    },
    {
     "name": "stdout",
     "output_type": "stream",
     "text": [
      "[=================                                                                                   ]  17% (11147/64224; ~24m until finished)"
     ]
    },
    {
     "name": "stderr",
     "output_type": "stream",
     "text": [
      "2021-11-06 13:24:00,314 [WARNING] Optimization warning (l_bfgs_b): b'ABNORMAL_TERMINATION_IN_LNSRCH'\n"
     ]
    },
    {
     "name": "stdout",
     "output_type": "stream",
     "text": [
      "[=================                                                                                   ]  17% (11153/64224; ~24m until finished)"
     ]
    },
    {
     "name": "stderr",
     "output_type": "stream",
     "text": [
      "2021-11-06 13:24:00,586 [WARNING] Optimization warning (l_bfgs_b): b'ABNORMAL_TERMINATION_IN_LNSRCH'\n"
     ]
    },
    {
     "name": "stdout",
     "output_type": "stream",
     "text": [
      "[=================                                                                                   ]  17% (11197/64224; ~24m until finished)"
     ]
    },
    {
     "name": "stderr",
     "output_type": "stream",
     "text": [
      "2021-11-06 13:24:01,790 [WARNING] Optimization warning (l_bfgs_b): b'ABNORMAL_TERMINATION_IN_LNSRCH'\n"
     ]
    },
    {
     "name": "stdout",
     "output_type": "stream",
     "text": [
      "[=================                                                                                   ]  17% (11209/64224; ~24m until finished)"
     ]
    },
    {
     "name": "stderr",
     "output_type": "stream",
     "text": [
      "2021-11-06 13:24:02,188 [WARNING] Optimization warning (l_bfgs_b): b'ABNORMAL_TERMINATION_IN_LNSRCH'\n"
     ]
    },
    {
     "name": "stdout",
     "output_type": "stream",
     "text": [
      "[=================                                                                                   ]  17% (11233/64224; ~24m until finished)"
     ]
    },
    {
     "name": "stderr",
     "output_type": "stream",
     "text": [
      "2021-11-06 13:24:02,992 [WARNING] Optimization warning (l_bfgs_b): b'ABNORMAL_TERMINATION_IN_LNSRCH'\n"
     ]
    },
    {
     "name": "stdout",
     "output_type": "stream",
     "text": [
      "[=================                                                                                   ]  18% (11250/64224; ~24m until finished)"
     ]
    },
    {
     "name": "stderr",
     "output_type": "stream",
     "text": [
      "2021-11-06 13:24:03,529 [WARNING] Optimization warning (l_bfgs_b): b'ABNORMAL_TERMINATION_IN_LNSRCH'\n"
     ]
    },
    {
     "name": "stdout",
     "output_type": "stream",
     "text": [
      "[=================                                                                                   ]  18% (11255/64224; ~24m until finished)"
     ]
    },
    {
     "name": "stderr",
     "output_type": "stream",
     "text": [
      "2021-11-06 13:24:03,836 [WARNING] Optimization warning (l_bfgs_b): b'ABNORMAL_TERMINATION_IN_LNSRCH'\n"
     ]
    },
    {
     "name": "stdout",
     "output_type": "stream",
     "text": [
      "[=================                                                                                   ]  18% (11259/64224; ~24m until finished)"
     ]
    },
    {
     "name": "stderr",
     "output_type": "stream",
     "text": [
      "2021-11-06 13:24:04,126 [WARNING] Optimization warning (l_bfgs_b): b'ABNORMAL_TERMINATION_IN_LNSRCH'\n"
     ]
    },
    {
     "name": "stdout",
     "output_type": "stream",
     "text": [
      "[=================                                                                                   ]  18% (11261/64224; ~24m until finished)"
     ]
    },
    {
     "name": "stderr",
     "output_type": "stream",
     "text": [
      "2021-11-06 13:24:04,325 [WARNING] Optimization warning (l_bfgs_b): b'ABNORMAL_TERMINATION_IN_LNSRCH'\n"
     ]
    },
    {
     "name": "stdout",
     "output_type": "stream",
     "text": [
      "[=================                                                                                   ]  18% (11268/64224; ~24m until finished)"
     ]
    },
    {
     "name": "stderr",
     "output_type": "stream",
     "text": [
      "2021-11-06 13:24:04,608 [WARNING] Optimization warning (l_bfgs_b): b'ABNORMAL_TERMINATION_IN_LNSRCH'\n"
     ]
    },
    {
     "name": "stdout",
     "output_type": "stream",
     "text": [
      "[=================                                                                                   ]  18% (11276/64224; ~24m until finished)"
     ]
    },
    {
     "name": "stderr",
     "output_type": "stream",
     "text": [
      "2021-11-06 13:24:04,956 [WARNING] Optimization warning (l_bfgs_b): b'ABNORMAL_TERMINATION_IN_LNSRCH'\n"
     ]
    },
    {
     "name": "stdout",
     "output_type": "stream",
     "text": [
      "\r",
      "[=================                                                                                   ]  18% (11277/64224; ~24m until finished)"
     ]
    },
    {
     "name": "stderr",
     "output_type": "stream",
     "text": [
      "2021-11-06 13:24:05,111 [WARNING] Optimization warning (l_bfgs_b): b'ABNORMAL_TERMINATION_IN_LNSRCH'\n"
     ]
    },
    {
     "name": "stdout",
     "output_type": "stream",
     "text": [
      "[=================                                                                                   ]  18% (11287/64224; ~24m until finished)"
     ]
    },
    {
     "name": "stderr",
     "output_type": "stream",
     "text": [
      "2021-11-06 13:24:05,455 [WARNING] Optimization warning (l_bfgs_b): b'ABNORMAL_TERMINATION_IN_LNSRCH'\n"
     ]
    },
    {
     "name": "stdout",
     "output_type": "stream",
     "text": [
      "[=================                                                                                   ]  18% (11289/64224; ~24m until finished)"
     ]
    },
    {
     "name": "stderr",
     "output_type": "stream",
     "text": [
      "2021-11-06 13:24:05,672 [WARNING] Optimization warning (l_bfgs_b): b'ABNORMAL_TERMINATION_IN_LNSRCH'\n"
     ]
    },
    {
     "name": "stdout",
     "output_type": "stream",
     "text": [
      "[=================                                                                                   ]  18% (11291/64224; ~24m until finished)"
     ]
    },
    {
     "name": "stderr",
     "output_type": "stream",
     "text": [
      "2021-11-06 13:24:05,808 [WARNING] Optimization warning (l_bfgs_b): b'ABNORMAL_TERMINATION_IN_LNSRCH'\n"
     ]
    },
    {
     "name": "stdout",
     "output_type": "stream",
     "text": [
      "[=================                                                                                   ]  18% (11294/64224; ~24m until finished)"
     ]
    },
    {
     "name": "stderr",
     "output_type": "stream",
     "text": [
      "2021-11-06 13:24:05,971 [WARNING] Optimization warning (l_bfgs_b): b'ABNORMAL_TERMINATION_IN_LNSRCH'\n"
     ]
    },
    {
     "name": "stdout",
     "output_type": "stream",
     "text": [
      "[=================                                                                                   ]  18% (11297/64224; ~24m until finished)"
     ]
    },
    {
     "name": "stderr",
     "output_type": "stream",
     "text": [
      "2021-11-06 13:24:06,165 [WARNING] Optimization warning (l_bfgs_b): b'ABNORMAL_TERMINATION_IN_LNSRCH'\n"
     ]
    },
    {
     "name": "stdout",
     "output_type": "stream",
     "text": [
      "\r",
      "[=================                                                                                   ]  18% (11298/64224; ~24m until finished)"
     ]
    },
    {
     "name": "stderr",
     "output_type": "stream",
     "text": [
      "2021-11-06 13:24:06,253 [WARNING] Optimization warning (l_bfgs_b): b'ABNORMAL_TERMINATION_IN_LNSRCH'\n"
     ]
    },
    {
     "name": "stdout",
     "output_type": "stream",
     "text": [
      "[=================                                                                                   ]  18% (11307/64224; ~24m until finished)"
     ]
    },
    {
     "name": "stderr",
     "output_type": "stream",
     "text": [
      "2021-11-06 13:24:06,498 [WARNING] Optimization warning (l_bfgs_b): b'ABNORMAL_TERMINATION_IN_LNSRCH'\n"
     ]
    },
    {
     "name": "stdout",
     "output_type": "stream",
     "text": [
      "[=================                                                                                   ]  18% (11310/64224; ~24m until finished)"
     ]
    },
    {
     "name": "stderr",
     "output_type": "stream",
     "text": [
      "2021-11-06 13:24:06,671 [WARNING] Optimization warning (l_bfgs_b): b'ABNORMAL_TERMINATION_IN_LNSRCH'\n"
     ]
    },
    {
     "name": "stdout",
     "output_type": "stream",
     "text": [
      "[=================                                                                                   ]  18% (11314/64224; ~24m until finished)"
     ]
    },
    {
     "name": "stderr",
     "output_type": "stream",
     "text": [
      "2021-11-06 13:24:06,851 [WARNING] Optimization warning (l_bfgs_b): b'ABNORMAL_TERMINATION_IN_LNSRCH'\n"
     ]
    },
    {
     "name": "stdout",
     "output_type": "stream",
     "text": [
      "[=================                                                                                   ]  18% (11317/64224; ~24m until finished)"
     ]
    },
    {
     "name": "stderr",
     "output_type": "stream",
     "text": [
      "2021-11-06 13:24:06,991 [WARNING] Optimization warning (l_bfgs_b): b'ABNORMAL_TERMINATION_IN_LNSRCH'\n"
     ]
    },
    {
     "name": "stdout",
     "output_type": "stream",
     "text": [
      "[=================                                                                                   ]  18% (11322/64224; ~24m until finished)"
     ]
    },
    {
     "name": "stderr",
     "output_type": "stream",
     "text": [
      "2021-11-06 13:24:07,245 [WARNING] Optimization warning (l_bfgs_b): b'ABNORMAL_TERMINATION_IN_LNSRCH'\n"
     ]
    },
    {
     "name": "stdout",
     "output_type": "stream",
     "text": [
      "[=================                                                                                   ]  18% (11325/64224; ~24m until finished)"
     ]
    },
    {
     "name": "stderr",
     "output_type": "stream",
     "text": [
      "2021-11-06 13:24:07,400 [WARNING] Optimization warning (l_bfgs_b): b'ABNORMAL_TERMINATION_IN_LNSRCH'\n"
     ]
    },
    {
     "name": "stdout",
     "output_type": "stream",
     "text": [
      "[=================                                                                                   ]  18% (11333/64224; ~24m until finished)"
     ]
    },
    {
     "name": "stderr",
     "output_type": "stream",
     "text": [
      "2021-11-06 13:24:07,660 [WARNING] Optimization warning (l_bfgs_b): b'ABNORMAL_TERMINATION_IN_LNSRCH'\n"
     ]
    },
    {
     "name": "stdout",
     "output_type": "stream",
     "text": [
      "[=================                                                                                   ]  18% (11335/64224; ~24m until finished)"
     ]
    },
    {
     "name": "stderr",
     "output_type": "stream",
     "text": [
      "2021-11-06 13:24:07,820 [WARNING] Optimization warning (l_bfgs_b): b'ABNORMAL_TERMINATION_IN_LNSRCH'\n"
     ]
    },
    {
     "name": "stdout",
     "output_type": "stream",
     "text": [
      "\r",
      "[=================                                                                                   ]  18% (11336/64224; ~24m until finished)"
     ]
    },
    {
     "name": "stderr",
     "output_type": "stream",
     "text": [
      "2021-11-06 13:24:07,915 [WARNING] Optimization warning (l_bfgs_b): b'ABNORMAL_TERMINATION_IN_LNSRCH'\n"
     ]
    },
    {
     "name": "stdout",
     "output_type": "stream",
     "text": [
      "[=================                                                                                   ]  18% (11343/64224; ~24m until finished)"
     ]
    },
    {
     "name": "stderr",
     "output_type": "stream",
     "text": [
      "2021-11-06 13:24:08,261 [WARNING] Optimization warning (l_bfgs_b): b'ABNORMAL_TERMINATION_IN_LNSRCH'\n"
     ]
    },
    {
     "name": "stdout",
     "output_type": "stream",
     "text": [
      "[=================                                                                                   ]  18% (11352/64224; ~24m until finished)"
     ]
    },
    {
     "name": "stderr",
     "output_type": "stream",
     "text": [
      "2021-11-06 13:24:08,573 [WARNING] Optimization warning (l_bfgs_b): b'ABNORMAL_TERMINATION_IN_LNSRCH'\n"
     ]
    },
    {
     "name": "stdout",
     "output_type": "stream",
     "text": [
      "[=================                                                                                   ]  18% (11360/64224; ~24m until finished)"
     ]
    },
    {
     "name": "stderr",
     "output_type": "stream",
     "text": [
      "2021-11-06 13:24:08,979 [WARNING] Optimization warning (l_bfgs_b): b'ABNORMAL_TERMINATION_IN_LNSRCH'\n"
     ]
    },
    {
     "name": "stdout",
     "output_type": "stream",
     "text": [
      "[=================                                                                                   ]  18% (11371/64224; ~24m until finished)"
     ]
    },
    {
     "name": "stderr",
     "output_type": "stream",
     "text": [
      "2021-11-06 13:24:09,391 [WARNING] Optimization warning (l_bfgs_b): b'ABNORMAL_TERMINATION_IN_LNSRCH'\n"
     ]
    },
    {
     "name": "stdout",
     "output_type": "stream",
     "text": [
      "[=================                                                                                   ]  18% (11402/64224; ~24m until finished)"
     ]
    },
    {
     "name": "stderr",
     "output_type": "stream",
     "text": [
      "2021-11-06 13:24:10,483 [WARNING] Optimization warning (l_bfgs_b): b'ABNORMAL_TERMINATION_IN_LNSRCH'\n"
     ]
    },
    {
     "name": "stdout",
     "output_type": "stream",
     "text": [
      "[=================                                                                                   ]  18% (11422/64224; ~24m until finished)"
     ]
    },
    {
     "name": "stderr",
     "output_type": "stream",
     "text": [
      "2021-11-06 13:24:11,124 [WARNING] Optimization warning (l_bfgs_b): b'ABNORMAL_TERMINATION_IN_LNSRCH'\n"
     ]
    },
    {
     "name": "stdout",
     "output_type": "stream",
     "text": [
      "\r",
      "[=================                                                                                   ]  18% (11423/64224; ~24m until finished)"
     ]
    },
    {
     "name": "stderr",
     "output_type": "stream",
     "text": [
      "2021-11-06 13:24:11,242 [WARNING] Optimization warning (l_bfgs_b): b'ABNORMAL_TERMINATION_IN_LNSRCH'\n"
     ]
    },
    {
     "name": "stdout",
     "output_type": "stream",
     "text": [
      "[=================                                                                                   ]  18% (11427/64224; ~24m until finished)"
     ]
    },
    {
     "name": "stderr",
     "output_type": "stream",
     "text": [
      "2021-11-06 13:24:11,545 [WARNING] Optimization warning (l_bfgs_b): b'ABNORMAL_TERMINATION_IN_LNSRCH'\n"
     ]
    },
    {
     "name": "stdout",
     "output_type": "stream",
     "text": [
      "[=================                                                                                   ]  18% (11429/64224; ~24m until finished)"
     ]
    },
    {
     "name": "stderr",
     "output_type": "stream",
     "text": [
      "2021-11-06 13:24:11,671 [WARNING] Optimization warning (l_bfgs_b): b'ABNORMAL_TERMINATION_IN_LNSRCH'\n"
     ]
    },
    {
     "name": "stdout",
     "output_type": "stream",
     "text": [
      "\r",
      "[=================                                                                                   ]  18% (11430/64224; ~24m until finished)"
     ]
    },
    {
     "name": "stderr",
     "output_type": "stream",
     "text": [
      "2021-11-06 13:24:11,792 [WARNING] Optimization warning (l_bfgs_b): b'ABNORMAL_TERMINATION_IN_LNSRCH'\n"
     ]
    },
    {
     "name": "stdout",
     "output_type": "stream",
     "text": [
      "[=================                                                                                   ]  18% (11444/64224; ~24m until finished)"
     ]
    },
    {
     "name": "stderr",
     "output_type": "stream",
     "text": [
      "2021-11-06 13:24:12,198 [WARNING] Optimization warning (l_bfgs_b): b'ABNORMAL_TERMINATION_IN_LNSRCH'\n"
     ]
    },
    {
     "name": "stdout",
     "output_type": "stream",
     "text": [
      "[=================                                                                                   ]  18% (11471/64224; ~24m until finished)"
     ]
    },
    {
     "name": "stderr",
     "output_type": "stream",
     "text": [
      "2021-11-06 13:24:13,048 [WARNING] Optimization warning (l_bfgs_b): b'ABNORMAL_TERMINATION_IN_LNSRCH'\n"
     ]
    },
    {
     "name": "stdout",
     "output_type": "stream",
     "text": [
      "[==================                                                                                  ]  18% (11572/64224; ~24m until finished)"
     ]
    },
    {
     "name": "stderr",
     "output_type": "stream",
     "text": [
      "2021-11-06 13:24:15,401 [WARNING] Optimization warning (l_bfgs_b): b'ABNORMAL_TERMINATION_IN_LNSRCH'\n"
     ]
    },
    {
     "name": "stdout",
     "output_type": "stream",
     "text": [
      "\r",
      "[==================                                                                                  ]  18% (11573/64224; ~24m until finished)"
     ]
    },
    {
     "name": "stderr",
     "output_type": "stream",
     "text": [
      "2021-11-06 13:24:15,499 [WARNING] Optimization warning (l_bfgs_b): b'ABNORMAL_TERMINATION_IN_LNSRCH'\n"
     ]
    },
    {
     "name": "stdout",
     "output_type": "stream",
     "text": [
      "[==================                                                                                  ]  18% (11575/64224; ~24m until finished)"
     ]
    },
    {
     "name": "stderr",
     "output_type": "stream",
     "text": [
      "2021-11-06 13:24:15,654 [WARNING] Optimization warning (l_bfgs_b): b'ABNORMAL_TERMINATION_IN_LNSRCH'\n"
     ]
    },
    {
     "name": "stdout",
     "output_type": "stream",
     "text": [
      "[==================                                                                                  ]  18% (11708/64224; ~24m until finished)"
     ]
    },
    {
     "name": "stderr",
     "output_type": "stream",
     "text": [
      "2021-11-06 13:24:19,229 [WARNING] Optimization warning (l_bfgs_b): b'ABNORMAL_TERMINATION_IN_LNSRCH'\n"
     ]
    },
    {
     "name": "stdout",
     "output_type": "stream",
     "text": [
      "[==================                                                                                  ]  18% (11710/64224; ~24m until finished)"
     ]
    },
    {
     "name": "stderr",
     "output_type": "stream",
     "text": [
      "2021-11-06 13:24:19,365 [WARNING] Optimization warning (l_bfgs_b): b'ABNORMAL_TERMINATION_IN_LNSRCH'\n"
     ]
    },
    {
     "name": "stdout",
     "output_type": "stream",
     "text": [
      "[==================                                                                                  ]  18% (11741/64224; ~24m until finished)"
     ]
    },
    {
     "name": "stderr",
     "output_type": "stream",
     "text": [
      "2021-11-06 13:24:20,192 [WARNING] Optimization warning (l_bfgs_b): b'ABNORMAL_TERMINATION_IN_LNSRCH'\n"
     ]
    },
    {
     "name": "stdout",
     "output_type": "stream",
     "text": [
      "[==================                                                                                  ]  18% (11782/64224; ~24m until finished)"
     ]
    },
    {
     "name": "stderr",
     "output_type": "stream",
     "text": [
      "2021-11-06 13:24:21,357 [WARNING] Optimization warning (l_bfgs_b): b'ABNORMAL_TERMINATION_IN_LNSRCH'\n"
     ]
    },
    {
     "name": "stdout",
     "output_type": "stream",
     "text": [
      "\r",
      "[==================                                                                                  ]  18% (11783/64224; ~24m until finished)"
     ]
    },
    {
     "name": "stderr",
     "output_type": "stream",
     "text": [
      "2021-11-06 13:24:21,507 [WARNING] Optimization warning (l_bfgs_b): b'ABNORMAL_TERMINATION_IN_LNSRCH'\n"
     ]
    },
    {
     "name": "stdout",
     "output_type": "stream",
     "text": [
      "[==================                                                                                  ]  18% (11801/64224; ~24m until finished)"
     ]
    },
    {
     "name": "stderr",
     "output_type": "stream",
     "text": [
      "2021-11-06 13:24:22,016 [WARNING] Optimization warning (l_bfgs_b): b'ABNORMAL_TERMINATION_IN_LNSRCH'\n"
     ]
    },
    {
     "name": "stdout",
     "output_type": "stream",
     "text": [
      "[==================                                                                                  ]  18% (11807/64224; ~24m until finished)"
     ]
    },
    {
     "name": "stderr",
     "output_type": "stream",
     "text": [
      "2021-11-06 13:24:22,286 [WARNING] Optimization warning (l_bfgs_b): b'ABNORMAL_TERMINATION_IN_LNSRCH'\n"
     ]
    },
    {
     "name": "stdout",
     "output_type": "stream",
     "text": [
      "[==================                                                                                  ]  18% (11834/64224; ~24m until finished)"
     ]
    },
    {
     "name": "stderr",
     "output_type": "stream",
     "text": [
      "2021-11-06 13:24:23,067 [WARNING] Optimization warning (l_bfgs_b): b'ABNORMAL_TERMINATION_IN_LNSRCH'\n"
     ]
    },
    {
     "name": "stdout",
     "output_type": "stream",
     "text": [
      "[==================                                                                                  ]  18% (11874/64224; ~24m until finished)"
     ]
    },
    {
     "name": "stderr",
     "output_type": "stream",
     "text": [
      "2021-11-06 13:24:24,201 [WARNING] Optimization warning (l_bfgs_b): b'ABNORMAL_TERMINATION_IN_LNSRCH'\n"
     ]
    },
    {
     "name": "stdout",
     "output_type": "stream",
     "text": [
      "[==================                                                                                  ]  19% (12078/64224; ~23m until finished)"
     ]
    },
    {
     "name": "stderr",
     "output_type": "stream",
     "text": [
      "2021-11-06 13:24:30,029 [WARNING] Optimization warning (l_bfgs_b): b'ABNORMAL_TERMINATION_IN_LNSRCH'\n"
     ]
    },
    {
     "name": "stdout",
     "output_type": "stream",
     "text": [
      "[==================                                                                                  ]  19% (12087/64224; ~23m until finished)"
     ]
    },
    {
     "name": "stderr",
     "output_type": "stream",
     "text": [
      "2021-11-06 13:24:30,445 [WARNING] Optimization warning (l_bfgs_b): b'ABNORMAL_TERMINATION_IN_LNSRCH'\n"
     ]
    },
    {
     "name": "stdout",
     "output_type": "stream",
     "text": [
      "[==================                                                                                  ]  19% (12109/64224; ~23m until finished)"
     ]
    },
    {
     "name": "stderr",
     "output_type": "stream",
     "text": [
      "2021-11-06 13:24:31,277 [WARNING] Optimization warning (l_bfgs_b): b'ABNORMAL_TERMINATION_IN_LNSRCH'\n"
     ]
    },
    {
     "name": "stdout",
     "output_type": "stream",
     "text": [
      "[==================                                                                                  ]  19% (12128/64224; ~23m until finished)"
     ]
    },
    {
     "name": "stderr",
     "output_type": "stream",
     "text": [
      "2021-11-06 13:24:32,009 [WARNING] Optimization warning (l_bfgs_b): b'ABNORMAL_TERMINATION_IN_LNSRCH'\n"
     ]
    },
    {
     "name": "stdout",
     "output_type": "stream",
     "text": [
      "[==================                                                                                  ]  19% (12143/64224; ~23m until finished)"
     ]
    },
    {
     "name": "stderr",
     "output_type": "stream",
     "text": [
      "2021-11-06 13:24:32,414 [WARNING] Optimization warning (l_bfgs_b): b'ABNORMAL_TERMINATION_IN_LNSRCH'\n"
     ]
    },
    {
     "name": "stdout",
     "output_type": "stream",
     "text": [
      "[==================                                                                                  ]  19% (12145/64224; ~23m until finished)"
     ]
    },
    {
     "name": "stderr",
     "output_type": "stream",
     "text": [
      "2021-11-06 13:24:32,606 [WARNING] Optimization warning (l_bfgs_b): b'ABNORMAL_TERMINATION_IN_LNSRCH'\n"
     ]
    },
    {
     "name": "stdout",
     "output_type": "stream",
     "text": [
      "[==================                                                                                  ]  19% (12167/64224; ~23m until finished)"
     ]
    },
    {
     "name": "stderr",
     "output_type": "stream",
     "text": [
      "2021-11-06 13:24:33,380 [WARNING] Optimization warning (l_bfgs_b): b'ABNORMAL_TERMINATION_IN_LNSRCH'\n"
     ]
    },
    {
     "name": "stdout",
     "output_type": "stream",
     "text": [
      "[==================                                                                                  ]  19% (12191/64224; ~23m until finished)"
     ]
    },
    {
     "name": "stderr",
     "output_type": "stream",
     "text": [
      "2021-11-06 13:24:34,018 [WARNING] Optimization warning (l_bfgs_b): b'ABNORMAL_TERMINATION_IN_LNSRCH'\n"
     ]
    },
    {
     "name": "stdout",
     "output_type": "stream",
     "text": [
      "[===================                                                                                 ]  19% (12254/64224; ~23m until finished)"
     ]
    },
    {
     "name": "stderr",
     "output_type": "stream",
     "text": [
      "2021-11-06 13:24:36,052 [WARNING] Optimization warning (l_bfgs_b): b'ABNORMAL_TERMINATION_IN_LNSRCH'\n"
     ]
    },
    {
     "name": "stdout",
     "output_type": "stream",
     "text": [
      "[===================                                                                                 ]  19% (12266/64224; ~23m until finished)"
     ]
    },
    {
     "name": "stderr",
     "output_type": "stream",
     "text": [
      "2021-11-06 13:24:36,470 [WARNING] Optimization warning (l_bfgs_b): b'ABNORMAL_TERMINATION_IN_LNSRCH'\n"
     ]
    },
    {
     "name": "stdout",
     "output_type": "stream",
     "text": [
      "[===================                                                                                 ]  19% (12274/64224; ~23m until finished)"
     ]
    },
    {
     "name": "stderr",
     "output_type": "stream",
     "text": [
      "2021-11-06 13:24:36,864 [WARNING] Optimization warning (l_bfgs_b): b'ABNORMAL_TERMINATION_IN_LNSRCH'\n"
     ]
    },
    {
     "name": "stdout",
     "output_type": "stream",
     "text": [
      "[===================                                                                                 ]  19% (12277/64224; ~23m until finished)"
     ]
    },
    {
     "name": "stderr",
     "output_type": "stream",
     "text": [
      "2021-11-06 13:24:37,094 [WARNING] Optimization warning (l_bfgs_b): b'ABNORMAL_TERMINATION_IN_LNSRCH'\n"
     ]
    },
    {
     "name": "stdout",
     "output_type": "stream",
     "text": [
      "[===================                                                                                 ]  19% (12287/64224; ~24m until finished)"
     ]
    },
    {
     "name": "stderr",
     "output_type": "stream",
     "text": [
      "2021-11-06 13:24:37,639 [WARNING] Optimization warning (l_bfgs_b): b'ABNORMAL_TERMINATION_IN_LNSRCH'\n"
     ]
    },
    {
     "name": "stdout",
     "output_type": "stream",
     "text": [
      "[===================                                                                                 ]  19% (12313/64224; ~24m until finished)"
     ]
    },
    {
     "name": "stderr",
     "output_type": "stream",
     "text": [
      "2021-11-06 13:24:38,575 [WARNING] Optimization warning (l_bfgs_b): b'ABNORMAL_TERMINATION_IN_LNSRCH'\n"
     ]
    },
    {
     "name": "stdout",
     "output_type": "stream",
     "text": [
      "[===================                                                                                 ]  19% (12349/64224; ~23m until finished)"
     ]
    },
    {
     "name": "stderr",
     "output_type": "stream",
     "text": [
      "2021-11-06 13:24:39,625 [WARNING] Optimization warning (l_bfgs_b): b'ABNORMAL_TERMINATION_IN_LNSRCH'\n"
     ]
    },
    {
     "name": "stdout",
     "output_type": "stream",
     "text": [
      "[===================                                                                                 ]  19% (12354/64224; ~23m until finished)"
     ]
    },
    {
     "name": "stderr",
     "output_type": "stream",
     "text": [
      "2021-11-06 13:24:39,844 [WARNING] Optimization warning (l_bfgs_b): b'ABNORMAL_TERMINATION_IN_LNSRCH'\n"
     ]
    },
    {
     "name": "stdout",
     "output_type": "stream",
     "text": [
      "[===================                                                                                 ]  19% (12389/64224; ~23m until finished)"
     ]
    },
    {
     "name": "stderr",
     "output_type": "stream",
     "text": [
      "2021-11-06 13:24:40,687 [WARNING] Optimization warning (l_bfgs_b): b'ABNORMAL_TERMINATION_IN_LNSRCH'\n"
     ]
    },
    {
     "name": "stdout",
     "output_type": "stream",
     "text": [
      "[===================                                                                                 ]  19% (12398/64224; ~23m until finished)"
     ]
    },
    {
     "name": "stderr",
     "output_type": "stream",
     "text": [
      "2021-11-06 13:24:41,025 [WARNING] Optimization warning (l_bfgs_b): b'ABNORMAL_TERMINATION_IN_LNSRCH'\n"
     ]
    },
    {
     "name": "stdout",
     "output_type": "stream",
     "text": [
      "[===================                                                                                 ]  19% (12403/64224; ~23m until finished)"
     ]
    },
    {
     "name": "stderr",
     "output_type": "stream",
     "text": [
      "2021-11-06 13:24:41,276 [WARNING] Optimization warning (l_bfgs_b): b'ABNORMAL_TERMINATION_IN_LNSRCH'\n"
     ]
    },
    {
     "name": "stdout",
     "output_type": "stream",
     "text": [
      "[===================                                                                                 ]  19% (12502/64224; ~23m until finished)"
     ]
    },
    {
     "name": "stderr",
     "output_type": "stream",
     "text": [
      "2021-11-06 13:24:43,642 [WARNING] Optimization warning (l_bfgs_b): b'ABNORMAL_TERMINATION_IN_LNSRCH'\n"
     ]
    },
    {
     "name": "stdout",
     "output_type": "stream",
     "text": [
      "[===================                                                                                 ]  19% (12504/64224; ~23m until finished)"
     ]
    },
    {
     "name": "stderr",
     "output_type": "stream",
     "text": [
      "2021-11-06 13:24:43,790 [WARNING] Optimization warning (l_bfgs_b): b'ABNORMAL_TERMINATION_IN_LNSRCH'\n"
     ]
    },
    {
     "name": "stdout",
     "output_type": "stream",
     "text": [
      "[===================                                                                                 ]  19% (12511/64224; ~23m until finished)"
     ]
    },
    {
     "name": "stderr",
     "output_type": "stream",
     "text": [
      "2021-11-06 13:24:44,047 [WARNING] Optimization warning (l_bfgs_b): b'ABNORMAL_TERMINATION_IN_LNSRCH'\n"
     ]
    },
    {
     "name": "stdout",
     "output_type": "stream",
     "text": [
      "[===================                                                                                 ]  19% (12515/64224; ~23m until finished)"
     ]
    },
    {
     "name": "stderr",
     "output_type": "stream",
     "text": [
      "2021-11-06 13:24:44,252 [WARNING] Optimization warning (l_bfgs_b): b'ABNORMAL_TERMINATION_IN_LNSRCH'\n"
     ]
    },
    {
     "name": "stdout",
     "output_type": "stream",
     "text": [
      "[===================                                                                                 ]  19% (12520/64224; ~23m until finished)"
     ]
    },
    {
     "name": "stderr",
     "output_type": "stream",
     "text": [
      "2021-11-06 13:24:44,462 [WARNING] Optimization warning (l_bfgs_b): b'ABNORMAL_TERMINATION_IN_LNSRCH'\n"
     ]
    },
    {
     "name": "stdout",
     "output_type": "stream",
     "text": [
      "[===================                                                                                 ]  20% (12524/64224; ~23m until finished)"
     ]
    },
    {
     "name": "stderr",
     "output_type": "stream",
     "text": [
      "2021-11-06 13:24:44,640 [WARNING] Optimization warning (l_bfgs_b): b'ABNORMAL_TERMINATION_IN_LNSRCH'\n"
     ]
    },
    {
     "name": "stdout",
     "output_type": "stream",
     "text": [
      "[===================                                                                                 ]  20% (12538/64224; ~23m until finished)"
     ]
    },
    {
     "name": "stderr",
     "output_type": "stream",
     "text": [
      "2021-11-06 13:24:45,056 [WARNING] Optimization warning (l_bfgs_b): b'ABNORMAL_TERMINATION_IN_LNSRCH'\n"
     ]
    },
    {
     "name": "stdout",
     "output_type": "stream",
     "text": [
      "[===================                                                                                 ]  20% (12548/64224; ~23m until finished)"
     ]
    },
    {
     "name": "stderr",
     "output_type": "stream",
     "text": [
      "2021-11-06 13:24:45,411 [WARNING] Optimization warning (l_bfgs_b): b'ABNORMAL_TERMINATION_IN_LNSRCH'\n"
     ]
    },
    {
     "name": "stdout",
     "output_type": "stream",
     "text": [
      "[===================                                                                                 ]  20% (12554/64224; ~23m until finished)"
     ]
    },
    {
     "name": "stderr",
     "output_type": "stream",
     "text": [
      "2021-11-06 13:24:45,731 [WARNING] Optimization warning (l_bfgs_b): b'ABNORMAL_TERMINATION_IN_LNSRCH'\n"
     ]
    },
    {
     "name": "stdout",
     "output_type": "stream",
     "text": [
      "[===================                                                                                 ]  20% (12567/64224; ~23m until finished)"
     ]
    },
    {
     "name": "stderr",
     "output_type": "stream",
     "text": [
      "2021-11-06 13:24:46,139 [WARNING] Optimization warning (l_bfgs_b): b'ABNORMAL_TERMINATION_IN_LNSRCH'\n"
     ]
    },
    {
     "name": "stdout",
     "output_type": "stream",
     "text": [
      "\r",
      "[===================                                                                                 ]  20% (12568/64224; ~23m until finished)"
     ]
    },
    {
     "name": "stderr",
     "output_type": "stream",
     "text": [
      "2021-11-06 13:24:46,309 [WARNING] Optimization warning (l_bfgs_b): b'ABNORMAL_TERMINATION_IN_LNSRCH'\n"
     ]
    },
    {
     "name": "stdout",
     "output_type": "stream",
     "text": [
      "[===================                                                                                 ]  20% (12573/64224; ~23m until finished)"
     ]
    },
    {
     "name": "stderr",
     "output_type": "stream",
     "text": [
      "2021-11-06 13:24:46,519 [WARNING] Optimization warning (l_bfgs_b): b'ABNORMAL_TERMINATION_IN_LNSRCH'\n"
     ]
    },
    {
     "name": "stdout",
     "output_type": "stream",
     "text": [
      "[===================                                                                                 ]  20% (12578/64224; ~23m until finished)"
     ]
    },
    {
     "name": "stderr",
     "output_type": "stream",
     "text": [
      "2021-11-06 13:24:46,781 [WARNING] Optimization warning (l_bfgs_b): b'ABNORMAL_TERMINATION_IN_LNSRCH'\n"
     ]
    },
    {
     "name": "stdout",
     "output_type": "stream",
     "text": [
      "[===================                                                                                 ]  20% (12599/64224; ~23m until finished)"
     ]
    },
    {
     "name": "stderr",
     "output_type": "stream",
     "text": [
      "2021-11-06 13:24:47,391 [WARNING] Optimization warning (l_bfgs_b): b'ABNORMAL_TERMINATION_IN_LNSRCH'\n"
     ]
    },
    {
     "name": "stdout",
     "output_type": "stream",
     "text": [
      "[===================                                                                                 ]  20% (12602/64224; ~23m until finished)"
     ]
    },
    {
     "name": "stderr",
     "output_type": "stream",
     "text": [
      "2021-11-06 13:24:47,621 [WARNING] Optimization warning (l_bfgs_b): b'ABNORMAL_TERMINATION_IN_LNSRCH'\n"
     ]
    },
    {
     "name": "stdout",
     "output_type": "stream",
     "text": [
      "[===================                                                                                 ]  20% (12620/64224; ~23m until finished)"
     ]
    },
    {
     "name": "stderr",
     "output_type": "stream",
     "text": [
      "2021-11-06 13:24:48,269 [WARNING] Optimization warning (l_bfgs_b): b'ABNORMAL_TERMINATION_IN_LNSRCH'\n"
     ]
    },
    {
     "name": "stdout",
     "output_type": "stream",
     "text": [
      "[===================                                                                                 ]  20% (12634/64224; ~23m until finished)"
     ]
    },
    {
     "name": "stderr",
     "output_type": "stream",
     "text": [
      "2021-11-06 13:24:48,821 [WARNING] Optimization warning (l_bfgs_b): b'ABNORMAL_TERMINATION_IN_LNSRCH'\n"
     ]
    },
    {
     "name": "stdout",
     "output_type": "stream",
     "text": [
      "[===================                                                                                 ]  20% (12665/64224; ~23m until finished)"
     ]
    },
    {
     "name": "stderr",
     "output_type": "stream",
     "text": [
      "2021-11-06 13:24:49,831 [WARNING] Optimization warning (l_bfgs_b): b'ABNORMAL_TERMINATION_IN_LNSRCH'\n"
     ]
    },
    {
     "name": "stdout",
     "output_type": "stream",
     "text": [
      "[===================                                                                                 ]  20% (12675/64224; ~23m until finished)"
     ]
    },
    {
     "name": "stderr",
     "output_type": "stream",
     "text": [
      "2021-11-06 13:24:50,237 [WARNING] Optimization warning (l_bfgs_b): b'ABNORMAL_TERMINATION_IN_LNSRCH'\n"
     ]
    },
    {
     "name": "stdout",
     "output_type": "stream",
     "text": [
      "\r",
      "[===================                                                                                 ]  20% (12676/64224; ~23m until finished)"
     ]
    },
    {
     "name": "stderr",
     "output_type": "stream",
     "text": [
      "2021-11-06 13:24:50,363 [WARNING] Optimization warning (l_bfgs_b): b'ABNORMAL_TERMINATION_IN_LNSRCH'\n"
     ]
    },
    {
     "name": "stdout",
     "output_type": "stream",
     "text": [
      "[===================                                                                                 ]  20% (12683/64224; ~23m until finished)"
     ]
    },
    {
     "name": "stderr",
     "output_type": "stream",
     "text": [
      "2021-11-06 13:24:50,801 [WARNING] Optimization warning (l_bfgs_b): b'ABNORMAL_TERMINATION_IN_LNSRCH'\n"
     ]
    },
    {
     "name": "stdout",
     "output_type": "stream",
     "text": [
      "[===================                                                                                 ]  20% (12685/64224; ~23m until finished)"
     ]
    },
    {
     "name": "stderr",
     "output_type": "stream",
     "text": [
      "2021-11-06 13:24:51,066 [WARNING] Optimization warning (l_bfgs_b): b'ABNORMAL_TERMINATION_IN_LNSRCH'\n"
     ]
    },
    {
     "name": "stdout",
     "output_type": "stream",
     "text": [
      "\r",
      "[===================                                                                                 ]  20% (12686/64224; ~24m until finished)"
     ]
    },
    {
     "name": "stderr",
     "output_type": "stream",
     "text": [
      "2021-11-06 13:24:51,224 [WARNING] Optimization warning (l_bfgs_b): b'ABNORMAL_TERMINATION_IN_LNSRCH'\n"
     ]
    },
    {
     "name": "stdout",
     "output_type": "stream",
     "text": [
      "[===================                                                                                 ]  20% (12693/64224; ~24m until finished)"
     ]
    },
    {
     "name": "stderr",
     "output_type": "stream",
     "text": [
      "2021-11-06 13:24:51,592 [WARNING] Optimization warning (l_bfgs_b): b'ABNORMAL_TERMINATION_IN_LNSRCH'\n"
     ]
    },
    {
     "name": "stdout",
     "output_type": "stream",
     "text": [
      "[===================                                                                                 ]  20% (12698/64224; ~24m until finished)"
     ]
    },
    {
     "name": "stderr",
     "output_type": "stream",
     "text": [
      "2021-11-06 13:24:51,859 [WARNING] Optimization warning (l_bfgs_b): b'ABNORMAL_TERMINATION_IN_LNSRCH'\n"
     ]
    },
    {
     "name": "stdout",
     "output_type": "stream",
     "text": [
      "[===================                                                                                 ]  20% (12724/64224; ~24m until finished)"
     ]
    },
    {
     "name": "stderr",
     "output_type": "stream",
     "text": [
      "2021-11-06 13:24:52,642 [WARNING] Optimization warning (l_bfgs_b): b'ABNORMAL_TERMINATION_IN_LNSRCH'\n"
     ]
    },
    {
     "name": "stdout",
     "output_type": "stream",
     "text": [
      "[===================                                                                                 ]  20% (12726/64224; ~24m until finished)"
     ]
    },
    {
     "name": "stderr",
     "output_type": "stream",
     "text": [
      "2021-11-06 13:24:52,916 [WARNING] Optimization warning (l_bfgs_b): b'ABNORMAL_TERMINATION_IN_LNSRCH'\n"
     ]
    },
    {
     "name": "stdout",
     "output_type": "stream",
     "text": [
      "[===================                                                                                 ]  20% (12734/64224; ~24m until finished)"
     ]
    },
    {
     "name": "stderr",
     "output_type": "stream",
     "text": [
      "2021-11-06 13:24:53,299 [WARNING] Optimization warning (l_bfgs_b): b'ABNORMAL_TERMINATION_IN_LNSRCH'\n"
     ]
    },
    {
     "name": "stdout",
     "output_type": "stream",
     "text": [
      "[===================                                                                                 ]  20% (12740/64224; ~24m until finished)"
     ]
    },
    {
     "name": "stderr",
     "output_type": "stream",
     "text": [
      "2021-11-06 13:24:53,585 [WARNING] Optimization warning (l_bfgs_b): b'ABNORMAL_TERMINATION_IN_LNSRCH'\n"
     ]
    },
    {
     "name": "stdout",
     "output_type": "stream",
     "text": [
      "\r",
      "[===================                                                                                 ]  20% (12741/64224; ~24m until finished)"
     ]
    },
    {
     "name": "stderr",
     "output_type": "stream",
     "text": [
      "2021-11-06 13:24:53,709 [WARNING] Optimization warning (l_bfgs_b): b'ABNORMAL_TERMINATION_IN_LNSRCH'\n"
     ]
    },
    {
     "name": "stdout",
     "output_type": "stream",
     "text": [
      "\r",
      "[===================                                                                                 ]  20% (12742/64224; ~24m until finished)"
     ]
    },
    {
     "name": "stderr",
     "output_type": "stream",
     "text": [
      "2021-11-06 13:24:53,876 [WARNING] Optimization warning (l_bfgs_b): b'ABNORMAL_TERMINATION_IN_LNSRCH'\n"
     ]
    },
    {
     "name": "stdout",
     "output_type": "stream",
     "text": [
      "\r",
      "[===================                                                                                 ]  20% (12743/64224; ~24m until finished)"
     ]
    },
    {
     "name": "stderr",
     "output_type": "stream",
     "text": [
      "2021-11-06 13:24:53,995 [WARNING] Optimization warning (l_bfgs_b): b'ABNORMAL_TERMINATION_IN_LNSRCH'\n"
     ]
    },
    {
     "name": "stdout",
     "output_type": "stream",
     "text": [
      "[===================                                                                                 ]  20% (12748/64224; ~24m until finished)"
     ]
    },
    {
     "name": "stderr",
     "output_type": "stream",
     "text": [
      "2021-11-06 13:24:54,302 [WARNING] Optimization warning (l_bfgs_b): b'ABNORMAL_TERMINATION_IN_LNSRCH'\n"
     ]
    },
    {
     "name": "stdout",
     "output_type": "stream",
     "text": [
      "[===================                                                                                 ]  20% (12752/64224; ~24m until finished)"
     ]
    },
    {
     "name": "stderr",
     "output_type": "stream",
     "text": [
      "2021-11-06 13:24:54,629 [WARNING] Optimization warning (l_bfgs_b): b'ABNORMAL_TERMINATION_IN_LNSRCH'\n"
     ]
    },
    {
     "name": "stdout",
     "output_type": "stream",
     "text": [
      "\r",
      "[===================                                                                                 ]  20% (12753/64224; ~24m until finished)"
     ]
    },
    {
     "name": "stderr",
     "output_type": "stream",
     "text": [
      "2021-11-06 13:24:54,770 [WARNING] Optimization warning (l_bfgs_b): b'ABNORMAL_TERMINATION_IN_LNSRCH'\n"
     ]
    },
    {
     "name": "stdout",
     "output_type": "stream",
     "text": [
      "[===================                                                                                 ]  20% (12771/64224; ~24m until finished)"
     ]
    },
    {
     "name": "stderr",
     "output_type": "stream",
     "text": [
      "2021-11-06 13:24:55,441 [WARNING] Optimization warning (l_bfgs_b): b'ABNORMAL_TERMINATION_IN_LNSRCH'\n"
     ]
    },
    {
     "name": "stdout",
     "output_type": "stream",
     "text": [
      "[===================                                                                                 ]  20% (12814/64224; ~24m until finished)"
     ]
    },
    {
     "name": "stderr",
     "output_type": "stream",
     "text": [
      "2021-11-06 13:24:57,019 [WARNING] Optimization warning (l_bfgs_b): b'ABNORMAL_TERMINATION_IN_LNSRCH'\n"
     ]
    },
    {
     "name": "stdout",
     "output_type": "stream",
     "text": [
      "[===================                                                                                 ]  20% (12816/64224; ~24m until finished)"
     ]
    },
    {
     "name": "stderr",
     "output_type": "stream",
     "text": [
      "2021-11-06 13:24:57,166 [WARNING] Optimization warning (l_bfgs_b): b'ABNORMAL_TERMINATION_IN_LNSRCH'\n"
     ]
    },
    {
     "name": "stdout",
     "output_type": "stream",
     "text": [
      "[===================                                                                                 ]  20% (12822/64224; ~24m until finished)"
     ]
    },
    {
     "name": "stderr",
     "output_type": "stream",
     "text": [
      "2021-11-06 13:24:57,509 [WARNING] Optimization warning (l_bfgs_b): b'ABNORMAL_TERMINATION_IN_LNSRCH'\n"
     ]
    },
    {
     "name": "stdout",
     "output_type": "stream",
     "text": [
      "[===================                                                                                 ]  20% (12825/64224; ~24m until finished)"
     ]
    },
    {
     "name": "stderr",
     "output_type": "stream",
     "text": [
      "2021-11-06 13:24:57,743 [WARNING] Optimization warning (l_bfgs_b): b'ABNORMAL_TERMINATION_IN_LNSRCH'\n"
     ]
    },
    {
     "name": "stdout",
     "output_type": "stream",
     "text": [
      "[====================                                                                                ]  20% (12863/64224; ~24m until finished)"
     ]
    },
    {
     "name": "stderr",
     "output_type": "stream",
     "text": [
      "2021-11-06 13:24:58,900 [WARNING] Optimization warning (l_bfgs_b): b'ABNORMAL_TERMINATION_IN_LNSRCH'\n"
     ]
    },
    {
     "name": "stdout",
     "output_type": "stream",
     "text": [
      "[====================                                                                                ]  20% (12900/64224; ~24m until finished)"
     ]
    },
    {
     "name": "stderr",
     "output_type": "stream",
     "text": [
      "2021-11-06 13:25:00,083 [WARNING] Optimization warning (l_bfgs_b): b'ABNORMAL_TERMINATION_IN_LNSRCH'\n"
     ]
    },
    {
     "name": "stdout",
     "output_type": "stream",
     "text": [
      "[====================                                                                                ]  20% (12941/64224; ~24m until finished)"
     ]
    },
    {
     "name": "stderr",
     "output_type": "stream",
     "text": [
      "2021-11-06 13:25:01,419 [WARNING] Optimization warning (l_bfgs_b): b'ABNORMAL_TERMINATION_IN_LNSRCH'\n"
     ]
    },
    {
     "name": "stdout",
     "output_type": "stream",
     "text": [
      "[====================                                                                                ]  20% (12972/64224; ~24m until finished)"
     ]
    },
    {
     "name": "stderr",
     "output_type": "stream",
     "text": [
      "2021-11-06 13:25:02,424 [WARNING] Optimization warning (l_bfgs_b): b'ABNORMAL_TERMINATION_IN_LNSRCH'\n"
     ]
    },
    {
     "name": "stdout",
     "output_type": "stream",
     "text": [
      "[====================                                                                                ]  20% (12997/64224; ~24m until finished)"
     ]
    },
    {
     "name": "stderr",
     "output_type": "stream",
     "text": [
      "2021-11-06 13:25:03,234 [WARNING] Optimization warning (l_bfgs_b): b'ABNORMAL_TERMINATION_IN_LNSRCH'\n"
     ]
    },
    {
     "name": "stdout",
     "output_type": "stream",
     "text": [
      "[====================                                                                                ]  20% (13018/64224; ~24m until finished)"
     ]
    },
    {
     "name": "stderr",
     "output_type": "stream",
     "text": [
      "2021-11-06 13:25:04,021 [WARNING] Optimization warning (l_bfgs_b): b'ABNORMAL_TERMINATION_IN_LNSRCH'\n"
     ]
    },
    {
     "name": "stdout",
     "output_type": "stream",
     "text": [
      "[====================                                                                                ]  20% (13024/64224; ~24m until finished)"
     ]
    },
    {
     "name": "stderr",
     "output_type": "stream",
     "text": [
      "2021-11-06 13:25:04,241 [WARNING] Optimization warning (l_bfgs_b): b'ABNORMAL_TERMINATION_IN_LNSRCH'\n"
     ]
    },
    {
     "name": "stdout",
     "output_type": "stream",
     "text": [
      "[====================                                                                                ]  20% (13027/64224; ~24m until finished)"
     ]
    },
    {
     "name": "stderr",
     "output_type": "stream",
     "text": [
      "2021-11-06 13:25:04,402 [WARNING] Optimization warning (l_bfgs_b): b'ABNORMAL_TERMINATION_IN_LNSRCH'\n"
     ]
    },
    {
     "name": "stdout",
     "output_type": "stream",
     "text": [
      "[====================                                                                                ]  20% (13036/64224; ~24m until finished)"
     ]
    },
    {
     "name": "stderr",
     "output_type": "stream",
     "text": [
      "2021-11-06 13:25:04,758 [WARNING] Optimization warning (l_bfgs_b): b'ABNORMAL_TERMINATION_IN_LNSRCH'\n"
     ]
    },
    {
     "name": "stdout",
     "output_type": "stream",
     "text": [
      "[====================                                                                                ]  20% (13038/64224; ~24m until finished)"
     ]
    },
    {
     "name": "stderr",
     "output_type": "stream",
     "text": [
      "2021-11-06 13:25:04,912 [WARNING] Optimization warning (l_bfgs_b): b'ABNORMAL_TERMINATION_IN_LNSRCH'\n"
     ]
    },
    {
     "name": "stdout",
     "output_type": "stream",
     "text": [
      "\r",
      "[====================                                                                                ]  20% (13039/64224; ~24m until finished)"
     ]
    },
    {
     "name": "stderr",
     "output_type": "stream",
     "text": [
      "2021-11-06 13:25:05,002 [WARNING] Optimization warning (l_bfgs_b): b'ABNORMAL_TERMINATION_IN_LNSRCH'\n"
     ]
    },
    {
     "name": "stdout",
     "output_type": "stream",
     "text": [
      "[====================                                                                                ]  20% (13044/64224; ~24m until finished)"
     ]
    },
    {
     "name": "stderr",
     "output_type": "stream",
     "text": [
      "2021-11-06 13:25:05,226 [WARNING] Optimization warning (l_bfgs_b): b'ABNORMAL_TERMINATION_IN_LNSRCH'\n"
     ]
    },
    {
     "name": "stdout",
     "output_type": "stream",
     "text": [
      "[====================                                                                                ]  20% (13048/64224; ~24m until finished)"
     ]
    },
    {
     "name": "stderr",
     "output_type": "stream",
     "text": [
      "2021-11-06 13:25:05,502 [WARNING] Optimization warning (l_bfgs_b): b'ABNORMAL_TERMINATION_IN_LNSRCH'\n"
     ]
    },
    {
     "name": "stdout",
     "output_type": "stream",
     "text": [
      "[====================                                                                                ]  20% (13050/64224; ~24m until finished)"
     ]
    },
    {
     "name": "stderr",
     "output_type": "stream",
     "text": [
      "2021-11-06 13:25:05,654 [WARNING] Optimization warning (l_bfgs_b): b'ABNORMAL_TERMINATION_IN_LNSRCH'\n"
     ]
    },
    {
     "name": "stdout",
     "output_type": "stream",
     "text": [
      "\r",
      "[====================                                                                                ]  20% (13051/64224; ~24m until finished)"
     ]
    },
    {
     "name": "stderr",
     "output_type": "stream",
     "text": [
      "2021-11-06 13:25:05,765 [WARNING] Optimization warning (l_bfgs_b): b'ABNORMAL_TERMINATION_IN_LNSRCH'\n"
     ]
    },
    {
     "name": "stdout",
     "output_type": "stream",
     "text": [
      "[====================                                                                                ]  20% (13063/64224; ~24m until finished)"
     ]
    },
    {
     "name": "stderr",
     "output_type": "stream",
     "text": [
      "2021-11-06 13:25:06,179 [WARNING] Optimization warning (l_bfgs_b): b'ABNORMAL_TERMINATION_IN_LNSRCH'\n"
     ]
    },
    {
     "name": "stdout",
     "output_type": "stream",
     "text": [
      "[====================                                                                                ]  20% (13065/64224; ~24m until finished)"
     ]
    },
    {
     "name": "stderr",
     "output_type": "stream",
     "text": [
      "2021-11-06 13:25:06,352 [WARNING] Optimization warning (l_bfgs_b): b'ABNORMAL_TERMINATION_IN_LNSRCH'\n"
     ]
    },
    {
     "name": "stdout",
     "output_type": "stream",
     "text": [
      "[====================                                                                                ]  20% (13072/64224; ~24m until finished)"
     ]
    },
    {
     "name": "stderr",
     "output_type": "stream",
     "text": [
      "2021-11-06 13:25:06,656 [WARNING] Optimization warning (l_bfgs_b): b'ABNORMAL_TERMINATION_IN_LNSRCH'\n"
     ]
    },
    {
     "name": "stdout",
     "output_type": "stream",
     "text": [
      "[====================                                                                                ]  20% (13103/64224; ~24m until finished)"
     ]
    },
    {
     "name": "stderr",
     "output_type": "stream",
     "text": [
      "2021-11-06 13:25:07,555 [WARNING] Optimization warning (l_bfgs_b): b'ABNORMAL_TERMINATION_IN_LNSRCH'\n"
     ]
    },
    {
     "name": "stdout",
     "output_type": "stream",
     "text": [
      "[====================                                                                                ]  20% (13108/64224; ~24m until finished)"
     ]
    },
    {
     "name": "stderr",
     "output_type": "stream",
     "text": [
      "2021-11-06 13:25:07,773 [WARNING] Optimization warning (l_bfgs_b): b'ABNORMAL_TERMINATION_IN_LNSRCH'\n"
     ]
    },
    {
     "name": "stdout",
     "output_type": "stream",
     "text": [
      "[====================                                                                                ]  20% (13116/64224; ~24m until finished)"
     ]
    },
    {
     "name": "stderr",
     "output_type": "stream",
     "text": [
      "2021-11-06 13:25:08,108 [WARNING] Optimization warning (l_bfgs_b): b'ABNORMAL_TERMINATION_IN_LNSRCH'\n"
     ]
    },
    {
     "name": "stdout",
     "output_type": "stream",
     "text": [
      "\r",
      "[====================                                                                                ]  20% (13117/64224; ~24m until finished)"
     ]
    },
    {
     "name": "stderr",
     "output_type": "stream",
     "text": [
      "2021-11-06 13:25:08,265 [WARNING] Optimization warning (l_bfgs_b): b'ABNORMAL_TERMINATION_IN_LNSRCH'\n"
     ]
    },
    {
     "name": "stdout",
     "output_type": "stream",
     "text": [
      "[====================                                                                                ]  20% (13127/64224; ~24m until finished)"
     ]
    },
    {
     "name": "stderr",
     "output_type": "stream",
     "text": [
      "2021-11-06 13:25:08,676 [WARNING] Optimization warning (l_bfgs_b): b'ABNORMAL_TERMINATION_IN_LNSRCH'\n"
     ]
    },
    {
     "name": "stdout",
     "output_type": "stream",
     "text": [
      "[====================                                                                                ]  20% (13137/64224; ~24m until finished)"
     ]
    },
    {
     "name": "stderr",
     "output_type": "stream",
     "text": [
      "2021-11-06 13:25:09,052 [WARNING] Optimization warning (l_bfgs_b): b'ABNORMAL_TERMINATION_IN_LNSRCH'\n"
     ]
    },
    {
     "name": "stdout",
     "output_type": "stream",
     "text": [
      "[====================                                                                                ]  20% (13140/64224; ~24m until finished)"
     ]
    },
    {
     "name": "stderr",
     "output_type": "stream",
     "text": [
      "2021-11-06 13:25:09,218 [WARNING] Optimization warning (l_bfgs_b): b'ABNORMAL_TERMINATION_IN_LNSRCH'\n"
     ]
    },
    {
     "name": "stdout",
     "output_type": "stream",
     "text": [
      "[====================                                                                                ]  20% (13143/64224; ~24m until finished)"
     ]
    },
    {
     "name": "stderr",
     "output_type": "stream",
     "text": [
      "2021-11-06 13:25:09,347 [WARNING] Optimization warning (l_bfgs_b): b'ABNORMAL_TERMINATION_IN_LNSRCH'\n"
     ]
    },
    {
     "name": "stdout",
     "output_type": "stream",
     "text": [
      "[====================                                                                                ]  20% (13146/64224; ~24m until finished)"
     ]
    },
    {
     "name": "stderr",
     "output_type": "stream",
     "text": [
      "2021-11-06 13:25:09,470 [WARNING] Optimization warning (l_bfgs_b): b'ABNORMAL_TERMINATION_IN_LNSRCH'\n"
     ]
    },
    {
     "name": "stdout",
     "output_type": "stream",
     "text": [
      "[====================                                                                                ]  20% (13150/64224; ~24m until finished)"
     ]
    },
    {
     "name": "stderr",
     "output_type": "stream",
     "text": [
      "2021-11-06 13:25:09,590 [WARNING] Optimization warning (l_bfgs_b): b'ABNORMAL_TERMINATION_IN_LNSRCH'\n"
     ]
    },
    {
     "name": "stdout",
     "output_type": "stream",
     "text": [
      "[====================                                                                                ]  21% (13170/64224; ~24m until finished)"
     ]
    },
    {
     "name": "stderr",
     "output_type": "stream",
     "text": [
      "2021-11-06 13:25:10,081 [WARNING] Optimization warning (l_bfgs_b): b'ABNORMAL_TERMINATION_IN_LNSRCH'\n"
     ]
    },
    {
     "name": "stdout",
     "output_type": "stream",
     "text": [
      "[====================                                                                                ]  21% (13172/64224; ~24m until finished)"
     ]
    },
    {
     "name": "stderr",
     "output_type": "stream",
     "text": [
      "2021-11-06 13:25:10,240 [WARNING] Optimization warning (l_bfgs_b): b'ABNORMAL_TERMINATION_IN_LNSRCH'\n"
     ]
    },
    {
     "name": "stdout",
     "output_type": "stream",
     "text": [
      "[====================                                                                                ]  21% (13175/64224; ~24m until finished)"
     ]
    },
    {
     "name": "stderr",
     "output_type": "stream",
     "text": [
      "2021-11-06 13:25:10,362 [WARNING] Optimization warning (l_bfgs_b): b'ABNORMAL_TERMINATION_IN_LNSRCH'\n"
     ]
    },
    {
     "name": "stdout",
     "output_type": "stream",
     "text": [
      "[====================                                                                                ]  21% (13177/64224; ~24m until finished)"
     ]
    },
    {
     "name": "stderr",
     "output_type": "stream",
     "text": [
      "2021-11-06 13:25:10,441 [WARNING] Optimization warning (l_bfgs_b): b'ABNORMAL_TERMINATION_IN_LNSRCH'\n"
     ]
    },
    {
     "name": "stdout",
     "output_type": "stream",
     "text": [
      "[====================                                                                                ]  21% (13195/64224; ~24m until finished)"
     ]
    },
    {
     "name": "stderr",
     "output_type": "stream",
     "text": [
      "2021-11-06 13:25:10,797 [WARNING] Optimization warning (l_bfgs_b): b'ABNORMAL_TERMINATION_IN_LNSRCH'\n"
     ]
    },
    {
     "name": "stdout",
     "output_type": "stream",
     "text": [
      "\r",
      "[====================                                                                                ]  21% (13196/64224; ~24m until finished)"
     ]
    },
    {
     "name": "stderr",
     "output_type": "stream",
     "text": [
      "2021-11-06 13:25:10,890 [WARNING] Optimization warning (l_bfgs_b): b'ABNORMAL_TERMINATION_IN_LNSRCH'\n"
     ]
    },
    {
     "name": "stdout",
     "output_type": "stream",
     "text": [
      "[====================                                                                                ]  21% (13198/64224; ~24m until finished)"
     ]
    },
    {
     "name": "stderr",
     "output_type": "stream",
     "text": [
      "2021-11-06 13:25:11,002 [WARNING] Optimization warning (l_bfgs_b): b'ABNORMAL_TERMINATION_IN_LNSRCH'\n"
     ]
    },
    {
     "name": "stdout",
     "output_type": "stream",
     "text": [
      "[====================                                                                                ]  21% (13201/64224; ~24m until finished)"
     ]
    },
    {
     "name": "stderr",
     "output_type": "stream",
     "text": [
      "2021-11-06 13:25:11,144 [WARNING] Optimization warning (l_bfgs_b): b'ABNORMAL_TERMINATION_IN_LNSRCH'\n"
     ]
    },
    {
     "name": "stdout",
     "output_type": "stream",
     "text": [
      "\r",
      "[====================                                                                                ]  21% (13202/64224; ~24m until finished)"
     ]
    },
    {
     "name": "stderr",
     "output_type": "stream",
     "text": [
      "2021-11-06 13:25:11,241 [WARNING] Optimization warning (l_bfgs_b): b'ABNORMAL_TERMINATION_IN_LNSRCH'\n"
     ]
    },
    {
     "name": "stdout",
     "output_type": "stream",
     "text": [
      "[====================                                                                                ]  21% (13207/64224; ~24m until finished)"
     ]
    },
    {
     "name": "stderr",
     "output_type": "stream",
     "text": [
      "2021-11-06 13:25:11,398 [WARNING] Optimization warning (l_bfgs_b): b'ABNORMAL_TERMINATION_IN_LNSRCH'\n"
     ]
    },
    {
     "name": "stdout",
     "output_type": "stream",
     "text": [
      "[====================                                                                                ]  21% (13227/64224; ~24m until finished)"
     ]
    },
    {
     "name": "stderr",
     "output_type": "stream",
     "text": [
      "2021-11-06 13:25:11,856 [WARNING] Optimization warning (l_bfgs_b): b'ABNORMAL_TERMINATION_IN_LNSRCH'\n"
     ]
    },
    {
     "name": "stdout",
     "output_type": "stream",
     "text": [
      "[====================                                                                                ]  21% (13244/64224; ~24m until finished)"
     ]
    },
    {
     "name": "stderr",
     "output_type": "stream",
     "text": [
      "2021-11-06 13:25:12,381 [WARNING] Optimization warning (l_bfgs_b): b'ABNORMAL_TERMINATION_IN_LNSRCH'\n"
     ]
    },
    {
     "name": "stdout",
     "output_type": "stream",
     "text": [
      "[====================                                                                                ]  21% (13260/64224; ~24m until finished)"
     ]
    },
    {
     "name": "stderr",
     "output_type": "stream",
     "text": [
      "2021-11-06 13:25:12,884 [WARNING] Optimization warning (l_bfgs_b): b'ABNORMAL_TERMINATION_IN_LNSRCH'\n"
     ]
    },
    {
     "name": "stdout",
     "output_type": "stream",
     "text": [
      "\r",
      "[====================                                                                                ]  21% (13261/64224; ~24m until finished)"
     ]
    },
    {
     "name": "stderr",
     "output_type": "stream",
     "text": [
      "2021-11-06 13:25:13,031 [WARNING] Optimization warning (l_bfgs_b): b'ABNORMAL_TERMINATION_IN_LNSRCH'\n"
     ]
    },
    {
     "name": "stdout",
     "output_type": "stream",
     "text": [
      "[====================                                                                                ]  21% (13263/64224; ~24m until finished)"
     ]
    },
    {
     "name": "stderr",
     "output_type": "stream",
     "text": [
      "2021-11-06 13:25:13,192 [WARNING] Optimization warning (l_bfgs_b): b'ABNORMAL_TERMINATION_IN_LNSRCH'\n"
     ]
    },
    {
     "name": "stdout",
     "output_type": "stream",
     "text": [
      "[====================                                                                                ]  21% (13325/64224; ~24m until finished)"
     ]
    },
    {
     "name": "stderr",
     "output_type": "stream",
     "text": [
      "2021-11-06 13:25:15,114 [WARNING] Optimization warning (l_bfgs_b): b'ABNORMAL_TERMINATION_IN_LNSRCH'\n"
     ]
    },
    {
     "name": "stdout",
     "output_type": "stream",
     "text": [
      "[====================                                                                                ]  21% (13336/64224; ~24m until finished)"
     ]
    },
    {
     "name": "stderr",
     "output_type": "stream",
     "text": [
      "2021-11-06 13:25:15,527 [WARNING] Optimization warning (l_bfgs_b): b'ABNORMAL_TERMINATION_IN_LNSRCH'\n"
     ]
    },
    {
     "name": "stdout",
     "output_type": "stream",
     "text": [
      "\r",
      "[====================                                                                                ]  21% (13337/64224; ~24m until finished)"
     ]
    },
    {
     "name": "stderr",
     "output_type": "stream",
     "text": [
      "2021-11-06 13:25:15,694 [WARNING] Optimization warning (l_bfgs_b): b'ABNORMAL_TERMINATION_IN_LNSRCH'\n"
     ]
    },
    {
     "name": "stdout",
     "output_type": "stream",
     "text": [
      "[====================                                                                                ]  21% (13358/64224; ~24m until finished)"
     ]
    },
    {
     "name": "stderr",
     "output_type": "stream",
     "text": [
      "2021-11-06 13:25:16,491 [WARNING] Optimization warning (l_bfgs_b): b'ABNORMAL_TERMINATION_IN_LNSRCH'\n"
     ]
    },
    {
     "name": "stdout",
     "output_type": "stream",
     "text": [
      "[====================                                                                                ]  21% (13361/64224; ~24m until finished)"
     ]
    },
    {
     "name": "stderr",
     "output_type": "stream",
     "text": [
      "2021-11-06 13:25:16,743 [WARNING] Optimization warning (l_bfgs_b): b'ABNORMAL_TERMINATION_IN_LNSRCH'\n"
     ]
    },
    {
     "name": "stdout",
     "output_type": "stream",
     "text": [
      "[====================                                                                                ]  21% (13382/64224; ~24m until finished)"
     ]
    },
    {
     "name": "stderr",
     "output_type": "stream",
     "text": [
      "2021-11-06 13:25:17,463 [WARNING] Optimization warning (l_bfgs_b): b'ABNORMAL_TERMINATION_IN_LNSRCH'\n"
     ]
    },
    {
     "name": "stdout",
     "output_type": "stream",
     "text": [
      "[====================                                                                                ]  21% (13397/64224; ~24m until finished)"
     ]
    },
    {
     "name": "stderr",
     "output_type": "stream",
     "text": [
      "2021-11-06 13:25:17,956 [WARNING] Optimization warning (l_bfgs_b): b'ABNORMAL_TERMINATION_IN_LNSRCH'\n"
     ]
    },
    {
     "name": "stdout",
     "output_type": "stream",
     "text": [
      "[====================                                                                                ]  21% (13403/64224; ~24m until finished)"
     ]
    },
    {
     "name": "stderr",
     "output_type": "stream",
     "text": [
      "2021-11-06 13:25:18,254 [WARNING] Optimization warning (l_bfgs_b): b'ABNORMAL_TERMINATION_IN_LNSRCH'\n"
     ]
    },
    {
     "name": "stdout",
     "output_type": "stream",
     "text": [
      "[====================                                                                                ]  21% (13414/64224; ~24m until finished)"
     ]
    },
    {
     "name": "stderr",
     "output_type": "stream",
     "text": [
      "2021-11-06 13:25:18,625 [WARNING] Optimization warning (l_bfgs_b): b'ABNORMAL_TERMINATION_IN_LNSRCH'\n"
     ]
    },
    {
     "name": "stdout",
     "output_type": "stream",
     "text": [
      "\r",
      "[====================                                                                                ]  21% (13415/64224; ~24m until finished)"
     ]
    },
    {
     "name": "stderr",
     "output_type": "stream",
     "text": [
      "2021-11-06 13:25:18,722 [WARNING] Optimization warning (l_bfgs_b): b'ABNORMAL_TERMINATION_IN_LNSRCH'\n"
     ]
    },
    {
     "name": "stdout",
     "output_type": "stream",
     "text": [
      "[====================                                                                                ]  21% (13417/64224; ~24m until finished)"
     ]
    },
    {
     "name": "stderr",
     "output_type": "stream",
     "text": [
      "2021-11-06 13:25:18,848 [WARNING] Optimization warning (l_bfgs_b): b'ABNORMAL_TERMINATION_IN_LNSRCH'\n"
     ]
    },
    {
     "name": "stdout",
     "output_type": "stream",
     "text": [
      "[====================                                                                                ]  21% (13423/64224; ~24m until finished)"
     ]
    },
    {
     "name": "stderr",
     "output_type": "stream",
     "text": [
      "2021-11-06 13:25:19,084 [WARNING] Optimization warning (l_bfgs_b): b'ABNORMAL_TERMINATION_IN_LNSRCH'\n"
     ]
    },
    {
     "name": "stdout",
     "output_type": "stream",
     "text": [
      "[====================                                                                                ]  21% (13440/64224; ~24m until finished)"
     ]
    },
    {
     "name": "stderr",
     "output_type": "stream",
     "text": [
      "2021-11-06 13:25:19,680 [WARNING] Optimization warning (l_bfgs_b): b'ABNORMAL_TERMINATION_IN_LNSRCH'\n"
     ]
    },
    {
     "name": "stdout",
     "output_type": "stream",
     "text": [
      "[====================                                                                                ]  21% (13471/64224; ~24m until finished)"
     ]
    },
    {
     "name": "stderr",
     "output_type": "stream",
     "text": [
      "2021-11-06 13:25:20,755 [WARNING] Optimization warning (l_bfgs_b): b'ABNORMAL_TERMINATION_IN_LNSRCH'\n"
     ]
    },
    {
     "name": "stdout",
     "output_type": "stream",
     "text": [
      "[=====================                                                                               ]  21% (13485/64224; ~24m until finished)"
     ]
    },
    {
     "name": "stderr",
     "output_type": "stream",
     "text": [
      "2021-11-06 13:25:21,223 [WARNING] Optimization warning (l_bfgs_b): b'ABNORMAL_TERMINATION_IN_LNSRCH'\n"
     ]
    },
    {
     "name": "stdout",
     "output_type": "stream",
     "text": [
      "[=====================                                                                               ]  21% (13492/64224; ~24m until finished)"
     ]
    },
    {
     "name": "stderr",
     "output_type": "stream",
     "text": [
      "2021-11-06 13:25:21,506 [WARNING] Optimization warning (l_bfgs_b): b'ABNORMAL_TERMINATION_IN_LNSRCH'\n"
     ]
    },
    {
     "name": "stdout",
     "output_type": "stream",
     "text": [
      "[=====================                                                                               ]  21% (13520/64224; ~24m until finished)"
     ]
    },
    {
     "name": "stderr",
     "output_type": "stream",
     "text": [
      "2021-11-06 13:25:22,348 [WARNING] Optimization warning (l_bfgs_b): b'ABNORMAL_TERMINATION_IN_LNSRCH'\n"
     ]
    },
    {
     "name": "stdout",
     "output_type": "stream",
     "text": [
      "[=====================                                                                               ]  21% (13553/64224; ~24m until finished)"
     ]
    },
    {
     "name": "stderr",
     "output_type": "stream",
     "text": [
      "2021-11-06 13:25:23,490 [WARNING] Optimization warning (l_bfgs_b): b'ABNORMAL_TERMINATION_IN_LNSRCH'\n"
     ]
    },
    {
     "name": "stdout",
     "output_type": "stream",
     "text": [
      "[=====================                                                                               ]  21% (13582/64224; ~24m until finished)"
     ]
    },
    {
     "name": "stderr",
     "output_type": "stream",
     "text": [
      "2021-11-06 13:25:24,525 [WARNING] Optimization warning (l_bfgs_b): b'ABNORMAL_TERMINATION_IN_LNSRCH'\n"
     ]
    },
    {
     "name": "stdout",
     "output_type": "stream",
     "text": [
      "[=====================                                                                               ]  21% (13616/64224; ~24m until finished)"
     ]
    },
    {
     "name": "stderr",
     "output_type": "stream",
     "text": [
      "2021-11-06 13:25:25,634 [WARNING] Optimization warning (l_bfgs_b): b'ABNORMAL_TERMINATION_IN_LNSRCH'\n"
     ]
    },
    {
     "name": "stdout",
     "output_type": "stream",
     "text": [
      "[=====================                                                                               ]  21% (13624/64224; ~24m until finished)"
     ]
    },
    {
     "name": "stderr",
     "output_type": "stream",
     "text": [
      "2021-11-06 13:25:26,024 [WARNING] Optimization warning (l_bfgs_b): b'ABNORMAL_TERMINATION_IN_LNSRCH'\n"
     ]
    },
    {
     "name": "stdout",
     "output_type": "stream",
     "text": [
      "[=====================                                                                               ]  21% (13629/64224; ~24m until finished)"
     ]
    },
    {
     "name": "stderr",
     "output_type": "stream",
     "text": [
      "2021-11-06 13:25:26,373 [WARNING] Optimization warning (l_bfgs_b): b'ABNORMAL_TERMINATION_IN_LNSRCH'\n"
     ]
    },
    {
     "name": "stdout",
     "output_type": "stream",
     "text": [
      "[=====================                                                                               ]  21% (13700/64224; ~24m until finished)"
     ]
    },
    {
     "name": "stderr",
     "output_type": "stream",
     "text": [
      "2021-11-06 13:25:28,934 [WARNING] Optimization warning (l_bfgs_b): b'ABNORMAL_TERMINATION_IN_LNSRCH'\n"
     ]
    },
    {
     "name": "stdout",
     "output_type": "stream",
     "text": [
      "[=====================                                                                               ]  21% (13736/64224; ~24m until finished)"
     ]
    },
    {
     "name": "stderr",
     "output_type": "stream",
     "text": [
      "2021-11-06 13:25:30,091 [WARNING] Optimization warning (l_bfgs_b): b'ABNORMAL_TERMINATION_IN_LNSRCH'\n"
     ]
    },
    {
     "name": "stdout",
     "output_type": "stream",
     "text": [
      "[=====================                                                                               ]  21% (13739/64224; ~24m until finished)"
     ]
    },
    {
     "name": "stderr",
     "output_type": "stream",
     "text": [
      "2021-11-06 13:25:30,293 [WARNING] Optimization warning (l_bfgs_b): b'ABNORMAL_TERMINATION_IN_LNSRCH'\n"
     ]
    },
    {
     "name": "stdout",
     "output_type": "stream",
     "text": [
      "[=====================                                                                               ]  21% (13742/64224; ~24m until finished)"
     ]
    },
    {
     "name": "stderr",
     "output_type": "stream",
     "text": [
      "2021-11-06 13:25:30,583 [WARNING] Optimization warning (l_bfgs_b): b'ABNORMAL_TERMINATION_IN_LNSRCH'\n"
     ]
    },
    {
     "name": "stdout",
     "output_type": "stream",
     "text": [
      "[=====================                                                                               ]  21% (13753/64224; ~24m until finished)"
     ]
    },
    {
     "name": "stderr",
     "output_type": "stream",
     "text": [
      "2021-11-06 13:25:31,065 [WARNING] Optimization warning (l_bfgs_b): b'ABNORMAL_TERMINATION_IN_LNSRCH'\n"
     ]
    },
    {
     "name": "stdout",
     "output_type": "stream",
     "text": [
      "[=====================                                                                               ]  21% (13781/64224; ~24m until finished)"
     ]
    },
    {
     "name": "stderr",
     "output_type": "stream",
     "text": [
      "2021-11-06 13:25:32,040 [WARNING] Optimization warning (l_bfgs_b): b'ABNORMAL_TERMINATION_IN_LNSRCH'\n"
     ]
    },
    {
     "name": "stdout",
     "output_type": "stream",
     "text": [
      "[=====================                                                                               ]  21% (13800/64224; ~24m until finished)"
     ]
    },
    {
     "name": "stderr",
     "output_type": "stream",
     "text": [
      "2021-11-06 13:25:32,680 [WARNING] Optimization warning (l_bfgs_b): b'ABNORMAL_TERMINATION_IN_LNSRCH'\n"
     ]
    },
    {
     "name": "stdout",
     "output_type": "stream",
     "text": [
      "[=====================                                                                               ]  21% (13808/64224; ~24m until finished)"
     ]
    },
    {
     "name": "stderr",
     "output_type": "stream",
     "text": [
      "2021-11-06 13:25:32,933 [WARNING] Optimization warning (l_bfgs_b): b'ABNORMAL_TERMINATION_IN_LNSRCH'\n"
     ]
    },
    {
     "name": "stdout",
     "output_type": "stream",
     "text": [
      "[=====================                                                                               ]  22% (13810/64224; ~24m until finished)"
     ]
    },
    {
     "name": "stderr",
     "output_type": "stream",
     "text": [
      "2021-11-06 13:25:33,078 [WARNING] Optimization warning (l_bfgs_b): b'ABNORMAL_TERMINATION_IN_LNSRCH'\n"
     ]
    },
    {
     "name": "stdout",
     "output_type": "stream",
     "text": [
      "[=====================                                                                               ]  22% (13814/64224; ~24m until finished)"
     ]
    },
    {
     "name": "stderr",
     "output_type": "stream",
     "text": [
      "2021-11-06 13:25:33,261 [WARNING] Optimization warning (l_bfgs_b): b'ABNORMAL_TERMINATION_IN_LNSRCH'\n"
     ]
    },
    {
     "name": "stdout",
     "output_type": "stream",
     "text": [
      "[=====================                                                                               ]  22% (13817/64224; ~24m until finished)"
     ]
    },
    {
     "name": "stderr",
     "output_type": "stream",
     "text": [
      "2021-11-06 13:25:33,399 [WARNING] Optimization warning (l_bfgs_b): b'ABNORMAL_TERMINATION_IN_LNSRCH'\n"
     ]
    },
    {
     "name": "stdout",
     "output_type": "stream",
     "text": [
      "[=====================                                                                               ]  22% (13819/64224; ~24m until finished)"
     ]
    },
    {
     "name": "stderr",
     "output_type": "stream",
     "text": [
      "2021-11-06 13:25:33,519 [WARNING] Optimization warning (l_bfgs_b): b'ABNORMAL_TERMINATION_IN_LNSRCH'\n"
     ]
    },
    {
     "name": "stdout",
     "output_type": "stream",
     "text": [
      "[=====================                                                                               ]  22% (13821/64224; ~24m until finished)"
     ]
    },
    {
     "name": "stderr",
     "output_type": "stream",
     "text": [
      "2021-11-06 13:25:33,640 [WARNING] Optimization warning (l_bfgs_b): b'ABNORMAL_TERMINATION_IN_LNSRCH'\n"
     ]
    },
    {
     "name": "stdout",
     "output_type": "stream",
     "text": [
      "[=====================                                                                               ]  22% (13825/64224; ~24m until finished)"
     ]
    },
    {
     "name": "stderr",
     "output_type": "stream",
     "text": [
      "2021-11-06 13:25:33,792 [WARNING] Optimization warning (l_bfgs_b): b'ABNORMAL_TERMINATION_IN_LNSRCH'\n"
     ]
    },
    {
     "name": "stdout",
     "output_type": "stream",
     "text": [
      "[=====================                                                                               ]  22% (13828/64224; ~24m until finished)"
     ]
    },
    {
     "name": "stderr",
     "output_type": "stream",
     "text": [
      "2021-11-06 13:25:33,909 [WARNING] Optimization warning (l_bfgs_b): b'ABNORMAL_TERMINATION_IN_LNSRCH'\n"
     ]
    },
    {
     "name": "stdout",
     "output_type": "stream",
     "text": [
      "\r",
      "[=====================                                                                               ]  22% (13829/64224; ~24m until finished)"
     ]
    },
    {
     "name": "stderr",
     "output_type": "stream",
     "text": [
      "2021-11-06 13:25:34,026 [WARNING] Optimization warning (l_bfgs_b): b'ABNORMAL_TERMINATION_IN_LNSRCH'\n"
     ]
    },
    {
     "name": "stdout",
     "output_type": "stream",
     "text": [
      "[=====================                                                                               ]  22% (13831/64224; ~24m until finished)"
     ]
    },
    {
     "name": "stderr",
     "output_type": "stream",
     "text": [
      "2021-11-06 13:25:34,153 [WARNING] Optimization warning (l_bfgs_b): b'ABNORMAL_TERMINATION_IN_LNSRCH'\n"
     ]
    },
    {
     "name": "stdout",
     "output_type": "stream",
     "text": [
      "\r",
      "[=====================                                                                               ]  22% (13832/64224; ~24m until finished)"
     ]
    },
    {
     "name": "stderr",
     "output_type": "stream",
     "text": [
      "2021-11-06 13:25:34,248 [WARNING] Optimization warning (l_bfgs_b): b'ABNORMAL_TERMINATION_IN_LNSRCH'\n"
     ]
    },
    {
     "name": "stdout",
     "output_type": "stream",
     "text": [
      "\r",
      "[=====================                                                                               ]  22% (13833/64224; ~24m until finished)"
     ]
    },
    {
     "name": "stderr",
     "output_type": "stream",
     "text": [
      "2021-11-06 13:25:34,342 [WARNING] Optimization warning (l_bfgs_b): b'ABNORMAL_TERMINATION_IN_LNSRCH'\n"
     ]
    },
    {
     "name": "stdout",
     "output_type": "stream",
     "text": [
      "[=====================                                                                               ]  22% (13836/64224; ~24m until finished)"
     ]
    },
    {
     "name": "stderr",
     "output_type": "stream",
     "text": [
      "2021-11-06 13:25:34,466 [WARNING] Optimization warning (l_bfgs_b): b'ABNORMAL_TERMINATION_IN_LNSRCH'\n"
     ]
    },
    {
     "name": "stdout",
     "output_type": "stream",
     "text": [
      "\r",
      "[=====================                                                                               ]  22% (13837/64224; ~24m until finished)"
     ]
    },
    {
     "name": "stderr",
     "output_type": "stream",
     "text": [
      "2021-11-06 13:25:34,554 [WARNING] Optimization warning (l_bfgs_b): b'ABNORMAL_TERMINATION_IN_LNSRCH'\n"
     ]
    },
    {
     "name": "stdout",
     "output_type": "stream",
     "text": [
      "[=====================                                                                               ]  22% (13846/64224; ~24m until finished)"
     ]
    },
    {
     "name": "stderr",
     "output_type": "stream",
     "text": [
      "2021-11-06 13:25:34,770 [WARNING] Optimization warning (l_bfgs_b): b'ABNORMAL_TERMINATION_IN_LNSRCH'\n"
     ]
    },
    {
     "name": "stdout",
     "output_type": "stream",
     "text": [
      "[=====================                                                                               ]  22% (13849/64224; ~24m until finished)"
     ]
    },
    {
     "name": "stderr",
     "output_type": "stream",
     "text": [
      "2021-11-06 13:25:34,920 [WARNING] Optimization warning (l_bfgs_b): b'ABNORMAL_TERMINATION_IN_LNSRCH'\n"
     ]
    },
    {
     "name": "stdout",
     "output_type": "stream",
     "text": [
      "\r",
      "[=====================                                                                               ]  22% (13850/64224; ~24m until finished)"
     ]
    },
    {
     "name": "stderr",
     "output_type": "stream",
     "text": [
      "2021-11-06 13:25:35,018 [WARNING] Optimization warning (l_bfgs_b): b'ABNORMAL_TERMINATION_IN_LNSRCH'\n"
     ]
    },
    {
     "name": "stdout",
     "output_type": "stream",
     "text": [
      "[=====================                                                                               ]  22% (13864/64224; ~24m until finished)"
     ]
    },
    {
     "name": "stderr",
     "output_type": "stream",
     "text": [
      "2021-11-06 13:25:35,362 [WARNING] Optimization warning (l_bfgs_b): b'ABNORMAL_TERMINATION_IN_LNSRCH'\n"
     ]
    },
    {
     "name": "stdout",
     "output_type": "stream",
     "text": [
      "[=====================                                                                               ]  22% (13879/64224; ~24m until finished)"
     ]
    },
    {
     "name": "stderr",
     "output_type": "stream",
     "text": [
      "2021-11-06 13:25:35,725 [WARNING] Optimization warning (l_bfgs_b): b'ABNORMAL_TERMINATION_IN_LNSRCH'\n"
     ]
    },
    {
     "name": "stdout",
     "output_type": "stream",
     "text": [
      "[=====================                                                                               ]  22% (13887/64224; ~24m until finished)"
     ]
    },
    {
     "name": "stderr",
     "output_type": "stream",
     "text": [
      "2021-11-06 13:25:35,996 [WARNING] Optimization warning (l_bfgs_b): b'ABNORMAL_TERMINATION_IN_LNSRCH'\n"
     ]
    },
    {
     "name": "stdout",
     "output_type": "stream",
     "text": [
      "[=====================                                                                               ]  22% (13891/64224; ~24m until finished)"
     ]
    },
    {
     "name": "stderr",
     "output_type": "stream",
     "text": [
      "2021-11-06 13:25:36,192 [WARNING] Optimization warning (l_bfgs_b): b'ABNORMAL_TERMINATION_IN_LNSRCH'\n"
     ]
    },
    {
     "name": "stdout",
     "output_type": "stream",
     "text": [
      "[=====================                                                                               ]  22% (13929/64224; ~24m until finished)"
     ]
    },
    {
     "name": "stderr",
     "output_type": "stream",
     "text": [
      "2021-11-06 13:25:37,101 [WARNING] Optimization warning (l_bfgs_b): b'ABNORMAL_TERMINATION_IN_LNSRCH'\n"
     ]
    },
    {
     "name": "stdout",
     "output_type": "stream",
     "text": [
      "[=====================                                                                               ]  22% (13973/64224; ~24m until finished)"
     ]
    },
    {
     "name": "stderr",
     "output_type": "stream",
     "text": [
      "2021-11-06 13:25:38,136 [WARNING] Optimization warning (l_bfgs_b): b'ABNORMAL_TERMINATION_IN_LNSRCH'\n"
     ]
    },
    {
     "name": "stdout",
     "output_type": "stream",
     "text": [
      "[=====================                                                                               ]  22% (13978/64224; ~24m until finished)"
     ]
    },
    {
     "name": "stderr",
     "output_type": "stream",
     "text": [
      "2021-11-06 13:25:38,359 [WARNING] Optimization warning (l_bfgs_b): b'ABNORMAL_TERMINATION_IN_LNSRCH'\n"
     ]
    },
    {
     "name": "stdout",
     "output_type": "stream",
     "text": [
      "[=====================                                                                               ]  22% (13984/64224; ~24m until finished)"
     ]
    },
    {
     "name": "stderr",
     "output_type": "stream",
     "text": [
      "2021-11-06 13:25:38,576 [WARNING] Optimization warning (l_bfgs_b): b'ABNORMAL_TERMINATION_IN_LNSRCH'\n"
     ]
    },
    {
     "name": "stdout",
     "output_type": "stream",
     "text": [
      "[=====================                                                                               ]  22% (13991/64224; ~24m until finished)"
     ]
    },
    {
     "name": "stderr",
     "output_type": "stream",
     "text": [
      "2021-11-06 13:25:38,804 [WARNING] Optimization warning (l_bfgs_b): b'ABNORMAL_TERMINATION_IN_LNSRCH'\n"
     ]
    },
    {
     "name": "stdout",
     "output_type": "stream",
     "text": [
      "[=====================                                                                               ]  22% (13993/64224; ~24m until finished)"
     ]
    },
    {
     "name": "stderr",
     "output_type": "stream",
     "text": [
      "2021-11-06 13:25:38,962 [WARNING] Optimization warning (l_bfgs_b): b'ABNORMAL_TERMINATION_IN_LNSRCH'\n"
     ]
    },
    {
     "name": "stdout",
     "output_type": "stream",
     "text": [
      "[=====================                                                                               ]  22% (13995/64224; ~24m until finished)"
     ]
    },
    {
     "name": "stderr",
     "output_type": "stream",
     "text": [
      "2021-11-06 13:25:39,085 [WARNING] Optimization warning (l_bfgs_b): b'ABNORMAL_TERMINATION_IN_LNSRCH'\n"
     ]
    },
    {
     "name": "stdout",
     "output_type": "stream",
     "text": [
      "[=====================                                                                               ]  22% (13998/64224; ~24m until finished)"
     ]
    },
    {
     "name": "stderr",
     "output_type": "stream",
     "text": [
      "2021-11-06 13:25:39,252 [WARNING] Optimization warning (l_bfgs_b): b'ABNORMAL_TERMINATION_IN_LNSRCH'\n"
     ]
    },
    {
     "name": "stdout",
     "output_type": "stream",
     "text": [
      "[=====================                                                                               ]  22% (14007/64224; ~24m until finished)"
     ]
    },
    {
     "name": "stderr",
     "output_type": "stream",
     "text": [
      "2021-11-06 13:25:39,496 [WARNING] Optimization warning (l_bfgs_b): b'ABNORMAL_TERMINATION_IN_LNSRCH'\n"
     ]
    },
    {
     "name": "stdout",
     "output_type": "stream",
     "text": [
      "\r",
      "[=====================                                                                               ]  22% (14008/64224; ~24m until finished)"
     ]
    },
    {
     "name": "stderr",
     "output_type": "stream",
     "text": [
      "2021-11-06 13:25:39,587 [WARNING] Optimization warning (l_bfgs_b): b'ABNORMAL_TERMINATION_IN_LNSRCH'\n"
     ]
    },
    {
     "name": "stdout",
     "output_type": "stream",
     "text": [
      "\r",
      "[=====================                                                                               ]  22% (14009/64224; ~24m until finished)"
     ]
    },
    {
     "name": "stderr",
     "output_type": "stream",
     "text": [
      "2021-11-06 13:25:39,689 [WARNING] Optimization warning (l_bfgs_b): b'ABNORMAL_TERMINATION_IN_LNSRCH'\n"
     ]
    },
    {
     "name": "stdout",
     "output_type": "stream",
     "text": [
      "\r",
      "[=====================                                                                               ]  22% (14010/64224; ~24m until finished)"
     ]
    },
    {
     "name": "stderr",
     "output_type": "stream",
     "text": [
      "2021-11-06 13:25:39,783 [WARNING] Optimization warning (l_bfgs_b): b'ABNORMAL_TERMINATION_IN_LNSRCH'\n"
     ]
    },
    {
     "name": "stdout",
     "output_type": "stream",
     "text": [
      "[=====================                                                                               ]  22% (14013/64224; ~24m until finished)"
     ]
    },
    {
     "name": "stderr",
     "output_type": "stream",
     "text": [
      "2021-11-06 13:25:39,945 [WARNING] Optimization warning (l_bfgs_b): b'ABNORMAL_TERMINATION_IN_LNSRCH'\n"
     ]
    },
    {
     "name": "stdout",
     "output_type": "stream",
     "text": [
      "\r",
      "[=====================                                                                               ]  22% (14014/64224; ~24m until finished)"
     ]
    },
    {
     "name": "stderr",
     "output_type": "stream",
     "text": [
      "2021-11-06 13:25:40,068 [WARNING] Optimization warning (l_bfgs_b): b'ABNORMAL_TERMINATION_IN_LNSRCH'\n"
     ]
    },
    {
     "name": "stdout",
     "output_type": "stream",
     "text": [
      "[=====================                                                                               ]  22% (14019/64224; ~24m until finished)"
     ]
    },
    {
     "name": "stderr",
     "output_type": "stream",
     "text": [
      "2021-11-06 13:25:40,302 [WARNING] Optimization warning (l_bfgs_b): b'ABNORMAL_TERMINATION_IN_LNSRCH'\n"
     ]
    },
    {
     "name": "stdout",
     "output_type": "stream",
     "text": [
      "[=====================                                                                               ]  22% (14040/64224; ~24m until finished)"
     ]
    },
    {
     "name": "stderr",
     "output_type": "stream",
     "text": [
      "2021-11-06 13:25:40,878 [WARNING] Optimization warning (l_bfgs_b): b'ABNORMAL_TERMINATION_IN_LNSRCH'\n"
     ]
    },
    {
     "name": "stdout",
     "output_type": "stream",
     "text": [
      "[=====================                                                                               ]  22% (14082/64224; ~24m until finished)"
     ]
    },
    {
     "name": "stderr",
     "output_type": "stream",
     "text": [
      "2021-11-06 13:25:41,821 [WARNING] Optimization warning (l_bfgs_b): b'ABNORMAL_TERMINATION_IN_LNSRCH'\n"
     ]
    },
    {
     "name": "stdout",
     "output_type": "stream",
     "text": [
      "[=====================                                                                               ]  22% (14088/64224; ~24m until finished)"
     ]
    },
    {
     "name": "stderr",
     "output_type": "stream",
     "text": [
      "2021-11-06 13:25:42,056 [WARNING] Optimization warning (l_bfgs_b): b'ABNORMAL_TERMINATION_IN_LNSRCH'\n"
     ]
    },
    {
     "name": "stdout",
     "output_type": "stream",
     "text": [
      "[=====================                                                                               ]  22% (14092/64224; ~24m until finished)"
     ]
    },
    {
     "name": "stderr",
     "output_type": "stream",
     "text": [
      "2021-11-06 13:25:42,210 [WARNING] Optimization warning (l_bfgs_b): b'ABNORMAL_TERMINATION_IN_LNSRCH'\n"
     ]
    },
    {
     "name": "stdout",
     "output_type": "stream",
     "text": [
      "[=====================                                                                               ]  22% (14104/64224; ~24m until finished)"
     ]
    },
    {
     "name": "stderr",
     "output_type": "stream",
     "text": [
      "2021-11-06 13:25:42,630 [WARNING] Optimization warning (l_bfgs_b): b'ABNORMAL_TERMINATION_IN_LNSRCH'\n"
     ]
    },
    {
     "name": "stdout",
     "output_type": "stream",
     "text": [
      "[======================                                                                              ]  22% (14129/64224; ~24m until finished)"
     ]
    },
    {
     "name": "stderr",
     "output_type": "stream",
     "text": [
      "2021-11-06 13:25:43,289 [WARNING] Optimization warning (l_bfgs_b): b'ABNORMAL_TERMINATION_IN_LNSRCH'\n"
     ]
    },
    {
     "name": "stdout",
     "output_type": "stream",
     "text": [
      "[======================                                                                              ]  22% (14131/64224; ~24m until finished)"
     ]
    },
    {
     "name": "stderr",
     "output_type": "stream",
     "text": [
      "2021-11-06 13:25:43,389 [WARNING] Optimization warning (l_bfgs_b): b'ABNORMAL_TERMINATION_IN_LNSRCH'\n"
     ]
    },
    {
     "name": "stdout",
     "output_type": "stream",
     "text": [
      "\r",
      "[======================                                                                              ]  22% (14132/64224; ~24m until finished)"
     ]
    },
    {
     "name": "stderr",
     "output_type": "stream",
     "text": [
      "2021-11-06 13:25:43,473 [WARNING] Optimization warning (l_bfgs_b): b'ABNORMAL_TERMINATION_IN_LNSRCH'\n"
     ]
    },
    {
     "name": "stdout",
     "output_type": "stream",
     "text": [
      "[======================                                                                              ]  22% (14138/64224; ~24m until finished)"
     ]
    },
    {
     "name": "stderr",
     "output_type": "stream",
     "text": [
      "2021-11-06 13:25:43,651 [WARNING] Optimization warning (l_bfgs_b): b'ABNORMAL_TERMINATION_IN_LNSRCH'\n"
     ]
    },
    {
     "name": "stdout",
     "output_type": "stream",
     "text": [
      "[======================                                                                              ]  22% (14147/64224; ~24m until finished)"
     ]
    },
    {
     "name": "stderr",
     "output_type": "stream",
     "text": [
      "2021-11-06 13:25:43,909 [WARNING] Optimization warning (l_bfgs_b): b'ABNORMAL_TERMINATION_IN_LNSRCH'\n"
     ]
    },
    {
     "name": "stdout",
     "output_type": "stream",
     "text": [
      "[======================                                                                              ]  22% (14152/64224; ~24m until finished)"
     ]
    },
    {
     "name": "stderr",
     "output_type": "stream",
     "text": [
      "2021-11-06 13:25:44,132 [WARNING] Optimization warning (l_bfgs_b): b'ABNORMAL_TERMINATION_IN_LNSRCH'\n"
     ]
    },
    {
     "name": "stdout",
     "output_type": "stream",
     "text": [
      "[======================                                                                              ]  22% (14155/64224; ~24m until finished)"
     ]
    },
    {
     "name": "stderr",
     "output_type": "stream",
     "text": [
      "2021-11-06 13:25:44,299 [WARNING] Optimization warning (l_bfgs_b): b'ABNORMAL_TERMINATION_IN_LNSRCH'\n"
     ]
    },
    {
     "name": "stdout",
     "output_type": "stream",
     "text": [
      "[======================                                                                              ]  22% (14157/64224; ~24m until finished)"
     ]
    },
    {
     "name": "stderr",
     "output_type": "stream",
     "text": [
      "2021-11-06 13:25:44,466 [WARNING] Optimization warning (l_bfgs_b): b'ABNORMAL_TERMINATION_IN_LNSRCH'\n"
     ]
    },
    {
     "name": "stdout",
     "output_type": "stream",
     "text": [
      "[======================                                                                              ]  22% (14159/64224; ~24m until finished)"
     ]
    },
    {
     "name": "stderr",
     "output_type": "stream",
     "text": [
      "2021-11-06 13:25:44,614 [WARNING] Optimization warning (l_bfgs_b): b'ABNORMAL_TERMINATION_IN_LNSRCH'\n"
     ]
    },
    {
     "name": "stdout",
     "output_type": "stream",
     "text": [
      "[======================                                                                              ]  22% (14162/64224; ~24m until finished)"
     ]
    },
    {
     "name": "stderr",
     "output_type": "stream",
     "text": [
      "2021-11-06 13:25:44,785 [WARNING] Optimization warning (l_bfgs_b): b'ABNORMAL_TERMINATION_IN_LNSRCH'\n"
     ]
    },
    {
     "name": "stdout",
     "output_type": "stream",
     "text": [
      "[======================                                                                              ]  22% (14164/64224; ~24m until finished)"
     ]
    },
    {
     "name": "stderr",
     "output_type": "stream",
     "text": [
      "2021-11-06 13:25:44,914 [WARNING] Optimization warning (l_bfgs_b): b'ABNORMAL_TERMINATION_IN_LNSRCH'\n"
     ]
    },
    {
     "name": "stdout",
     "output_type": "stream",
     "text": [
      "[======================                                                                              ]  22% (14172/64224; ~24m until finished)"
     ]
    },
    {
     "name": "stderr",
     "output_type": "stream",
     "text": [
      "2021-11-06 13:25:45,162 [WARNING] Optimization warning (l_bfgs_b): b'ABNORMAL_TERMINATION_IN_LNSRCH'\n"
     ]
    },
    {
     "name": "stdout",
     "output_type": "stream",
     "text": [
      "[======================                                                                              ]  22% (14174/64224; ~24m until finished)"
     ]
    },
    {
     "name": "stderr",
     "output_type": "stream",
     "text": [
      "2021-11-06 13:25:45,287 [WARNING] Optimization warning (l_bfgs_b): b'ABNORMAL_TERMINATION_IN_LNSRCH'\n"
     ]
    },
    {
     "name": "stdout",
     "output_type": "stream",
     "text": [
      "[======================                                                                              ]  22% (14176/64224; ~24m until finished)"
     ]
    },
    {
     "name": "stderr",
     "output_type": "stream",
     "text": [
      "2021-11-06 13:25:45,409 [WARNING] Optimization warning (l_bfgs_b): b'ABNORMAL_TERMINATION_IN_LNSRCH'\n"
     ]
    },
    {
     "name": "stdout",
     "output_type": "stream",
     "text": [
      "\r",
      "[======================                                                                              ]  22% (14177/64224; ~24m until finished)"
     ]
    },
    {
     "name": "stderr",
     "output_type": "stream",
     "text": [
      "2021-11-06 13:25:45,514 [WARNING] Optimization warning (l_bfgs_b): b'ABNORMAL_TERMINATION_IN_LNSRCH'\n"
     ]
    },
    {
     "name": "stdout",
     "output_type": "stream",
     "text": [
      "[======================                                                                              ]  22% (14179/64224; ~24m until finished)"
     ]
    },
    {
     "name": "stderr",
     "output_type": "stream",
     "text": [
      "2021-11-06 13:25:45,618 [WARNING] Optimization warning (l_bfgs_b): b'ABNORMAL_TERMINATION_IN_LNSRCH'\n"
     ]
    },
    {
     "name": "stdout",
     "output_type": "stream",
     "text": [
      "[======================                                                                              ]  22% (14185/64224; ~24m until finished)"
     ]
    },
    {
     "name": "stderr",
     "output_type": "stream",
     "text": [
      "2021-11-06 13:25:45,810 [WARNING] Optimization warning (l_bfgs_b): b'ABNORMAL_TERMINATION_IN_LNSRCH'\n"
     ]
    },
    {
     "name": "stdout",
     "output_type": "stream",
     "text": [
      "[======================                                                                              ]  22% (14191/64224; ~24m until finished)"
     ]
    },
    {
     "name": "stderr",
     "output_type": "stream",
     "text": [
      "2021-11-06 13:25:46,005 [WARNING] Optimization warning (l_bfgs_b): b'ABNORMAL_TERMINATION_IN_LNSRCH'\n"
     ]
    },
    {
     "name": "stdout",
     "output_type": "stream",
     "text": [
      "[======================                                                                              ]  22% (14193/64224; ~24m until finished)"
     ]
    },
    {
     "name": "stderr",
     "output_type": "stream",
     "text": [
      "2021-11-06 13:25:46,129 [WARNING] Optimization warning (l_bfgs_b): b'ABNORMAL_TERMINATION_IN_LNSRCH'\n"
     ]
    },
    {
     "name": "stdout",
     "output_type": "stream",
     "text": [
      "\r",
      "[======================                                                                              ]  22% (14194/64224; ~24m until finished)"
     ]
    },
    {
     "name": "stderr",
     "output_type": "stream",
     "text": [
      "2021-11-06 13:25:46,224 [WARNING] Optimization warning (l_bfgs_b): b'ABNORMAL_TERMINATION_IN_LNSRCH'\n"
     ]
    },
    {
     "name": "stdout",
     "output_type": "stream",
     "text": [
      "[======================                                                                              ]  22% (14203/64224; ~24m until finished)"
     ]
    },
    {
     "name": "stderr",
     "output_type": "stream",
     "text": [
      "2021-11-06 13:25:46,452 [WARNING] Optimization warning (l_bfgs_b): b'ABNORMAL_TERMINATION_IN_LNSRCH'\n"
     ]
    },
    {
     "name": "stdout",
     "output_type": "stream",
     "text": [
      "\r",
      "[======================                                                                              ]  22% (14204/64224; ~24m until finished)"
     ]
    },
    {
     "name": "stderr",
     "output_type": "stream",
     "text": [
      "2021-11-06 13:25:46,567 [WARNING] Optimization warning (l_bfgs_b): b'ABNORMAL_TERMINATION_IN_LNSRCH'\n"
     ]
    },
    {
     "name": "stdout",
     "output_type": "stream",
     "text": [
      "[======================                                                                              ]  22% (14215/64224; ~24m until finished)"
     ]
    },
    {
     "name": "stderr",
     "output_type": "stream",
     "text": [
      "2021-11-06 13:25:46,895 [WARNING] Optimization warning (l_bfgs_b): b'ABNORMAL_TERMINATION_IN_LNSRCH'\n"
     ]
    },
    {
     "name": "stdout",
     "output_type": "stream",
     "text": [
      "\r",
      "[======================                                                                              ]  22% (14216/64224; ~24m until finished)"
     ]
    },
    {
     "name": "stderr",
     "output_type": "stream",
     "text": [
      "2021-11-06 13:25:47,015 [WARNING] Optimization warning (l_bfgs_b): b'ABNORMAL_TERMINATION_IN_LNSRCH'\n"
     ]
    },
    {
     "name": "stdout",
     "output_type": "stream",
     "text": [
      "[======================                                                                              ]  22% (14221/64224; ~24m until finished)"
     ]
    },
    {
     "name": "stderr",
     "output_type": "stream",
     "text": [
      "2021-11-06 13:25:47,223 [WARNING] Optimization warning (l_bfgs_b): b'ABNORMAL_TERMINATION_IN_LNSRCH'\n"
     ]
    },
    {
     "name": "stdout",
     "output_type": "stream",
     "text": [
      "[======================                                                                              ]  22% (14231/64224; ~24m until finished)"
     ]
    },
    {
     "name": "stderr",
     "output_type": "stream",
     "text": [
      "2021-11-06 13:25:47,507 [WARNING] Optimization warning (l_bfgs_b): b'ABNORMAL_TERMINATION_IN_LNSRCH'\n"
     ]
    },
    {
     "name": "stdout",
     "output_type": "stream",
     "text": [
      "[======================                                                                              ]  22% (14245/64224; ~24m until finished)"
     ]
    },
    {
     "name": "stderr",
     "output_type": "stream",
     "text": [
      "2021-11-06 13:25:47,915 [WARNING] Optimization warning (l_bfgs_b): b'ABNORMAL_TERMINATION_IN_LNSRCH'\n"
     ]
    },
    {
     "name": "stdout",
     "output_type": "stream",
     "text": [
      "\r",
      "[======================                                                                              ]  22% (14246/64224; ~24m until finished)"
     ]
    },
    {
     "name": "stderr",
     "output_type": "stream",
     "text": [
      "2021-11-06 13:25:48,049 [WARNING] Optimization warning (l_bfgs_b): b'ABNORMAL_TERMINATION_IN_LNSRCH'\n"
     ]
    },
    {
     "name": "stdout",
     "output_type": "stream",
     "text": [
      "\r",
      "[======================                                                                              ]  22% (14247/64224; ~24m until finished)"
     ]
    },
    {
     "name": "stderr",
     "output_type": "stream",
     "text": [
      "2021-11-06 13:25:48,177 [WARNING] Optimization warning (l_bfgs_b): b'ABNORMAL_TERMINATION_IN_LNSRCH'\n"
     ]
    },
    {
     "name": "stdout",
     "output_type": "stream",
     "text": [
      "[======================                                                                              ]  22% (14251/64224; ~24m until finished)"
     ]
    },
    {
     "name": "stderr",
     "output_type": "stream",
     "text": [
      "2021-11-06 13:25:48,377 [WARNING] Optimization warning (l_bfgs_b): b'ABNORMAL_TERMINATION_IN_LNSRCH'\n"
     ]
    },
    {
     "name": "stdout",
     "output_type": "stream",
     "text": [
      "[======================                                                                              ]  22% (14270/64224; ~24m until finished)"
     ]
    },
    {
     "name": "stderr",
     "output_type": "stream",
     "text": [
      "2021-11-06 13:25:48,993 [WARNING] Optimization warning (l_bfgs_b): b'ABNORMAL_TERMINATION_IN_LNSRCH'\n"
     ]
    },
    {
     "name": "stdout",
     "output_type": "stream",
     "text": [
      "[======================                                                                              ]  22% (14279/64224; ~24m until finished)"
     ]
    },
    {
     "name": "stderr",
     "output_type": "stream",
     "text": [
      "2021-11-06 13:25:49,332 [WARNING] Optimization warning (l_bfgs_b): b'ABNORMAL_TERMINATION_IN_LNSRCH'\n"
     ]
    },
    {
     "name": "stdout",
     "output_type": "stream",
     "text": [
      "[======================                                                                              ]  22% (14281/64224; ~24m until finished)"
     ]
    },
    {
     "name": "stderr",
     "output_type": "stream",
     "text": [
      "2021-11-06 13:25:49,539 [WARNING] Optimization warning (l_bfgs_b): b'ABNORMAL_TERMINATION_IN_LNSRCH'\n"
     ]
    },
    {
     "name": "stdout",
     "output_type": "stream",
     "text": [
      "[======================                                                                              ]  22% (14292/64224; ~24m until finished)"
     ]
    },
    {
     "name": "stderr",
     "output_type": "stream",
     "text": [
      "2021-11-06 13:25:49,963 [WARNING] Optimization warning (l_bfgs_b): b'ABNORMAL_TERMINATION_IN_LNSRCH'\n"
     ]
    },
    {
     "name": "stdout",
     "output_type": "stream",
     "text": [
      "[======================                                                                              ]  22% (14297/64224; ~24m until finished)"
     ]
    },
    {
     "name": "stderr",
     "output_type": "stream",
     "text": [
      "2021-11-06 13:25:50,155 [WARNING] Optimization warning (l_bfgs_b): b'ABNORMAL_TERMINATION_IN_LNSRCH'\n"
     ]
    },
    {
     "name": "stdout",
     "output_type": "stream",
     "text": [
      "[======================                                                                              ]  22% (14299/64224; ~24m until finished)"
     ]
    },
    {
     "name": "stderr",
     "output_type": "stream",
     "text": [
      "2021-11-06 13:25:50,321 [WARNING] Optimization warning (l_bfgs_b): b'ABNORMAL_TERMINATION_IN_LNSRCH'\n"
     ]
    },
    {
     "name": "stdout",
     "output_type": "stream",
     "text": [
      "[======================                                                                              ]  22% (14301/64224; ~24m until finished)"
     ]
    },
    {
     "name": "stderr",
     "output_type": "stream",
     "text": [
      "2021-11-06 13:25:50,426 [WARNING] Optimization warning (l_bfgs_b): b'ABNORMAL_TERMINATION_IN_LNSRCH'\n"
     ]
    },
    {
     "name": "stdout",
     "output_type": "stream",
     "text": [
      "[======================                                                                              ]  22% (14310/64224; ~24m until finished)"
     ]
    },
    {
     "name": "stderr",
     "output_type": "stream",
     "text": [
      "2021-11-06 13:25:50,634 [WARNING] Optimization warning (l_bfgs_b): b'ABNORMAL_TERMINATION_IN_LNSRCH'\n"
     ]
    },
    {
     "name": "stdout",
     "output_type": "stream",
     "text": [
      "[======================                                                                              ]  22% (14333/64224; ~24m until finished)"
     ]
    },
    {
     "name": "stderr",
     "output_type": "stream",
     "text": [
      "2021-11-06 13:25:51,282 [WARNING] Optimization warning (l_bfgs_b): b'ABNORMAL_TERMINATION_IN_LNSRCH'\n"
     ]
    },
    {
     "name": "stdout",
     "output_type": "stream",
     "text": [
      "[======================                                                                              ]  22% (14336/64224; ~24m until finished)"
     ]
    },
    {
     "name": "stderr",
     "output_type": "stream",
     "text": [
      "2021-11-06 13:25:51,391 [WARNING] Optimization warning (l_bfgs_b): b'ABNORMAL_TERMINATION_IN_LNSRCH'\n"
     ]
    },
    {
     "name": "stdout",
     "output_type": "stream",
     "text": [
      "[======================                                                                              ]  22% (14341/64224; ~24m until finished)"
     ]
    },
    {
     "name": "stderr",
     "output_type": "stream",
     "text": [
      "2021-11-06 13:25:51,529 [WARNING] Optimization warning (l_bfgs_b): b'ABNORMAL_TERMINATION_IN_LNSRCH'\n"
     ]
    },
    {
     "name": "stdout",
     "output_type": "stream",
     "text": [
      "[======================                                                                              ]  22% (14344/64224; ~24m until finished)"
     ]
    },
    {
     "name": "stderr",
     "output_type": "stream",
     "text": [
      "2021-11-06 13:25:51,652 [WARNING] Optimization warning (l_bfgs_b): b'ABNORMAL_TERMINATION_IN_LNSRCH'\n"
     ]
    },
    {
     "name": "stdout",
     "output_type": "stream",
     "text": [
      "\r",
      "[======================                                                                              ]  22% (14345/64224; ~24m until finished)"
     ]
    },
    {
     "name": "stderr",
     "output_type": "stream",
     "text": [
      "2021-11-06 13:25:51,764 [WARNING] Optimization warning (l_bfgs_b): b'ABNORMAL_TERMINATION_IN_LNSRCH'\n"
     ]
    },
    {
     "name": "stdout",
     "output_type": "stream",
     "text": [
      "\r",
      "[======================                                                                              ]  22% (14346/64224; ~24m until finished)"
     ]
    },
    {
     "name": "stderr",
     "output_type": "stream",
     "text": [
      "2021-11-06 13:25:51,857 [WARNING] Optimization warning (l_bfgs_b): b'ABNORMAL_TERMINATION_IN_LNSRCH'\n"
     ]
    },
    {
     "name": "stdout",
     "output_type": "stream",
     "text": [
      "[======================                                                                              ]  22% (14351/64224; ~24m until finished)"
     ]
    },
    {
     "name": "stderr",
     "output_type": "stream",
     "text": [
      "2021-11-06 13:25:52,000 [WARNING] Optimization warning (l_bfgs_b): b'ABNORMAL_TERMINATION_IN_LNSRCH'\n"
     ]
    },
    {
     "name": "stdout",
     "output_type": "stream",
     "text": [
      "[======================                                                                              ]  22% (14354/64224; ~24m until finished)"
     ]
    },
    {
     "name": "stderr",
     "output_type": "stream",
     "text": [
      "2021-11-06 13:25:52,114 [WARNING] Optimization warning (l_bfgs_b): b'ABNORMAL_TERMINATION_IN_LNSRCH'\n"
     ]
    },
    {
     "name": "stdout",
     "output_type": "stream",
     "text": [
      "\r",
      "[======================                                                                              ]  22% (14355/64224; ~24m until finished)"
     ]
    },
    {
     "name": "stderr",
     "output_type": "stream",
     "text": [
      "2021-11-06 13:25:52,223 [WARNING] Optimization warning (l_bfgs_b): b'ABNORMAL_TERMINATION_IN_LNSRCH'\n"
     ]
    },
    {
     "name": "stdout",
     "output_type": "stream",
     "text": [
      "[======================                                                                              ]  22% (14357/64224; ~24m until finished)"
     ]
    },
    {
     "name": "stderr",
     "output_type": "stream",
     "text": [
      "2021-11-06 13:25:52,380 [WARNING] Optimization warning (l_bfgs_b): b'ABNORMAL_TERMINATION_IN_LNSRCH'\n"
     ]
    },
    {
     "name": "stdout",
     "output_type": "stream",
     "text": [
      "[======================                                                                              ]  22% (14359/64224; ~24m until finished)"
     ]
    },
    {
     "name": "stderr",
     "output_type": "stream",
     "text": [
      "2021-11-06 13:25:52,519 [WARNING] Optimization warning (l_bfgs_b): b'ABNORMAL_TERMINATION_IN_LNSRCH'\n"
     ]
    },
    {
     "name": "stdout",
     "output_type": "stream",
     "text": [
      "[======================                                                                              ]  22% (14362/64224; ~24m until finished)"
     ]
    },
    {
     "name": "stderr",
     "output_type": "stream",
     "text": [
      "2021-11-06 13:25:52,681 [WARNING] Optimization warning (l_bfgs_b): b'ABNORMAL_TERMINATION_IN_LNSRCH'\n"
     ]
    },
    {
     "name": "stdout",
     "output_type": "stream",
     "text": [
      "[======================                                                                              ]  22% (14371/64224; ~24m until finished)"
     ]
    },
    {
     "name": "stderr",
     "output_type": "stream",
     "text": [
      "2021-11-06 13:25:52,945 [WARNING] Optimization warning (l_bfgs_b): b'ABNORMAL_TERMINATION_IN_LNSRCH'\n"
     ]
    },
    {
     "name": "stdout",
     "output_type": "stream",
     "text": [
      "[======================                                                                              ]  22% (14377/64224; ~24m until finished)"
     ]
    },
    {
     "name": "stderr",
     "output_type": "stream",
     "text": [
      "2021-11-06 13:25:53,128 [WARNING] Optimization warning (l_bfgs_b): b'ABNORMAL_TERMINATION_IN_LNSRCH'\n"
     ]
    },
    {
     "name": "stdout",
     "output_type": "stream",
     "text": [
      "[======================                                                                              ]  22% (14381/64224; ~24m until finished)"
     ]
    },
    {
     "name": "stderr",
     "output_type": "stream",
     "text": [
      "2021-11-06 13:25:53,311 [WARNING] Optimization warning (l_bfgs_b): b'ABNORMAL_TERMINATION_IN_LNSRCH'\n"
     ]
    },
    {
     "name": "stdout",
     "output_type": "stream",
     "text": [
      "[======================                                                                              ]  22% (14386/64224; ~24m until finished)"
     ]
    },
    {
     "name": "stderr",
     "output_type": "stream",
     "text": [
      "2021-11-06 13:25:53,513 [WARNING] Optimization warning (l_bfgs_b): b'ABNORMAL_TERMINATION_IN_LNSRCH'\n"
     ]
    },
    {
     "name": "stdout",
     "output_type": "stream",
     "text": [
      "[======================                                                                              ]  22% (14390/64224; ~24m until finished)"
     ]
    },
    {
     "name": "stderr",
     "output_type": "stream",
     "text": [
      "2021-11-06 13:25:53,688 [WARNING] Optimization warning (l_bfgs_b): b'ABNORMAL_TERMINATION_IN_LNSRCH'\n"
     ]
    },
    {
     "name": "stdout",
     "output_type": "stream",
     "text": [
      "[======================                                                                              ]  22% (14411/64224; ~24m until finished)"
     ]
    },
    {
     "name": "stderr",
     "output_type": "stream",
     "text": [
      "2021-11-06 13:25:54,160 [WARNING] Optimization warning (l_bfgs_b): b'ABNORMAL_TERMINATION_IN_LNSRCH'\n"
     ]
    },
    {
     "name": "stdout",
     "output_type": "stream",
     "text": [
      "[======================                                                                              ]  22% (14417/64224; ~24m until finished)"
     ]
    },
    {
     "name": "stderr",
     "output_type": "stream",
     "text": [
      "2021-11-06 13:25:54,351 [WARNING] Optimization warning (l_bfgs_b): b'ABNORMAL_TERMINATION_IN_LNSRCH'\n"
     ]
    },
    {
     "name": "stdout",
     "output_type": "stream",
     "text": [
      "[======================                                                                              ]  22% (14420/64224; ~24m until finished)"
     ]
    },
    {
     "name": "stderr",
     "output_type": "stream",
     "text": [
      "2021-11-06 13:25:54,530 [WARNING] Optimization warning (l_bfgs_b): b'ABNORMAL_TERMINATION_IN_LNSRCH'\n"
     ]
    },
    {
     "name": "stdout",
     "output_type": "stream",
     "text": [
      "[======================                                                                              ]  22% (14422/64224; ~24m until finished)"
     ]
    },
    {
     "name": "stderr",
     "output_type": "stream",
     "text": [
      "2021-11-06 13:25:54,646 [WARNING] Optimization warning (l_bfgs_b): b'ABNORMAL_TERMINATION_IN_LNSRCH'\n"
     ]
    },
    {
     "name": "stdout",
     "output_type": "stream",
     "text": [
      "[======================                                                                              ]  22% (14431/64224; ~24m until finished)"
     ]
    },
    {
     "name": "stderr",
     "output_type": "stream",
     "text": [
      "2021-11-06 13:25:54,922 [WARNING] Optimization warning (l_bfgs_b): b'ABNORMAL_TERMINATION_IN_LNSRCH'\n"
     ]
    },
    {
     "name": "stdout",
     "output_type": "stream",
     "text": [
      "[======================                                                                              ]  22% (14434/64224; ~24m until finished)"
     ]
    },
    {
     "name": "stderr",
     "output_type": "stream",
     "text": [
      "2021-11-06 13:25:55,085 [WARNING] Optimization warning (l_bfgs_b): b'ABNORMAL_TERMINATION_IN_LNSRCH'\n"
     ]
    },
    {
     "name": "stdout",
     "output_type": "stream",
     "text": [
      "\r",
      "[======================                                                                              ]  22% (14435/64224; ~24m until finished)"
     ]
    },
    {
     "name": "stderr",
     "output_type": "stream",
     "text": [
      "2021-11-06 13:25:55,170 [WARNING] Optimization warning (l_bfgs_b): b'ABNORMAL_TERMINATION_IN_LNSRCH'\n"
     ]
    },
    {
     "name": "stdout",
     "output_type": "stream",
     "text": [
      "\r",
      "[======================                                                                              ]  22% (14436/64224; ~24m until finished)"
     ]
    },
    {
     "name": "stderr",
     "output_type": "stream",
     "text": [
      "2021-11-06 13:25:55,244 [WARNING] Optimization warning (l_bfgs_b): b'ABNORMAL_TERMINATION_IN_LNSRCH'\n"
     ]
    },
    {
     "name": "stdout",
     "output_type": "stream",
     "text": [
      "\r",
      "[======================                                                                              ]  22% (14437/64224; ~24m until finished)"
     ]
    },
    {
     "name": "stderr",
     "output_type": "stream",
     "text": [
      "2021-11-06 13:25:55,311 [WARNING] Optimization warning (l_bfgs_b): b'ABNORMAL_TERMINATION_IN_LNSRCH'\n"
     ]
    },
    {
     "name": "stdout",
     "output_type": "stream",
     "text": [
      "\r",
      "[======================                                                                              ]  22% (14438/64224; ~24m until finished)"
     ]
    },
    {
     "name": "stderr",
     "output_type": "stream",
     "text": [
      "2021-11-06 13:25:55,380 [WARNING] Optimization warning (l_bfgs_b): b'ABNORMAL_TERMINATION_IN_LNSRCH'\n"
     ]
    },
    {
     "name": "stdout",
     "output_type": "stream",
     "text": [
      "[======================                                                                              ]  23% (14453/64224; ~24m until finished)"
     ]
    },
    {
     "name": "stderr",
     "output_type": "stream",
     "text": [
      "2021-11-06 13:25:55,700 [WARNING] Optimization warning (l_bfgs_b): b'ABNORMAL_TERMINATION_IN_LNSRCH'\n"
     ]
    },
    {
     "name": "stdout",
     "output_type": "stream",
     "text": [
      "\r",
      "[======================                                                                              ]  23% (14454/64224; ~24m until finished)"
     ]
    },
    {
     "name": "stderr",
     "output_type": "stream",
     "text": [
      "2021-11-06 13:25:55,814 [WARNING] Optimization warning (l_bfgs_b): b'ABNORMAL_TERMINATION_IN_LNSRCH'\n"
     ]
    },
    {
     "name": "stdout",
     "output_type": "stream",
     "text": [
      "[======================                                                                              ]  23% (14483/64224; ~24m until finished)"
     ]
    },
    {
     "name": "stderr",
     "output_type": "stream",
     "text": [
      "2021-11-06 13:25:56,544 [WARNING] Optimization warning (l_bfgs_b): b'ABNORMAL_TERMINATION_IN_LNSRCH'\n"
     ]
    },
    {
     "name": "stdout",
     "output_type": "stream",
     "text": [
      "[======================                                                                              ]  23% (14530/64224; ~24m until finished)"
     ]
    },
    {
     "name": "stderr",
     "output_type": "stream",
     "text": [
      "2021-11-06 13:25:57,982 [WARNING] Optimization warning (l_bfgs_b): b'ABNORMAL_TERMINATION_IN_LNSRCH'\n"
     ]
    },
    {
     "name": "stdout",
     "output_type": "stream",
     "text": [
      "[======================                                                                              ]  23% (14536/64224; ~24m until finished)"
     ]
    },
    {
     "name": "stderr",
     "output_type": "stream",
     "text": [
      "2021-11-06 13:25:58,292 [WARNING] Optimization warning (l_bfgs_b): b'ABNORMAL_TERMINATION_IN_LNSRCH'\n"
     ]
    },
    {
     "name": "stdout",
     "output_type": "stream",
     "text": [
      "[======================                                                                              ]  23% (14592/64224; ~24m until finished)"
     ]
    },
    {
     "name": "stderr",
     "output_type": "stream",
     "text": [
      "2021-11-06 13:25:59,836 [WARNING] Optimization warning (l_bfgs_b): b'ABNORMAL_TERMINATION_IN_LNSRCH'\n"
     ]
    },
    {
     "name": "stdout",
     "output_type": "stream",
     "text": [
      "[======================                                                                              ]  23% (14594/64224; ~24m until finished)"
     ]
    },
    {
     "name": "stderr",
     "output_type": "stream",
     "text": [
      "2021-11-06 13:26:00,000 [WARNING] Optimization warning (l_bfgs_b): b'ABNORMAL_TERMINATION_IN_LNSRCH'\n"
     ]
    },
    {
     "name": "stdout",
     "output_type": "stream",
     "text": [
      "[======================                                                                              ]  23% (14598/64224; ~24m until finished)"
     ]
    },
    {
     "name": "stderr",
     "output_type": "stream",
     "text": [
      "2021-11-06 13:26:00,249 [WARNING] Optimization warning (l_bfgs_b): b'ABNORMAL_TERMINATION_IN_LNSRCH'\n"
     ]
    },
    {
     "name": "stdout",
     "output_type": "stream",
     "text": [
      "\r",
      "[======================                                                                              ]  23% (14599/64224; ~24m until finished)"
     ]
    },
    {
     "name": "stderr",
     "output_type": "stream",
     "text": [
      "2021-11-06 13:26:00,361 [WARNING] Optimization warning (l_bfgs_b): b'ABNORMAL_TERMINATION_IN_LNSRCH'\n"
     ]
    },
    {
     "name": "stdout",
     "output_type": "stream",
     "text": [
      "[======================                                                                              ]  23% (14640/64224; ~24m until finished)"
     ]
    },
    {
     "name": "stderr",
     "output_type": "stream",
     "text": [
      "2021-11-06 13:26:01,456 [WARNING] Optimization warning (l_bfgs_b): b'ABNORMAL_TERMINATION_IN_LNSRCH'\n"
     ]
    },
    {
     "name": "stdout",
     "output_type": "stream",
     "text": [
      "[======================                                                                              ]  23% (14647/64224; ~24m until finished)"
     ]
    },
    {
     "name": "stderr",
     "output_type": "stream",
     "text": [
      "2021-11-06 13:26:01,739 [WARNING] Optimization warning (l_bfgs_b): b'ABNORMAL_TERMINATION_IN_LNSRCH'\n"
     ]
    },
    {
     "name": "stdout",
     "output_type": "stream",
     "text": [
      "[======================                                                                              ]  23% (14653/64224; ~24m until finished)"
     ]
    },
    {
     "name": "stderr",
     "output_type": "stream",
     "text": [
      "2021-11-06 13:26:02,020 [WARNING] Optimization warning (l_bfgs_b): b'ABNORMAL_TERMINATION_IN_LNSRCH'\n"
     ]
    },
    {
     "name": "stdout",
     "output_type": "stream",
     "text": [
      "\r",
      "[======================                                                                              ]  23% (14654/64224; ~24m until finished)"
     ]
    },
    {
     "name": "stderr",
     "output_type": "stream",
     "text": [
      "2021-11-06 13:26:02,240 [WARNING] Optimization warning (l_bfgs_b): b'ABNORMAL_TERMINATION_IN_LNSRCH'\n"
     ]
    },
    {
     "name": "stdout",
     "output_type": "stream",
     "text": [
      "[======================                                                                              ]  23% (14656/64224; ~24m until finished)"
     ]
    },
    {
     "name": "stderr",
     "output_type": "stream",
     "text": [
      "2021-11-06 13:26:02,409 [WARNING] Optimization warning (l_bfgs_b): b'ABNORMAL_TERMINATION_IN_LNSRCH'\n"
     ]
    },
    {
     "name": "stdout",
     "output_type": "stream",
     "text": [
      "\r",
      "[======================                                                                              ]  23% (14657/64224; ~24m until finished)"
     ]
    },
    {
     "name": "stderr",
     "output_type": "stream",
     "text": [
      "2021-11-06 13:26:02,543 [WARNING] Optimization warning (l_bfgs_b): b'ABNORMAL_TERMINATION_IN_LNSRCH'\n"
     ]
    },
    {
     "name": "stdout",
     "output_type": "stream",
     "text": [
      "[======================                                                                              ]  23% (14664/64224; ~24m until finished)"
     ]
    },
    {
     "name": "stderr",
     "output_type": "stream",
     "text": [
      "2021-11-06 13:26:02,886 [WARNING] Optimization warning (l_bfgs_b): b'ABNORMAL_TERMINATION_IN_LNSRCH'\n"
     ]
    },
    {
     "name": "stdout",
     "output_type": "stream",
     "text": [
      "[======================                                                                              ]  23% (14669/64224; ~24m until finished)"
     ]
    },
    {
     "name": "stderr",
     "output_type": "stream",
     "text": [
      "2021-11-06 13:26:03,107 [WARNING] Optimization warning (l_bfgs_b): b'ABNORMAL_TERMINATION_IN_LNSRCH'\n"
     ]
    },
    {
     "name": "stdout",
     "output_type": "stream",
     "text": [
      "[======================                                                                              ]  23% (14674/64224; ~24m until finished)"
     ]
    },
    {
     "name": "stderr",
     "output_type": "stream",
     "text": [
      "2021-11-06 13:26:03,351 [WARNING] Optimization warning (l_bfgs_b): b'ABNORMAL_TERMINATION_IN_LNSRCH'\n"
     ]
    },
    {
     "name": "stdout",
     "output_type": "stream",
     "text": [
      "\r",
      "[======================                                                                              ]  23% (14675/64224; ~24m until finished)"
     ]
    },
    {
     "name": "stderr",
     "output_type": "stream",
     "text": [
      "2021-11-06 13:26:03,469 [WARNING] Optimization warning (l_bfgs_b): b'ABNORMAL_TERMINATION_IN_LNSRCH'\n"
     ]
    },
    {
     "name": "stdout",
     "output_type": "stream",
     "text": [
      "[======================                                                                              ]  23% (14682/64224; ~24m until finished)"
     ]
    },
    {
     "name": "stderr",
     "output_type": "stream",
     "text": [
      "2021-11-06 13:26:03,740 [WARNING] Optimization warning (l_bfgs_b): b'ABNORMAL_TERMINATION_IN_LNSRCH'\n"
     ]
    },
    {
     "name": "stdout",
     "output_type": "stream",
     "text": [
      "[======================                                                                              ]  23% (14685/64224; ~24m until finished)"
     ]
    },
    {
     "name": "stderr",
     "output_type": "stream",
     "text": [
      "2021-11-06 13:26:03,935 [WARNING] Optimization warning (l_bfgs_b): b'ABNORMAL_TERMINATION_IN_LNSRCH'\n"
     ]
    },
    {
     "name": "stdout",
     "output_type": "stream",
     "text": [
      "[======================                                                                              ]  23% (14689/64224; ~24m until finished)"
     ]
    },
    {
     "name": "stderr",
     "output_type": "stream",
     "text": [
      "2021-11-06 13:26:04,173 [WARNING] Optimization warning (l_bfgs_b): b'ABNORMAL_TERMINATION_IN_LNSRCH'\n"
     ]
    },
    {
     "name": "stdout",
     "output_type": "stream",
     "text": [
      "[======================                                                                              ]  23% (14691/64224; ~24m until finished)"
     ]
    },
    {
     "name": "stderr",
     "output_type": "stream",
     "text": [
      "2021-11-06 13:26:04,339 [WARNING] Optimization warning (l_bfgs_b): b'ABNORMAL_TERMINATION_IN_LNSRCH'\n"
     ]
    },
    {
     "name": "stdout",
     "output_type": "stream",
     "text": [
      "[======================                                                                              ]  23% (14716/64224; ~24m until finished)"
     ]
    },
    {
     "name": "stderr",
     "output_type": "stream",
     "text": [
      "2021-11-06 13:26:05,087 [WARNING] Optimization warning (l_bfgs_b): b'ABNORMAL_TERMINATION_IN_LNSRCH'\n"
     ]
    },
    {
     "name": "stdout",
     "output_type": "stream",
     "text": [
      "[======================                                                                              ]  23% (14718/64224; ~24m until finished)"
     ]
    },
    {
     "name": "stderr",
     "output_type": "stream",
     "text": [
      "2021-11-06 13:26:05,309 [WARNING] Optimization warning (l_bfgs_b): b'ABNORMAL_TERMINATION_IN_LNSRCH'\n"
     ]
    },
    {
     "name": "stdout",
     "output_type": "stream",
     "text": [
      "[======================                                                                              ]  23% (14731/64224; ~24m until finished)"
     ]
    },
    {
     "name": "stderr",
     "output_type": "stream",
     "text": [
      "2021-11-06 13:26:05,819 [WARNING] Optimization warning (l_bfgs_b): b'ABNORMAL_TERMINATION_IN_LNSRCH'\n"
     ]
    },
    {
     "name": "stdout",
     "output_type": "stream",
     "text": [
      "\r",
      "[======================                                                                              ]  23% (14732/64224; ~24m until finished)"
     ]
    },
    {
     "name": "stderr",
     "output_type": "stream",
     "text": [
      "2021-11-06 13:26:06,038 [WARNING] Optimization warning (l_bfgs_b): b'ABNORMAL_TERMINATION_IN_LNSRCH'\n"
     ]
    },
    {
     "name": "stdout",
     "output_type": "stream",
     "text": [
      "[======================                                                                              ]  23% (14741/64224; ~24m until finished)"
     ]
    },
    {
     "name": "stderr",
     "output_type": "stream",
     "text": [
      "2021-11-06 13:26:06,392 [WARNING] Optimization warning (l_bfgs_b): b'ABNORMAL_TERMINATION_IN_LNSRCH'\n"
     ]
    },
    {
     "name": "stdout",
     "output_type": "stream",
     "text": [
      "[======================                                                                              ]  23% (14746/64224; ~24m until finished)"
     ]
    },
    {
     "name": "stderr",
     "output_type": "stream",
     "text": [
      "2021-11-06 13:26:06,643 [WARNING] Optimization warning (l_bfgs_b): b'ABNORMAL_TERMINATION_IN_LNSRCH'\n"
     ]
    },
    {
     "name": "stdout",
     "output_type": "stream",
     "text": [
      "\r",
      "[======================                                                                              ]  23% (14747/64224; ~24m until finished)"
     ]
    },
    {
     "name": "stderr",
     "output_type": "stream",
     "text": [
      "2021-11-06 13:26:06,779 [WARNING] Optimization warning (l_bfgs_b): b'ABNORMAL_TERMINATION_IN_LNSRCH'\n"
     ]
    },
    {
     "name": "stdout",
     "output_type": "stream",
     "text": [
      "[======================                                                                              ]  23% (14752/64224; ~24m until finished)"
     ]
    },
    {
     "name": "stderr",
     "output_type": "stream",
     "text": [
      "2021-11-06 13:26:06,994 [WARNING] Optimization warning (l_bfgs_b): b'ABNORMAL_TERMINATION_IN_LNSRCH'\n"
     ]
    },
    {
     "name": "stdout",
     "output_type": "stream",
     "text": [
      "[=======================                                                                             ]  23% (14789/64224; ~24m until finished)"
     ]
    },
    {
     "name": "stderr",
     "output_type": "stream",
     "text": [
      "2021-11-06 13:26:08,060 [WARNING] Optimization warning (l_bfgs_b): b'ABNORMAL_TERMINATION_IN_LNSRCH'\n"
     ]
    },
    {
     "name": "stdout",
     "output_type": "stream",
     "text": [
      "[=======================                                                                             ]  23% (14809/64224; ~24m until finished)"
     ]
    },
    {
     "name": "stderr",
     "output_type": "stream",
     "text": [
      "2021-11-06 13:26:08,644 [WARNING] Optimization warning (l_bfgs_b): b'ABNORMAL_TERMINATION_IN_LNSRCH'\n"
     ]
    },
    {
     "name": "stdout",
     "output_type": "stream",
     "text": [
      "[=======================                                                                             ]  23% (14826/64224; ~24m until finished)"
     ]
    },
    {
     "name": "stderr",
     "output_type": "stream",
     "text": [
      "2021-11-06 13:26:09,165 [WARNING] Optimization warning (l_bfgs_b): b'ABNORMAL_TERMINATION_IN_LNSRCH'\n"
     ]
    },
    {
     "name": "stdout",
     "output_type": "stream",
     "text": [
      "\r",
      "[=======================                                                                             ]  23% (14827/64224; ~24m until finished)"
     ]
    },
    {
     "name": "stderr",
     "output_type": "stream",
     "text": [
      "2021-11-06 13:26:09,300 [WARNING] Optimization warning (l_bfgs_b): b'ABNORMAL_TERMINATION_IN_LNSRCH'\n"
     ]
    },
    {
     "name": "stdout",
     "output_type": "stream",
     "text": [
      "[=======================                                                                             ]  23% (14829/64224; ~24m until finished)"
     ]
    },
    {
     "name": "stderr",
     "output_type": "stream",
     "text": [
      "2021-11-06 13:26:09,460 [WARNING] Optimization warning (l_bfgs_b): b'ABNORMAL_TERMINATION_IN_LNSRCH'\n"
     ]
    },
    {
     "name": "stdout",
     "output_type": "stream",
     "text": [
      "[=======================                                                                             ]  23% (14836/64224; ~24m until finished)"
     ]
    },
    {
     "name": "stderr",
     "output_type": "stream",
     "text": [
      "2021-11-06 13:26:09,716 [WARNING] Optimization warning (l_bfgs_b): b'ABNORMAL_TERMINATION_IN_LNSRCH'\n"
     ]
    },
    {
     "name": "stdout",
     "output_type": "stream",
     "text": [
      "[=======================                                                                             ]  23% (14844/64224; ~24m until finished)"
     ]
    },
    {
     "name": "stderr",
     "output_type": "stream",
     "text": [
      "2021-11-06 13:26:10,026 [WARNING] Optimization warning (l_bfgs_b): b'ABNORMAL_TERMINATION_IN_LNSRCH'\n"
     ]
    },
    {
     "name": "stdout",
     "output_type": "stream",
     "text": [
      "[=======================                                                                             ]  23% (14846/64224; ~24m until finished)"
     ]
    },
    {
     "name": "stderr",
     "output_type": "stream",
     "text": [
      "2021-11-06 13:26:10,200 [WARNING] Optimization warning (l_bfgs_b): b'ABNORMAL_TERMINATION_IN_LNSRCH'\n"
     ]
    },
    {
     "name": "stdout",
     "output_type": "stream",
     "text": [
      "[=======================                                                                             ]  23% (14849/64224; ~24m until finished)"
     ]
    },
    {
     "name": "stderr",
     "output_type": "stream",
     "text": [
      "2021-11-06 13:26:10,410 [WARNING] Optimization warning (l_bfgs_b): b'ABNORMAL_TERMINATION_IN_LNSRCH'\n"
     ]
    },
    {
     "name": "stdout",
     "output_type": "stream",
     "text": [
      "[=======================                                                                             ]  23% (14851/64224; ~24m until finished)"
     ]
    },
    {
     "name": "stderr",
     "output_type": "stream",
     "text": [
      "2021-11-06 13:26:10,581 [WARNING] Optimization warning (l_bfgs_b): b'ABNORMAL_TERMINATION_IN_LNSRCH'\n"
     ]
    },
    {
     "name": "stdout",
     "output_type": "stream",
     "text": [
      "[=======================                                                                             ]  23% (14860/64224; ~24m until finished)"
     ]
    },
    {
     "name": "stderr",
     "output_type": "stream",
     "text": [
      "2021-11-06 13:26:10,881 [WARNING] Optimization warning (l_bfgs_b): b'ABNORMAL_TERMINATION_IN_LNSRCH'\n"
     ]
    },
    {
     "name": "stdout",
     "output_type": "stream",
     "text": [
      "[=======================                                                                             ]  23% (14862/64224; ~24m until finished)"
     ]
    },
    {
     "name": "stderr",
     "output_type": "stream",
     "text": [
      "2021-11-06 13:26:10,992 [WARNING] Optimization warning (l_bfgs_b): b'ABNORMAL_TERMINATION_IN_LNSRCH'\n"
     ]
    },
    {
     "name": "stdout",
     "output_type": "stream",
     "text": [
      "[=======================                                                                             ]  23% (14864/64224; ~24m until finished)"
     ]
    },
    {
     "name": "stderr",
     "output_type": "stream",
     "text": [
      "2021-11-06 13:26:11,097 [WARNING] Optimization warning (l_bfgs_b): b'ABNORMAL_TERMINATION_IN_LNSRCH'\n"
     ]
    },
    {
     "name": "stdout",
     "output_type": "stream",
     "text": [
      "\r",
      "[=======================                                                                             ]  23% (14865/64224; ~24m until finished)"
     ]
    },
    {
     "name": "stderr",
     "output_type": "stream",
     "text": [
      "2021-11-06 13:26:11,223 [WARNING] Optimization warning (l_bfgs_b): b'ABNORMAL_TERMINATION_IN_LNSRCH'\n"
     ]
    },
    {
     "name": "stdout",
     "output_type": "stream",
     "text": [
      "[=======================                                                                             ]  23% (14869/64224; ~24m until finished)"
     ]
    },
    {
     "name": "stderr",
     "output_type": "stream",
     "text": [
      "2021-11-06 13:26:11,373 [WARNING] Optimization warning (l_bfgs_b): b'ABNORMAL_TERMINATION_IN_LNSRCH'\n"
     ]
    },
    {
     "name": "stdout",
     "output_type": "stream",
     "text": [
      "[=======================                                                                             ]  23% (14873/64224; ~24m until finished)"
     ]
    },
    {
     "name": "stderr",
     "output_type": "stream",
     "text": [
      "2021-11-06 13:26:11,529 [WARNING] Optimization warning (l_bfgs_b): b'ABNORMAL_TERMINATION_IN_LNSRCH'\n"
     ]
    },
    {
     "name": "stdout",
     "output_type": "stream",
     "text": [
      "[=======================                                                                             ]  23% (14877/64224; ~24m until finished)"
     ]
    },
    {
     "name": "stderr",
     "output_type": "stream",
     "text": [
      "2021-11-06 13:26:11,691 [WARNING] Optimization warning (l_bfgs_b): b'ABNORMAL_TERMINATION_IN_LNSRCH'\n"
     ]
    },
    {
     "name": "stdout",
     "output_type": "stream",
     "text": [
      "\r",
      "[=======================                                                                             ]  23% (14878/64224; ~24m until finished)"
     ]
    },
    {
     "name": "stderr",
     "output_type": "stream",
     "text": [
      "2021-11-06 13:26:11,777 [WARNING] Optimization warning (l_bfgs_b): b'ABNORMAL_TERMINATION_IN_LNSRCH'\n"
     ]
    },
    {
     "name": "stdout",
     "output_type": "stream",
     "text": [
      "[=======================                                                                             ]  23% (14899/64224; ~24m until finished)"
     ]
    },
    {
     "name": "stderr",
     "output_type": "stream",
     "text": [
      "2021-11-06 13:26:12,270 [WARNING] Optimization warning (l_bfgs_b): b'ABNORMAL_TERMINATION_IN_LNSRCH'\n"
     ]
    },
    {
     "name": "stdout",
     "output_type": "stream",
     "text": [
      "[=======================                                                                             ]  23% (14903/64224; ~24m until finished)"
     ]
    },
    {
     "name": "stderr",
     "output_type": "stream",
     "text": [
      "2021-11-06 13:26:12,466 [WARNING] Optimization warning (l_bfgs_b): b'ABNORMAL_TERMINATION_IN_LNSRCH'\n"
     ]
    },
    {
     "name": "stdout",
     "output_type": "stream",
     "text": [
      "[=======================                                                                             ]  23% (14947/64224; ~24m until finished)"
     ]
    },
    {
     "name": "stderr",
     "output_type": "stream",
     "text": [
      "2021-11-06 13:26:13,595 [WARNING] Optimization warning (l_bfgs_b): b'ABNORMAL_TERMINATION_IN_LNSRCH'\n"
     ]
    },
    {
     "name": "stdout",
     "output_type": "stream",
     "text": [
      "[=======================                                                                             ]  23% (14954/64224; ~24m until finished)"
     ]
    },
    {
     "name": "stderr",
     "output_type": "stream",
     "text": [
      "2021-11-06 13:26:13,931 [WARNING] Optimization warning (l_bfgs_b): b'ABNORMAL_TERMINATION_IN_LNSRCH'\n"
     ]
    },
    {
     "name": "stdout",
     "output_type": "stream",
     "text": [
      "[=======================                                                                             ]  23% (14975/64224; ~24m until finished)"
     ]
    },
    {
     "name": "stderr",
     "output_type": "stream",
     "text": [
      "2021-11-06 13:26:14,626 [WARNING] Optimization warning (l_bfgs_b): b'ABNORMAL_TERMINATION_IN_LNSRCH'\n"
     ]
    },
    {
     "name": "stdout",
     "output_type": "stream",
     "text": [
      "[=======================                                                                             ]  23% (14978/64224; ~24m until finished)"
     ]
    },
    {
     "name": "stderr",
     "output_type": "stream",
     "text": [
      "2021-11-06 13:26:14,829 [WARNING] Optimization warning (l_bfgs_b): b'ABNORMAL_TERMINATION_IN_LNSRCH'\n"
     ]
    },
    {
     "name": "stdout",
     "output_type": "stream",
     "text": [
      "[=======================                                                                             ]  23% (14988/64224; ~24m until finished)"
     ]
    },
    {
     "name": "stderr",
     "output_type": "stream",
     "text": [
      "2021-11-06 13:26:15,191 [WARNING] Optimization warning (l_bfgs_b): b'ABNORMAL_TERMINATION_IN_LNSRCH'\n"
     ]
    },
    {
     "name": "stdout",
     "output_type": "stream",
     "text": [
      "[=======================                                                                             ]  23% (15005/64224; ~24m until finished)"
     ]
    },
    {
     "name": "stderr",
     "output_type": "stream",
     "text": [
      "2021-11-06 13:26:15,744 [WARNING] Optimization warning (l_bfgs_b): b'ABNORMAL_TERMINATION_IN_LNSRCH'\n"
     ]
    },
    {
     "name": "stdout",
     "output_type": "stream",
     "text": [
      "[=======================                                                                             ]  23% (15015/64224; ~24m until finished)"
     ]
    },
    {
     "name": "stderr",
     "output_type": "stream",
     "text": [
      "2021-11-06 13:26:16,124 [WARNING] Optimization warning (l_bfgs_b): b'ABNORMAL_TERMINATION_IN_LNSRCH'\n"
     ]
    },
    {
     "name": "stdout",
     "output_type": "stream",
     "text": [
      "[=======================                                                                             ]  23% (15019/64224; ~24m until finished)"
     ]
    },
    {
     "name": "stderr",
     "output_type": "stream",
     "text": [
      "2021-11-06 13:26:16,374 [WARNING] Optimization warning (l_bfgs_b): b'ABNORMAL_TERMINATION_IN_LNSRCH'\n"
     ]
    },
    {
     "name": "stdout",
     "output_type": "stream",
     "text": [
      "[=======================                                                                             ]  23% (15034/64224; ~24m until finished)"
     ]
    },
    {
     "name": "stderr",
     "output_type": "stream",
     "text": [
      "2021-11-06 13:26:16,883 [WARNING] Optimization warning (l_bfgs_b): b'ABNORMAL_TERMINATION_IN_LNSRCH'\n"
     ]
    },
    {
     "name": "stdout",
     "output_type": "stream",
     "text": [
      "[=======================                                                                             ]  23% (15036/64224; ~24m until finished)"
     ]
    },
    {
     "name": "stderr",
     "output_type": "stream",
     "text": [
      "2021-11-06 13:26:17,032 [WARNING] Optimization warning (l_bfgs_b): b'ABNORMAL_TERMINATION_IN_LNSRCH'\n"
     ]
    },
    {
     "name": "stdout",
     "output_type": "stream",
     "text": [
      "[=======================                                                                             ]  23% (15051/64224; ~24m until finished)"
     ]
    },
    {
     "name": "stderr",
     "output_type": "stream",
     "text": [
      "2021-11-06 13:26:17,438 [WARNING] Optimization warning (l_bfgs_b): b'ABNORMAL_TERMINATION_IN_LNSRCH'\n"
     ]
    },
    {
     "name": "stdout",
     "output_type": "stream",
     "text": [
      "[=======================                                                                             ]  24% (15111/64224; ~24m until finished)"
     ]
    },
    {
     "name": "stderr",
     "output_type": "stream",
     "text": [
      "2021-11-06 13:26:18,993 [WARNING] Optimization warning (l_bfgs_b): b'ABNORMAL_TERMINATION_IN_LNSRCH'\n"
     ]
    },
    {
     "name": "stdout",
     "output_type": "stream",
     "text": [
      "[=======================                                                                             ]  24% (15118/64224; ~24m until finished)"
     ]
    },
    {
     "name": "stderr",
     "output_type": "stream",
     "text": [
      "2021-11-06 13:26:19,326 [WARNING] Optimization warning (l_bfgs_b): b'ABNORMAL_TERMINATION_IN_LNSRCH'\n"
     ]
    },
    {
     "name": "stdout",
     "output_type": "stream",
     "text": [
      "[=======================                                                                             ]  24% (15134/64224; ~24m until finished)"
     ]
    },
    {
     "name": "stderr",
     "output_type": "stream",
     "text": [
      "2021-11-06 13:26:19,852 [WARNING] Optimization warning (l_bfgs_b): b'ABNORMAL_TERMINATION_IN_LNSRCH'\n"
     ]
    },
    {
     "name": "stdout",
     "output_type": "stream",
     "text": [
      "[=======================                                                                             ]  24% (15172/64224; ~24m until finished)"
     ]
    },
    {
     "name": "stderr",
     "output_type": "stream",
     "text": [
      "2021-11-06 13:26:20,866 [WARNING] Optimization warning (l_bfgs_b): b'ABNORMAL_TERMINATION_IN_LNSRCH'\n"
     ]
    },
    {
     "name": "stdout",
     "output_type": "stream",
     "text": [
      "[=======================                                                                             ]  24% (15185/64224; ~24m until finished)"
     ]
    },
    {
     "name": "stderr",
     "output_type": "stream",
     "text": [
      "2021-11-06 13:26:21,312 [WARNING] Optimization warning (l_bfgs_b): b'ABNORMAL_TERMINATION_IN_LNSRCH'\n"
     ]
    },
    {
     "name": "stdout",
     "output_type": "stream",
     "text": [
      "[=======================                                                                             ]  24% (15196/64224; ~24m until finished)"
     ]
    },
    {
     "name": "stderr",
     "output_type": "stream",
     "text": [
      "2021-11-06 13:26:21,731 [WARNING] Optimization warning (l_bfgs_b): b'ABNORMAL_TERMINATION_IN_LNSRCH'\n"
     ]
    },
    {
     "name": "stdout",
     "output_type": "stream",
     "text": [
      "[=======================                                                                             ]  24% (15225/64224; ~24m until finished)"
     ]
    },
    {
     "name": "stderr",
     "output_type": "stream",
     "text": [
      "2021-11-06 13:26:22,618 [WARNING] Optimization warning (l_bfgs_b): b'ABNORMAL_TERMINATION_IN_LNSRCH'\n"
     ]
    },
    {
     "name": "stdout",
     "output_type": "stream",
     "text": [
      "[=======================                                                                             ]  24% (15284/64224; ~24m until finished)"
     ]
    },
    {
     "name": "stderr",
     "output_type": "stream",
     "text": [
      "2021-11-06 13:26:24,637 [WARNING] Optimization warning (l_bfgs_b): b'ABNORMAL_TERMINATION_IN_LNSRCH'\n"
     ]
    },
    {
     "name": "stdout",
     "output_type": "stream",
     "text": [
      "[=======================                                                                             ]  24% (15303/64224; ~24m until finished)"
     ]
    },
    {
     "name": "stderr",
     "output_type": "stream",
     "text": [
      "2021-11-06 13:26:25,408 [WARNING] Optimization warning (l_bfgs_b): b'ABNORMAL_TERMINATION_IN_LNSRCH'\n"
     ]
    },
    {
     "name": "stdout",
     "output_type": "stream",
     "text": [
      "[=======================                                                                             ]  24% (15309/64224; ~24m until finished)"
     ]
    },
    {
     "name": "stderr",
     "output_type": "stream",
     "text": [
      "2021-11-06 13:26:25,624 [WARNING] Optimization warning (l_bfgs_b): b'ABNORMAL_TERMINATION_IN_LNSRCH'\n"
     ]
    },
    {
     "name": "stdout",
     "output_type": "stream",
     "text": [
      "[=======================                                                                             ]  24% (15315/64224; ~24m until finished)"
     ]
    },
    {
     "name": "stderr",
     "output_type": "stream",
     "text": [
      "2021-11-06 13:26:25,911 [WARNING] Optimization warning (l_bfgs_b): b'ABNORMAL_TERMINATION_IN_LNSRCH'\n"
     ]
    },
    {
     "name": "stdout",
     "output_type": "stream",
     "text": [
      "[=======================                                                                             ]  24% (15321/64224; ~24m until finished)"
     ]
    },
    {
     "name": "stderr",
     "output_type": "stream",
     "text": [
      "2021-11-06 13:26:26,212 [WARNING] Optimization warning (l_bfgs_b): b'ABNORMAL_TERMINATION_IN_LNSRCH'\n"
     ]
    },
    {
     "name": "stdout",
     "output_type": "stream",
     "text": [
      "[=======================                                                                             ]  24% (15324/64224; ~24m until finished)"
     ]
    },
    {
     "name": "stderr",
     "output_type": "stream",
     "text": [
      "2021-11-06 13:26:26,484 [WARNING] Optimization warning (l_bfgs_b): b'ABNORMAL_TERMINATION_IN_LNSRCH'\n"
     ]
    },
    {
     "name": "stdout",
     "output_type": "stream",
     "text": [
      "[=======================                                                                             ]  24% (15327/64224; ~24m until finished)"
     ]
    },
    {
     "name": "stderr",
     "output_type": "stream",
     "text": [
      "2021-11-06 13:26:26,669 [WARNING] Optimization warning (l_bfgs_b): b'ABNORMAL_TERMINATION_IN_LNSRCH'\n"
     ]
    },
    {
     "name": "stdout",
     "output_type": "stream",
     "text": [
      "[=======================                                                                             ]  24% (15334/64224; ~24m until finished)"
     ]
    },
    {
     "name": "stderr",
     "output_type": "stream",
     "text": [
      "2021-11-06 13:26:26,965 [WARNING] Optimization warning (l_bfgs_b): b'ABNORMAL_TERMINATION_IN_LNSRCH'\n"
     ]
    },
    {
     "name": "stdout",
     "output_type": "stream",
     "text": [
      "[=======================                                                                             ]  24% (15353/64224; ~24m until finished)"
     ]
    },
    {
     "name": "stderr",
     "output_type": "stream",
     "text": [
      "2021-11-06 13:26:27,539 [WARNING] Optimization warning (l_bfgs_b): b'ABNORMAL_TERMINATION_IN_LNSRCH'\n"
     ]
    },
    {
     "name": "stdout",
     "output_type": "stream",
     "text": [
      "\r",
      "[=======================                                                                             ]  24% (15354/64224; ~24m until finished)"
     ]
    },
    {
     "name": "stderr",
     "output_type": "stream",
     "text": [
      "2021-11-06 13:26:27,715 [WARNING] Optimization warning (l_bfgs_b): b'ABNORMAL_TERMINATION_IN_LNSRCH'\n"
     ]
    },
    {
     "name": "stdout",
     "output_type": "stream",
     "text": [
      "[=======================                                                                             ]  24% (15360/64224; ~24m until finished)"
     ]
    },
    {
     "name": "stderr",
     "output_type": "stream",
     "text": [
      "2021-11-06 13:26:28,032 [WARNING] Optimization warning (l_bfgs_b): b'ABNORMAL_TERMINATION_IN_LNSRCH'\n"
     ]
    },
    {
     "name": "stdout",
     "output_type": "stream",
     "text": [
      "[========================                                                                            ]  24% (15412/64224; ~24m until finished)"
     ]
    },
    {
     "name": "stderr",
     "output_type": "stream",
     "text": [
      "2021-11-06 13:26:29,743 [WARNING] Optimization warning (l_bfgs_b): b'ABNORMAL_TERMINATION_IN_LNSRCH'\n"
     ]
    },
    {
     "name": "stdout",
     "output_type": "stream",
     "text": [
      "[========================                                                                            ]  24% (15453/64224; ~24m until finished)"
     ]
    },
    {
     "name": "stderr",
     "output_type": "stream",
     "text": [
      "2021-11-06 13:26:30,952 [WARNING] Optimization warning (l_bfgs_b): b'ABNORMAL_TERMINATION_IN_LNSRCH'\n"
     ]
    },
    {
     "name": "stdout",
     "output_type": "stream",
     "text": [
      "[========================                                                                            ]  24% (15463/64224; ~24m until finished)"
     ]
    },
    {
     "name": "stderr",
     "output_type": "stream",
     "text": [
      "2021-11-06 13:26:31,263 [WARNING] Optimization warning (l_bfgs_b): b'ABNORMAL_TERMINATION_IN_LNSRCH'\n"
     ]
    },
    {
     "name": "stdout",
     "output_type": "stream",
     "text": [
      "[========================                                                                            ]  24% (15465/64224; ~24m until finished)"
     ]
    },
    {
     "name": "stderr",
     "output_type": "stream",
     "text": [
      "2021-11-06 13:26:31,433 [WARNING] Optimization warning (l_bfgs_b): b'ABNORMAL_TERMINATION_IN_LNSRCH'\n"
     ]
    },
    {
     "name": "stdout",
     "output_type": "stream",
     "text": [
      "\r",
      "[========================                                                                            ]  24% (15466/64224; ~24m until finished)"
     ]
    },
    {
     "name": "stderr",
     "output_type": "stream",
     "text": [
      "2021-11-06 13:26:31,570 [WARNING] Optimization warning (l_bfgs_b): b'ABNORMAL_TERMINATION_IN_LNSRCH'\n"
     ]
    },
    {
     "name": "stdout",
     "output_type": "stream",
     "text": [
      "[========================                                                                            ]  24% (15469/64224; ~24m until finished)"
     ]
    },
    {
     "name": "stderr",
     "output_type": "stream",
     "text": [
      "2021-11-06 13:26:31,746 [WARNING] Optimization warning (l_bfgs_b): b'ABNORMAL_TERMINATION_IN_LNSRCH'\n"
     ]
    },
    {
     "name": "stdout",
     "output_type": "stream",
     "text": [
      "[========================                                                                            ]  24% (15497/64224; ~24m until finished)"
     ]
    },
    {
     "name": "stderr",
     "output_type": "stream",
     "text": [
      "2021-11-06 13:26:32,567 [WARNING] Optimization warning (l_bfgs_b): b'ABNORMAL_TERMINATION_IN_LNSRCH'\n"
     ]
    },
    {
     "name": "stdout",
     "output_type": "stream",
     "text": [
      "\r",
      "[========================                                                                            ]  24% (15498/64224; ~24m until finished)"
     ]
    },
    {
     "name": "stderr",
     "output_type": "stream",
     "text": [
      "2021-11-06 13:26:32,768 [WARNING] Optimization warning (l_bfgs_b): b'ABNORMAL_TERMINATION_IN_LNSRCH'\n"
     ]
    },
    {
     "name": "stdout",
     "output_type": "stream",
     "text": [
      "[========================                                                                            ]  24% (15509/64224; ~24m until finished)"
     ]
    },
    {
     "name": "stderr",
     "output_type": "stream",
     "text": [
      "2021-11-06 13:26:33,236 [WARNING] Optimization warning (l_bfgs_b): b'ABNORMAL_TERMINATION_IN_LNSRCH'\n"
     ]
    },
    {
     "name": "stdout",
     "output_type": "stream",
     "text": [
      "[========================                                                                            ]  24% (15522/64224; ~24m until finished)"
     ]
    },
    {
     "name": "stderr",
     "output_type": "stream",
     "text": [
      "2021-11-06 13:26:33,751 [WARNING] Optimization warning (l_bfgs_b): b'ABNORMAL_TERMINATION_IN_LNSRCH'\n"
     ]
    },
    {
     "name": "stdout",
     "output_type": "stream",
     "text": [
      "[========================                                                                            ]  24% (15526/64224; ~24m until finished)"
     ]
    },
    {
     "name": "stderr",
     "output_type": "stream",
     "text": [
      "2021-11-06 13:26:33,962 [WARNING] Optimization warning (l_bfgs_b): b'ABNORMAL_TERMINATION_IN_LNSRCH'\n"
     ]
    },
    {
     "name": "stdout",
     "output_type": "stream",
     "text": [
      "[========================                                                                            ]  24% (15543/64224; ~24m until finished)"
     ]
    },
    {
     "name": "stderr",
     "output_type": "stream",
     "text": [
      "2021-11-06 13:26:34,534 [WARNING] Optimization warning (l_bfgs_b): b'ABNORMAL_TERMINATION_IN_LNSRCH'\n"
     ]
    },
    {
     "name": "stdout",
     "output_type": "stream",
     "text": [
      "[========================                                                                            ]  24% (15546/64224; ~24m until finished)"
     ]
    },
    {
     "name": "stderr",
     "output_type": "stream",
     "text": [
      "2021-11-06 13:26:34,678 [WARNING] Optimization warning (l_bfgs_b): b'ABNORMAL_TERMINATION_IN_LNSRCH'\n"
     ]
    },
    {
     "name": "stdout",
     "output_type": "stream",
     "text": [
      "[========================                                                                            ]  24% (15551/64224; ~24m until finished)"
     ]
    },
    {
     "name": "stderr",
     "output_type": "stream",
     "text": [
      "2021-11-06 13:26:34,882 [WARNING] Optimization warning (l_bfgs_b): b'ABNORMAL_TERMINATION_IN_LNSRCH'\n"
     ]
    },
    {
     "name": "stdout",
     "output_type": "stream",
     "text": [
      "\r",
      "[========================                                                                            ]  24% (15552/64224; ~24m until finished)"
     ]
    },
    {
     "name": "stderr",
     "output_type": "stream",
     "text": [
      "2021-11-06 13:26:34,967 [WARNING] Optimization warning (l_bfgs_b): b'ABNORMAL_TERMINATION_IN_LNSRCH'\n"
     ]
    },
    {
     "name": "stdout",
     "output_type": "stream",
     "text": [
      "[========================                                                                            ]  24% (15558/64224; ~24m until finished)"
     ]
    },
    {
     "name": "stderr",
     "output_type": "stream",
     "text": [
      "2021-11-06 13:26:35,191 [WARNING] Optimization warning (l_bfgs_b): b'ABNORMAL_TERMINATION_IN_LNSRCH'\n"
     ]
    },
    {
     "name": "stdout",
     "output_type": "stream",
     "text": [
      "[========================                                                                            ]  24% (15560/64224; ~24m until finished)"
     ]
    },
    {
     "name": "stderr",
     "output_type": "stream",
     "text": [
      "2021-11-06 13:26:35,328 [WARNING] Optimization warning (l_bfgs_b): b'ABNORMAL_TERMINATION_IN_LNSRCH'\n"
     ]
    },
    {
     "name": "stdout",
     "output_type": "stream",
     "text": [
      "[========================                                                                            ]  24% (15574/64224; ~24m until finished)"
     ]
    },
    {
     "name": "stderr",
     "output_type": "stream",
     "text": [
      "2021-11-06 13:26:35,759 [WARNING] Optimization warning (l_bfgs_b): b'ABNORMAL_TERMINATION_IN_LNSRCH'\n"
     ]
    },
    {
     "name": "stdout",
     "output_type": "stream",
     "text": [
      "[========================                                                                            ]  24% (15597/64224; ~24m until finished)"
     ]
    },
    {
     "name": "stderr",
     "output_type": "stream",
     "text": [
      "2021-11-06 13:26:36,475 [WARNING] Optimization warning (l_bfgs_b): b'ABNORMAL_TERMINATION_IN_LNSRCH'\n"
     ]
    },
    {
     "name": "stdout",
     "output_type": "stream",
     "text": [
      "\r",
      "[========================                                                                            ]  24% (15598/64224; ~24m until finished)"
     ]
    },
    {
     "name": "stderr",
     "output_type": "stream",
     "text": [
      "2021-11-06 13:26:36,624 [WARNING] Optimization warning (l_bfgs_b): b'ABNORMAL_TERMINATION_IN_LNSRCH'\n"
     ]
    },
    {
     "name": "stdout",
     "output_type": "stream",
     "text": [
      "[========================                                                                            ]  24% (15602/64224; ~24m until finished)"
     ]
    },
    {
     "name": "stderr",
     "output_type": "stream",
     "text": [
      "2021-11-06 13:26:36,911 [WARNING] Optimization warning (l_bfgs_b): b'ABNORMAL_TERMINATION_IN_LNSRCH'\n"
     ]
    },
    {
     "name": "stdout",
     "output_type": "stream",
     "text": [
      "[========================                                                                            ]  24% (15606/64224; ~24m until finished)"
     ]
    },
    {
     "name": "stderr",
     "output_type": "stream",
     "text": [
      "2021-11-06 13:26:37,208 [WARNING] Optimization warning (l_bfgs_b): b'ABNORMAL_TERMINATION_IN_LNSRCH'\n"
     ]
    },
    {
     "name": "stdout",
     "output_type": "stream",
     "text": [
      "[========================                                                                            ]  24% (15628/64224; ~24m until finished)"
     ]
    },
    {
     "name": "stderr",
     "output_type": "stream",
     "text": [
      "2021-11-06 13:26:38,044 [WARNING] Optimization warning (l_bfgs_b): b'ABNORMAL_TERMINATION_IN_LNSRCH'\n"
     ]
    },
    {
     "name": "stdout",
     "output_type": "stream",
     "text": [
      "\r",
      "[========================                                                                            ]  24% (15629/64224; ~24m until finished)"
     ]
    },
    {
     "name": "stderr",
     "output_type": "stream",
     "text": [
      "2021-11-06 13:26:38,229 [WARNING] Optimization warning (l_bfgs_b): b'ABNORMAL_TERMINATION_IN_LNSRCH'\n"
     ]
    },
    {
     "name": "stdout",
     "output_type": "stream",
     "text": [
      "[========================                                                                            ]  24% (15635/64224; ~24m until finished)"
     ]
    },
    {
     "name": "stderr",
     "output_type": "stream",
     "text": [
      "2021-11-06 13:26:38,530 [WARNING] Optimization warning (l_bfgs_b): b'ABNORMAL_TERMINATION_IN_LNSRCH'\n"
     ]
    },
    {
     "name": "stdout",
     "output_type": "stream",
     "text": [
      "[========================                                                                            ]  24% (15638/64224; ~24m until finished)"
     ]
    },
    {
     "name": "stderr",
     "output_type": "stream",
     "text": [
      "2021-11-06 13:26:38,773 [WARNING] Optimization warning (l_bfgs_b): b'ABNORMAL_TERMINATION_IN_LNSRCH'\n"
     ]
    },
    {
     "name": "stdout",
     "output_type": "stream",
     "text": [
      "[========================                                                                            ]  24% (15642/64224; ~24m until finished)"
     ]
    },
    {
     "name": "stderr",
     "output_type": "stream",
     "text": [
      "2021-11-06 13:26:39,036 [WARNING] Optimization warning (l_bfgs_b): b'ABNORMAL_TERMINATION_IN_LNSRCH'\n"
     ]
    },
    {
     "name": "stdout",
     "output_type": "stream",
     "text": [
      "\r",
      "[========================                                                                            ]  24% (15643/64224; ~24m until finished)"
     ]
    },
    {
     "name": "stderr",
     "output_type": "stream",
     "text": [
      "2021-11-06 13:26:39,226 [WARNING] Optimization warning (l_bfgs_b): b'ABNORMAL_TERMINATION_IN_LNSRCH'\n"
     ]
    },
    {
     "name": "stdout",
     "output_type": "stream",
     "text": [
      "[========================                                                                            ]  24% (15648/64224; ~24m until finished)"
     ]
    },
    {
     "name": "stderr",
     "output_type": "stream",
     "text": [
      "2021-11-06 13:26:39,553 [WARNING] Optimization warning (l_bfgs_b): b'ABNORMAL_TERMINATION_IN_LNSRCH'\n"
     ]
    },
    {
     "name": "stdout",
     "output_type": "stream",
     "text": [
      "[========================                                                                            ]  24% (15664/64224; ~24m until finished)"
     ]
    },
    {
     "name": "stderr",
     "output_type": "stream",
     "text": [
      "2021-11-06 13:26:40,166 [WARNING] Optimization warning (l_bfgs_b): b'ABNORMAL_TERMINATION_IN_LNSRCH'\n"
     ]
    },
    {
     "name": "stdout",
     "output_type": "stream",
     "text": [
      "[========================                                                                            ]  24% (15705/64224; ~24m until finished)"
     ]
    },
    {
     "name": "stderr",
     "output_type": "stream",
     "text": [
      "2021-11-06 13:26:41,465 [WARNING] Optimization warning (l_bfgs_b): b'ABNORMAL_TERMINATION_IN_LNSRCH'\n"
     ]
    },
    {
     "name": "stdout",
     "output_type": "stream",
     "text": [
      "[========================                                                                            ]  24% (15709/64224; ~24m until finished)"
     ]
    },
    {
     "name": "stderr",
     "output_type": "stream",
     "text": [
      "2021-11-06 13:26:41,758 [WARNING] Optimization warning (l_bfgs_b): b'ABNORMAL_TERMINATION_IN_LNSRCH'\n"
     ]
    },
    {
     "name": "stdout",
     "output_type": "stream",
     "text": [
      "[========================                                                                            ]  24% (15728/64224; ~24m until finished)"
     ]
    },
    {
     "name": "stderr",
     "output_type": "stream",
     "text": [
      "2021-11-06 13:26:42,431 [WARNING] Optimization warning (l_bfgs_b): b'ABNORMAL_TERMINATION_IN_LNSRCH'\n"
     ]
    },
    {
     "name": "stdout",
     "output_type": "stream",
     "text": [
      "[========================                                                                            ]  24% (15733/64224; ~24m until finished)"
     ]
    },
    {
     "name": "stderr",
     "output_type": "stream",
     "text": [
      "2021-11-06 13:26:42,774 [WARNING] Optimization warning (l_bfgs_b): b'ABNORMAL_TERMINATION_IN_LNSRCH'\n"
     ]
    },
    {
     "name": "stdout",
     "output_type": "stream",
     "text": [
      "[========================                                                                            ]  25% (15735/64224; ~24m until finished)"
     ]
    },
    {
     "name": "stderr",
     "output_type": "stream",
     "text": [
      "2021-11-06 13:26:42,937 [WARNING] Optimization warning (l_bfgs_b): b'ABNORMAL_TERMINATION_IN_LNSRCH'\n"
     ]
    },
    {
     "name": "stdout",
     "output_type": "stream",
     "text": [
      "[========================                                                                            ]  25% (15749/64224; ~24m until finished)"
     ]
    },
    {
     "name": "stderr",
     "output_type": "stream",
     "text": [
      "2021-11-06 13:26:43,472 [WARNING] Optimization warning (l_bfgs_b): b'ABNORMAL_TERMINATION_IN_LNSRCH'\n"
     ]
    },
    {
     "name": "stdout",
     "output_type": "stream",
     "text": [
      "[========================                                                                            ]  25% (15755/64224; ~24m until finished)"
     ]
    },
    {
     "name": "stderr",
     "output_type": "stream",
     "text": [
      "2021-11-06 13:26:43,785 [WARNING] Optimization warning (l_bfgs_b): b'ABNORMAL_TERMINATION_IN_LNSRCH'\n"
     ]
    },
    {
     "name": "stdout",
     "output_type": "stream",
     "text": [
      "[========================                                                                            ]  25% (15769/64224; ~24m until finished)"
     ]
    },
    {
     "name": "stderr",
     "output_type": "stream",
     "text": [
      "2021-11-06 13:26:44,332 [WARNING] Optimization warning (l_bfgs_b): b'ABNORMAL_TERMINATION_IN_LNSRCH'\n"
     ]
    },
    {
     "name": "stdout",
     "output_type": "stream",
     "text": [
      "[========================                                                                            ]  25% (15776/64224; ~24m until finished)"
     ]
    },
    {
     "name": "stderr",
     "output_type": "stream",
     "text": [
      "2021-11-06 13:26:44,668 [WARNING] Optimization warning (l_bfgs_b): b'ABNORMAL_TERMINATION_IN_LNSRCH'\n"
     ]
    },
    {
     "name": "stdout",
     "output_type": "stream",
     "text": [
      "[========================                                                                            ]  25% (15800/64224; ~24m until finished)"
     ]
    },
    {
     "name": "stderr",
     "output_type": "stream",
     "text": [
      "2021-11-06 13:26:45,404 [WARNING] Optimization warning (l_bfgs_b): b'ABNORMAL_TERMINATION_IN_LNSRCH'\n"
     ]
    },
    {
     "name": "stdout",
     "output_type": "stream",
     "text": [
      "[========================                                                                            ]  25% (15807/64224; ~24m until finished)"
     ]
    },
    {
     "name": "stderr",
     "output_type": "stream",
     "text": [
      "2021-11-06 13:26:45,756 [WARNING] Optimization warning (l_bfgs_b): b'ABNORMAL_TERMINATION_IN_LNSRCH'\n"
     ]
    },
    {
     "name": "stdout",
     "output_type": "stream",
     "text": [
      "[========================                                                                            ]  25% (15855/64224; ~24m until finished)"
     ]
    },
    {
     "name": "stderr",
     "output_type": "stream",
     "text": [
      "2021-11-06 13:26:47,374 [WARNING] Optimization warning (l_bfgs_b): b'ABNORMAL_TERMINATION_IN_LNSRCH'\n"
     ]
    },
    {
     "name": "stdout",
     "output_type": "stream",
     "text": [
      "[========================                                                                            ]  25% (15864/64224; ~24m until finished)"
     ]
    },
    {
     "name": "stderr",
     "output_type": "stream",
     "text": [
      "2021-11-06 13:26:47,815 [WARNING] Optimization warning (l_bfgs_b): b'ABNORMAL_TERMINATION_IN_LNSRCH'\n"
     ]
    },
    {
     "name": "stdout",
     "output_type": "stream",
     "text": [
      "\r",
      "[========================                                                                            ]  25% (15865/64224; ~24m until finished)"
     ]
    },
    {
     "name": "stderr",
     "output_type": "stream",
     "text": [
      "2021-11-06 13:26:48,001 [WARNING] Optimization warning (l_bfgs_b): b'ABNORMAL_TERMINATION_IN_LNSRCH'\n"
     ]
    },
    {
     "name": "stdout",
     "output_type": "stream",
     "text": [
      "[========================                                                                            ]  25% (15868/64224; ~24m until finished)"
     ]
    },
    {
     "name": "stderr",
     "output_type": "stream",
     "text": [
      "2021-11-06 13:26:48,296 [WARNING] Optimization warning (l_bfgs_b): b'ABNORMAL_TERMINATION_IN_LNSRCH'\n"
     ]
    },
    {
     "name": "stdout",
     "output_type": "stream",
     "text": [
      "[========================                                                                            ]  25% (15870/64224; ~24m until finished)"
     ]
    },
    {
     "name": "stderr",
     "output_type": "stream",
     "text": [
      "2021-11-06 13:26:48,627 [WARNING] Optimization warning (l_bfgs_b): b'ABNORMAL_TERMINATION_IN_LNSRCH'\n"
     ]
    },
    {
     "name": "stdout",
     "output_type": "stream",
     "text": [
      "[========================                                                                            ]  25% (15874/64224; ~24m until finished)"
     ]
    },
    {
     "name": "stderr",
     "output_type": "stream",
     "text": [
      "2021-11-06 13:26:48,913 [WARNING] Optimization warning (l_bfgs_b): b'ABNORMAL_TERMINATION_IN_LNSRCH'\n"
     ]
    },
    {
     "name": "stdout",
     "output_type": "stream",
     "text": [
      "\r",
      "[========================                                                                            ]  25% (15875/64224; ~24m until finished)"
     ]
    },
    {
     "name": "stderr",
     "output_type": "stream",
     "text": [
      "2021-11-06 13:26:49,175 [WARNING] Optimization warning (l_bfgs_b): b'ABNORMAL_TERMINATION_IN_LNSRCH'\n"
     ]
    },
    {
     "name": "stdout",
     "output_type": "stream",
     "text": [
      "\r",
      "[========================                                                                            ]  25% (15876/64224; ~24m until finished)"
     ]
    },
    {
     "name": "stderr",
     "output_type": "stream",
     "text": [
      "2021-11-06 13:26:49,455 [WARNING] Optimization warning (l_bfgs_b): b'ABNORMAL_TERMINATION_IN_LNSRCH'\n"
     ]
    },
    {
     "name": "stdout",
     "output_type": "stream",
     "text": [
      "\r",
      "[========================                                                                            ]  25% (15877/64224; ~24m until finished)"
     ]
    },
    {
     "name": "stderr",
     "output_type": "stream",
     "text": [
      "2021-11-06 13:26:49,619 [WARNING] Optimization warning (l_bfgs_b): b'ABNORMAL_TERMINATION_IN_LNSRCH'\n"
     ]
    },
    {
     "name": "stdout",
     "output_type": "stream",
     "text": [
      "[========================                                                                            ]  25% (15880/64224; ~24m until finished)"
     ]
    },
    {
     "name": "stderr",
     "output_type": "stream",
     "text": [
      "2021-11-06 13:26:49,933 [WARNING] Optimization warning (l_bfgs_b): b'ABNORMAL_TERMINATION_IN_LNSRCH'\n"
     ]
    },
    {
     "name": "stdout",
     "output_type": "stream",
     "text": [
      "[========================                                                                            ]  25% (15908/64224; ~24m until finished)"
     ]
    },
    {
     "name": "stderr",
     "output_type": "stream",
     "text": [
      "2021-11-06 13:26:50,983 [WARNING] Optimization warning (l_bfgs_b): b'ABNORMAL_TERMINATION_IN_LNSRCH'\n"
     ]
    },
    {
     "name": "stdout",
     "output_type": "stream",
     "text": [
      "[========================                                                                            ]  25% (15944/64224; ~24m until finished)"
     ]
    },
    {
     "name": "stderr",
     "output_type": "stream",
     "text": [
      "2021-11-06 13:26:52,138 [WARNING] Optimization warning (l_bfgs_b): b'ABNORMAL_TERMINATION_IN_LNSRCH'\n"
     ]
    },
    {
     "name": "stdout",
     "output_type": "stream",
     "text": [
      "[========================                                                                            ]  25% (15954/64224; ~24m until finished)"
     ]
    },
    {
     "name": "stderr",
     "output_type": "stream",
     "text": [
      "2021-11-06 13:26:52,511 [WARNING] Optimization warning (l_bfgs_b): b'ABNORMAL_TERMINATION_IN_LNSRCH'\n"
     ]
    },
    {
     "name": "stdout",
     "output_type": "stream",
     "text": [
      "[========================                                                                            ]  25% (15959/64224; ~24m until finished)"
     ]
    },
    {
     "name": "stderr",
     "output_type": "stream",
     "text": [
      "2021-11-06 13:26:52,717 [WARNING] Optimization warning (l_bfgs_b): b'ABNORMAL_TERMINATION_IN_LNSRCH'\n"
     ]
    },
    {
     "name": "stdout",
     "output_type": "stream",
     "text": [
      "\r",
      "[========================                                                                            ]  25% (15960/64224; ~24m until finished)"
     ]
    },
    {
     "name": "stderr",
     "output_type": "stream",
     "text": [
      "2021-11-06 13:26:52,833 [WARNING] Optimization warning (l_bfgs_b): b'ABNORMAL_TERMINATION_IN_LNSRCH'\n"
     ]
    },
    {
     "name": "stdout",
     "output_type": "stream",
     "text": [
      "\r",
      "[========================                                                                            ]  25% (15961/64224; ~24m until finished)"
     ]
    },
    {
     "name": "stderr",
     "output_type": "stream",
     "text": [
      "2021-11-06 13:26:52,941 [WARNING] Optimization warning (l_bfgs_b): b'ABNORMAL_TERMINATION_IN_LNSRCH'\n"
     ]
    },
    {
     "name": "stdout",
     "output_type": "stream",
     "text": [
      "[========================                                                                            ]  25% (15974/64224; ~24m until finished)"
     ]
    },
    {
     "name": "stderr",
     "output_type": "stream",
     "text": [
      "2021-11-06 13:26:53,292 [WARNING] Optimization warning (l_bfgs_b): b'ABNORMAL_TERMINATION_IN_LNSRCH'\n"
     ]
    },
    {
     "name": "stdout",
     "output_type": "stream",
     "text": [
      "\r",
      "[========================                                                                            ]  25% (15975/64224; ~24m until finished)"
     ]
    },
    {
     "name": "stderr",
     "output_type": "stream",
     "text": [
      "2021-11-06 13:26:53,386 [WARNING] Optimization warning (l_bfgs_b): b'ABNORMAL_TERMINATION_IN_LNSRCH'\n"
     ]
    },
    {
     "name": "stdout",
     "output_type": "stream",
     "text": [
      "[========================                                                                            ]  25% (15977/64224; ~24m until finished)"
     ]
    },
    {
     "name": "stderr",
     "output_type": "stream",
     "text": [
      "2021-11-06 13:26:53,514 [WARNING] Optimization warning (l_bfgs_b): b'ABNORMAL_TERMINATION_IN_LNSRCH'\n"
     ]
    },
    {
     "name": "stdout",
     "output_type": "stream",
     "text": [
      "[========================                                                                            ]  25% (15983/64224; ~24m until finished)"
     ]
    },
    {
     "name": "stderr",
     "output_type": "stream",
     "text": [
      "2021-11-06 13:26:53,719 [WARNING] Optimization warning (l_bfgs_b): b'ABNORMAL_TERMINATION_IN_LNSRCH'\n"
     ]
    },
    {
     "name": "stdout",
     "output_type": "stream",
     "text": [
      "[========================                                                                            ]  25% (16000/64224; ~24m until finished)"
     ]
    },
    {
     "name": "stderr",
     "output_type": "stream",
     "text": [
      "2021-11-06 13:26:54,177 [WARNING] Optimization warning (l_bfgs_b): b'ABNORMAL_TERMINATION_IN_LNSRCH'\n"
     ]
    },
    {
     "name": "stdout",
     "output_type": "stream",
     "text": [
      "[========================                                                                            ]  25% (16011/64224; ~24m until finished)"
     ]
    },
    {
     "name": "stderr",
     "output_type": "stream",
     "text": [
      "2021-11-06 13:26:54,598 [WARNING] Optimization warning (l_bfgs_b): b'ABNORMAL_TERMINATION_IN_LNSRCH'\n"
     ]
    },
    {
     "name": "stdout",
     "output_type": "stream",
     "text": [
      "[========================                                                                            ]  25% (16025/64224; ~24m until finished)"
     ]
    },
    {
     "name": "stderr",
     "output_type": "stream",
     "text": [
      "2021-11-06 13:26:55,109 [WARNING] Optimization warning (l_bfgs_b): b'ABNORMAL_TERMINATION_IN_LNSRCH'\n"
     ]
    },
    {
     "name": "stdout",
     "output_type": "stream",
     "text": [
      "[========================                                                                            ]  25% (16039/64224; ~24m until finished)"
     ]
    },
    {
     "name": "stderr",
     "output_type": "stream",
     "text": [
      "2021-11-06 13:26:55,604 [WARNING] Optimization warning (l_bfgs_b): b'ABNORMAL_TERMINATION_IN_LNSRCH'\n"
     ]
    },
    {
     "name": "stdout",
     "output_type": "stream",
     "text": [
      "[========================                                                                            ]  25% (16048/64224; ~24m until finished)"
     ]
    },
    {
     "name": "stderr",
     "output_type": "stream",
     "text": [
      "2021-11-06 13:26:55,990 [WARNING] Optimization warning (l_bfgs_b): b'ABNORMAL_TERMINATION_IN_LNSRCH'\n"
     ]
    },
    {
     "name": "stdout",
     "output_type": "stream",
     "text": [
      "[=========================                                                                           ]  25% (16054/64224; ~24m until finished)"
     ]
    },
    {
     "name": "stderr",
     "output_type": "stream",
     "text": [
      "2021-11-06 13:26:56,339 [WARNING] Optimization warning (l_bfgs_b): b'ABNORMAL_TERMINATION_IN_LNSRCH'\n"
     ]
    },
    {
     "name": "stdout",
     "output_type": "stream",
     "text": [
      "[=========================                                                                           ]  25% (16064/64224; ~24m until finished)"
     ]
    },
    {
     "name": "stderr",
     "output_type": "stream",
     "text": [
      "2021-11-06 13:26:56,686 [WARNING] Optimization warning (l_bfgs_b): b'ABNORMAL_TERMINATION_IN_LNSRCH'\n"
     ]
    },
    {
     "name": "stdout",
     "output_type": "stream",
     "text": [
      "[=========================                                                                           ]  25% (16066/64224; ~24m until finished)"
     ]
    },
    {
     "name": "stderr",
     "output_type": "stream",
     "text": [
      "2021-11-06 13:26:56,848 [WARNING] Optimization warning (l_bfgs_b): b'ABNORMAL_TERMINATION_IN_LNSRCH'\n"
     ]
    },
    {
     "name": "stdout",
     "output_type": "stream",
     "text": [
      "[=========================                                                                           ]  25% (16075/64224; ~24m until finished)"
     ]
    },
    {
     "name": "stderr",
     "output_type": "stream",
     "text": [
      "2021-11-06 13:26:57,122 [WARNING] Optimization warning (l_bfgs_b): b'ABNORMAL_TERMINATION_IN_LNSRCH'\n"
     ]
    },
    {
     "name": "stdout",
     "output_type": "stream",
     "text": [
      "[=========================                                                                           ]  25% (16105/64224; ~24m until finished)"
     ]
    },
    {
     "name": "stderr",
     "output_type": "stream",
     "text": [
      "2021-11-06 13:26:57,923 [WARNING] Optimization warning (l_bfgs_b): b'ABNORMAL_TERMINATION_IN_LNSRCH'\n"
     ]
    },
    {
     "name": "stdout",
     "output_type": "stream",
     "text": [
      "[=========================                                                                           ]  25% (16165/64224; ~24m until finished)"
     ]
    },
    {
     "name": "stderr",
     "output_type": "stream",
     "text": [
      "2021-11-06 13:26:59,597 [WARNING] Optimization warning (l_bfgs_b): b'ABNORMAL_TERMINATION_IN_LNSRCH'\n"
     ]
    },
    {
     "name": "stdout",
     "output_type": "stream",
     "text": [
      "[=========================                                                                           ]  25% (16170/64224; ~24m until finished)"
     ]
    },
    {
     "name": "stderr",
     "output_type": "stream",
     "text": [
      "2021-11-06 13:26:59,863 [WARNING] Optimization warning (l_bfgs_b): b'ABNORMAL_TERMINATION_IN_LNSRCH'\n"
     ]
    },
    {
     "name": "stdout",
     "output_type": "stream",
     "text": [
      "[=========================                                                                           ]  25% (16185/64224; ~24m until finished)"
     ]
    },
    {
     "name": "stderr",
     "output_type": "stream",
     "text": [
      "2021-11-06 13:27:00,340 [WARNING] Optimization warning (l_bfgs_b): b'ABNORMAL_TERMINATION_IN_LNSRCH'\n"
     ]
    },
    {
     "name": "stdout",
     "output_type": "stream",
     "text": [
      "[=========================                                                                           ]  25% (16187/64224; ~24m until finished)"
     ]
    },
    {
     "name": "stderr",
     "output_type": "stream",
     "text": [
      "2021-11-06 13:27:00,465 [WARNING] Optimization warning (l_bfgs_b): b'ABNORMAL_TERMINATION_IN_LNSRCH'\n"
     ]
    },
    {
     "name": "stdout",
     "output_type": "stream",
     "text": [
      "\r",
      "[=========================                                                                           ]  25% (16188/64224; ~24m until finished)"
     ]
    },
    {
     "name": "stderr",
     "output_type": "stream",
     "text": [
      "2021-11-06 13:27:00,586 [WARNING] Optimization warning (l_bfgs_b): b'ABNORMAL_TERMINATION_IN_LNSRCH'\n"
     ]
    },
    {
     "name": "stdout",
     "output_type": "stream",
     "text": [
      "[=========================                                                                           ]  25% (16199/64224; ~24m until finished)"
     ]
    },
    {
     "name": "stderr",
     "output_type": "stream",
     "text": [
      "2021-11-06 13:27:00,969 [WARNING] Optimization warning (l_bfgs_b): b'ABNORMAL_TERMINATION_IN_LNSRCH'\n"
     ]
    },
    {
     "name": "stdout",
     "output_type": "stream",
     "text": [
      "[=========================                                                                           ]  25% (16209/64224; ~24m until finished)"
     ]
    },
    {
     "name": "stderr",
     "output_type": "stream",
     "text": [
      "2021-11-06 13:27:01,336 [WARNING] Optimization warning (l_bfgs_b): b'ABNORMAL_TERMINATION_IN_LNSRCH'\n"
     ]
    },
    {
     "name": "stdout",
     "output_type": "stream",
     "text": [
      "[=========================                                                                           ]  25% (16250/64224; ~24m until finished)"
     ]
    },
    {
     "name": "stderr",
     "output_type": "stream",
     "text": [
      "2021-11-06 13:27:02,459 [WARNING] Optimization warning (l_bfgs_b): b'ABNORMAL_TERMINATION_IN_LNSRCH'\n"
     ]
    },
    {
     "name": "stdout",
     "output_type": "stream",
     "text": [
      "[=========================                                                                           ]  25% (16264/64224; ~24m until finished)"
     ]
    },
    {
     "name": "stderr",
     "output_type": "stream",
     "text": [
      "2021-11-06 13:27:02,929 [WARNING] Optimization warning (l_bfgs_b): b'ABNORMAL_TERMINATION_IN_LNSRCH'\n"
     ]
    },
    {
     "name": "stdout",
     "output_type": "stream",
     "text": [
      "[=========================                                                                           ]  25% (16276/64224; ~24m until finished)"
     ]
    },
    {
     "name": "stderr",
     "output_type": "stream",
     "text": [
      "2021-11-06 13:27:03,324 [WARNING] Optimization warning (l_bfgs_b): b'ABNORMAL_TERMINATION_IN_LNSRCH'\n"
     ]
    },
    {
     "name": "stdout",
     "output_type": "stream",
     "text": [
      "\r",
      "[=========================                                                                           ]  25% (16277/64224; ~24m until finished)"
     ]
    },
    {
     "name": "stderr",
     "output_type": "stream",
     "text": [
      "2021-11-06 13:27:03,436 [WARNING] Optimization warning (l_bfgs_b): b'ABNORMAL_TERMINATION_IN_LNSRCH'\n"
     ]
    },
    {
     "name": "stdout",
     "output_type": "stream",
     "text": [
      "[=========================                                                                           ]  25% (16289/64224; ~24m until finished)"
     ]
    },
    {
     "name": "stderr",
     "output_type": "stream",
     "text": [
      "2021-11-06 13:27:03,816 [WARNING] Optimization warning (l_bfgs_b): b'ABNORMAL_TERMINATION_IN_LNSRCH'\n"
     ]
    },
    {
     "name": "stdout",
     "output_type": "stream",
     "text": [
      "[=========================                                                                           ]  25% (16324/64224; ~24m until finished)"
     ]
    },
    {
     "name": "stderr",
     "output_type": "stream",
     "text": [
      "2021-11-06 13:27:04,833 [WARNING] Optimization warning (l_bfgs_b): b'ABNORMAL_TERMINATION_IN_LNSRCH'\n"
     ]
    },
    {
     "name": "stdout",
     "output_type": "stream",
     "text": [
      "[=========================                                                                           ]  25% (16326/64224; ~24m until finished)"
     ]
    },
    {
     "name": "stderr",
     "output_type": "stream",
     "text": [
      "2021-11-06 13:27:04,998 [WARNING] Optimization warning (l_bfgs_b): b'ABNORMAL_TERMINATION_IN_LNSRCH'\n"
     ]
    },
    {
     "name": "stdout",
     "output_type": "stream",
     "text": [
      "[=========================                                                                           ]  25% (16333/64224; ~24m until finished)"
     ]
    },
    {
     "name": "stderr",
     "output_type": "stream",
     "text": [
      "2021-11-06 13:27:05,270 [WARNING] Optimization warning (l_bfgs_b): b'ABNORMAL_TERMINATION_IN_LNSRCH'\n"
     ]
    },
    {
     "name": "stdout",
     "output_type": "stream",
     "text": [
      "[=========================                                                                           ]  25% (16343/64224; ~24m until finished)"
     ]
    },
    {
     "name": "stderr",
     "output_type": "stream",
     "text": [
      "2021-11-06 13:27:05,629 [WARNING] Optimization warning (l_bfgs_b): b'ABNORMAL_TERMINATION_IN_LNSRCH'\n"
     ]
    },
    {
     "name": "stdout",
     "output_type": "stream",
     "text": [
      "[=========================                                                                           ]  25% (16345/64224; ~24m until finished)"
     ]
    },
    {
     "name": "stderr",
     "output_type": "stream",
     "text": [
      "2021-11-06 13:27:05,750 [WARNING] Optimization warning (l_bfgs_b): b'ABNORMAL_TERMINATION_IN_LNSRCH'\n"
     ]
    },
    {
     "name": "stdout",
     "output_type": "stream",
     "text": [
      "[=========================                                                                           ]  25% (16354/64224; ~24m until finished)"
     ]
    },
    {
     "name": "stderr",
     "output_type": "stream",
     "text": [
      "2021-11-06 13:27:06,001 [WARNING] Optimization warning (l_bfgs_b): b'ABNORMAL_TERMINATION_IN_LNSRCH'\n"
     ]
    },
    {
     "name": "stdout",
     "output_type": "stream",
     "text": [
      "[=========================                                                                           ]  25% (16356/64224; ~24m until finished)"
     ]
    },
    {
     "name": "stderr",
     "output_type": "stream",
     "text": [
      "2021-11-06 13:27:06,076 [WARNING] Optimization warning (l_bfgs_b): b'ABNORMAL_TERMINATION_IN_LNSRCH'\n"
     ]
    },
    {
     "name": "stdout",
     "output_type": "stream",
     "text": [
      "[=========================                                                                           ]  25% (16360/64224; ~24m until finished)"
     ]
    },
    {
     "name": "stderr",
     "output_type": "stream",
     "text": [
      "2021-11-06 13:27:06,184 [WARNING] Optimization warning (l_bfgs_b): b'ABNORMAL_TERMINATION_IN_LNSRCH'\n"
     ]
    },
    {
     "name": "stdout",
     "output_type": "stream",
     "text": [
      "\r",
      "[=========================                                                                           ]  25% (16361/64224; ~24m until finished)"
     ]
    },
    {
     "name": "stderr",
     "output_type": "stream",
     "text": [
      "2021-11-06 13:27:06,248 [WARNING] Optimization warning (l_bfgs_b): b'ABNORMAL_TERMINATION_IN_LNSRCH'\n"
     ]
    },
    {
     "name": "stdout",
     "output_type": "stream",
     "text": [
      "\r",
      "[=========================                                                                           ]  25% (16362/64224; ~24m until finished)"
     ]
    },
    {
     "name": "stderr",
     "output_type": "stream",
     "text": [
      "2021-11-06 13:27:06,326 [WARNING] Optimization warning (l_bfgs_b): b'ABNORMAL_TERMINATION_IN_LNSRCH'\n"
     ]
    },
    {
     "name": "stdout",
     "output_type": "stream",
     "text": [
      "[=========================                                                                           ]  25% (16366/64224; ~24m until finished)"
     ]
    },
    {
     "name": "stderr",
     "output_type": "stream",
     "text": [
      "2021-11-06 13:27:06,490 [WARNING] Optimization warning (l_bfgs_b): b'ABNORMAL_TERMINATION_IN_LNSRCH'\n"
     ]
    },
    {
     "name": "stdout",
     "output_type": "stream",
     "text": [
      "[=========================                                                                           ]  25% (16368/64224; ~24m until finished)"
     ]
    },
    {
     "name": "stderr",
     "output_type": "stream",
     "text": [
      "2021-11-06 13:27:06,573 [WARNING] Optimization warning (l_bfgs_b): b'ABNORMAL_TERMINATION_IN_LNSRCH'\n"
     ]
    },
    {
     "name": "stdout",
     "output_type": "stream",
     "text": [
      "[=========================                                                                           ]  25% (16373/64224; ~24m until finished)"
     ]
    },
    {
     "name": "stderr",
     "output_type": "stream",
     "text": [
      "2021-11-06 13:27:06,720 [WARNING] Optimization warning (l_bfgs_b): b'ABNORMAL_TERMINATION_IN_LNSRCH'\n"
     ]
    },
    {
     "name": "stdout",
     "output_type": "stream",
     "text": [
      "\r",
      "[=========================                                                                           ]  25% (16374/64224; ~24m until finished)"
     ]
    },
    {
     "name": "stderr",
     "output_type": "stream",
     "text": [
      "2021-11-06 13:27:06,793 [WARNING] Optimization warning (l_bfgs_b): b'ABNORMAL_TERMINATION_IN_LNSRCH'\n"
     ]
    },
    {
     "name": "stdout",
     "output_type": "stream",
     "text": [
      "[=========================                                                                           ]  25% (16376/64224; ~24m until finished)"
     ]
    },
    {
     "name": "stderr",
     "output_type": "stream",
     "text": [
      "2021-11-06 13:27:06,873 [WARNING] Optimization warning (l_bfgs_b): b'ABNORMAL_TERMINATION_IN_LNSRCH'\n"
     ]
    },
    {
     "name": "stdout",
     "output_type": "stream",
     "text": [
      "[=========================                                                                           ]  26% (16380/64224; ~24m until finished)"
     ]
    },
    {
     "name": "stderr",
     "output_type": "stream",
     "text": [
      "2021-11-06 13:27:06,998 [WARNING] Optimization warning (l_bfgs_b): b'ABNORMAL_TERMINATION_IN_LNSRCH'\n"
     ]
    },
    {
     "name": "stdout",
     "output_type": "stream",
     "text": [
      "[=========================                                                                           ]  26% (16382/64224; ~24m until finished)"
     ]
    },
    {
     "name": "stderr",
     "output_type": "stream",
     "text": [
      "2021-11-06 13:27:07,070 [WARNING] Optimization warning (l_bfgs_b): b'ABNORMAL_TERMINATION_IN_LNSRCH'\n"
     ]
    },
    {
     "name": "stdout",
     "output_type": "stream",
     "text": [
      "[=========================                                                                           ]  26% (16385/64224; ~24m until finished)"
     ]
    },
    {
     "name": "stderr",
     "output_type": "stream",
     "text": [
      "2021-11-06 13:27:07,167 [WARNING] Optimization warning (l_bfgs_b): b'ABNORMAL_TERMINATION_IN_LNSRCH'\n"
     ]
    },
    {
     "name": "stdout",
     "output_type": "stream",
     "text": [
      "\r",
      "[=========================                                                                           ]  26% (16386/64224; ~24m until finished)"
     ]
    },
    {
     "name": "stderr",
     "output_type": "stream",
     "text": [
      "2021-11-06 13:27:07,232 [WARNING] Optimization warning (l_bfgs_b): b'ABNORMAL_TERMINATION_IN_LNSRCH'\n"
     ]
    },
    {
     "name": "stdout",
     "output_type": "stream",
     "text": [
      "[=========================                                                                           ]  26% (16388/64224; ~24m until finished)"
     ]
    },
    {
     "name": "stderr",
     "output_type": "stream",
     "text": [
      "2021-11-06 13:27:07,315 [WARNING] Optimization warning (l_bfgs_b): b'ABNORMAL_TERMINATION_IN_LNSRCH'\n"
     ]
    },
    {
     "name": "stdout",
     "output_type": "stream",
     "text": [
      "[=========================                                                                           ]  26% (16393/64224; ~24m until finished)"
     ]
    },
    {
     "name": "stderr",
     "output_type": "stream",
     "text": [
      "2021-11-06 13:27:07,442 [WARNING] Optimization warning (l_bfgs_b): b'ABNORMAL_TERMINATION_IN_LNSRCH'\n"
     ]
    },
    {
     "name": "stdout",
     "output_type": "stream",
     "text": [
      "[=========================                                                                           ]  26% (16401/64224; ~24m until finished)"
     ]
    },
    {
     "name": "stderr",
     "output_type": "stream",
     "text": [
      "2021-11-06 13:27:07,605 [WARNING] Optimization warning (l_bfgs_b): b'ABNORMAL_TERMINATION_IN_LNSRCH'\n"
     ]
    },
    {
     "name": "stdout",
     "output_type": "stream",
     "text": [
      "[=========================                                                                           ]  26% (16408/64224; ~23m until finished)"
     ]
    },
    {
     "name": "stderr",
     "output_type": "stream",
     "text": [
      "2021-11-06 13:27:07,750 [WARNING] Optimization warning (l_bfgs_b): b'ABNORMAL_TERMINATION_IN_LNSRCH'\n"
     ]
    },
    {
     "name": "stdout",
     "output_type": "stream",
     "text": [
      "[=========================                                                                           ]  26% (16412/64224; ~23m until finished)"
     ]
    },
    {
     "name": "stderr",
     "output_type": "stream",
     "text": [
      "2021-11-06 13:27:07,881 [WARNING] Optimization warning (l_bfgs_b): b'ABNORMAL_TERMINATION_IN_LNSRCH'\n"
     ]
    },
    {
     "name": "stdout",
     "output_type": "stream",
     "text": [
      "[=========================                                                                           ]  26% (16415/64224; ~23m until finished)"
     ]
    },
    {
     "name": "stderr",
     "output_type": "stream",
     "text": [
      "2021-11-06 13:27:08,005 [WARNING] Optimization warning (l_bfgs_b): b'ABNORMAL_TERMINATION_IN_LNSRCH'\n"
     ]
    },
    {
     "name": "stdout",
     "output_type": "stream",
     "text": [
      "\r",
      "[=========================                                                                           ]  26% (16416/64224; ~23m until finished)"
     ]
    },
    {
     "name": "stderr",
     "output_type": "stream",
     "text": [
      "2021-11-06 13:27:08,112 [WARNING] Optimization warning (l_bfgs_b): b'ABNORMAL_TERMINATION_IN_LNSRCH'\n"
     ]
    },
    {
     "name": "stdout",
     "output_type": "stream",
     "text": [
      "[=========================                                                                           ]  26% (16419/64224; ~23m until finished)"
     ]
    },
    {
     "name": "stderr",
     "output_type": "stream",
     "text": [
      "2021-11-06 13:27:08,287 [WARNING] Optimization warning (l_bfgs_b): b'ABNORMAL_TERMINATION_IN_LNSRCH'\n"
     ]
    },
    {
     "name": "stdout",
     "output_type": "stream",
     "text": [
      "\r",
      "[=========================                                                                           ]  26% (16420/64224; ~24m until finished)"
     ]
    },
    {
     "name": "stderr",
     "output_type": "stream",
     "text": [
      "2021-11-06 13:27:08,439 [WARNING] Optimization warning (l_bfgs_b): b'ABNORMAL_TERMINATION_IN_LNSRCH'\n"
     ]
    },
    {
     "name": "stdout",
     "output_type": "stream",
     "text": [
      "[=========================                                                                           ]  26% (16427/64224; ~24m until finished)"
     ]
    },
    {
     "name": "stderr",
     "output_type": "stream",
     "text": [
      "2021-11-06 13:27:08,729 [WARNING] Optimization warning (l_bfgs_b): b'ABNORMAL_TERMINATION_IN_LNSRCH'\n"
     ]
    },
    {
     "name": "stdout",
     "output_type": "stream",
     "text": [
      "[=========================                                                                           ]  26% (16445/64224; ~23m until finished)"
     ]
    },
    {
     "name": "stderr",
     "output_type": "stream",
     "text": [
      "2021-11-06 13:27:09,304 [WARNING] Optimization warning (l_bfgs_b): b'ABNORMAL_TERMINATION_IN_LNSRCH'\n"
     ]
    },
    {
     "name": "stdout",
     "output_type": "stream",
     "text": [
      "[=========================                                                                           ]  26% (16448/64224; ~24m until finished)"
     ]
    },
    {
     "name": "stderr",
     "output_type": "stream",
     "text": [
      "2021-11-06 13:27:09,560 [WARNING] Optimization warning (l_bfgs_b): b'ABNORMAL_TERMINATION_IN_LNSRCH'\n"
     ]
    },
    {
     "name": "stdout",
     "output_type": "stream",
     "text": [
      "[=========================                                                                           ]  26% (16482/64224; ~23m until finished)"
     ]
    },
    {
     "name": "stderr",
     "output_type": "stream",
     "text": [
      "2021-11-06 13:27:10,460 [WARNING] Optimization warning (l_bfgs_b): b'ABNORMAL_TERMINATION_IN_LNSRCH'\n"
     ]
    },
    {
     "name": "stdout",
     "output_type": "stream",
     "text": [
      "[=========================                                                                           ]  26% (16484/64224; ~23m until finished)"
     ]
    },
    {
     "name": "stderr",
     "output_type": "stream",
     "text": [
      "2021-11-06 13:27:10,630 [WARNING] Optimization warning (l_bfgs_b): b'ABNORMAL_TERMINATION_IN_LNSRCH'\n"
     ]
    },
    {
     "name": "stdout",
     "output_type": "stream",
     "text": [
      "[=========================                                                                           ]  26% (16501/64224; ~23m until finished)"
     ]
    },
    {
     "name": "stderr",
     "output_type": "stream",
     "text": [
      "2021-11-06 13:27:11,152 [WARNING] Optimization warning (l_bfgs_b): b'ABNORMAL_TERMINATION_IN_LNSRCH'\n"
     ]
    },
    {
     "name": "stdout",
     "output_type": "stream",
     "text": [
      "[=========================                                                                           ]  26% (16515/64224; ~23m until finished)"
     ]
    },
    {
     "name": "stderr",
     "output_type": "stream",
     "text": [
      "2021-11-06 13:27:11,516 [WARNING] Optimization warning (l_bfgs_b): b'ABNORMAL_TERMINATION_IN_LNSRCH'\n"
     ]
    },
    {
     "name": "stdout",
     "output_type": "stream",
     "text": [
      "[=========================                                                                           ]  26% (16518/64224; ~23m until finished)"
     ]
    },
    {
     "name": "stderr",
     "output_type": "stream",
     "text": [
      "2021-11-06 13:27:11,659 [WARNING] Optimization warning (l_bfgs_b): b'ABNORMAL_TERMINATION_IN_LNSRCH'\n"
     ]
    },
    {
     "name": "stdout",
     "output_type": "stream",
     "text": [
      "\r",
      "[=========================                                                                           ]  26% (16519/64224; ~23m until finished)"
     ]
    },
    {
     "name": "stderr",
     "output_type": "stream",
     "text": [
      "2021-11-06 13:27:11,740 [WARNING] Optimization warning (l_bfgs_b): b'ABNORMAL_TERMINATION_IN_LNSRCH'\n"
     ]
    },
    {
     "name": "stdout",
     "output_type": "stream",
     "text": [
      "[=========================                                                                           ]  26% (16523/64224; ~23m until finished)"
     ]
    },
    {
     "name": "stderr",
     "output_type": "stream",
     "text": [
      "2021-11-06 13:27:11,888 [WARNING] Optimization warning (l_bfgs_b): b'ABNORMAL_TERMINATION_IN_LNSRCH'\n"
     ]
    },
    {
     "name": "stdout",
     "output_type": "stream",
     "text": [
      "[=========================                                                                           ]  26% (16526/64224; ~23m until finished)"
     ]
    },
    {
     "name": "stderr",
     "output_type": "stream",
     "text": [
      "2021-11-06 13:27:12,056 [WARNING] Optimization warning (l_bfgs_b): b'ABNORMAL_TERMINATION_IN_LNSRCH'\n"
     ]
    },
    {
     "name": "stdout",
     "output_type": "stream",
     "text": [
      "[=========================                                                                           ]  26% (16530/64224; ~23m until finished)"
     ]
    },
    {
     "name": "stderr",
     "output_type": "stream",
     "text": [
      "2021-11-06 13:27:12,195 [WARNING] Optimization warning (l_bfgs_b): b'ABNORMAL_TERMINATION_IN_LNSRCH'\n"
     ]
    },
    {
     "name": "stdout",
     "output_type": "stream",
     "text": [
      "[=========================                                                                           ]  26% (16534/64224; ~23m until finished)"
     ]
    },
    {
     "name": "stderr",
     "output_type": "stream",
     "text": [
      "2021-11-06 13:27:12,366 [WARNING] Optimization warning (l_bfgs_b): b'ABNORMAL_TERMINATION_IN_LNSRCH'\n"
     ]
    },
    {
     "name": "stdout",
     "output_type": "stream",
     "text": [
      "\r",
      "[=========================                                                                           ]  26% (16535/64224; ~23m until finished)"
     ]
    },
    {
     "name": "stderr",
     "output_type": "stream",
     "text": [
      "2021-11-06 13:27:12,451 [WARNING] Optimization warning (l_bfgs_b): b'ABNORMAL_TERMINATION_IN_LNSRCH'\n"
     ]
    },
    {
     "name": "stdout",
     "output_type": "stream",
     "text": [
      "[=========================                                                                           ]  26% (16537/64224; ~23m until finished)"
     ]
    },
    {
     "name": "stderr",
     "output_type": "stream",
     "text": [
      "2021-11-06 13:27:12,567 [WARNING] Optimization warning (l_bfgs_b): b'ABNORMAL_TERMINATION_IN_LNSRCH'\n"
     ]
    },
    {
     "name": "stdout",
     "output_type": "stream",
     "text": [
      "[=========================                                                                           ]  26% (16542/64224; ~23m until finished)"
     ]
    },
    {
     "name": "stderr",
     "output_type": "stream",
     "text": [
      "2021-11-06 13:27:12,807 [WARNING] Optimization warning (l_bfgs_b): b'ABNORMAL_TERMINATION_IN_LNSRCH'\n"
     ]
    },
    {
     "name": "stdout",
     "output_type": "stream",
     "text": [
      "[=========================                                                                           ]  26% (16551/64224; ~23m until finished)"
     ]
    },
    {
     "name": "stderr",
     "output_type": "stream",
     "text": [
      "2021-11-06 13:27:13,128 [WARNING] Optimization warning (l_bfgs_b): b'ABNORMAL_TERMINATION_IN_LNSRCH'\n"
     ]
    },
    {
     "name": "stdout",
     "output_type": "stream",
     "text": [
      "[=========================                                                                           ]  26% (16565/64224; ~23m until finished)"
     ]
    },
    {
     "name": "stderr",
     "output_type": "stream",
     "text": [
      "2021-11-06 13:27:13,587 [WARNING] Optimization warning (l_bfgs_b): b'ABNORMAL_TERMINATION_IN_LNSRCH'\n"
     ]
    },
    {
     "name": "stdout",
     "output_type": "stream",
     "text": [
      "[=========================                                                                           ]  26% (16603/64224; ~23m until finished)"
     ]
    },
    {
     "name": "stderr",
     "output_type": "stream",
     "text": [
      "2021-11-06 13:27:14,620 [WARNING] Optimization warning (l_bfgs_b): b'ABNORMAL_TERMINATION_IN_LNSRCH'\n"
     ]
    },
    {
     "name": "stdout",
     "output_type": "stream",
     "text": [
      "\r",
      "[=========================                                                                           ]  26% (16604/64224; ~23m until finished)"
     ]
    },
    {
     "name": "stderr",
     "output_type": "stream",
     "text": [
      "2021-11-06 13:27:14,760 [WARNING] Optimization warning (l_bfgs_b): b'ABNORMAL_TERMINATION_IN_LNSRCH'\n"
     ]
    },
    {
     "name": "stdout",
     "output_type": "stream",
     "text": [
      "[=========================                                                                           ]  26% (16621/64224; ~23m until finished)"
     ]
    },
    {
     "name": "stderr",
     "output_type": "stream",
     "text": [
      "2021-11-06 13:27:15,219 [WARNING] Optimization warning (l_bfgs_b): b'ABNORMAL_TERMINATION_IN_LNSRCH'\n"
     ]
    },
    {
     "name": "stdout",
     "output_type": "stream",
     "text": [
      "[==========================                                                                          ]  26% (16738/64224; ~23m until finished)"
     ]
    },
    {
     "name": "stderr",
     "output_type": "stream",
     "text": [
      "2021-11-06 13:27:18,480 [WARNING] Optimization warning (l_bfgs_b): b'ABNORMAL_TERMINATION_IN_LNSRCH'\n"
     ]
    },
    {
     "name": "stdout",
     "output_type": "stream",
     "text": [
      "[==========================                                                                          ]  26% (16760/64224; ~23m until finished)"
     ]
    },
    {
     "name": "stderr",
     "output_type": "stream",
     "text": [
      "2021-11-06 13:27:18,995 [WARNING] Optimization warning (l_bfgs_b): b'ABNORMAL_TERMINATION_IN_LNSRCH'\n"
     ]
    },
    {
     "name": "stdout",
     "output_type": "stream",
     "text": [
      "[==========================                                                                          ]  26% (16849/64224; ~23m until finished)"
     ]
    },
    {
     "name": "stderr",
     "output_type": "stream",
     "text": [
      "2021-11-06 13:27:21,096 [WARNING] Optimization warning (l_bfgs_b): b'ABNORMAL_TERMINATION_IN_LNSRCH'\n"
     ]
    },
    {
     "name": "stdout",
     "output_type": "stream",
     "text": [
      "[==========================                                                                          ]  26% (16856/64224; ~23m until finished)"
     ]
    }
   ],
   "source": [
    "# This is where the magic happens! We train the Cannon! \n",
    "if not model.is_trained:\n",
    "    theta, s2, metadata = model.train(threads=1)"
   ]
  },
  {
   "cell_type": "code",
   "execution_count": null,
   "metadata": {},
   "outputs": [],
   "source": [
    "model.write('models/'+model_file+'.model')"
   ]
  },
  {
   "cell_type": "code",
   "execution_count": null,
   "metadata": {
    "code_folding": [
     1
    ],
    "scrolled": false
   },
   "outputs": [],
   "source": [
    "# Now let's plot some of the coefficients to get an idea, which pixels the model considers interesting.\n",
    "def plot_coefficients(model, index, ccds=[1,2,3,4], overplot_sme=False):\n",
    "    \n",
    "    # let's have an option to plot the scatter with a negative index\n",
    "    if index == -1:\n",
    "        ylabel = 'scatter'\n",
    "    else:\n",
    "        ylabel = model.vectorizer.get_human_readable_label_term(index,\n",
    "                label_names = model.vectorizer.label_names, mul='\\cdot', pow='^')\n",
    "        \n",
    "    f, gs = plt.subplots(1,len(ccds),figsize=(15,2),sharey=True)\n",
    "    \n",
    "    for ccd in ccds:\n",
    "        ax=gs[ccd-1]\n",
    "        \n",
    "        in_wavelength_range = (wavelength_array >= (3+ccd)*1000) & (wavelength_array <= (4+ccd)*1000)\n",
    "                                             \n",
    "        if index == -1:\n",
    "            ax.plot(\n",
    "                wavelength_array[in_wavelength_range],\n",
    "                model.s2[in_wavelength_range]**0.5,\n",
    "                lw=0.5,c='C0'\n",
    "            )\n",
    "            #ax.set_ylim(0,0.1)\n",
    "        else:\n",
    "            if (overplot_sme & (index < 36)):\n",
    "                \n",
    "                synthetic_spectrum_0 = readsav('../../spectrum_grids/solar_twin_grid/solar_twin_grid_ind_xfe/specout_ind_xfe/solar_twin_grid_210831_0_ccd'+str(ccd)+'_smod_sint.sav').results[0]\n",
    "                #broadened_smod_0 = apply_gauss_broad(synthetic_spectrum_0.wave,synthetic_spectrum_0.smod,ipres=25000)\n",
    "\n",
    "                if index == 0:\n",
    "                    ax.plot(\n",
    "                        synthetic_spectrum_0.wave,\n",
    "                        synthetic_spectrum_0.smod,\n",
    "                        lw=1,c='C1',label='SME'\n",
    "                    )\n",
    "                else:\n",
    "                    synthetic_spectrum_index = readsav('../../spectrum_grids/solar_twin_grid/solar_twin_grid_ind_xfe/specout_ind_xfe/solar_twin_grid_210831_'+str(index)+'_ccd'+str(ccd)+'_smod_sint.sav').results[0]\n",
    "                    broadened_smod_index = apply_gauss_broad(synthetic_spectrum_index.wave,synthetic_spectrum_index.smod,ipres=25000)\n",
    "                    rescale = 1\n",
    "                    if index==5:\n",
    "                        rescale=7\n",
    "                    ax.plot(\n",
    "                        synthetic_spectrum_0.wave,\n",
    "                        #synthetic_spectrum_index.smod - synthetic_spectrum_0.smod,\n",
    "                        rescale*(synthetic_spectrum_0.smod - synthetic_spectrum_index.smod),\n",
    "                        lw=1,c='C1',label='SME'\n",
    "                    )\n",
    "            ax.plot(\n",
    "                wavelength_array[in_wavelength_range],\n",
    "                model.theta[in_wavelength_range,index],\n",
    "                lw=0.5,c='C0',label='TheCannon'\n",
    "            )\n",
    "        ax.set_xlabel('Wavelength CCD'+str(ccd))\n",
    "        \n",
    "        if ccd == 1:\n",
    "            ax.axvline(4713,color='r')\n",
    "            ax.axvline(4903,color='r',label='GALAH Range')\n",
    "        if ccd == 2:\n",
    "            ax.axvline(5648,color='r')\n",
    "            ax.axvline(5873,color='r',label='GALAH Range')\n",
    "        if ccd == 3:\n",
    "            ax.axvline(6478,color='r')\n",
    "            ax.axvline(6737,color='r',label='GALAH Range')\n",
    "        if ccd == 4:\n",
    "            ax.axvline(7585,color='r')\n",
    "            ax.axvline(7887,color='r',label='GALAH Range')\n",
    "\n",
    "        if ccd==ccds[-1]:\n",
    "            ax.legend(ncol=3,fontsize=8,columnspacing=0.5)\n",
    "\n",
    "        if ccd==1:\n",
    "            ax.set_ylabel(ylabel)\n",
    "    plt.tight_layout()\n",
    "    #plt.savefig('coefficient_plots/pm1dex_35labels/solar_twin_grid_pm1dex_35labels_coeff_'+ylabel+'.png',dpi=300,bbox_inches='tight')\n",
    "    plt.show()\n",
    "    plt.close()\n",
    "\n",
    "#for index in range(-1,np.shape(model.theta)[1]):\n",
    "for index in range(-1,len(labels)+1):\n",
    "    plot_coefficients(model, index, ccds=[1,2,3,4], overplot_sme=False)"
   ]
  },
  {
   "cell_type": "code",
   "execution_count": null,
   "metadata": {},
   "outputs": [],
   "source": [
    "test_labels, cov, metadata = model.test(training_set_flux, training_set_ivar)"
   ]
  },
  {
   "cell_type": "code",
   "execution_count": null,
   "metadata": {},
   "outputs": [],
   "source": [
    "fig_comparison = tc.plot.one_to_one(model, test_labels)\n",
    "fig_comparison.savefig('diagnostic_plots/'+model_file+'_cross.png',dpi=200,bbox_inches='tight')"
   ]
  },
  {
   "cell_type": "code",
   "execution_count": null,
   "metadata": {},
   "outputs": [],
   "source": [
    "training_set['dteff'] = np.round(training_set['teff'] - test_labels[:,0],decimals=0)\n",
    "training_set['dlogg'] = np.round(training_set['logg'] - test_labels[:,1],decimals=2)\n",
    "training_set['dfe_h'] = np.round(training_set['fe_h'] - test_labels[:,2],decimals=2)\n",
    "training_set['c_teff'] = np.round(test_labels[:,0],decimals=0)\n",
    "training_set['c_logg'] = np.round(test_labels[:,1],decimals=2)\n",
    "training_set['c_fe_h'] = np.round(test_labels[:,2],decimals=2)"
   ]
  },
  {
   "cell_type": "code",
   "execution_count": null,
   "metadata": {
    "code_folding": [
     0
    ]
   },
   "outputs": [],
   "source": [
    "# comparison in TEFF/LOGG/FEH\n",
    "f, gs = plt.subplots(2,2,sharex=True,sharey=True,figsize=(10,8))\n",
    "ax=gs[0,0]\n",
    "ax.set_title('SME')\n",
    "for feh in np.unique(training_set['fe_h']):\n",
    "    in_fe_h = (training_set['fe_h'] == feh)\n",
    "    s = ax.scatter(\n",
    "        training_set['teff'][in_fe_h],\n",
    "        training_set['logg'][in_fe_h],\n",
    "        c=training_set['fe_h'][in_fe_h],\n",
    "        s=40-50*training_set['fe_h'][in_fe_h],\n",
    "        vmin=np.min(training_set['fe_h']),vmax=np.max(training_set['fe_h'])\n",
    "    )\n",
    "c = plt.colorbar(s,ax=ax)\n",
    "c.set_label('SME [Fe/H]')\n",
    "\n",
    "ax.set_xlabel('$T_{eff}$ / K')\n",
    "ax.set_ylabel(r'$\\log$ ($g$ / cm s$^{-2}$)')\n",
    "\n",
    "ax=gs[0,1]\n",
    "ax.set_title('$The$ $Cannon$')\n",
    "s = ax.scatter(\n",
    "    test_labels[:,0],\n",
    "    test_labels[:,1],\n",
    "    c = training_set['teff']-test_labels[:,0]\n",
    ")\n",
    "ax.set_xlabel('$T_{eff}$ / K')\n",
    "c = plt.colorbar(s,ax=ax)\n",
    "c.set_label('SME $T_{eff}$ / K')\n",
    "\n",
    "ax=gs[1,0]\n",
    "ax.set_title('$The$ $Cannon$')\n",
    "s = ax.scatter(\n",
    "    test_labels[:,0],\n",
    "    test_labels[:,1],\n",
    "    c = training_set['logg']-test_labels[:,1]\n",
    ")\n",
    "ax.set_xlabel('$T_{eff}$ / K')\n",
    "c = plt.colorbar(s,ax=ax)\n",
    "c.set_label('SME $\\log$ ($g$ / cm s$^{-2}$)')\n",
    "\n",
    "ax=gs[1,1]\n",
    "ax.set_title('$The$ $Cannon$')\n",
    "s = ax.scatter(\n",
    "    test_labels[:,0],\n",
    "    test_labels[:,1],\n",
    "    c = training_set['fe_h']-test_labels[:,2]\n",
    ")\n",
    "ax.set_xlabel('$T_{eff}$ / K')\n",
    "c = plt.colorbar(s,ax=ax)\n",
    "c.set_label('SME [Fe/H]')\n",
    "ax.invert_xaxis()\n",
    "ax.invert_yaxis()\n",
    "#ax.set_xlim(6750,4000)\n",
    "#ax.set_ylim(5.5,2.75)\n",
    "\n",
    "plt.tight_layout()\n",
    "plt.savefig('diagnostic_plots/'+model_file+'_tefflogg.png')"
   ]
  },
  {
   "cell_type": "code",
   "execution_count": null,
   "metadata": {},
   "outputs": [],
   "source": []
  }
 ],
 "metadata": {
  "kernelspec": {
   "display_name": "Python 3",
   "language": "python",
   "name": "python3"
  },
  "language_info": {
   "codemirror_mode": {
    "name": "ipython",
    "version": 3
   },
   "file_extension": ".py",
   "mimetype": "text/x-python",
   "name": "python",
   "nbconvert_exporter": "python",
   "pygments_lexer": "ipython3",
   "version": "3.7.4"
  }
 },
 "nbformat": 4,
 "nbformat_minor": 2
}
