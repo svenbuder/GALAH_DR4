{
 "cells": [
  {
   "cell_type": "markdown",
   "metadata": {},
   "source": [
    "# This is the part of the code, where we train The Cannon"
   ]
  },
  {
   "cell_type": "code",
   "execution_count": null,
   "metadata": {},
   "outputs": [],
   "source": [
    "# Compatibility with Python 3\n",
    "from __future__ import (absolute_import, division, print_function)\n",
    "\n",
    "try:\n",
    "    %matplotlib inline\n",
    "    %config InlineBackend.figure_format='retina'\n",
    "except:\n",
    "    pass\n",
    "\n",
    "# Basic Tools\n",
    "import numpy as np\n",
    "from astropy.table import Table\n",
    "import pickle\n",
    "import matplotlib.pyplot as plt\n",
    "\n",
    "# The Cannon\n",
    "import thecannon as tc # see https://github.com/andycasey/AnniesLasso for more details"
   ]
  },
  {
   "cell_type": "markdown",
   "metadata": {},
   "source": [
    "What do we have to do for the training?\n",
    "Let's follow the description from https://annieslasso.readthedocs.io/en/latest/guide.html"
   ]
  },
  {
   "cell_type": "code",
   "execution_count": null,
   "metadata": {},
   "outputs": [],
   "source": [
    "# choose one grid_index\n",
    "grid_index = 1931"
   ]
  },
  {
   "cell_type": "code",
   "execution_count": null,
   "metadata": {},
   "outputs": [],
   "source": [
    "try:\n",
    "    grids = Table.read('../../spectrum_grids/galah_dr4_model_trainingset_gridpoints.fits')\n",
    "    teff_logg_feh_name = str(int(grids['teff_subgrid'][grid_index]))+'_'+\"{:.2f}\".format(grids['logg_subgrid'][grid_index])+'_'+\"{:.2f}\".format(grids['fe_h_subgrid'][grid_index])\n",
    "\n",
    "    training_set = Table.read('training_input/5750_4.50_0.00/galah_dr4_cannon_trainingset_5750_4.50_0.00_incl_vsini.fits')\n",
    "    masks = Table.read('training_input/5750_4.50_0.00/5750_4.50_0.00_masks.fits')\n",
    "\n",
    "    wavelength_file = 'training_input/galah_dr4_3dbin_thecannon_wavelength_array.pickle'\n",
    "    flux_ivar_file = 'training_input/5750_4.50_0.00/galah_dr4_cannon_trainingset_5750_4.50_0.00_incl_vsini_flux_ivar.pickle'\n",
    "\n",
    "    flux_ivar_file_opener = open(flux_ivar_file,'rb')\n",
    "    training_set_flux,training_set_ivar = pickle.load(flux_ivar_file_opener)\n",
    "    flux_ivar_file_opener.close()\n",
    "    wavelength_file_opener = open(wavelength_file,'rb')\n",
    "    wavelength_array = pickle.load(wavelength_file_opener)\n",
    "    wavelength_file_opener.close()\n",
    "\n",
    "    print('Succesfully read in all information needed for grid index '+str(grid_index)+' corresponding to '+teff_logg_feh_name)\n",
    "\n",
    "except:\n",
    "    raise ValueError('There are only '+str(len(grids))+' entries within the grid')"
   ]
  },
  {
   "cell_type": "code",
   "execution_count": null,
   "metadata": {},
   "outputs": [],
   "source": [
    "labels = tuple(training_set.keys()[2:-1])\n",
    "\n",
    "# labels = tuple([\n",
    "#     'teff', \n",
    "#     'logg', \n",
    "#     'fe_h', \n",
    "#     'vmic', \n",
    "#     'vsini', \n",
    "#     'li_fe', \n",
    "#     'c_fe', \n",
    "#     'n_fe', \n",
    "#     'o_fe', \n",
    "#     #'na_fe', \n",
    "#     #'mg_fe', \n",
    "#     #'al_fe', \n",
    "#     #'si_fe', \n",
    "#     #'k_fe', \n",
    "#     #'ca_fe', \n",
    "#     #'sc_fe', \n",
    "#     #'ti_fe', \n",
    "#     #'v_fe', \n",
    "#     #'cr_fe', \n",
    "#     #'mn_fe', \n",
    "#     #'co_fe', \n",
    "#     #'ni_fe', \n",
    "#     #'cu_fe', \n",
    "#     #'zn_fe', \n",
    "#     #'rb_fe', \n",
    "#     #'sr_fe', \n",
    "#     #'y_fe', \n",
    "#     #'zr_fe', \n",
    "#     #'mo_fe', \n",
    "#     #'ru_fe', \n",
    "#     #'ba_fe', \n",
    "#     #'la_fe', \n",
    "#     #'ce_fe', \n",
    "#     #'nd_fe', \n",
    "#     #'sm_fe', \n",
    "#     #'eu_fe'\n",
    "# ])\n",
    "\n",
    "print('Labels to be fitted: ',len(labels))\n",
    "print(labels)"
   ]
  },
  {
   "cell_type": "code",
   "execution_count": null,
   "metadata": {},
   "outputs": [],
   "source": [
    "order = 2\n",
    "\n",
    "model_file = 'galah_dr4_thecannon_model_'+teff_logg_feh_name+'_order'+str(order)+'_'+str(len(labels))+'labels'\n",
    "\n",
    "try:\n",
    "    model = tc.CannonModel.read('models/'+model_file+'.model')\n",
    "    print('Model already exists')\n",
    "except:    \n",
    "    print('Will create The Cannon model to be stored at ')\n",
    "    print('models/'+model_file+'.model')"
   ]
  },
  {
   "cell_type": "code",
   "execution_count": null,
   "metadata": {},
   "outputs": [],
   "source": [
    "# Convert training set labels into The Cannon readible format\n",
    "training_set_labels = Table()\n",
    "for label in labels:\n",
    "    training_set_labels[label] = training_set[label]"
   ]
  },
  {
   "cell_type": "code",
   "execution_count": null,
   "metadata": {},
   "outputs": [],
   "source": [
    "model = tc.CannonModel(\n",
    "    training_set_labels, training_set_flux, training_set_ivar,\n",
    "    vectorizer=tc.vectorizer.PolynomialVectorizer(labels, order),dispersion=wavelength_array)"
   ]
  },
  {
   "cell_type": "code",
   "execution_count": null,
   "metadata": {},
   "outputs": [],
   "source": [
    "# Apply censoring\n",
    "for label in enumerate(labels):\n",
    "    if label[1] not in ['vsini']:\n",
    "        model.censors[label[1]] = masks[label[1]]"
   ]
  },
  {
   "cell_type": "code",
   "execution_count": null,
   "metadata": {
    "scrolled": false
   },
   "outputs": [],
   "source": [
    "# This is where the magic happens! We train the Cannon! \n",
    "if not model.is_trained:\n",
    "    theta, s2, metadata = model.train(threads=1)"
   ]
  },
  {
   "cell_type": "code",
   "execution_count": null,
   "metadata": {},
   "outputs": [],
   "source": [
    "model.write('models/'+model_file+'.model')"
   ]
  },
  {
   "cell_type": "code",
   "execution_count": null,
   "metadata": {
    "code_folding": [
     1
    ],
    "scrolled": false
   },
   "outputs": [],
   "source": [
    "# Now let's plot some of the coefficients to get an idea, which pixels the model considers interesting.\n",
    "def plot_coefficients(model, index, ccds=[1,2,3,4], overplot_sme=False):\n",
    "    \n",
    "    # let's have an option to plot the scatter with a negative index\n",
    "    if index == -1:\n",
    "        ylabel = 'scatter'\n",
    "    else:\n",
    "        ylabel = model.vectorizer.get_human_readable_label_term(index,\n",
    "                label_names = model.vectorizer.label_names, mul='\\cdot', pow='^')\n",
    "        \n",
    "    f, gs = plt.subplots(1,len(ccds),figsize=(15,2),sharey=True)\n",
    "    \n",
    "    for ccd in ccds:\n",
    "        ax=gs[ccd-1]\n",
    "        \n",
    "        in_wavelength_range = (wavelength_array >= (3+ccd)*1000) & (wavelength_array <= (4+ccd)*1000)\n",
    "                                             \n",
    "        if index == -1:\n",
    "            ax.plot(\n",
    "                wavelength_array[in_wavelength_range],\n",
    "                model.s2[in_wavelength_range]**0.5,\n",
    "                lw=0.5,c='C0'\n",
    "            )\n",
    "            #ax.set_ylim(0,0.1)\n",
    "        else:\n",
    "            if (overplot_sme & (index < 36)):\n",
    "                \n",
    "                synthetic_spectrum_0 = readsav('../../spectrum_grids/solar_twin_grid/solar_twin_grid_ind_xfe/specout_ind_xfe/solar_twin_grid_210831_0_ccd'+str(ccd)+'_smod_sint.sav').results[0]\n",
    "                #broadened_smod_0 = apply_gauss_broad(synthetic_spectrum_0.wave,synthetic_spectrum_0.smod,ipres=25000)\n",
    "\n",
    "                if index == 0:\n",
    "                    ax.plot(\n",
    "                        synthetic_spectrum_0.wave,\n",
    "                        synthetic_spectrum_0.smod,\n",
    "                        lw=1,c='C1',label='SME'\n",
    "                    )\n",
    "                else:\n",
    "                    synthetic_spectrum_index = readsav('../../spectrum_grids/solar_twin_grid/solar_twin_grid_ind_xfe/specout_ind_xfe/solar_twin_grid_210831_'+str(index)+'_ccd'+str(ccd)+'_smod_sint.sav').results[0]\n",
    "                    broadened_smod_index = apply_gauss_broad(synthetic_spectrum_index.wave,synthetic_spectrum_index.smod,ipres=25000)\n",
    "                    rescale = 1\n",
    "                    if index==5:\n",
    "                        rescale=7\n",
    "                    ax.plot(\n",
    "                        synthetic_spectrum_0.wave,\n",
    "                        #synthetic_spectrum_index.smod - synthetic_spectrum_0.smod,\n",
    "                        rescale*(synthetic_spectrum_0.smod - synthetic_spectrum_index.smod),\n",
    "                        lw=1,c='C1',label='SME'\n",
    "                    )\n",
    "            ax.plot(\n",
    "                wavelength_array[in_wavelength_range],\n",
    "                model.theta[in_wavelength_range,index],\n",
    "                lw=0.5,c='C0',label='TheCannon'\n",
    "            )\n",
    "        ax.set_xlabel('Wavelength CCD'+str(ccd))\n",
    "        \n",
    "        if ccd == 1:\n",
    "            ax.axvline(4713,color='r')\n",
    "            ax.axvline(4903,color='r',label='GALAH Range')\n",
    "        if ccd == 2:\n",
    "            ax.axvline(5648,color='r')\n",
    "            ax.axvline(5873,color='r',label='GALAH Range')\n",
    "        if ccd == 3:\n",
    "            ax.axvline(6478,color='r')\n",
    "            ax.axvline(6737,color='r',label='GALAH Range')\n",
    "        if ccd == 4:\n",
    "            ax.axvline(7585,color='r')\n",
    "            ax.axvline(7887,color='r',label='GALAH Range')\n",
    "\n",
    "        if ccd==ccds[-1]:\n",
    "            ax.legend(ncol=3,fontsize=8,columnspacing=0.5)\n",
    "\n",
    "        if ccd==1:\n",
    "            ax.set_ylabel(ylabel)\n",
    "    plt.tight_layout()\n",
    "    #plt.savefig('coefficient_plots/pm1dex_35labels/solar_twin_grid_pm1dex_35labels_coeff_'+ylabel+'.png',dpi=300,bbox_inches='tight')\n",
    "    plt.show()\n",
    "    plt.close()\n",
    "\n",
    "#for index in range(-1,np.shape(model.theta)[1]):\n",
    "for index in range(-1,len(labels)+1):\n",
    "    plot_coefficients(model, index, ccds=[1,2,3,4], overplot_sme=False)"
   ]
  },
  {
   "cell_type": "code",
   "execution_count": null,
   "metadata": {},
   "outputs": [],
   "source": [
    "test_labels, cov, metadata = model.test(training_set_flux, training_set_ivar)"
   ]
  },
  {
   "cell_type": "code",
   "execution_count": null,
   "metadata": {},
   "outputs": [],
   "source": [
    "fig_comparison = tc.plot.one_to_one(model, test_labels)\n",
    "fig_comparison.savefig('diagnostic_plots/'+model_file+'_cross.png',dpi=200,bbox_inches='tight')"
   ]
  },
  {
   "cell_type": "code",
   "execution_count": null,
   "metadata": {},
   "outputs": [],
   "source": [
    "training_set['dteff'] = np.round(training_set['teff'] - test_labels[:,0],decimals=0)\n",
    "training_set['dlogg'] = np.round(training_set['logg'] - test_labels[:,1],decimals=2)\n",
    "training_set['dfe_h'] = np.round(training_set['fe_h'] - test_labels[:,2],decimals=2)\n",
    "training_set['c_teff'] = np.round(test_labels[:,0],decimals=0)\n",
    "training_set['c_logg'] = np.round(test_labels[:,1],decimals=2)\n",
    "training_set['c_fe_h'] = np.round(test_labels[:,2],decimals=2)"
   ]
  },
  {
   "cell_type": "code",
   "execution_count": null,
   "metadata": {
    "code_folding": [
     0
    ]
   },
   "outputs": [],
   "source": [
    "# comparison in TEFF/LOGG/FEH\n",
    "f, gs = plt.subplots(2,2,sharex=True,sharey=True,figsize=(10,8))\n",
    "ax=gs[0,0]\n",
    "ax.set_title('SME')\n",
    "for feh in np.unique(training_set['fe_h']):\n",
    "    in_fe_h = (training_set['fe_h'] == feh)\n",
    "    s = ax.scatter(\n",
    "        training_set['teff'][in_fe_h],\n",
    "        training_set['logg'][in_fe_h],\n",
    "        c=training_set['fe_h'][in_fe_h],\n",
    "        s=40-50*training_set['fe_h'][in_fe_h],\n",
    "        vmin=np.min(training_set['fe_h']),vmax=np.max(training_set['fe_h'])\n",
    "    )\n",
    "c = plt.colorbar(s,ax=ax)\n",
    "c.set_label('SME [Fe/H]')\n",
    "\n",
    "ax.set_xlabel('$T_{eff}$ / K')\n",
    "ax.set_ylabel(r'$\\log$ ($g$ / cm s$^{-2}$)')\n",
    "\n",
    "ax=gs[0,1]\n",
    "ax.set_title('$The$ $Cannon$')\n",
    "s = ax.scatter(\n",
    "    test_labels[:,0],\n",
    "    test_labels[:,1],\n",
    "    c = training_set['teff']-test_labels[:,0]\n",
    ")\n",
    "ax.set_xlabel('$T_{eff}$ / K')\n",
    "c = plt.colorbar(s,ax=ax)\n",
    "c.set_label('SME $T_{eff}$ / K')\n",
    "\n",
    "ax=gs[1,0]\n",
    "ax.set_title('$The$ $Cannon$')\n",
    "s = ax.scatter(\n",
    "    test_labels[:,0],\n",
    "    test_labels[:,1],\n",
    "    c = training_set['logg']-test_labels[:,1]\n",
    ")\n",
    "ax.set_xlabel('$T_{eff}$ / K')\n",
    "c = plt.colorbar(s,ax=ax)\n",
    "c.set_label('SME $\\log$ ($g$ / cm s$^{-2}$)')\n",
    "\n",
    "ax=gs[1,1]\n",
    "ax.set_title('$The$ $Cannon$')\n",
    "s = ax.scatter(\n",
    "    test_labels[:,0],\n",
    "    test_labels[:,1],\n",
    "    c = training_set['fe_h']-test_labels[:,2]\n",
    ")\n",
    "ax.set_xlabel('$T_{eff}$ / K')\n",
    "c = plt.colorbar(s,ax=ax)\n",
    "c.set_label('SME [Fe/H]')\n",
    "ax.invert_xaxis()\n",
    "ax.invert_yaxis()\n",
    "#ax.set_xlim(6750,4000)\n",
    "#ax.set_ylim(5.5,2.75)\n",
    "\n",
    "plt.tight_layout()\n",
    "plt.savefig('diagnostic_plots/'+model_file+'_tefflogg.png')"
   ]
  },
  {
   "cell_type": "code",
   "execution_count": null,
   "metadata": {},
   "outputs": [],
   "source": []
  }
 ],
 "metadata": {
  "kernelspec": {
   "display_name": "Python 3",
   "language": "python",
   "name": "python3"
  },
  "language_info": {
   "codemirror_mode": {
    "name": "ipython",
    "version": 3
   },
   "file_extension": ".py",
   "mimetype": "text/x-python",
   "name": "python",
   "nbconvert_exporter": "python",
   "pygments_lexer": "ipython3",
   "version": "3.7.4"
  }
 },
 "nbformat": 4,
 "nbformat_minor": 2
}
