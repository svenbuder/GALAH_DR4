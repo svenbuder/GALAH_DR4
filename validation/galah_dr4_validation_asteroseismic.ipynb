{
 "cells": [
  {
   "cell_type": "code",
   "execution_count": 2,
   "id": "24838d6b",
   "metadata": {},
   "outputs": [],
   "source": [
    "# Preamble \n",
    "try:\n",
    "    %matplotlib inline\n",
    "    %config InlineBackend.figure_format='retina'\n",
    "except:\n",
    "    pass\n",
    "\n",
    "from astropy.table import Table,join,hstack,vstack\n",
    "import glob\n",
    "import numpy as np\n",
    "import matplotlib.pyplot as plt\n",
    "import corner"
   ]
  },
  {
   "cell_type": "code",
   "execution_count": 3,
   "id": "e1a4bdbb",
   "metadata": {},
   "outputs": [],
   "source": [
    "# First read in the unvalidated GALAH DR4 file\n",
    "galah_dr4_raw = Table.read('../analysis_products/galah_dr4_allspec_not_validated.fits')\n",
    "galah_dr4_raw['source_id'] = galah_dr4_raw['gaia_edr3_source_id']"
   ]
  },
  {
   "cell_type": "code",
   "execution_count": 6,
   "id": "66e6f38c",
   "metadata": {},
   "outputs": [],
   "source": [
    "# Then read in GALAH DR3\n",
    "seismic = Table.read('../auxiliary_information/Zinn_Table2_eDR3_xmatch.fits')"
   ]
  },
  {
   "cell_type": "code",
   "execution_count": 10,
   "id": "d866d33e",
   "metadata": {},
   "outputs": [
    {
     "data": {
      "text/plain": [
       "['epic',\n",
       " 'col2mass',\n",
       " 'original_ext_source_id',\n",
       " 'solution_id',\n",
       " 'designation',\n",
       " 'source_id',\n",
       " 'random_index',\n",
       " 'ref_epoch',\n",
       " 'ra',\n",
       " 'ra_error',\n",
       " 'dec',\n",
       " 'dec_error',\n",
       " 'parallax',\n",
       " 'parallax_error',\n",
       " 'parallax_over_error',\n",
       " 'pm',\n",
       " 'pmra',\n",
       " 'pmra_error',\n",
       " 'pmdec',\n",
       " 'pmdec_error',\n",
       " 'ra_dec_corr',\n",
       " 'ra_parallax_corr',\n",
       " 'ra_pmra_corr',\n",
       " 'ra_pmdec_corr',\n",
       " 'dec_parallax_corr',\n",
       " 'dec_pmra_corr',\n",
       " 'dec_pmdec_corr',\n",
       " 'parallax_pmra_corr',\n",
       " 'parallax_pmdec_corr',\n",
       " 'pmra_pmdec_corr',\n",
       " 'astrometric_n_obs_al',\n",
       " 'astrometric_n_obs_ac',\n",
       " 'astrometric_n_good_obs_al',\n",
       " 'astrometric_n_bad_obs_al',\n",
       " 'astrometric_gof_al',\n",
       " 'astrometric_chi2_al',\n",
       " 'astrometric_excess_noise',\n",
       " 'astrometric_excess_noise_sig',\n",
       " 'astrometric_params_solved',\n",
       " 'astrometric_primary_flag',\n",
       " 'nu_eff_used_in_astrometry',\n",
       " 'pseudocolour',\n",
       " 'pseudocolour_error',\n",
       " 'ra_pseudocolour_corr',\n",
       " 'dec_pseudocolour_corr',\n",
       " 'parallax_pseudocolour_corr',\n",
       " 'pmra_pseudocolour_corr',\n",
       " 'pmdec_pseudocolour_corr',\n",
       " 'astrometric_matched_transits',\n",
       " 'visibility_periods_used',\n",
       " 'astrometric_sigma5d_max',\n",
       " 'matched_transits',\n",
       " 'new_matched_transits',\n",
       " 'matched_transits_removed',\n",
       " 'ipd_gof_harmonic_amplitude',\n",
       " 'ipd_gof_harmonic_phase',\n",
       " 'ipd_frac_multi_peak',\n",
       " 'ipd_frac_odd_win',\n",
       " 'ruwe',\n",
       " 'scan_direction_strength_k1',\n",
       " 'scan_direction_strength_k2',\n",
       " 'scan_direction_strength_k3',\n",
       " 'scan_direction_strength_k4',\n",
       " 'scan_direction_mean_k1',\n",
       " 'scan_direction_mean_k2',\n",
       " 'scan_direction_mean_k3',\n",
       " 'scan_direction_mean_k4',\n",
       " 'duplicated_source',\n",
       " 'phot_g_n_obs',\n",
       " 'phot_g_mean_flux',\n",
       " 'phot_g_mean_flux_error',\n",
       " 'phot_g_mean_flux_over_error',\n",
       " 'phot_g_mean_mag',\n",
       " 'phot_bp_n_obs',\n",
       " 'phot_bp_mean_flux',\n",
       " 'phot_bp_mean_flux_error',\n",
       " 'phot_bp_mean_flux_over_error',\n",
       " 'phot_bp_mean_mag',\n",
       " 'phot_rp_n_obs',\n",
       " 'phot_rp_mean_flux',\n",
       " 'phot_rp_mean_flux_error',\n",
       " 'phot_rp_mean_flux_over_error',\n",
       " 'phot_rp_mean_mag',\n",
       " 'phot_bp_n_contaminated_transits',\n",
       " 'phot_bp_n_blended_transits',\n",
       " 'phot_rp_n_contaminated_transits',\n",
       " 'phot_rp_n_blended_transits',\n",
       " 'phot_proc_mode',\n",
       " 'phot_bp_rp_excess_factor',\n",
       " 'bp_rp',\n",
       " 'bp_g',\n",
       " 'g_rp',\n",
       " 'dr2_radial_velocity',\n",
       " 'dr2_radial_velocity_error',\n",
       " 'dr2_rv_nb_transits',\n",
       " 'dr2_rv_template_teff',\n",
       " 'dr2_rv_template_logg',\n",
       " 'dr2_rv_template_fe_h',\n",
       " 'l',\n",
       " 'b',\n",
       " 'ecl_lon',\n",
       " 'ecl_lat',\n",
       " 'tmass_edr3_angular_distance',\n",
       " 'zp_ramos_brown',\n",
       " 'parallax_corr',\n",
       " 'parallax_error_corr',\n",
       " 'edr3_flag']"
      ]
     },
     "execution_count": 10,
     "metadata": {},
     "output_type": "execute_result"
    }
   ],
   "source": [
    "seismic.keys()"
   ]
  },
  {
   "cell_type": "code",
   "execution_count": 7,
   "id": "413d878d",
   "metadata": {},
   "outputs": [],
   "source": [
    "# Join them with the tmass_id keyword\n",
    "joined = join(galah_dr4_raw, seismic, keys='source_id')"
   ]
  },
  {
   "cell_type": "code",
   "execution_count": 8,
   "id": "c103aa0f",
   "metadata": {},
   "outputs": [
    {
     "ename": "KeyError",
     "evalue": "'numax_mean'",
     "output_type": "error",
     "traceback": [
      "\u001b[0;31m---------------------------------------------------------------------------\u001b[0m",
      "\u001b[0;31mKeyError\u001b[0m                                  Traceback (most recent call last)",
      "Input \u001b[0;32mIn [8]\u001b[0m, in \u001b[0;36m<cell line: 3>\u001b[0;34m()\u001b[0m\n\u001b[1;32m      1\u001b[0m nu_max_model \u001b[38;5;241m=\u001b[39m (\u001b[38;5;241m10\u001b[39m\u001b[38;5;241m*\u001b[39m\u001b[38;5;241m*\u001b[39mjoined[\u001b[38;5;124m'\u001b[39m\u001b[38;5;124mlogg\u001b[39m\u001b[38;5;124m'\u001b[39m]) \u001b[38;5;241m/\u001b[39m (\u001b[38;5;241m10\u001b[39m\u001b[38;5;241m*\u001b[39m\u001b[38;5;241m*\u001b[39m\u001b[38;5;241m4.438\u001b[39m) \u001b[38;5;241m*\u001b[39m np\u001b[38;5;241m.\u001b[39msqrt(joined[\u001b[38;5;124m'\u001b[39m\u001b[38;5;124mteff\u001b[39m\u001b[38;5;124m'\u001b[39m] \u001b[38;5;241m/\u001b[39m \u001b[38;5;241m5772.\u001b[39m) \u001b[38;5;241m*\u001b[39m \u001b[38;5;241m3090.\u001b[39m\n\u001b[0;32m----> 3\u001b[0m logg_seis \u001b[38;5;241m=\u001b[39m np\u001b[38;5;241m.\u001b[39mlog10(\u001b[43mjoined\u001b[49m\u001b[43m[\u001b[49m\u001b[38;5;124;43m'\u001b[39;49m\u001b[38;5;124;43mnumax_mean\u001b[39;49m\u001b[38;5;124;43m'\u001b[39;49m\u001b[43m]\u001b[49m \u001b[38;5;241m/\u001b[39m \u001b[38;5;241m3090.\u001b[39m \u001b[38;5;241m*\u001b[39m (\u001b[38;5;241m10\u001b[39m\u001b[38;5;241m*\u001b[39m\u001b[38;5;241m*\u001b[39m\u001b[38;5;241m4.438\u001b[39m) \u001b[38;5;241m*\u001b[39m np\u001b[38;5;241m.\u001b[39msqrt(joined[\u001b[38;5;124m'\u001b[39m\u001b[38;5;124mteff\u001b[39m\u001b[38;5;124m'\u001b[39m] \u001b[38;5;241m/\u001b[39m \u001b[38;5;241m5772.\u001b[39m))\n",
      "File \u001b[0;32m~/opt/anaconda3/lib/python3.9/site-packages/astropy/table/table.py:1882\u001b[0m, in \u001b[0;36mTable.__getitem__\u001b[0;34m(self, item)\u001b[0m\n\u001b[1;32m   1880\u001b[0m \u001b[38;5;28;01mdef\u001b[39;00m \u001b[38;5;21m__getitem__\u001b[39m(\u001b[38;5;28mself\u001b[39m, item):\n\u001b[1;32m   1881\u001b[0m     \u001b[38;5;28;01mif\u001b[39;00m \u001b[38;5;28misinstance\u001b[39m(item, \u001b[38;5;28mstr\u001b[39m):\n\u001b[0;32m-> 1882\u001b[0m         \u001b[38;5;28;01mreturn\u001b[39;00m \u001b[38;5;28;43mself\u001b[39;49m\u001b[38;5;241;43m.\u001b[39;49m\u001b[43mcolumns\u001b[49m\u001b[43m[\u001b[49m\u001b[43mitem\u001b[49m\u001b[43m]\u001b[49m\n\u001b[1;32m   1883\u001b[0m     \u001b[38;5;28;01melif\u001b[39;00m \u001b[38;5;28misinstance\u001b[39m(item, (\u001b[38;5;28mint\u001b[39m, np\u001b[38;5;241m.\u001b[39minteger)):\n\u001b[1;32m   1884\u001b[0m         \u001b[38;5;28;01mreturn\u001b[39;00m \u001b[38;5;28mself\u001b[39m\u001b[38;5;241m.\u001b[39mRow(\u001b[38;5;28mself\u001b[39m, item)\n",
      "File \u001b[0;32m~/opt/anaconda3/lib/python3.9/site-packages/astropy/table/table.py:247\u001b[0m, in \u001b[0;36mTableColumns.__getitem__\u001b[0;34m(self, item)\u001b[0m\n\u001b[1;32m    237\u001b[0m \u001b[38;5;124;03m\"\"\"Get items from a TableColumns object.\u001b[39;00m\n\u001b[1;32m    238\u001b[0m \u001b[38;5;124;03m::\u001b[39;00m\n\u001b[1;32m    239\u001b[0m \n\u001b[0;32m   (...)\u001b[0m\n\u001b[1;32m    244\u001b[0m \u001b[38;5;124;03m  tc[1:3] # <TableColumns names=('b', 'c')>\u001b[39;00m\n\u001b[1;32m    245\u001b[0m \u001b[38;5;124;03m\"\"\"\u001b[39;00m\n\u001b[1;32m    246\u001b[0m \u001b[38;5;28;01mif\u001b[39;00m \u001b[38;5;28misinstance\u001b[39m(item, \u001b[38;5;28mstr\u001b[39m):\n\u001b[0;32m--> 247\u001b[0m     \u001b[38;5;28;01mreturn\u001b[39;00m \u001b[43mOrderedDict\u001b[49m\u001b[38;5;241;43m.\u001b[39;49m\u001b[38;5;21;43m__getitem__\u001b[39;49m\u001b[43m(\u001b[49m\u001b[38;5;28;43mself\u001b[39;49m\u001b[43m,\u001b[49m\u001b[43m \u001b[49m\u001b[43mitem\u001b[49m\u001b[43m)\u001b[49m\n\u001b[1;32m    248\u001b[0m \u001b[38;5;28;01melif\u001b[39;00m \u001b[38;5;28misinstance\u001b[39m(item, (\u001b[38;5;28mint\u001b[39m, np\u001b[38;5;241m.\u001b[39minteger)):\n\u001b[1;32m    249\u001b[0m     \u001b[38;5;28;01mreturn\u001b[39;00m \u001b[38;5;28mlist\u001b[39m(\u001b[38;5;28mself\u001b[39m\u001b[38;5;241m.\u001b[39mvalues())[item]\n",
      "\u001b[0;31mKeyError\u001b[0m: 'numax_mean'"
     ]
    }
   ],
   "source": [
    "nu_max_model = (10**joined['logg']) / (10**4.438) * np.sqrt(joined['teff'] / 5772.) * 3090.\n",
    "\n",
    "logg_seis = np.log10(joined['numax_mean'] / 3090. * (10**4.438) * np.sqrt(joined['teff'] / 5772.))"
   ]
  },
  {
   "cell_type": "code",
   "execution_count": 9,
   "id": "a2918f50",
   "metadata": {
    "scrolled": false
   },
   "outputs": [
    {
     "ename": "KeyError",
     "evalue": "'numax_mean'",
     "output_type": "error",
     "traceback": [
      "\u001b[0;31m---------------------------------------------------------------------------\u001b[0m",
      "\u001b[0;31mKeyError\u001b[0m                                  Traceback (most recent call last)",
      "Input \u001b[0;32mIn [9]\u001b[0m, in \u001b[0;36m<cell line: 4>\u001b[0;34m()\u001b[0m\n\u001b[1;32m      1\u001b[0m f, gs \u001b[38;5;241m=\u001b[39m plt\u001b[38;5;241m.\u001b[39msubplots(\u001b[38;5;241m1\u001b[39m,\u001b[38;5;241m2\u001b[39m,figsize\u001b[38;5;241m=\u001b[39m(\u001b[38;5;241m7\u001b[39m,\u001b[38;5;241m3\u001b[39m))\n\u001b[1;32m      3\u001b[0m ax \u001b[38;5;241m=\u001b[39m gs[\u001b[38;5;241m0\u001b[39m]\n\u001b[1;32m      4\u001b[0m corner\u001b[38;5;241m.\u001b[39mhist2d(\n\u001b[0;32m----> 5\u001b[0m     \u001b[43mjoined\u001b[49m\u001b[43m[\u001b[49m\u001b[38;5;124;43m'\u001b[39;49m\u001b[38;5;124;43mnumax_mean\u001b[39;49m\u001b[38;5;124;43m'\u001b[39;49m\u001b[43m]\u001b[49m,\n\u001b[1;32m      6\u001b[0m     (joined[\u001b[38;5;124m'\u001b[39m\u001b[38;5;124mnumax_mean\u001b[39m\u001b[38;5;124m'\u001b[39m] \u001b[38;5;241m-\u001b[39m nu_max_model)\u001b[38;5;241m/\u001b[39mjoined[\u001b[38;5;124m'\u001b[39m\u001b[38;5;124mnumax_mean\u001b[39m\u001b[38;5;124m'\u001b[39m],\n\u001b[1;32m      7\u001b[0m     ax\u001b[38;5;241m=\u001b[39max,\n\u001b[1;32m      8\u001b[0m     bins\u001b[38;5;241m=\u001b[39m\u001b[38;5;241m20\u001b[39m,\n\u001b[1;32m      9\u001b[0m     \u001b[38;5;28mrange\u001b[39m \u001b[38;5;241m=\u001b[39m [(\u001b[38;5;241m-\u001b[39m\u001b[38;5;241m5\u001b[39m,\u001b[38;5;241m250\u001b[39m),(\u001b[38;5;241m-\u001b[39m\u001b[38;5;241m2\u001b[39m,\u001b[38;5;241m2\u001b[39m)]\n\u001b[1;32m     10\u001b[0m )\n\u001b[1;32m     11\u001b[0m ax\u001b[38;5;241m.\u001b[39mset_xlabel(\u001b[38;5;124mr\u001b[39m\u001b[38;5;124m'\u001b[39m\u001b[38;5;124m$\u001b[39m\u001b[38;5;124m\\\u001b[39m\u001b[38;5;124mnu_\u001b[39m\u001b[38;5;124m\\\u001b[39m\u001b[38;5;124mmathrm\u001b[39m\u001b[38;5;132;01m{max}\u001b[39;00m\u001b[38;5;124m~/~\u001b[39m\u001b[38;5;124m\\\u001b[39m\u001b[38;5;124mmathrm\u001b[39m\u001b[38;5;124m{\u001b[39m\u001b[38;5;124m\\\u001b[39m\u001b[38;5;124mmu}\u001b[39m\u001b[38;5;124m\\\u001b[39m\u001b[38;5;124mmathrm\u001b[39m\u001b[38;5;132;01m{Hz}\u001b[39;00m\u001b[38;5;124m$ (seismic)\u001b[39m\u001b[38;5;124m'\u001b[39m)\n\u001b[1;32m     12\u001b[0m ax\u001b[38;5;241m.\u001b[39mset_ylabel(\u001b[38;5;124mr\u001b[39m\u001b[38;5;124m'\u001b[39m\u001b[38;5;124m$\u001b[39m\u001b[38;5;124m\\\u001b[39m\u001b[38;5;124mDelta\u001b[39m\u001b[38;5;124m\\\u001b[39m\u001b[38;5;124mnu_\u001b[39m\u001b[38;5;124m\\\u001b[39m\u001b[38;5;124mmathrm\u001b[39m\u001b[38;5;132;01m{max}\u001b[39;00m\u001b[38;5;124m/\u001b[39m\u001b[38;5;124m\\\u001b[39m\u001b[38;5;124mnu_\u001b[39m\u001b[38;5;124m\\\u001b[39m\u001b[38;5;124mmathrm\u001b[39m\u001b[38;5;132;01m{max}\u001b[39;00m\u001b[38;5;124m$ (seismic-spectra)\u001b[39m\u001b[38;5;124m'\u001b[39m)\n",
      "File \u001b[0;32m~/opt/anaconda3/lib/python3.9/site-packages/astropy/table/table.py:1882\u001b[0m, in \u001b[0;36mTable.__getitem__\u001b[0;34m(self, item)\u001b[0m\n\u001b[1;32m   1880\u001b[0m \u001b[38;5;28;01mdef\u001b[39;00m \u001b[38;5;21m__getitem__\u001b[39m(\u001b[38;5;28mself\u001b[39m, item):\n\u001b[1;32m   1881\u001b[0m     \u001b[38;5;28;01mif\u001b[39;00m \u001b[38;5;28misinstance\u001b[39m(item, \u001b[38;5;28mstr\u001b[39m):\n\u001b[0;32m-> 1882\u001b[0m         \u001b[38;5;28;01mreturn\u001b[39;00m \u001b[38;5;28;43mself\u001b[39;49m\u001b[38;5;241;43m.\u001b[39;49m\u001b[43mcolumns\u001b[49m\u001b[43m[\u001b[49m\u001b[43mitem\u001b[49m\u001b[43m]\u001b[49m\n\u001b[1;32m   1883\u001b[0m     \u001b[38;5;28;01melif\u001b[39;00m \u001b[38;5;28misinstance\u001b[39m(item, (\u001b[38;5;28mint\u001b[39m, np\u001b[38;5;241m.\u001b[39minteger)):\n\u001b[1;32m   1884\u001b[0m         \u001b[38;5;28;01mreturn\u001b[39;00m \u001b[38;5;28mself\u001b[39m\u001b[38;5;241m.\u001b[39mRow(\u001b[38;5;28mself\u001b[39m, item)\n",
      "File \u001b[0;32m~/opt/anaconda3/lib/python3.9/site-packages/astropy/table/table.py:247\u001b[0m, in \u001b[0;36mTableColumns.__getitem__\u001b[0;34m(self, item)\u001b[0m\n\u001b[1;32m    237\u001b[0m \u001b[38;5;124;03m\"\"\"Get items from a TableColumns object.\u001b[39;00m\n\u001b[1;32m    238\u001b[0m \u001b[38;5;124;03m::\u001b[39;00m\n\u001b[1;32m    239\u001b[0m \n\u001b[0;32m   (...)\u001b[0m\n\u001b[1;32m    244\u001b[0m \u001b[38;5;124;03m  tc[1:3] # <TableColumns names=('b', 'c')>\u001b[39;00m\n\u001b[1;32m    245\u001b[0m \u001b[38;5;124;03m\"\"\"\u001b[39;00m\n\u001b[1;32m    246\u001b[0m \u001b[38;5;28;01mif\u001b[39;00m \u001b[38;5;28misinstance\u001b[39m(item, \u001b[38;5;28mstr\u001b[39m):\n\u001b[0;32m--> 247\u001b[0m     \u001b[38;5;28;01mreturn\u001b[39;00m \u001b[43mOrderedDict\u001b[49m\u001b[38;5;241;43m.\u001b[39;49m\u001b[38;5;21;43m__getitem__\u001b[39;49m\u001b[43m(\u001b[49m\u001b[38;5;28;43mself\u001b[39;49m\u001b[43m,\u001b[49m\u001b[43m \u001b[49m\u001b[43mitem\u001b[49m\u001b[43m)\u001b[49m\n\u001b[1;32m    248\u001b[0m \u001b[38;5;28;01melif\u001b[39;00m \u001b[38;5;28misinstance\u001b[39m(item, (\u001b[38;5;28mint\u001b[39m, np\u001b[38;5;241m.\u001b[39minteger)):\n\u001b[1;32m    249\u001b[0m     \u001b[38;5;28;01mreturn\u001b[39;00m \u001b[38;5;28mlist\u001b[39m(\u001b[38;5;28mself\u001b[39m\u001b[38;5;241m.\u001b[39mvalues())[item]\n",
      "\u001b[0;31mKeyError\u001b[0m: 'numax_mean'"
     ]
    },
    {
     "data": {
      "image/png": "[encoded data removed]",
      "text/plain": [
       "<Figure size 504x216 with 2 Axes>"
      ]
     },
     "metadata": {
      "image/png": {
       "height": 197,
       "width": 435
      },
      "needs_background": "light"
     },
     "output_type": "display_data"
    }
   ],
   "source": [
    "f, gs = plt.subplots(1,2,figsize=(7,3))\n",
    "\n",
    "ax = gs[0]\n",
    "corner.hist2d(\n",
    "    joined['numax_mean'],\n",
    "    (joined['numax_mean'] - nu_max_model)/joined['numax_mean'],\n",
    "    ax=ax,\n",
    "    bins=20,\n",
    "    range = [(-5,250),(-2,2)]\n",
    ")\n",
    "ax.set_xlabel(r'$\\nu_\\mathrm{max}~/~\\mathrm{\\mu}\\mathrm{Hz}$ (seismic)')\n",
    "ax.set_ylabel(r'$\\Delta\\nu_\\mathrm{max}/\\nu_\\mathrm{max}$ (seismic-spectra)')\n",
    "\n",
    "ax = gs[1]\n",
    "corner.hist2d(\n",
    "    logg_seis,\n",
    "    (logg_seis - joined['logg']),\n",
    "    ax=ax,\n",
    "    bins=20,\n",
    "    range = [(1.5,3.5),(-0.75,0.75)]\n",
    ")\n",
    "ax.set_xlabel(r'$\\log (g~/~\\mathrm{cm\\,s^{-2}})$ (seismic)')\n",
    "ax.set_ylabel(r'$\\Delta\\log (g~/~\\mathrm{cm\\,s^{-2}})$ (seismic-spectra)')\n",
    "plt.tight_layout()"
   ]
  },
  {
   "cell_type": "code",
   "execution_count": null,
   "id": "755e6f2a",
   "metadata": {},
   "outputs": [],
   "source": []
  }
 ],
 "metadata": {
  "kernelspec": {
   "display_name": "Python 3 (ipykernel)",
   "language": "python",
   "name": "python3"
  },
  "language_info": {
   "codemirror_mode": {
    "name": "ipython",
    "version": 3
   },
   "file_extension": ".py",
   "mimetype": "text/x-python",
   "name": "python",
   "nbconvert_exporter": "python",
   "pygments_lexer": "ipython3",
   "version": "3.9.12"
  }
 },
 "nbformat": 4,
 "nbformat_minor": 5
}
