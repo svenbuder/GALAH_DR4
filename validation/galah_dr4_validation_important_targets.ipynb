{
 "cells": [
  {
   "cell_type": "markdown",
   "id": "adequate-width",
   "metadata": {},
   "source": [
    "# GALAH DR4: Valdiation of flag_sp"
   ]
  },
  {
   "cell_type": "code",
   "execution_count": 3,
   "id": "pregnant-reverse",
   "metadata": {},
   "outputs": [],
   "source": [
    "# Preamble \n",
    "try:\n",
    "    %matplotlib inline\n",
    "    %config InlineBackend.figure_format='retina'\n",
    "except:\n",
    "    pass\n",
    "\n",
    "import numpy as np\n",
    "import pandas as pd\n",
    "from astropy.table import Table, join\n",
    "import astropy.units as u\n",
    "import matplotlib.pyplot as plt\n",
    "from matplotlib.colors import LogNorm"
   ]
  },
  {
   "cell_type": "code",
   "execution_count": null,
   "id": "dietary-choir",
   "metadata": {},
   "outputs": [],
   "source": [
    "sobject_id = 170205005901355 # HD 121004 from Nissen et al. (2010)\n",
    "sobject_id = 171102005001013 # G112-43 from Nissen et al. (2010)\n",
    "sobject_id = 131216001101122 # Triple!\n",
    "sobject_id = 210915004301310 # interstellar K absorption feature\n",
    "sobject_id = 210325002301359 # Binary star; 2nd peak not found in single star pipeline; Peaks in Residual spectra?"
   ]
  }
 ],
 "metadata": {
  "kernelspec": {
   "display_name": "Python 3",
   "language": "python",
   "name": "python3"
  },
  "language_info": {
   "codemirror_mode": {
    "name": "ipython",
    "version": 3
   },
   "file_extension": ".py",
   "mimetype": "text/x-python",
   "name": "python",
   "nbconvert_exporter": "python",
   "pygments_lexer": "ipython3",
   "version": "3.8.2"
  }
 },
 "nbformat": 4,
 "nbformat_minor": 5
}
