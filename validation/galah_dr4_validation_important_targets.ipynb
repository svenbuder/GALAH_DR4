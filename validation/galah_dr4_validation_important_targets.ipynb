{
 "cells": [
  {
   "cell_type": "markdown",
   "id": "adequate-width",
   "metadata": {},
   "source": [
    "# GALAH DR4: Valdiation of flag_sp"
   ]
  },
  {
   "cell_type": "code",
   "execution_count": 20,
   "id": "pregnant-reverse",
   "metadata": {},
   "outputs": [],
   "source": [
    "# Preamble \n",
    "try:\n",
    "    %matplotlib inline\n",
    "    %config InlineBackend.figure_format='retina'\n",
    "except:\n",
    "    pass\n",
    "\n",
    "import numpy as np\n",
    "import pandas as pd\n",
    "from astropy.table import Table, join\n",
    "import astropy.units as u\n",
    "import matplotlib.pyplot as plt\n",
    "from matplotlib.colors import LogNorm"
   ]
  },
  {
   "cell_type": "code",
   "execution_count": null,
   "id": "dietary-choir",
   "metadata": {},
   "outputs": [],
   "source": [
    "# sobject_id = 170205005901355 # HD 121004 from Nissen et al. (2010)\n",
    "# sobject_id = 171102005001013 # G112-43 from Nissen et al. (2010)\n",
    "# sobject_id = 131216001101122 # Triple!\n",
    "# sobject_id = 210915004301310 # interstellar K absorption feature\n",
    "# sobject_id = 210325002301359 # Binary star; 2nd peak not found in single star pipeline; Peaks in Residual spectra?"
   ]
  },
  {
   "cell_type": "code",
   "execution_count": 21,
   "id": "beginning-offer",
   "metadata": {},
   "outputs": [],
   "source": [
    "allspec = Table.read('../spectrum_post_processing/galah_dr4_allspec_not_validated.fits')"
   ]
  },
  {
   "cell_type": "code",
   "execution_count": 22,
   "id": "precise-nelson",
   "metadata": {},
   "outputs": [],
   "source": [
    "allspec['date'] = np.array([str(x)[:6] for x in allspec['sobject_id']])"
   ]
  },
  {
   "cell_type": "code",
   "execution_count": 23,
   "id": "considerable-celebration",
   "metadata": {},
   "outputs": [
    {
     "data": {
      "text/plain": [
       "36608"
      ]
     },
     "execution_count": 23,
     "metadata": {},
     "output_type": "execute_result"
    }
   ],
   "source": [
    "subset = (\n",
    "    (allspec['setup'] == \"single\") &\n",
    "    (allspec['teff'] >= 4700) &\n",
    "    (allspec['teff'] <= 5000) &\n",
    "    (allspec['logg'] >= 2.1) &\n",
    "    (allspec['logg'] <= 2.5)\n",
    ")\n",
    "len(allspec['sobject_id'][subset])"
   ]
  },
  {
   "cell_type": "code",
   "execution_count": 28,
   "id": "built-water",
   "metadata": {},
   "outputs": [],
   "source": [
    "subset_dates, subset_date_counts = np.unique(allspec['date'][subset],return_counts=True)\n",
    "above170 = subset_date_counts > 170"
   ]
  },
  {
   "cell_type": "code",
   "execution_count": 35,
   "id": "editorial-price",
   "metadata": {
    "scrolled": false
   },
   "outputs": [
    {
     "name": "stdout",
     "output_type": "stream",
     "text": [
      "150428\n",
      "150705\n",
      "150706\n",
      "160327\n",
      "160415\n",
      "160420\n",
      "160519\n",
      "160522\n",
      "160531\n",
      "170413\n",
      "170418\n",
      "170506\n",
      "170507\n",
      "170510\n",
      "170515\n",
      "170531\n",
      "170601\n",
      "170602\n",
      "170603\n",
      "170604\n"
     ]
    }
   ],
   "source": [
    "for date in subset_dates[above170]:\n",
    "    used = subset & (allspec['date'] == date)\n",
    "    np.savetxt('../spectrum_analysis/batches/cross_'+str(date),allspec['sobject_id'][used],fmt='%s')\n",
    "    print(date)\n",
    "    # print(list(allspec['sobject_id'][used]))"
   ]
  },
  {
   "cell_type": "code",
   "execution_count": null,
   "id": "tracked-stamp",
   "metadata": {},
   "outputs": [],
   "source": []
  }
 ],
 "metadata": {
  "kernelspec": {
   "display_name": "Python 3",
   "language": "python",
   "name": "python3"
  },
  "language_info": {
   "codemirror_mode": {
    "name": "ipython",
    "version": 3
   },
   "file_extension": ".py",
   "mimetype": "text/x-python",
   "name": "python",
   "nbconvert_exporter": "python",
   "pygments_lexer": "ipython3",
   "version": "3.8.2"
  }
 },
 "nbformat": 4,
 "nbformat_minor": 5
}
